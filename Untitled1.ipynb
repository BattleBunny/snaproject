{
 "cells": [
  {
   "cell_type": "code",
   "execution_count": 3,
   "id": "012d0d35-dced-4e05-b07f-6a6333982b10",
   "metadata": {
    "execution": {
     "iopub.execute_input": "2021-06-21T15:33:36.494994Z",
     "iopub.status.busy": "2021-06-21T15:33:36.494312Z",
     "iopub.status.idle": "2021-06-21T15:33:36.688859Z",
     "shell.execute_reply": "2021-06-21T15:33:36.688103Z",
     "shell.execute_reply.started": "2021-06-21T15:33:36.494921Z"
    },
    "tags": []
   },
   "outputs": [
    {
     "data": {
      "text/plain": [
       "0.8922307692307694"
      ]
     },
     "execution_count": 3,
     "metadata": {},
     "output_type": "execute_result"
    }
   ],
   "source": [
    "import numpy as np\n",
    "np.mean([0.921,\n",
    "0.893,\n",
    "0.873,\n",
    "0.944,\n",
    "0.945,\n",
    "0.947,\n",
    "0.735,\n",
    "0.835,\n",
    "0.879,\n",
    "0.760,\n",
    "0.944,\n",
    "0.866,\n",
    "0.905,\n",
    "0.936,\n",
    "0.931,\n",
    "0.809,\n",
    "0.803,\n",
    "0.912,\n",
    "0.947,\n",
    "0.936,\n",
    "0.941,\n",
    "0.970,\n",
    "0.965,\n",
    "0.926,\n",
    "0.849,\n",
    "0.826])"
   ]
  },
  {
   "cell_type": "code",
   "execution_count": null,
   "id": "f7ec7a01-4420-4ee0-8883-7f0648d4cea6",
   "metadata": {},
   "outputs": [],
   "source": []
  }
 ],
 "metadata": {
  "kernelspec": {
   "display_name": "Python 3",
   "language": "python",
   "name": "python3"
  },
  "language_info": {
   "codemirror_mode": {
    "name": "ipython",
    "version": 3
   },
   "file_extension": ".py",
   "mimetype": "text/x-python",
   "name": "python",
   "nbconvert_exporter": "python",
   "pygments_lexer": "ipython3",
   "version": "3.9.4"
  }
 },
 "nbformat": 4,
 "nbformat_minor": 5
}
