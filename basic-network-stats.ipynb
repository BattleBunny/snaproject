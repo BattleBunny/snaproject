{
 "cells": [
  {
   "cell_type": "code",
   "execution_count": 37,
   "id": "thorough-central",
   "metadata": {
    "execution": {
     "iopub.execute_input": "2021-02-11T18:23:03.238364Z",
     "iopub.status.busy": "2021-02-11T18:23:03.238077Z",
     "iopub.status.idle": "2021-02-11T18:23:03.251367Z",
     "shell.execute_reply": "2021-02-11T18:23:03.250352Z",
     "shell.execute_reply.started": "2021-02-11T18:23:03.238334Z"
    }
   },
   "outputs": [],
   "source": [
    "import os\n",
    "import joblib\n",
    "\n",
    "import networkx as nx\n",
    "\n",
    "for dirpath, dirnames, filenames in os.walk('.'):\n",
    "  if 'meta' in filenames:\n",
    "    with open(os.path.join(dirpath, 'meta'), 'r') as file: f = file.readlines()\n",
    "    names = {dirpath[-2:]: \n",
    "             line.split(maxsplit=1)[1][:-1] for line in f if line.startswith('name:')}"
   ]
  },
  {
   "cell_type": "code",
   "execution_count": 44,
   "id": "activated-pulse",
   "metadata": {
    "execution": {
     "iopub.execute_input": "2021-02-11T18:28:23.901577Z",
     "iopub.status.busy": "2021-02-11T18:28:23.901111Z",
     "iopub.status.idle": "2021-02-11T18:28:24.492405Z",
     "shell.execute_reply": "2021-02-11T18:28:24.491481Z",
     "shell.execute_reply.started": "2021-02-11T18:28:23.901540Z"
    }
   },
   "outputs": [],
   "source": [
    "all_edgelists = {\n",
    "  dirpath[-2:]: joblib.load(os.path.join(dirpath, 'edgelist.pkl')) \n",
    "  for dirpath, dirnames, files in os.walk('.') if 'edgelist.pkl' in files}"
   ]
  },
  {
   "cell_type": "code",
   "execution_count": null,
   "id": "monthly-domain",
   "metadata": {},
   "outputs": [],
   "source": []
  }
 ],
 "metadata": {
  "kernelspec": {
   "display_name": "Python 3",
   "language": "python",
   "name": "python3"
  },
  "language_info": {
   "codemirror_mode": {
    "name": "ipython",
    "version": 3
   },
   "file_extension": ".py",
   "mimetype": "text/x-python",
   "name": "python",
   "nbconvert_exporter": "python",
   "pygments_lexer": "ipython3",
   "version": "3.9.1"
  }
 },
 "nbformat": 4,
 "nbformat_minor": 5
}
