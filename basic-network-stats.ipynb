{
 "cells": [
  {
   "cell_type": "code",
   "execution_count": 13,
   "id": "sexual-penny",
   "metadata": {
    "execution": {
     "iopub.execute_input": "2021-02-12T09:49:12.810700Z",
     "iopub.status.busy": "2021-02-12T09:49:12.810382Z",
     "iopub.status.idle": "2021-02-12T09:49:12.814251Z",
     "shell.execute_reply": "2021-02-12T09:49:12.813639Z",
     "shell.execute_reply.started": "2021-02-12T09:49:12.810671Z"
    }
   },
   "outputs": [],
   "source": [
    "import os\n",
    "import joblib\n",
    "\n",
    "import networkx as nx\n",
    "import pandas as pd\n",
    "import seaborn as sns\n",
    "from tqdm.auto import tqdm"
   ]
  },
  {
   "cell_type": "code",
   "execution_count": 6,
   "id": "prospective-perception",
   "metadata": {
    "execution": {
     "iopub.execute_input": "2021-02-12T09:43:19.009977Z",
     "iopub.status.busy": "2021-02-12T09:43:19.009755Z",
     "iopub.status.idle": "2021-02-12T09:43:39.216470Z",
     "shell.execute_reply": "2021-02-12T09:43:39.215587Z",
     "shell.execute_reply.started": "2021-02-12T09:43:19.009951Z"
    }
   },
   "outputs": [
    {
     "data": {
      "application/vnd.jupyter.widget-view+json": {
       "model_id": "13d7d97bf16f4ed79eaa9e49ca528220",
       "version_major": 2,
       "version_minor": 0
      },
      "text/plain": [
       "0it [00:00, ?it/s]"
      ]
     },
     "metadata": {},
     "output_type": "display_data"
    }
   ],
   "source": [
    "all_edgelists = {\n",
    "  dirpath[-2:]: joblib.load(os.path.join(dirpath, 'edgelist.pkl')) \n",
    "  for dirpath, dirnames, files in tqdm(os.walk('.')) if 'edgelist.pkl' in files}"
   ]
  },
  {
   "cell_type": "code",
   "execution_count": 19,
   "id": "advised-methodology",
   "metadata": {
    "execution": {
     "iopub.execute_input": "2021-02-12T09:52:19.364581Z",
     "iopub.status.busy": "2021-02-12T09:52:19.364344Z",
     "iopub.status.idle": "2021-02-12T09:53:57.587944Z",
     "shell.execute_reply": "2021-02-12T09:53:57.587066Z",
     "shell.execute_reply.started": "2021-02-12T09:52:19.364553Z"
    }
   },
   "outputs": [
    {
     "data": {
      "application/vnd.jupyter.widget-view+json": {
       "model_id": "2fed1f9c39114519bbc7070c9ea30c87",
       "version_major": 2,
       "version_minor": 0
      },
      "text/plain": [
       "  0%|          | 0/28 [00:00<?, ?it/s]"
      ]
     },
     "metadata": {},
     "output_type": "display_data"
    }
   ],
   "source": [
    "import joblib\n",
    "from tqdm.auto import tqdm\n",
    "\n",
    "class ProgressParallel(joblib.Parallel):\n",
    "    def __init__(self, use_tqdm=True, total=None, desc=None, *args, **kwargs):\n",
    "        self._use_tqdm = use_tqdm\n",
    "        self._total = total\n",
    "        self._desc = desc\n",
    "        super().__init__(*args, **kwargs)\n",
    "\n",
    "    def __call__(self, *args, **kwargs):\n",
    "        with tqdm(disable=not self._use_tqdm, total=self._total, \n",
    "                  desc=self._desc) as self._pbar:\n",
    "            return joblib.Parallel.__call__(self, *args, **kwargs)\n",
    "\n",
    "    def print_progress(self):\n",
    "        if self._total is None:\n",
    "            self._pbar.total = self.n_dispatched_tasks\n",
    "        self._pbar.n = self.n_completed_tasks\n",
    "        self._pbar.refresh()\n",
    "\n",
    "result = ProgressParallel(n_jobs=len(all_edgelists), total=len(all_edgelists))(joblib.delayed(nx.from_pandas_edgelist)(edgelist) for edgelist in all_edgelists.values())"
   ]
  },
  {
   "cell_type": "code",
   "execution_count": 24,
   "id": "fixed-acquisition",
   "metadata": {
    "execution": {
     "iopub.execute_input": "2021-02-12T09:59:48.415354Z",
     "iopub.status.busy": "2021-02-12T09:59:48.415009Z",
     "iopub.status.idle": "2021-02-12T09:59:51.102296Z",
     "shell.execute_reply": "2021-02-12T09:59:51.101532Z",
     "shell.execute_reply.started": "2021-02-12T09:59:48.415321Z"
    }
   },
   "outputs": [],
   "source": []
  },
  {
   "cell_type": "code",
   "execution_count": 36,
   "id": "north-speaking",
   "metadata": {
    "execution": {
     "iopub.execute_input": "2021-02-12T10:16:30.660745Z",
     "iopub.status.busy": "2021-02-12T10:16:30.660400Z",
     "iopub.status.idle": "2021-02-12T10:16:31.063534Z",
     "shell.execute_reply": "2021-02-12T10:16:31.062834Z",
     "shell.execute_reply.started": "2021-02-12T10:16:30.660708Z"
    }
   },
   "outputs": [
    {
     "data": {
      "text/plain": [
       "<AxesSubplot:xlabel='edges', ylabel='nodes'>"
      ]
     },
     "execution_count": 36,
     "metadata": {},
     "output_type": "execute_result"
    },
    {
     "data": {
      "image/png": "[encoded data removed]",
      "text/plain": [
       "<Figure size 432x288 with 1 Axes>"
      ]
     },
     "metadata": {
      "needs_background": "light"
     },
     "output_type": "display_data"
    }
   ],
   "source": [
    "\n",
    "df = pd.DataFrame([dict(edges=graph.number_of_edges(), nodes=graph.number_of_nodes()) for graph in result])\n",
    "df.plot.scatter(x='edges', y='nodes', loglog=True)"
   ]
  },
  {
   "cell_type": "code",
   "execution_count": null,
   "id": "agreed-rochester",
   "metadata": {},
   "outputs": [],
   "source": [
    "feature_dict = dict()\n",
    "for file in os.scandir(f'{dataset_id}/features'):\n",
    "  for file in os.scandir(f'{dataset_id}/features'):\n",
    "    if file.is_file():\n",
    "      feature_dict.update(joblib.load(file.path))\n",
    "targets=joblib.load('01/targets_sampled.pkl')\n",
    "\n",
    "tlp.analysis.get_auc(feature_dict, targets)"
   ]
  }
 ],
 "metadata": {
  "kernelspec": {
   "display_name": "Python 3",
   "language": "python",
   "name": "python3"
  },
  "language_info": {
   "codemirror_mode": {
    "name": "ipython",
    "version": 3
   },
   "file_extension": ".py",
   "mimetype": "text/x-python",
   "name": "python",
   "nbconvert_exporter": "python",
   "pygments_lexer": "ipython3",
   "version": "3.9.1"
  }
 },
 "nbformat": 4,
 "nbformat_minor": 5
}
