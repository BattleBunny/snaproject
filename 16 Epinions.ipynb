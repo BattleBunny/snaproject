{
 "cells": [
  {
   "cell_type": "markdown",
   "id": "dressed-dubai",
   "metadata": {},
   "source": [
    "# Setup"
   ]
  },
  {
   "cell_type": "code",
   "execution_count": 1,
   "id": "fifth-wallet",
   "metadata": {
    "execution": {
     "iopub.execute_input": "2021-02-12T09:40:16.856568Z",
     "iopub.status.busy": "2021-02-12T09:40:16.856330Z",
     "iopub.status.idle": "2021-02-12T09:40:17.697464Z",
     "shell.execute_reply": "2021-02-12T09:40:17.696711Z",
     "shell.execute_reply.started": "2021-02-12T09:40:16.856505Z"
    }
   },
   "outputs": [],
   "source": [
    "import importlib\n",
    "import os\n",
    "\n",
    "import joblib\n",
    "import pandas as pd\n",
    "\n",
    "import tlp\n",
    "\n",
    "url = 'http://konect.cc/files/download.tsv.epinions.tar.bz2'\n",
    "dataset_id = '16'\n",
    "adjusted_intervals = dict(t_split = pd.Timestamp('2001-01-10 00:00:00'))"
   ]
  },
  {
   "cell_type": "markdown",
   "id": "found-analyst",
   "metadata": {},
   "source": [
    "# Download and extract data"
   ]
  },
  {
   "cell_type": "code",
   "execution_count": 2,
   "id": "postal-occasions",
   "metadata": {
    "execution": {
     "iopub.execute_input": "2021-02-12T09:40:17.698479Z",
     "iopub.status.busy": "2021-02-12T09:40:17.698361Z",
     "iopub.status.idle": "2021-02-12T09:40:26.456766Z",
     "shell.execute_reply": "2021-02-12T09:40:26.455461Z",
     "shell.execute_reply.started": "2021-02-12T09:40:17.698464Z"
    }
   },
   "outputs": [
    {
     "name": "stdout",
     "output_type": "stream",
     "text": [
      "This is likely a signed network (weight equals -1). \n",
      "Only positive weights will be used.\n",
      "          \n"
     ]
    }
   ],
   "source": [
    "filepath = f'{dataset_id}/edgelist.pkl'\n",
    "if not os.path.isfile(filepath):\n",
    "  edgelist = tlp.get_edgelist(url, dataset_id, verbose=True)\n",
    "  joblib.dump(edgelist, filepath)"
   ]
  },
  {
   "cell_type": "markdown",
   "id": "registered-commerce",
   "metadata": {},
   "source": [
    "# Splitting"
   ]
  },
  {
   "cell_type": "code",
   "execution_count": 3,
   "id": "straight-tissue",
   "metadata": {
    "execution": {
     "iopub.execute_input": "2021-02-12T09:40:26.458505Z",
     "iopub.status.busy": "2021-02-12T09:40:26.458354Z",
     "iopub.status.idle": "2021-02-12T09:40:26.586876Z",
     "shell.execute_reply": "2021-02-12T09:40:26.585839Z",
     "shell.execute_reply.started": "2021-02-12T09:40:26.458488Z"
    }
   },
   "outputs": [
    {
     "name": "stdout",
     "output_type": "stream",
     "text": [
      "CPU times: user 43 ms, sys: 25.3 ms, total: 68.4 ms\n",
      "Wall time: 122 ms\n"
     ]
    }
   ],
   "source": [
    "%%time\n",
    "filepath_edgelist = f'{dataset_id}/edgelist.pkl'\n",
    "filepath_mature = f'{dataset_id}/edgelist_mature.pkl'\n",
    "filepath_probe = f'{dataset_id}/edgelist_probe.pkl'\n",
    "\n",
    "if not os.path.isfile(filepath_mature) or not os.path.isfile(filepath_probe):\n",
    "  edgelist_mature, edgelist_probe = tlp.split_in_intervals(\n",
    "    edgelist=joblib.load(filepath_edgelist), **adjusted_intervals)\n",
    "  joblib.dump(edgelist_mature, filepath_mature)\n",
    "  joblib.dump(edgelist_probe, filepath_probe)"
   ]
  },
  {
   "cell_type": "markdown",
   "id": "related-exchange",
   "metadata": {},
   "source": [
    "# Instances"
   ]
  },
  {
   "cell_type": "code",
   "execution_count": 4,
   "id": "minute-rwanda",
   "metadata": {
    "execution": {
     "iopub.execute_input": "2021-02-12T09:40:26.588176Z",
     "iopub.status.busy": "2021-02-12T09:40:26.588027Z",
     "iopub.status.idle": "2021-02-12T09:49:37.047887Z",
     "shell.execute_reply": "2021-02-12T09:49:37.046852Z",
     "shell.execute_reply.started": "2021-02-12T09:40:26.588158Z"
    }
   },
   "outputs": [
    {
     "data": {
      "application/vnd.jupyter.widget-view+json": {
       "model_id": "",
       "version_major": 2,
       "version_minor": 0
      },
      "text/plain": [
       "Collecting unconnected pairs of nodes:   0%|          | 0/80222 [00:00<?, ?it/s]"
      ]
     },
     "metadata": {},
     "output_type": "display_data"
    },
    {
     "name": "stdout",
     "output_type": "stream",
     "text": [
      "CPU times: user 9min 4s, sys: 8.14 s, total: 9min 12s\n",
      "Wall time: 9min 10s\n"
     ]
    }
   ],
   "source": [
    "%%time\n",
    "filepath_mature = f'{dataset_id}/edgelist_mature.pkl'\n",
    "filepath_instances = f'{dataset_id}/instances.pkl'\n",
    "\n",
    "if not os.path.isfile(filepath_instances):\n",
    "  instances = tlp.get_instances(edgelist_mature=joblib.load(filepath_mature),\n",
    "    verbose=True)\n",
    "  joblib.dump(instances, filepath_instances)"
   ]
  },
  {
   "cell_type": "markdown",
   "id": "limited-playing",
   "metadata": {},
   "source": [
    "# Targets"
   ]
  },
  {
   "cell_type": "code",
   "execution_count": 5,
   "id": "every-diploma",
   "metadata": {
    "execution": {
     "iopub.execute_input": "2021-02-12T09:49:37.049671Z",
     "iopub.status.busy": "2021-02-12T09:49:37.049538Z",
     "iopub.status.idle": "2021-02-12T09:50:22.123610Z",
     "shell.execute_reply": "2021-02-12T09:50:22.122707Z",
     "shell.execute_reply.started": "2021-02-12T09:49:37.049655Z"
    }
   },
   "outputs": [
    {
     "data": {
      "application/vnd.jupyter.widget-view+json": {
       "model_id": "",
       "version_major": 2,
       "version_minor": 0
      },
      "text/plain": [
       "Determine targets:   0%|          | 0/33271662 [00:00<?, ?it/s]"
      ]
     },
     "metadata": {},
     "output_type": "display_data"
    },
    {
     "name": "stdout",
     "output_type": "stream",
     "text": [
      "CPU times: user 44.2 s, sys: 1.08 s, total: 45.3 s\n",
      "Wall time: 45.1 s\n"
     ]
    }
   ],
   "source": [
    "%%time\n",
    "filepath_instances = f'{dataset_id}/instances.pkl'\n",
    "filepath_probe = f'{dataset_id}/edgelist_probe.pkl'\n",
    "filepath_targets = f'{dataset_id}/targets.pkl'\n",
    "\n",
    "if not os.path.isfile(filepath_targets):\n",
    "  targets = tlp.get_targets(\n",
    "    instances=joblib.load(filepath_instances),\n",
    "    edgelist_probe=joblib.load(filepath_probe),\n",
    "    verbose=True)\n",
    "  joblib.dump(targets, filepath_targets)"
   ]
  },
  {
   "cell_type": "markdown",
   "id": "educational-worst",
   "metadata": {},
   "source": [
    "# Sampling"
   ]
  },
  {
   "cell_type": "code",
   "execution_count": 6,
   "id": "northern-hacker",
   "metadata": {
    "execution": {
     "iopub.execute_input": "2021-02-12T09:50:22.127108Z",
     "iopub.status.busy": "2021-02-12T09:50:22.126988Z",
     "iopub.status.idle": "2021-02-12T09:50:22.906445Z",
     "shell.execute_reply": "2021-02-12T09:50:22.905498Z",
     "shell.execute_reply.started": "2021-02-12T09:50:22.127093Z"
    }
   },
   "outputs": [
    {
     "name": "stdout",
     "output_type": "stream",
     "text": [
      "CPU times: user 677 ms, sys: 70.9 ms, total: 748 ms\n",
      "Wall time: 774 ms\n"
     ]
    }
   ],
   "source": [
    "%%time\n",
    "filepath_instances = f'{dataset_id}/instances.pkl'\n",
    "filepath_targets = f'{dataset_id}/edgelist_targets.pkl'\n",
    "filepath_instances_sampled = f'{dataset_id}/instances_sampled.pkl'\n",
    "filepath_targets_sampled = f'{dataset_id}/targets_sampled.pkl'\n",
    "\n",
    "if not (os.path.isfile(filepath_instances_sampled) and \n",
    "        os.path.isfile(filepath_targets_sampled)):\n",
    "  instances_sampled, targets_sampled = tlp.balanced_sample(instances, targets)\n",
    "  joblib.dump(instances_sampled, f'{dataset_id}/instances_sampled.pkl')\n",
    "  joblib.dump(targets_sampled, f'{dataset_id}/targets_sampled.pkl')"
   ]
  },
  {
   "cell_type": "markdown",
   "id": "equivalent-excess",
   "metadata": {},
   "source": [
    "# Features"
   ]
  },
  {
   "cell_type": "markdown",
   "id": "warming-semester",
   "metadata": {},
   "source": [
    "## AA (time agnostic)"
   ]
  },
  {
   "cell_type": "code",
   "execution_count": 7,
   "id": "developmental-transport",
   "metadata": {
    "execution": {
     "iopub.execute_input": "2021-02-12T09:50:22.907872Z",
     "iopub.status.busy": "2021-02-12T09:50:22.907660Z",
     "iopub.status.idle": "2021-02-12T09:50:27.904432Z",
     "shell.execute_reply": "2021-02-12T09:50:27.903564Z",
     "shell.execute_reply.started": "2021-02-12T09:50:22.907845Z"
    }
   },
   "outputs": [
    {
     "name": "stdout",
     "output_type": "stream",
     "text": [
      "CPU times: user 4.92 s, sys: 62.9 ms, total: 4.99 s\n",
      "Wall time: 4.99 s\n"
     ]
    }
   ],
   "source": [
    "%%time\n",
    "filepath = f'{dataset_id}/features'\n",
    "filepath_mature = f'{dataset_id}/edgelist_mature.pkl'\n",
    "filepath_instances_sampled = f'{dataset_id}/instances_sampled.pkl'\n",
    "\n",
    "adamic_adar_time_agnostic = tlp.features.adamic_adar_time_agnostic(\n",
    "  edgelist=joblib.load(filepath_mature),\n",
    "  instances=joblib.load(filepath_instances_sampled),\n",
    "  path=filepath)"
   ]
  },
  {
   "cell_type": "markdown",
   "id": "productive-slide",
   "metadata": {},
   "source": [
    "## AA (time aware)"
   ]
  },
  {
   "cell_type": "code",
   "execution_count": 8,
   "id": "loaded-hybrid",
   "metadata": {
    "execution": {
     "iopub.execute_input": "2021-02-12T09:50:27.905310Z",
     "iopub.status.busy": "2021-02-12T09:50:27.905197Z",
     "iopub.status.idle": "2021-02-12T09:52:25.941140Z",
     "shell.execute_reply": "2021-02-12T09:52:25.940318Z",
     "shell.execute_reply.started": "2021-02-12T09:50:27.905295Z"
    }
   },
   "outputs": [
    {
     "data": {
      "application/vnd.jupyter.widget-view+json": {
       "model_id": "901cc92170cd46b0b05fbc392818261d",
       "version_major": 2,
       "version_minor": 0
      },
      "text/plain": [
       "time strategies:   0%|          | 0/3 [00:00<?, ?it/s]"
      ]
     },
     "metadata": {},
     "output_type": "display_data"
    },
    {
     "data": {
      "application/vnd.jupyter.widget-view+json": {
       "model_id": "",
       "version_major": 2,
       "version_minor": 0
      },
      "text/plain": [
       "aggregation strategies:   0%|          | 0/4 [00:00<?, ?it/s]"
      ]
     },
     "metadata": {},
     "output_type": "display_data"
    },
    {
     "data": {
      "application/vnd.jupyter.widget-view+json": {
       "model_id": "",
       "version_major": 2,
       "version_minor": 0
      },
      "text/plain": [
       "  0%|          | 0/20000 [00:00<?, ?instances/s]"
      ]
     },
     "metadata": {},
     "output_type": "display_data"
    },
    {
     "data": {
      "application/vnd.jupyter.widget-view+json": {
       "model_id": "",
       "version_major": 2,
       "version_minor": 0
      },
      "text/plain": [
       "  0%|          | 0/20000 [00:00<?, ?instances/s]"
      ]
     },
     "metadata": {},
     "output_type": "display_data"
    },
    {
     "data": {
      "application/vnd.jupyter.widget-view+json": {
       "model_id": "",
       "version_major": 2,
       "version_minor": 0
      },
      "text/plain": [
       "  0%|          | 0/20000 [00:00<?, ?instances/s]"
      ]
     },
     "metadata": {},
     "output_type": "display_data"
    },
    {
     "data": {
      "application/vnd.jupyter.widget-view+json": {
       "model_id": "",
       "version_major": 2,
       "version_minor": 0
      },
      "text/plain": [
       "  0%|          | 0/20000 [00:00<?, ?instances/s]"
      ]
     },
     "metadata": {},
     "output_type": "display_data"
    },
    {
     "data": {
      "application/vnd.jupyter.widget-view+json": {
       "model_id": "",
       "version_major": 2,
       "version_minor": 0
      },
      "text/plain": [
       "aggregation strategies:   0%|          | 0/4 [00:00<?, ?it/s]"
      ]
     },
     "metadata": {},
     "output_type": "display_data"
    },
    {
     "data": {
      "application/vnd.jupyter.widget-view+json": {
       "model_id": "",
       "version_major": 2,
       "version_minor": 0
      },
      "text/plain": [
       "  0%|          | 0/20000 [00:00<?, ?instances/s]"
      ]
     },
     "metadata": {},
     "output_type": "display_data"
    },
    {
     "data": {
      "application/vnd.jupyter.widget-view+json": {
       "model_id": "",
       "version_major": 2,
       "version_minor": 0
      },
      "text/plain": [
       "  0%|          | 0/20000 [00:00<?, ?instances/s]"
      ]
     },
     "metadata": {},
     "output_type": "display_data"
    },
    {
     "data": {
      "application/vnd.jupyter.widget-view+json": {
       "model_id": "",
       "version_major": 2,
       "version_minor": 0
      },
      "text/plain": [
       "  0%|          | 0/20000 [00:00<?, ?instances/s]"
      ]
     },
     "metadata": {},
     "output_type": "display_data"
    },
    {
     "data": {
      "application/vnd.jupyter.widget-view+json": {
       "model_id": "",
       "version_major": 2,
       "version_minor": 0
      },
      "text/plain": [
       "  0%|          | 0/20000 [00:00<?, ?instances/s]"
      ]
     },
     "metadata": {},
     "output_type": "display_data"
    },
    {
     "data": {
      "application/vnd.jupyter.widget-view+json": {
       "model_id": "",
       "version_major": 2,
       "version_minor": 0
      },
      "text/plain": [
       "aggregation strategies:   0%|          | 0/4 [00:00<?, ?it/s]"
      ]
     },
     "metadata": {},
     "output_type": "display_data"
    },
    {
     "data": {
      "application/vnd.jupyter.widget-view+json": {
       "model_id": "",
       "version_major": 2,
       "version_minor": 0
      },
      "text/plain": [
       "  0%|          | 0/20000 [00:00<?, ?instances/s]"
      ]
     },
     "metadata": {},
     "output_type": "display_data"
    },
    {
     "data": {
      "application/vnd.jupyter.widget-view+json": {
       "model_id": "",
       "version_major": 2,
       "version_minor": 0
      },
      "text/plain": [
       "  0%|          | 0/20000 [00:00<?, ?instances/s]"
      ]
     },
     "metadata": {},
     "output_type": "display_data"
    },
    {
     "data": {
      "application/vnd.jupyter.widget-view+json": {
       "model_id": "",
       "version_major": 2,
       "version_minor": 0
      },
      "text/plain": [
       "  0%|          | 0/20000 [00:00<?, ?instances/s]"
      ]
     },
     "metadata": {},
     "output_type": "display_data"
    },
    {
     "data": {
      "application/vnd.jupyter.widget-view+json": {
       "model_id": "",
       "version_major": 2,
       "version_minor": 0
      },
      "text/plain": [
       "  0%|          | 0/20000 [00:00<?, ?instances/s]"
      ]
     },
     "metadata": {},
     "output_type": "display_data"
    },
    {
     "name": "stdout",
     "output_type": "stream",
     "text": [
      "CPU times: user 1min 56s, sys: 4.76 s, total: 2min 1s\n",
      "Wall time: 1min 58s\n"
     ]
    }
   ],
   "source": [
    "%%time\n",
    "filepath = f'{dataset_id}/features'\n",
    "filepath_mature = f'{dataset_id}/edgelist_mature.pkl'\n",
    "filepath_instances_sampled = f'{dataset_id}/instances_sampled.pkl'\n",
    "\n",
    "adamic_adar_time_aware = tlp.features.adamic_adar_time_aware(\n",
    "  edgelist=joblib.load(filepath_mature),\n",
    "  instances=joblib.load(filepath_instances_sampled),\n",
    "  path=filepath,\n",
    "  verbose=True)"
   ]
  },
  {
   "cell_type": "markdown",
   "id": "double-maker",
   "metadata": {},
   "source": [
    "# Analysis"
   ]
  },
  {
   "cell_type": "markdown",
   "id": "decimal-injury",
   "metadata": {},
   "source": [
    "## Figure: Edge distribution with maturing and probing intervals indicated"
   ]
  },
  {
   "cell_type": "code",
   "execution_count": 9,
   "id": "inside-novel",
   "metadata": {
    "execution": {
     "iopub.execute_input": "2021-02-12T09:52:25.942384Z",
     "iopub.status.busy": "2021-02-12T09:52:25.942260Z",
     "iopub.status.idle": "2021-02-12T09:52:25.989562Z",
     "shell.execute_reply": "2021-02-12T09:52:25.989063Z",
     "shell.execute_reply.started": "2021-02-12T09:52:25.942370Z"
    }
   },
   "outputs": [
    {
     "data": {
      "text/plain": [
       "1        2001-01-09 23:00:00\n",
       "581863   2001-01-16 23:00:00\n",
       "582139   2001-01-17 23:00:00\n",
       "582468   2001-01-18 23:00:00\n",
       "582715   2001-01-19 23:00:00\n",
       "                 ...        \n",
       "840329   2003-08-07 22:00:00\n",
       "840489   2003-08-08 22:00:00\n",
       "840791   2003-08-09 22:00:00\n",
       "841139   2003-08-10 22:00:00\n",
       "841335   2003-08-11 22:00:00\n",
       "Name: datetime, Length: 939, dtype: datetime64[ns]"
      ]
     },
     "execution_count": 9,
     "metadata": {},
     "output_type": "execute_result"
    }
   ],
   "source": [
    "joblib.load(f'{dataset_id}/edgelist.pkl')['datetime'].sort_values().drop_duplicates()"
   ]
  },
  {
   "cell_type": "code",
   "execution_count": 10,
   "id": "textile-slide",
   "metadata": {
    "execution": {
     "iopub.execute_input": "2021-02-12T09:52:25.990389Z",
     "iopub.status.busy": "2021-02-12T09:52:25.990275Z",
     "iopub.status.idle": "2021-02-12T09:52:26.222220Z",
     "shell.execute_reply": "2021-02-12T09:52:26.221493Z",
     "shell.execute_reply.started": "2021-02-12T09:52:25.990374Z"
    }
   },
   "outputs": [
    {
     "data": {
      "image/png": "[encoded data removed]",
      "text/plain": [
       "<Figure size 1440x288 with 1 Axes>"
      ]
     },
     "metadata": {
      "needs_background": "light"
     },
     "output_type": "display_data"
    }
   ],
   "source": [
    "tlp.analysis.plot_datetime(\n",
    "  joblib.load(f'{dataset_id}/edgelist.pkl')['datetime'], **adjusted_intervals)"
   ]
  },
  {
   "cell_type": "markdown",
   "id": "different-combat",
   "metadata": {},
   "source": [
    "## Metric: Class imbalance"
   ]
  },
  {
   "cell_type": "code",
   "execution_count": 11,
   "id": "ideal-least",
   "metadata": {
    "execution": {
     "iopub.execute_input": "2021-02-12T09:52:26.223002Z",
     "iopub.status.busy": "2021-02-12T09:52:26.222888Z",
     "iopub.status.idle": "2021-02-12T09:52:26.592504Z",
     "shell.execute_reply": "2021-02-12T09:52:26.591840Z",
     "shell.execute_reply.started": "2021-02-12T09:52:26.222987Z"
    }
   },
   "outputs": [
    {
     "data": {
      "text/html": [
       "<div>\n",
       "<style scoped>\n",
       "    .dataframe tbody tr th:only-of-type {\n",
       "        vertical-align: middle;\n",
       "    }\n",
       "\n",
       "    .dataframe tbody tr th {\n",
       "        vertical-align: top;\n",
       "    }\n",
       "\n",
       "    .dataframe thead th {\n",
       "        text-align: right;\n",
       "    }\n",
       "</style>\n",
       "<table border=\"1\" class=\"dataframe\">\n",
       "  <thead>\n",
       "    <tr style=\"text-align: right;\">\n",
       "      <th></th>\n",
       "      <th>absolute</th>\n",
       "      <th>relative</th>\n",
       "    </tr>\n",
       "  </thead>\n",
       "  <tbody>\n",
       "    <tr>\n",
       "      <th>False</th>\n",
       "      <td>33254179</td>\n",
       "      <td>0.999475</td>\n",
       "    </tr>\n",
       "    <tr>\n",
       "      <th>True</th>\n",
       "      <td>17483</td>\n",
       "      <td>0.000525</td>\n",
       "    </tr>\n",
       "  </tbody>\n",
       "</table>\n",
       "</div>"
      ],
      "text/plain": [
       "       absolute  relative\n",
       "False  33254179  0.999475\n",
       "True      17483  0.000525"
      ]
     },
     "execution_count": 11,
     "metadata": {},
     "output_type": "execute_result"
    }
   ],
   "source": [
    "tlp.analysis.class_imbalance(targets=joblib.load(f'{dataset_id}/targets.pkl'))"
   ]
  },
  {
   "cell_type": "markdown",
   "id": "knowing-shakespeare",
   "metadata": {},
   "source": [
    "## Figure: Datetime strategies"
   ]
  },
  {
   "cell_type": "code",
   "execution_count": 12,
   "id": "patient-portuguese",
   "metadata": {
    "execution": {
     "iopub.execute_input": "2021-02-12T09:52:26.593298Z",
     "iopub.status.busy": "2021-02-12T09:52:26.593185Z",
     "iopub.status.idle": "2021-02-12T09:52:26.769955Z",
     "shell.execute_reply": "2021-02-12T09:52:26.769299Z",
     "shell.execute_reply.started": "2021-02-12T09:52:26.593284Z"
    }
   },
   "outputs": [
    {
     "name": "stderr",
     "output_type": "stream",
     "text": [
      "/scratch/bruingjde/miniconda3/envs/tlp/lib/python3.9/site-packages/pandas/plotting/_matplotlib/core.py:506: UserWarning: Attempting to set identical left == right == 11331.958333333334 results in singular transformations; automatically expanding.\n",
      "  ax.set_xlim(self.xlim)\n"
     ]
    },
    {
     "data": {
      "image/png": "[encoded data removed]",
      "text/plain": [
       "<Figure size 288x288 with 1 Axes>"
      ]
     },
     "metadata": {
      "needs_background": "light"
     },
     "output_type": "display_data"
    }
   ],
   "source": [
    "edgelist = joblib.load(f'{dataset_id}/edgelist_mature.pkl')\n",
    "t = tlp.analysis.plot_datetime_strategies(edgelist['datetime'])"
   ]
  },
  {
   "cell_type": "markdown",
   "id": "catholic-junior",
   "metadata": {},
   "source": [
    "## Figure: Datetime distribution"
   ]
  },
  {
   "cell_type": "code",
   "execution_count": 13,
   "id": "selected-adelaide",
   "metadata": {
    "execution": {
     "iopub.execute_input": "2021-02-12T09:52:26.770876Z",
     "iopub.status.busy": "2021-02-12T09:52:26.770759Z",
     "iopub.status.idle": "2021-02-12T09:52:27.624444Z",
     "shell.execute_reply": "2021-02-12T09:52:27.623605Z",
     "shell.execute_reply.started": "2021-02-12T09:52:26.770861Z"
    }
   },
   "outputs": [
    {
     "ename": "KeyError",
     "evalue": "'pop from an empty set'",
     "output_type": "error",
     "traceback": [
      "\u001b[0;31m---------------------------------------------------------------------------\u001b[0m",
      "\u001b[0;31mKeyError\u001b[0m                                  Traceback (most recent call last)",
      "\u001b[0;32m<ipython-input-13-60bf3f6b1922>\u001b[0m in \u001b[0;36m<module>\u001b[0;34m\u001b[0m\n\u001b[1;32m      1\u001b[0m \u001b[0medgelist\u001b[0m \u001b[0;34m=\u001b[0m \u001b[0mjoblib\u001b[0m\u001b[0;34m.\u001b[0m\u001b[0mload\u001b[0m\u001b[0;34m(\u001b[0m\u001b[0;34mf'{dataset_id}/edgelist_mature.pkl'\u001b[0m\u001b[0;34m)\u001b[0m\u001b[0;34m\u001b[0m\u001b[0;34m\u001b[0m\u001b[0m\n\u001b[0;32m----> 2\u001b[0;31m \u001b[0mtlp\u001b[0m\u001b[0;34m.\u001b[0m\u001b[0manalysis\u001b[0m\u001b[0;34m.\u001b[0m\u001b[0mplot_datetime_distribution\u001b[0m\u001b[0;34m(\u001b[0m\u001b[0medgelist\u001b[0m\u001b[0;34m[\u001b[0m\u001b[0;34m'datetime'\u001b[0m\u001b[0;34m]\u001b[0m\u001b[0;34m)\u001b[0m\u001b[0;34m\u001b[0m\u001b[0;34m\u001b[0m\u001b[0m\n\u001b[0m",
      "\u001b[0;32m/data/bruingjde/temporalLinkprediction/tlp/analysis.py\u001b[0m in \u001b[0;36mplot_datetime_distribution\u001b[0;34m(datetimes, time_strategies)\u001b[0m\n\u001b[1;32m    229\u001b[0m   \u001b[0mrc\u001b[0m \u001b[0;34m=\u001b[0m \u001b[0;34m{\u001b[0m\u001b[0;34m'xtick.top'\u001b[0m\u001b[0;34m:\u001b[0m \u001b[0;32mTrue\u001b[0m\u001b[0;34m,\u001b[0m \u001b[0;34m'ytick.right'\u001b[0m\u001b[0;34m:\u001b[0m \u001b[0;32mTrue\u001b[0m\u001b[0;34m,\u001b[0m \u001b[0;34m'figure.figsize'\u001b[0m\u001b[0;34m:\u001b[0m \u001b[0;34m(\u001b[0m\u001b[0;36m4\u001b[0m\u001b[0;34m,\u001b[0m\u001b[0;36m4\u001b[0m\u001b[0;34m)\u001b[0m\u001b[0;34m}\u001b[0m\u001b[0;34m\u001b[0m\u001b[0;34m\u001b[0m\u001b[0m\n\u001b[1;32m    230\u001b[0m   \u001b[0;32mwith\u001b[0m \u001b[0mplt\u001b[0m\u001b[0;34m.\u001b[0m\u001b[0mrc_context\u001b[0m\u001b[0;34m(\u001b[0m\u001b[0mrc\u001b[0m\u001b[0;34m)\u001b[0m\u001b[0;34m,\u001b[0m \u001b[0msns\u001b[0m\u001b[0;34m.\u001b[0m\u001b[0maxes_style\u001b[0m\u001b[0;34m(\u001b[0m\u001b[0;34m'ticks'\u001b[0m\u001b[0;34m)\u001b[0m\u001b[0;34m:\u001b[0m\u001b[0;34m\u001b[0m\u001b[0;34m\u001b[0m\u001b[0m\n\u001b[0;32m--> 231\u001b[0;31m     \u001b[0max\u001b[0m \u001b[0;34m=\u001b[0m \u001b[0msns\u001b[0m\u001b[0;34m.\u001b[0m\u001b[0mecdfplot\u001b[0m\u001b[0;34m(\u001b[0m\u001b[0mdata\u001b[0m\u001b[0;34m=\u001b[0m\u001b[0mdata\u001b[0m\u001b[0;34m,\u001b[0m \u001b[0mx\u001b[0m\u001b[0;34m=\u001b[0m\u001b[0;34m'datetime'\u001b[0m\u001b[0;34m,\u001b[0m \u001b[0mhue\u001b[0m\u001b[0;34m=\u001b[0m\u001b[0;34m'Time strategy'\u001b[0m\u001b[0;34m)\u001b[0m\u001b[0;34m\u001b[0m\u001b[0;34m\u001b[0m\u001b[0m\n\u001b[0m\u001b[1;32m    232\u001b[0m     \u001b[0max\u001b[0m\u001b[0;34m.\u001b[0m\u001b[0mset_xlim\u001b[0m\u001b[0;34m(\u001b[0m\u001b[0;34m(\u001b[0m\u001b[0;36m0\u001b[0m\u001b[0;34m,\u001b[0m\u001b[0;36m1\u001b[0m\u001b[0;34m)\u001b[0m\u001b[0;34m)\u001b[0m \u001b[0;31m# type: ignore\u001b[0m\u001b[0;34m\u001b[0m\u001b[0;34m\u001b[0m\u001b[0m\n\u001b[1;32m    233\u001b[0m     \u001b[0max\u001b[0m\u001b[0;34m.\u001b[0m\u001b[0mxaxis\u001b[0m\u001b[0;34m.\u001b[0m\u001b[0mset_minor_locator\u001b[0m\u001b[0;34m(\u001b[0m\u001b[0mmatplotlib\u001b[0m\u001b[0;34m.\u001b[0m\u001b[0mticker\u001b[0m\u001b[0;34m.\u001b[0m\u001b[0mMultipleLocator\u001b[0m\u001b[0;34m(\u001b[0m\u001b[0;36m.1\u001b[0m\u001b[0;34m)\u001b[0m\u001b[0;34m)\u001b[0m \u001b[0;31m# type: ignore\u001b[0m\u001b[0;34m\u001b[0m\u001b[0;34m\u001b[0m\u001b[0m\n",
      "\u001b[0;32m/scratch/bruingjde/miniconda3/envs/tlp/lib/python3.9/site-packages/seaborn/distributions.py\u001b[0m in \u001b[0;36mecdfplot\u001b[0;34m(data, x, y, hue, weights, stat, complementary, palette, hue_order, hue_norm, log_scale, legend, ax, **kwargs)\u001b[0m\n\u001b[1;32m   1948\u001b[0m     )\n\u001b[1;32m   1949\u001b[0m \u001b[0;34m\u001b[0m\u001b[0m\n\u001b[0;32m-> 1950\u001b[0;31m     p.plot_univariate_ecdf(\n\u001b[0m\u001b[1;32m   1951\u001b[0m         \u001b[0mestimate_kws\u001b[0m\u001b[0;34m=\u001b[0m\u001b[0mestimate_kws\u001b[0m\u001b[0;34m,\u001b[0m\u001b[0;34m\u001b[0m\u001b[0;34m\u001b[0m\u001b[0m\n\u001b[1;32m   1952\u001b[0m         \u001b[0mlegend\u001b[0m\u001b[0;34m=\u001b[0m\u001b[0mlegend\u001b[0m\u001b[0;34m,\u001b[0m\u001b[0;34m\u001b[0m\u001b[0;34m\u001b[0m\u001b[0m\n",
      "\u001b[0;32m/scratch/bruingjde/miniconda3/envs/tlp/lib/python3.9/site-packages/seaborn/distributions.py\u001b[0m in \u001b[0;36mplot_univariate_ecdf\u001b[0;34m(self, estimate_kws, legend, **plot_kws)\u001b[0m\n\u001b[1;32m   1223\u001b[0m         \u001b[0;31m# Set the draw style to step the right way for the data varible\u001b[0m\u001b[0;34m\u001b[0m\u001b[0;34m\u001b[0m\u001b[0;34m\u001b[0m\u001b[0m\n\u001b[1;32m   1224\u001b[0m         \u001b[0mdrawstyles\u001b[0m \u001b[0;34m=\u001b[0m \u001b[0mdict\u001b[0m\u001b[0;34m(\u001b[0m\u001b[0mx\u001b[0m\u001b[0;34m=\u001b[0m\u001b[0;34m\"steps-post\"\u001b[0m\u001b[0;34m,\u001b[0m \u001b[0my\u001b[0m\u001b[0;34m=\u001b[0m\u001b[0;34m\"steps-pre\"\u001b[0m\u001b[0;34m)\u001b[0m\u001b[0;34m\u001b[0m\u001b[0;34m\u001b[0m\u001b[0m\n\u001b[0;32m-> 1225\u001b[0;31m         \u001b[0mplot_kws\u001b[0m\u001b[0;34m[\u001b[0m\u001b[0;34m\"drawstyle\"\u001b[0m\u001b[0;34m]\u001b[0m \u001b[0;34m=\u001b[0m \u001b[0mdrawstyles\u001b[0m\u001b[0;34m[\u001b[0m\u001b[0mself\u001b[0m\u001b[0;34m.\u001b[0m\u001b[0mdata_variable\u001b[0m\u001b[0;34m]\u001b[0m\u001b[0;34m\u001b[0m\u001b[0;34m\u001b[0m\u001b[0m\n\u001b[0m\u001b[1;32m   1226\u001b[0m \u001b[0;34m\u001b[0m\u001b[0m\n\u001b[1;32m   1227\u001b[0m         \u001b[0;31m# Loop through the subsets, transform and plot the data\u001b[0m\u001b[0;34m\u001b[0m\u001b[0;34m\u001b[0m\u001b[0;34m\u001b[0m\u001b[0m\n",
      "\u001b[0;32m/scratch/bruingjde/miniconda3/envs/tlp/lib/python3.9/site-packages/seaborn/distributions.py\u001b[0m in \u001b[0;36mdata_variable\u001b[0;34m(self)\u001b[0m\n\u001b[1;32m    124\u001b[0m         \u001b[0;32mif\u001b[0m \u001b[0;32mnot\u001b[0m \u001b[0mself\u001b[0m\u001b[0;34m.\u001b[0m\u001b[0munivariate\u001b[0m\u001b[0;34m:\u001b[0m\u001b[0;34m\u001b[0m\u001b[0;34m\u001b[0m\u001b[0m\n\u001b[1;32m    125\u001b[0m             \u001b[0;32mraise\u001b[0m \u001b[0mAttributeError\u001b[0m\u001b[0;34m(\u001b[0m\u001b[0;34m\"This is not a univariate plot\"\u001b[0m\u001b[0;34m)\u001b[0m\u001b[0;34m\u001b[0m\u001b[0;34m\u001b[0m\u001b[0m\n\u001b[0;32m--> 126\u001b[0;31m         \u001b[0;32mreturn\u001b[0m \u001b[0;34m{\u001b[0m\u001b[0;34m\"x\"\u001b[0m\u001b[0;34m,\u001b[0m \u001b[0;34m\"y\"\u001b[0m\u001b[0;34m}\u001b[0m\u001b[0;34m.\u001b[0m\u001b[0mintersection\u001b[0m\u001b[0;34m(\u001b[0m\u001b[0mself\u001b[0m\u001b[0;34m.\u001b[0m\u001b[0mvariables\u001b[0m\u001b[0;34m)\u001b[0m\u001b[0;34m.\u001b[0m\u001b[0mpop\u001b[0m\u001b[0;34m(\u001b[0m\u001b[0;34m)\u001b[0m\u001b[0;34m\u001b[0m\u001b[0;34m\u001b[0m\u001b[0m\n\u001b[0m\u001b[1;32m    127\u001b[0m \u001b[0;34m\u001b[0m\u001b[0m\n\u001b[1;32m    128\u001b[0m     \u001b[0;34m@\u001b[0m\u001b[0mproperty\u001b[0m\u001b[0;34m\u001b[0m\u001b[0;34m\u001b[0m\u001b[0m\n",
      "\u001b[0;31mKeyError\u001b[0m: 'pop from an empty set'"
     ]
    },
    {
     "data": {
      "image/png": "[encoded data removed]",
      "text/plain": [
       "<Figure size 288x288 with 1 Axes>"
      ]
     },
     "metadata": {},
     "output_type": "display_data"
    }
   ],
   "source": [
    "edgelist = joblib.load(f'{dataset_id}/edgelist_mature.pkl')\n",
    "tlp.analysis.plot_datetime_distribution(edgelist['datetime'])"
   ]
  },
  {
   "cell_type": "markdown",
   "id": "entire-mountain",
   "metadata": {},
   "source": [
    "## Figure: Scores"
   ]
  },
  {
   "cell_type": "code",
   "execution_count": null,
   "id": "stunning-integrity",
   "metadata": {
    "execution": {
     "iopub.status.busy": "2021-02-12T09:52:27.625096Z",
     "iopub.status.idle": "2021-02-12T09:52:27.625271Z",
     "shell.execute_reply": "2021-02-12T09:52:27.625183Z"
    }
   },
   "outputs": [],
   "source": [
    "feature_dict = dict()\n",
    "for file in os.scandir(f'{dataset_id}/features'):\n",
    "  if file.is_file():\n",
    "    feature_dict.update(joblib.load(file.path))\n",
    "targets=joblib.load('01/targets_sampled.pkl')\n",
    "\n",
    "tlp.analysis.plot_score(feature_dict, targets)"
   ]
  },
  {
   "cell_type": "markdown",
   "id": "honest-change",
   "metadata": {},
   "source": [
    "## Figure: ROC"
   ]
  },
  {
   "cell_type": "code",
   "execution_count": null,
   "id": "champion-benchmark",
   "metadata": {
    "execution": {
     "iopub.status.busy": "2021-02-12T09:52:27.625864Z",
     "iopub.status.idle": "2021-02-12T09:52:27.626029Z",
     "shell.execute_reply": "2021-02-12T09:52:27.625946Z"
    }
   },
   "outputs": [],
   "source": [
    "feature_dict = dict()\n",
    "for file in os.scandir(f'{dataset_id}/features'):\n",
    "  if file.is_file():\n",
    "    feature_dict.update(joblib.load(file.path))\n",
    "targets=joblib.load('01/targets_sampled.pkl')\n",
    "\n",
    "tlp.analysis.plot_roc_auc(feature_dict, targets)"
   ]
  },
  {
   "cell_type": "markdown",
   "id": "different-equilibrium",
   "metadata": {},
   "source": [
    "## AUC"
   ]
  },
  {
   "cell_type": "code",
   "execution_count": null,
   "id": "noble-enforcement",
   "metadata": {
    "execution": {
     "iopub.status.busy": "2021-02-12T09:52:27.626425Z",
     "iopub.status.idle": "2021-02-12T09:52:27.626575Z",
     "shell.execute_reply": "2021-02-12T09:52:27.626499Z"
    }
   },
   "outputs": [],
   "source": [
    "feature_dict = dict()\n",
    "for file in os.scandir(f'{dataset_id}/features'):\n",
    "  for file in os.scandir(f'{dataset_id}/features'):\n",
    "    if file.is_file():\n",
    "      feature_dict.update(joblib.load(file.path))\n",
    "targets=joblib.load('01/targets_sampled.pkl')\n",
    "\n",
    "tlp.analysis.get_auc(feature_dict, targets)"
   ]
  }
 ],
 "metadata": {
  "kernelspec": {
   "display_name": "Python 3",
   "language": "python",
   "name": "python3"
  },
  "language_info": {
   "codemirror_mode": {
    "name": "ipython",
    "version": 3
   },
   "file_extension": ".py",
   "mimetype": "text/x-python",
   "name": "python",
   "nbconvert_exporter": "python",
   "pygments_lexer": "ipython3",
   "version": "3.9.1"
  },
  "toc-autonumbering": true
 },
 "nbformat": 4,
 "nbformat_minor": 5
}
