{
 "cells": [
  {
   "cell_type": "code",
   "execution_count": 1,
   "id": "solved-national",
   "metadata": {
    "execution": {
     "iopub.execute_input": "2021-03-12T11:47:46.147932Z",
     "iopub.status.busy": "2021-03-12T11:47:46.147567Z",
     "iopub.status.idle": "2021-03-12T11:47:47.684913Z",
     "shell.execute_reply": "2021-03-12T11:47:47.684166Z",
     "shell.execute_reply.started": "2021-03-12T11:47:46.147841Z"
    },
    "tags": []
   },
   "outputs": [
    {
     "name": "stdout",
     "output_type": "stream",
     "text": [
      "/scratch/bruingjde/SNAM2021-code\n"
     ]
    }
   ],
   "source": [
    "%cd /scratch/bruingjde/SNAM2021-code/\n",
    "\n",
    "from constants import *"
   ]
  },
  {
   "cell_type": "markdown",
   "id": "experienced-triumph",
   "metadata": {},
   "source": [
    "# Stats"
   ]
  },
  {
   "cell_type": "code",
   "execution_count": 2,
   "id": "informative-structure",
   "metadata": {
    "execution": {
     "iopub.execute_input": "2021-03-12T11:47:48.867049Z",
     "iopub.status.busy": "2021-03-12T11:47:48.866727Z",
     "iopub.status.idle": "2021-03-12T11:47:48.874912Z",
     "shell.execute_reply": "2021-03-12T11:47:48.874129Z",
     "shell.execute_reply.started": "2021-03-12T11:47:48.867015Z"
    },
    "tags": []
   },
   "outputs": [],
   "source": [
    "networks = get_networks()"
   ]
  },
  {
   "cell_type": "code",
   "execution_count": 3,
   "id": "smaller-windsor",
   "metadata": {
    "execution": {
     "iopub.execute_input": "2021-03-12T11:47:49.138670Z",
     "iopub.status.busy": "2021-03-12T11:47:49.138287Z",
     "iopub.status.idle": "2021-03-12T11:47:49.164259Z",
     "shell.execute_reply": "2021-03-12T11:47:49.163305Z",
     "shell.execute_reply.started": "2021-03-12T11:47:49.138631Z"
    },
    "tags": []
   },
   "outputs": [
    {
     "data": {
      "text/html": [
       "<div>\n",
       "<style scoped>\n",
       "    .dataframe tbody tr th:only-of-type {\n",
       "        vertical-align: middle;\n",
       "    }\n",
       "\n",
       "    .dataframe tbody tr th {\n",
       "        vertical-align: top;\n",
       "    }\n",
       "\n",
       "    .dataframe thead th {\n",
       "        text-align: right;\n",
       "    }\n",
       "</style>\n",
       "<table border=\"1\" class=\"dataframe\">\n",
       "  <thead>\n",
       "    <tr style=\"text-align: right;\">\n",
       "      <th></th>\n",
       "      <th>label</th>\n",
       "      <th>old_category</th>\n",
       "      <th>source</th>\n",
       "      <th>category</th>\n",
       "    </tr>\n",
       "  </thead>\n",
       "  <tbody>\n",
       "    <tr>\n",
       "      <th>1</th>\n",
       "      <td>DBLP</td>\n",
       "      <td>Coauthorship</td>\n",
       "      <td>Ley2002</td>\n",
       "      <td>social</td>\n",
       "    </tr>\n",
       "    <tr>\n",
       "      <th>2</th>\n",
       "      <td>HepPh</td>\n",
       "      <td>Cocitation</td>\n",
       "      <td>Leskovec2007</td>\n",
       "      <td>information</td>\n",
       "    </tr>\n",
       "    <tr>\n",
       "      <th>3</th>\n",
       "      <td>Enron</td>\n",
       "      <td>Communication</td>\n",
       "      <td>Klimt2004</td>\n",
       "      <td>social</td>\n",
       "    </tr>\n",
       "    <tr>\n",
       "      <th>4</th>\n",
       "      <td>FB-w</td>\n",
       "      <td>Social</td>\n",
       "      <td>Viswanath2009</td>\n",
       "      <td>social</td>\n",
       "    </tr>\n",
       "    <tr>\n",
       "      <th>5</th>\n",
       "      <td>Condm</td>\n",
       "      <td>Coauthorship</td>\n",
       "      <td>Lichtenwalter2010</td>\n",
       "      <td>social</td>\n",
       "    </tr>\n",
       "    <tr>\n",
       "      <th>6</th>\n",
       "      <td>HepTh</td>\n",
       "      <td>Cocitation</td>\n",
       "      <td>Leskovec2007</td>\n",
       "      <td>information</td>\n",
       "    </tr>\n",
       "    <tr>\n",
       "      <th>7</th>\n",
       "      <td>AMin</td>\n",
       "      <td>Coauthorship</td>\n",
       "      <td>Zhuang2013</td>\n",
       "      <td>social</td>\n",
       "    </tr>\n",
       "    <tr>\n",
       "      <th>8</th>\n",
       "      <td>FB-l</td>\n",
       "      <td>Social</td>\n",
       "      <td>Viswanath2009</td>\n",
       "      <td>social</td>\n",
       "    </tr>\n",
       "    <tr>\n",
       "      <th>9</th>\n",
       "      <td>D-rep</td>\n",
       "      <td>Communication</td>\n",
       "      <td>DeChoudhury2009</td>\n",
       "      <td>social</td>\n",
       "    </tr>\n",
       "    <tr>\n",
       "      <th>10</th>\n",
       "      <td>D-f</td>\n",
       "      <td>Social</td>\n",
       "      <td>Hogg2010</td>\n",
       "      <td>social</td>\n",
       "    </tr>\n",
       "    <tr>\n",
       "      <th>11</th>\n",
       "      <td>D-v</td>\n",
       "      <td>Rating</td>\n",
       "      <td>Hogg2010</td>\n",
       "      <td>information</td>\n",
       "    </tr>\n",
       "    <tr>\n",
       "      <th>12</th>\n",
       "      <td>Rado</td>\n",
       "      <td>Communication</td>\n",
       "      <td>Michalski2011</td>\n",
       "      <td>social</td>\n",
       "    </tr>\n",
       "    <tr>\n",
       "      <th>13</th>\n",
       "      <td>UC</td>\n",
       "      <td>Interaction</td>\n",
       "      <td>Opsahl2013</td>\n",
       "      <td>information</td>\n",
       "    </tr>\n",
       "    <tr>\n",
       "      <th>14</th>\n",
       "      <td>SX-MO</td>\n",
       "      <td>OnlineContact</td>\n",
       "      <td>Paranjape2017</td>\n",
       "      <td>social</td>\n",
       "    </tr>\n",
       "    <tr>\n",
       "      <th>16</th>\n",
       "      <td>trust</td>\n",
       "      <td>Social</td>\n",
       "      <td>Richardson2003</td>\n",
       "      <td>social</td>\n",
       "    </tr>\n",
       "    <tr>\n",
       "      <th>18</th>\n",
       "      <td>bitA</td>\n",
       "      <td>Social</td>\n",
       "      <td>Kumar2017</td>\n",
       "      <td>social</td>\n",
       "    </tr>\n",
       "    <tr>\n",
       "      <th>19</th>\n",
       "      <td>Dem</td>\n",
       "      <td>Social</td>\n",
       "      <td>Wikileaks</td>\n",
       "      <td>social</td>\n",
       "    </tr>\n",
       "    <tr>\n",
       "      <th>20</th>\n",
       "      <td>bitOT</td>\n",
       "      <td>Coauthorship</td>\n",
       "      <td>Kumar2017</td>\n",
       "      <td>social</td>\n",
       "    </tr>\n",
       "    <tr>\n",
       "      <th>21</th>\n",
       "      <td>chess</td>\n",
       "      <td>Interaction</td>\n",
       "      <td>konect</td>\n",
       "      <td>information</td>\n",
       "    </tr>\n",
       "    <tr>\n",
       "      <th>22</th>\n",
       "      <td>SX-AU</td>\n",
       "      <td>OnlineContact</td>\n",
       "      <td>Paranjape2017</td>\n",
       "      <td>social</td>\n",
       "    </tr>\n",
       "    <tr>\n",
       "      <th>23</th>\n",
       "      <td>SX-SU</td>\n",
       "      <td>OnlineContact</td>\n",
       "      <td>Paranjape2017</td>\n",
       "      <td>social</td>\n",
       "    </tr>\n",
       "    <tr>\n",
       "      <th>24</th>\n",
       "      <td>loans</td>\n",
       "      <td>Interaction</td>\n",
       "      <td>Redmond2013</td>\n",
       "      <td>information</td>\n",
       "    </tr>\n",
       "    <tr>\n",
       "      <th>25</th>\n",
       "      <td>Wiki</td>\n",
       "      <td>OnlineContact</td>\n",
       "      <td>Brandes2009</td>\n",
       "      <td>social</td>\n",
       "    </tr>\n",
       "    <tr>\n",
       "      <th>28</th>\n",
       "      <td>Rbody</td>\n",
       "      <td>Hyperlink</td>\n",
       "      <td>Kumar2018</td>\n",
       "      <td>technological</td>\n",
       "    </tr>\n",
       "    <tr>\n",
       "      <th>29</th>\n",
       "      <td>Rtit</td>\n",
       "      <td>Hyperlink</td>\n",
       "      <td>Kumar2018</td>\n",
       "      <td>technological</td>\n",
       "    </tr>\n",
       "    <tr>\n",
       "      <th>30</th>\n",
       "      <td>EU</td>\n",
       "      <td>Communication</td>\n",
       "      <td>Yin2017</td>\n",
       "      <td>social</td>\n",
       "    </tr>\n",
       "  </tbody>\n",
       "</table>\n",
       "</div>"
      ],
      "text/plain": [
       "    label   old_category             source       category\n",
       "1    DBLP   Coauthorship            Ley2002         social\n",
       "2   HepPh     Cocitation       Leskovec2007    information\n",
       "3   Enron  Communication          Klimt2004         social\n",
       "4    FB-w         Social      Viswanath2009         social\n",
       "5   Condm   Coauthorship  Lichtenwalter2010         social\n",
       "6   HepTh     Cocitation       Leskovec2007    information\n",
       "7    AMin   Coauthorship         Zhuang2013         social\n",
       "8    FB-l         Social      Viswanath2009         social\n",
       "9   D-rep  Communication    DeChoudhury2009         social\n",
       "10    D-f         Social           Hogg2010         social\n",
       "11    D-v         Rating           Hogg2010    information\n",
       "12   Rado  Communication      Michalski2011         social\n",
       "13     UC    Interaction         Opsahl2013    information\n",
       "14  SX-MO  OnlineContact      Paranjape2017         social\n",
       "16  trust         Social     Richardson2003         social\n",
       "18   bitA         Social          Kumar2017         social\n",
       "19    Dem         Social          Wikileaks         social\n",
       "20  bitOT   Coauthorship          Kumar2017         social\n",
       "21  chess    Interaction             konect    information\n",
       "22  SX-AU  OnlineContact      Paranjape2017         social\n",
       "23  SX-SU  OnlineContact      Paranjape2017         social\n",
       "24  loans    Interaction        Redmond2013    information\n",
       "25   Wiki  OnlineContact        Brandes2009         social\n",
       "28  Rbody      Hyperlink          Kumar2018  technological\n",
       "29   Rtit      Hyperlink          Kumar2018  technological\n",
       "30     EU  Communication            Yin2017         social"
      ]
     },
     "execution_count": 3,
     "metadata": {},
     "output_type": "execute_result"
    }
   ],
   "source": [
    "networks"
   ]
  },
  {
   "cell_type": "markdown",
   "id": "accredited-rolling",
   "metadata": {},
   "source": [
    "# Node temporal and static features"
   ]
  },
  {
   "cell_type": "code",
   "execution_count": 4,
   "id": "capable-junction",
   "metadata": {
    "execution": {
     "iopub.execute_input": "2021-03-12T11:47:49.585926Z",
     "iopub.status.busy": "2021-03-12T11:47:49.585545Z",
     "iopub.status.idle": "2021-03-12T11:48:16.622991Z",
     "shell.execute_reply": "2021-03-12T11:48:16.622206Z",
     "shell.execute_reply.started": "2021-03-12T11:47:49.585889Z"
    },
    "tags": []
   },
   "outputs": [
    {
     "data": {
      "text/plain": [
       "{1: 0.7863368130222413,\n",
       " 2: 0.8678968872641256,\n",
       " 3: 0.9086659447392743,\n",
       " 4: 0.7876310735548301,\n",
       " 5: 0.7277449748421873,\n",
       " 6: 0.8191010910561745,\n",
       " 7: 0.8164537020101426,\n",
       " 8: 0.7754645567240421,\n",
       " 9: 0.8652394984383198,\n",
       " 10: 0.9237725794255673,\n",
       " 11: 0.9389420566807009,\n",
       " 12: 0.9018214701563307,\n",
       " 13: 0.8734475157130799,\n",
       " 14: 0.9327159510113384,\n",
       " 16: 0.9374635890154469,\n",
       " 18: 0.9402108424819104,\n",
       " 19: 0.9378060495977154,\n",
       " 20: 0.9393023587357804,\n",
       " 21: 0.7363989181230394,\n",
       " 22: 0.9698643314107537,\n",
       " 23: 0.9611592775945083,\n",
       " 24: 0.94589936,\n",
       " 25: 0.9390019407454744,\n",
       " 28: 0.889776849533702,\n",
       " 29: 0.9246704244065782,\n",
       " 30: 0.8490236683928805}"
      ]
     },
     "execution_count": 4,
     "metadata": {},
     "output_type": "execute_result"
    }
   ],
   "source": [
    "def logistic_regression_I_II(network_index: int, hypergraph: bool):\n",
    "  # Start with static features\n",
    "  X = {\n",
    "    heuristic: np.load(\n",
    "      f'data/{network_index:02}/features/time_agnostic/{heuristic}.npy')\n",
    "    for heuristic in heuristics\n",
    "  }\n",
    "    \n",
    "  # Add temporal node features\n",
    "  aggregation_strategies = [\n",
    "    'm0', 'm1', 'm2', 'm3', 'q0', 'q25', 'q50', 'q75', 'q100'] # Overwrite!\n",
    "  \n",
    "  for time_strategy in time_strategies: # Provided in constants.py\n",
    "    for nodepair_strategy in nodepair_strategies: # Provided in constants.py\n",
    "      if hypergraph:\n",
    "        for aggregation_strategy in aggregation_strategies:\n",
    "          X[(time_strategy, nodepair_strategy, aggregation_strategy)] = np.load(\n",
    "            f'data/{network_index:02}/features/time_node/'\n",
    "            f'{time_strategy}_{nodepair_strategy}_{aggregation_strategy}.npy'\n",
    "          )\n",
    "      else:\n",
    "        X[(time_strategy, nodepair_strategy)] = np.load(\n",
    "          f'data/{network_index:02}/features/time_node/'\n",
    "          f'{time_strategy}_{nodepair_strategy}.npy')\n",
    "    \n",
    "  X = pd.DataFrame(X)\n",
    "    \n",
    "  y = np.load(f'data/{network_index:02}/targets_sampled.npy')\n",
    "  \n",
    "  X_train, X_test, y_train, y_test = (\n",
    "    sklearn.model_selection.train_test_split(X, y))\n",
    "  pipe = sklearn.pipeline.make_pipeline(\n",
    "    sklearn.preprocessing.StandardScaler(),\n",
    "    sklearn.linear_model.LogisticRegression(max_iter=10000))\n",
    "  pipe.fit(X_train, y_train)\n",
    "  \n",
    "  auc = sklearn.metrics.roc_auc_score(\n",
    "    y_true=y_test, y_score=pipe.predict_proba(X_test)[:,1])\n",
    "  \n",
    "  return auc\n",
    "\n",
    "auc_I_II = {\n",
    "  network_index: (\n",
    "    logistic_regression_I_II(\n",
    "      network_index, hypergraph=network_index in hypergraph_indices\n",
    "    )\n",
    "  )\n",
    "  for network_index in network_indices\n",
    "}\n",
    "auc_I_II"
   ]
  },
  {
   "cell_type": "markdown",
   "id": "balanced-stanley",
   "metadata": {},
   "source": [
    "# Edge temporal features"
   ]
  },
  {
   "cell_type": "code",
   "execution_count": 5,
   "id": "regulated-berry",
   "metadata": {
    "execution": {
     "iopub.execute_input": "2021-03-12T11:48:16.624169Z",
     "iopub.status.busy": "2021-03-12T11:48:16.624041Z",
     "iopub.status.idle": "2021-03-12T11:48:31.325799Z",
     "shell.execute_reply": "2021-03-12T11:48:31.325172Z",
     "shell.execute_reply.started": "2021-03-12T11:48:16.624152Z"
    },
    "tags": []
   },
   "outputs": [
    {
     "data": {
      "text/plain": [
       "{1: 0.8118709013939664,\n",
       " 2: 0.8460323967488041,\n",
       " 3: 0.8871447083929149,\n",
       " 4: 0.7958511673361867,\n",
       " 5: 0.7520505282021128,\n",
       " 6: 0.8023427052531407,\n",
       " 7: 0.8270550038368222,\n",
       " 8: 0.7970258304200768,\n",
       " 9: 0.8542345366775258,\n",
       " 10: 0.9191301254480889,\n",
       " 11: 0.9358839341429461,\n",
       " 12: 0.8971839835494373,\n",
       " 13: 0.7925426115340153,\n",
       " 14: 0.9121884751404201,\n",
       " 16: 0.9313957774927615,\n",
       " 18: 0.9335322645105757,\n",
       " 19: 0.9256417395302713,\n",
       " 20: 0.9316781267125069,\n",
       " 21: 0.7238938084254986,\n",
       " 22: 0.9617686495836585,\n",
       " 23: 0.9503435146017709,\n",
       " 24: 0.8853552743420834,\n",
       " 25: 0.8938438853650372,\n",
       " 28: 0.8941197163487424,\n",
       " 29: 0.9211201856522693,\n",
       " 30: 0.855993411282331}"
      ]
     },
     "execution_count": 5,
     "metadata": {},
     "output_type": "execute_result"
    }
   ],
   "source": [
    "def logistic_regression_III(network_index: int, hypergraph: bool):\n",
    "  aggregation_strategies = [\n",
    "    'm0', 'm1', 'q0', 'q25', 'q50', 'q75', 'q100'] # Overwrite of constants.py!\n",
    "  \n",
    "  X = dict()\n",
    "  \n",
    "  for heuristic in heuristics: # Provided in constants.py\n",
    "    for time_strategy in time_strategies: # Provided in constants.py\n",
    "      if hypergraph:\n",
    "        for aggregation_strategy in aggregation_strategies:\n",
    "            X[(heuristic, time_strategy, aggregation_strategy)] = np.load(\n",
    "              f'data/{network_index:02}/features/time_edge/'\n",
    "              f'{heuristic}_{time_strategy}_{aggregation_strategy}.npy')\n",
    "      else:\n",
    "        X[(heuristic, time_strategy)] = np.load(\n",
    "          f'data/{network_index:02}/features/time_edge/'\n",
    "          f'{heuristic}_{time_strategy}.npy')\n",
    "    \n",
    "  X = pd.DataFrame(X)\n",
    "    \n",
    "  y = np.load(f'data/{network_index:02}/targets_sampled.npy')\n",
    "  \n",
    "  X_train, X_test, y_train, y_test = (\n",
    "    sklearn.model_selection.train_test_split(X, y))\n",
    "  pipe = sklearn.pipeline.make_pipeline(\n",
    "    sklearn.preprocessing.StandardScaler(),\n",
    "    sklearn.linear_model.LogisticRegression(max_iter=10000))\n",
    "  pipe.fit(X_train, y_train)\n",
    "  \n",
    "  auc = sklearn.metrics.roc_auc_score(\n",
    "    y_true=y_test, y_score=pipe.predict_proba(X_test)[:,1])\n",
    "  \n",
    "  return auc\n",
    "\n",
    "auc_III = {\n",
    "  network_index: logistic_regression_III(\n",
    "    network_index, hypergraph=network_index in hypergraph_indices)\n",
    "  for network_index in network_indices}\n",
    "auc_III"
   ]
  },
  {
   "cell_type": "markdown",
   "id": "vital-richardson",
   "metadata": {},
   "source": [
    "# Merge"
   ]
  },
  {
   "cell_type": "code",
   "execution_count": 9,
   "id": "painted-corruption",
   "metadata": {
    "execution": {
     "iopub.execute_input": "2021-03-12T11:53:49.572262Z",
     "iopub.status.busy": "2021-03-12T11:53:49.571962Z",
     "iopub.status.idle": "2021-03-12T11:53:49.581666Z",
     "shell.execute_reply": "2021-03-12T11:53:49.580985Z",
     "shell.execute_reply.started": "2021-03-12T11:53:49.572234Z"
    },
    "tags": []
   },
   "outputs": [],
   "source": [
    "x_label = 'auc (node activity + static features)'\n",
    "y_label = 'auc (temporal edge features)'\n",
    "\n",
    "df = pd.DataFrame({\n",
    "  'category': networks['category'],\n",
    "  x_label: pd.Series(auc_I_II),\n",
    "  y_label: pd.Series(auc_III)\n",
    "})\n",
    "df\n",
    "df.to_pickle('code/figures/temp.pkl')"
   ]
  },
  {
   "cell_type": "code",
   "execution_count": 7,
   "id": "ignored-football",
   "metadata": {
    "execution": {
     "iopub.execute_input": "2021-03-12T11:48:31.337991Z",
     "iopub.status.busy": "2021-03-12T11:48:31.337881Z",
     "iopub.status.idle": "2021-03-12T11:48:31.421368Z",
     "shell.execute_reply": "2021-03-12T11:48:31.420931Z",
     "shell.execute_reply.started": "2021-03-12T11:48:31.337977Z"
    },
    "tags": []
   },
   "outputs": [
    {
     "data": {
      "text/html": [
       "<div>\n",
       "<style scoped>\n",
       "    .dataframe tbody tr th:only-of-type {\n",
       "        vertical-align: middle;\n",
       "    }\n",
       "\n",
       "    .dataframe tbody tr th {\n",
       "        vertical-align: top;\n",
       "    }\n",
       "\n",
       "    .dataframe thead th {\n",
       "        text-align: right;\n",
       "    }\n",
       "</style>\n",
       "<table border=\"1\" class=\"dataframe\">\n",
       "  <thead>\n",
       "    <tr style=\"text-align: right;\">\n",
       "      <th></th>\n",
       "      <th>auc (node activity + static features)</th>\n",
       "      <th>auc (temporal edge features)</th>\n",
       "    </tr>\n",
       "  </thead>\n",
       "  <tbody>\n",
       "    <tr>\n",
       "      <th>auc (node activity + static features)</th>\n",
       "      <td>1.000000</td>\n",
       "      <td>0.944384</td>\n",
       "    </tr>\n",
       "    <tr>\n",
       "      <th>auc (temporal edge features)</th>\n",
       "      <td>0.944384</td>\n",
       "      <td>1.000000</td>\n",
       "    </tr>\n",
       "  </tbody>\n",
       "</table>\n",
       "</div>"
      ],
      "text/plain": [
       "                                       auc (node activity + static features)  \\\n",
       "auc (node activity + static features)                               1.000000   \n",
       "auc (temporal edge features)                                        0.944384   \n",
       "\n",
       "                                       auc (temporal edge features)  \n",
       "auc (node activity + static features)                      0.944384  \n",
       "auc (temporal edge features)                               1.000000  "
      ]
     },
     "execution_count": 7,
     "metadata": {},
     "output_type": "execute_result"
    }
   ],
   "source": [
    "df.corr()"
   ]
  },
  {
   "cell_type": "markdown",
   "id": "satellite-football",
   "metadata": {},
   "source": [
    "# Figure"
   ]
  },
  {
   "cell_type": "code",
   "execution_count": 8,
   "id": "sitting-interpretation",
   "metadata": {
    "execution": {
     "iopub.execute_input": "2021-03-12T11:48:31.422000Z",
     "iopub.status.busy": "2021-03-12T11:48:31.421890Z",
     "iopub.status.idle": "2021-03-12T11:48:32.017709Z",
     "shell.execute_reply": "2021-03-12T11:48:32.017038Z",
     "shell.execute_reply.started": "2021-03-12T11:48:31.421986Z"
    },
    "tags": []
   },
   "outputs": [
    {
     "ename": "FileNotFoundError",
     "evalue": "[Errno 2] No such file or directory: 'figures/rq3-node-vs-edge-features.pdf'",
     "output_type": "error",
     "traceback": [
      "\u001b[0;31m---------------------------------------------------------------------------\u001b[0m",
      "\u001b[0;31mFileNotFoundError\u001b[0m                         Traceback (most recent call last)",
      "\u001b[0;32m<ipython-input-8-f9d997f893c4>\u001b[0m in \u001b[0;36m<module>\u001b[0;34m\u001b[0m\n\u001b[1;32m     13\u001b[0m   \u001b[0max\u001b[0m\u001b[0;34m.\u001b[0m\u001b[0myaxis\u001b[0m\u001b[0;34m.\u001b[0m\u001b[0mset_minor_locator\u001b[0m\u001b[0;34m(\u001b[0m\u001b[0mmatplotlib\u001b[0m\u001b[0;34m.\u001b[0m\u001b[0mticker\u001b[0m\u001b[0;34m.\u001b[0m\u001b[0mMultipleLocator\u001b[0m\u001b[0;34m(\u001b[0m\u001b[0;36m.01\u001b[0m\u001b[0;34m)\u001b[0m\u001b[0;34m)\u001b[0m\u001b[0;34m\u001b[0m\u001b[0;34m\u001b[0m\u001b[0m\n\u001b[1;32m     14\u001b[0m   \u001b[0mplt\u001b[0m\u001b[0;34m.\u001b[0m\u001b[0mtight_layout\u001b[0m\u001b[0;34m(\u001b[0m\u001b[0;34m)\u001b[0m\u001b[0;34m\u001b[0m\u001b[0;34m\u001b[0m\u001b[0m\n\u001b[0;32m---> 15\u001b[0;31m   \u001b[0mplt\u001b[0m\u001b[0;34m.\u001b[0m\u001b[0msavefig\u001b[0m\u001b[0;34m(\u001b[0m\u001b[0;34m'figures/rq3-node-vs-edge-features.pdf'\u001b[0m\u001b[0;34m)\u001b[0m\u001b[0;34m\u001b[0m\u001b[0;34m\u001b[0m\u001b[0m\n\u001b[0m",
      "\u001b[0;32m/scratch/bruingjde/miniconda3/envs/tlp/lib/python3.9/site-packages/matplotlib/pyplot.py\u001b[0m in \u001b[0;36msavefig\u001b[0;34m(*args, **kwargs)\u001b[0m\n\u001b[1;32m    857\u001b[0m \u001b[0;32mdef\u001b[0m \u001b[0msavefig\u001b[0m\u001b[0;34m(\u001b[0m\u001b[0;34m*\u001b[0m\u001b[0margs\u001b[0m\u001b[0;34m,\u001b[0m \u001b[0;34m**\u001b[0m\u001b[0mkwargs\u001b[0m\u001b[0;34m)\u001b[0m\u001b[0;34m:\u001b[0m\u001b[0;34m\u001b[0m\u001b[0;34m\u001b[0m\u001b[0m\n\u001b[1;32m    858\u001b[0m     \u001b[0mfig\u001b[0m \u001b[0;34m=\u001b[0m \u001b[0mgcf\u001b[0m\u001b[0;34m(\u001b[0m\u001b[0;34m)\u001b[0m\u001b[0;34m\u001b[0m\u001b[0;34m\u001b[0m\u001b[0m\n\u001b[0;32m--> 859\u001b[0;31m     \u001b[0mres\u001b[0m \u001b[0;34m=\u001b[0m \u001b[0mfig\u001b[0m\u001b[0;34m.\u001b[0m\u001b[0msavefig\u001b[0m\u001b[0;34m(\u001b[0m\u001b[0;34m*\u001b[0m\u001b[0margs\u001b[0m\u001b[0;34m,\u001b[0m \u001b[0;34m**\u001b[0m\u001b[0mkwargs\u001b[0m\u001b[0;34m)\u001b[0m\u001b[0;34m\u001b[0m\u001b[0;34m\u001b[0m\u001b[0m\n\u001b[0m\u001b[1;32m    860\u001b[0m     \u001b[0mfig\u001b[0m\u001b[0;34m.\u001b[0m\u001b[0mcanvas\u001b[0m\u001b[0;34m.\u001b[0m\u001b[0mdraw_idle\u001b[0m\u001b[0;34m(\u001b[0m\u001b[0;34m)\u001b[0m   \u001b[0;31m# need this if 'transparent=True' to reset colors\u001b[0m\u001b[0;34m\u001b[0m\u001b[0;34m\u001b[0m\u001b[0m\n\u001b[1;32m    861\u001b[0m     \u001b[0;32mreturn\u001b[0m \u001b[0mres\u001b[0m\u001b[0;34m\u001b[0m\u001b[0;34m\u001b[0m\u001b[0m\n",
      "\u001b[0;32m/scratch/bruingjde/miniconda3/envs/tlp/lib/python3.9/site-packages/matplotlib/figure.py\u001b[0m in \u001b[0;36msavefig\u001b[0;34m(self, fname, transparent, **kwargs)\u001b[0m\n\u001b[1;32m   2309\u001b[0m                 \u001b[0mpatch\u001b[0m\u001b[0;34m.\u001b[0m\u001b[0mset_edgecolor\u001b[0m\u001b[0;34m(\u001b[0m\u001b[0;34m'none'\u001b[0m\u001b[0;34m)\u001b[0m\u001b[0;34m\u001b[0m\u001b[0;34m\u001b[0m\u001b[0m\n\u001b[1;32m   2310\u001b[0m \u001b[0;34m\u001b[0m\u001b[0m\n\u001b[0;32m-> 2311\u001b[0;31m         \u001b[0mself\u001b[0m\u001b[0;34m.\u001b[0m\u001b[0mcanvas\u001b[0m\u001b[0;34m.\u001b[0m\u001b[0mprint_figure\u001b[0m\u001b[0;34m(\u001b[0m\u001b[0mfname\u001b[0m\u001b[0;34m,\u001b[0m \u001b[0;34m**\u001b[0m\u001b[0mkwargs\u001b[0m\u001b[0;34m)\u001b[0m\u001b[0;34m\u001b[0m\u001b[0;34m\u001b[0m\u001b[0m\n\u001b[0m\u001b[1;32m   2312\u001b[0m \u001b[0;34m\u001b[0m\u001b[0m\n\u001b[1;32m   2313\u001b[0m         \u001b[0;32mif\u001b[0m \u001b[0mtransparent\u001b[0m\u001b[0;34m:\u001b[0m\u001b[0;34m\u001b[0m\u001b[0;34m\u001b[0m\u001b[0m\n",
      "\u001b[0;32m/scratch/bruingjde/miniconda3/envs/tlp/lib/python3.9/site-packages/matplotlib/backend_bases.py\u001b[0m in \u001b[0;36mprint_figure\u001b[0;34m(self, filename, dpi, facecolor, edgecolor, orientation, format, bbox_inches, pad_inches, bbox_extra_artists, backend, **kwargs)\u001b[0m\n\u001b[1;32m   2208\u001b[0m \u001b[0;34m\u001b[0m\u001b[0m\n\u001b[1;32m   2209\u001b[0m             \u001b[0;32mtry\u001b[0m\u001b[0;34m:\u001b[0m\u001b[0;34m\u001b[0m\u001b[0;34m\u001b[0m\u001b[0m\n\u001b[0;32m-> 2210\u001b[0;31m                 result = print_method(\n\u001b[0m\u001b[1;32m   2211\u001b[0m                     \u001b[0mfilename\u001b[0m\u001b[0;34m,\u001b[0m\u001b[0;34m\u001b[0m\u001b[0;34m\u001b[0m\u001b[0m\n\u001b[1;32m   2212\u001b[0m                     \u001b[0mdpi\u001b[0m\u001b[0;34m=\u001b[0m\u001b[0mdpi\u001b[0m\u001b[0;34m,\u001b[0m\u001b[0;34m\u001b[0m\u001b[0;34m\u001b[0m\u001b[0m\n",
      "\u001b[0;32m/scratch/bruingjde/miniconda3/envs/tlp/lib/python3.9/site-packages/matplotlib/backend_bases.py\u001b[0m in \u001b[0;36mwrapper\u001b[0;34m(*args, **kwargs)\u001b[0m\n\u001b[1;32m   1637\u001b[0m             \u001b[0mkwargs\u001b[0m\u001b[0;34m.\u001b[0m\u001b[0mpop\u001b[0m\u001b[0;34m(\u001b[0m\u001b[0marg\u001b[0m\u001b[0;34m)\u001b[0m\u001b[0;34m\u001b[0m\u001b[0;34m\u001b[0m\u001b[0m\n\u001b[1;32m   1638\u001b[0m \u001b[0;34m\u001b[0m\u001b[0m\n\u001b[0;32m-> 1639\u001b[0;31m         \u001b[0;32mreturn\u001b[0m \u001b[0mfunc\u001b[0m\u001b[0;34m(\u001b[0m\u001b[0;34m*\u001b[0m\u001b[0margs\u001b[0m\u001b[0;34m,\u001b[0m \u001b[0;34m**\u001b[0m\u001b[0mkwargs\u001b[0m\u001b[0;34m)\u001b[0m\u001b[0;34m\u001b[0m\u001b[0;34m\u001b[0m\u001b[0m\n\u001b[0m\u001b[1;32m   1640\u001b[0m \u001b[0;34m\u001b[0m\u001b[0m\n\u001b[1;32m   1641\u001b[0m     \u001b[0;32mreturn\u001b[0m \u001b[0mwrapper\u001b[0m\u001b[0;34m\u001b[0m\u001b[0;34m\u001b[0m\u001b[0m\n",
      "\u001b[0;32m/scratch/bruingjde/miniconda3/envs/tlp/lib/python3.9/site-packages/matplotlib/backends/backend_pdf.py\u001b[0m in \u001b[0;36mprint_pdf\u001b[0;34m(self, filename, dpi, bbox_inches_restore, metadata)\u001b[0m\n\u001b[1;32m   2584\u001b[0m             \u001b[0mfile\u001b[0m \u001b[0;34m=\u001b[0m \u001b[0mfilename\u001b[0m\u001b[0;34m.\u001b[0m\u001b[0m_file\u001b[0m\u001b[0;34m\u001b[0m\u001b[0;34m\u001b[0m\u001b[0m\n\u001b[1;32m   2585\u001b[0m         \u001b[0;32melse\u001b[0m\u001b[0;34m:\u001b[0m\u001b[0;34m\u001b[0m\u001b[0;34m\u001b[0m\u001b[0m\n\u001b[0;32m-> 2586\u001b[0;31m             \u001b[0mfile\u001b[0m \u001b[0;34m=\u001b[0m \u001b[0mPdfFile\u001b[0m\u001b[0;34m(\u001b[0m\u001b[0mfilename\u001b[0m\u001b[0;34m,\u001b[0m \u001b[0mmetadata\u001b[0m\u001b[0;34m=\u001b[0m\u001b[0mmetadata\u001b[0m\u001b[0;34m)\u001b[0m\u001b[0;34m\u001b[0m\u001b[0;34m\u001b[0m\u001b[0m\n\u001b[0m\u001b[1;32m   2587\u001b[0m         \u001b[0;32mtry\u001b[0m\u001b[0;34m:\u001b[0m\u001b[0;34m\u001b[0m\u001b[0;34m\u001b[0m\u001b[0m\n\u001b[1;32m   2588\u001b[0m             \u001b[0mfile\u001b[0m\u001b[0;34m.\u001b[0m\u001b[0mnewPage\u001b[0m\u001b[0;34m(\u001b[0m\u001b[0mwidth\u001b[0m\u001b[0;34m,\u001b[0m \u001b[0mheight\u001b[0m\u001b[0;34m)\u001b[0m\u001b[0;34m\u001b[0m\u001b[0;34m\u001b[0m\u001b[0m\n",
      "\u001b[0;32m/scratch/bruingjde/miniconda3/envs/tlp/lib/python3.9/site-packages/matplotlib/backends/backend_pdf.py\u001b[0m in \u001b[0;36m__init__\u001b[0;34m(self, filename, metadata)\u001b[0m\n\u001b[1;32m    560\u001b[0m         \u001b[0mself\u001b[0m\u001b[0;34m.\u001b[0m\u001b[0moriginal_file_like\u001b[0m \u001b[0;34m=\u001b[0m \u001b[0;32mNone\u001b[0m\u001b[0;34m\u001b[0m\u001b[0;34m\u001b[0m\u001b[0m\n\u001b[1;32m    561\u001b[0m         \u001b[0mself\u001b[0m\u001b[0;34m.\u001b[0m\u001b[0mtell_base\u001b[0m \u001b[0;34m=\u001b[0m \u001b[0;36m0\u001b[0m\u001b[0;34m\u001b[0m\u001b[0;34m\u001b[0m\u001b[0m\n\u001b[0;32m--> 562\u001b[0;31m         \u001b[0mfh\u001b[0m\u001b[0;34m,\u001b[0m \u001b[0mopened\u001b[0m \u001b[0;34m=\u001b[0m \u001b[0mcbook\u001b[0m\u001b[0;34m.\u001b[0m\u001b[0mto_filehandle\u001b[0m\u001b[0;34m(\u001b[0m\u001b[0mfilename\u001b[0m\u001b[0;34m,\u001b[0m \u001b[0;34m\"wb\"\u001b[0m\u001b[0;34m,\u001b[0m \u001b[0mreturn_opened\u001b[0m\u001b[0;34m=\u001b[0m\u001b[0;32mTrue\u001b[0m\u001b[0;34m)\u001b[0m\u001b[0;34m\u001b[0m\u001b[0;34m\u001b[0m\u001b[0m\n\u001b[0m\u001b[1;32m    563\u001b[0m         \u001b[0;32mif\u001b[0m \u001b[0;32mnot\u001b[0m \u001b[0mopened\u001b[0m\u001b[0;34m:\u001b[0m\u001b[0;34m\u001b[0m\u001b[0;34m\u001b[0m\u001b[0m\n\u001b[1;32m    564\u001b[0m             \u001b[0;32mtry\u001b[0m\u001b[0;34m:\u001b[0m\u001b[0;34m\u001b[0m\u001b[0;34m\u001b[0m\u001b[0m\n",
      "\u001b[0;32m/scratch/bruingjde/miniconda3/envs/tlp/lib/python3.9/site-packages/matplotlib/cbook/__init__.py\u001b[0m in \u001b[0;36mto_filehandle\u001b[0;34m(fname, flag, return_opened, encoding)\u001b[0m\n\u001b[1;32m    406\u001b[0m             \u001b[0mfh\u001b[0m \u001b[0;34m=\u001b[0m \u001b[0mbz2\u001b[0m\u001b[0;34m.\u001b[0m\u001b[0mBZ2File\u001b[0m\u001b[0;34m(\u001b[0m\u001b[0mfname\u001b[0m\u001b[0;34m,\u001b[0m \u001b[0mflag\u001b[0m\u001b[0;34m)\u001b[0m\u001b[0;34m\u001b[0m\u001b[0;34m\u001b[0m\u001b[0m\n\u001b[1;32m    407\u001b[0m         \u001b[0;32melse\u001b[0m\u001b[0;34m:\u001b[0m\u001b[0;34m\u001b[0m\u001b[0;34m\u001b[0m\u001b[0m\n\u001b[0;32m--> 408\u001b[0;31m             \u001b[0mfh\u001b[0m \u001b[0;34m=\u001b[0m \u001b[0mopen\u001b[0m\u001b[0;34m(\u001b[0m\u001b[0mfname\u001b[0m\u001b[0;34m,\u001b[0m \u001b[0mflag\u001b[0m\u001b[0;34m,\u001b[0m \u001b[0mencoding\u001b[0m\u001b[0;34m=\u001b[0m\u001b[0mencoding\u001b[0m\u001b[0;34m)\u001b[0m\u001b[0;34m\u001b[0m\u001b[0;34m\u001b[0m\u001b[0m\n\u001b[0m\u001b[1;32m    409\u001b[0m         \u001b[0mopened\u001b[0m \u001b[0;34m=\u001b[0m \u001b[0;32mTrue\u001b[0m\u001b[0;34m\u001b[0m\u001b[0;34m\u001b[0m\u001b[0m\n\u001b[1;32m    410\u001b[0m     \u001b[0;32melif\u001b[0m \u001b[0mhasattr\u001b[0m\u001b[0;34m(\u001b[0m\u001b[0mfname\u001b[0m\u001b[0;34m,\u001b[0m \u001b[0;34m'seek'\u001b[0m\u001b[0;34m)\u001b[0m\u001b[0;34m:\u001b[0m\u001b[0;34m\u001b[0m\u001b[0;34m\u001b[0m\u001b[0m\n",
      "\u001b[0;31mFileNotFoundError\u001b[0m: [Errno 2] No such file or directory: 'figures/rq3-node-vs-edge-features.pdf'"
     ]
    },
    {
     "data": {
      "image/png": "[encoded data removed]",
      "text/plain": [
       "<Figure size 288x288 with 1 Axes>"
      ]
     },
     "metadata": {
      "needs_background": "light"
     },
     "output_type": "display_data"
    }
   ],
   "source": [
    "auc_values = df[[x_label, y_label]].values.flatten()\n",
    "lim = (min(auc_values), max(auc_values))\n",
    "\n",
    "with plt.rc_context(rc):\n",
    "  sns.scatterplot(data=df, x=x_label, y=y_label, hue='category', style='category')\n",
    "  sns.regplot(data=df, x=x_label, y=y_label, scatter=False, color='black')\n",
    "  plt.axline((0,0), (1,1), ls='--', c='grey')\n",
    "  plt.xlim(lim)\n",
    "  plt.ylim(lim)\n",
    "  ax = plt.gca()\n",
    "  ax.xaxis.set_minor_locator(matplotlib.ticker.MultipleLocator(.01))\n",
    "  ax.yaxis.set_minor_locator(matplotlib.ticker.MultipleLocator(.01))\n",
    "  plt.tight_layout()\n",
    "  plt.savefig('figures/rq3-node-vs-edge-features.pdf')"
   ]
  },
  {
   "cell_type": "code",
   "execution_count": null,
   "id": "ongoing-hundred",
   "metadata": {},
   "outputs": [],
   "source": []
  }
 ],
 "metadata": {
  "kernelspec": {
   "display_name": "Python 3",
   "language": "python",
   "name": "python3"
  },
  "language_info": {
   "codemirror_mode": {
    "name": "ipython",
    "version": 3
   },
   "file_extension": ".py",
   "mimetype": "text/x-python",
   "name": "python",
   "nbconvert_exporter": "python",
   "pygments_lexer": "ipython3",
   "version": "3.9.2"
  }
 },
 "nbformat": 4,
 "nbformat_minor": 5
}
