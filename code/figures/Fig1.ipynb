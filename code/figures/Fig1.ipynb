{
 "cells": [
  {
   "cell_type": "code",
   "execution_count": 1,
   "id": "personalized-divide",
   "metadata": {
    "execution": {
     "iopub.execute_input": "2021-03-12T12:41:03.833053Z",
     "iopub.status.busy": "2021-03-12T12:41:03.832669Z",
     "iopub.status.idle": "2021-03-12T12:41:05.661510Z",
     "shell.execute_reply": "2021-03-12T12:41:05.660321Z",
     "shell.execute_reply.started": "2021-03-12T12:41:03.832958Z"
    },
    "tags": []
   },
   "outputs": [
    {
     "name": "stdout",
     "output_type": "stream",
     "text": [
      "/scratch/bruingjde/SNAM2021-code\n"
     ]
    }
   ],
   "source": [
    "%cd /scratch/bruingjde/SNAM2021-code/\n",
    "\n",
    "from constants import *"
   ]
  },
  {
   "cell_type": "code",
   "execution_count": 2,
   "id": "romance-class",
   "metadata": {
    "execution": {
     "iopub.execute_input": "2021-03-12T12:41:05.663415Z",
     "iopub.status.busy": "2021-03-12T12:41:05.663155Z",
     "iopub.status.idle": "2021-03-12T12:41:05.672106Z",
     "shell.execute_reply": "2021-03-12T12:41:05.671369Z",
     "shell.execute_reply.started": "2021-03-12T12:41:05.663381Z"
    },
    "tags": []
   },
   "outputs": [],
   "source": [
    "def plot_datetime_strategies(\n",
    "  datetimes: pd.Series, *,\n",
    "  time_strategies = tlp.TIME_STRATEGIES):\n",
    "  \"\"\"Plot the mapping from datetime with the various time strategies.\n",
    "  \n",
    "  Args:\n",
    "    datetimes: pd.Series containing all the considered datetimes (one per edge)\n",
    "    time_strategies: Optional; A list containing functions that can map the\n",
    "      datetime column of the edgelist to a float. See \n",
    "      tlp.feature.TIME_STRATEGIES.\n",
    "  \n",
    "  Usage:\n",
    "    tlp.analysis.plot_datetime_strategies(edgelist['datetime'])\n",
    "  \"\"\"\n",
    "  index = pd.to_datetime(\n",
    "    np.linspace(datetimes.min().value, datetimes.max().value))\n",
    "  with plt.rc_context({'xtick.top': True, 'ytick.right': True}):\n",
    "    _, ax = plt.subplots(figsize=(4,4))\n",
    "    df = pd.DataFrame(\n",
    "      {str: func(index) for str, func in time_strategies.items()}, \n",
    "      index=index)\n",
    "    df.plot(ax=ax, xlabel='Year', ylabel='Proportion',  \n",
    "            xlim=datetimes.agg(['min', 'max']), ylim=(0,1))\n",
    "    \n",
    "    ax.legend(title='Time strategy') # type: ignore\n",
    "     # type: ignore"
   ]
  },
  {
   "cell_type": "code",
   "execution_count": 3,
   "id": "regional-junior",
   "metadata": {
    "execution": {
     "iopub.execute_input": "2021-03-12T12:41:05.673820Z",
     "iopub.status.busy": "2021-03-12T12:41:05.673577Z",
     "iopub.status.idle": "2021-03-12T12:41:06.188433Z",
     "shell.execute_reply": "2021-03-12T12:41:06.187436Z",
     "shell.execute_reply.started": "2021-03-12T12:41:05.673788Z"
    },
    "tags": []
   },
   "outputs": [],
   "source": [
    "df = pd.read_pickle('data/01/edgelist.pkl')"
   ]
  },
  {
   "cell_type": "code",
   "execution_count": 4,
   "id": "behavioral-content",
   "metadata": {
    "execution": {
     "iopub.execute_input": "2021-03-12T12:41:10.180743Z",
     "iopub.status.busy": "2021-03-12T12:41:10.180442Z",
     "iopub.status.idle": "2021-03-12T12:41:10.184381Z",
     "shell.execute_reply": "2021-03-12T12:41:10.183727Z",
     "shell.execute_reply.started": "2021-03-12T12:41:10.180712Z"
    },
    "tags": []
   },
   "outputs": [],
   "source": [
    "# df = df[df['datetime'].between(pd.Timestamp('1995-12-31'), pd.Timestamp('2005-01-01'))]"
   ]
  },
  {
   "cell_type": "code",
   "execution_count": 5,
   "id": "stuck-brass",
   "metadata": {
    "execution": {
     "iopub.execute_input": "2021-03-12T12:41:10.573320Z",
     "iopub.status.busy": "2021-03-12T12:41:10.573038Z",
     "iopub.status.idle": "2021-03-12T12:41:10.761451Z",
     "shell.execute_reply": "2021-03-12T12:41:10.760768Z",
     "shell.execute_reply.started": "2021-03-12T12:41:10.573293Z"
    },
    "tags": []
   },
   "outputs": [],
   "source": [
    "index = pd.to_datetime(np.linspace(df['datetime'].min().value, df['datetime'].max().value))"
   ]
  },
  {
   "cell_type": "code",
   "execution_count": 6,
   "id": "distinct-windows",
   "metadata": {
    "execution": {
     "iopub.execute_input": "2021-03-12T12:41:11.070213Z",
     "iopub.status.busy": "2021-03-12T12:41:11.069987Z",
     "iopub.status.idle": "2021-03-12T12:41:11.074434Z",
     "shell.execute_reply": "2021-03-12T12:41:11.073778Z",
     "shell.execute_reply.started": "2021-03-12T12:41:11.070194Z"
    },
    "tags": []
   },
   "outputs": [],
   "source": [
    "index_unix = index.astype(np.int64) / (365*24*3600e9)"
   ]
  },
  {
   "cell_type": "code",
   "execution_count": 7,
   "id": "coordinated-dressing",
   "metadata": {
    "execution": {
     "iopub.execute_input": "2021-03-12T12:41:11.464497Z",
     "iopub.status.busy": "2021-03-12T12:41:11.464179Z",
     "iopub.status.idle": "2021-03-12T12:41:11.468784Z",
     "shell.execute_reply": "2021-03-12T12:41:11.468204Z",
     "shell.execute_reply.started": "2021-03-12T12:41:11.464462Z"
    },
    "tags": []
   },
   "outputs": [],
   "source": [
    "index_unix = np.linspace(start=min(index_unix), stop=max(index_unix))"
   ]
  },
  {
   "cell_type": "code",
   "execution_count": 8,
   "id": "collaborative-volume",
   "metadata": {
    "execution": {
     "iopub.execute_input": "2021-03-12T12:41:11.875407Z",
     "iopub.status.busy": "2021-03-12T12:41:11.875160Z",
     "iopub.status.idle": "2021-03-12T12:41:11.883399Z",
     "shell.execute_reply": "2021-03-12T12:41:11.882920Z",
     "shell.execute_reply.started": "2021-03-12T12:41:11.875379Z"
    },
    "tags": []
   },
   "outputs": [
    {
     "data": {
      "text/plain": [
       "array([0.2 , 0.22, 0.24, 0.25, 0.27, 0.29, 0.3 , 0.32, 0.34, 0.35, 0.37,\n",
       "       0.38, 0.4 , 0.42, 0.43, 0.45, 0.47, 0.48, 0.5 , 0.52, 0.52, 0.54,\n",
       "       0.55, 0.57, 0.59, 0.6 , 0.62, 0.64, 0.65, 0.67, 0.68, 0.7 , 0.72,\n",
       "       0.73, 0.75, 0.77, 0.78, 0.8 , 0.82, 0.83, 0.85, 0.86, 0.88, 0.9 ,\n",
       "       0.91, 0.93, 0.95, 0.96, 0.98, 1.  ])"
      ]
     },
     "execution_count": 8,
     "metadata": {},
     "output_type": "execute_result"
    }
   ],
   "source": [
    "time_strategies['lin'](index_unix)"
   ]
  },
  {
   "cell_type": "code",
   "execution_count": 9,
   "id": "current-balloon",
   "metadata": {
    "execution": {
     "iopub.execute_input": "2021-03-12T12:41:12.732400Z",
     "iopub.status.busy": "2021-03-12T12:41:12.732193Z",
     "iopub.status.idle": "2021-03-12T12:41:12.735635Z",
     "shell.execute_reply": "2021-03-12T12:41:12.734928Z",
     "shell.execute_reply.started": "2021-03-12T12:41:12.732383Z"
    },
    "tags": []
   },
   "outputs": [],
   "source": [
    "def lin(x):\n",
    "  return .2 + .8 * (x-min(x)) / (max(x)-min(x))"
   ]
  },
  {
   "cell_type": "code",
   "execution_count": 10,
   "id": "excited-institute",
   "metadata": {
    "execution": {
     "iopub.execute_input": "2021-03-12T12:41:13.123214Z",
     "iopub.status.busy": "2021-03-12T12:41:13.122929Z",
     "iopub.status.idle": "2021-03-12T12:41:13.127810Z",
     "shell.execute_reply": "2021-03-12T12:41:13.127112Z",
     "shell.execute_reply.started": "2021-03-12T12:41:13.123184Z"
    },
    "tags": []
   },
   "outputs": [],
   "source": [
    "def exp(x):\n",
    "  return .2 + 0.8 * (np.exp(3*(x-min(x))/(max(x)-min(x)))-1) / (np.exp(3)-1)"
   ]
  },
  {
   "cell_type": "code",
   "execution_count": 11,
   "id": "extraordinary-reward",
   "metadata": {
    "execution": {
     "iopub.execute_input": "2021-03-12T12:41:13.492563Z",
     "iopub.status.busy": "2021-03-12T12:41:13.492316Z",
     "iopub.status.idle": "2021-03-12T12:41:13.496782Z",
     "shell.execute_reply": "2021-03-12T12:41:13.496023Z",
     "shell.execute_reply.started": "2021-03-12T12:41:13.492533Z"
    },
    "tags": []
   },
   "outputs": [],
   "source": [
    "def sqrt(x):\n",
    "  return .2 + 0.8 * np.sqrt((x-min(x))/(max(x)-min(x)))"
   ]
  },
  {
   "cell_type": "code",
   "execution_count": 23,
   "id": "recognized-torture",
   "metadata": {
    "execution": {
     "iopub.execute_input": "2021-03-13T08:13:26.657615Z",
     "iopub.status.busy": "2021-03-13T08:13:26.657304Z",
     "iopub.status.idle": "2021-03-13T08:13:26.661463Z",
     "shell.execute_reply": "2021-03-13T08:13:26.660855Z",
     "shell.execute_reply.started": "2021-03-13T08:13:26.657582Z"
    },
    "tags": []
   },
   "outputs": [],
   "source": [
    "time_strategies = {'linear': lin, 'exponential': exp, 'square root': sqrt}"
   ]
  },
  {
   "cell_type": "code",
   "execution_count": 67,
   "id": "cordless-straight",
   "metadata": {
    "execution": {
     "iopub.execute_input": "2021-03-16T09:24:27.437263Z",
     "iopub.status.busy": "2021-03-16T09:24:27.436949Z",
     "iopub.status.idle": "2021-03-16T09:24:27.675603Z",
     "shell.execute_reply": "2021-03-16T09:24:27.675212Z",
     "shell.execute_reply.started": "2021-03-16T09:24:27.437230Z"
    },
    "tags": []
   },
   "outputs": [
    {
     "data": {
      "image/png": "[encoded data removed]",
      "text/plain": [
       "<Figure size 237.6x178.2 with 1 Axes>"
      ]
     },
     "metadata": {
      "needs_background": "light"
     },
     "output_type": "display_data"
    }
   ],
   "source": [
    "linestyles = ['solid', 'dotted', 'dashed']\n",
    "fontsize=8\n",
    "rc = {\n",
    "  'xtick.top': True, 'ytick.right': True, 'figure.figsize': (3.30,2.475), \n",
    "  'axes.titlesize': fontsize, \n",
    "  'axes.labelsize': fontsize, \n",
    "  'xtick.labelsize': fontsize, \n",
    "  'ytick.labelsize': fontsize, \n",
    "  'legend.fontsize': fontsize, \n",
    "  'legend.title_fontsize': fontsize,\n",
    "  'lines.linewidth': 2,\n",
    "#   'lines.markersize': 4,\n",
    "#   'legend.handlelength': .1,\n",
    "  'font.family': 'sans-serif',\n",
    "  'font.sans-serif': 'Helvetica',\n",
    "  'savefig.transparent': True\n",
    "}\n",
    "\n",
    "with plt.rc_context(rc):\n",
    "  _, ax = plt.subplots()\n",
    "  for (strategy_str, strategy_func), linestyle in zip(time_strategies.items(), linestyles):\n",
    "    ax.plot(index, strategy_func(index_unix), label=strategy_str, linestyle=linestyle)\n",
    "  ax.legend(title='Temporal\\nweighting')\n",
    "  ax.set_xlim((min(index), pd.Timestamp('01-01-2020')))\n",
    "  ax.set_ylim((0,1))\n",
    "  ax.set_xlabel('Year')\n",
    "  ax.set_ylabel('Weight')\n",
    "  ax.xaxis.set_major_locator(matplotlib.dates.YearLocator(20))\n",
    "  ax.xaxis.set_major_formatter(matplotlib.dates.DateFormatter('%Y'))\n",
    "  ax.xaxis.set_minor_locator(matplotlib.dates.YearLocator(5))\n",
    "  ax.yaxis.set_major_locator(matplotlib.ticker.MultipleLocator(.2))\n",
    "  ax.yaxis.set_minor_locator(matplotlib.ticker.MultipleLocator(.1))\n",
    "  plt.tight_layout()\n",
    "  plt.savefig('code/figures/output/Fig1.pdf')"
   ]
  },
  {
   "cell_type": "code",
   "execution_count": null,
   "id": "bizarre-cattle",
   "metadata": {},
   "outputs": [],
   "source": []
  }
 ],
 "metadata": {
  "kernelspec": {
   "display_name": "Python 3",
   "language": "python",
   "name": "python3"
  },
  "language_info": {
   "codemirror_mode": {
    "name": "ipython",
    "version": 3
   },
   "file_extension": ".py",
   "mimetype": "text/x-python",
   "name": "python",
   "nbconvert_exporter": "python",
   "pygments_lexer": "ipython3",
   "version": "3.9.2"
  }
 },
 "nbformat": 4,
 "nbformat_minor": 5
}
