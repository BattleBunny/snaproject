{
 "cells": [
  {
   "cell_type": "code",
   "execution_count": 1,
   "id": "minute-aviation",
   "metadata": {
    "execution": {
     "iopub.execute_input": "2021-03-12T12:04:01.028922Z",
     "iopub.status.busy": "2021-03-12T12:04:01.028539Z",
     "iopub.status.idle": "2021-03-12T12:04:02.088995Z",
     "shell.execute_reply": "2021-03-12T12:04:02.087986Z",
     "shell.execute_reply.started": "2021-03-12T12:04:01.028822Z"
    }
   },
   "outputs": [
    {
     "name": "stdout",
     "output_type": "stream",
     "text": [
      "/scratch/bruingjde/SNAM2021-code\n"
     ]
    }
   ],
   "source": [
    "%cd /scratch/bruingjde/SNAM2021-code/\n",
    "\n",
    "from constants import *"
   ]
  },
  {
   "cell_type": "markdown",
   "id": "instant-pride",
   "metadata": {},
   "source": [
    "# Static features"
   ]
  },
  {
   "cell_type": "code",
   "execution_count": 2,
   "id": "bridal-chorus",
   "metadata": {
    "execution": {
     "iopub.execute_input": "2021-03-12T12:04:02.090438Z",
     "iopub.status.busy": "2021-03-12T12:04:02.090297Z",
     "iopub.status.idle": "2021-03-12T12:04:03.910474Z",
     "shell.execute_reply": "2021-03-12T12:04:03.909651Z",
     "shell.execute_reply.started": "2021-03-12T12:04:02.090419Z"
    }
   },
   "outputs": [],
   "source": [
    "def logistic_regression_I(network: int, heuristic: str):\n",
    "  X = np.load(f'data/{network:02}/features/time_agnostic/{heuristic}.npy')\n",
    "  X = X.reshape(-1, 1)\n",
    "    \n",
    "  y = np.load(f'data/{network:02}/targets_sampled.npy')\n",
    "  \n",
    "  X_train, X_test, y_train, y_test = (\n",
    "    sklearn.model_selection.train_test_split(X, y))\n",
    "  pipe = sklearn.pipeline.make_pipeline(\n",
    "    sklearn.preprocessing.StandardScaler(),\n",
    "    sklearn.linear_model.LogisticRegression(max_iter=10000)) # type: ignore\n",
    "  pipe.fit(X_train, y_train)\n",
    "  \n",
    "  auc = sklearn.metrics.roc_auc_score(\n",
    "    y_true=y_test, y_score=pipe.predict_proba(X_test)[:,1]) # type: ignore\n",
    "  \n",
    "  return auc\n",
    "\n",
    "exp1 = {\n",
    "  heuristic: (\n",
    "    [logistic_regression_I(network, heuristic) for network in network_indices])\n",
    "  for heuristic in heuristics\n",
    "}\n",
    "exp1 = pd.DataFrame(exp1)"
   ]
  },
  {
   "cell_type": "markdown",
   "id": "round-litigation",
   "metadata": {},
   "source": [
    "# Node temporal features"
   ]
  },
  {
   "cell_type": "code",
   "execution_count": 5,
   "id": "hungry-reflection",
   "metadata": {
    "execution": {
     "iopub.execute_input": "2021-03-12T12:05:46.059975Z",
     "iopub.status.busy": "2021-03-12T12:05:46.059781Z",
     "iopub.status.idle": "2021-03-12T12:06:56.799346Z",
     "shell.execute_reply": "2021-03-12T12:06:56.798765Z",
     "shell.execute_reply.started": "2021-03-12T12:05:46.059957Z"
    },
    "tags": []
   },
   "outputs": [],
   "source": [
    "def logistic_regression_I_II_hypergraph(network: int, heuristic: str):\n",
    "  X = {\n",
    "    'time agnostic': (\n",
    "      np.load(f'data/{network:02}/features/time_agnostic/{heuristic}.npy'))\n",
    "  }      \n",
    "   \n",
    "  for time_strategy in time_strategies:\n",
    "    for nodepair_strategy in nodepair_strategies:\n",
    "      for aggregation_strategy in ['m0', 'm1', 'q0', 'q25', 'q50', 'q75', 'q100']:\n",
    "        X[(time_strategy, nodepair_strategy, aggregation_strategy)] = (\n",
    "          np.load(\n",
    "            f'data/{network:02}/features/time_node/'\n",
    "            f'{time_strategy}_{nodepair_strategy}_{aggregation_strategy}.npy'))\n",
    "    \n",
    "  X = pd.DataFrame(X)\n",
    "    \n",
    "  y = np.load(f'data/{network:02}/targets_sampled.npy')\n",
    "  \n",
    "  X_train, X_test, y_train, y_test = (\n",
    "    sklearn.model_selection.train_test_split(X, y))\n",
    "  pipe = sklearn.pipeline.make_pipeline(\n",
    "    sklearn.preprocessing.StandardScaler(),\n",
    "    sklearn.linear_model.LogisticRegression(max_iter=10000))\n",
    "  pipe.fit(X_train, y_train)\n",
    "  \n",
    "  auc = sklearn.metrics.roc_auc_score(\n",
    "    y_true=y_test, y_score=pipe.predict_proba(X_test)[:,1])\n",
    "  \n",
    "  return auc\n",
    "\n",
    "def logistic_regression_I_II_simplegraph(network: int, heuristic: str):\n",
    "  X = {\n",
    "    'time agnostic': (\n",
    "      np.load(f'data/{network:02}/features/time_agnostic/{heuristic}.npy'))\n",
    "  }  \n",
    "    \n",
    "  for time_strategy in time_strategies:\n",
    "    for nodepair_strategy in nodepair_strategies:\n",
    "        X[(time_strategy, nodepair_strategy)] = (\n",
    "          np.load(\n",
    "            f'data/{network:02}/features/time_node/'\n",
    "            f'{time_strategy}_{nodepair_strategy}.npy'))\n",
    "    \n",
    "  X = pd.DataFrame(X)\n",
    "    \n",
    "  y = np.load(f'data/{network:02}/targets_sampled.npy')\n",
    "  \n",
    "  X_train, X_test, y_train, y_test = (\n",
    "    sklearn.model_selection.train_test_split(X, y))\n",
    "  pipe = sklearn.pipeline.make_pipeline(\n",
    "    sklearn.preprocessing.StandardScaler(),\n",
    "    sklearn.linear_model.LogisticRegression(max_iter=10000))\n",
    "  pipe.fit(X_train, y_train)\n",
    "  \n",
    "  auc = sklearn.metrics.roc_auc_score(\n",
    "    y_true=y_test, y_score=pipe.predict_proba(X_test)[:,1])\n",
    "  \n",
    "  return auc\n",
    "\n",
    "exp2 = {\n",
    "  heuristic: [\n",
    "      logistic_regression_I_II_hypergraph(network, heuristic) \n",
    "      for network in hypergraph_indices\n",
    "    ] + [\n",
    "      logistic_regression_I_II_simplegraph(network, heuristic)\n",
    "      for network in simplegraph_indices\n",
    "    ]\n",
    "  for heuristic in heuristics\n",
    "}\n",
    "exp2 = pd.DataFrame(exp2)"
   ]
  },
  {
   "cell_type": "code",
   "execution_count": 6,
   "id": "private-fusion",
   "metadata": {
    "execution": {
     "iopub.execute_input": "2021-03-12T12:06:56.800377Z",
     "iopub.status.busy": "2021-03-12T12:06:56.800259Z",
     "iopub.status.idle": "2021-03-12T12:08:14.491434Z",
     "shell.execute_reply": "2021-03-12T12:08:14.490533Z",
     "shell.execute_reply.started": "2021-03-12T12:06:56.800360Z"
    },
    "tags": []
   },
   "outputs": [],
   "source": [
    "def logistic_regression_III_hypergraph(network: int, heuristic: str):\n",
    "  X = dict()  \n",
    "  for time_strategy in time_strategies:\n",
    "    for aggregation_strategy in aggregation_strategies:\n",
    "      if aggregation_strategy not in ['m2', 'm3']:\n",
    "        X[(heuristic, time_strategy, aggregation_strategy)] = (\n",
    "          np.load(\n",
    "            f'data/{network:02}/features/time_edge/'\n",
    "            f'{heuristic}_{time_strategy}_{aggregation_strategy}.npy'))\n",
    "    \n",
    "  X = pd.DataFrame(X)\n",
    "    \n",
    "  y = np.load(f'data/{network:02}/targets_sampled.npy')\n",
    "  \n",
    "  X_train, X_test, y_train, y_test = (\n",
    "    sklearn.model_selection.train_test_split(X, y))\n",
    "  pipe = sklearn.pipeline.make_pipeline(\n",
    "    sklearn.preprocessing.StandardScaler(),\n",
    "    sklearn.linear_model.LogisticRegression(max_iter=10000))\n",
    "  pipe.fit(X_train, y_train)\n",
    "  \n",
    "  auc = sklearn.metrics.roc_auc_score(\n",
    "    y_true=y_test, y_score=pipe.predict_proba(X_test)[:,1])\n",
    "  \n",
    "  return auc\n",
    "\n",
    "def logistic_regression_III_simplegraph(network: int, heuristic: str):\n",
    "  X = dict()  \n",
    "  for time_strategy in time_strategies:\n",
    "    X[(heuristic, time_strategy)] = np.load(\n",
    "      f'data/{network:02}/features/time_edge/{heuristic}_{time_strategy}.npy')\n",
    "    \n",
    "  X = pd.DataFrame(X)\n",
    "    \n",
    "  y = np.load(f'data/{network:02}/targets_sampled.npy')\n",
    "  \n",
    "  X_train, X_test, y_train, y_test = (\n",
    "    sklearn.model_selection.train_test_split(X, y))\n",
    "  pipe = sklearn.pipeline.make_pipeline(\n",
    "    sklearn.preprocessing.StandardScaler(),\n",
    "    sklearn.linear_model.LogisticRegression(max_iter=10000))\n",
    "  pipe.fit(X_train, y_train)\n",
    "  \n",
    "  auc = sklearn.metrics.roc_auc_score(\n",
    "    y_true=y_test, y_score=pipe.predict_proba(X_test)[:,1])\n",
    "  \n",
    "  return auc\n",
    "\n",
    "exp3 = {\n",
    "  heuristic: [\n",
    "      logistic_regression_I_II_hypergraph(network, heuristic) \n",
    "      for network in hypergraph_indices\n",
    "    ] + [\n",
    "      logistic_regression_I_II_simplegraph(network, heuristic)\n",
    "      for network in simplegraph_indices\n",
    "    ]\n",
    "  for heuristic in heuristics\n",
    "}\n",
    "exp3 = pd.DataFrame(exp3)"
   ]
  },
  {
   "cell_type": "code",
   "execution_count": 7,
   "id": "imported-notification",
   "metadata": {
    "execution": {
     "iopub.execute_input": "2021-03-12T12:08:14.492882Z",
     "iopub.status.busy": "2021-03-12T12:08:14.492728Z",
     "iopub.status.idle": "2021-03-12T12:08:14.497685Z",
     "shell.execute_reply": "2021-03-12T12:08:14.497163Z",
     "shell.execute_reply.started": "2021-03-12T12:08:14.492861Z"
    },
    "tags": []
   },
   "outputs": [],
   "source": [
    "df = pd.concat({'I': exp1.T, 'I+II': exp2.T, 'III': exp3.T}, axis=1)"
   ]
  },
  {
   "cell_type": "code",
   "execution_count": 8,
   "id": "chemical-operations",
   "metadata": {
    "execution": {
     "iopub.execute_input": "2021-03-12T12:08:14.498501Z",
     "iopub.status.busy": "2021-03-12T12:08:14.498366Z",
     "iopub.status.idle": "2021-03-12T12:08:14.604745Z",
     "shell.execute_reply": "2021-03-12T12:08:14.604168Z",
     "shell.execute_reply.started": "2021-03-12T12:08:14.498484Z"
    },
    "tags": []
   },
   "outputs": [
    {
     "name": "stdout",
     "output_type": "stream",
     "text": [
      "\\begin{table}\n",
      "\\centering\n",
      "\\caption{Performance, measured by the AUC, of the different experiments for the various heuristics.}\n",
      "\\label{fig:heuristics}\n",
      "\\begin{tabular}{lrrr}\n",
      "\\toprule\n",
      "{} &     I &  I+II &   III \\\\\n",
      "\\midrule\n",
      "aa &  0.78 &  0.87 &  0.87 \\\\\n",
      "cn &  0.74 &  0.86 &  0.86 \\\\\n",
      "jc &  0.64 &  0.86 &  0.85 \\\\\n",
      "pa &  0.76 &  0.84 &  0.84 \\\\\n",
      "\\bottomrule\n",
      "\\end{tabular}\n",
      "\\end{table}\n",
      "\n"
     ]
    }
   ],
   "source": [
    "print(\n",
    "  df.mean(axis=1, level=0).round(2).to_latex(\n",
    "    caption=(\n",
    "      'Performance, measured by the AUC, of the different experiments for the '\n",
    "      'various heuristics.'),\n",
    "    label='fig:heuristics')\n",
    ")"
   ]
  },
  {
   "cell_type": "code",
   "execution_count": null,
   "id": "circular-capture",
   "metadata": {},
   "outputs": [],
   "source": []
  }
 ],
 "metadata": {
  "kernelspec": {
   "display_name": "Python 3",
   "language": "python",
   "name": "python3"
  },
  "language_info": {
   "codemirror_mode": {
    "name": "ipython",
    "version": 3
   },
   "file_extension": ".py",
   "mimetype": "text/x-python",
   "name": "python",
   "nbconvert_exporter": "python",
   "pygments_lexer": "ipython3",
   "version": "3.9.2"
  }
 },
 "nbformat": 4,
 "nbformat_minor": 5
}
