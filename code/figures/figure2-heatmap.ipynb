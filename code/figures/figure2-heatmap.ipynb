{
 "cells": [
  {
   "cell_type": "code",
   "execution_count": 13,
   "id": "prepared-welcome",
   "metadata": {
    "execution": {
     "iopub.execute_input": "2021-03-06T09:03:23.029443Z",
     "iopub.status.busy": "2021-03-06T09:03:23.029307Z",
     "iopub.status.idle": "2021-03-06T09:03:23.032934Z",
     "shell.execute_reply": "2021-03-06T09:03:23.032450Z",
     "shell.execute_reply.started": "2021-03-06T09:03:23.029428Z"
    }
   },
   "outputs": [
    {
     "name": "stdout",
     "output_type": "stream",
     "text": [
      "/scratch/bruingjde/SNAM2021-code\n"
     ]
    }
   ],
   "source": [
    "%cd /scratch/bruingjde/SNAM2021-code/\n",
    "\n",
    "from constants import *"
   ]
  },
  {
   "cell_type": "markdown",
   "id": "northern-temple",
   "metadata": {},
   "source": [
    "# Size"
   ]
  },
  {
   "cell_type": "code",
   "execution_count": 14,
   "id": "neutral-habitat",
   "metadata": {
    "execution": {
     "iopub.execute_input": "2021-03-06T09:03:23.446796Z",
     "iopub.status.busy": "2021-03-06T09:03:23.446581Z",
     "iopub.status.idle": "2021-03-06T09:06:30.218986Z",
     "shell.execute_reply": "2021-03-06T09:06:30.218466Z",
     "shell.execute_reply.started": "2021-03-06T09:03:23.446769Z"
    }
   },
   "outputs": [
    {
     "data": {
      "application/vnd.jupyter.widget-view+json": {
       "model_id": "",
       "version_major": 2,
       "version_minor": 0
      },
      "text/plain": [
       "  0%|          | 0/26 [00:00<?, ?it/s]"
      ]
     },
     "metadata": {},
     "output_type": "display_data"
    },
    {
     "data": {
      "text/html": [
       "<div>\n",
       "<style scoped>\n",
       "    .dataframe tbody tr th:only-of-type {\n",
       "        vertical-align: middle;\n",
       "    }\n",
       "\n",
       "    .dataframe tbody tr th {\n",
       "        vertical-align: top;\n",
       "    }\n",
       "\n",
       "    .dataframe thead th {\n",
       "        text-align: right;\n",
       "    }\n",
       "</style>\n",
       "<table border=\"1\" class=\"dataframe\">\n",
       "  <thead>\n",
       "    <tr style=\"text-align: right;\">\n",
       "      <th></th>\n",
       "      <th>nodes</th>\n",
       "      <th>edges</th>\n",
       "      <th>events</th>\n",
       "    </tr>\n",
       "  </thead>\n",
       "  <tbody>\n",
       "    <tr>\n",
       "      <th>1</th>\n",
       "      <td>1824701</td>\n",
       "      <td>8344615</td>\n",
       "      <td>29487744</td>\n",
       "    </tr>\n",
       "    <tr>\n",
       "      <th>2</th>\n",
       "      <td>16959</td>\n",
       "      <td>1194440</td>\n",
       "      <td>2322259</td>\n",
       "    </tr>\n",
       "    <tr>\n",
       "      <th>3</th>\n",
       "      <td>87273</td>\n",
       "      <td>299220</td>\n",
       "      <td>1148072</td>\n",
       "    </tr>\n",
       "    <tr>\n",
       "      <th>4</th>\n",
       "      <td>55387</td>\n",
       "      <td>335708</td>\n",
       "      <td>335708</td>\n",
       "    </tr>\n",
       "    <tr>\n",
       "      <th>5</th>\n",
       "      <td>17218</td>\n",
       "      <td>55276</td>\n",
       "      <td>88090</td>\n",
       "    </tr>\n",
       "    <tr>\n",
       "      <th>6</th>\n",
       "      <td>6798</td>\n",
       "      <td>214693</td>\n",
       "      <td>290597</td>\n",
       "    </tr>\n",
       "    <tr>\n",
       "      <th>7</th>\n",
       "      <td>855165</td>\n",
       "      <td>3358827</td>\n",
       "      <td>23787273</td>\n",
       "    </tr>\n",
       "    <tr>\n",
       "      <th>8</th>\n",
       "      <td>55387</td>\n",
       "      <td>335708</td>\n",
       "      <td>335708</td>\n",
       "    </tr>\n",
       "    <tr>\n",
       "      <th>9</th>\n",
       "      <td>30398</td>\n",
       "      <td>86312</td>\n",
       "      <td>87627</td>\n",
       "    </tr>\n",
       "    <tr>\n",
       "      <th>10</th>\n",
       "      <td>279374</td>\n",
       "      <td>1546540</td>\n",
       "      <td>1729983</td>\n",
       "    </tr>\n",
       "    <tr>\n",
       "      <th>11</th>\n",
       "      <td>139409</td>\n",
       "      <td>2989657</td>\n",
       "      <td>3018197</td>\n",
       "    </tr>\n",
       "    <tr>\n",
       "      <th>12</th>\n",
       "      <td>167</td>\n",
       "      <td>3251</td>\n",
       "      <td>82927</td>\n",
       "    </tr>\n",
       "    <tr>\n",
       "      <th>13</th>\n",
       "      <td>899</td>\n",
       "      <td>7031</td>\n",
       "      <td>33720</td>\n",
       "    </tr>\n",
       "    <tr>\n",
       "      <th>14</th>\n",
       "      <td>24818</td>\n",
       "      <td>199973</td>\n",
       "      <td>506550</td>\n",
       "    </tr>\n",
       "    <tr>\n",
       "      <th>16</th>\n",
       "      <td>114467</td>\n",
       "      <td>593129</td>\n",
       "      <td>717667</td>\n",
       "    </tr>\n",
       "    <tr>\n",
       "      <th>18</th>\n",
       "      <td>3683</td>\n",
       "      <td>12972</td>\n",
       "      <td>22650</td>\n",
       "    </tr>\n",
       "    <tr>\n",
       "      <th>19</th>\n",
       "      <td>1891</td>\n",
       "      <td>4465</td>\n",
       "      <td>39264</td>\n",
       "    </tr>\n",
       "    <tr>\n",
       "      <th>20</th>\n",
       "      <td>5573</td>\n",
       "      <td>18591</td>\n",
       "      <td>32029</td>\n",
       "    </tr>\n",
       "    <tr>\n",
       "      <th>21</th>\n",
       "      <td>6050</td>\n",
       "      <td>20150</td>\n",
       "      <td>21163</td>\n",
       "    </tr>\n",
       "    <tr>\n",
       "      <th>22</th>\n",
       "      <td>159316</td>\n",
       "      <td>508003</td>\n",
       "      <td>964437</td>\n",
       "    </tr>\n",
       "    <tr>\n",
       "      <th>23</th>\n",
       "      <td>194085</td>\n",
       "      <td>785079</td>\n",
       "      <td>1443339</td>\n",
       "    </tr>\n",
       "    <tr>\n",
       "      <th>24</th>\n",
       "      <td>89269</td>\n",
       "      <td>3330022</td>\n",
       "      <td>3394979</td>\n",
       "    </tr>\n",
       "    <tr>\n",
       "      <th>25</th>\n",
       "      <td>116836</td>\n",
       "      <td>2027871</td>\n",
       "      <td>2917785</td>\n",
       "    </tr>\n",
       "    <tr>\n",
       "      <th>28</th>\n",
       "      <td>35010</td>\n",
       "      <td>117594</td>\n",
       "      <td>265491</td>\n",
       "    </tr>\n",
       "    <tr>\n",
       "      <th>29</th>\n",
       "      <td>53018</td>\n",
       "      <td>207636</td>\n",
       "      <td>510787</td>\n",
       "    </tr>\n",
       "    <tr>\n",
       "      <th>30</th>\n",
       "      <td>986</td>\n",
       "      <td>16064</td>\n",
       "      <td>332334</td>\n",
       "    </tr>\n",
       "  </tbody>\n",
       "</table>\n",
       "</div>"
      ],
      "text/plain": [
       "      nodes    edges    events\n",
       "1   1824701  8344615  29487744\n",
       "2     16959  1194440   2322259\n",
       "3     87273   299220   1148072\n",
       "4     55387   335708    335708\n",
       "5     17218    55276     88090\n",
       "6      6798   214693    290597\n",
       "7    855165  3358827  23787273\n",
       "8     55387   335708    335708\n",
       "9     30398    86312     87627\n",
       "10   279374  1546540   1729983\n",
       "11   139409  2989657   3018197\n",
       "12      167     3251     82927\n",
       "13      899     7031     33720\n",
       "14    24818   199973    506550\n",
       "16   114467   593129    717667\n",
       "18     3683    12972     22650\n",
       "19     1891     4465     39264\n",
       "20     5573    18591     32029\n",
       "21     6050    20150     21163\n",
       "22   159316   508003    964437\n",
       "23   194085   785079   1443339\n",
       "24    89269  3330022   3394979\n",
       "25   116836  2027871   2917785\n",
       "28    35010   117594    265491\n",
       "29    53018   207636    510787\n",
       "30      986    16064    332334"
      ]
     },
     "execution_count": 14,
     "metadata": {},
     "output_type": "execute_result"
    }
   ],
   "source": [
    "size = tlp.ProgressParallel(n_jobs=network_count, total=network_count)(\n",
    "  joblib.delayed(get_size)(network_index) for network_index in network_indices\n",
    ")\n",
    "  \n",
    "size = pd.DataFrame(size)\n",
    "size"
   ]
  },
  {
   "cell_type": "markdown",
   "id": "registered-sussex",
   "metadata": {},
   "source": [
    "# Other stats"
   ]
  },
  {
   "cell_type": "code",
   "execution_count": 3,
   "id": "numerical-think",
   "metadata": {
    "collapsed": true,
    "execution": {
     "iopub.execute_input": "2021-03-05T07:40:12.040375Z",
     "iopub.status.busy": "2021-03-05T07:40:12.040234Z",
     "iopub.status.idle": "2021-03-05T07:40:12.070516Z",
     "shell.execute_reply": "2021-03-05T07:40:12.069705Z",
     "shell.execute_reply.started": "2021-03-05T07:40:12.040358Z"
    },
    "jupyter": {
     "outputs_hidden": true
    }
   },
   "outputs": [
    {
     "data": {
      "application/vnd.jupyter.widget-view+json": {
       "model_id": "27e84970ffb34d52b6f240b2a8b7081f",
       "version_major": 2,
       "version_minor": 0
      },
      "text/plain": [
       "  0%|          | 0/26 [00:00<?, ?it/s]"
      ]
     },
     "metadata": {},
     "output_type": "display_data"
    },
    {
     "data": {
      "text/html": [
       "<div>\n",
       "<style scoped>\n",
       "    .dataframe tbody tr th:only-of-type {\n",
       "        vertical-align: middle;\n",
       "    }\n",
       "\n",
       "    .dataframe tbody tr th {\n",
       "        vertical-align: top;\n",
       "    }\n",
       "\n",
       "    .dataframe thead th {\n",
       "        text-align: right;\n",
       "    }\n",
       "</style>\n",
       "<table border=\"1\" class=\"dataframe\">\n",
       "  <thead>\n",
       "    <tr style=\"text-align: right;\">\n",
       "      <th></th>\n",
       "      <th>density</th>\n",
       "      <th>degree assortativity</th>\n",
       "      <th>average clustering coefficient</th>\n",
       "    </tr>\n",
       "  </thead>\n",
       "  <tbody>\n",
       "    <tr>\n",
       "      <th>1</th>\n",
       "      <td>0.000005</td>\n",
       "      <td>0.114186</td>\n",
       "      <td>0.632629</td>\n",
       "    </tr>\n",
       "    <tr>\n",
       "      <th>2</th>\n",
       "      <td>0.008307</td>\n",
       "      <td>0.059906</td>\n",
       "      <td>0.606845</td>\n",
       "    </tr>\n",
       "    <tr>\n",
       "      <th>3</th>\n",
       "      <td>0.000079</td>\n",
       "      <td>-0.166689</td>\n",
       "      <td>0.119342</td>\n",
       "    </tr>\n",
       "    <tr>\n",
       "      <th>4</th>\n",
       "      <td>0.000219</td>\n",
       "      <td>0.221522</td>\n",
       "      <td>0.123693</td>\n",
       "    </tr>\n",
       "    <tr>\n",
       "      <th>5</th>\n",
       "      <td>0.000373</td>\n",
       "      <td>0.177355</td>\n",
       "      <td>0.642282</td>\n",
       "    </tr>\n",
       "    <tr>\n",
       "      <th>6</th>\n",
       "      <td>0.009293</td>\n",
       "      <td>0.010808</td>\n",
       "      <td>0.770476</td>\n",
       "    </tr>\n",
       "    <tr>\n",
       "      <th>7</th>\n",
       "      <td>0.000009</td>\n",
       "      <td>0.155727</td>\n",
       "      <td>0.606712</td>\n",
       "    </tr>\n",
       "    <tr>\n",
       "      <th>8</th>\n",
       "      <td>0.000219</td>\n",
       "      <td>0.221522</td>\n",
       "      <td>0.123693</td>\n",
       "    </tr>\n",
       "    <tr>\n",
       "      <th>9</th>\n",
       "      <td>0.000187</td>\n",
       "      <td>0.008341</td>\n",
       "      <td>0.005286</td>\n",
       "    </tr>\n",
       "    <tr>\n",
       "      <th>10</th>\n",
       "      <td>0.000040</td>\n",
       "      <td>-0.055707</td>\n",
       "      <td>0.089571</td>\n",
       "    </tr>\n",
       "    <tr>\n",
       "      <th>11</th>\n",
       "      <td>0.000308</td>\n",
       "      <td>-0.227284</td>\n",
       "      <td>0.144015</td>\n",
       "    </tr>\n",
       "    <tr>\n",
       "      <th>12</th>\n",
       "      <td>0.234543</td>\n",
       "      <td>-0.294441</td>\n",
       "      <td>0.591863</td>\n",
       "    </tr>\n",
       "    <tr>\n",
       "      <th>13</th>\n",
       "      <td>0.017419</td>\n",
       "      <td>-0.092248</td>\n",
       "      <td>0.070458</td>\n",
       "    </tr>\n",
       "    <tr>\n",
       "      <th>14</th>\n",
       "      <td>0.000649</td>\n",
       "      <td>-0.197902</td>\n",
       "      <td>0.312096</td>\n",
       "    </tr>\n",
       "    <tr>\n",
       "      <th>16</th>\n",
       "      <td>0.000091</td>\n",
       "      <td>-0.051317</td>\n",
       "      <td>0.128461</td>\n",
       "    </tr>\n",
       "    <tr>\n",
       "      <th>18</th>\n",
       "      <td>0.001913</td>\n",
       "      <td>-0.153884</td>\n",
       "      <td>0.167077</td>\n",
       "    </tr>\n",
       "    <tr>\n",
       "      <th>19</th>\n",
       "      <td>0.002499</td>\n",
       "      <td>-0.301404</td>\n",
       "      <td>0.209099</td>\n",
       "    </tr>\n",
       "    <tr>\n",
       "      <th>20</th>\n",
       "      <td>0.001197</td>\n",
       "      <td>-0.144884</td>\n",
       "      <td>0.163569</td>\n",
       "    </tr>\n",
       "    <tr>\n",
       "      <th>21</th>\n",
       "      <td>0.001101</td>\n",
       "      <td>0.335905</td>\n",
       "      <td>0.054398</td>\n",
       "    </tr>\n",
       "    <tr>\n",
       "      <th>22</th>\n",
       "      <td>0.000040</td>\n",
       "      <td>-0.143106</td>\n",
       "      <td>0.109331</td>\n",
       "    </tr>\n",
       "    <tr>\n",
       "      <th>23</th>\n",
       "      <td>0.000042</td>\n",
       "      <td>-0.087745</td>\n",
       "      <td>0.116163</td>\n",
       "    </tr>\n",
       "    <tr>\n",
       "      <th>24</th>\n",
       "      <td>0.000836</td>\n",
       "      <td>-0.078326</td>\n",
       "      <td>0.004867</td>\n",
       "    </tr>\n",
       "    <tr>\n",
       "      <th>25</th>\n",
       "      <td>0.000297</td>\n",
       "      <td>-0.064984</td>\n",
       "      <td>0.363506</td>\n",
       "    </tr>\n",
       "    <tr>\n",
       "      <th>28</th>\n",
       "      <td>0.000192</td>\n",
       "      <td>-0.087156</td>\n",
       "      <td>0.177422</td>\n",
       "    </tr>\n",
       "    <tr>\n",
       "      <th>29</th>\n",
       "      <td>0.000148</td>\n",
       "      <td>-0.137222</td>\n",
       "      <td>0.178697</td>\n",
       "    </tr>\n",
       "    <tr>\n",
       "      <th>30</th>\n",
       "      <td>0.033080</td>\n",
       "      <td>-0.025743</td>\n",
       "      <td>0.407050</td>\n",
       "    </tr>\n",
       "  </tbody>\n",
       "</table>\n",
       "</div>"
      ],
      "text/plain": [
       "     density  degree assortativity  average clustering coefficient\n",
       "1   0.000005              0.114186                        0.632629\n",
       "2   0.008307              0.059906                        0.606845\n",
       "3   0.000079             -0.166689                        0.119342\n",
       "4   0.000219              0.221522                        0.123693\n",
       "5   0.000373              0.177355                        0.642282\n",
       "6   0.009293              0.010808                        0.770476\n",
       "7   0.000009              0.155727                        0.606712\n",
       "8   0.000219              0.221522                        0.123693\n",
       "9   0.000187              0.008341                        0.005286\n",
       "10  0.000040             -0.055707                        0.089571\n",
       "11  0.000308             -0.227284                        0.144015\n",
       "12  0.234543             -0.294441                        0.591863\n",
       "13  0.017419             -0.092248                        0.070458\n",
       "14  0.000649             -0.197902                        0.312096\n",
       "16  0.000091             -0.051317                        0.128461\n",
       "18  0.001913             -0.153884                        0.167077\n",
       "19  0.002499             -0.301404                        0.209099\n",
       "20  0.001197             -0.144884                        0.163569\n",
       "21  0.001101              0.335905                        0.054398\n",
       "22  0.000040             -0.143106                        0.109331\n",
       "23  0.000042             -0.087745                        0.116163\n",
       "24  0.000836             -0.078326                        0.004867\n",
       "25  0.000297             -0.064984                        0.363506\n",
       "28  0.000192             -0.087156                        0.177422\n",
       "29  0.000148             -0.137222                        0.178697\n",
       "30  0.033080             -0.025743                        0.407050"
      ]
     },
     "execution_count": 3,
     "metadata": {},
     "output_type": "execute_result"
    }
   ],
   "source": [
    "stats = get_all_stats(network_indices=network_indices) \n",
    "stats = stats[['density', 'degree assortativity', 'average clustering coefficient']]\n",
    "stats"
   ]
  },
  {
   "cell_type": "markdown",
   "id": "reflected-damage",
   "metadata": {
    "execution": {
     "iopub.execute_input": "2021-03-05T07:43:27.946739Z",
     "iopub.status.busy": "2021-03-05T07:43:27.946412Z",
     "iopub.status.idle": "2021-03-05T07:43:27.950442Z",
     "shell.execute_reply": "2021-03-05T07:43:27.949791Z",
     "shell.execute_reply.started": "2021-03-05T07:43:27.946709Z"
    }
   },
   "source": [
    "# Diameter"
   ]
  },
  {
   "cell_type": "code",
   "execution_count": 4,
   "id": "greatest-olive",
   "metadata": {
    "collapsed": true,
    "execution": {
     "iopub.execute_input": "2021-03-05T07:40:12.071795Z",
     "iopub.status.busy": "2021-03-05T07:40:12.071662Z",
     "iopub.status.idle": "2021-03-05T07:40:12.147782Z",
     "shell.execute_reply": "2021-03-05T07:40:12.147108Z",
     "shell.execute_reply.started": "2021-03-05T07:40:12.071780Z"
    },
    "jupyter": {
     "outputs_hidden": true
    }
   },
   "outputs": [
    {
     "data": {
      "application/vnd.jupyter.widget-view+json": {
       "model_id": "dc6f1112f2594c42ac51a97a80a45ebc",
       "version_major": 2,
       "version_minor": 0
      },
      "text/plain": [
       "  0%|          | 0/26 [00:00<?, ?it/s]"
      ]
     },
     "metadata": {},
     "output_type": "display_data"
    },
    {
     "data": {
      "text/plain": [
       "{1: 23,\n",
       " 2: 8,\n",
       " 3: 14,\n",
       " 4: 16,\n",
       " 5: 19,\n",
       " 6: 11,\n",
       " 7: 22,\n",
       " 8: 16,\n",
       " 9: 12,\n",
       " 10: 18,\n",
       " 11: 4,\n",
       " 12: 5,\n",
       " 13: 6,\n",
       " 14: 9,\n",
       " 16: 14,\n",
       " 18: 10,\n",
       " 19: 8,\n",
       " 20: 14,\n",
       " 21: 13,\n",
       " 22: 13,\n",
       " 23: 12,\n",
       " 24: 8,\n",
       " 25: 10,\n",
       " 28: 11,\n",
       " 29: 17,\n",
       " 30: 7}"
      ]
     },
     "execution_count": 4,
     "metadata": {},
     "output_type": "execute_result"
    }
   ],
   "source": [
    "diameter = get_diameter()\n",
    "diameter"
   ]
  },
  {
   "cell_type": "markdown",
   "id": "elect-animal",
   "metadata": {},
   "source": [
    "# Static features"
   ]
  },
  {
   "cell_type": "code",
   "execution_count": 8,
   "id": "infrared-jaguar",
   "metadata": {
    "execution": {
     "iopub.execute_input": "2021-03-05T07:41:35.273021Z",
     "iopub.status.busy": "2021-03-05T07:41:35.272856Z",
     "iopub.status.idle": "2021-03-05T07:41:36.937275Z",
     "shell.execute_reply": "2021-03-05T07:41:36.936725Z",
     "shell.execute_reply.started": "2021-03-05T07:41:35.273003Z"
    }
   },
   "outputs": [
    {
     "data": {
      "text/plain": [
       "{1: 0.699924097961159,\n",
       " 2: 0.8143284728472847,\n",
       " 3: 0.8613062444958731,\n",
       " 4: 0.7506946672481443,\n",
       " 5: 0.6925966656698206,\n",
       " 6: 0.7533923284953032,\n",
       " 7: 0.7163399049436928,\n",
       " 8: 0.7546202156938044,\n",
       " 9: 0.8405976473095821,\n",
       " 10: 0.8921576425730398,\n",
       " 11: 0.9362951126582724,\n",
       " 12: 0.8586906690669067,\n",
       " 13: 0.738536525733494,\n",
       " 14: 0.867469046358269,\n",
       " 16: 0.8848937918118533,\n",
       " 18: 0.8608546145337374,\n",
       " 19: 0.9151420838625097,\n",
       " 20: 0.8319948714428556,\n",
       " 21: 0.6868458781362007,\n",
       " 22: 0.9413970629070905,\n",
       " 23: 0.9268580332817813,\n",
       " 24: 0.7816485573922645,\n",
       " 25: 0.8643604442037945,\n",
       " 28: 0.8791134475241598,\n",
       " 29: 0.904999392764926,\n",
       " 30: 0.8318958379300065}"
      ]
     },
     "execution_count": 8,
     "metadata": {},
     "output_type": "execute_result"
    }
   ],
   "source": [
    "def logistic_regression_I(network_index: int):\n",
    "  X = dict()\n",
    "  for heuristic in ['aa', 'cn', 'jc', 'pa']:\n",
    "    X[heuristic] = np.load(\n",
    "      f'data/{network_index:02}/features/time_agnostic/{heuristic}.npy')\n",
    "  X = pd.DataFrame(X)\n",
    "    \n",
    "  y = np.load(f'data/{network_index:02}/targets_sampled.npy')\n",
    "  \n",
    "  X_train, X_test, y_train, y_test = (\n",
    "    sklearn.model_selection.train_test_split(X, y))\n",
    "  pipe = sklearn.pipeline.make_pipeline(\n",
    "    sklearn.preprocessing.StandardScaler(),\n",
    "    sklearn.linear_model.LogisticRegression(max_iter=10000)) # type: ignore\n",
    "  pipe.fit(X_train, y_train)\n",
    "  \n",
    "  auc = sklearn.metrics.roc_auc_score(\n",
    "    y_true=y_test, y_score=pipe.predict_proba(X_test)[:,1]) # type: ignore\n",
    "  \n",
    "  return auc\n",
    "\n",
    "auc_I = {\n",
    "  network_index: logistic_regression_I(network_index) \n",
    "  for network_index in network_indices}\n",
    "auc_I"
   ]
  },
  {
   "cell_type": "markdown",
   "id": "chief-joint",
   "metadata": {},
   "source": [
    "# Node temporal features"
   ]
  },
  {
   "cell_type": "code",
   "execution_count": 6,
   "id": "provincial-makeup",
   "metadata": {
    "collapsed": true,
    "execution": {
     "iopub.execute_input": "2021-03-05T07:40:13.941195Z",
     "iopub.status.busy": "2021-03-05T07:40:13.940952Z",
     "iopub.status.idle": "2021-03-05T07:40:41.165322Z",
     "shell.execute_reply": "2021-03-05T07:40:41.164706Z",
     "shell.execute_reply.started": "2021-03-05T07:40:13.941167Z"
    },
    "jupyter": {
     "outputs_hidden": true
    }
   },
   "outputs": [
    {
     "data": {
      "text/plain": [
       "{1: 0.7920932310346859,\n",
       " 2: 0.8680074699887106,\n",
       " 3: 0.910095344807511,\n",
       " 4: 0.7846909963985594,\n",
       " 5: 0.7191603912866438,\n",
       " 6: 0.8210045385914684,\n",
       " 7: 0.8281480948094808,\n",
       " 8: 0.7695917356355753,\n",
       " 9: 0.8730075199999999,\n",
       " 10: 0.92104130867474,\n",
       " 11: 0.9332287752639995,\n",
       " 12: 0.9035033445605352,\n",
       " 13: 0.8718804757531987,\n",
       " 14: 0.9316179049418367,\n",
       " 16: 0.9416733560096325,\n",
       " 18: 0.9397506419773478,\n",
       " 19: 0.9394996460718456,\n",
       " 20: 0.9401433691756272,\n",
       " 21: 0.7170140588889977,\n",
       " 22: 0.9722219199930368,\n",
       " 23: 0.963841165526021,\n",
       " 24: 0.9486037989470483,\n",
       " 25: 0.9394734854691053,\n",
       " 28: 0.8841493232016263,\n",
       " 29: 0.9216305208892848,\n",
       " 30: 0.8484279014904563}"
      ]
     },
     "execution_count": 6,
     "metadata": {},
     "output_type": "execute_result"
    }
   ],
   "source": [
    "def logistic_regression_I_II(network_index: int, hypergraph: bool):\n",
    "  X = dict()\n",
    "  for heuristic in ['aa', 'cn', 'jc', 'pa']:\n",
    "    X[heuristic] = (\n",
    "      np.load(\n",
    "        f'data/{network_index:02}/features/time_agnostic/{heuristic}.npy'))\n",
    "    \n",
    "  if hypergraph:\n",
    "    for time_strategy in time_strategies:\n",
    "      for nodepair_strategy in nodepair_strategies:\n",
    "        for aggregation_strategy in ['m0', 'm1', 'm2', 'm3', 'q0', 'q25', 'q50', 'q75', 'q100']:\n",
    "          X[(time_strategy, nodepair_strategy, aggregation_strategy)] = (\n",
    "            np.load(\n",
    "              f'data/{network_index:02}/features/time_node/'\n",
    "              f'{time_strategy}_{nodepair_strategy}_{aggregation_strategy}.npy'\n",
    "            ))\n",
    "  else:\n",
    "    for time_strategy in time_strategies:\n",
    "      for nodepair_strategy in nodepair_strategies:\n",
    "          X[(time_strategy, nodepair_strategy)] = (\n",
    "            np.load(\n",
    "              f'data/{network_index:02}/features/time_node/'\n",
    "              f'{time_strategy}_{nodepair_strategy}.npy'))\n",
    "    \n",
    "  X = pd.DataFrame(X)\n",
    "    \n",
    "  y = np.load(f'data/{network_index:02}/targets_sampled.npy')\n",
    "  \n",
    "  X_train, X_test, y_train, y_test = (\n",
    "    sklearn.model_selection.train_test_split(X, y))\n",
    "  pipe = sklearn.pipeline.make_pipeline(\n",
    "    sklearn.preprocessing.StandardScaler(),\n",
    "    sklearn.linear_model.LogisticRegression(max_iter=10000))\n",
    "  pipe.fit(X_train, y_train)\n",
    "  \n",
    "  auc = sklearn.metrics.roc_auc_score(\n",
    "    y_true=y_test, y_score=pipe.predict_proba(X_test)[:,1])\n",
    "  \n",
    "  return auc\n",
    "\n",
    "auc_I_II = {\n",
    "  network_index: (\n",
    "    logistic_regression_I_II(\n",
    "      network_index, hypergraph=network_index in hypergraph_indices\n",
    "    )\n",
    "  )\n",
    "  for network_index in network_indices\n",
    "}\n",
    "auc_I_II"
   ]
  },
  {
   "cell_type": "markdown",
   "id": "musical-article",
   "metadata": {},
   "source": [
    "# Edge temporal features"
   ]
  },
  {
   "cell_type": "code",
   "execution_count": 7,
   "id": "pacific-miracle",
   "metadata": {
    "collapsed": true,
    "execution": {
     "iopub.execute_input": "2021-03-05T07:40:41.166816Z",
     "iopub.status.busy": "2021-03-05T07:40:41.166612Z",
     "iopub.status.idle": "2021-03-05T07:40:58.630293Z",
     "shell.execute_reply": "2021-03-05T07:40:58.629711Z",
     "shell.execute_reply.started": "2021-03-05T07:40:41.166789Z"
    },
    "jupyter": {
     "outputs_hidden": true
    }
   },
   "outputs": [
    {
     "data": {
      "text/plain": [
       "{1: 0.8146751489979615,\n",
       " 2: 0.8525497239898362,\n",
       " 3: 0.8784198080177978,\n",
       " 4: 0.7859246302488722,\n",
       " 5: 0.7517025529614252,\n",
       " 6: 0.8023390248238554,\n",
       " 7: 0.8409793952582293,\n",
       " 8: 0.7982422832268523,\n",
       " 9: 0.8485403048435456,\n",
       " 10: 0.9249837262482051,\n",
       " 11: 0.94023448,\n",
       " 12: 0.8960919393098151,\n",
       " 13: 0.793380326512631,\n",
       " 14: 0.9248861508750631,\n",
       " 16: 0.9302565365469929,\n",
       " 18: 0.9275861180012487,\n",
       " 19: 0.9234620715281183,\n",
       " 20: 0.9299367878269322,\n",
       " 21: 0.7176814703667035,\n",
       " 22: 0.9590662901712841,\n",
       " 23: 0.9522892870610273,\n",
       " 24: 0.8872790307272169,\n",
       " 25: 0.9070825515272039,\n",
       " 28: 0.8945673300923651,\n",
       " 29: 0.9162775456705169,\n",
       " 30: 0.8524738493322173}"
      ]
     },
     "execution_count": 7,
     "metadata": {},
     "output_type": "execute_result"
    }
   ],
   "source": [
    "def logistic_regression_III(network_index: int, hypergraph: bool):\n",
    "  X = dict()\n",
    "  \n",
    "  for heuristic in ['aa', 'cn', 'jc', 'pa']:  \n",
    "    for time_strategy in time_strategies:\n",
    "      if hypergraph:\n",
    "        for aggregation_strategy in ['m0', 'm1', 'q0', 'q25', 'q50', 'q75', 'q100']:\n",
    "            X[(heuristic, time_strategy, aggregation_strategy)] = np.load(\n",
    "                f'data/{network_index:02}/features/time_edge/'\n",
    "                f'{heuristic}_{time_strategy}_{aggregation_strategy}.npy')\n",
    "      else:\n",
    "        X[(heuristic, time_strategy)] = np.load(\n",
    "          f'data/{network_index:02}/features/time_edge/'\n",
    "          f'{heuristic}_{time_strategy}.npy')\n",
    "    \n",
    "  X = pd.DataFrame(X)\n",
    "    \n",
    "  y = np.load(f'data/{network_index:02}/targets_sampled.npy')\n",
    "  \n",
    "  X_train, X_test, y_train, y_test = (\n",
    "    sklearn.model_selection.train_test_split(X, y))\n",
    "  pipe = sklearn.pipeline.make_pipeline(\n",
    "    sklearn.preprocessing.StandardScaler(),\n",
    "    sklearn.linear_model.LogisticRegression(max_iter=10000))\n",
    "  pipe.fit(X_train, y_train)\n",
    "  \n",
    "  auc = sklearn.metrics.roc_auc_score(\n",
    "    y_true=y_test, y_score=pipe.predict_proba(X_test)[:,1])\n",
    "  \n",
    "  return auc\n",
    "\n",
    "auc_III = {\n",
    "  network_index: logistic_regression_III(\n",
    "    network_index, hypergraph=network_index in hypergraph_indices)\n",
    "  for network_index in network_indices}\n",
    "auc_III"
   ]
  },
  {
   "cell_type": "markdown",
   "id": "impressed-occupation",
   "metadata": {},
   "source": [
    "# Figures"
   ]
  },
  {
   "cell_type": "code",
   "execution_count": 18,
   "id": "black-trinity",
   "metadata": {
    "execution": {
     "iopub.execute_input": "2021-03-06T09:29:02.468821Z",
     "iopub.status.busy": "2021-03-06T09:29:02.468616Z",
     "iopub.status.idle": "2021-03-06T09:29:02.474267Z",
     "shell.execute_reply": "2021-03-06T09:29:02.473860Z",
     "shell.execute_reply.started": "2021-03-06T09:29:02.468803Z"
    }
   },
   "outputs": [
    {
     "data": {
      "text/plain": [
       "Index(['nodes', 'edges', 'events', 'density', 'degree assortativity',\n",
       "       'average clustering coefficient', 'diameter', 'time agnostic',\n",
       "       'time aware'],\n",
       "      dtype='object')"
      ]
     },
     "execution_count": 18,
     "metadata": {},
     "output_type": "execute_result"
    }
   ],
   "source": [
    "df = pd.concat([\n",
    "  size,\n",
    "  stats,\n",
    "  pd.Series(diameter, name='diameter'),\n",
    "  pd.Series(auc_I, name='time agnostic'),\n",
    "#   pd.Series(auc_I_II, name='I+II'),\n",
    "  pd.Series(auc_III, name='time aware')\n",
    "], axis=1)\n",
    "df.columns"
   ]
  },
  {
   "cell_type": "code",
   "execution_count": 33,
   "id": "historical-stewart",
   "metadata": {
    "execution": {
     "iopub.execute_input": "2021-03-06T09:40:43.807566Z",
     "iopub.status.busy": "2021-03-06T09:40:43.807234Z",
     "iopub.status.idle": "2021-03-06T09:40:43.858337Z",
     "shell.execute_reply": "2021-03-06T09:40:43.857830Z",
     "shell.execute_reply.started": "2021-03-06T09:40:43.807531Z"
    }
   },
   "outputs": [
    {
     "data": {
      "application/vnd.plotly.v1+json": {
       "config": {
        "plotlyServerURL": "https://plot.ly"
       },
       "data": [
        {
         "dimensions": [
          {
           "label": "log10_nodes",
           "values": [
            6.261191710059008,
            4.229400240179781,
            4.940879905049479,
            4.7434078425120925,
            4.235982703481839,
            3.832381160247041,
            5.932049917857972,
            4.7434078425120925,
            4.482845010663455,
            5.446185985951594,
            5.144290811955439,
            2.2227164711475833,
            2.9537596917332287,
            4.394766780226321,
            5.058680300793207,
            3.566201718854913,
            3.27669152884504,
            3.7460890430562004,
            3.781755374652469,
            5.202259393897625,
            5.287991971921295,
            4.950700669792183,
            5.0675766800400925,
            4.5441921107650325,
            4.724423340799064,
            2.9938769149412114
           ]
          },
          {
           "label": "log10_edges",
           "values": [
            6.92140630419889,
            6.077164338829825,
            5.475990618602006,
            5.525961690710203,
            4.742536608158096,
            5.331817884627525,
            6.5261876356129545,
            5.525961690710203,
            4.936071180089312,
            6.189361157158221,
            6.4756213650628425,
            3.5120169694961265,
            3.847017097935354,
            5.30097136195106,
            5.7731491586178505,
            4.113006940000935,
            3.649821463224565,
            4.2693027508693415,
            4.304275050477128,
            5.705866277007539,
            5.894913360615057,
            6.522447102709635,
            6.307040324541935,
            5.0703851632931185,
            5.317302653829136,
            4.205853695464925
           ]
          },
          {
           "label": "log10_events",
           "values": [
            7.469641547532148,
            6.365910654678198,
            6.059969125189281,
            5.525961690710203,
            4.944926609986216,
            5.463291126513376,
            7.376344656878144,
            5.525961690710203,
            4.942637943431793,
            6.23804183547419,
            6.479747583093886,
            4.918695954457297,
            4.527887565952705,
            5.704622319691093,
            5.855922976819747,
            4.355068206348851,
            4.59399454104691,
            4.505543379461151,
            4.325577231940418,
            5.984273863451154,
            6.1593683467126175,
            6.530837092250592,
            6.465053287299146,
            5.4240498033211155,
            5.70823983553713,
            5.521574774793691
           ]
          },
          {
           "label": "log10_density",
           "values": [
            -5.299946882246506,
            -2.0805805366148182,
            -4.104734219529072,
            -3.6598161574886725,
            -3.428373579126383,
            -2.031850549877796,
            -5.036881696589955,
            -3.6598161574886725,
            -3.7285745583959904,
            -4.401979264551003,
            -3.5119271479186143,
            -0.6297775940275305,
            -1.7589889348011978,
            -3.187514703311783,
            -4.043177653229619,
            -2.7182485673579926,
            -2.6023018741297372,
            -2.9217674042748034,
            -2.95813391301871,
            -4.397619789121039,
            -4.380038349906852,
            -3.0779193761745733,
            -3.5270793227293775,
            -3.7169566575262802,
            -3.8305058405742534,
            -1.4804294543099163
           ]
          },
          {
           "label": "degree assortativity",
           "values": [
            0.11418606213251023,
            0.05990602356520642,
            -0.16668921248903376,
            0.22152209122401575,
            0.17735508426665947,
            0.010807570870238672,
            0.15572691103343225,
            0.22152209122401575,
            0.008340848252679544,
            -0.05570734485697259,
            -0.22728357104647662,
            -0.2944409614112026,
            -0.09224752361797837,
            -0.1979021439216104,
            -0.05131698595130927,
            -0.1538843071006663,
            -0.3014037924599531,
            -0.14488431695962897,
            0.3359053448595694,
            -0.1431055291178876,
            -0.08774463236182088,
            -0.07832611083600156,
            -0.06498399832912004,
            -0.08715649239969606,
            -0.13722179026208756,
            -0.02574336808308864
           ]
          },
          {
           "label": "average clustering coefficient",
           "values": [
            0.6326288213192619,
            0.6068446615939613,
            0.1193422206466295,
            0.12369333267623095,
            0.6422820749124981,
            0.7704760500990266,
            0.6067118542238752,
            0.12369333267623095,
            0.00528633336069672,
            0.08957142125840332,
            0.14401496032453878,
            0.5918632085486949,
            0.07045750195922552,
            0.31209623831465394,
            0.12846083615818096,
            0.1670770874526366,
            0.20909938909216996,
            0.1635690961716454,
            0.05439778407010737,
            0.10933050429506323,
            0.1161626188904495,
            0.004867097449686009,
            0.36350644082386435,
            0.17742215384053944,
            0.17869748550945325,
            0.40705044751953817
           ]
          },
          {
           "label": "diameter",
           "values": [
            23,
            8,
            14,
            16,
            19,
            11,
            22,
            16,
            12,
            18,
            4,
            5,
            6,
            9,
            14,
            10,
            8,
            14,
            13,
            13,
            12,
            8,
            10,
            11,
            17,
            7
           ]
          },
          {
           "label": "time agnostic",
           "values": [
            0.699924097961159,
            0.8143284728472847,
            0.8613062444958731,
            0.7506946672481443,
            0.6925966656698206,
            0.7533923284953032,
            0.7163399049436928,
            0.7546202156938044,
            0.8405976473095821,
            0.8921576425730398,
            0.9362951126582724,
            0.8586906690669067,
            0.738536525733494,
            0.867469046358269,
            0.8848937918118533,
            0.8608546145337374,
            0.9151420838625097,
            0.8319948714428556,
            0.6868458781362007,
            0.9413970629070905,
            0.9268580332817813,
            0.7816485573922645,
            0.8643604442037945,
            0.8791134475241598,
            0.904999392764926,
            0.8318958379300065
           ]
          },
          {
           "label": "time aware",
           "values": [
            0.8146751489979615,
            0.8525497239898362,
            0.8784198080177978,
            0.7859246302488722,
            0.7517025529614252,
            0.8023390248238554,
            0.8409793952582293,
            0.7982422832268523,
            0.8485403048435456,
            0.9249837262482051,
            0.94023448,
            0.8960919393098151,
            0.793380326512631,
            0.9248861508750631,
            0.9302565365469929,
            0.9275861180012487,
            0.9234620715281183,
            0.9299367878269322,
            0.7176814703667035,
            0.9590662901712841,
            0.9522892870610273,
            0.8872790307272169,
            0.9070825515272039,
            0.8945673300923651,
            0.9162775456705169,
            0.8524738493322173
           ]
          }
         ],
         "domain": {
          "x": [
           0,
           1
          ],
          "y": [
           0,
           1
          ]
         },
         "line": {
          "color": [
           0.8146751489979615,
           0.8525497239898362,
           0.8784198080177978,
           0.7859246302488722,
           0.7517025529614252,
           0.8023390248238554,
           0.8409793952582293,
           0.7982422832268523,
           0.8485403048435456,
           0.9249837262482051,
           0.94023448,
           0.8960919393098151,
           0.793380326512631,
           0.9248861508750631,
           0.9302565365469929,
           0.9275861180012487,
           0.9234620715281183,
           0.9299367878269322,
           0.7176814703667035,
           0.9590662901712841,
           0.9522892870610273,
           0.8872790307272169,
           0.9070825515272039,
           0.8945673300923651,
           0.9162775456705169,
           0.8524738493322173
          ],
          "coloraxis": "coloraxis"
         },
         "name": "",
         "type": "parcoords"
        }
       ],
       "layout": {
        "autosize": true,
        "coloraxis": {
         "cmax": 1,
         "cmin": 0.5,
         "colorbar": {
          "title": {
           "text": "time aware"
          }
         },
         "colorscale": [
          [
           0,
           "#0d0887"
          ],
          [
           0.1111111111111111,
           "#46039f"
          ],
          [
           0.2222222222222222,
           "#7201a8"
          ],
          [
           0.3333333333333333,
           "#9c179e"
          ],
          [
           0.4444444444444444,
           "#bd3786"
          ],
          [
           0.5555555555555556,
           "#d8576b"
          ],
          [
           0.6666666666666666,
           "#ed7953"
          ],
          [
           0.7777777777777778,
           "#fb9f3a"
          ],
          [
           0.8888888888888888,
           "#fdca26"
          ],
          [
           1,
           "#f0f921"
          ]
         ]
        },
        "legend": {
         "tracegroupgap": 0
        },
        "margin": {
         "t": 60
        },
        "template": {
         "data": {
          "bar": [
           {
            "error_x": {
             "color": "#2a3f5f"
            },
            "error_y": {
             "color": "#2a3f5f"
            },
            "marker": {
             "line": {
              "color": "#E5ECF6",
              "width": 0.5
             }
            },
            "type": "bar"
           }
          ],
          "barpolar": [
           {
            "marker": {
             "line": {
              "color": "#E5ECF6",
              "width": 0.5
             }
            },
            "type": "barpolar"
           }
          ],
          "carpet": [
           {
            "aaxis": {
             "endlinecolor": "#2a3f5f",
             "gridcolor": "white",
             "linecolor": "white",
             "minorgridcolor": "white",
             "startlinecolor": "#2a3f5f"
            },
            "baxis": {
             "endlinecolor": "#2a3f5f",
             "gridcolor": "white",
             "linecolor": "white",
             "minorgridcolor": "white",
             "startlinecolor": "#2a3f5f"
            },
            "type": "carpet"
           }
          ],
          "choropleth": [
           {
            "colorbar": {
             "outlinewidth": 0,
             "ticks": ""
            },
            "type": "choropleth"
           }
          ],
          "contour": [
           {
            "colorbar": {
             "outlinewidth": 0,
             "ticks": ""
            },
            "colorscale": [
             [
              0,
              "#0d0887"
             ],
             [
              0.1111111111111111,
              "#46039f"
             ],
             [
              0.2222222222222222,
              "#7201a8"
             ],
             [
              0.3333333333333333,
              "#9c179e"
             ],
             [
              0.4444444444444444,
              "#bd3786"
             ],
             [
              0.5555555555555556,
              "#d8576b"
             ],
             [
              0.6666666666666666,
              "#ed7953"
             ],
             [
              0.7777777777777778,
              "#fb9f3a"
             ],
             [
              0.8888888888888888,
              "#fdca26"
             ],
             [
              1,
              "#f0f921"
             ]
            ],
            "type": "contour"
           }
          ],
          "contourcarpet": [
           {
            "colorbar": {
             "outlinewidth": 0,
             "ticks": ""
            },
            "type": "contourcarpet"
           }
          ],
          "heatmap": [
           {
            "colorbar": {
             "outlinewidth": 0,
             "ticks": ""
            },
            "colorscale": [
             [
              0,
              "#0d0887"
             ],
             [
              0.1111111111111111,
              "#46039f"
             ],
             [
              0.2222222222222222,
              "#7201a8"
             ],
             [
              0.3333333333333333,
              "#9c179e"
             ],
             [
              0.4444444444444444,
              "#bd3786"
             ],
             [
              0.5555555555555556,
              "#d8576b"
             ],
             [
              0.6666666666666666,
              "#ed7953"
             ],
             [
              0.7777777777777778,
              "#fb9f3a"
             ],
             [
              0.8888888888888888,
              "#fdca26"
             ],
             [
              1,
              "#f0f921"
             ]
            ],
            "type": "heatmap"
           }
          ],
          "heatmapgl": [
           {
            "colorbar": {
             "outlinewidth": 0,
             "ticks": ""
            },
            "colorscale": [
             [
              0,
              "#0d0887"
             ],
             [
              0.1111111111111111,
              "#46039f"
             ],
             [
              0.2222222222222222,
              "#7201a8"
             ],
             [
              0.3333333333333333,
              "#9c179e"
             ],
             [
              0.4444444444444444,
              "#bd3786"
             ],
             [
              0.5555555555555556,
              "#d8576b"
             ],
             [
              0.6666666666666666,
              "#ed7953"
             ],
             [
              0.7777777777777778,
              "#fb9f3a"
             ],
             [
              0.8888888888888888,
              "#fdca26"
             ],
             [
              1,
              "#f0f921"
             ]
            ],
            "type": "heatmapgl"
           }
          ],
          "histogram": [
           {
            "marker": {
             "colorbar": {
              "outlinewidth": 0,
              "ticks": ""
             }
            },
            "type": "histogram"
           }
          ],
          "histogram2d": [
           {
            "colorbar": {
             "outlinewidth": 0,
             "ticks": ""
            },
            "colorscale": [
             [
              0,
              "#0d0887"
             ],
             [
              0.1111111111111111,
              "#46039f"
             ],
             [
              0.2222222222222222,
              "#7201a8"
             ],
             [
              0.3333333333333333,
              "#9c179e"
             ],
             [
              0.4444444444444444,
              "#bd3786"
             ],
             [
              0.5555555555555556,
              "#d8576b"
             ],
             [
              0.6666666666666666,
              "#ed7953"
             ],
             [
              0.7777777777777778,
              "#fb9f3a"
             ],
             [
              0.8888888888888888,
              "#fdca26"
             ],
             [
              1,
              "#f0f921"
             ]
            ],
            "type": "histogram2d"
           }
          ],
          "histogram2dcontour": [
           {
            "colorbar": {
             "outlinewidth": 0,
             "ticks": ""
            },
            "colorscale": [
             [
              0,
              "#0d0887"
             ],
             [
              0.1111111111111111,
              "#46039f"
             ],
             [
              0.2222222222222222,
              "#7201a8"
             ],
             [
              0.3333333333333333,
              "#9c179e"
             ],
             [
              0.4444444444444444,
              "#bd3786"
             ],
             [
              0.5555555555555556,
              "#d8576b"
             ],
             [
              0.6666666666666666,
              "#ed7953"
             ],
             [
              0.7777777777777778,
              "#fb9f3a"
             ],
             [
              0.8888888888888888,
              "#fdca26"
             ],
             [
              1,
              "#f0f921"
             ]
            ],
            "type": "histogram2dcontour"
           }
          ],
          "mesh3d": [
           {
            "colorbar": {
             "outlinewidth": 0,
             "ticks": ""
            },
            "type": "mesh3d"
           }
          ],
          "parcoords": [
           {
            "line": {
             "colorbar": {
              "outlinewidth": 0,
              "ticks": ""
             }
            },
            "type": "parcoords"
           }
          ],
          "pie": [
           {
            "automargin": true,
            "type": "pie"
           }
          ],
          "scatter": [
           {
            "marker": {
             "colorbar": {
              "outlinewidth": 0,
              "ticks": ""
             }
            },
            "type": "scatter"
           }
          ],
          "scatter3d": [
           {
            "line": {
             "colorbar": {
              "outlinewidth": 0,
              "ticks": ""
             }
            },
            "marker": {
             "colorbar": {
              "outlinewidth": 0,
              "ticks": ""
             }
            },
            "type": "scatter3d"
           }
          ],
          "scattercarpet": [
           {
            "marker": {
             "colorbar": {
              "outlinewidth": 0,
              "ticks": ""
             }
            },
            "type": "scattercarpet"
           }
          ],
          "scattergeo": [
           {
            "marker": {
             "colorbar": {
              "outlinewidth": 0,
              "ticks": ""
             }
            },
            "type": "scattergeo"
           }
          ],
          "scattergl": [
           {
            "marker": {
             "colorbar": {
              "outlinewidth": 0,
              "ticks": ""
             }
            },
            "type": "scattergl"
           }
          ],
          "scattermapbox": [
           {
            "marker": {
             "colorbar": {
              "outlinewidth": 0,
              "ticks": ""
             }
            },
            "type": "scattermapbox"
           }
          ],
          "scatterpolar": [
           {
            "marker": {
             "colorbar": {
              "outlinewidth": 0,
              "ticks": ""
             }
            },
            "type": "scatterpolar"
           }
          ],
          "scatterpolargl": [
           {
            "marker": {
             "colorbar": {
              "outlinewidth": 0,
              "ticks": ""
             }
            },
            "type": "scatterpolargl"
           }
          ],
          "scatterternary": [
           {
            "marker": {
             "colorbar": {
              "outlinewidth": 0,
              "ticks": ""
             }
            },
            "type": "scatterternary"
           }
          ],
          "surface": [
           {
            "colorbar": {
             "outlinewidth": 0,
             "ticks": ""
            },
            "colorscale": [
             [
              0,
              "#0d0887"
             ],
             [
              0.1111111111111111,
              "#46039f"
             ],
             [
              0.2222222222222222,
              "#7201a8"
             ],
             [
              0.3333333333333333,
              "#9c179e"
             ],
             [
              0.4444444444444444,
              "#bd3786"
             ],
             [
              0.5555555555555556,
              "#d8576b"
             ],
             [
              0.6666666666666666,
              "#ed7953"
             ],
             [
              0.7777777777777778,
              "#fb9f3a"
             ],
             [
              0.8888888888888888,
              "#fdca26"
             ],
             [
              1,
              "#f0f921"
             ]
            ],
            "type": "surface"
           }
          ],
          "table": [
           {
            "cells": {
             "fill": {
              "color": "#EBF0F8"
             },
             "line": {
              "color": "white"
             }
            },
            "header": {
             "fill": {
              "color": "#C8D4E3"
             },
             "line": {
              "color": "white"
             }
            },
            "type": "table"
           }
          ]
         },
         "layout": {
          "annotationdefaults": {
           "arrowcolor": "#2a3f5f",
           "arrowhead": 0,
           "arrowwidth": 1
          },
          "autotypenumbers": "strict",
          "coloraxis": {
           "colorbar": {
            "outlinewidth": 0,
            "ticks": ""
           }
          },
          "colorscale": {
           "diverging": [
            [
             0,
             "#8e0152"
            ],
            [
             0.1,
             "#c51b7d"
            ],
            [
             0.2,
             "#de77ae"
            ],
            [
             0.3,
             "#f1b6da"
            ],
            [
             0.4,
             "#fde0ef"
            ],
            [
             0.5,
             "#f7f7f7"
            ],
            [
             0.6,
             "#e6f5d0"
            ],
            [
             0.7,
             "#b8e186"
            ],
            [
             0.8,
             "#7fbc41"
            ],
            [
             0.9,
             "#4d9221"
            ],
            [
             1,
             "#276419"
            ]
           ],
           "sequential": [
            [
             0,
             "#0d0887"
            ],
            [
             0.1111111111111111,
             "#46039f"
            ],
            [
             0.2222222222222222,
             "#7201a8"
            ],
            [
             0.3333333333333333,
             "#9c179e"
            ],
            [
             0.4444444444444444,
             "#bd3786"
            ],
            [
             0.5555555555555556,
             "#d8576b"
            ],
            [
             0.6666666666666666,
             "#ed7953"
            ],
            [
             0.7777777777777778,
             "#fb9f3a"
            ],
            [
             0.8888888888888888,
             "#fdca26"
            ],
            [
             1,
             "#f0f921"
            ]
           ],
           "sequentialminus": [
            [
             0,
             "#0d0887"
            ],
            [
             0.1111111111111111,
             "#46039f"
            ],
            [
             0.2222222222222222,
             "#7201a8"
            ],
            [
             0.3333333333333333,
             "#9c179e"
            ],
            [
             0.4444444444444444,
             "#bd3786"
            ],
            [
             0.5555555555555556,
             "#d8576b"
            ],
            [
             0.6666666666666666,
             "#ed7953"
            ],
            [
             0.7777777777777778,
             "#fb9f3a"
            ],
            [
             0.8888888888888888,
             "#fdca26"
            ],
            [
             1,
             "#f0f921"
            ]
           ]
          },
          "colorway": [
           "#636efa",
           "#EF553B",
           "#00cc96",
           "#ab63fa",
           "#FFA15A",
           "#19d3f3",
           "#FF6692",
           "#B6E880",
           "#FF97FF",
           "#FECB52"
          ],
          "font": {
           "color": "#2a3f5f"
          },
          "geo": {
           "bgcolor": "white",
           "lakecolor": "white",
           "landcolor": "#E5ECF6",
           "showlakes": true,
           "showland": true,
           "subunitcolor": "white"
          },
          "hoverlabel": {
           "align": "left"
          },
          "hovermode": "closest",
          "mapbox": {
           "style": "light"
          },
          "paper_bgcolor": "white",
          "plot_bgcolor": "#E5ECF6",
          "polar": {
           "angularaxis": {
            "gridcolor": "white",
            "linecolor": "white",
            "ticks": ""
           },
           "bgcolor": "#E5ECF6",
           "radialaxis": {
            "gridcolor": "white",
            "linecolor": "white",
            "ticks": ""
           }
          },
          "scene": {
           "xaxis": {
            "backgroundcolor": "#E5ECF6",
            "gridcolor": "white",
            "gridwidth": 2,
            "linecolor": "white",
            "showbackground": true,
            "ticks": "",
            "zerolinecolor": "white"
           },
           "yaxis": {
            "backgroundcolor": "#E5ECF6",
            "gridcolor": "white",
            "gridwidth": 2,
            "linecolor": "white",
            "showbackground": true,
            "ticks": "",
            "zerolinecolor": "white"
           },
           "zaxis": {
            "backgroundcolor": "#E5ECF6",
            "gridcolor": "white",
            "gridwidth": 2,
            "linecolor": "white",
            "showbackground": true,
            "ticks": "",
            "zerolinecolor": "white"
           }
          },
          "shapedefaults": {
           "line": {
            "color": "#2a3f5f"
           }
          },
          "ternary": {
           "aaxis": {
            "gridcolor": "white",
            "linecolor": "white",
            "ticks": ""
           },
           "baxis": {
            "gridcolor": "white",
            "linecolor": "white",
            "ticks": ""
           },
           "bgcolor": "#E5ECF6",
           "caxis": {
            "gridcolor": "white",
            "linecolor": "white",
            "ticks": ""
           }
          },
          "title": {
           "x": 0.05
          },
          "xaxis": {
           "automargin": true,
           "gridcolor": "white",
           "linecolor": "white",
           "ticks": "",
           "title": {
            "standoff": 15
           },
           "zerolinecolor": "white",
           "zerolinewidth": 2
          },
          "yaxis": {
           "automargin": true,
           "gridcolor": "white",
           "linecolor": "white",
           "ticks": "",
           "title": {
            "standoff": 15
           },
           "zerolinecolor": "white",
           "zerolinewidth": 2
          }
         }
        }
       }
      },
      "image/png": "[encoded data removed]",
      "text/html": [
       "<div>                            <div id=\"046d50b2-eb3b-45df-b7d2-14d4de05b95e\" class=\"plotly-graph-div\" style=\"height:525px; width:100%;\"></div>            <script type=\"text/javascript\">                require([\"plotly\"], function(Plotly) {                    window.PLOTLYENV=window.PLOTLYENV || {};                                    if (document.getElementById(\"046d50b2-eb3b-45df-b7d2-14d4de05b95e\")) {                    Plotly.newPlot(                        \"046d50b2-eb3b-45df-b7d2-14d4de05b95e\",                        [{\"dimensions\": [{\"label\": \"log10_nodes\", \"values\": [6.261191710059008, 4.229400240179781, 4.940879905049479, 4.7434078425120925, 4.235982703481839, 3.832381160247041, 5.932049917857972, 4.7434078425120925, 4.482845010663455, 5.446185985951594, 5.144290811955439, 2.2227164711475833, 2.9537596917332287, 4.394766780226321, 5.058680300793207, 3.566201718854913, 3.27669152884504, 3.7460890430562004, 3.781755374652469, 5.202259393897625, 5.287991971921295, 4.950700669792183, 5.0675766800400925, 4.5441921107650325, 4.724423340799064, 2.9938769149412114]}, {\"label\": \"log10_edges\", \"values\": [6.92140630419889, 6.077164338829825, 5.475990618602006, 5.525961690710203, 4.742536608158096, 5.331817884627525, 6.5261876356129545, 5.525961690710203, 4.936071180089312, 6.189361157158221, 6.4756213650628425, 3.5120169694961265, 3.847017097935354, 5.30097136195106, 5.7731491586178505, 4.113006940000935, 3.649821463224565, 4.2693027508693415, 4.304275050477128, 5.705866277007539, 5.894913360615057, 6.522447102709635, 6.307040324541935, 5.0703851632931185, 5.317302653829136, 4.205853695464925]}, {\"label\": \"log10_events\", \"values\": [7.469641547532148, 6.365910654678198, 6.059969125189281, 5.525961690710203, 4.944926609986216, 5.463291126513376, 7.376344656878144, 5.525961690710203, 4.942637943431793, 6.23804183547419, 6.479747583093886, 4.918695954457297, 4.527887565952705, 5.704622319691093, 5.855922976819747, 4.355068206348851, 4.59399454104691, 4.505543379461151, 4.325577231940418, 5.984273863451154, 6.1593683467126175, 6.530837092250592, 6.465053287299146, 5.4240498033211155, 5.70823983553713, 5.521574774793691]}, {\"label\": \"log10_density\", \"values\": [-5.299946882246506, -2.0805805366148182, -4.104734219529072, -3.6598161574886725, -3.428373579126383, -2.031850549877796, -5.036881696589955, -3.6598161574886725, -3.7285745583959904, -4.401979264551003, -3.5119271479186143, -0.6297775940275305, -1.7589889348011978, -3.187514703311783, -4.043177653229619, -2.7182485673579926, -2.6023018741297372, -2.9217674042748034, -2.95813391301871, -4.397619789121039, -4.380038349906852, -3.0779193761745733, -3.5270793227293775, -3.7169566575262802, -3.8305058405742534, -1.4804294543099163]}, {\"label\": \"degree assortativity\", \"values\": [0.11418606213251023, 0.05990602356520642, -0.16668921248903376, 0.22152209122401575, 0.17735508426665947, 0.010807570870238672, 0.15572691103343225, 0.22152209122401575, 0.008340848252679544, -0.05570734485697259, -0.22728357104647662, -0.2944409614112026, -0.09224752361797837, -0.1979021439216104, -0.05131698595130927, -0.1538843071006663, -0.3014037924599531, -0.14488431695962897, 0.3359053448595694, -0.1431055291178876, -0.08774463236182088, -0.07832611083600156, -0.06498399832912004, -0.08715649239969606, -0.13722179026208756, -0.02574336808308864]}, {\"label\": \"average clustering coefficient\", \"values\": [0.6326288213192619, 0.6068446615939613, 0.1193422206466295, 0.12369333267623095, 0.6422820749124981, 0.7704760500990266, 0.6067118542238752, 0.12369333267623095, 0.00528633336069672, 0.08957142125840332, 0.14401496032453878, 0.5918632085486949, 0.07045750195922552, 0.31209623831465394, 0.12846083615818096, 0.1670770874526366, 0.20909938909216996, 0.1635690961716454, 0.05439778407010737, 0.10933050429506323, 0.1161626188904495, 0.004867097449686009, 0.36350644082386435, 0.17742215384053944, 0.17869748550945325, 0.40705044751953817]}, {\"label\": \"diameter\", \"values\": [23, 8, 14, 16, 19, 11, 22, 16, 12, 18, 4, 5, 6, 9, 14, 10, 8, 14, 13, 13, 12, 8, 10, 11, 17, 7]}, {\"label\": \"time agnostic\", \"values\": [0.699924097961159, 0.8143284728472847, 0.8613062444958731, 0.7506946672481443, 0.6925966656698206, 0.7533923284953032, 0.7163399049436928, 0.7546202156938044, 0.8405976473095821, 0.8921576425730398, 0.9362951126582724, 0.8586906690669067, 0.738536525733494, 0.867469046358269, 0.8848937918118533, 0.8608546145337374, 0.9151420838625097, 0.8319948714428556, 0.6868458781362007, 0.9413970629070905, 0.9268580332817813, 0.7816485573922645, 0.8643604442037945, 0.8791134475241598, 0.904999392764926, 0.8318958379300065]}, {\"label\": \"time aware\", \"values\": [0.8146751489979615, 0.8525497239898362, 0.8784198080177978, 0.7859246302488722, 0.7517025529614252, 0.8023390248238554, 0.8409793952582293, 0.7982422832268523, 0.8485403048435456, 0.9249837262482051, 0.94023448, 0.8960919393098151, 0.793380326512631, 0.9248861508750631, 0.9302565365469929, 0.9275861180012487, 0.9234620715281183, 0.9299367878269322, 0.7176814703667035, 0.9590662901712841, 0.9522892870610273, 0.8872790307272169, 0.9070825515272039, 0.8945673300923651, 0.9162775456705169, 0.8524738493322173]}], \"domain\": {\"x\": [0.0, 1.0], \"y\": [0.0, 1.0]}, \"line\": {\"color\": [0.8146751489979615, 0.8525497239898362, 0.8784198080177978, 0.7859246302488722, 0.7517025529614252, 0.8023390248238554, 0.8409793952582293, 0.7982422832268523, 0.8485403048435456, 0.9249837262482051, 0.94023448, 0.8960919393098151, 0.793380326512631, 0.9248861508750631, 0.9302565365469929, 0.9275861180012487, 0.9234620715281183, 0.9299367878269322, 0.7176814703667035, 0.9590662901712841, 0.9522892870610273, 0.8872790307272169, 0.9070825515272039, 0.8945673300923651, 0.9162775456705169, 0.8524738493322173], \"coloraxis\": \"coloraxis\"}, \"name\": \"\", \"type\": \"parcoords\"}],                        {\"coloraxis\": {\"cmax\": 1, \"cmin\": 0.5, \"colorbar\": {\"title\": {\"text\": \"time aware\"}}, \"colorscale\": [[0.0, \"#0d0887\"], [0.1111111111111111, \"#46039f\"], [0.2222222222222222, \"#7201a8\"], [0.3333333333333333, \"#9c179e\"], [0.4444444444444444, \"#bd3786\"], [0.5555555555555556, \"#d8576b\"], [0.6666666666666666, \"#ed7953\"], [0.7777777777777778, \"#fb9f3a\"], [0.8888888888888888, \"#fdca26\"], [1.0, \"#f0f921\"]]}, \"legend\": {\"tracegroupgap\": 0}, \"margin\": {\"t\": 60}, \"template\": {\"data\": {\"bar\": [{\"error_x\": {\"color\": \"#2a3f5f\"}, \"error_y\": {\"color\": \"#2a3f5f\"}, \"marker\": {\"line\": {\"color\": \"#E5ECF6\", \"width\": 0.5}}, \"type\": \"bar\"}], \"barpolar\": [{\"marker\": {\"line\": {\"color\": \"#E5ECF6\", \"width\": 0.5}}, \"type\": \"barpolar\"}], \"carpet\": [{\"aaxis\": {\"endlinecolor\": \"#2a3f5f\", \"gridcolor\": \"white\", \"linecolor\": \"white\", \"minorgridcolor\": \"white\", \"startlinecolor\": \"#2a3f5f\"}, \"baxis\": {\"endlinecolor\": \"#2a3f5f\", \"gridcolor\": \"white\", \"linecolor\": \"white\", \"minorgridcolor\": \"white\", \"startlinecolor\": \"#2a3f5f\"}, \"type\": \"carpet\"}], \"choropleth\": [{\"colorbar\": {\"outlinewidth\": 0, \"ticks\": \"\"}, \"type\": \"choropleth\"}], \"contour\": [{\"colorbar\": {\"outlinewidth\": 0, \"ticks\": \"\"}, \"colorscale\": [[0.0, \"#0d0887\"], [0.1111111111111111, \"#46039f\"], [0.2222222222222222, \"#7201a8\"], [0.3333333333333333, \"#9c179e\"], [0.4444444444444444, \"#bd3786\"], [0.5555555555555556, \"#d8576b\"], [0.6666666666666666, \"#ed7953\"], [0.7777777777777778, \"#fb9f3a\"], [0.8888888888888888, \"#fdca26\"], [1.0, \"#f0f921\"]], \"type\": \"contour\"}], \"contourcarpet\": [{\"colorbar\": {\"outlinewidth\": 0, \"ticks\": \"\"}, \"type\": \"contourcarpet\"}], \"heatmap\": [{\"colorbar\": {\"outlinewidth\": 0, \"ticks\": \"\"}, \"colorscale\": [[0.0, \"#0d0887\"], [0.1111111111111111, \"#46039f\"], [0.2222222222222222, \"#7201a8\"], [0.3333333333333333, \"#9c179e\"], [0.4444444444444444, \"#bd3786\"], [0.5555555555555556, \"#d8576b\"], [0.6666666666666666, \"#ed7953\"], [0.7777777777777778, \"#fb9f3a\"], [0.8888888888888888, \"#fdca26\"], [1.0, \"#f0f921\"]], \"type\": \"heatmap\"}], \"heatmapgl\": [{\"colorbar\": {\"outlinewidth\": 0, \"ticks\": \"\"}, \"colorscale\": [[0.0, \"#0d0887\"], [0.1111111111111111, \"#46039f\"], [0.2222222222222222, \"#7201a8\"], [0.3333333333333333, \"#9c179e\"], [0.4444444444444444, \"#bd3786\"], [0.5555555555555556, \"#d8576b\"], [0.6666666666666666, \"#ed7953\"], [0.7777777777777778, \"#fb9f3a\"], [0.8888888888888888, \"#fdca26\"], [1.0, \"#f0f921\"]], \"type\": \"heatmapgl\"}], \"histogram\": [{\"marker\": {\"colorbar\": {\"outlinewidth\": 0, \"ticks\": \"\"}}, \"type\": \"histogram\"}], \"histogram2d\": [{\"colorbar\": {\"outlinewidth\": 0, \"ticks\": \"\"}, \"colorscale\": [[0.0, \"#0d0887\"], [0.1111111111111111, \"#46039f\"], [0.2222222222222222, \"#7201a8\"], [0.3333333333333333, \"#9c179e\"], [0.4444444444444444, \"#bd3786\"], [0.5555555555555556, \"#d8576b\"], [0.6666666666666666, \"#ed7953\"], [0.7777777777777778, \"#fb9f3a\"], [0.8888888888888888, \"#fdca26\"], [1.0, \"#f0f921\"]], \"type\": \"histogram2d\"}], \"histogram2dcontour\": [{\"colorbar\": {\"outlinewidth\": 0, \"ticks\": \"\"}, \"colorscale\": [[0.0, \"#0d0887\"], [0.1111111111111111, \"#46039f\"], [0.2222222222222222, \"#7201a8\"], [0.3333333333333333, \"#9c179e\"], [0.4444444444444444, \"#bd3786\"], [0.5555555555555556, \"#d8576b\"], [0.6666666666666666, \"#ed7953\"], [0.7777777777777778, \"#fb9f3a\"], [0.8888888888888888, \"#fdca26\"], [1.0, \"#f0f921\"]], \"type\": \"histogram2dcontour\"}], \"mesh3d\": [{\"colorbar\": {\"outlinewidth\": 0, \"ticks\": \"\"}, \"type\": \"mesh3d\"}], \"parcoords\": [{\"line\": {\"colorbar\": {\"outlinewidth\": 0, \"ticks\": \"\"}}, \"type\": \"parcoords\"}], \"pie\": [{\"automargin\": true, \"type\": \"pie\"}], \"scatter\": [{\"marker\": {\"colorbar\": {\"outlinewidth\": 0, \"ticks\": \"\"}}, \"type\": \"scatter\"}], \"scatter3d\": [{\"line\": {\"colorbar\": {\"outlinewidth\": 0, \"ticks\": \"\"}}, \"marker\": {\"colorbar\": {\"outlinewidth\": 0, \"ticks\": \"\"}}, \"type\": \"scatter3d\"}], \"scattercarpet\": [{\"marker\": {\"colorbar\": {\"outlinewidth\": 0, \"ticks\": \"\"}}, \"type\": \"scattercarpet\"}], \"scattergeo\": [{\"marker\": {\"colorbar\": {\"outlinewidth\": 0, \"ticks\": \"\"}}, \"type\": \"scattergeo\"}], \"scattergl\": [{\"marker\": {\"colorbar\": {\"outlinewidth\": 0, \"ticks\": \"\"}}, \"type\": \"scattergl\"}], \"scattermapbox\": [{\"marker\": {\"colorbar\": {\"outlinewidth\": 0, \"ticks\": \"\"}}, \"type\": \"scattermapbox\"}], \"scatterpolar\": [{\"marker\": {\"colorbar\": {\"outlinewidth\": 0, \"ticks\": \"\"}}, \"type\": \"scatterpolar\"}], \"scatterpolargl\": [{\"marker\": {\"colorbar\": {\"outlinewidth\": 0, \"ticks\": \"\"}}, \"type\": \"scatterpolargl\"}], \"scatterternary\": [{\"marker\": {\"colorbar\": {\"outlinewidth\": 0, \"ticks\": \"\"}}, \"type\": \"scatterternary\"}], \"surface\": [{\"colorbar\": {\"outlinewidth\": 0, \"ticks\": \"\"}, \"colorscale\": [[0.0, \"#0d0887\"], [0.1111111111111111, \"#46039f\"], [0.2222222222222222, \"#7201a8\"], [0.3333333333333333, \"#9c179e\"], [0.4444444444444444, \"#bd3786\"], [0.5555555555555556, \"#d8576b\"], [0.6666666666666666, \"#ed7953\"], [0.7777777777777778, \"#fb9f3a\"], [0.8888888888888888, \"#fdca26\"], [1.0, \"#f0f921\"]], \"type\": \"surface\"}], \"table\": [{\"cells\": {\"fill\": {\"color\": \"#EBF0F8\"}, \"line\": {\"color\": \"white\"}}, \"header\": {\"fill\": {\"color\": \"#C8D4E3\"}, \"line\": {\"color\": \"white\"}}, \"type\": \"table\"}]}, \"layout\": {\"annotationdefaults\": {\"arrowcolor\": \"#2a3f5f\", \"arrowhead\": 0, \"arrowwidth\": 1}, \"autotypenumbers\": \"strict\", \"coloraxis\": {\"colorbar\": {\"outlinewidth\": 0, \"ticks\": \"\"}}, \"colorscale\": {\"diverging\": [[0, \"#8e0152\"], [0.1, \"#c51b7d\"], [0.2, \"#de77ae\"], [0.3, \"#f1b6da\"], [0.4, \"#fde0ef\"], [0.5, \"#f7f7f7\"], [0.6, \"#e6f5d0\"], [0.7, \"#b8e186\"], [0.8, \"#7fbc41\"], [0.9, \"#4d9221\"], [1, \"#276419\"]], \"sequential\": [[0.0, \"#0d0887\"], [0.1111111111111111, \"#46039f\"], [0.2222222222222222, \"#7201a8\"], [0.3333333333333333, \"#9c179e\"], [0.4444444444444444, \"#bd3786\"], [0.5555555555555556, \"#d8576b\"], [0.6666666666666666, \"#ed7953\"], [0.7777777777777778, \"#fb9f3a\"], [0.8888888888888888, \"#fdca26\"], [1.0, \"#f0f921\"]], \"sequentialminus\": [[0.0, \"#0d0887\"], [0.1111111111111111, \"#46039f\"], [0.2222222222222222, \"#7201a8\"], [0.3333333333333333, \"#9c179e\"], [0.4444444444444444, \"#bd3786\"], [0.5555555555555556, \"#d8576b\"], [0.6666666666666666, \"#ed7953\"], [0.7777777777777778, \"#fb9f3a\"], [0.8888888888888888, \"#fdca26\"], [1.0, \"#f0f921\"]]}, \"colorway\": [\"#636efa\", \"#EF553B\", \"#00cc96\", \"#ab63fa\", \"#FFA15A\", \"#19d3f3\", \"#FF6692\", \"#B6E880\", \"#FF97FF\", \"#FECB52\"], \"font\": {\"color\": \"#2a3f5f\"}, \"geo\": {\"bgcolor\": \"white\", \"lakecolor\": \"white\", \"landcolor\": \"#E5ECF6\", \"showlakes\": true, \"showland\": true, \"subunitcolor\": \"white\"}, \"hoverlabel\": {\"align\": \"left\"}, \"hovermode\": \"closest\", \"mapbox\": {\"style\": \"light\"}, \"paper_bgcolor\": \"white\", \"plot_bgcolor\": \"#E5ECF6\", \"polar\": {\"angularaxis\": {\"gridcolor\": \"white\", \"linecolor\": \"white\", \"ticks\": \"\"}, \"bgcolor\": \"#E5ECF6\", \"radialaxis\": {\"gridcolor\": \"white\", \"linecolor\": \"white\", \"ticks\": \"\"}}, \"scene\": {\"xaxis\": {\"backgroundcolor\": \"#E5ECF6\", \"gridcolor\": \"white\", \"gridwidth\": 2, \"linecolor\": \"white\", \"showbackground\": true, \"ticks\": \"\", \"zerolinecolor\": \"white\"}, \"yaxis\": {\"backgroundcolor\": \"#E5ECF6\", \"gridcolor\": \"white\", \"gridwidth\": 2, \"linecolor\": \"white\", \"showbackground\": true, \"ticks\": \"\", \"zerolinecolor\": \"white\"}, \"zaxis\": {\"backgroundcolor\": \"#E5ECF6\", \"gridcolor\": \"white\", \"gridwidth\": 2, \"linecolor\": \"white\", \"showbackground\": true, \"ticks\": \"\", \"zerolinecolor\": \"white\"}}, \"shapedefaults\": {\"line\": {\"color\": \"#2a3f5f\"}}, \"ternary\": {\"aaxis\": {\"gridcolor\": \"white\", \"linecolor\": \"white\", \"ticks\": \"\"}, \"baxis\": {\"gridcolor\": \"white\", \"linecolor\": \"white\", \"ticks\": \"\"}, \"bgcolor\": \"#E5ECF6\", \"caxis\": {\"gridcolor\": \"white\", \"linecolor\": \"white\", \"ticks\": \"\"}}, \"title\": {\"x\": 0.05}, \"xaxis\": {\"automargin\": true, \"gridcolor\": \"white\", \"linecolor\": \"white\", \"ticks\": \"\", \"title\": {\"standoff\": 15}, \"zerolinecolor\": \"white\", \"zerolinewidth\": 2}, \"yaxis\": {\"automargin\": true, \"gridcolor\": \"white\", \"linecolor\": \"white\", \"ticks\": \"\", \"title\": {\"standoff\": 15}, \"zerolinecolor\": \"white\", \"zerolinewidth\": 2}}}},                        {\"responsive\": true}                    ).then(function(){\n",
       "                            \n",
       "var gd = document.getElementById('046d50b2-eb3b-45df-b7d2-14d4de05b95e');\n",
       "var x = new MutationObserver(function (mutations, observer) {{\n",
       "        var display = window.getComputedStyle(gd).display;\n",
       "        if (!display || display === 'none') {{\n",
       "            console.log([gd, 'removed!']);\n",
       "            Plotly.purge(gd);\n",
       "            observer.disconnect();\n",
       "        }}\n",
       "}});\n",
       "\n",
       "// Listen for the removal of the full notebook cells\n",
       "var notebookContainer = gd.closest('#notebook-container');\n",
       "if (notebookContainer) {{\n",
       "    x.observe(notebookContainer, {childList: true});\n",
       "}}\n",
       "\n",
       "// Listen for the clearing of the current output cell\n",
       "var outputEl = gd.closest('.output');\n",
       "if (outputEl) {{\n",
       "    x.observe(outputEl, {childList: true});\n",
       "}}\n",
       "\n",
       "                        })                };                });            </script>        </div>"
      ]
     },
     "metadata": {},
     "output_type": "display_data"
    }
   ],
   "source": [
    "import plotly.express as px\n",
    "fig = px.parallel_coordinates(\n",
    "  df.assign(log10_nodes=np.log10(df['nodes']), \n",
    "            log10_edges=np.log10(df['edges']),\n",
    "            log10_events=np.log10(df['events']),\n",
    "            log10_density=np.log10(df['density'])), \n",
    "  ['log10_nodes', 'log10_edges', 'log10_events', 'log10_density', \n",
    "   'degree assortativity', \n",
    "   'average clustering coefficient', 'diameter', 'time agnostic', \n",
    "   'time aware'], \n",
    "  color='time aware',\n",
    "  range_color=(.5,1))\n",
    "fig"
   ]
  },
  {
   "cell_type": "code",
   "execution_count": 41,
   "id": "democratic-heaven",
   "metadata": {
    "execution": {
     "iopub.execute_input": "2021-03-07T07:58:00.762455Z",
     "iopub.status.busy": "2021-03-07T07:58:00.762124Z",
     "iopub.status.idle": "2021-03-07T07:58:01.340561Z",
     "shell.execute_reply": "2021-03-07T07:58:01.339612Z",
     "shell.execute_reply.started": "2021-03-07T07:58:00.762423Z"
    }
   },
   "outputs": [
    {
     "data": {
      "image/png": "[encoded data removed]",
      "text/plain": [
       "<Figure size 432x288 with 2 Axes>"
      ]
     },
     "metadata": {
      "needs_background": "light"
     },
     "output_type": "display_data"
    }
   ],
   "source": [
    "sns.heatmap(\n",
    "  (\n",
    "    df.corr()\n",
    "    .loc[['time agnostic', 'time aware']]\n",
    "    .T\n",
    "    .drop(index=['time aware', 'time agnostic'])\n",
    "    .rename({\n",
    "      'average clustering coefficient': 'average\\nclustering\\ncoefficient',\n",
    "      'degree assortativity': 'degree\\nassortativity'})\n",
    "  ), vmin=-1, vmax=1, annot=True, fmt='.2f', cmap='RdBu')\n",
    "plt.yticks(rotation=0) \n",
    "plt.tight_layout()\n",
    "plt.savefig('figures/heatmap.pdf')"
   ]
  },
  {
   "cell_type": "code",
   "execution_count": 12,
   "id": "square-playlist",
   "metadata": {
    "execution": {
     "iopub.execute_input": "2021-03-05T07:48:58.731240Z",
     "iopub.status.busy": "2021-03-05T07:48:58.731028Z",
     "iopub.status.idle": "2021-03-05T07:48:59.424680Z",
     "shell.execute_reply": "2021-03-05T07:48:59.424234Z",
     "shell.execute_reply.started": "2021-03-05T07:48:58.731223Z"
    }
   },
   "outputs": [
    {
     "data": {
      "image/png": "[encoded data removed]",
      "text/plain": [
       "<Figure size 432x288 with 2 Axes>"
      ]
     },
     "metadata": {
      "needs_background": "light"
     },
     "output_type": "display_data"
    }
   ],
   "source": [
    "df = pd.concat([\n",
    "  size,\n",
    "  stats,\n",
    "  pd.Series(diameter, name='diameter'),\n",
    "  pd.Series(auc_I, name='I'),\n",
    "  pd.Series(auc_I_II, name='I+II'),\n",
    "  pd.Series(auc_III, name='III')\n",
    "], axis=1)\n",
    "\n",
    "sns.heatmap(\n",
    "  df.corr(),\n",
    "  vmin=-1, vmax=1, annot=True, fmt='.2f', cmap='RdBu')\n",
    "plt.yticks(rotation=0) \n",
    "plt.savefig('figures/heatmap.pdf')"
   ]
  },
  {
   "cell_type": "code",
   "execution_count": null,
   "id": "twelve-education",
   "metadata": {},
   "outputs": [],
   "source": []
  }
 ],
 "metadata": {
  "kernelspec": {
   "display_name": "Python 3",
   "language": "python",
   "name": "python3"
  },
  "language_info": {
   "codemirror_mode": {
    "name": "ipython",
    "version": 3
   },
   "file_extension": ".py",
   "mimetype": "text/x-python",
   "name": "python",
   "nbconvert_exporter": "python",
   "pygments_lexer": "ipython3",
   "version": "3.9.1"
  }
 },
 "nbformat": 4,
 "nbformat_minor": 5
}
