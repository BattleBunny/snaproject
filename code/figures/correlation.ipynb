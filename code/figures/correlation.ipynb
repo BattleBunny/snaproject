{
 "cells": [
  {
   "cell_type": "code",
   "execution_count": 2,
   "id": "preceding-lover",
   "metadata": {
    "execution": {
     "iopub.execute_input": "2021-03-13T08:22:38.407579Z",
     "iopub.status.busy": "2021-03-13T08:22:38.407363Z",
     "iopub.status.idle": "2021-03-13T08:22:39.387480Z",
     "shell.execute_reply": "2021-03-13T08:22:39.386646Z",
     "shell.execute_reply.started": "2021-03-13T08:22:38.407555Z"
    },
    "tags": []
   },
   "outputs": [
    {
     "name": "stdout",
     "output_type": "stream",
     "text": [
      "/scratch/bruingjde/SNAM2021-code\n"
     ]
    }
   ],
   "source": [
    "%cd /scratch/bruingjde/SNAM2021-code/\n",
    "\n",
    "from constants import *"
   ]
  },
  {
   "cell_type": "markdown",
   "id": "amended-clause",
   "metadata": {},
   "source": [
    "# Size"
   ]
  },
  {
   "cell_type": "code",
   "execution_count": 3,
   "id": "advanced-blake",
   "metadata": {
    "execution": {
     "iopub.execute_input": "2021-03-13T08:22:39.388623Z",
     "iopub.status.busy": "2021-03-13T08:22:39.388496Z",
     "iopub.status.idle": "2021-03-13T08:26:37.223847Z",
     "shell.execute_reply": "2021-03-13T08:26:37.223320Z",
     "shell.execute_reply.started": "2021-03-13T08:22:39.388606Z"
    },
    "tags": []
   },
   "outputs": [
    {
     "data": {
      "application/vnd.jupyter.widget-view+json": {
       "model_id": "",
       "version_major": 2,
       "version_minor": 0
      },
      "text/plain": [
       "  0%|          | 0/26 [00:00<?, ?it/s]"
      ]
     },
     "metadata": {},
     "output_type": "display_data"
    },
    {
     "data": {
      "text/html": [
       "<div>\n",
       "<style scoped>\n",
       "    .dataframe tbody tr th:only-of-type {\n",
       "        vertical-align: middle;\n",
       "    }\n",
       "\n",
       "    .dataframe tbody tr th {\n",
       "        vertical-align: top;\n",
       "    }\n",
       "\n",
       "    .dataframe thead th {\n",
       "        text-align: right;\n",
       "    }\n",
       "</style>\n",
       "<table border=\"1\" class=\"dataframe\">\n",
       "  <thead>\n",
       "    <tr style=\"text-align: right;\">\n",
       "      <th></th>\n",
       "      <th>nodes</th>\n",
       "      <th>edges</th>\n",
       "      <th>events</th>\n",
       "    </tr>\n",
       "  </thead>\n",
       "  <tbody>\n",
       "    <tr>\n",
       "      <th>1</th>\n",
       "      <td>1824701</td>\n",
       "      <td>8344615</td>\n",
       "      <td>29487744</td>\n",
       "    </tr>\n",
       "    <tr>\n",
       "      <th>2</th>\n",
       "      <td>16959</td>\n",
       "      <td>1194440</td>\n",
       "      <td>2322259</td>\n",
       "    </tr>\n",
       "    <tr>\n",
       "      <th>3</th>\n",
       "      <td>87273</td>\n",
       "      <td>299220</td>\n",
       "      <td>1148072</td>\n",
       "    </tr>\n",
       "    <tr>\n",
       "      <th>4</th>\n",
       "      <td>55387</td>\n",
       "      <td>335708</td>\n",
       "      <td>335708</td>\n",
       "    </tr>\n",
       "    <tr>\n",
       "      <th>5</th>\n",
       "      <td>17218</td>\n",
       "      <td>55276</td>\n",
       "      <td>88090</td>\n",
       "    </tr>\n",
       "    <tr>\n",
       "      <th>6</th>\n",
       "      <td>6798</td>\n",
       "      <td>214693</td>\n",
       "      <td>290597</td>\n",
       "    </tr>\n",
       "    <tr>\n",
       "      <th>7</th>\n",
       "      <td>855165</td>\n",
       "      <td>3358827</td>\n",
       "      <td>23787273</td>\n",
       "    </tr>\n",
       "    <tr>\n",
       "      <th>8</th>\n",
       "      <td>55387</td>\n",
       "      <td>335708</td>\n",
       "      <td>335708</td>\n",
       "    </tr>\n",
       "    <tr>\n",
       "      <th>9</th>\n",
       "      <td>30398</td>\n",
       "      <td>86312</td>\n",
       "      <td>87627</td>\n",
       "    </tr>\n",
       "    <tr>\n",
       "      <th>10</th>\n",
       "      <td>279374</td>\n",
       "      <td>1546540</td>\n",
       "      <td>1729983</td>\n",
       "    </tr>\n",
       "    <tr>\n",
       "      <th>11</th>\n",
       "      <td>139409</td>\n",
       "      <td>2989657</td>\n",
       "      <td>3018197</td>\n",
       "    </tr>\n",
       "    <tr>\n",
       "      <th>12</th>\n",
       "      <td>167</td>\n",
       "      <td>3251</td>\n",
       "      <td>82927</td>\n",
       "    </tr>\n",
       "    <tr>\n",
       "      <th>13</th>\n",
       "      <td>899</td>\n",
       "      <td>7031</td>\n",
       "      <td>33720</td>\n",
       "    </tr>\n",
       "    <tr>\n",
       "      <th>14</th>\n",
       "      <td>24818</td>\n",
       "      <td>199973</td>\n",
       "      <td>506550</td>\n",
       "    </tr>\n",
       "    <tr>\n",
       "      <th>16</th>\n",
       "      <td>114467</td>\n",
       "      <td>593129</td>\n",
       "      <td>717667</td>\n",
       "    </tr>\n",
       "    <tr>\n",
       "      <th>18</th>\n",
       "      <td>3683</td>\n",
       "      <td>12972</td>\n",
       "      <td>22650</td>\n",
       "    </tr>\n",
       "    <tr>\n",
       "      <th>19</th>\n",
       "      <td>1891</td>\n",
       "      <td>4465</td>\n",
       "      <td>39264</td>\n",
       "    </tr>\n",
       "    <tr>\n",
       "      <th>20</th>\n",
       "      <td>5573</td>\n",
       "      <td>18591</td>\n",
       "      <td>32029</td>\n",
       "    </tr>\n",
       "    <tr>\n",
       "      <th>21</th>\n",
       "      <td>6050</td>\n",
       "      <td>20150</td>\n",
       "      <td>21163</td>\n",
       "    </tr>\n",
       "    <tr>\n",
       "      <th>22</th>\n",
       "      <td>159316</td>\n",
       "      <td>508003</td>\n",
       "      <td>964437</td>\n",
       "    </tr>\n",
       "    <tr>\n",
       "      <th>23</th>\n",
       "      <td>194085</td>\n",
       "      <td>785079</td>\n",
       "      <td>1443339</td>\n",
       "    </tr>\n",
       "    <tr>\n",
       "      <th>24</th>\n",
       "      <td>89269</td>\n",
       "      <td>3330022</td>\n",
       "      <td>3394979</td>\n",
       "    </tr>\n",
       "    <tr>\n",
       "      <th>25</th>\n",
       "      <td>116836</td>\n",
       "      <td>2027871</td>\n",
       "      <td>2917785</td>\n",
       "    </tr>\n",
       "    <tr>\n",
       "      <th>28</th>\n",
       "      <td>35010</td>\n",
       "      <td>117594</td>\n",
       "      <td>265491</td>\n",
       "    </tr>\n",
       "    <tr>\n",
       "      <th>29</th>\n",
       "      <td>53018</td>\n",
       "      <td>207636</td>\n",
       "      <td>510787</td>\n",
       "    </tr>\n",
       "    <tr>\n",
       "      <th>30</th>\n",
       "      <td>986</td>\n",
       "      <td>16064</td>\n",
       "      <td>332334</td>\n",
       "    </tr>\n",
       "  </tbody>\n",
       "</table>\n",
       "</div>"
      ],
      "text/plain": [
       "      nodes    edges    events\n",
       "1   1824701  8344615  29487744\n",
       "2     16959  1194440   2322259\n",
       "3     87273   299220   1148072\n",
       "4     55387   335708    335708\n",
       "5     17218    55276     88090\n",
       "6      6798   214693    290597\n",
       "7    855165  3358827  23787273\n",
       "8     55387   335708    335708\n",
       "9     30398    86312     87627\n",
       "10   279374  1546540   1729983\n",
       "11   139409  2989657   3018197\n",
       "12      167     3251     82927\n",
       "13      899     7031     33720\n",
       "14    24818   199973    506550\n",
       "16   114467   593129    717667\n",
       "18     3683    12972     22650\n",
       "19     1891     4465     39264\n",
       "20     5573    18591     32029\n",
       "21     6050    20150     21163\n",
       "22   159316   508003    964437\n",
       "23   194085   785079   1443339\n",
       "24    89269  3330022   3394979\n",
       "25   116836  2027871   2917785\n",
       "28    35010   117594    265491\n",
       "29    53018   207636    510787\n",
       "30      986    16064    332334"
      ]
     },
     "execution_count": 3,
     "metadata": {},
     "output_type": "execute_result"
    }
   ],
   "source": [
    "size = tlp.ProgressParallel(n_jobs=network_count, total=network_count)(\n",
    "  joblib.delayed(get_size)(network_index) for network_index in network_indices\n",
    ")\n",
    "  \n",
    "size = pd.DataFrame(size)\n",
    "size"
   ]
  },
  {
   "cell_type": "markdown",
   "id": "split-jaguar",
   "metadata": {},
   "source": [
    "# Other stats"
   ]
  },
  {
   "cell_type": "code",
   "execution_count": 4,
   "id": "prompt-joseph",
   "metadata": {
    "execution": {
     "iopub.execute_input": "2021-03-13T08:26:37.224974Z",
     "iopub.status.busy": "2021-03-13T08:26:37.224851Z",
     "iopub.status.idle": "2021-03-13T08:26:37.252909Z",
     "shell.execute_reply": "2021-03-13T08:26:37.252432Z",
     "shell.execute_reply.started": "2021-03-13T08:26:37.224957Z"
    },
    "tags": []
   },
   "outputs": [
    {
     "data": {
      "application/vnd.jupyter.widget-view+json": {
       "model_id": "fda1577586ae4a998e9ecd205c49826b",
       "version_major": 2,
       "version_minor": 0
      },
      "text/plain": [
       "  0%|          | 0/26 [00:00<?, ?it/s]"
      ]
     },
     "metadata": {},
     "output_type": "display_data"
    },
    {
     "data": {
      "text/html": [
       "<div>\n",
       "<style scoped>\n",
       "    .dataframe tbody tr th:only-of-type {\n",
       "        vertical-align: middle;\n",
       "    }\n",
       "\n",
       "    .dataframe tbody tr th {\n",
       "        vertical-align: top;\n",
       "    }\n",
       "\n",
       "    .dataframe thead th {\n",
       "        text-align: right;\n",
       "    }\n",
       "</style>\n",
       "<table border=\"1\" class=\"dataframe\">\n",
       "  <thead>\n",
       "    <tr style=\"text-align: right;\">\n",
       "      <th></th>\n",
       "      <th>density</th>\n",
       "      <th>degree assortativity</th>\n",
       "      <th>average clustering coefficient</th>\n",
       "    </tr>\n",
       "  </thead>\n",
       "  <tbody>\n",
       "    <tr>\n",
       "      <th>1</th>\n",
       "      <td>0.000005</td>\n",
       "      <td>0.114186</td>\n",
       "      <td>0.632629</td>\n",
       "    </tr>\n",
       "    <tr>\n",
       "      <th>2</th>\n",
       "      <td>0.008307</td>\n",
       "      <td>0.059906</td>\n",
       "      <td>0.606845</td>\n",
       "    </tr>\n",
       "    <tr>\n",
       "      <th>3</th>\n",
       "      <td>0.000079</td>\n",
       "      <td>-0.166689</td>\n",
       "      <td>0.119342</td>\n",
       "    </tr>\n",
       "    <tr>\n",
       "      <th>4</th>\n",
       "      <td>0.000219</td>\n",
       "      <td>0.221522</td>\n",
       "      <td>0.123693</td>\n",
       "    </tr>\n",
       "    <tr>\n",
       "      <th>5</th>\n",
       "      <td>0.000373</td>\n",
       "      <td>0.177355</td>\n",
       "      <td>0.642282</td>\n",
       "    </tr>\n",
       "    <tr>\n",
       "      <th>6</th>\n",
       "      <td>0.009293</td>\n",
       "      <td>0.010808</td>\n",
       "      <td>0.770476</td>\n",
       "    </tr>\n",
       "    <tr>\n",
       "      <th>7</th>\n",
       "      <td>0.000009</td>\n",
       "      <td>0.155727</td>\n",
       "      <td>0.606712</td>\n",
       "    </tr>\n",
       "    <tr>\n",
       "      <th>8</th>\n",
       "      <td>0.000219</td>\n",
       "      <td>0.221522</td>\n",
       "      <td>0.123693</td>\n",
       "    </tr>\n",
       "    <tr>\n",
       "      <th>9</th>\n",
       "      <td>0.000187</td>\n",
       "      <td>0.008341</td>\n",
       "      <td>0.005286</td>\n",
       "    </tr>\n",
       "    <tr>\n",
       "      <th>10</th>\n",
       "      <td>0.000040</td>\n",
       "      <td>-0.055707</td>\n",
       "      <td>0.089571</td>\n",
       "    </tr>\n",
       "    <tr>\n",
       "      <th>11</th>\n",
       "      <td>0.000308</td>\n",
       "      <td>-0.227284</td>\n",
       "      <td>0.144015</td>\n",
       "    </tr>\n",
       "    <tr>\n",
       "      <th>12</th>\n",
       "      <td>0.234543</td>\n",
       "      <td>-0.294441</td>\n",
       "      <td>0.591863</td>\n",
       "    </tr>\n",
       "    <tr>\n",
       "      <th>13</th>\n",
       "      <td>0.017419</td>\n",
       "      <td>-0.092248</td>\n",
       "      <td>0.070458</td>\n",
       "    </tr>\n",
       "    <tr>\n",
       "      <th>14</th>\n",
       "      <td>0.000649</td>\n",
       "      <td>-0.197902</td>\n",
       "      <td>0.312096</td>\n",
       "    </tr>\n",
       "    <tr>\n",
       "      <th>16</th>\n",
       "      <td>0.000091</td>\n",
       "      <td>-0.051317</td>\n",
       "      <td>0.128461</td>\n",
       "    </tr>\n",
       "    <tr>\n",
       "      <th>18</th>\n",
       "      <td>0.001913</td>\n",
       "      <td>-0.153884</td>\n",
       "      <td>0.167077</td>\n",
       "    </tr>\n",
       "    <tr>\n",
       "      <th>19</th>\n",
       "      <td>0.002499</td>\n",
       "      <td>-0.301404</td>\n",
       "      <td>0.209099</td>\n",
       "    </tr>\n",
       "    <tr>\n",
       "      <th>20</th>\n",
       "      <td>0.001197</td>\n",
       "      <td>-0.144884</td>\n",
       "      <td>0.163569</td>\n",
       "    </tr>\n",
       "    <tr>\n",
       "      <th>21</th>\n",
       "      <td>0.001101</td>\n",
       "      <td>0.335905</td>\n",
       "      <td>0.054398</td>\n",
       "    </tr>\n",
       "    <tr>\n",
       "      <th>22</th>\n",
       "      <td>0.000040</td>\n",
       "      <td>-0.143106</td>\n",
       "      <td>0.109331</td>\n",
       "    </tr>\n",
       "    <tr>\n",
       "      <th>23</th>\n",
       "      <td>0.000042</td>\n",
       "      <td>-0.087745</td>\n",
       "      <td>0.116163</td>\n",
       "    </tr>\n",
       "    <tr>\n",
       "      <th>24</th>\n",
       "      <td>0.000836</td>\n",
       "      <td>-0.078326</td>\n",
       "      <td>0.004867</td>\n",
       "    </tr>\n",
       "    <tr>\n",
       "      <th>25</th>\n",
       "      <td>0.000297</td>\n",
       "      <td>-0.064984</td>\n",
       "      <td>0.363506</td>\n",
       "    </tr>\n",
       "    <tr>\n",
       "      <th>28</th>\n",
       "      <td>0.000192</td>\n",
       "      <td>-0.087156</td>\n",
       "      <td>0.177422</td>\n",
       "    </tr>\n",
       "    <tr>\n",
       "      <th>29</th>\n",
       "      <td>0.000148</td>\n",
       "      <td>-0.137222</td>\n",
       "      <td>0.178697</td>\n",
       "    </tr>\n",
       "    <tr>\n",
       "      <th>30</th>\n",
       "      <td>0.033080</td>\n",
       "      <td>-0.025743</td>\n",
       "      <td>0.407050</td>\n",
       "    </tr>\n",
       "  </tbody>\n",
       "</table>\n",
       "</div>"
      ],
      "text/plain": [
       "     density  degree assortativity  average clustering coefficient\n",
       "1   0.000005              0.114186                        0.632629\n",
       "2   0.008307              0.059906                        0.606845\n",
       "3   0.000079             -0.166689                        0.119342\n",
       "4   0.000219              0.221522                        0.123693\n",
       "5   0.000373              0.177355                        0.642282\n",
       "6   0.009293              0.010808                        0.770476\n",
       "7   0.000009              0.155727                        0.606712\n",
       "8   0.000219              0.221522                        0.123693\n",
       "9   0.000187              0.008341                        0.005286\n",
       "10  0.000040             -0.055707                        0.089571\n",
       "11  0.000308             -0.227284                        0.144015\n",
       "12  0.234543             -0.294441                        0.591863\n",
       "13  0.017419             -0.092248                        0.070458\n",
       "14  0.000649             -0.197902                        0.312096\n",
       "16  0.000091             -0.051317                        0.128461\n",
       "18  0.001913             -0.153884                        0.167077\n",
       "19  0.002499             -0.301404                        0.209099\n",
       "20  0.001197             -0.144884                        0.163569\n",
       "21  0.001101              0.335905                        0.054398\n",
       "22  0.000040             -0.143106                        0.109331\n",
       "23  0.000042             -0.087745                        0.116163\n",
       "24  0.000836             -0.078326                        0.004867\n",
       "25  0.000297             -0.064984                        0.363506\n",
       "28  0.000192             -0.087156                        0.177422\n",
       "29  0.000148             -0.137222                        0.178697\n",
       "30  0.033080             -0.025743                        0.407050"
      ]
     },
     "execution_count": 4,
     "metadata": {},
     "output_type": "execute_result"
    }
   ],
   "source": [
    "stats = get_all_stats(network_indices=network_indices) \n",
    "stats = stats[['density', 'degree assortativity', 'average clustering coefficient']]\n",
    "stats"
   ]
  },
  {
   "cell_type": "markdown",
   "id": "tutorial-prince",
   "metadata": {
    "execution": {
     "iopub.execute_input": "2021-03-05T07:43:27.946739Z",
     "iopub.status.busy": "2021-03-05T07:43:27.946412Z",
     "iopub.status.idle": "2021-03-05T07:43:27.950442Z",
     "shell.execute_reply": "2021-03-05T07:43:27.949791Z",
     "shell.execute_reply.started": "2021-03-05T07:43:27.946709Z"
    }
   },
   "source": [
    "# Diameter"
   ]
  },
  {
   "cell_type": "code",
   "execution_count": 5,
   "id": "capable-brook",
   "metadata": {
    "execution": {
     "iopub.execute_input": "2021-03-13T08:26:37.253900Z",
     "iopub.status.busy": "2021-03-13T08:26:37.253780Z",
     "iopub.status.idle": "2021-03-13T08:26:37.345858Z",
     "shell.execute_reply": "2021-03-13T08:26:37.345429Z",
     "shell.execute_reply.started": "2021-03-13T08:26:37.253885Z"
    },
    "tags": []
   },
   "outputs": [
    {
     "data": {
      "application/vnd.jupyter.widget-view+json": {
       "model_id": "26ef9fc4ebee4c75ac087b06cd66c635",
       "version_major": 2,
       "version_minor": 0
      },
      "text/plain": [
       "  0%|          | 0/26 [00:00<?, ?it/s]"
      ]
     },
     "metadata": {},
     "output_type": "display_data"
    },
    {
     "data": {
      "text/plain": [
       "{1: 23,\n",
       " 2: 8,\n",
       " 3: 14,\n",
       " 4: 16,\n",
       " 5: 19,\n",
       " 6: 11,\n",
       " 7: 22,\n",
       " 8: 16,\n",
       " 9: 12,\n",
       " 10: 18,\n",
       " 11: 4,\n",
       " 12: 5,\n",
       " 13: 6,\n",
       " 14: 9,\n",
       " 16: 14,\n",
       " 18: 10,\n",
       " 19: 8,\n",
       " 20: 14,\n",
       " 21: 13,\n",
       " 22: 13,\n",
       " 23: 12,\n",
       " 24: 8,\n",
       " 25: 10,\n",
       " 28: 11,\n",
       " 29: 17,\n",
       " 30: 7}"
      ]
     },
     "execution_count": 5,
     "metadata": {},
     "output_type": "execute_result"
    }
   ],
   "source": [
    "diameter = get_diameter()\n",
    "diameter"
   ]
  },
  {
   "cell_type": "markdown",
   "id": "fabulous-compromise",
   "metadata": {},
   "source": [
    "# Static features"
   ]
  },
  {
   "cell_type": "code",
   "execution_count": 6,
   "id": "adjusted-solid",
   "metadata": {
    "execution": {
     "iopub.execute_input": "2021-03-13T08:26:37.346519Z",
     "iopub.status.busy": "2021-03-13T08:26:37.346416Z",
     "iopub.status.idle": "2021-03-13T08:26:38.407353Z",
     "shell.execute_reply": "2021-03-13T08:26:38.406866Z",
     "shell.execute_reply.started": "2021-03-13T08:26:37.346506Z"
    },
    "tags": []
   },
   "outputs": [
    {
     "data": {
      "text/plain": [
       "{1: 0.6950591181344901,\n",
       " 2: 0.8158829348714262,\n",
       " 3: 0.8529147434617432,\n",
       " 4: 0.7680353276752603,\n",
       " 5: 0.6896123613519113,\n",
       " 6: 0.7645705881006963,\n",
       " 7: 0.7137687872480953,\n",
       " 8: 0.7621901950431207,\n",
       " 9: 0.8416315705580619,\n",
       " 10: 0.8956614062912016,\n",
       " 11: 0.9349495095919215,\n",
       " 12: 0.8532715100010496,\n",
       " 13: 0.73507003387435,\n",
       " 14: 0.8631473037854211,\n",
       " 16: 0.879642385585212,\n",
       " 18: 0.8660606185696988,\n",
       " 19: 0.918574894644566,\n",
       " 20: 0.8313618486875333,\n",
       " 21: 0.66946218711395,\n",
       " 22: 0.9386836484822418,\n",
       " 23: 0.9244794716762318,\n",
       " 24: 0.7789032184980598,\n",
       " 25: 0.8689186280510981,\n",
       " 28: 0.8792876637537116,\n",
       " 29: 0.9070812460678768,\n",
       " 30: 0.824650696877497}"
      ]
     },
     "execution_count": 6,
     "metadata": {},
     "output_type": "execute_result"
    }
   ],
   "source": [
    "def logistic_regression_I(network_index: int):\n",
    "  X = dict()\n",
    "  for heuristic in ['aa', 'cn', 'jc', 'pa']:\n",
    "    X[heuristic] = np.load(\n",
    "      f'data/{network_index:02}/features/time_agnostic/{heuristic}.npy')\n",
    "  X = pd.DataFrame(X)\n",
    "    \n",
    "  y = np.load(f'data/{network_index:02}/targets_sampled.npy')\n",
    "  \n",
    "  X_train, X_test, y_train, y_test = (\n",
    "    sklearn.model_selection.train_test_split(X, y))\n",
    "  pipe = sklearn.pipeline.make_pipeline(\n",
    "    sklearn.preprocessing.StandardScaler(),\n",
    "    sklearn.linear_model.LogisticRegression(max_iter=10000)) # type: ignore\n",
    "  pipe.fit(X_train, y_train)\n",
    "  \n",
    "  auc = sklearn.metrics.roc_auc_score(\n",
    "    y_true=y_test, y_score=pipe.predict_proba(X_test)[:,1]) # type: ignore\n",
    "  \n",
    "  return auc\n",
    "\n",
    "auc_I = {\n",
    "  network_index: logistic_regression_I(network_index) \n",
    "  for network_index in network_indices}\n",
    "auc_I"
   ]
  },
  {
   "cell_type": "markdown",
   "id": "spatial-canvas",
   "metadata": {},
   "source": [
    "# Node temporal features"
   ]
  },
  {
   "cell_type": "code",
   "execution_count": 7,
   "id": "prescription-macedonia",
   "metadata": {
    "execution": {
     "iopub.execute_input": "2021-03-13T08:26:38.408179Z",
     "iopub.status.busy": "2021-03-13T08:26:38.408055Z",
     "iopub.status.idle": "2021-03-13T08:27:02.899406Z",
     "shell.execute_reply": "2021-03-13T08:27:02.898769Z",
     "shell.execute_reply.started": "2021-03-13T08:26:38.408164Z"
    },
    "tags": []
   },
   "outputs": [
    {
     "data": {
      "text/plain": [
       "{1: 0.7935637370197924,\n",
       " 2: 0.8674497707426095,\n",
       " 3: 0.9113961823389174,\n",
       " 4: 0.78528215789744,\n",
       " 5: 0.7341291067503813,\n",
       " 6: 0.816033730565397,\n",
       " 7: 0.8158935035740142,\n",
       " 8: 0.7799954196853347,\n",
       " 9: 0.8681024516882607,\n",
       " 10: 0.9173342553812438,\n",
       " 11: 0.940976230492197,\n",
       " 12: 0.9025159240305858,\n",
       " 13: 0.8752423275993934,\n",
       " 14: 0.9356337795373988,\n",
       " 16: 0.9378374174917227,\n",
       " 18: 0.9436175333949156,\n",
       " 19: 0.9330833156909594,\n",
       " 20: 0.9426430012845204,\n",
       " 21: 0.7291502264036225,\n",
       " 22: 0.9724187278216027,\n",
       " 23: 0.9617610196933413,\n",
       " 24: 0.9498123524863595,\n",
       " 25: 0.9387265207849734,\n",
       " 28: 0.8860929528361022,\n",
       " 29: 0.9245003079200492,\n",
       " 30: 0.8436458077254009}"
      ]
     },
     "execution_count": 7,
     "metadata": {},
     "output_type": "execute_result"
    }
   ],
   "source": [
    "def logistic_regression_I_II(network_index: int, hypergraph: bool):\n",
    "  X = dict()\n",
    "  for heuristic in ['aa', 'cn', 'jc', 'pa']:\n",
    "    X[heuristic] = (\n",
    "      np.load(\n",
    "        f'data/{network_index:02}/features/time_agnostic/{heuristic}.npy'))\n",
    "    \n",
    "  if hypergraph:\n",
    "    for time_strategy in time_strategies:\n",
    "      for nodepair_strategy in nodepair_strategies:\n",
    "        for aggregation_strategy in ['m0', 'm1', 'm2', 'm3', 'q0', 'q25', 'q50', 'q75', 'q100']:\n",
    "          X[(time_strategy, nodepair_strategy, aggregation_strategy)] = (\n",
    "            np.load(\n",
    "              f'data/{network_index:02}/features/time_node/'\n",
    "              f'{time_strategy}_{nodepair_strategy}_{aggregation_strategy}.npy'\n",
    "            ))\n",
    "  else:\n",
    "    for time_strategy in time_strategies:\n",
    "      for nodepair_strategy in nodepair_strategies:\n",
    "          X[(time_strategy, nodepair_strategy)] = (\n",
    "            np.load(\n",
    "              f'data/{network_index:02}/features/time_node/'\n",
    "              f'{time_strategy}_{nodepair_strategy}.npy'))\n",
    "    \n",
    "  X = pd.DataFrame(X)\n",
    "    \n",
    "  y = np.load(f'data/{network_index:02}/targets_sampled.npy')\n",
    "  \n",
    "  X_train, X_test, y_train, y_test = (\n",
    "    sklearn.model_selection.train_test_split(X, y))\n",
    "  pipe = sklearn.pipeline.make_pipeline(\n",
    "    sklearn.preprocessing.StandardScaler(),\n",
    "    sklearn.linear_model.LogisticRegression(max_iter=10000))\n",
    "  pipe.fit(X_train, y_train)\n",
    "  \n",
    "  auc = sklearn.metrics.roc_auc_score(\n",
    "    y_true=y_test, y_score=pipe.predict_proba(X_test)[:,1])\n",
    "  \n",
    "  return auc\n",
    "\n",
    "auc_I_II = {\n",
    "  network_index: (\n",
    "    logistic_regression_I_II(\n",
    "      network_index, hypergraph=network_index in hypergraph_indices\n",
    "    )\n",
    "  )\n",
    "  for network_index in network_indices\n",
    "}\n",
    "auc_I_II"
   ]
  },
  {
   "cell_type": "markdown",
   "id": "subjective-government",
   "metadata": {},
   "source": [
    "# Edge temporal features"
   ]
  },
  {
   "cell_type": "code",
   "execution_count": 8,
   "id": "alpine-beaver",
   "metadata": {
    "execution": {
     "iopub.execute_input": "2021-03-13T08:27:02.900799Z",
     "iopub.status.busy": "2021-03-13T08:27:02.900673Z",
     "iopub.status.idle": "2021-03-13T08:27:15.325065Z",
     "shell.execute_reply": "2021-03-13T08:27:15.324336Z",
     "shell.execute_reply.started": "2021-03-13T08:27:02.900781Z"
    },
    "tags": []
   },
   "outputs": [
    {
     "data": {
      "text/plain": [
       "{1: 0.8050340881217429,\n",
       " 2: 0.8576919772307163,\n",
       " 3: 0.8807015783841627,\n",
       " 4: 0.7864164393917208,\n",
       " 5: 0.7482447512994209,\n",
       " 6: 0.809086145378326,\n",
       " 7: 0.8383996930535935,\n",
       " 8: 0.79653262597636,\n",
       " 9: 0.8461884317479403,\n",
       " 10: 0.9216078684613223,\n",
       " 11: 0.9344112539398454,\n",
       " 12: 0.8857527335562949,\n",
       " 13: 0.8001457953591251,\n",
       " 14: 0.9224766979025991,\n",
       " 16: 0.927313128635424,\n",
       " 18: 0.9308700347948626,\n",
       " 19: 0.9268083861777476,\n",
       " 20: 0.9293655898494376,\n",
       " 21: 0.7176738941665911,\n",
       " 22: 0.9626106040259003,\n",
       " 23: 0.9446644534560136,\n",
       " 24: 0.877240463389657,\n",
       " 25: 0.8911093311589899,\n",
       " 28: 0.889739765789851,\n",
       " 29: 0.9214573897327296,\n",
       " 30: 0.8491514449727444}"
      ]
     },
     "execution_count": 8,
     "metadata": {},
     "output_type": "execute_result"
    }
   ],
   "source": [
    "def logistic_regression_III(network_index: int, hypergraph: bool):\n",
    "  X = dict()\n",
    "  \n",
    "  for heuristic in ['aa', 'cn', 'jc', 'pa']:  \n",
    "    for time_strategy in time_strategies:\n",
    "      if hypergraph:\n",
    "        for aggregation_strategy in ['m0', 'm1', 'q0', 'q25', 'q50', 'q75', 'q100']:\n",
    "            X[(heuristic, time_strategy, aggregation_strategy)] = np.load(\n",
    "                f'data/{network_index:02}/features/time_edge/'\n",
    "                f'{heuristic}_{time_strategy}_{aggregation_strategy}.npy')\n",
    "      else:\n",
    "        X[(heuristic, time_strategy)] = np.load(\n",
    "          f'data/{network_index:02}/features/time_edge/'\n",
    "          f'{heuristic}_{time_strategy}.npy')\n",
    "    \n",
    "  X = pd.DataFrame(X)\n",
    "    \n",
    "  y = np.load(f'data/{network_index:02}/targets_sampled.npy')\n",
    "  \n",
    "  X_train, X_test, y_train, y_test = (\n",
    "    sklearn.model_selection.train_test_split(X, y))\n",
    "  pipe = sklearn.pipeline.make_pipeline(\n",
    "    sklearn.preprocessing.StandardScaler(),\n",
    "    sklearn.linear_model.LogisticRegression(max_iter=10000))\n",
    "  pipe.fit(X_train, y_train)\n",
    "  \n",
    "  auc = sklearn.metrics.roc_auc_score(\n",
    "    y_true=y_test, y_score=pipe.predict_proba(X_test)[:,1])\n",
    "  \n",
    "  return auc\n",
    "\n",
    "auc_III = {\n",
    "  network_index: logistic_regression_III(\n",
    "    network_index, hypergraph=network_index in hypergraph_indices)\n",
    "  for network_index in network_indices}\n",
    "auc_III"
   ]
  },
  {
   "cell_type": "markdown",
   "id": "preliminary-mobility",
   "metadata": {},
   "source": [
    "# Figures"
   ]
  },
  {
   "cell_type": "code",
   "execution_count": 43,
   "id": "ordered-occasions",
   "metadata": {
    "execution": {
     "iopub.execute_input": "2021-03-13T10:48:36.663531Z",
     "iopub.status.busy": "2021-03-13T10:48:36.663253Z",
     "iopub.status.idle": "2021-03-13T10:48:36.671960Z",
     "shell.execute_reply": "2021-03-13T10:48:36.671474Z",
     "shell.execute_reply.started": "2021-03-13T10:48:36.663502Z"
    },
    "tags": []
   },
   "outputs": [
    {
     "data": {
      "text/plain": [
       "Index(['nodes', 'edges', 'events', 'density', 'degree assortativity',\n",
       "       'average clustering coefficient', 'diameter', 'time agnostic',\n",
       "       'time aware'],\n",
       "      dtype='object')"
      ]
     },
     "execution_count": 43,
     "metadata": {},
     "output_type": "execute_result"
    }
   ],
   "source": [
    "df = pd.concat([\n",
    "  size,\n",
    "  stats,\n",
    "  pd.Series(diameter, name='diameter'),\n",
    "  pd.Series(auc_I, name='time agnostic'),\n",
    "#   pd.Series(auc_I_II, name='I+II'),\n",
    "  pd.Series(auc_III, name='time aware')\n",
    "], axis=1)\n",
    "df.columns"
   ]
  },
  {
   "cell_type": "code",
   "execution_count": 33,
   "id": "official-medium",
   "metadata": {
    "execution": {
     "iopub.execute_input": "2021-03-06T09:40:43.807566Z",
     "iopub.status.busy": "2021-03-06T09:40:43.807234Z",
     "iopub.status.idle": "2021-03-06T09:40:43.858337Z",
     "shell.execute_reply": "2021-03-06T09:40:43.857830Z",
     "shell.execute_reply.started": "2021-03-06T09:40:43.807531Z"
    }
   },
   "outputs": [
    {
     "data": {
      "application/vnd.plotly.v1+json": {
       "config": {
        "plotlyServerURL": "https://plot.ly"
       },
       "data": [
        {
         "dimensions": [
          {
           "label": "log10_nodes",
           "values": [
            6.261191710059008,
            4.229400240179781,
            4.940879905049479,
            4.7434078425120925,
            4.235982703481839,
            3.832381160247041,
            5.932049917857972,
            4.7434078425120925,
            4.482845010663455,
            5.446185985951594,
            5.144290811955439,
            2.2227164711475833,
            2.9537596917332287,
            4.394766780226321,
            5.058680300793207,
            3.566201718854913,
            3.27669152884504,
            3.7460890430562004,
            3.781755374652469,
            5.202259393897625,
            5.287991971921295,
            4.950700669792183,
            5.0675766800400925,
            4.5441921107650325,
            4.724423340799064,
            2.9938769149412114
           ]
          },
          {
           "label": "log10_edges",
           "values": [
            6.92140630419889,
            6.077164338829825,
            5.475990618602006,
            5.525961690710203,
            4.742536608158096,
            5.331817884627525,
            6.5261876356129545,
            5.525961690710203,
            4.936071180089312,
            6.189361157158221,
            6.4756213650628425,
            3.5120169694961265,
            3.847017097935354,
            5.30097136195106,
            5.7731491586178505,
            4.113006940000935,
            3.649821463224565,
            4.2693027508693415,
            4.304275050477128,
            5.705866277007539,
            5.894913360615057,
            6.522447102709635,
            6.307040324541935,
            5.0703851632931185,
            5.317302653829136,
            4.205853695464925
           ]
          },
          {
           "label": "log10_events",
           "values": [
            7.469641547532148,
            6.365910654678198,
            6.059969125189281,
            5.525961690710203,
            4.944926609986216,
            5.463291126513376,
            7.376344656878144,
            5.525961690710203,
            4.942637943431793,
            6.23804183547419,
            6.479747583093886,
            4.918695954457297,
            4.527887565952705,
            5.704622319691093,
            5.855922976819747,
            4.355068206348851,
            4.59399454104691,
            4.505543379461151,
            4.325577231940418,
            5.984273863451154,
            6.1593683467126175,
            6.530837092250592,
            6.465053287299146,
            5.4240498033211155,
            5.70823983553713,
            5.521574774793691
           ]
          },
          {
           "label": "log10_density",
           "values": [
            -5.299946882246506,
            -2.0805805366148182,
            -4.104734219529072,
            -3.6598161574886725,
            -3.428373579126383,
            -2.031850549877796,
            -5.036881696589955,
            -3.6598161574886725,
            -3.7285745583959904,
            -4.401979264551003,
            -3.5119271479186143,
            -0.6297775940275305,
            -1.7589889348011978,
            -3.187514703311783,
            -4.043177653229619,
            -2.7182485673579926,
            -2.6023018741297372,
            -2.9217674042748034,
            -2.95813391301871,
            -4.397619789121039,
            -4.380038349906852,
            -3.0779193761745733,
            -3.5270793227293775,
            -3.7169566575262802,
            -3.8305058405742534,
            -1.4804294543099163
           ]
          },
          {
           "label": "degree assortativity",
           "values": [
            0.11418606213251023,
            0.05990602356520642,
            -0.16668921248903376,
            0.22152209122401575,
            0.17735508426665947,
            0.010807570870238672,
            0.15572691103343225,
            0.22152209122401575,
            0.008340848252679544,
            -0.05570734485697259,
            -0.22728357104647662,
            -0.2944409614112026,
            -0.09224752361797837,
            -0.1979021439216104,
            -0.05131698595130927,
            -0.1538843071006663,
            -0.3014037924599531,
            -0.14488431695962897,
            0.3359053448595694,
            -0.1431055291178876,
            -0.08774463236182088,
            -0.07832611083600156,
            -0.06498399832912004,
            -0.08715649239969606,
            -0.13722179026208756,
            -0.02574336808308864
           ]
          },
          {
           "label": "average clustering coefficient",
           "values": [
            0.6326288213192619,
            0.6068446615939613,
            0.1193422206466295,
            0.12369333267623095,
            0.6422820749124981,
            0.7704760500990266,
            0.6067118542238752,
            0.12369333267623095,
            0.00528633336069672,
            0.08957142125840332,
            0.14401496032453878,
            0.5918632085486949,
            0.07045750195922552,
            0.31209623831465394,
            0.12846083615818096,
            0.1670770874526366,
            0.20909938909216996,
            0.1635690961716454,
            0.05439778407010737,
            0.10933050429506323,
            0.1161626188904495,
            0.004867097449686009,
            0.36350644082386435,
            0.17742215384053944,
            0.17869748550945325,
            0.40705044751953817
           ]
          },
          {
           "label": "diameter",
           "values": [
            23,
            8,
            14,
            16,
            19,
            11,
            22,
            16,
            12,
            18,
            4,
            5,
            6,
            9,
            14,
            10,
            8,
            14,
            13,
            13,
            12,
            8,
            10,
            11,
            17,
            7
           ]
          },
          {
           "label": "time agnostic",
           "values": [
            0.699924097961159,
            0.8143284728472847,
            0.8613062444958731,
            0.7506946672481443,
            0.6925966656698206,
            0.7533923284953032,
            0.7163399049436928,
            0.7546202156938044,
            0.8405976473095821,
            0.8921576425730398,
            0.9362951126582724,
            0.8586906690669067,
            0.738536525733494,
            0.867469046358269,
            0.8848937918118533,
            0.8608546145337374,
            0.9151420838625097,
            0.8319948714428556,
            0.6868458781362007,
            0.9413970629070905,
            0.9268580332817813,
            0.7816485573922645,
            0.8643604442037945,
            0.8791134475241598,
            0.904999392764926,
            0.8318958379300065
           ]
          },
          {
           "label": "time aware",
           "values": [
            0.8146751489979615,
            0.8525497239898362,
            0.8784198080177978,
            0.7859246302488722,
            0.7517025529614252,
            0.8023390248238554,
            0.8409793952582293,
            0.7982422832268523,
            0.8485403048435456,
            0.9249837262482051,
            0.94023448,
            0.8960919393098151,
            0.793380326512631,
            0.9248861508750631,
            0.9302565365469929,
            0.9275861180012487,
            0.9234620715281183,
            0.9299367878269322,
            0.7176814703667035,
            0.9590662901712841,
            0.9522892870610273,
            0.8872790307272169,
            0.9070825515272039,
            0.8945673300923651,
            0.9162775456705169,
            0.8524738493322173
           ]
          }
         ],
         "domain": {
          "x": [
           0,
           1
          ],
          "y": [
           0,
           1
          ]
         },
         "line": {
          "color": [
           0.8146751489979615,
           0.8525497239898362,
           0.8784198080177978,
           0.7859246302488722,
           0.7517025529614252,
           0.8023390248238554,
           0.8409793952582293,
           0.7982422832268523,
           0.8485403048435456,
           0.9249837262482051,
           0.94023448,
           0.8960919393098151,
           0.793380326512631,
           0.9248861508750631,
           0.9302565365469929,
           0.9275861180012487,
           0.9234620715281183,
           0.9299367878269322,
           0.7176814703667035,
           0.9590662901712841,
           0.9522892870610273,
           0.8872790307272169,
           0.9070825515272039,
           0.8945673300923651,
           0.9162775456705169,
           0.8524738493322173
          ],
          "coloraxis": "coloraxis"
         },
         "name": "",
         "type": "parcoords"
        }
       ],
       "layout": {
        "autosize": true,
        "coloraxis": {
         "cmax": 1,
         "cmin": 0.5,
         "colorbar": {
          "title": {
           "text": "time aware"
          }
         },
         "colorscale": [
          [
           0,
           "#0d0887"
          ],
          [
           0.1111111111111111,
           "#46039f"
          ],
          [
           0.2222222222222222,
           "#7201a8"
          ],
          [
           0.3333333333333333,
           "#9c179e"
          ],
          [
           0.4444444444444444,
           "#bd3786"
          ],
          [
           0.5555555555555556,
           "#d8576b"
          ],
          [
           0.6666666666666666,
           "#ed7953"
          ],
          [
           0.7777777777777778,
           "#fb9f3a"
          ],
          [
           0.8888888888888888,
           "#fdca26"
          ],
          [
           1,
           "#f0f921"
          ]
         ]
        },
        "legend": {
         "tracegroupgap": 0
        },
        "margin": {
         "t": 60
        },
        "template": {
         "data": {
          "bar": [
           {
            "error_x": {
             "color": "#2a3f5f"
            },
            "error_y": {
             "color": "#2a3f5f"
            },
            "marker": {
             "line": {
              "color": "#E5ECF6",
              "width": 0.5
             }
            },
            "type": "bar"
           }
          ],
          "barpolar": [
           {
            "marker": {
             "line": {
              "color": "#E5ECF6",
              "width": 0.5
             }
            },
            "type": "barpolar"
           }
          ],
          "carpet": [
           {
            "aaxis": {
             "endlinecolor": "#2a3f5f",
             "gridcolor": "white",
             "linecolor": "white",
             "minorgridcolor": "white",
             "startlinecolor": "#2a3f5f"
            },
            "baxis": {
             "endlinecolor": "#2a3f5f",
             "gridcolor": "white",
             "linecolor": "white",
             "minorgridcolor": "white",
             "startlinecolor": "#2a3f5f"
            },
            "type": "carpet"
           }
          ],
          "choropleth": [
           {
            "colorbar": {
             "outlinewidth": 0,
             "ticks": ""
            },
            "type": "choropleth"
           }
          ],
          "contour": [
           {
            "colorbar": {
             "outlinewidth": 0,
             "ticks": ""
            },
            "colorscale": [
             [
              0,
              "#0d0887"
             ],
             [
              0.1111111111111111,
              "#46039f"
             ],
             [
              0.2222222222222222,
              "#7201a8"
             ],
             [
              0.3333333333333333,
              "#9c179e"
             ],
             [
              0.4444444444444444,
              "#bd3786"
             ],
             [
              0.5555555555555556,
              "#d8576b"
             ],
             [
              0.6666666666666666,
              "#ed7953"
             ],
             [
              0.7777777777777778,
              "#fb9f3a"
             ],
             [
              0.8888888888888888,
              "#fdca26"
             ],
             [
              1,
              "#f0f921"
             ]
            ],
            "type": "contour"
           }
          ],
          "contourcarpet": [
           {
            "colorbar": {
             "outlinewidth": 0,
             "ticks": ""
            },
            "type": "contourcarpet"
           }
          ],
          "heatmap": [
           {
            "colorbar": {
             "outlinewidth": 0,
             "ticks": ""
            },
            "colorscale": [
             [
              0,
              "#0d0887"
             ],
             [
              0.1111111111111111,
              "#46039f"
             ],
             [
              0.2222222222222222,
              "#7201a8"
             ],
             [
              0.3333333333333333,
              "#9c179e"
             ],
             [
              0.4444444444444444,
              "#bd3786"
             ],
             [
              0.5555555555555556,
              "#d8576b"
             ],
             [
              0.6666666666666666,
              "#ed7953"
             ],
             [
              0.7777777777777778,
              "#fb9f3a"
             ],
             [
              0.8888888888888888,
              "#fdca26"
             ],
             [
              1,
              "#f0f921"
             ]
            ],
            "type": "heatmap"
           }
          ],
          "heatmapgl": [
           {
            "colorbar": {
             "outlinewidth": 0,
             "ticks": ""
            },
            "colorscale": [
             [
              0,
              "#0d0887"
             ],
             [
              0.1111111111111111,
              "#46039f"
             ],
             [
              0.2222222222222222,
              "#7201a8"
             ],
             [
              0.3333333333333333,
              "#9c179e"
             ],
             [
              0.4444444444444444,
              "#bd3786"
             ],
             [
              0.5555555555555556,
              "#d8576b"
             ],
             [
              0.6666666666666666,
              "#ed7953"
             ],
             [
              0.7777777777777778,
              "#fb9f3a"
             ],
             [
              0.8888888888888888,
              "#fdca26"
             ],
             [
              1,
              "#f0f921"
             ]
            ],
            "type": "heatmapgl"
           }
          ],
          "histogram": [
           {
            "marker": {
             "colorbar": {
              "outlinewidth": 0,
              "ticks": ""
             }
            },
            "type": "histogram"
           }
          ],
          "histogram2d": [
           {
            "colorbar": {
             "outlinewidth": 0,
             "ticks": ""
            },
            "colorscale": [
             [
              0,
              "#0d0887"
             ],
             [
              0.1111111111111111,
              "#46039f"
             ],
             [
              0.2222222222222222,
              "#7201a8"
             ],
             [
              0.3333333333333333,
              "#9c179e"
             ],
             [
              0.4444444444444444,
              "#bd3786"
             ],
             [
              0.5555555555555556,
              "#d8576b"
             ],
             [
              0.6666666666666666,
              "#ed7953"
             ],
             [
              0.7777777777777778,
              "#fb9f3a"
             ],
             [
              0.8888888888888888,
              "#fdca26"
             ],
             [
              1,
              "#f0f921"
             ]
            ],
            "type": "histogram2d"
           }
          ],
          "histogram2dcontour": [
           {
            "colorbar": {
             "outlinewidth": 0,
             "ticks": ""
            },
            "colorscale": [
             [
              0,
              "#0d0887"
             ],
             [
              0.1111111111111111,
              "#46039f"
             ],
             [
              0.2222222222222222,
              "#7201a8"
             ],
             [
              0.3333333333333333,
              "#9c179e"
             ],
             [
              0.4444444444444444,
              "#bd3786"
             ],
             [
              0.5555555555555556,
              "#d8576b"
             ],
             [
              0.6666666666666666,
              "#ed7953"
             ],
             [
              0.7777777777777778,
              "#fb9f3a"
             ],
             [
              0.8888888888888888,
              "#fdca26"
             ],
             [
              1,
              "#f0f921"
             ]
            ],
            "type": "histogram2dcontour"
           }
          ],
          "mesh3d": [
           {
            "colorbar": {
             "outlinewidth": 0,
             "ticks": ""
            },
            "type": "mesh3d"
           }
          ],
          "parcoords": [
           {
            "line": {
             "colorbar": {
              "outlinewidth": 0,
              "ticks": ""
             }
            },
            "type": "parcoords"
           }
          ],
          "pie": [
           {
            "automargin": true,
            "type": "pie"
           }
          ],
          "scatter": [
           {
            "marker": {
             "colorbar": {
              "outlinewidth": 0,
              "ticks": ""
             }
            },
            "type": "scatter"
           }
          ],
          "scatter3d": [
           {
            "line": {
             "colorbar": {
              "outlinewidth": 0,
              "ticks": ""
             }
            },
            "marker": {
             "colorbar": {
              "outlinewidth": 0,
              "ticks": ""
             }
            },
            "type": "scatter3d"
           }
          ],
          "scattercarpet": [
           {
            "marker": {
             "colorbar": {
              "outlinewidth": 0,
              "ticks": ""
             }
            },
            "type": "scattercarpet"
           }
          ],
          "scattergeo": [
           {
            "marker": {
             "colorbar": {
              "outlinewidth": 0,
              "ticks": ""
             }
            },
            "type": "scattergeo"
           }
          ],
          "scattergl": [
           {
            "marker": {
             "colorbar": {
              "outlinewidth": 0,
              "ticks": ""
             }
            },
            "type": "scattergl"
           }
          ],
          "scattermapbox": [
           {
            "marker": {
             "colorbar": {
              "outlinewidth": 0,
              "ticks": ""
             }
            },
            "type": "scattermapbox"
           }
          ],
          "scatterpolar": [
           {
            "marker": {
             "colorbar": {
              "outlinewidth": 0,
              "ticks": ""
             }
            },
            "type": "scatterpolar"
           }
          ],
          "scatterpolargl": [
           {
            "marker": {
             "colorbar": {
              "outlinewidth": 0,
              "ticks": ""
             }
            },
            "type": "scatterpolargl"
           }
          ],
          "scatterternary": [
           {
            "marker": {
             "colorbar": {
              "outlinewidth": 0,
              "ticks": ""
             }
            },
            "type": "scatterternary"
           }
          ],
          "surface": [
           {
            "colorbar": {
             "outlinewidth": 0,
             "ticks": ""
            },
            "colorscale": [
             [
              0,
              "#0d0887"
             ],
             [
              0.1111111111111111,
              "#46039f"
             ],
             [
              0.2222222222222222,
              "#7201a8"
             ],
             [
              0.3333333333333333,
              "#9c179e"
             ],
             [
              0.4444444444444444,
              "#bd3786"
             ],
             [
              0.5555555555555556,
              "#d8576b"
             ],
             [
              0.6666666666666666,
              "#ed7953"
             ],
             [
              0.7777777777777778,
              "#fb9f3a"
             ],
             [
              0.8888888888888888,
              "#fdca26"
             ],
             [
              1,
              "#f0f921"
             ]
            ],
            "type": "surface"
           }
          ],
          "table": [
           {
            "cells": {
             "fill": {
              "color": "#EBF0F8"
             },
             "line": {
              "color": "white"
             }
            },
            "header": {
             "fill": {
              "color": "#C8D4E3"
             },
             "line": {
              "color": "white"
             }
            },
            "type": "table"
           }
          ]
         },
         "layout": {
          "annotationdefaults": {
           "arrowcolor": "#2a3f5f",
           "arrowhead": 0,
           "arrowwidth": 1
          },
          "autotypenumbers": "strict",
          "coloraxis": {
           "colorbar": {
            "outlinewidth": 0,
            "ticks": ""
           }
          },
          "colorscale": {
           "diverging": [
            [
             0,
             "#8e0152"
            ],
            [
             0.1,
             "#c51b7d"
            ],
            [
             0.2,
             "#de77ae"
            ],
            [
             0.3,
             "#f1b6da"
            ],
            [
             0.4,
             "#fde0ef"
            ],
            [
             0.5,
             "#f7f7f7"
            ],
            [
             0.6,
             "#e6f5d0"
            ],
            [
             0.7,
             "#b8e186"
            ],
            [
             0.8,
             "#7fbc41"
            ],
            [
             0.9,
             "#4d9221"
            ],
            [
             1,
             "#276419"
            ]
           ],
           "sequential": [
            [
             0,
             "#0d0887"
            ],
            [
             0.1111111111111111,
             "#46039f"
            ],
            [
             0.2222222222222222,
             "#7201a8"
            ],
            [
             0.3333333333333333,
             "#9c179e"
            ],
            [
             0.4444444444444444,
             "#bd3786"
            ],
            [
             0.5555555555555556,
             "#d8576b"
            ],
            [
             0.6666666666666666,
             "#ed7953"
            ],
            [
             0.7777777777777778,
             "#fb9f3a"
            ],
            [
             0.8888888888888888,
             "#fdca26"
            ],
            [
             1,
             "#f0f921"
            ]
           ],
           "sequentialminus": [
            [
             0,
             "#0d0887"
            ],
            [
             0.1111111111111111,
             "#46039f"
            ],
            [
             0.2222222222222222,
             "#7201a8"
            ],
            [
             0.3333333333333333,
             "#9c179e"
            ],
            [
             0.4444444444444444,
             "#bd3786"
            ],
            [
             0.5555555555555556,
             "#d8576b"
            ],
            [
             0.6666666666666666,
             "#ed7953"
            ],
            [
             0.7777777777777778,
             "#fb9f3a"
            ],
            [
             0.8888888888888888,
             "#fdca26"
            ],
            [
             1,
             "#f0f921"
            ]
           ]
          },
          "colorway": [
           "#636efa",
           "#EF553B",
           "#00cc96",
           "#ab63fa",
           "#FFA15A",
           "#19d3f3",
           "#FF6692",
           "#B6E880",
           "#FF97FF",
           "#FECB52"
          ],
          "font": {
           "color": "#2a3f5f"
          },
          "geo": {
           "bgcolor": "white",
           "lakecolor": "white",
           "landcolor": "#E5ECF6",
           "showlakes": true,
           "showland": true,
           "subunitcolor": "white"
          },
          "hoverlabel": {
           "align": "left"
          },
          "hovermode": "closest",
          "mapbox": {
           "style": "light"
          },
          "paper_bgcolor": "white",
          "plot_bgcolor": "#E5ECF6",
          "polar": {
           "angularaxis": {
            "gridcolor": "white",
            "linecolor": "white",
            "ticks": ""
           },
           "bgcolor": "#E5ECF6",
           "radialaxis": {
            "gridcolor": "white",
            "linecolor": "white",
            "ticks": ""
           }
          },
          "scene": {
           "xaxis": {
            "backgroundcolor": "#E5ECF6",
            "gridcolor": "white",
            "gridwidth": 2,
            "linecolor": "white",
            "showbackground": true,
            "ticks": "",
            "zerolinecolor": "white"
           },
           "yaxis": {
            "backgroundcolor": "#E5ECF6",
            "gridcolor": "white",
            "gridwidth": 2,
            "linecolor": "white",
            "showbackground": true,
            "ticks": "",
            "zerolinecolor": "white"
           },
           "zaxis": {
            "backgroundcolor": "#E5ECF6",
            "gridcolor": "white",
            "gridwidth": 2,
            "linecolor": "white",
            "showbackground": true,
            "ticks": "",
            "zerolinecolor": "white"
           }
          },
          "shapedefaults": {
           "line": {
            "color": "#2a3f5f"
           }
          },
          "ternary": {
           "aaxis": {
            "gridcolor": "white",
            "linecolor": "white",
            "ticks": ""
           },
           "baxis": {
            "gridcolor": "white",
            "linecolor": "white",
            "ticks": ""
           },
           "bgcolor": "#E5ECF6",
           "caxis": {
            "gridcolor": "white",
            "linecolor": "white",
            "ticks": ""
           }
          },
          "title": {
           "x": 0.05
          },
          "xaxis": {
           "automargin": true,
           "gridcolor": "white",
           "linecolor": "white",
           "ticks": "",
           "title": {
            "standoff": 15
           },
           "zerolinecolor": "white",
           "zerolinewidth": 2
          },
          "yaxis": {
           "automargin": true,
           "gridcolor": "white",
           "linecolor": "white",
           "ticks": "",
           "title": {
            "standoff": 15
           },
           "zerolinecolor": "white",
           "zerolinewidth": 2
          }
         }
        }
       }
      },
      "image/png": "[encoded data removed]",
      "text/html": [
       "<div>                            <div id=\"046d50b2-eb3b-45df-b7d2-14d4de05b95e\" class=\"plotly-graph-div\" style=\"height:525px; width:100%;\"></div>            <script type=\"text/javascript\">                require([\"plotly\"], function(Plotly) {                    window.PLOTLYENV=window.PLOTLYENV || {};                                    if (document.getElementById(\"046d50b2-eb3b-45df-b7d2-14d4de05b95e\")) {                    Plotly.newPlot(                        \"046d50b2-eb3b-45df-b7d2-14d4de05b95e\",                        [{\"dimensions\": [{\"label\": \"log10_nodes\", \"values\": [6.261191710059008, 4.229400240179781, 4.940879905049479, 4.7434078425120925, 4.235982703481839, 3.832381160247041, 5.932049917857972, 4.7434078425120925, 4.482845010663455, 5.446185985951594, 5.144290811955439, 2.2227164711475833, 2.9537596917332287, 4.394766780226321, 5.058680300793207, 3.566201718854913, 3.27669152884504, 3.7460890430562004, 3.781755374652469, 5.202259393897625, 5.287991971921295, 4.950700669792183, 5.0675766800400925, 4.5441921107650325, 4.724423340799064, 2.9938769149412114]}, {\"label\": \"log10_edges\", \"values\": [6.92140630419889, 6.077164338829825, 5.475990618602006, 5.525961690710203, 4.742536608158096, 5.331817884627525, 6.5261876356129545, 5.525961690710203, 4.936071180089312, 6.189361157158221, 6.4756213650628425, 3.5120169694961265, 3.847017097935354, 5.30097136195106, 5.7731491586178505, 4.113006940000935, 3.649821463224565, 4.2693027508693415, 4.304275050477128, 5.705866277007539, 5.894913360615057, 6.522447102709635, 6.307040324541935, 5.0703851632931185, 5.317302653829136, 4.205853695464925]}, {\"label\": \"log10_events\", \"values\": [7.469641547532148, 6.365910654678198, 6.059969125189281, 5.525961690710203, 4.944926609986216, 5.463291126513376, 7.376344656878144, 5.525961690710203, 4.942637943431793, 6.23804183547419, 6.479747583093886, 4.918695954457297, 4.527887565952705, 5.704622319691093, 5.855922976819747, 4.355068206348851, 4.59399454104691, 4.505543379461151, 4.325577231940418, 5.984273863451154, 6.1593683467126175, 6.530837092250592, 6.465053287299146, 5.4240498033211155, 5.70823983553713, 5.521574774793691]}, {\"label\": \"log10_density\", \"values\": [-5.299946882246506, -2.0805805366148182, -4.104734219529072, -3.6598161574886725, -3.428373579126383, -2.031850549877796, -5.036881696589955, -3.6598161574886725, -3.7285745583959904, -4.401979264551003, -3.5119271479186143, -0.6297775940275305, -1.7589889348011978, -3.187514703311783, -4.043177653229619, -2.7182485673579926, -2.6023018741297372, -2.9217674042748034, -2.95813391301871, -4.397619789121039, -4.380038349906852, -3.0779193761745733, -3.5270793227293775, -3.7169566575262802, -3.8305058405742534, -1.4804294543099163]}, {\"label\": \"degree assortativity\", \"values\": [0.11418606213251023, 0.05990602356520642, -0.16668921248903376, 0.22152209122401575, 0.17735508426665947, 0.010807570870238672, 0.15572691103343225, 0.22152209122401575, 0.008340848252679544, -0.05570734485697259, -0.22728357104647662, -0.2944409614112026, -0.09224752361797837, -0.1979021439216104, -0.05131698595130927, -0.1538843071006663, -0.3014037924599531, -0.14488431695962897, 0.3359053448595694, -0.1431055291178876, -0.08774463236182088, -0.07832611083600156, -0.06498399832912004, -0.08715649239969606, -0.13722179026208756, -0.02574336808308864]}, {\"label\": \"average clustering coefficient\", \"values\": [0.6326288213192619, 0.6068446615939613, 0.1193422206466295, 0.12369333267623095, 0.6422820749124981, 0.7704760500990266, 0.6067118542238752, 0.12369333267623095, 0.00528633336069672, 0.08957142125840332, 0.14401496032453878, 0.5918632085486949, 0.07045750195922552, 0.31209623831465394, 0.12846083615818096, 0.1670770874526366, 0.20909938909216996, 0.1635690961716454, 0.05439778407010737, 0.10933050429506323, 0.1161626188904495, 0.004867097449686009, 0.36350644082386435, 0.17742215384053944, 0.17869748550945325, 0.40705044751953817]}, {\"label\": \"diameter\", \"values\": [23, 8, 14, 16, 19, 11, 22, 16, 12, 18, 4, 5, 6, 9, 14, 10, 8, 14, 13, 13, 12, 8, 10, 11, 17, 7]}, {\"label\": \"time agnostic\", \"values\": [0.699924097961159, 0.8143284728472847, 0.8613062444958731, 0.7506946672481443, 0.6925966656698206, 0.7533923284953032, 0.7163399049436928, 0.7546202156938044, 0.8405976473095821, 0.8921576425730398, 0.9362951126582724, 0.8586906690669067, 0.738536525733494, 0.867469046358269, 0.8848937918118533, 0.8608546145337374, 0.9151420838625097, 0.8319948714428556, 0.6868458781362007, 0.9413970629070905, 0.9268580332817813, 0.7816485573922645, 0.8643604442037945, 0.8791134475241598, 0.904999392764926, 0.8318958379300065]}, {\"label\": \"time aware\", \"values\": [0.8146751489979615, 0.8525497239898362, 0.8784198080177978, 0.7859246302488722, 0.7517025529614252, 0.8023390248238554, 0.8409793952582293, 0.7982422832268523, 0.8485403048435456, 0.9249837262482051, 0.94023448, 0.8960919393098151, 0.793380326512631, 0.9248861508750631, 0.9302565365469929, 0.9275861180012487, 0.9234620715281183, 0.9299367878269322, 0.7176814703667035, 0.9590662901712841, 0.9522892870610273, 0.8872790307272169, 0.9070825515272039, 0.8945673300923651, 0.9162775456705169, 0.8524738493322173]}], \"domain\": {\"x\": [0.0, 1.0], \"y\": [0.0, 1.0]}, \"line\": {\"color\": [0.8146751489979615, 0.8525497239898362, 0.8784198080177978, 0.7859246302488722, 0.7517025529614252, 0.8023390248238554, 0.8409793952582293, 0.7982422832268523, 0.8485403048435456, 0.9249837262482051, 0.94023448, 0.8960919393098151, 0.793380326512631, 0.9248861508750631, 0.9302565365469929, 0.9275861180012487, 0.9234620715281183, 0.9299367878269322, 0.7176814703667035, 0.9590662901712841, 0.9522892870610273, 0.8872790307272169, 0.9070825515272039, 0.8945673300923651, 0.9162775456705169, 0.8524738493322173], \"coloraxis\": \"coloraxis\"}, \"name\": \"\", \"type\": \"parcoords\"}],                        {\"coloraxis\": {\"cmax\": 1, \"cmin\": 0.5, \"colorbar\": {\"title\": {\"text\": \"time aware\"}}, \"colorscale\": [[0.0, \"#0d0887\"], [0.1111111111111111, \"#46039f\"], [0.2222222222222222, \"#7201a8\"], [0.3333333333333333, \"#9c179e\"], [0.4444444444444444, \"#bd3786\"], [0.5555555555555556, \"#d8576b\"], [0.6666666666666666, \"#ed7953\"], [0.7777777777777778, \"#fb9f3a\"], [0.8888888888888888, \"#fdca26\"], [1.0, \"#f0f921\"]]}, \"legend\": {\"tracegroupgap\": 0}, \"margin\": {\"t\": 60}, \"template\": {\"data\": {\"bar\": [{\"error_x\": {\"color\": \"#2a3f5f\"}, \"error_y\": {\"color\": \"#2a3f5f\"}, \"marker\": {\"line\": {\"color\": \"#E5ECF6\", \"width\": 0.5}}, \"type\": \"bar\"}], \"barpolar\": [{\"marker\": {\"line\": {\"color\": \"#E5ECF6\", \"width\": 0.5}}, \"type\": \"barpolar\"}], \"carpet\": [{\"aaxis\": {\"endlinecolor\": \"#2a3f5f\", \"gridcolor\": \"white\", \"linecolor\": \"white\", \"minorgridcolor\": \"white\", \"startlinecolor\": \"#2a3f5f\"}, \"baxis\": {\"endlinecolor\": \"#2a3f5f\", \"gridcolor\": \"white\", \"linecolor\": \"white\", \"minorgridcolor\": \"white\", \"startlinecolor\": \"#2a3f5f\"}, \"type\": \"carpet\"}], \"choropleth\": [{\"colorbar\": {\"outlinewidth\": 0, \"ticks\": \"\"}, \"type\": \"choropleth\"}], \"contour\": [{\"colorbar\": {\"outlinewidth\": 0, \"ticks\": \"\"}, \"colorscale\": [[0.0, \"#0d0887\"], [0.1111111111111111, \"#46039f\"], [0.2222222222222222, \"#7201a8\"], [0.3333333333333333, \"#9c179e\"], [0.4444444444444444, \"#bd3786\"], [0.5555555555555556, \"#d8576b\"], [0.6666666666666666, \"#ed7953\"], [0.7777777777777778, \"#fb9f3a\"], [0.8888888888888888, \"#fdca26\"], [1.0, \"#f0f921\"]], \"type\": \"contour\"}], \"contourcarpet\": [{\"colorbar\": {\"outlinewidth\": 0, \"ticks\": \"\"}, \"type\": \"contourcarpet\"}], \"heatmap\": [{\"colorbar\": {\"outlinewidth\": 0, \"ticks\": \"\"}, \"colorscale\": [[0.0, \"#0d0887\"], [0.1111111111111111, \"#46039f\"], [0.2222222222222222, \"#7201a8\"], [0.3333333333333333, \"#9c179e\"], [0.4444444444444444, \"#bd3786\"], [0.5555555555555556, \"#d8576b\"], [0.6666666666666666, \"#ed7953\"], [0.7777777777777778, \"#fb9f3a\"], [0.8888888888888888, \"#fdca26\"], [1.0, \"#f0f921\"]], \"type\": \"heatmap\"}], \"heatmapgl\": [{\"colorbar\": {\"outlinewidth\": 0, \"ticks\": \"\"}, \"colorscale\": [[0.0, \"#0d0887\"], [0.1111111111111111, \"#46039f\"], [0.2222222222222222, \"#7201a8\"], [0.3333333333333333, \"#9c179e\"], [0.4444444444444444, \"#bd3786\"], [0.5555555555555556, \"#d8576b\"], [0.6666666666666666, \"#ed7953\"], [0.7777777777777778, \"#fb9f3a\"], [0.8888888888888888, \"#fdca26\"], [1.0, \"#f0f921\"]], \"type\": \"heatmapgl\"}], \"histogram\": [{\"marker\": {\"colorbar\": {\"outlinewidth\": 0, \"ticks\": \"\"}}, \"type\": \"histogram\"}], \"histogram2d\": [{\"colorbar\": {\"outlinewidth\": 0, \"ticks\": \"\"}, \"colorscale\": [[0.0, \"#0d0887\"], [0.1111111111111111, \"#46039f\"], [0.2222222222222222, \"#7201a8\"], [0.3333333333333333, \"#9c179e\"], [0.4444444444444444, \"#bd3786\"], [0.5555555555555556, \"#d8576b\"], [0.6666666666666666, \"#ed7953\"], [0.7777777777777778, \"#fb9f3a\"], [0.8888888888888888, \"#fdca26\"], [1.0, \"#f0f921\"]], \"type\": \"histogram2d\"}], \"histogram2dcontour\": [{\"colorbar\": {\"outlinewidth\": 0, \"ticks\": \"\"}, \"colorscale\": [[0.0, \"#0d0887\"], [0.1111111111111111, \"#46039f\"], [0.2222222222222222, \"#7201a8\"], [0.3333333333333333, \"#9c179e\"], [0.4444444444444444, \"#bd3786\"], [0.5555555555555556, \"#d8576b\"], [0.6666666666666666, \"#ed7953\"], [0.7777777777777778, \"#fb9f3a\"], [0.8888888888888888, \"#fdca26\"], [1.0, \"#f0f921\"]], \"type\": \"histogram2dcontour\"}], \"mesh3d\": [{\"colorbar\": {\"outlinewidth\": 0, \"ticks\": \"\"}, \"type\": \"mesh3d\"}], \"parcoords\": [{\"line\": {\"colorbar\": {\"outlinewidth\": 0, \"ticks\": \"\"}}, \"type\": \"parcoords\"}], \"pie\": [{\"automargin\": true, \"type\": \"pie\"}], \"scatter\": [{\"marker\": {\"colorbar\": {\"outlinewidth\": 0, \"ticks\": \"\"}}, \"type\": \"scatter\"}], \"scatter3d\": [{\"line\": {\"colorbar\": {\"outlinewidth\": 0, \"ticks\": \"\"}}, \"marker\": {\"colorbar\": {\"outlinewidth\": 0, \"ticks\": \"\"}}, \"type\": \"scatter3d\"}], \"scattercarpet\": [{\"marker\": {\"colorbar\": {\"outlinewidth\": 0, \"ticks\": \"\"}}, \"type\": \"scattercarpet\"}], \"scattergeo\": [{\"marker\": {\"colorbar\": {\"outlinewidth\": 0, \"ticks\": \"\"}}, \"type\": \"scattergeo\"}], \"scattergl\": [{\"marker\": {\"colorbar\": {\"outlinewidth\": 0, \"ticks\": \"\"}}, \"type\": \"scattergl\"}], \"scattermapbox\": [{\"marker\": {\"colorbar\": {\"outlinewidth\": 0, \"ticks\": \"\"}}, \"type\": \"scattermapbox\"}], \"scatterpolar\": [{\"marker\": {\"colorbar\": {\"outlinewidth\": 0, \"ticks\": \"\"}}, \"type\": \"scatterpolar\"}], \"scatterpolargl\": [{\"marker\": {\"colorbar\": {\"outlinewidth\": 0, \"ticks\": \"\"}}, \"type\": \"scatterpolargl\"}], \"scatterternary\": [{\"marker\": {\"colorbar\": {\"outlinewidth\": 0, \"ticks\": \"\"}}, \"type\": \"scatterternary\"}], \"surface\": [{\"colorbar\": {\"outlinewidth\": 0, \"ticks\": \"\"}, \"colorscale\": [[0.0, \"#0d0887\"], [0.1111111111111111, \"#46039f\"], [0.2222222222222222, \"#7201a8\"], [0.3333333333333333, \"#9c179e\"], [0.4444444444444444, \"#bd3786\"], [0.5555555555555556, \"#d8576b\"], [0.6666666666666666, \"#ed7953\"], [0.7777777777777778, \"#fb9f3a\"], [0.8888888888888888, \"#fdca26\"], [1.0, \"#f0f921\"]], \"type\": \"surface\"}], \"table\": [{\"cells\": {\"fill\": {\"color\": \"#EBF0F8\"}, \"line\": {\"color\": \"white\"}}, \"header\": {\"fill\": {\"color\": \"#C8D4E3\"}, \"line\": {\"color\": \"white\"}}, \"type\": \"table\"}]}, \"layout\": {\"annotationdefaults\": {\"arrowcolor\": \"#2a3f5f\", \"arrowhead\": 0, \"arrowwidth\": 1}, \"autotypenumbers\": \"strict\", \"coloraxis\": {\"colorbar\": {\"outlinewidth\": 0, \"ticks\": \"\"}}, \"colorscale\": {\"diverging\": [[0, \"#8e0152\"], [0.1, \"#c51b7d\"], [0.2, \"#de77ae\"], [0.3, \"#f1b6da\"], [0.4, \"#fde0ef\"], [0.5, \"#f7f7f7\"], [0.6, \"#e6f5d0\"], [0.7, \"#b8e186\"], [0.8, \"#7fbc41\"], [0.9, \"#4d9221\"], [1, \"#276419\"]], \"sequential\": [[0.0, \"#0d0887\"], [0.1111111111111111, \"#46039f\"], [0.2222222222222222, \"#7201a8\"], [0.3333333333333333, \"#9c179e\"], [0.4444444444444444, \"#bd3786\"], [0.5555555555555556, \"#d8576b\"], [0.6666666666666666, \"#ed7953\"], [0.7777777777777778, \"#fb9f3a\"], [0.8888888888888888, \"#fdca26\"], [1.0, \"#f0f921\"]], \"sequentialminus\": [[0.0, \"#0d0887\"], [0.1111111111111111, \"#46039f\"], [0.2222222222222222, \"#7201a8\"], [0.3333333333333333, \"#9c179e\"], [0.4444444444444444, \"#bd3786\"], [0.5555555555555556, \"#d8576b\"], [0.6666666666666666, \"#ed7953\"], [0.7777777777777778, \"#fb9f3a\"], [0.8888888888888888, \"#fdca26\"], [1.0, \"#f0f921\"]]}, \"colorway\": [\"#636efa\", \"#EF553B\", \"#00cc96\", \"#ab63fa\", \"#FFA15A\", \"#19d3f3\", \"#FF6692\", \"#B6E880\", \"#FF97FF\", \"#FECB52\"], \"font\": {\"color\": \"#2a3f5f\"}, \"geo\": {\"bgcolor\": \"white\", \"lakecolor\": \"white\", \"landcolor\": \"#E5ECF6\", \"showlakes\": true, \"showland\": true, \"subunitcolor\": \"white\"}, \"hoverlabel\": {\"align\": \"left\"}, \"hovermode\": \"closest\", \"mapbox\": {\"style\": \"light\"}, \"paper_bgcolor\": \"white\", \"plot_bgcolor\": \"#E5ECF6\", \"polar\": {\"angularaxis\": {\"gridcolor\": \"white\", \"linecolor\": \"white\", \"ticks\": \"\"}, \"bgcolor\": \"#E5ECF6\", \"radialaxis\": {\"gridcolor\": \"white\", \"linecolor\": \"white\", \"ticks\": \"\"}}, \"scene\": {\"xaxis\": {\"backgroundcolor\": \"#E5ECF6\", \"gridcolor\": \"white\", \"gridwidth\": 2, \"linecolor\": \"white\", \"showbackground\": true, \"ticks\": \"\", \"zerolinecolor\": \"white\"}, \"yaxis\": {\"backgroundcolor\": \"#E5ECF6\", \"gridcolor\": \"white\", \"gridwidth\": 2, \"linecolor\": \"white\", \"showbackground\": true, \"ticks\": \"\", \"zerolinecolor\": \"white\"}, \"zaxis\": {\"backgroundcolor\": \"#E5ECF6\", \"gridcolor\": \"white\", \"gridwidth\": 2, \"linecolor\": \"white\", \"showbackground\": true, \"ticks\": \"\", \"zerolinecolor\": \"white\"}}, \"shapedefaults\": {\"line\": {\"color\": \"#2a3f5f\"}}, \"ternary\": {\"aaxis\": {\"gridcolor\": \"white\", \"linecolor\": \"white\", \"ticks\": \"\"}, \"baxis\": {\"gridcolor\": \"white\", \"linecolor\": \"white\", \"ticks\": \"\"}, \"bgcolor\": \"#E5ECF6\", \"caxis\": {\"gridcolor\": \"white\", \"linecolor\": \"white\", \"ticks\": \"\"}}, \"title\": {\"x\": 0.05}, \"xaxis\": {\"automargin\": true, \"gridcolor\": \"white\", \"linecolor\": \"white\", \"ticks\": \"\", \"title\": {\"standoff\": 15}, \"zerolinecolor\": \"white\", \"zerolinewidth\": 2}, \"yaxis\": {\"automargin\": true, \"gridcolor\": \"white\", \"linecolor\": \"white\", \"ticks\": \"\", \"title\": {\"standoff\": 15}, \"zerolinecolor\": \"white\", \"zerolinewidth\": 2}}}},                        {\"responsive\": true}                    ).then(function(){\n",
       "                            \n",
       "var gd = document.getElementById('046d50b2-eb3b-45df-b7d2-14d4de05b95e');\n",
       "var x = new MutationObserver(function (mutations, observer) {{\n",
       "        var display = window.getComputedStyle(gd).display;\n",
       "        if (!display || display === 'none') {{\n",
       "            console.log([gd, 'removed!']);\n",
       "            Plotly.purge(gd);\n",
       "            observer.disconnect();\n",
       "        }}\n",
       "}});\n",
       "\n",
       "// Listen for the removal of the full notebook cells\n",
       "var notebookContainer = gd.closest('#notebook-container');\n",
       "if (notebookContainer) {{\n",
       "    x.observe(notebookContainer, {childList: true});\n",
       "}}\n",
       "\n",
       "// Listen for the clearing of the current output cell\n",
       "var outputEl = gd.closest('.output');\n",
       "if (outputEl) {{\n",
       "    x.observe(outputEl, {childList: true});\n",
       "}}\n",
       "\n",
       "                        })                };                });            </script>        </div>"
      ]
     },
     "metadata": {},
     "output_type": "display_data"
    }
   ],
   "source": [
    "import plotly.express as px\n",
    "fig = px.parallel_coordinates(\n",
    "  df.assign(log10_nodes=np.log10(df['nodes']), \n",
    "            log10_edges=np.log10(df['edges']),\n",
    "            log10_events=np.log10(df['events']),\n",
    "            log10_density=np.log10(df['density'])), \n",
    "  ['log10_nodes', 'log10_edges', 'log10_events', 'log10_density', \n",
    "   'degree assortativity', \n",
    "   'average clustering coefficient', 'diameter', 'time agnostic', \n",
    "   'time aware'], \n",
    "  color='time aware',\n",
    "  range_color=(.5,1))\n",
    "fig"
   ]
  },
  {
   "cell_type": "code",
   "execution_count": 53,
   "id": "hollywood-cabinet",
   "metadata": {
    "execution": {
     "iopub.execute_input": "2021-03-13T20:19:55.954643Z",
     "iopub.status.busy": "2021-03-13T20:19:55.954311Z",
     "iopub.status.idle": "2021-03-13T20:19:56.320801Z",
     "shell.execute_reply": "2021-03-13T20:19:56.320351Z",
     "shell.execute_reply.started": "2021-03-13T20:19:55.954610Z"
    },
    "tags": []
   },
   "outputs": [
    {
     "data": {
      "image/png": "[encoded data removed]",
      "text/plain": [
       "<Figure size 432x288 with 2 Axes>"
      ]
     },
     "metadata": {
      "needs_background": "light"
     },
     "output_type": "display_data"
    }
   ],
   "source": [
    "data = (\n",
    "  df.corr()\n",
    "  .loc[['time agnostic', 'time aware']]\n",
    "  .T\n",
    "  .drop(index=['time aware', 'time agnostic','events'])\n",
    "  .rename(\n",
    "    index={\n",
    "      'nodes': 'number of\\nnodes',\n",
    "      'edges': 'number of\\nedges',\n",
    "      'average clustering coefficient': 'average\\nclustering\\ncoefficient',\n",
    "      'degree assortativity': 'degree\\nassortativity'\n",
    "    },\n",
    "    columns={\n",
    "      'time agnostic': 'Static topological\\nfeatures (AUC)',\n",
    "      'time aware': 'Temporal weighted\\ntopological features(AUC)' \n",
    "    }\n",
    "  )\n",
    ")\n",
    "\n",
    "ax = sns.heatmap(data, vmin=-1, vmax=1, annot=True, fmt='.2f', cmap='RdBu', \n",
    "                 cbar_kws=dict(label=r'Pearson correlation coefficient ($\\rho$)'))\n",
    "cbar = ax.collections[0].colorbar\n",
    "cbar.ax.yaxis.set_ticks(np.arange(-1, 1.1, .5))\n",
    "cbar.ax.yaxis.set_ticks(np.arange(-1, 1.1, .1), minor=True)\n",
    "plt.yticks(rotation=0) \n",
    "plt.tight_layout()\n",
    "plt.savefig('code/figures/output/correlation.pdf')"
   ]
  },
  {
   "cell_type": "code",
   "execution_count": 51,
   "id": "descending-community",
   "metadata": {
    "execution": {
     "iopub.execute_input": "2021-03-13T10:53:18.157464Z",
     "iopub.status.busy": "2021-03-13T10:53:18.157168Z",
     "iopub.status.idle": "2021-03-13T10:53:18.168917Z",
     "shell.execute_reply": "2021-03-13T10:53:18.168237Z",
     "shell.execute_reply.started": "2021-03-13T10:53:18.157432Z"
    },
    "tags": []
   },
   "outputs": [
    {
     "name": "stdout",
     "output_type": "stream",
     "text": [
      "nodes time agnostic (-0.3360185586117512, 0.09328795202445073)\n",
      "nodes time aware (-0.1402090770807605, 0.49450926470993745)\n",
      "edges time agnostic (-0.26544555211756393, 0.18999167009497575)\n",
      "edges time aware (-0.07170333026664058, 0.7277772858639548)\n",
      "density time agnostic (0.04647588621388094, 0.821630821651618)\n",
      "density time aware (0.020272141782821634, 0.9216987637575066)\n",
      "degree assortativity time agnostic (-0.7779135333517087, 2.9056392334138697e-06)\n",
      "degree assortativity time aware (-0.8185953203006654, 3.213394421171203e-07)\n",
      "average clustering coefficient time agnostic (-0.37078960324377724, 0.06221209089319714)\n",
      "average clustering coefficient time aware (-0.2911156939392065, 0.14905764863878884)\n",
      "diameter time agnostic (-0.39886354664950724, 0.04354573069015226)\n",
      "diameter time aware (-0.28780021484378243, 0.15395588777536517)\n"
     ]
    }
   ],
   "source": [
    "from scipy.stats.stats import pearsonr\n",
    "for column1 in df.columns:\n",
    "  if column1 in ['nodes', 'edges', 'density', 'degree assortativity', 'average clustering coefficient', 'diameter']:\n",
    "    for column2 in df.columns:\n",
    "      if column2 in ['time agnostic', 'time aware']:\n",
    "        print(column1, column2, pearsonr(df[column1], df[column2]))"
   ]
  },
  {
   "cell_type": "code",
   "execution_count": 47,
   "id": "commercial-binding",
   "metadata": {
    "execution": {
     "iopub.execute_input": "2021-03-13T10:51:03.536913Z",
     "iopub.status.busy": "2021-03-13T10:51:03.536610Z",
     "iopub.status.idle": "2021-03-13T10:51:03.553865Z",
     "shell.execute_reply": "2021-03-13T10:51:03.553592Z",
     "shell.execute_reply.started": "2021-03-13T10:51:03.536885Z"
    }
   },
   "outputs": [
    {
     "data": {
      "text/html": [
       "<div>\n",
       "<style scoped>\n",
       "    .dataframe tbody tr th:only-of-type {\n",
       "        vertical-align: middle;\n",
       "    }\n",
       "\n",
       "    .dataframe tbody tr th {\n",
       "        vertical-align: top;\n",
       "    }\n",
       "\n",
       "    .dataframe thead th {\n",
       "        text-align: right;\n",
       "    }\n",
       "</style>\n",
       "<table border=\"1\" class=\"dataframe\">\n",
       "  <thead>\n",
       "    <tr style=\"text-align: right;\">\n",
       "      <th></th>\n",
       "      <th>nodes</th>\n",
       "      <th>edges</th>\n",
       "      <th>events</th>\n",
       "      <th>density</th>\n",
       "      <th>degree assortativity</th>\n",
       "      <th>average clustering coefficient</th>\n",
       "      <th>diameter</th>\n",
       "      <th>time agnostic</th>\n",
       "      <th>time aware</th>\n",
       "    </tr>\n",
       "  </thead>\n",
       "  <tbody>\n",
       "    <tr>\n",
       "      <th>1</th>\n",
       "      <td>1824701</td>\n",
       "      <td>8344615</td>\n",
       "      <td>29487744</td>\n",
       "      <td>0.000005</td>\n",
       "      <td>0.114186</td>\n",
       "      <td>0.632629</td>\n",
       "      <td>23</td>\n",
       "      <td>0.695059</td>\n",
       "      <td>0.805034</td>\n",
       "    </tr>\n",
       "    <tr>\n",
       "      <th>2</th>\n",
       "      <td>16959</td>\n",
       "      <td>1194440</td>\n",
       "      <td>2322259</td>\n",
       "      <td>0.008307</td>\n",
       "      <td>0.059906</td>\n",
       "      <td>0.606845</td>\n",
       "      <td>8</td>\n",
       "      <td>0.815883</td>\n",
       "      <td>0.857692</td>\n",
       "    </tr>\n",
       "    <tr>\n",
       "      <th>3</th>\n",
       "      <td>87273</td>\n",
       "      <td>299220</td>\n",
       "      <td>1148072</td>\n",
       "      <td>0.000079</td>\n",
       "      <td>-0.166689</td>\n",
       "      <td>0.119342</td>\n",
       "      <td>14</td>\n",
       "      <td>0.852915</td>\n",
       "      <td>0.880702</td>\n",
       "    </tr>\n",
       "    <tr>\n",
       "      <th>4</th>\n",
       "      <td>55387</td>\n",
       "      <td>335708</td>\n",
       "      <td>335708</td>\n",
       "      <td>0.000219</td>\n",
       "      <td>0.221522</td>\n",
       "      <td>0.123693</td>\n",
       "      <td>16</td>\n",
       "      <td>0.768035</td>\n",
       "      <td>0.786416</td>\n",
       "    </tr>\n",
       "    <tr>\n",
       "      <th>5</th>\n",
       "      <td>17218</td>\n",
       "      <td>55276</td>\n",
       "      <td>88090</td>\n",
       "      <td>0.000373</td>\n",
       "      <td>0.177355</td>\n",
       "      <td>0.642282</td>\n",
       "      <td>19</td>\n",
       "      <td>0.689612</td>\n",
       "      <td>0.748245</td>\n",
       "    </tr>\n",
       "    <tr>\n",
       "      <th>6</th>\n",
       "      <td>6798</td>\n",
       "      <td>214693</td>\n",
       "      <td>290597</td>\n",
       "      <td>0.009293</td>\n",
       "      <td>0.010808</td>\n",
       "      <td>0.770476</td>\n",
       "      <td>11</td>\n",
       "      <td>0.764571</td>\n",
       "      <td>0.809086</td>\n",
       "    </tr>\n",
       "    <tr>\n",
       "      <th>7</th>\n",
       "      <td>855165</td>\n",
       "      <td>3358827</td>\n",
       "      <td>23787273</td>\n",
       "      <td>0.000009</td>\n",
       "      <td>0.155727</td>\n",
       "      <td>0.606712</td>\n",
       "      <td>22</td>\n",
       "      <td>0.713769</td>\n",
       "      <td>0.838400</td>\n",
       "    </tr>\n",
       "    <tr>\n",
       "      <th>8</th>\n",
       "      <td>55387</td>\n",
       "      <td>335708</td>\n",
       "      <td>335708</td>\n",
       "      <td>0.000219</td>\n",
       "      <td>0.221522</td>\n",
       "      <td>0.123693</td>\n",
       "      <td>16</td>\n",
       "      <td>0.762190</td>\n",
       "      <td>0.796533</td>\n",
       "    </tr>\n",
       "    <tr>\n",
       "      <th>9</th>\n",
       "      <td>30398</td>\n",
       "      <td>86312</td>\n",
       "      <td>87627</td>\n",
       "      <td>0.000187</td>\n",
       "      <td>0.008341</td>\n",
       "      <td>0.005286</td>\n",
       "      <td>12</td>\n",
       "      <td>0.841632</td>\n",
       "      <td>0.846188</td>\n",
       "    </tr>\n",
       "    <tr>\n",
       "      <th>10</th>\n",
       "      <td>279374</td>\n",
       "      <td>1546540</td>\n",
       "      <td>1729983</td>\n",
       "      <td>0.000040</td>\n",
       "      <td>-0.055707</td>\n",
       "      <td>0.089571</td>\n",
       "      <td>18</td>\n",
       "      <td>0.895661</td>\n",
       "      <td>0.921608</td>\n",
       "    </tr>\n",
       "    <tr>\n",
       "      <th>11</th>\n",
       "      <td>139409</td>\n",
       "      <td>2989657</td>\n",
       "      <td>3018197</td>\n",
       "      <td>0.000308</td>\n",
       "      <td>-0.227284</td>\n",
       "      <td>0.144015</td>\n",
       "      <td>4</td>\n",
       "      <td>0.934950</td>\n",
       "      <td>0.934411</td>\n",
       "    </tr>\n",
       "    <tr>\n",
       "      <th>12</th>\n",
       "      <td>167</td>\n",
       "      <td>3251</td>\n",
       "      <td>82927</td>\n",
       "      <td>0.234543</td>\n",
       "      <td>-0.294441</td>\n",
       "      <td>0.591863</td>\n",
       "      <td>5</td>\n",
       "      <td>0.853272</td>\n",
       "      <td>0.885753</td>\n",
       "    </tr>\n",
       "    <tr>\n",
       "      <th>13</th>\n",
       "      <td>899</td>\n",
       "      <td>7031</td>\n",
       "      <td>33720</td>\n",
       "      <td>0.017419</td>\n",
       "      <td>-0.092248</td>\n",
       "      <td>0.070458</td>\n",
       "      <td>6</td>\n",
       "      <td>0.735070</td>\n",
       "      <td>0.800146</td>\n",
       "    </tr>\n",
       "    <tr>\n",
       "      <th>14</th>\n",
       "      <td>24818</td>\n",
       "      <td>199973</td>\n",
       "      <td>506550</td>\n",
       "      <td>0.000649</td>\n",
       "      <td>-0.197902</td>\n",
       "      <td>0.312096</td>\n",
       "      <td>9</td>\n",
       "      <td>0.863147</td>\n",
       "      <td>0.922477</td>\n",
       "    </tr>\n",
       "    <tr>\n",
       "      <th>16</th>\n",
       "      <td>114467</td>\n",
       "      <td>593129</td>\n",
       "      <td>717667</td>\n",
       "      <td>0.000091</td>\n",
       "      <td>-0.051317</td>\n",
       "      <td>0.128461</td>\n",
       "      <td>14</td>\n",
       "      <td>0.879642</td>\n",
       "      <td>0.927313</td>\n",
       "    </tr>\n",
       "    <tr>\n",
       "      <th>18</th>\n",
       "      <td>3683</td>\n",
       "      <td>12972</td>\n",
       "      <td>22650</td>\n",
       "      <td>0.001913</td>\n",
       "      <td>-0.153884</td>\n",
       "      <td>0.167077</td>\n",
       "      <td>10</td>\n",
       "      <td>0.866061</td>\n",
       "      <td>0.930870</td>\n",
       "    </tr>\n",
       "    <tr>\n",
       "      <th>19</th>\n",
       "      <td>1891</td>\n",
       "      <td>4465</td>\n",
       "      <td>39264</td>\n",
       "      <td>0.002499</td>\n",
       "      <td>-0.301404</td>\n",
       "      <td>0.209099</td>\n",
       "      <td>8</td>\n",
       "      <td>0.918575</td>\n",
       "      <td>0.926808</td>\n",
       "    </tr>\n",
       "    <tr>\n",
       "      <th>20</th>\n",
       "      <td>5573</td>\n",
       "      <td>18591</td>\n",
       "      <td>32029</td>\n",
       "      <td>0.001197</td>\n",
       "      <td>-0.144884</td>\n",
       "      <td>0.163569</td>\n",
       "      <td>14</td>\n",
       "      <td>0.831362</td>\n",
       "      <td>0.929366</td>\n",
       "    </tr>\n",
       "    <tr>\n",
       "      <th>21</th>\n",
       "      <td>6050</td>\n",
       "      <td>20150</td>\n",
       "      <td>21163</td>\n",
       "      <td>0.001101</td>\n",
       "      <td>0.335905</td>\n",
       "      <td>0.054398</td>\n",
       "      <td>13</td>\n",
       "      <td>0.669462</td>\n",
       "      <td>0.717674</td>\n",
       "    </tr>\n",
       "    <tr>\n",
       "      <th>22</th>\n",
       "      <td>159316</td>\n",
       "      <td>508003</td>\n",
       "      <td>964437</td>\n",
       "      <td>0.000040</td>\n",
       "      <td>-0.143106</td>\n",
       "      <td>0.109331</td>\n",
       "      <td>13</td>\n",
       "      <td>0.938684</td>\n",
       "      <td>0.962611</td>\n",
       "    </tr>\n",
       "    <tr>\n",
       "      <th>23</th>\n",
       "      <td>194085</td>\n",
       "      <td>785079</td>\n",
       "      <td>1443339</td>\n",
       "      <td>0.000042</td>\n",
       "      <td>-0.087745</td>\n",
       "      <td>0.116163</td>\n",
       "      <td>12</td>\n",
       "      <td>0.924479</td>\n",
       "      <td>0.944664</td>\n",
       "    </tr>\n",
       "    <tr>\n",
       "      <th>24</th>\n",
       "      <td>89269</td>\n",
       "      <td>3330022</td>\n",
       "      <td>3394979</td>\n",
       "      <td>0.000836</td>\n",
       "      <td>-0.078326</td>\n",
       "      <td>0.004867</td>\n",
       "      <td>8</td>\n",
       "      <td>0.778903</td>\n",
       "      <td>0.877240</td>\n",
       "    </tr>\n",
       "    <tr>\n",
       "      <th>25</th>\n",
       "      <td>116836</td>\n",
       "      <td>2027871</td>\n",
       "      <td>2917785</td>\n",
       "      <td>0.000297</td>\n",
       "      <td>-0.064984</td>\n",
       "      <td>0.363506</td>\n",
       "      <td>10</td>\n",
       "      <td>0.868919</td>\n",
       "      <td>0.891109</td>\n",
       "    </tr>\n",
       "    <tr>\n",
       "      <th>28</th>\n",
       "      <td>35010</td>\n",
       "      <td>117594</td>\n",
       "      <td>265491</td>\n",
       "      <td>0.000192</td>\n",
       "      <td>-0.087156</td>\n",
       "      <td>0.177422</td>\n",
       "      <td>11</td>\n",
       "      <td>0.879288</td>\n",
       "      <td>0.889740</td>\n",
       "    </tr>\n",
       "    <tr>\n",
       "      <th>29</th>\n",
       "      <td>53018</td>\n",
       "      <td>207636</td>\n",
       "      <td>510787</td>\n",
       "      <td>0.000148</td>\n",
       "      <td>-0.137222</td>\n",
       "      <td>0.178697</td>\n",
       "      <td>17</td>\n",
       "      <td>0.907081</td>\n",
       "      <td>0.921457</td>\n",
       "    </tr>\n",
       "    <tr>\n",
       "      <th>30</th>\n",
       "      <td>986</td>\n",
       "      <td>16064</td>\n",
       "      <td>332334</td>\n",
       "      <td>0.033080</td>\n",
       "      <td>-0.025743</td>\n",
       "      <td>0.407050</td>\n",
       "      <td>7</td>\n",
       "      <td>0.824651</td>\n",
       "      <td>0.849151</td>\n",
       "    </tr>\n",
       "  </tbody>\n",
       "</table>\n",
       "</div>"
      ],
      "text/plain": [
       "      nodes    edges    events   density  degree assortativity  \\\n",
       "1   1824701  8344615  29487744  0.000005              0.114186   \n",
       "2     16959  1194440   2322259  0.008307              0.059906   \n",
       "3     87273   299220   1148072  0.000079             -0.166689   \n",
       "4     55387   335708    335708  0.000219              0.221522   \n",
       "5     17218    55276     88090  0.000373              0.177355   \n",
       "6      6798   214693    290597  0.009293              0.010808   \n",
       "7    855165  3358827  23787273  0.000009              0.155727   \n",
       "8     55387   335708    335708  0.000219              0.221522   \n",
       "9     30398    86312     87627  0.000187              0.008341   \n",
       "10   279374  1546540   1729983  0.000040             -0.055707   \n",
       "11   139409  2989657   3018197  0.000308             -0.227284   \n",
       "12      167     3251     82927  0.234543             -0.294441   \n",
       "13      899     7031     33720  0.017419             -0.092248   \n",
       "14    24818   199973    506550  0.000649             -0.197902   \n",
       "16   114467   593129    717667  0.000091             -0.051317   \n",
       "18     3683    12972     22650  0.001913             -0.153884   \n",
       "19     1891     4465     39264  0.002499             -0.301404   \n",
       "20     5573    18591     32029  0.001197             -0.144884   \n",
       "21     6050    20150     21163  0.001101              0.335905   \n",
       "22   159316   508003    964437  0.000040             -0.143106   \n",
       "23   194085   785079   1443339  0.000042             -0.087745   \n",
       "24    89269  3330022   3394979  0.000836             -0.078326   \n",
       "25   116836  2027871   2917785  0.000297             -0.064984   \n",
       "28    35010   117594    265491  0.000192             -0.087156   \n",
       "29    53018   207636    510787  0.000148             -0.137222   \n",
       "30      986    16064    332334  0.033080             -0.025743   \n",
       "\n",
       "    average clustering coefficient  diameter  time agnostic  time aware  \n",
       "1                         0.632629        23       0.695059    0.805034  \n",
       "2                         0.606845         8       0.815883    0.857692  \n",
       "3                         0.119342        14       0.852915    0.880702  \n",
       "4                         0.123693        16       0.768035    0.786416  \n",
       "5                         0.642282        19       0.689612    0.748245  \n",
       "6                         0.770476        11       0.764571    0.809086  \n",
       "7                         0.606712        22       0.713769    0.838400  \n",
       "8                         0.123693        16       0.762190    0.796533  \n",
       "9                         0.005286        12       0.841632    0.846188  \n",
       "10                        0.089571        18       0.895661    0.921608  \n",
       "11                        0.144015         4       0.934950    0.934411  \n",
       "12                        0.591863         5       0.853272    0.885753  \n",
       "13                        0.070458         6       0.735070    0.800146  \n",
       "14                        0.312096         9       0.863147    0.922477  \n",
       "16                        0.128461        14       0.879642    0.927313  \n",
       "18                        0.167077        10       0.866061    0.930870  \n",
       "19                        0.209099         8       0.918575    0.926808  \n",
       "20                        0.163569        14       0.831362    0.929366  \n",
       "21                        0.054398        13       0.669462    0.717674  \n",
       "22                        0.109331        13       0.938684    0.962611  \n",
       "23                        0.116163        12       0.924479    0.944664  \n",
       "24                        0.004867         8       0.778903    0.877240  \n",
       "25                        0.363506        10       0.868919    0.891109  \n",
       "28                        0.177422        11       0.879288    0.889740  \n",
       "29                        0.178697        17       0.907081    0.921457  \n",
       "30                        0.407050         7       0.824651    0.849151  "
      ]
     },
     "execution_count": 47,
     "metadata": {},
     "output_type": "execute_result"
    }
   ],
   "source": [
    "df"
   ]
  },
  {
   "cell_type": "code",
   "execution_count": 39,
   "id": "comfortable-envelope",
   "metadata": {
    "collapsed": true,
    "execution": {
     "iopub.execute_input": "2021-03-13T10:47:51.494155Z",
     "iopub.status.busy": "2021-03-13T10:47:51.493835Z",
     "iopub.status.idle": "2021-03-13T10:47:52.204868Z",
     "shell.execute_reply": "2021-03-13T10:47:52.204333Z",
     "shell.execute_reply.started": "2021-03-13T10:47:51.494123Z"
    },
    "jupyter": {
     "outputs_hidden": true
    },
    "tags": []
   },
   "outputs": [
    {
     "data": {
      "text/plain": [
       "(array([0.5, 1.5, 2.5, 3.5, 4.5, 5.5, 6.5, 7.5, 8.5, 9.5]),\n",
       " [Text(0, 0.5, 'nodes'),\n",
       "  Text(0, 1.5, 'edges'),\n",
       "  Text(0, 2.5, 'events'),\n",
       "  Text(0, 3.5, 'density'),\n",
       "  Text(0, 4.5, 'degree assortativity'),\n",
       "  Text(0, 5.5, 'average clustering coefficient'),\n",
       "  Text(0, 6.5, 'diameter'),\n",
       "  Text(0, 7.5, 'I'),\n",
       "  Text(0, 8.5, 'I+II'),\n",
       "  Text(0, 9.5, 'III')])"
      ]
     },
     "execution_count": 39,
     "metadata": {},
     "output_type": "execute_result"
    },
    {
     "data": {
      "image/png": "[encoded data removed]",
      "text/plain": [
       "<Figure size 432x288 with 2 Axes>"
      ]
     },
     "metadata": {
      "needs_background": "light"
     },
     "output_type": "display_data"
    }
   ],
   "source": [
    "df = pd.concat([\n",
    "  size,\n",
    "  stats,\n",
    "  pd.Series(diameter, name='diameter'),\n",
    "  pd.Series(auc_I, name='I'),\n",
    "  pd.Series(auc_I_II, name='I+II'),\n",
    "  pd.Series(auc_III, name='III')\n",
    "], axis=1)\n",
    "\n",
    "sns.heatmap(\n",
    "  df.corr(),\n",
    "  vmin=-1, vmax=1, annot=True, fmt='.2f', cmap='RdBu')\n",
    "plt.yticks(rotation=0) \n",
    "# plt.savefig('figures/heatmap.pdf')"
   ]
  },
  {
   "cell_type": "code",
   "execution_count": 52,
   "id": "domestic-consistency",
   "metadata": {
    "execution": {
     "iopub.execute_input": "2021-03-13T19:28:56.057779Z",
     "iopub.status.busy": "2021-03-13T19:28:56.057446Z",
     "iopub.status.idle": "2021-03-13T19:28:56.076215Z",
     "shell.execute_reply": "2021-03-13T19:28:56.075748Z",
     "shell.execute_reply.started": "2021-03-13T19:28:56.057744Z"
    },
    "tags": []
   },
   "outputs": [
    {
     "data": {
      "text/html": [
       "<div>\n",
       "<style scoped>\n",
       "    .dataframe tbody tr th:only-of-type {\n",
       "        vertical-align: middle;\n",
       "    }\n",
       "\n",
       "    .dataframe tbody tr th {\n",
       "        vertical-align: top;\n",
       "    }\n",
       "\n",
       "    .dataframe thead th {\n",
       "        text-align: right;\n",
       "    }\n",
       "</style>\n",
       "<table border=\"1\" class=\"dataframe\">\n",
       "  <thead>\n",
       "    <tr style=\"text-align: right;\">\n",
       "      <th></th>\n",
       "      <th>nodes</th>\n",
       "      <th>edges</th>\n",
       "      <th>events</th>\n",
       "      <th>density</th>\n",
       "      <th>degree assortativity</th>\n",
       "      <th>average clustering coefficient</th>\n",
       "      <th>diameter</th>\n",
       "      <th>time agnostic</th>\n",
       "      <th>time aware</th>\n",
       "    </tr>\n",
       "  </thead>\n",
       "  <tbody>\n",
       "    <tr>\n",
       "      <th>19</th>\n",
       "      <td>1891</td>\n",
       "      <td>4465</td>\n",
       "      <td>39264</td>\n",
       "      <td>0.002499</td>\n",
       "      <td>-0.301404</td>\n",
       "      <td>0.209099</td>\n",
       "      <td>8</td>\n",
       "      <td>0.918575</td>\n",
       "      <td>0.926808</td>\n",
       "    </tr>\n",
       "    <tr>\n",
       "      <th>12</th>\n",
       "      <td>167</td>\n",
       "      <td>3251</td>\n",
       "      <td>82927</td>\n",
       "      <td>0.234543</td>\n",
       "      <td>-0.294441</td>\n",
       "      <td>0.591863</td>\n",
       "      <td>5</td>\n",
       "      <td>0.853272</td>\n",
       "      <td>0.885753</td>\n",
       "    </tr>\n",
       "    <tr>\n",
       "      <th>11</th>\n",
       "      <td>139409</td>\n",
       "      <td>2989657</td>\n",
       "      <td>3018197</td>\n",
       "      <td>0.000308</td>\n",
       "      <td>-0.227284</td>\n",
       "      <td>0.144015</td>\n",
       "      <td>4</td>\n",
       "      <td>0.934950</td>\n",
       "      <td>0.934411</td>\n",
       "    </tr>\n",
       "    <tr>\n",
       "      <th>14</th>\n",
       "      <td>24818</td>\n",
       "      <td>199973</td>\n",
       "      <td>506550</td>\n",
       "      <td>0.000649</td>\n",
       "      <td>-0.197902</td>\n",
       "      <td>0.312096</td>\n",
       "      <td>9</td>\n",
       "      <td>0.863147</td>\n",
       "      <td>0.922477</td>\n",
       "    </tr>\n",
       "    <tr>\n",
       "      <th>3</th>\n",
       "      <td>87273</td>\n",
       "      <td>299220</td>\n",
       "      <td>1148072</td>\n",
       "      <td>0.000079</td>\n",
       "      <td>-0.166689</td>\n",
       "      <td>0.119342</td>\n",
       "      <td>14</td>\n",
       "      <td>0.852915</td>\n",
       "      <td>0.880702</td>\n",
       "    </tr>\n",
       "    <tr>\n",
       "      <th>18</th>\n",
       "      <td>3683</td>\n",
       "      <td>12972</td>\n",
       "      <td>22650</td>\n",
       "      <td>0.001913</td>\n",
       "      <td>-0.153884</td>\n",
       "      <td>0.167077</td>\n",
       "      <td>10</td>\n",
       "      <td>0.866061</td>\n",
       "      <td>0.930870</td>\n",
       "    </tr>\n",
       "    <tr>\n",
       "      <th>20</th>\n",
       "      <td>5573</td>\n",
       "      <td>18591</td>\n",
       "      <td>32029</td>\n",
       "      <td>0.001197</td>\n",
       "      <td>-0.144884</td>\n",
       "      <td>0.163569</td>\n",
       "      <td>14</td>\n",
       "      <td>0.831362</td>\n",
       "      <td>0.929366</td>\n",
       "    </tr>\n",
       "    <tr>\n",
       "      <th>22</th>\n",
       "      <td>159316</td>\n",
       "      <td>508003</td>\n",
       "      <td>964437</td>\n",
       "      <td>0.000040</td>\n",
       "      <td>-0.143106</td>\n",
       "      <td>0.109331</td>\n",
       "      <td>13</td>\n",
       "      <td>0.938684</td>\n",
       "      <td>0.962611</td>\n",
       "    </tr>\n",
       "    <tr>\n",
       "      <th>29</th>\n",
       "      <td>53018</td>\n",
       "      <td>207636</td>\n",
       "      <td>510787</td>\n",
       "      <td>0.000148</td>\n",
       "      <td>-0.137222</td>\n",
       "      <td>0.178697</td>\n",
       "      <td>17</td>\n",
       "      <td>0.907081</td>\n",
       "      <td>0.921457</td>\n",
       "    </tr>\n",
       "    <tr>\n",
       "      <th>13</th>\n",
       "      <td>899</td>\n",
       "      <td>7031</td>\n",
       "      <td>33720</td>\n",
       "      <td>0.017419</td>\n",
       "      <td>-0.092248</td>\n",
       "      <td>0.070458</td>\n",
       "      <td>6</td>\n",
       "      <td>0.735070</td>\n",
       "      <td>0.800146</td>\n",
       "    </tr>\n",
       "    <tr>\n",
       "      <th>23</th>\n",
       "      <td>194085</td>\n",
       "      <td>785079</td>\n",
       "      <td>1443339</td>\n",
       "      <td>0.000042</td>\n",
       "      <td>-0.087745</td>\n",
       "      <td>0.116163</td>\n",
       "      <td>12</td>\n",
       "      <td>0.924479</td>\n",
       "      <td>0.944664</td>\n",
       "    </tr>\n",
       "    <tr>\n",
       "      <th>28</th>\n",
       "      <td>35010</td>\n",
       "      <td>117594</td>\n",
       "      <td>265491</td>\n",
       "      <td>0.000192</td>\n",
       "      <td>-0.087156</td>\n",
       "      <td>0.177422</td>\n",
       "      <td>11</td>\n",
       "      <td>0.879288</td>\n",
       "      <td>0.889740</td>\n",
       "    </tr>\n",
       "    <tr>\n",
       "      <th>24</th>\n",
       "      <td>89269</td>\n",
       "      <td>3330022</td>\n",
       "      <td>3394979</td>\n",
       "      <td>0.000836</td>\n",
       "      <td>-0.078326</td>\n",
       "      <td>0.004867</td>\n",
       "      <td>8</td>\n",
       "      <td>0.778903</td>\n",
       "      <td>0.877240</td>\n",
       "    </tr>\n",
       "    <tr>\n",
       "      <th>25</th>\n",
       "      <td>116836</td>\n",
       "      <td>2027871</td>\n",
       "      <td>2917785</td>\n",
       "      <td>0.000297</td>\n",
       "      <td>-0.064984</td>\n",
       "      <td>0.363506</td>\n",
       "      <td>10</td>\n",
       "      <td>0.868919</td>\n",
       "      <td>0.891109</td>\n",
       "    </tr>\n",
       "    <tr>\n",
       "      <th>10</th>\n",
       "      <td>279374</td>\n",
       "      <td>1546540</td>\n",
       "      <td>1729983</td>\n",
       "      <td>0.000040</td>\n",
       "      <td>-0.055707</td>\n",
       "      <td>0.089571</td>\n",
       "      <td>18</td>\n",
       "      <td>0.895661</td>\n",
       "      <td>0.921608</td>\n",
       "    </tr>\n",
       "    <tr>\n",
       "      <th>16</th>\n",
       "      <td>114467</td>\n",
       "      <td>593129</td>\n",
       "      <td>717667</td>\n",
       "      <td>0.000091</td>\n",
       "      <td>-0.051317</td>\n",
       "      <td>0.128461</td>\n",
       "      <td>14</td>\n",
       "      <td>0.879642</td>\n",
       "      <td>0.927313</td>\n",
       "    </tr>\n",
       "    <tr>\n",
       "      <th>30</th>\n",
       "      <td>986</td>\n",
       "      <td>16064</td>\n",
       "      <td>332334</td>\n",
       "      <td>0.033080</td>\n",
       "      <td>-0.025743</td>\n",
       "      <td>0.407050</td>\n",
       "      <td>7</td>\n",
       "      <td>0.824651</td>\n",
       "      <td>0.849151</td>\n",
       "    </tr>\n",
       "    <tr>\n",
       "      <th>9</th>\n",
       "      <td>30398</td>\n",
       "      <td>86312</td>\n",
       "      <td>87627</td>\n",
       "      <td>0.000187</td>\n",
       "      <td>0.008341</td>\n",
       "      <td>0.005286</td>\n",
       "      <td>12</td>\n",
       "      <td>0.841632</td>\n",
       "      <td>0.846188</td>\n",
       "    </tr>\n",
       "    <tr>\n",
       "      <th>6</th>\n",
       "      <td>6798</td>\n",
       "      <td>214693</td>\n",
       "      <td>290597</td>\n",
       "      <td>0.009293</td>\n",
       "      <td>0.010808</td>\n",
       "      <td>0.770476</td>\n",
       "      <td>11</td>\n",
       "      <td>0.764571</td>\n",
       "      <td>0.809086</td>\n",
       "    </tr>\n",
       "    <tr>\n",
       "      <th>2</th>\n",
       "      <td>16959</td>\n",
       "      <td>1194440</td>\n",
       "      <td>2322259</td>\n",
       "      <td>0.008307</td>\n",
       "      <td>0.059906</td>\n",
       "      <td>0.606845</td>\n",
       "      <td>8</td>\n",
       "      <td>0.815883</td>\n",
       "      <td>0.857692</td>\n",
       "    </tr>\n",
       "    <tr>\n",
       "      <th>1</th>\n",
       "      <td>1824701</td>\n",
       "      <td>8344615</td>\n",
       "      <td>29487744</td>\n",
       "      <td>0.000005</td>\n",
       "      <td>0.114186</td>\n",
       "      <td>0.632629</td>\n",
       "      <td>23</td>\n",
       "      <td>0.695059</td>\n",
       "      <td>0.805034</td>\n",
       "    </tr>\n",
       "    <tr>\n",
       "      <th>7</th>\n",
       "      <td>855165</td>\n",
       "      <td>3358827</td>\n",
       "      <td>23787273</td>\n",
       "      <td>0.000009</td>\n",
       "      <td>0.155727</td>\n",
       "      <td>0.606712</td>\n",
       "      <td>22</td>\n",
       "      <td>0.713769</td>\n",
       "      <td>0.838400</td>\n",
       "    </tr>\n",
       "    <tr>\n",
       "      <th>5</th>\n",
       "      <td>17218</td>\n",
       "      <td>55276</td>\n",
       "      <td>88090</td>\n",
       "      <td>0.000373</td>\n",
       "      <td>0.177355</td>\n",
       "      <td>0.642282</td>\n",
       "      <td>19</td>\n",
       "      <td>0.689612</td>\n",
       "      <td>0.748245</td>\n",
       "    </tr>\n",
       "    <tr>\n",
       "      <th>8</th>\n",
       "      <td>55387</td>\n",
       "      <td>335708</td>\n",
       "      <td>335708</td>\n",
       "      <td>0.000219</td>\n",
       "      <td>0.221522</td>\n",
       "      <td>0.123693</td>\n",
       "      <td>16</td>\n",
       "      <td>0.762190</td>\n",
       "      <td>0.796533</td>\n",
       "    </tr>\n",
       "    <tr>\n",
       "      <th>4</th>\n",
       "      <td>55387</td>\n",
       "      <td>335708</td>\n",
       "      <td>335708</td>\n",
       "      <td>0.000219</td>\n",
       "      <td>0.221522</td>\n",
       "      <td>0.123693</td>\n",
       "      <td>16</td>\n",
       "      <td>0.768035</td>\n",
       "      <td>0.786416</td>\n",
       "    </tr>\n",
       "    <tr>\n",
       "      <th>21</th>\n",
       "      <td>6050</td>\n",
       "      <td>20150</td>\n",
       "      <td>21163</td>\n",
       "      <td>0.001101</td>\n",
       "      <td>0.335905</td>\n",
       "      <td>0.054398</td>\n",
       "      <td>13</td>\n",
       "      <td>0.669462</td>\n",
       "      <td>0.717674</td>\n",
       "    </tr>\n",
       "  </tbody>\n",
       "</table>\n",
       "</div>"
      ],
      "text/plain": [
       "      nodes    edges    events   density  degree assortativity  \\\n",
       "19     1891     4465     39264  0.002499             -0.301404   \n",
       "12      167     3251     82927  0.234543             -0.294441   \n",
       "11   139409  2989657   3018197  0.000308             -0.227284   \n",
       "14    24818   199973    506550  0.000649             -0.197902   \n",
       "3     87273   299220   1148072  0.000079             -0.166689   \n",
       "18     3683    12972     22650  0.001913             -0.153884   \n",
       "20     5573    18591     32029  0.001197             -0.144884   \n",
       "22   159316   508003    964437  0.000040             -0.143106   \n",
       "29    53018   207636    510787  0.000148             -0.137222   \n",
       "13      899     7031     33720  0.017419             -0.092248   \n",
       "23   194085   785079   1443339  0.000042             -0.087745   \n",
       "28    35010   117594    265491  0.000192             -0.087156   \n",
       "24    89269  3330022   3394979  0.000836             -0.078326   \n",
       "25   116836  2027871   2917785  0.000297             -0.064984   \n",
       "10   279374  1546540   1729983  0.000040             -0.055707   \n",
       "16   114467   593129    717667  0.000091             -0.051317   \n",
       "30      986    16064    332334  0.033080             -0.025743   \n",
       "9     30398    86312     87627  0.000187              0.008341   \n",
       "6      6798   214693    290597  0.009293              0.010808   \n",
       "2     16959  1194440   2322259  0.008307              0.059906   \n",
       "1   1824701  8344615  29487744  0.000005              0.114186   \n",
       "7    855165  3358827  23787273  0.000009              0.155727   \n",
       "5     17218    55276     88090  0.000373              0.177355   \n",
       "8     55387   335708    335708  0.000219              0.221522   \n",
       "4     55387   335708    335708  0.000219              0.221522   \n",
       "21     6050    20150     21163  0.001101              0.335905   \n",
       "\n",
       "    average clustering coefficient  diameter  time agnostic  time aware  \n",
       "19                        0.209099         8       0.918575    0.926808  \n",
       "12                        0.591863         5       0.853272    0.885753  \n",
       "11                        0.144015         4       0.934950    0.934411  \n",
       "14                        0.312096         9       0.863147    0.922477  \n",
       "3                         0.119342        14       0.852915    0.880702  \n",
       "18                        0.167077        10       0.866061    0.930870  \n",
       "20                        0.163569        14       0.831362    0.929366  \n",
       "22                        0.109331        13       0.938684    0.962611  \n",
       "29                        0.178697        17       0.907081    0.921457  \n",
       "13                        0.070458         6       0.735070    0.800146  \n",
       "23                        0.116163        12       0.924479    0.944664  \n",
       "28                        0.177422        11       0.879288    0.889740  \n",
       "24                        0.004867         8       0.778903    0.877240  \n",
       "25                        0.363506        10       0.868919    0.891109  \n",
       "10                        0.089571        18       0.895661    0.921608  \n",
       "16                        0.128461        14       0.879642    0.927313  \n",
       "30                        0.407050         7       0.824651    0.849151  \n",
       "9                         0.005286        12       0.841632    0.846188  \n",
       "6                         0.770476        11       0.764571    0.809086  \n",
       "2                         0.606845         8       0.815883    0.857692  \n",
       "1                         0.632629        23       0.695059    0.805034  \n",
       "7                         0.606712        22       0.713769    0.838400  \n",
       "5                         0.642282        19       0.689612    0.748245  \n",
       "8                         0.123693        16       0.762190    0.796533  \n",
       "4                         0.123693        16       0.768035    0.786416  \n",
       "21                        0.054398        13       0.669462    0.717674  "
      ]
     },
     "execution_count": 52,
     "metadata": {},
     "output_type": "execute_result"
    }
   ],
   "source": [
    "df.sort_values('degree assortativity')"
   ]
  },
  {
   "cell_type": "code",
   "execution_count": null,
   "id": "friendly-introduction",
   "metadata": {},
   "outputs": [],
   "source": []
  }
 ],
 "metadata": {
  "kernelspec": {
   "display_name": "Python 3",
   "language": "python",
   "name": "python3"
  },
  "language_info": {
   "codemirror_mode": {
    "name": "ipython",
    "version": 3
   },
   "file_extension": ".py",
   "mimetype": "text/x-python",
   "name": "python",
   "nbconvert_exporter": "python",
   "pygments_lexer": "ipython3",
   "version": "3.9.2"
  }
 },
 "nbformat": 4,
 "nbformat_minor": 5
}
