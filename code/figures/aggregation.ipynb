{
 "cells": [
  {
   "cell_type": "code",
   "execution_count": 26,
   "id": "great-horizontal",
   "metadata": {
    "execution": {
     "iopub.execute_input": "2021-03-12T12:56:46.700020Z",
     "iopub.status.busy": "2021-03-12T12:56:46.699717Z",
     "iopub.status.idle": "2021-03-12T12:56:46.706375Z",
     "shell.execute_reply": "2021-03-12T12:56:46.705601Z",
     "shell.execute_reply.started": "2021-03-12T12:56:46.699987Z"
    },
    "tags": []
   },
   "outputs": [
    {
     "name": "stdout",
     "output_type": "stream",
     "text": [
      "/scratch/bruingjde/SNAM2021-code\n"
     ]
    }
   ],
   "source": [
    "%cd /scratch/bruingjde/SNAM2021-code/\n",
    "\n",
    "from constants import *"
   ]
  },
  {
   "cell_type": "markdown",
   "id": "molecular-metallic",
   "metadata": {},
   "source": [
    "# Edge temporal features"
   ]
  },
  {
   "cell_type": "code",
   "execution_count": 72,
   "id": "registered-edwards",
   "metadata": {
    "execution": {
     "iopub.execute_input": "2021-03-14T08:29:41.668154Z",
     "iopub.status.busy": "2021-03-14T08:29:41.667841Z",
     "iopub.status.idle": "2021-03-14T08:29:41.675783Z",
     "shell.execute_reply": "2021-03-14T08:29:41.674909Z",
     "shell.execute_reply.started": "2021-03-14T08:29:41.668125Z"
    },
    "tags": []
   },
   "outputs": [],
   "source": [
    "def logistic_regression(X, y):\n",
    "  X_train, X_test, y_train, y_test = (\n",
    "    sklearn.model_selection.train_test_split(X, y))\n",
    "  pipe = sklearn.pipeline.make_pipeline(\n",
    "    sklearn.preprocessing.StandardScaler(),\n",
    "    sklearn.linear_model.LogisticRegression(max_iter=10000, n_jobs=-1))\n",
    "  pipe.fit(X_train, y_train)\n",
    "  \n",
    "  auc = sklearn.metrics.roc_auc_score(\n",
    "    y_true=y_test, y_score=pipe.predict_proba(X_test)[:,1])\n",
    "  \n",
    "  return auc\n",
    "\n",
    "def get_features() -> dict[FeatureSet, typing.Union[np.ndarray, pd.DataFrame]]:\n",
    "  aggregation_strategies = ['m0', 'm1', 'q0', 'q25', 'q50', 'q75', 'q100']\n",
    "  # Get all features that will be used in the logistic_regression.\n",
    "  return {\n",
    "    network_index: [\n",
    "      np.load(\n",
    "        f'data/{network_index:02}/features/time_edge/'\n",
    "        f'{topological_feature}_{weighting}_q0.npy'\n",
    "      )\n",
    "      for weighting in ['lin', 'exp', 'sqrt']\n",
    "      for topological_feature in heuristics\n",
    "    ]\n",
    "    for network_index in hypergraph_indices\n",
    "  }"
   ]
  },
  {
   "cell_type": "code",
   "execution_count": 73,
   "id": "geological-stephen",
   "metadata": {
    "execution": {
     "iopub.execute_input": "2021-03-14T08:29:42.042180Z",
     "iopub.status.busy": "2021-03-14T08:29:42.041953Z",
     "iopub.status.idle": "2021-03-14T08:29:42.101480Z",
     "shell.execute_reply": "2021-03-14T08:29:42.100907Z",
     "shell.execute_reply.started": "2021-03-14T08:29:42.042154Z"
    },
    "tags": []
   },
   "outputs": [],
   "source": [
    "featuresets = get_features()"
   ]
  },
  {
   "cell_type": "code",
   "execution_count": 77,
   "id": "tracked-gothic",
   "metadata": {
    "execution": {
     "iopub.execute_input": "2021-03-14T08:31:39.326781Z",
     "iopub.status.busy": "2021-03-14T08:31:39.326466Z",
     "iopub.status.idle": "2021-03-14T08:31:53.818920Z",
     "shell.execute_reply": "2021-03-14T08:31:53.818104Z",
     "shell.execute_reply.started": "2021-03-14T08:31:39.326748Z"
    },
    "tags": []
   },
   "outputs": [
    {
     "data": {
      "application/vnd.jupyter.widget-view+json": {
       "model_id": "07e2c107a38743f4aab6ee9fdc6b3c7b",
       "version_major": 2,
       "version_minor": 0
      },
      "text/plain": [
       "  0%|          | 0/16 [00:00<?, ?it/s]"
      ]
     },
     "metadata": {},
     "output_type": "display_data"
    }
   ],
   "source": [
    "auc_featuresets = {\n",
    "  network_index: logistic_regression(\n",
    "    X=np.array(featureset).T, \n",
    "    y=np.load(f'data/{network_index:02}/targets_sampled.npy')\n",
    "  )\n",
    "  for network_index, featureset in tqdm(featuresets.items())\n",
    "}"
   ]
  },
  {
   "cell_type": "code",
   "execution_count": 80,
   "id": "forward-weapon",
   "metadata": {
    "execution": {
     "iopub.execute_input": "2021-03-14T08:33:58.749559Z",
     "iopub.status.busy": "2021-03-14T08:33:58.749319Z",
     "iopub.status.idle": "2021-03-14T08:33:58.753979Z",
     "shell.execute_reply": "2021-03-14T08:33:58.753147Z",
     "shell.execute_reply.started": "2021-03-14T08:33:58.749542Z"
    },
    "tags": []
   },
   "outputs": [],
   "source": [
    "pd.Series(auc_featuresets, name='q0').to_pickle('IIb2.pkl')"
   ]
  },
  {
   "cell_type": "code",
   "execution_count": null,
   "id": "korean-redhead",
   "metadata": {},
   "outputs": [],
   "source": []
  }
 ],
 "metadata": {
  "kernelspec": {
   "display_name": "Python 3",
   "language": "python",
   "name": "python3"
  },
  "language_info": {
   "codemirror_mode": {
    "name": "ipython",
    "version": 3
   },
   "file_extension": ".py",
   "mimetype": "text/x-python",
   "name": "python",
   "nbconvert_exporter": "python",
   "pygments_lexer": "ipython3",
   "version": "3.9.2"
  }
 },
 "nbformat": 4,
 "nbformat_minor": 5
}
