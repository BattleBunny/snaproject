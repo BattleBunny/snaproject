{
 "cells": [
  {
   "cell_type": "code",
   "execution_count": 53,
   "id": "comprehensive-baseline",
   "metadata": {
    "execution": {
     "iopub.execute_input": "2021-03-06T08:27:41.574077Z",
     "iopub.status.busy": "2021-03-06T08:27:41.573819Z",
     "iopub.status.idle": "2021-03-06T08:27:41.579771Z",
     "shell.execute_reply": "2021-03-06T08:27:41.579116Z",
     "shell.execute_reply.started": "2021-03-06T08:27:41.574026Z"
    }
   },
   "outputs": [
    {
     "name": "stdout",
     "output_type": "stream",
     "text": [
      "/scratch/bruingjde/SNAM2021-code\n"
     ]
    }
   ],
   "source": [
    "%cd /scratch/bruingjde/SNAM2021-code/\n",
    "\n",
    "from constants import *"
   ]
  },
  {
   "cell_type": "markdown",
   "id": "written-visit",
   "metadata": {},
   "source": [
    "# Node temporal features"
   ]
  },
  {
   "cell_type": "code",
   "execution_count": 54,
   "id": "handy-variable",
   "metadata": {
    "execution": {
     "iopub.execute_input": "2021-03-06T08:27:42.274846Z",
     "iopub.status.busy": "2021-03-06T08:27:42.274638Z",
     "iopub.status.idle": "2021-03-06T08:27:42.284546Z",
     "shell.execute_reply": "2021-03-06T08:27:42.284041Z",
     "shell.execute_reply.started": "2021-03-06T08:27:42.274821Z"
    }
   },
   "outputs": [],
   "source": [
    "def logistic_regression(X, y):\n",
    "  X_train, X_test, y_train, y_test = (\n",
    "    sklearn.model_selection.train_test_split(X, y))\n",
    "  pipe = sklearn.pipeline.make_pipeline(\n",
    "    sklearn.preprocessing.StandardScaler(),\n",
    "    sklearn.linear_model.LogisticRegression(max_iter=10000, n_jobs=-1))\n",
    "  pipe.fit(X_train, y_train)\n",
    "  \n",
    "  auc = sklearn.metrics.roc_auc_score(\n",
    "    y_true=y_test, y_score=pipe.predict_proba(X_test)[:,1])\n",
    "  \n",
    "  return auc\n",
    "\n",
    "class FeatureSet(typing.NamedTuple):\n",
    "  time: str\n",
    "  nodepair: str\n",
    "  network: int\n",
    "    \n",
    "def get_features(network_index: int,\n",
    "                 time_strategy_label: typing.Optional[str],\n",
    "                 nodepair_strategy_label: typing.Optional[str],\n",
    "                 hypergraph: bool) -> np.ndarray:\n",
    "  \"\"\"Get all features for the provided network_index, \n",
    "  time_strategy_label and nodepair_strategy_label. When one of the later\n",
    "  two is None, provide all available strategies.\n",
    "  \"\"\"\n",
    "  aggregation_strategies = [\n",
    "    'm0', 'm1', 'q0', 'q25', 'q50', 'q75', 'q100'] # Overwrite global variable!\n",
    "  features = [\n",
    "    np.load(f'data/{network_index:02}/features/time_agnostic/{heuristic}.npy') \n",
    "    for heuristic in heuristics\n",
    "  ]\n",
    "  \n",
    "  if time_strategy_label is None:\n",
    "    time_strategy_labels = list(time_strategies) # RHS is global variable\n",
    "  else:\n",
    "    time_strategy_labels = [time_strategy_label]\n",
    "  \n",
    "  if nodepair_strategy_label is None:\n",
    "    nodepair_strategy_labels = list(nodepair_strategies) # RHS is global variable\n",
    "  else:\n",
    "    nodepair_strategy_labels = [nodepair_strategy_label]\n",
    "    \n",
    "  for t_strategy_label in time_strategy_labels:\n",
    "    for np_strategy_label in nodepair_strategy_labels:\n",
    "      if hypergraph:\n",
    "        for agg_strategy_label in aggregation_strategies:\n",
    "          features.append(\n",
    "            np.load(\n",
    "              f'data/{network_index:02}/features/time_node/'\n",
    "              f'{t_strategy_label}_{np_strategy_label}_{agg_strategy_label}.npy'\n",
    "            )\n",
    "          )\n",
    "      else:\n",
    "        features.append(\n",
    "          np.load(f'data/{network_index:02}/features/time_node/'\n",
    "                  f'{t_strategy_label}_{np_strategy_label}.npy')\n",
    "        )\n",
    "  return np.stack(features, axis=1)\n",
    "  \n",
    "def get_all_features(\n",
    ") -> dict[FeatureSet, typing.Union[np.ndarray, pd.DataFrame]]:\n",
    "  feature_sets = dict()\n",
    "  for network_index in network_indices:\n",
    "    for t_label in list(time_strategies) + [None]:\n",
    "      for np_label in list(nodepair_strategies) + [None]:\n",
    "        feature_sets[\n",
    "          FeatureSet(\n",
    "            network=network_index, \n",
    "            time='combined' if t_label is None else t_label,\n",
    "            nodepair='combined' if np_label is None else np_label)\n",
    "        ] = get_features(network_index, t_label, np_label, \n",
    "                         hypergraph=network_index in hypergraph_indices)\n",
    "  return feature_sets"
   ]
  },
  {
   "cell_type": "code",
   "execution_count": 55,
   "id": "tribal-lender",
   "metadata": {
    "execution": {
     "iopub.execute_input": "2021-03-06T08:27:42.801545Z",
     "iopub.status.busy": "2021-03-06T08:27:42.801298Z",
     "iopub.status.idle": "2021-03-06T08:27:44.964622Z",
     "shell.execute_reply": "2021-03-06T08:27:44.963980Z",
     "shell.execute_reply.started": "2021-03-06T08:27:42.801515Z"
    }
   },
   "outputs": [],
   "source": [
    "featuresets = get_all_features()"
   ]
  },
  {
   "cell_type": "code",
   "execution_count": 56,
   "id": "oriental-manor",
   "metadata": {
    "execution": {
     "iopub.execute_input": "2021-03-06T08:27:44.965544Z",
     "iopub.status.busy": "2021-03-06T08:27:44.965429Z",
     "iopub.status.idle": "2021-03-06T08:32:33.196092Z",
     "shell.execute_reply": "2021-03-06T08:32:33.194271Z",
     "shell.execute_reply.started": "2021-03-06T08:27:44.965529Z"
    }
   },
   "outputs": [
    {
     "data": {
      "application/vnd.jupyter.widget-view+json": {
       "model_id": "f20898ae3f21434abe28a4fe11ae89f0",
       "version_major": 2,
       "version_minor": 0
      },
      "text/plain": [
       "  0%|          | 0/520 [00:00<?, ?it/s]"
      ]
     },
     "metadata": {},
     "output_type": "display_data"
    }
   ],
   "source": [
    "auc_featuresets = [\n",
    "  {\n",
    "    'auc': logistic_regression(\n",
    "      X=featureset, \n",
    "      y=np.load(f'data/{featureset_id.network:02}/targets_sampled.npy')),\n",
    "    **featureset_id._asdict()\n",
    "  }\n",
    "  for featureset_id, featureset in tqdm(featuresets.items())\n",
    "]"
   ]
  },
  {
   "cell_type": "code",
   "execution_count": 57,
   "id": "stable-partition",
   "metadata": {
    "execution": {
     "iopub.execute_input": "2021-03-06T08:32:33.199450Z",
     "iopub.status.busy": "2021-03-06T08:32:33.199150Z",
     "iopub.status.idle": "2021-03-06T08:32:33.259501Z",
     "shell.execute_reply": "2021-03-06T08:32:33.258742Z",
     "shell.execute_reply.started": "2021-03-06T08:32:33.199434Z"
    }
   },
   "outputs": [
    {
     "data": {
      "text/html": [
       "<div>\n",
       "<style scoped>\n",
       "    .dataframe tbody tr th:only-of-type {\n",
       "        vertical-align: middle;\n",
       "    }\n",
       "\n",
       "    .dataframe tbody tr th {\n",
       "        vertical-align: top;\n",
       "    }\n",
       "\n",
       "    .dataframe thead th {\n",
       "        text-align: right;\n",
       "    }\n",
       "</style>\n",
       "<table border=\"1\" class=\"dataframe\">\n",
       "  <thead>\n",
       "    <tr style=\"text-align: right;\">\n",
       "      <th></th>\n",
       "      <th>auc</th>\n",
       "      <th>time</th>\n",
       "      <th>nodepair</th>\n",
       "      <th>network</th>\n",
       "    </tr>\n",
       "  </thead>\n",
       "  <tbody>\n",
       "    <tr>\n",
       "      <th>0</th>\n",
       "      <td>0.794680</td>\n",
       "      <td>lin</td>\n",
       "      <td>sum</td>\n",
       "      <td>1</td>\n",
       "    </tr>\n",
       "    <tr>\n",
       "      <th>1</th>\n",
       "      <td>0.700334</td>\n",
       "      <td>lin</td>\n",
       "      <td>diff</td>\n",
       "      <td>1</td>\n",
       "    </tr>\n",
       "    <tr>\n",
       "      <th>2</th>\n",
       "      <td>0.752408</td>\n",
       "      <td>lin</td>\n",
       "      <td>max</td>\n",
       "      <td>1</td>\n",
       "    </tr>\n",
       "    <tr>\n",
       "      <th>3</th>\n",
       "      <td>0.797260</td>\n",
       "      <td>lin</td>\n",
       "      <td>min</td>\n",
       "      <td>1</td>\n",
       "    </tr>\n",
       "    <tr>\n",
       "      <th>4</th>\n",
       "      <td>0.791877</td>\n",
       "      <td>lin</td>\n",
       "      <td>combined</td>\n",
       "      <td>1</td>\n",
       "    </tr>\n",
       "    <tr>\n",
       "      <th>...</th>\n",
       "      <td>...</td>\n",
       "      <td>...</td>\n",
       "      <td>...</td>\n",
       "      <td>...</td>\n",
       "    </tr>\n",
       "    <tr>\n",
       "      <th>515</th>\n",
       "      <td>0.838841</td>\n",
       "      <td>combined</td>\n",
       "      <td>sum</td>\n",
       "      <td>30</td>\n",
       "    </tr>\n",
       "    <tr>\n",
       "      <th>516</th>\n",
       "      <td>0.831199</td>\n",
       "      <td>combined</td>\n",
       "      <td>diff</td>\n",
       "      <td>30</td>\n",
       "    </tr>\n",
       "    <tr>\n",
       "      <th>517</th>\n",
       "      <td>0.834577</td>\n",
       "      <td>combined</td>\n",
       "      <td>max</td>\n",
       "      <td>30</td>\n",
       "    </tr>\n",
       "    <tr>\n",
       "      <th>518</th>\n",
       "      <td>0.839944</td>\n",
       "      <td>combined</td>\n",
       "      <td>min</td>\n",
       "      <td>30</td>\n",
       "    </tr>\n",
       "    <tr>\n",
       "      <th>519</th>\n",
       "      <td>0.846235</td>\n",
       "      <td>combined</td>\n",
       "      <td>combined</td>\n",
       "      <td>30</td>\n",
       "    </tr>\n",
       "  </tbody>\n",
       "</table>\n",
       "<p>520 rows × 4 columns</p>\n",
       "</div>"
      ],
      "text/plain": [
       "          auc      time  nodepair  network\n",
       "0    0.794680       lin       sum        1\n",
       "1    0.700334       lin      diff        1\n",
       "2    0.752408       lin       max        1\n",
       "3    0.797260       lin       min        1\n",
       "4    0.791877       lin  combined        1\n",
       "..        ...       ...       ...      ...\n",
       "515  0.838841  combined       sum       30\n",
       "516  0.831199  combined      diff       30\n",
       "517  0.834577  combined       max       30\n",
       "518  0.839944  combined       min       30\n",
       "519  0.846235  combined  combined       30\n",
       "\n",
       "[520 rows x 4 columns]"
      ]
     },
     "execution_count": 57,
     "metadata": {},
     "output_type": "execute_result"
    }
   ],
   "source": [
    "df = pd.DataFrame(auc_featuresets)\n",
    "df"
   ]
  },
  {
   "cell_type": "code",
   "execution_count": 62,
   "id": "sixth-refrigerator",
   "metadata": {
    "execution": {
     "iopub.execute_input": "2021-03-06T08:44:49.487526Z",
     "iopub.status.busy": "2021-03-06T08:44:49.487339Z",
     "iopub.status.idle": "2021-03-06T08:44:49.498078Z",
     "shell.execute_reply": "2021-03-06T08:44:49.497411Z",
     "shell.execute_reply.started": "2021-03-06T08:44:49.487508Z"
    }
   },
   "outputs": [
    {
     "data": {
      "text/html": [
       "<div>\n",
       "<style scoped>\n",
       "    .dataframe tbody tr th:only-of-type {\n",
       "        vertical-align: middle;\n",
       "    }\n",
       "\n",
       "    .dataframe tbody tr th {\n",
       "        vertical-align: top;\n",
       "    }\n",
       "\n",
       "    .dataframe thead th {\n",
       "        text-align: right;\n",
       "    }\n",
       "</style>\n",
       "<table border=\"1\" class=\"dataframe\">\n",
       "  <thead>\n",
       "    <tr style=\"text-align: right;\">\n",
       "      <th>nodepair</th>\n",
       "      <th>min</th>\n",
       "      <th>max</th>\n",
       "      <th>diff</th>\n",
       "      <th>sum</th>\n",
       "      <th>combined</th>\n",
       "    </tr>\n",
       "    <tr>\n",
       "      <th>time</th>\n",
       "      <th></th>\n",
       "      <th></th>\n",
       "      <th></th>\n",
       "      <th></th>\n",
       "      <th></th>\n",
       "    </tr>\n",
       "  </thead>\n",
       "  <tbody>\n",
       "    <tr>\n",
       "      <th>lin</th>\n",
       "      <td>0.863109</td>\n",
       "      <td>0.859215</td>\n",
       "      <td>0.829742</td>\n",
       "      <td>0.869337</td>\n",
       "      <td>0.872672</td>\n",
       "    </tr>\n",
       "    <tr>\n",
       "      <th>sqrt</th>\n",
       "      <td>0.863207</td>\n",
       "      <td>0.858732</td>\n",
       "      <td>0.830204</td>\n",
       "      <td>0.867815</td>\n",
       "      <td>0.875233</td>\n",
       "    </tr>\n",
       "    <tr>\n",
       "      <th>exp</th>\n",
       "      <td>0.863838</td>\n",
       "      <td>0.859883</td>\n",
       "      <td>0.831540</td>\n",
       "      <td>0.868757</td>\n",
       "      <td>0.875288</td>\n",
       "    </tr>\n",
       "    <tr>\n",
       "      <th>combined</th>\n",
       "      <td>0.866478</td>\n",
       "      <td>0.862998</td>\n",
       "      <td>0.835628</td>\n",
       "      <td>0.874534</td>\n",
       "      <td>0.880043</td>\n",
       "    </tr>\n",
       "  </tbody>\n",
       "</table>\n",
       "</div>"
      ],
      "text/plain": [
       "nodepair       min       max      diff       sum  combined\n",
       "time                                                      \n",
       "lin       0.863109  0.859215  0.829742  0.869337  0.872672\n",
       "sqrt      0.863207  0.858732  0.830204  0.867815  0.875233\n",
       "exp       0.863838  0.859883  0.831540  0.868757  0.875288\n",
       "combined  0.866478  0.862998  0.835628  0.874534  0.880043"
      ]
     },
     "execution_count": 62,
     "metadata": {},
     "output_type": "execute_result"
    }
   ],
   "source": [
    "auc_table = (\n",
    "  df\n",
    "  .groupby(['time', 'nodepair'])['auc']\n",
    "  .mean()\n",
    "  .unstack()\n",
    "  .loc[['lin', 'sqrt', 'exp', 'combined'], \n",
    "       ['min', 'max', 'diff', 'sum', 'combined']]\n",
    ")\n",
    "auc_table"
   ]
  },
  {
   "cell_type": "code",
   "execution_count": 63,
   "id": "single-officer",
   "metadata": {
    "execution": {
     "iopub.execute_input": "2021-03-06T08:45:06.110744Z",
     "iopub.status.busy": "2021-03-06T08:45:06.110498Z",
     "iopub.status.idle": "2021-03-06T08:45:06.366922Z",
     "shell.execute_reply": "2021-03-06T08:45:06.366100Z",
     "shell.execute_reply.started": "2021-03-06T08:45:06.110719Z"
    }
   },
   "outputs": [
    {
     "data": {
      "image/png": "[encoded data removed]",
      "text/plain": [
       "<Figure size 432x288 with 2 Axes>"
      ]
     },
     "metadata": {
      "needs_background": "light"
     },
     "output_type": "display_data"
    }
   ],
   "source": [
    "g = sns.heatmap(auc_table, annot=True, vmin=.5, vmax=1, fmt='.3f',\n",
    "                cbar_kws=dict(label='AUC'))\n",
    "g.set_yticklabels(g.get_yticklabels(), rotation = 0);\n",
    "g.set_ylabel(g.get_ylabel(), rotation=0)\n",
    "plt.tight_layout()\n",
    "plt.savefig('figures/table-nodepair-strategies.pdf')"
   ]
  },
  {
   "cell_type": "code",
   "execution_count": null,
   "id": "egyptian-panama",
   "metadata": {},
   "outputs": [],
   "source": []
  }
 ],
 "metadata": {
  "kernelspec": {
   "display_name": "Python 3",
   "language": "python",
   "name": "python3"
  },
  "language_info": {
   "codemirror_mode": {
    "name": "ipython",
    "version": 3
   },
   "file_extension": ".py",
   "mimetype": "text/x-python",
   "name": "python",
   "nbconvert_exporter": "python",
   "pygments_lexer": "ipython3",
   "version": "3.9.2"
  }
 },
 "nbformat": 4,
 "nbformat_minor": 5
}
