{
 "cells": [
  {
   "cell_type": "code",
   "execution_count": 1,
   "id": "coated-february",
   "metadata": {
    "execution": {
     "iopub.execute_input": "2021-03-12T11:19:22.710783Z",
     "iopub.status.busy": "2021-03-12T11:19:22.710531Z",
     "iopub.status.idle": "2021-03-12T11:19:23.673579Z",
     "shell.execute_reply": "2021-03-12T11:19:23.672879Z",
     "shell.execute_reply.started": "2021-03-12T11:19:22.710719Z"
    },
    "tags": []
   },
   "outputs": [
    {
     "name": "stdout",
     "output_type": "stream",
     "text": [
      "/scratch/bruingjde/SNAM2021-code\n"
     ]
    }
   ],
   "source": [
    "%cd /scratch/bruingjde/SNAM2021-code/\n",
    "\n",
    "from constants import *"
   ]
  },
  {
   "cell_type": "code",
   "execution_count": 2,
   "id": "turned-reservoir",
   "metadata": {
    "execution": {
     "iopub.execute_input": "2021-03-12T11:19:23.674629Z",
     "iopub.status.busy": "2021-03-12T11:19:23.674486Z",
     "iopub.status.idle": "2021-03-12T11:19:23.682546Z",
     "shell.execute_reply": "2021-03-12T11:19:23.681948Z",
     "shell.execute_reply.started": "2021-03-12T11:19:23.674611Z"
    },
    "tags": []
   },
   "outputs": [],
   "source": [
    "df = networks.copy()\n",
    "df['index'] = df.index\n",
    "df['type'] = (\n",
    "  df['index'].isin(hypergraph_indices).replace({True: 'E', False: 'P'}))\n",
    "df['source'] = df['source'].apply(lambda x: f'\\cite{{{x}}}')\n",
    "df['cat'] = df['category'].replace(\n",
    "  {'social': 'S', 'information': 'I', 'technological': 'T'})\n",
    "df.drop(columns=['old_category', 'category'], inplace=True)"
   ]
  },
  {
   "cell_type": "code",
   "execution_count": 3,
   "id": "quantitative-seattle",
   "metadata": {
    "execution": {
     "iopub.execute_input": "2021-03-12T11:19:23.683489Z",
     "iopub.status.busy": "2021-03-12T11:19:23.683356Z",
     "iopub.status.idle": "2021-03-12T11:21:51.658936Z",
     "shell.execute_reply": "2021-03-12T11:21:51.658079Z",
     "shell.execute_reply.started": "2021-03-12T11:19:23.683472Z"
    },
    "tags": []
   },
   "outputs": [
    {
     "data": {
      "application/vnd.jupyter.widget-view+json": {
       "model_id": "",
       "version_major": 2,
       "version_minor": 0
      },
      "text/plain": [
       "  0%|          | 0/26 [00:00<?, ?it/s]"
      ]
     },
     "metadata": {},
     "output_type": "display_data"
    }
   ],
   "source": [
    "def get_size(network: int):\n",
    "  edgelist = pd.read_pickle(f'data/{network:02}/edgelist.pkl')\n",
    "  graph = nx.from_pandas_edgelist(edgelist, create_using=nx.MultiGraph)\n",
    "    \n",
    "  return pd.Series(\n",
    "    dict(nodes=graph.number_of_nodes(), edges=graph.number_of_edges()),\n",
    "    name=network\n",
    "  )\n",
    "\n",
    "size = tlp.ProgressParallel(n_jobs=network_count, total=network_count)(\n",
    "  joblib.delayed(get_size)(network) for network in network_indices\n",
    ")\n",
    "size = pd.DataFrame(size) \n",
    "size.rename(dict(nodes='n', edges='m'), inplace=True)"
   ]
  },
  {
   "cell_type": "code",
   "execution_count": 22,
   "id": "under-pharmacology",
   "metadata": {
    "execution": {
     "iopub.execute_input": "2021-03-12T11:24:37.775340Z",
     "iopub.status.busy": "2021-03-12T11:24:37.774947Z",
     "iopub.status.idle": "2021-03-12T11:24:38.323709Z",
     "shell.execute_reply": "2021-03-12T11:24:38.322628Z",
     "shell.execute_reply.started": "2021-03-12T11:24:37.775303Z"
    },
    "tags": []
   },
   "outputs": [
    {
     "data": {
      "application/vnd.jupyter.widget-view+json": {
       "model_id": "97f34100ddcc45b1a6a57681d8abfcfa",
       "version_major": 2,
       "version_minor": 0
      },
      "text/plain": [
       "  0%|          | 0/26 [00:00<?, ?it/s]"
      ]
     },
     "metadata": {},
     "output_type": "display_data"
    }
   ],
   "source": [
    "stats = dict()\n",
    "for network in tqdm(network_indices):\n",
    "  with open(f'data/{network:02}/stats.json') as file:\n",
    "    stats[network] = json.load(file)\n",
    "stats = pd.DataFrame.from_dict(stats, orient='index')\n",
    "stats.rename(columns={'density (nx.Graph)': 'density', 'degree assortativity (nx.Graph)': 'degree assortativity'}, inplace=True)\n",
    "\n",
    "columns = ['density', 'degree assortativity', \n",
    "           'average clustering coefficient']\n",
    "\n",
    "stats = stats[columns].copy()\n",
    "\n",
    "# stats.drop(columns=['nodes', 'edges', 'density (nx.MultiGraph)', 'fraction edges in GC'], inplace=True)"
   ]
  },
  {
   "cell_type": "code",
   "execution_count": 6,
   "id": "passive-disposition",
   "metadata": {
    "execution": {
     "iopub.execute_input": "2021-03-12T11:21:51.764481Z",
     "iopub.status.busy": "2021-03-12T11:21:51.764318Z",
     "iopub.status.idle": "2021-03-12T11:21:51.824502Z",
     "shell.execute_reply": "2021-03-12T11:21:51.824121Z",
     "shell.execute_reply.started": "2021-03-12T11:21:51.764459Z"
    },
    "tags": []
   },
   "outputs": [
    {
     "data": {
      "application/vnd.jupyter.widget-view+json": {
       "model_id": "3c5a9af8e66f4ed087a552a33ef0c73c",
       "version_major": 2,
       "version_minor": 0
      },
      "text/plain": [
       "  0%|          | 0/26 [00:00<?, ?it/s]"
      ]
     },
     "metadata": {},
     "output_type": "display_data"
    }
   ],
   "source": [
    "diameter = pd.Series(get_diameter(), name='diameter')"
   ]
  },
  {
   "cell_type": "code",
   "execution_count": 37,
   "id": "legal-relief",
   "metadata": {
    "execution": {
     "iopub.execute_input": "2021-03-12T11:27:27.178845Z",
     "iopub.status.busy": "2021-03-12T11:27:27.178637Z",
     "iopub.status.idle": "2021-03-12T11:27:27.183228Z",
     "shell.execute_reply": "2021-03-12T11:27:27.182885Z",
     "shell.execute_reply.started": "2021-03-12T11:27:27.178824Z"
    },
    "tags": []
   },
   "outputs": [],
   "source": []
  },
  {
   "cell_type": "code",
   "execution_count": 8,
   "id": "local-breath",
   "metadata": {
    "execution": {
     "iopub.execute_input": "2021-03-12T11:21:51.867258Z",
     "iopub.status.busy": "2021-03-12T11:21:51.866961Z",
     "iopub.status.idle": "2021-03-12T11:21:51.923183Z",
     "shell.execute_reply": "2021-03-12T11:21:51.921872Z",
     "shell.execute_reply.started": "2021-03-12T11:21:51.867224Z"
    },
    "tags": []
   },
   "outputs": [],
   "source": [
    "def convert_int_to_short(x: int):\n",
    "  if x > 2000000: return f'{x/1000000:.0f}M'\n",
    "  elif x > 1000000: return f'{x/1000000:.1f}M'\n",
    "  elif x > 2000: return f'{x/1000:.0f}K'\n",
    "  elif x > 1000: return f'{x/1000:.1f}K'\n",
    "  else: return str(x)\n",
    "  \n",
    "def scientific_notation(x): \n",
    "  x = f'{x:.0e}'\n",
    "  coefficient = x[0]\n",
    "  exponent = x[-1]\n",
    "  return f'${coefficient} \\times 10^{exponent}$'"
   ]
  },
  {
   "cell_type": "code",
   "execution_count": 61,
   "id": "initial-support",
   "metadata": {
    "execution": {
     "iopub.execute_input": "2021-03-12T11:31:10.408926Z",
     "iopub.status.busy": "2021-03-12T11:31:10.408647Z",
     "iopub.status.idle": "2021-03-12T11:31:10.428716Z",
     "shell.execute_reply": "2021-03-12T11:31:10.428064Z",
     "shell.execute_reply.started": "2021-03-12T11:31:10.408894Z"
    },
    "tags": []
   },
   "outputs": [],
   "source": [
    "result = pd.concat([df, stats, size, diameter], axis=1)\n",
    "result.dropna(inplace=True)\n",
    "result = result.astype(dict(diameter=int))\n",
    "result.reset_index(inplace=True, drop=True)\n",
    "result.index = result.index + 1\n",
    "result['nodes'] = result['nodes'].apply(convert_int_to_short)\n",
    "result['edges'] = result['edges'].apply(convert_int_to_short)\n",
    "result['density'] = result['density'].apply(scientific_notation)\n",
    "result['degree assortativity'] = result['degree assortativity'].round(2)\n",
    "result['average clustering coefficient'] = (\n",
    "  result['average clustering coefficient'].round(2))"
   ]
  },
  {
   "cell_type": "code",
   "execution_count": 62,
   "id": "lesbian-remedy",
   "metadata": {
    "execution": {
     "iopub.execute_input": "2021-03-12T11:31:10.625978Z",
     "iopub.status.busy": "2021-03-12T11:31:10.625704Z",
     "iopub.status.idle": "2021-03-12T11:31:10.630038Z",
     "shell.execute_reply": "2021-03-12T11:31:10.629300Z",
     "shell.execute_reply.started": "2021-03-12T11:31:10.625947Z"
    },
    "tags": []
   },
   "outputs": [],
   "source": [
    "columns = [\n",
    "  'label', 'cat', 'type', 'nodes', 'edges', 'density', \n",
    "  'degree assortativity', 'average clustering coefficient', 'diameter', \n",
    "  'source']"
   ]
  },
  {
   "cell_type": "code",
   "execution_count": 66,
   "id": "aggregate-calvin",
   "metadata": {
    "execution": {
     "iopub.execute_input": "2021-03-12T11:32:04.690464Z",
     "iopub.status.busy": "2021-03-12T11:32:04.690127Z",
     "iopub.status.idle": "2021-03-12T11:32:04.732770Z",
     "shell.execute_reply": "2021-03-12T11:32:04.732147Z",
     "shell.execute_reply.started": "2021-03-12T11:32:04.690428Z"
    },
    "tags": []
   },
   "outputs": [
    {
     "name": "stdout",
     "output_type": "stream",
     "text": [
      "\\begin{table}\n",
      "\\centering\n",
      "\\caption{Networks used in this work. The following abbreviations are used in the columns; cat: category, da: degree assortativity, acc: average clustering coefficient. In the column type, E marks a discrete interaction network, P indicates a network with persistent interactions.The K and M indicates thousands and millions, respectively. }\n",
      "\\label{table:datasets}\n",
      "\\begin{tabular}{llllllrrrl}\n",
      "\\toprule\n",
      "label & cat & type & nodes & edges &         density &    da &  acc &  diameter &                          \\\\\n",
      "\\midrule\n",
      " DBLP &   S &    E &  1.8M &   29M & $5 \\times 10^6$ &  0.11 & 0.63 &        23 &           \\cite{Ley2002} \\\\\n",
      "HepPh &   I &    E &   17K &    2M & $8 \\times 10^3$ &  0.06 & 0.61 &         8 &      \\cite{Leskovec2007} \\\\\n",
      "Enron &   S &    E &   87K &  1.1M & $8 \\times 10^5$ & -0.17 & 0.12 &        14 &         \\cite{Klimt2004} \\\\\n",
      " FB-w &   S &    P &   55K &  336K & $2 \\times 10^4$ &  0.22 & 0.12 &        16 &     \\cite{Viswanath2009} \\\\\n",
      "Condm &   S &    E &   17K &   88K & $4 \\times 10^4$ &  0.18 & 0.64 &        19 & \\cite{Lichtenwalter2010} \\\\\n",
      "HepTh &   I &    E &    7K &  291K & $9 \\times 10^3$ &  0.01 & 0.77 &        11 &      \\cite{Leskovec2007} \\\\\n",
      " AMin &   S &    E &  855K &   24M & $9 \\times 10^6$ &  0.16 & 0.61 &        22 &        \\cite{Zhuang2013} \\\\\n",
      " FB-l &   S &    P &   55K &  336K & $2 \\times 10^4$ &  0.22 & 0.12 &        16 &     \\cite{Viswanath2009} \\\\\n",
      "D-rep &   S &    P &   30K &   88K & $2 \\times 10^4$ &  0.01 & 0.01 &        12 &   \\cite{DeChoudhury2009} \\\\\n",
      "  D-f &   S &    P &  279K &  1.7M & $4 \\times 10^5$ & -0.06 & 0.09 &        18 &          \\cite{Hogg2010} \\\\\n",
      "  D-v &   I &    P &  139K &    3M & $3 \\times 10^4$ & -0.23 & 0.14 &         4 &          \\cite{Hogg2010} \\\\\n",
      " Rado &   S &    E &   167 &   83K & $2 \\times 10^1$ & -0.29 & 0.59 &         5 &     \\cite{Michalski2011} \\\\\n",
      "   UC &   I &    E &   899 &   34K & $2 \\times 10^2$ & -0.09 & 0.07 &         6 &        \\cite{Opsahl2013} \\\\\n",
      "SX-MO &   S &    E &   25K &  507K & $6 \\times 10^4$ & -0.20 & 0.31 &         9 &     \\cite{Paranjape2017} \\\\\n",
      "trust &   S &    P &  114K &  718K & $9 \\times 10^5$ & -0.05 & 0.13 &        14 &    \\cite{Richardson2003} \\\\\n",
      " bitA &   S &    P &    4K &   23K & $2 \\times 10^3$ & -0.15 & 0.17 &        10 &         \\cite{Kumar2017} \\\\\n",
      "  Dem &   S &    E &  1.9K &   39K & $2 \\times 10^3$ & -0.30 & 0.21 &         8 &         \\cite{Wikileaks} \\\\\n",
      "bitOT &   S &    P &    6K &   32K & $1 \\times 10^3$ & -0.14 & 0.16 &        14 &         \\cite{Kumar2017} \\\\\n",
      "chess &   I &    P &    6K &   21K & $1 \\times 10^3$ &  0.34 & 0.05 &        13 &            \\cite{konect} \\\\\n",
      "SX-AU &   S &    E &  159K &  964K & $4 \\times 10^5$ & -0.14 & 0.11 &        13 &     \\cite{Paranjape2017} \\\\\n",
      "SX-SU &   S &    E &  194K &  1.4M & $4 \\times 10^5$ & -0.09 & 0.12 &        12 &     \\cite{Paranjape2017} \\\\\n",
      "loans &   I &    P &   89K &    3M & $8 \\times 10^4$ & -0.08 & 0.00 &         8 &       \\cite{Redmond2013} \\\\\n",
      " Wiki &   S &    E &  117K &    3M & $3 \\times 10^4$ & -0.06 & 0.36 &        10 &       \\cite{Brandes2009} \\\\\n",
      "Rbody &   T &    E &   35K &  265K & $2 \\times 10^4$ & -0.09 & 0.18 &        11 &         \\cite{Kumar2018} \\\\\n",
      " Rtit &   T &    E &   53K &  511K & $1 \\times 10^4$ & -0.14 & 0.18 &        17 &         \\cite{Kumar2018} \\\\\n",
      "   EU &   S &    E &   986 &  332K & $3 \\times 10^2$ & -0.03 & 0.41 &         7 &           \\cite{Yin2017} \\\\\n",
      "\\bottomrule\n",
      "\\end{tabular}\n",
      "\\end{table}\n",
      "\n"
     ]
    }
   ],
   "source": [
    "print(\n",
    "  result[columns].rename(columns={'source': ' ', 'degree assortativity': 'da', \n",
    "                                  'average clustering coefficient': 'acc'}\n",
    "                        ).to_latex(\n",
    "    index=False,\n",
    "    caption=(\n",
    "      'Networks used in this work. '\n",
    "      'The following abbreviations are used in the columns; '\n",
    "      'cat: category, '\n",
    "      'da: degree assortativity, acc: average clustering coefficient. '\n",
    "      'In the column type, E marks a discrete interaction network, '\n",
    "      'P indicates a network with persistent interactions.'\n",
    "      'The K and M indicates thousands and millions, respectively. '),\n",
    "    label='table:datasets',\n",
    "    escape=False,\n",
    "    multicolumn=False))"
   ]
  },
  {
   "cell_type": "code",
   "execution_count": null,
   "id": "pressed-confirmation",
   "metadata": {},
   "outputs": [],
   "source": []
  }
 ],
 "metadata": {
  "kernelspec": {
   "display_name": "Python 3",
   "language": "python",
   "name": "python3"
  },
  "language_info": {
   "codemirror_mode": {
    "name": "ipython",
    "version": 3
   },
   "file_extension": ".py",
   "mimetype": "text/x-python",
   "name": "python",
   "nbconvert_exporter": "python",
   "pygments_lexer": "ipython3",
   "version": "3.9.2"
  }
 },
 "nbformat": 4,
 "nbformat_minor": 5
}
