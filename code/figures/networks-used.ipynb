{
 "cells": [
  {
   "cell_type": "code",
   "execution_count": 67,
   "id": "accessible-customer",
   "metadata": {
    "execution": {
     "iopub.execute_input": "2021-03-12T20:12:52.385300Z",
     "iopub.status.busy": "2021-03-12T20:12:52.384974Z",
     "iopub.status.idle": "2021-03-12T20:12:52.391528Z",
     "shell.execute_reply": "2021-03-12T20:12:52.390565Z",
     "shell.execute_reply.started": "2021-03-12T20:12:52.385267Z"
    },
    "tags": []
   },
   "outputs": [
    {
     "name": "stdout",
     "output_type": "stream",
     "text": [
      "/scratch/bruingjde/SNAM2021-code\n"
     ]
    }
   ],
   "source": [
    "%cd /scratch/bruingjde/SNAM2021-code/\n",
    "\n",
    "from constants import *"
   ]
  },
  {
   "cell_type": "code",
   "execution_count": 185,
   "id": "after-creativity",
   "metadata": {
    "execution": {
     "iopub.execute_input": "2021-03-13T09:45:44.035015Z",
     "iopub.status.busy": "2021-03-13T09:45:44.034699Z",
     "iopub.status.idle": "2021-03-13T09:45:44.047253Z",
     "shell.execute_reply": "2021-03-13T09:45:44.046500Z",
     "shell.execute_reply.started": "2021-03-13T09:45:44.034982Z"
    },
    "tags": []
   },
   "outputs": [],
   "source": [
    "df = networks.copy()\n",
    "df['index'] = df.index\n",
    "df['edge type'] = df['index'].isin(hypergraph_indices).replace(\n",
    "  {True: 'multi', False: 'simple'}\n",
    ")\n",
    "df['source'] = df['source'].apply(lambda x: f'\\cite{{{x}}}')\n",
    "df['cat'] = df['category'].replace(\n",
    "  {'social': 'Social', 'information': 'Inf.', 'technological': 'Tech.'})\n",
    "df.drop(columns=['old_category', 'category'], inplace=True)"
   ]
  },
  {
   "cell_type": "code",
   "execution_count": 186,
   "id": "cleared-coral",
   "metadata": {
    "execution": {
     "iopub.execute_input": "2021-03-13T09:45:44.514367Z",
     "iopub.status.busy": "2021-03-13T09:45:44.514054Z",
     "iopub.status.idle": "2021-03-13T09:48:05.034846Z",
     "shell.execute_reply": "2021-03-13T09:48:05.034013Z",
     "shell.execute_reply.started": "2021-03-13T09:45:44.514336Z"
    },
    "tags": []
   },
   "outputs": [
    {
     "data": {
      "application/vnd.jupyter.widget-view+json": {
       "model_id": "",
       "version_major": 2,
       "version_minor": 0
      },
      "text/plain": [
       "  0%|          | 0/26 [00:00<?, ?it/s]"
      ]
     },
     "metadata": {},
     "output_type": "display_data"
    }
   ],
   "source": [
    "def get_size(network: int):\n",
    "  edgelist = pd.read_pickle(f'data/{network:02}/edgelist.pkl')\n",
    "  graph = nx.from_pandas_edgelist(edgelist, create_using=nx.MultiGraph)\n",
    "    \n",
    "  return pd.Series(\n",
    "    dict(nodes=graph.number_of_nodes(), edges=graph.number_of_edges()),\n",
    "    name=network\n",
    "  )\n",
    "\n",
    "size = tlp.ProgressParallel(n_jobs=network_count, total=network_count)(\n",
    "  joblib.delayed(get_size)(network) for network in network_indices\n",
    ")\n",
    "size = pd.DataFrame(size) \n",
    "size.rename(dict(nodes='n', edges='m'), inplace=True)"
   ]
  },
  {
   "cell_type": "code",
   "execution_count": 187,
   "id": "dressed-warning",
   "metadata": {
    "execution": {
     "iopub.execute_input": "2021-03-13T09:48:05.036639Z",
     "iopub.status.busy": "2021-03-13T09:48:05.036416Z",
     "iopub.status.idle": "2021-03-13T09:48:05.081420Z",
     "shell.execute_reply": "2021-03-13T09:48:05.080692Z",
     "shell.execute_reply.started": "2021-03-13T09:48:05.036608Z"
    },
    "tags": []
   },
   "outputs": [
    {
     "data": {
      "application/vnd.jupyter.widget-view+json": {
       "model_id": "697bd3d6294a4e368d30668bc7039608",
       "version_major": 2,
       "version_minor": 0
      },
      "text/plain": [
       "  0%|          | 0/26 [00:00<?, ?it/s]"
      ]
     },
     "metadata": {},
     "output_type": "display_data"
    }
   ],
   "source": [
    "stats = dict()\n",
    "for network in tqdm(network_indices):\n",
    "  with open(f'data/{network:02}/stats.json') as file:\n",
    "    stats[network] = json.load(file)\n",
    "stats = pd.DataFrame.from_dict(stats, orient='index')\n",
    "stats.rename(columns={'density (nx.Graph)': 'density', 'degree assortativity (nx.Graph)': 'degree assortativity'}, inplace=True)\n",
    "\n",
    "columns = ['density', 'degree assortativity', \n",
    "           'average clustering coefficient']\n",
    "\n",
    "stats = stats[columns].copy()\n",
    "\n",
    "# stats.drop(columns=['nodes', 'edges', 'density (nx.MultiGraph)', 'fraction edges in GC'], inplace=True)"
   ]
  },
  {
   "cell_type": "code",
   "execution_count": 216,
   "id": "numerous-singing",
   "metadata": {
    "execution": {
     "iopub.execute_input": "2021-03-13T15:15:38.469793Z",
     "iopub.status.busy": "2021-03-13T15:15:38.468842Z",
     "iopub.status.idle": "2021-03-13T15:15:38.490793Z",
     "shell.execute_reply": "2021-03-13T15:15:38.489900Z",
     "shell.execute_reply.started": "2021-03-13T15:15:38.469735Z"
    },
    "tags": []
   },
   "outputs": [
    {
     "data": {
      "text/html": [
       "<div>\n",
       "<style scoped>\n",
       "    .dataframe tbody tr th:only-of-type {\n",
       "        vertical-align: middle;\n",
       "    }\n",
       "\n",
       "    .dataframe tbody tr th {\n",
       "        vertical-align: top;\n",
       "    }\n",
       "\n",
       "    .dataframe thead th {\n",
       "        text-align: right;\n",
       "    }\n",
       "</style>\n",
       "<table border=\"1\" class=\"dataframe\">\n",
       "  <thead>\n",
       "    <tr style=\"text-align: right;\">\n",
       "      <th></th>\n",
       "      <th>density</th>\n",
       "      <th>degree assortativity</th>\n",
       "      <th>average clustering coefficient</th>\n",
       "    </tr>\n",
       "  </thead>\n",
       "  <tbody>\n",
       "    <tr>\n",
       "      <th>24</th>\n",
       "      <td>0.000836</td>\n",
       "      <td>-0.078326</td>\n",
       "      <td>0.004867</td>\n",
       "    </tr>\n",
       "    <tr>\n",
       "      <th>9</th>\n",
       "      <td>0.000187</td>\n",
       "      <td>0.008341</td>\n",
       "      <td>0.005286</td>\n",
       "    </tr>\n",
       "    <tr>\n",
       "      <th>21</th>\n",
       "      <td>0.001101</td>\n",
       "      <td>0.335905</td>\n",
       "      <td>0.054398</td>\n",
       "    </tr>\n",
       "    <tr>\n",
       "      <th>13</th>\n",
       "      <td>0.017419</td>\n",
       "      <td>-0.092248</td>\n",
       "      <td>0.070458</td>\n",
       "    </tr>\n",
       "    <tr>\n",
       "      <th>10</th>\n",
       "      <td>0.000040</td>\n",
       "      <td>-0.055707</td>\n",
       "      <td>0.089571</td>\n",
       "    </tr>\n",
       "    <tr>\n",
       "      <th>22</th>\n",
       "      <td>0.000040</td>\n",
       "      <td>-0.143106</td>\n",
       "      <td>0.109331</td>\n",
       "    </tr>\n",
       "    <tr>\n",
       "      <th>23</th>\n",
       "      <td>0.000042</td>\n",
       "      <td>-0.087745</td>\n",
       "      <td>0.116163</td>\n",
       "    </tr>\n",
       "    <tr>\n",
       "      <th>3</th>\n",
       "      <td>0.000079</td>\n",
       "      <td>-0.166689</td>\n",
       "      <td>0.119342</td>\n",
       "    </tr>\n",
       "    <tr>\n",
       "      <th>8</th>\n",
       "      <td>0.000219</td>\n",
       "      <td>0.221522</td>\n",
       "      <td>0.123693</td>\n",
       "    </tr>\n",
       "    <tr>\n",
       "      <th>4</th>\n",
       "      <td>0.000219</td>\n",
       "      <td>0.221522</td>\n",
       "      <td>0.123693</td>\n",
       "    </tr>\n",
       "    <tr>\n",
       "      <th>16</th>\n",
       "      <td>0.000091</td>\n",
       "      <td>-0.051317</td>\n",
       "      <td>0.128461</td>\n",
       "    </tr>\n",
       "    <tr>\n",
       "      <th>11</th>\n",
       "      <td>0.000308</td>\n",
       "      <td>-0.227284</td>\n",
       "      <td>0.144015</td>\n",
       "    </tr>\n",
       "    <tr>\n",
       "      <th>20</th>\n",
       "      <td>0.001197</td>\n",
       "      <td>-0.144884</td>\n",
       "      <td>0.163569</td>\n",
       "    </tr>\n",
       "    <tr>\n",
       "      <th>18</th>\n",
       "      <td>0.001913</td>\n",
       "      <td>-0.153884</td>\n",
       "      <td>0.167077</td>\n",
       "    </tr>\n",
       "    <tr>\n",
       "      <th>28</th>\n",
       "      <td>0.000192</td>\n",
       "      <td>-0.087156</td>\n",
       "      <td>0.177422</td>\n",
       "    </tr>\n",
       "    <tr>\n",
       "      <th>29</th>\n",
       "      <td>0.000148</td>\n",
       "      <td>-0.137222</td>\n",
       "      <td>0.178697</td>\n",
       "    </tr>\n",
       "    <tr>\n",
       "      <th>19</th>\n",
       "      <td>0.002499</td>\n",
       "      <td>-0.301404</td>\n",
       "      <td>0.209099</td>\n",
       "    </tr>\n",
       "    <tr>\n",
       "      <th>14</th>\n",
       "      <td>0.000649</td>\n",
       "      <td>-0.197902</td>\n",
       "      <td>0.312096</td>\n",
       "    </tr>\n",
       "    <tr>\n",
       "      <th>25</th>\n",
       "      <td>0.000297</td>\n",
       "      <td>-0.064984</td>\n",
       "      <td>0.363506</td>\n",
       "    </tr>\n",
       "    <tr>\n",
       "      <th>30</th>\n",
       "      <td>0.033080</td>\n",
       "      <td>-0.025743</td>\n",
       "      <td>0.407050</td>\n",
       "    </tr>\n",
       "    <tr>\n",
       "      <th>12</th>\n",
       "      <td>0.234543</td>\n",
       "      <td>-0.294441</td>\n",
       "      <td>0.591863</td>\n",
       "    </tr>\n",
       "    <tr>\n",
       "      <th>7</th>\n",
       "      <td>0.000009</td>\n",
       "      <td>0.155727</td>\n",
       "      <td>0.606712</td>\n",
       "    </tr>\n",
       "    <tr>\n",
       "      <th>2</th>\n",
       "      <td>0.008307</td>\n",
       "      <td>0.059906</td>\n",
       "      <td>0.606845</td>\n",
       "    </tr>\n",
       "    <tr>\n",
       "      <th>1</th>\n",
       "      <td>0.000005</td>\n",
       "      <td>0.114186</td>\n",
       "      <td>0.632629</td>\n",
       "    </tr>\n",
       "    <tr>\n",
       "      <th>5</th>\n",
       "      <td>0.000373</td>\n",
       "      <td>0.177355</td>\n",
       "      <td>0.642282</td>\n",
       "    </tr>\n",
       "    <tr>\n",
       "      <th>6</th>\n",
       "      <td>0.009293</td>\n",
       "      <td>0.010808</td>\n",
       "      <td>0.770476</td>\n",
       "    </tr>\n",
       "  </tbody>\n",
       "</table>\n",
       "</div>"
      ],
      "text/plain": [
       "     density  degree assortativity  average clustering coefficient\n",
       "24  0.000836             -0.078326                        0.004867\n",
       "9   0.000187              0.008341                        0.005286\n",
       "21  0.001101              0.335905                        0.054398\n",
       "13  0.017419             -0.092248                        0.070458\n",
       "10  0.000040             -0.055707                        0.089571\n",
       "22  0.000040             -0.143106                        0.109331\n",
       "23  0.000042             -0.087745                        0.116163\n",
       "3   0.000079             -0.166689                        0.119342\n",
       "8   0.000219              0.221522                        0.123693\n",
       "4   0.000219              0.221522                        0.123693\n",
       "16  0.000091             -0.051317                        0.128461\n",
       "11  0.000308             -0.227284                        0.144015\n",
       "20  0.001197             -0.144884                        0.163569\n",
       "18  0.001913             -0.153884                        0.167077\n",
       "28  0.000192             -0.087156                        0.177422\n",
       "29  0.000148             -0.137222                        0.178697\n",
       "19  0.002499             -0.301404                        0.209099\n",
       "14  0.000649             -0.197902                        0.312096\n",
       "25  0.000297             -0.064984                        0.363506\n",
       "30  0.033080             -0.025743                        0.407050\n",
       "12  0.234543             -0.294441                        0.591863\n",
       "7   0.000009              0.155727                        0.606712\n",
       "2   0.008307              0.059906                        0.606845\n",
       "1   0.000005              0.114186                        0.632629\n",
       "5   0.000373              0.177355                        0.642282\n",
       "6   0.009293              0.010808                        0.770476"
      ]
     },
     "execution_count": 216,
     "metadata": {},
     "output_type": "execute_result"
    }
   ],
   "source": [
    "stats.sort_values('average clustering coefficient')"
   ]
  },
  {
   "cell_type": "code",
   "execution_count": 188,
   "id": "induced-composition",
   "metadata": {
    "execution": {
     "iopub.execute_input": "2021-03-13T09:48:05.083191Z",
     "iopub.status.busy": "2021-03-13T09:48:05.082953Z",
     "iopub.status.idle": "2021-03-13T09:48:05.171111Z",
     "shell.execute_reply": "2021-03-13T09:48:05.170455Z",
     "shell.execute_reply.started": "2021-03-13T09:48:05.083162Z"
    },
    "tags": []
   },
   "outputs": [
    {
     "data": {
      "application/vnd.jupyter.widget-view+json": {
       "model_id": "351f81ece5e3415d91b467722814b0b1",
       "version_major": 2,
       "version_minor": 0
      },
      "text/plain": [
       "  0%|          | 0/26 [00:00<?, ?it/s]"
      ]
     },
     "metadata": {},
     "output_type": "display_data"
    }
   ],
   "source": [
    "diameter = pd.Series(get_diameter(), name='diameter')"
   ]
  },
  {
   "cell_type": "code",
   "execution_count": 189,
   "id": "express-collect",
   "metadata": {
    "execution": {
     "iopub.execute_input": "2021-03-13T09:48:05.172580Z",
     "iopub.status.busy": "2021-03-13T09:48:05.172372Z",
     "iopub.status.idle": "2021-03-13T09:48:05.237661Z",
     "shell.execute_reply": "2021-03-13T09:48:05.236583Z",
     "shell.execute_reply.started": "2021-03-13T09:48:05.172552Z"
    },
    "tags": []
   },
   "outputs": [],
   "source": [
    "def convert_int_to_short(x: int):\n",
    "  if x > 2000000: return f'{x/1000000:.0f}M'\n",
    "  elif x > 1000000: return f'{x/1000000:.1f}M'\n",
    "  elif x > 2000: return f'{x/1000:.0f}K'\n",
    "  elif x > 1000: return f'{x/1000:.1f}K'\n",
    "  else: return str(x)\n",
    "  \n",
    "def scientific_notation(x): \n",
    "  x = f'{x:.0e}'\n",
    "  coefficient = x[0]\n",
    "  if '-' in x:\n",
    "    exponent = '-' + x[-1]\n",
    "  else:\n",
    "    exponent = x[1]\n",
    "  return f'${coefficient}\\!\\cdot\\!10^{{{exponent}}}$'\n",
    "\n",
    "def thousand_sep(x):\n",
    "  return f'{x:,}'"
   ]
  },
  {
   "cell_type": "code",
   "execution_count": 190,
   "id": "intended-venice",
   "metadata": {
    "execution": {
     "iopub.execute_input": "2021-03-13T09:48:05.239049Z",
     "iopub.status.busy": "2021-03-13T09:48:05.238841Z",
     "iopub.status.idle": "2021-03-13T09:48:05.290044Z",
     "shell.execute_reply": "2021-03-13T09:48:05.289218Z",
     "shell.execute_reply.started": "2021-03-13T09:48:05.239021Z"
    },
    "tags": []
   },
   "outputs": [],
   "source": [
    "size.to_pickle('code/figures/size.pkl')"
   ]
  },
  {
   "cell_type": "code",
   "execution_count": 191,
   "id": "large-romania",
   "metadata": {
    "execution": {
     "iopub.execute_input": "2021-03-13T09:48:05.291341Z",
     "iopub.status.busy": "2021-03-13T09:48:05.291124Z",
     "iopub.status.idle": "2021-03-13T09:48:05.351863Z",
     "shell.execute_reply": "2021-03-13T09:48:05.350800Z",
     "shell.execute_reply.started": "2021-03-13T09:48:05.291313Z"
    },
    "tags": []
   },
   "outputs": [],
   "source": [
    "result = pd.concat([df, stats, size, diameter], axis=1)\n",
    "result.dropna(inplace=True)\n",
    "result = result.astype(dict(diameter=int))\n",
    "result.reset_index(inplace=True, drop=True)\n",
    "result.index = result.index + 1\n",
    "result.sort_values('nodes', inplace=True)\n",
    "result['density'] = result['density'].apply(scientific_notation)\n",
    "result['degree assortativity'] = result['degree assortativity'].round(2)\n",
    "result['average clustering coefficient'] = (\n",
    "  result['average clustering coefficient'].round(2))"
   ]
  },
  {
   "cell_type": "code",
   "execution_count": 192,
   "id": "constitutional-framing",
   "metadata": {
    "execution": {
     "iopub.execute_input": "2021-03-13T09:48:05.352997Z",
     "iopub.status.busy": "2021-03-13T09:48:05.352797Z",
     "iopub.status.idle": "2021-03-13T09:48:05.398645Z",
     "shell.execute_reply": "2021-03-13T09:48:05.397579Z",
     "shell.execute_reply.started": "2021-03-13T09:48:05.352971Z"
    },
    "tags": []
   },
   "outputs": [],
   "source": [
    "columns = [\n",
    "  'label', 'cat', 'edge type', 'nodes', 'edges', 'density', \n",
    "  'degree assortativity', 'average clustering coefficient', 'diameter', \n",
    "  'source']"
   ]
  },
  {
   "cell_type": "code",
   "execution_count": 193,
   "id": "superior-palmer",
   "metadata": {
    "execution": {
     "iopub.execute_input": "2021-03-13T09:48:05.400868Z",
     "iopub.status.busy": "2021-03-13T09:48:05.400654Z",
     "iopub.status.idle": "2021-03-13T09:48:05.450391Z",
     "shell.execute_reply": "2021-03-13T09:48:05.449589Z",
     "shell.execute_reply.started": "2021-03-13T09:48:05.400839Z"
    },
    "tags": []
   },
   "outputs": [],
   "source": [
    "table = result[columns].copy()\n",
    "table.rename(\n",
    "  {\n",
    "    'source': ' ',\n",
    "    'cat': 'domain',\n",
    "    'degree assortativity': 'd.a.', \n",
    "    'average clustering coefficient': 'a.c.c.',\n",
    "    'diameter': 'diam.'\n",
    "  },\n",
    "  axis='columns',\n",
    "  inplace=True)"
   ]
  },
  {
   "cell_type": "code",
   "execution_count": 197,
   "id": "expected-avenue",
   "metadata": {
    "execution": {
     "iopub.execute_input": "2021-03-13T09:51:57.999152Z",
     "iopub.status.busy": "2021-03-13T09:51:57.998981Z",
     "iopub.status.idle": "2021-03-13T09:51:58.015652Z",
     "shell.execute_reply": "2021-03-13T09:51:58.015105Z",
     "shell.execute_reply.started": "2021-03-13T09:51:57.999137Z"
    },
    "tags": []
   },
   "outputs": [
    {
     "name": "stdout",
     "output_type": "stream",
     "text": [
      "\\begin{table}[H]\n",
      "\\centering\n",
      "\\caption{Networks used in this work. The following abbreviations are used in the columns; d.a.: degree assortativity, acc: average clustering coefficient, diam.: diameter. In the column (scientific) domain, technological is abbreviated to Tech. and Information to Inf.}\n",
      "\\label{table:datasets}\n",
      "\\begin{tabular}{l@{\\hspace{1em}}c@{\\hspace{1em}}c@{\\hspace{1em}}r@{\\hspace{1em}}r@{\\hspace{1em}}c@{\\hspace{1em}}c@{\\hspace{1em}}c@{\\hspace{1em}}c@{\\hspace{1em}}c}\n",
      "\\toprule\n",
      "label & domain & edge type &     nodes &      edges &             density &  d.a. &  a.c.c. &  diam. &                          \\\\\n",
      "\\midrule\n",
      " Rado & Social &     multi &       167 &     82,927 & $2\\!\\cdot\\!10^{-1}$ & -0.29 &    0.59 &      5 &     \\cite{Michalski2011} \\\\\n",
      "   UC &   Inf. &     multi &       899 &     33,720 & $2\\!\\cdot\\!10^{-2}$ & -0.09 &    0.07 &      6 &        \\cite{Opsahl2013} \\\\\n",
      "   EU & Social &     multi &       986 &    332,334 & $3\\!\\cdot\\!10^{-2}$ & -0.03 &    0.41 &      7 &           \\cite{Yin2017} \\\\\n",
      "  Dem & Social &     multi &     1,891 &     39,264 & $2\\!\\cdot\\!10^{-3}$ & -0.30 &    0.21 &      8 &         \\cite{Wikileaks} \\\\\n",
      " bitA & Social &    simple &     3,683 &     22,650 & $2\\!\\cdot\\!10^{-3}$ & -0.15 &    0.17 &     10 &         \\cite{Kumar2017} \\\\\n",
      "bitOT & Social &    simple &     5,573 &     32,029 & $1\\!\\cdot\\!10^{-3}$ & -0.14 &    0.16 &     14 &         \\cite{Kumar2017} \\\\\n",
      "chess &   Inf. &    simple &     6,050 &     21,163 & $1\\!\\cdot\\!10^{-3}$ &  0.34 &    0.05 &     13 &            \\cite{konect} \\\\\n",
      "HepTh &   Inf. &     multi &     6,798 &    290,597 & $9\\!\\cdot\\!10^{-3}$ &  0.01 &    0.77 &     11 &      \\cite{Leskovec2007} \\\\\n",
      "HepPh &   Inf. &     multi &    16,959 &  2,322,259 & $8\\!\\cdot\\!10^{-3}$ &  0.06 &    0.61 &      8 &      \\cite{Leskovec2007} \\\\\n",
      "Condm & Social &     multi &    17,218 &     88,090 & $4\\!\\cdot\\!10^{-4}$ &  0.18 &    0.64 &     19 & \\cite{Lichtenwalter2010} \\\\\n",
      "SX-MO & Social &     multi &    24,818 &    506,550 & $6\\!\\cdot\\!10^{-4}$ & -0.20 &    0.31 &      9 &     \\cite{Paranjape2017} \\\\\n",
      "D-rep & Social &    simple &    30,398 &     87,627 & $2\\!\\cdot\\!10^{-4}$ &  0.01 &    0.01 &     12 &   \\cite{DeChoudhury2009} \\\\\n",
      "Rbody &  Tech. &     multi &    35,010 &    265,491 & $2\\!\\cdot\\!10^{-4}$ & -0.09 &    0.18 &     11 &         \\cite{Kumar2018} \\\\\n",
      " Rtit &  Tech. &     multi &    53,018 &    510,787 & $1\\!\\cdot\\!10^{-4}$ & -0.14 &    0.18 &     17 &         \\cite{Kumar2018} \\\\\n",
      " FB-w & Social &    simple &    55,387 &    335,708 & $2\\!\\cdot\\!10^{-4}$ &  0.22 &    0.12 &     16 &     \\cite{Viswanath2009} \\\\\n",
      " FB-l & Social &    simple &    55,387 &    335,708 & $2\\!\\cdot\\!10^{-4}$ &  0.22 &    0.12 &     16 &     \\cite{Viswanath2009} \\\\\n",
      "Enron & Social &     multi &    87,273 &  1,148,072 & $8\\!\\cdot\\!10^{-5}$ & -0.17 &    0.12 &     14 &         \\cite{Klimt2004} \\\\\n",
      "loans &   Inf. &    simple &    89,269 &  3,394,979 & $8\\!\\cdot\\!10^{-4}$ & -0.08 &    0.00 &      8 &       \\cite{Redmond2013} \\\\\n",
      "trust & Social &    simple &   114,467 &    717,667 & $9\\!\\cdot\\!10^{-5}$ & -0.05 &    0.13 &     14 &    \\cite{Richardson2003} \\\\\n",
      " Wiki & Social &     multi &   116,836 &  2,917,785 & $3\\!\\cdot\\!10^{-4}$ & -0.06 &    0.36 &     10 &       \\cite{Brandes2009} \\\\\n",
      "  D-v &   Inf. &    simple &   139,409 &  3,018,197 & $3\\!\\cdot\\!10^{-4}$ & -0.23 &    0.14 &      4 &          \\cite{Hogg2010} \\\\\n",
      "SX-AU & Social &     multi &   159,316 &    964,437 & $4\\!\\cdot\\!10^{-5}$ & -0.14 &    0.11 &     13 &     \\cite{Paranjape2017} \\\\\n",
      "SX-SU & Social &     multi &   194,085 &  1,443,339 & $4\\!\\cdot\\!10^{-5}$ & -0.09 &    0.12 &     12 &     \\cite{Paranjape2017} \\\\\n",
      "  D-f & Social &    simple &   279,374 &  1,729,983 & $4\\!\\cdot\\!10^{-5}$ & -0.06 &    0.09 &     18 &          \\cite{Hogg2010} \\\\\n",
      " AMin & Social &     multi &   855,165 & 23,787,273 & $9\\!\\cdot\\!10^{-6}$ &  0.16 &    0.61 &     22 &        \\cite{Zhuang2013} \\\\\n",
      " DBLP & Social &     multi & 1,824,701 & 29,487,744 & $5\\!\\cdot\\!10^{-6}$ &  0.11 &    0.63 &     23 &           \\cite{Ley2002} \\\\\n",
      "\\bottomrule\n",
      "\\end{tabular}\n",
      "\\end{table}\n",
      "\n"
     ]
    }
   ],
   "source": [
    "latex_table = table.to_latex(\n",
    "  formatters={\n",
    "    'nodes': thousand_sep, 'edges': thousand_sep\n",
    "  },\n",
    "  column_format='l@{\\hspace{1em}}c@{\\hspace{1em}}c@{\\hspace{1em}}r@{\\hspace{1em}}r@{\\hspace{1em}}c@{\\hspace{1em}}c@{\\hspace{1em}}c@{\\hspace{1em}}c@{\\hspace{1em}}c',\n",
    "  index=False,\n",
    "  caption=(\n",
    "    'Networks used in this work. '\n",
    "    'The following abbreviations are used in the columns; '\n",
    "    'd.a.: degree assortativity, acc: average clustering coefficient, diam.: diameter. '\n",
    "    'In the column (scientific) domain, technological is abbreviated to Tech. and Information to Inf.'\n",
    "  ),\n",
    "  label='table:datasets',\n",
    "  escape=False,\n",
    "  multicolumn=False,\n",
    "  position='H'\n",
    ")\n",
    "print(latex_table)"
   ]
  },
  {
   "cell_type": "code",
   "execution_count": 202,
   "id": "capable-wellington",
   "metadata": {
    "execution": {
     "iopub.execute_input": "2021-03-13T15:06:34.871088Z",
     "iopub.status.busy": "2021-03-13T15:06:34.870814Z",
     "iopub.status.idle": "2021-03-13T15:06:34.902563Z",
     "shell.execute_reply": "2021-03-13T15:06:34.902046Z",
     "shell.execute_reply.started": "2021-03-13T15:06:34.871048Z"
    },
    "tags": []
   },
   "outputs": [
    {
     "data": {
      "text/html": [
       "<div>\n",
       "<style scoped>\n",
       "    .dataframe tbody tr th:only-of-type {\n",
       "        vertical-align: middle;\n",
       "    }\n",
       "\n",
       "    .dataframe tbody tr th {\n",
       "        vertical-align: top;\n",
       "    }\n",
       "\n",
       "    .dataframe thead tr th {\n",
       "        text-align: left;\n",
       "    }\n",
       "\n",
       "    .dataframe thead tr:last-of-type th {\n",
       "        text-align: right;\n",
       "    }\n",
       "</style>\n",
       "<table border=\"1\" class=\"dataframe\">\n",
       "  <thead>\n",
       "    <tr>\n",
       "      <th></th>\n",
       "      <th colspan=\"2\" halign=\"left\">index</th>\n",
       "      <th colspan=\"2\" halign=\"left\">degree assortativity</th>\n",
       "      <th colspan=\"2\" halign=\"left\">average clustering coefficient</th>\n",
       "      <th colspan=\"2\" halign=\"left\">nodes</th>\n",
       "      <th colspan=\"2\" halign=\"left\">edges</th>\n",
       "      <th colspan=\"2\" halign=\"left\">diameter</th>\n",
       "    </tr>\n",
       "    <tr>\n",
       "      <th></th>\n",
       "      <th>mean</th>\n",
       "      <th>std</th>\n",
       "      <th>mean</th>\n",
       "      <th>std</th>\n",
       "      <th>mean</th>\n",
       "      <th>std</th>\n",
       "      <th>mean</th>\n",
       "      <th>std</th>\n",
       "      <th>mean</th>\n",
       "      <th>std</th>\n",
       "      <th>mean</th>\n",
       "      <th>std</th>\n",
       "    </tr>\n",
       "    <tr>\n",
       "      <th>cat</th>\n",
       "      <th></th>\n",
       "      <th></th>\n",
       "      <th></th>\n",
       "      <th></th>\n",
       "      <th></th>\n",
       "      <th></th>\n",
       "      <th></th>\n",
       "      <th></th>\n",
       "      <th></th>\n",
       "      <th></th>\n",
       "      <th></th>\n",
       "      <th></th>\n",
       "    </tr>\n",
       "  </thead>\n",
       "  <tbody>\n",
       "    <tr>\n",
       "      <th>Inf.</th>\n",
       "      <td>12.833333</td>\n",
       "      <td>8.471521</td>\n",
       "      <td>0.001667</td>\n",
       "      <td>0.193227</td>\n",
       "      <td>0.273333</td>\n",
       "      <td>0.329768</td>\n",
       "      <td>43230.666667</td>\n",
       "      <td>57552.952288</td>\n",
       "      <td>1.513486e+06</td>\n",
       "      <td>1.572926e+06</td>\n",
       "      <td>8.333333</td>\n",
       "      <td>3.265986</td>\n",
       "    </tr>\n",
       "    <tr>\n",
       "      <th>Social</th>\n",
       "      <td>13.666667</td>\n",
       "      <td>8.408679</td>\n",
       "      <td>-0.043333</td>\n",
       "      <td>0.163887</td>\n",
       "      <td>0.272778</td>\n",
       "      <td>0.213454</td>\n",
       "      <td>212595.833333</td>\n",
       "      <td>449233.760986</td>\n",
       "      <td>3.558844e+06</td>\n",
       "      <td>8.486513e+06</td>\n",
       "      <td>13.444444</td>\n",
       "      <td>4.973130</td>\n",
       "    </tr>\n",
       "    <tr>\n",
       "      <th>Tech.</th>\n",
       "      <td>28.500000</td>\n",
       "      <td>0.707107</td>\n",
       "      <td>-0.115000</td>\n",
       "      <td>0.035355</td>\n",
       "      <td>0.180000</td>\n",
       "      <td>0.000000</td>\n",
       "      <td>44014.000000</td>\n",
       "      <td>12733.578916</td>\n",
       "      <td>3.881390e+05</td>\n",
       "      <td>1.734505e+05</td>\n",
       "      <td>14.000000</td>\n",
       "      <td>4.242641</td>\n",
       "    </tr>\n",
       "  </tbody>\n",
       "</table>\n",
       "</div>"
      ],
      "text/plain": [
       "            index           degree assortativity            \\\n",
       "             mean       std                 mean       std   \n",
       "cat                                                          \n",
       "Inf.    12.833333  8.471521             0.001667  0.193227   \n",
       "Social  13.666667  8.408679            -0.043333  0.163887   \n",
       "Tech.   28.500000  0.707107            -0.115000  0.035355   \n",
       "\n",
       "       average clustering coefficient                    nodes                 \\\n",
       "                                 mean       std           mean            std   \n",
       "cat                                                                             \n",
       "Inf.                         0.273333  0.329768   43230.666667   57552.952288   \n",
       "Social                       0.272778  0.213454  212595.833333  449233.760986   \n",
       "Tech.                        0.180000  0.000000   44014.000000   12733.578916   \n",
       "\n",
       "               edges                 diameter            \n",
       "                mean           std       mean       std  \n",
       "cat                                                      \n",
       "Inf.    1.513486e+06  1.572926e+06   8.333333  3.265986  \n",
       "Social  3.558844e+06  8.486513e+06  13.444444  4.973130  \n",
       "Tech.   3.881390e+05  1.734505e+05  14.000000  4.242641  "
      ]
     },
     "execution_count": 202,
     "metadata": {},
     "output_type": "execute_result"
    }
   ],
   "source": [
    "result.groupby(['cat']).agg(['mean', 'std'])"
   ]
  },
  {
   "cell_type": "code",
   "execution_count": 212,
   "id": "capable-heavy",
   "metadata": {
    "execution": {
     "iopub.execute_input": "2021-03-13T15:10:54.936643Z",
     "iopub.status.busy": "2021-03-13T15:10:54.936340Z",
     "iopub.status.idle": "2021-03-13T15:10:54.992469Z",
     "shell.execute_reply": "2021-03-13T15:10:54.991699Z",
     "shell.execute_reply.started": "2021-03-13T15:10:54.936609Z"
    },
    "tags": []
   },
   "outputs": [
    {
     "data": {
      "text/html": [
       "<div>\n",
       "<style scoped>\n",
       "    .dataframe tbody tr th:only-of-type {\n",
       "        vertical-align: middle;\n",
       "    }\n",
       "\n",
       "    .dataframe tbody tr th {\n",
       "        vertical-align: top;\n",
       "    }\n",
       "\n",
       "    .dataframe thead tr th {\n",
       "        text-align: left;\n",
       "    }\n",
       "\n",
       "    .dataframe thead tr:last-of-type th {\n",
       "        text-align: right;\n",
       "    }\n",
       "</style>\n",
       "<table border=\"1\" class=\"dataframe\">\n",
       "  <thead>\n",
       "    <tr>\n",
       "      <th></th>\n",
       "      <th colspan=\"3\" halign=\"left\">index</th>\n",
       "      <th colspan=\"3\" halign=\"left\">degree assortativity</th>\n",
       "      <th colspan=\"3\" halign=\"left\">average clustering coefficient</th>\n",
       "      <th colspan=\"3\" halign=\"left\">nodes</th>\n",
       "      <th colspan=\"3\" halign=\"left\">edges</th>\n",
       "      <th colspan=\"3\" halign=\"left\">diameter</th>\n",
       "    </tr>\n",
       "    <tr>\n",
       "      <th></th>\n",
       "      <th>min</th>\n",
       "      <th>median</th>\n",
       "      <th>max</th>\n",
       "      <th>min</th>\n",
       "      <th>median</th>\n",
       "      <th>max</th>\n",
       "      <th>min</th>\n",
       "      <th>median</th>\n",
       "      <th>max</th>\n",
       "      <th>min</th>\n",
       "      <th>median</th>\n",
       "      <th>max</th>\n",
       "      <th>min</th>\n",
       "      <th>median</th>\n",
       "      <th>max</th>\n",
       "      <th>min</th>\n",
       "      <th>median</th>\n",
       "      <th>max</th>\n",
       "    </tr>\n",
       "    <tr>\n",
       "      <th>edge type</th>\n",
       "      <th></th>\n",
       "      <th></th>\n",
       "      <th></th>\n",
       "      <th></th>\n",
       "      <th></th>\n",
       "      <th></th>\n",
       "      <th></th>\n",
       "      <th></th>\n",
       "      <th></th>\n",
       "      <th></th>\n",
       "      <th></th>\n",
       "      <th></th>\n",
       "      <th></th>\n",
       "      <th></th>\n",
       "      <th></th>\n",
       "      <th></th>\n",
       "      <th></th>\n",
       "      <th></th>\n",
       "    </tr>\n",
       "  </thead>\n",
       "  <tbody>\n",
       "    <tr>\n",
       "      <th>multi</th>\n",
       "      <td>1</td>\n",
       "      <td>13.5</td>\n",
       "      <td>30</td>\n",
       "      <td>-0.30</td>\n",
       "      <td>-0.090</td>\n",
       "      <td>0.18</td>\n",
       "      <td>0.07</td>\n",
       "      <td>0.335</td>\n",
       "      <td>0.77</td>\n",
       "      <td>167</td>\n",
       "      <td>29914</td>\n",
       "      <td>1824701</td>\n",
       "      <td>33720</td>\n",
       "      <td>508668.5</td>\n",
       "      <td>29487744</td>\n",
       "      <td>5</td>\n",
       "      <td>11.0</td>\n",
       "      <td>23</td>\n",
       "    </tr>\n",
       "    <tr>\n",
       "      <th>simple</th>\n",
       "      <td>4</td>\n",
       "      <td>13.5</td>\n",
       "      <td>24</td>\n",
       "      <td>-0.23</td>\n",
       "      <td>-0.055</td>\n",
       "      <td>0.34</td>\n",
       "      <td>0.00</td>\n",
       "      <td>0.120</td>\n",
       "      <td>0.17</td>\n",
       "      <td>3683</td>\n",
       "      <td>55387</td>\n",
       "      <td>279374</td>\n",
       "      <td>21163</td>\n",
       "      <td>335708.0</td>\n",
       "      <td>3394979</td>\n",
       "      <td>4</td>\n",
       "      <td>13.5</td>\n",
       "      <td>18</td>\n",
       "    </tr>\n",
       "  </tbody>\n",
       "</table>\n",
       "</div>"
      ],
      "text/plain": [
       "          index            degree assortativity               \\\n",
       "            min median max                  min median   max   \n",
       "edge type                                                      \n",
       "multi         1   13.5  30                -0.30 -0.090  0.18   \n",
       "simple        4   13.5  24                -0.23 -0.055  0.34   \n",
       "\n",
       "          average clustering coefficient              nodes                  \\\n",
       "                                     min median   max   min median      max   \n",
       "edge type                                                                     \n",
       "multi                               0.07  0.335  0.77   167  29914  1824701   \n",
       "simple                              0.00  0.120  0.17  3683  55387   279374   \n",
       "\n",
       "           edges                     diameter             \n",
       "             min    median       max      min median max  \n",
       "edge type                                                 \n",
       "multi      33720  508668.5  29487744        5   11.0  23  \n",
       "simple     21163  335708.0   3394979        4   13.5  18  "
      ]
     },
     "execution_count": 212,
     "metadata": {},
     "output_type": "execute_result"
    }
   ],
   "source": [
    "result.groupby(['edge type']).agg(['min', 'median', 'max'])"
   ]
  },
  {
   "cell_type": "code",
   "execution_count": 219,
   "id": "compound-insider",
   "metadata": {
    "execution": {
     "iopub.execute_input": "2021-03-13T15:18:41.596217Z",
     "iopub.status.busy": "2021-03-13T15:18:41.595929Z",
     "iopub.status.idle": "2021-03-13T15:18:41.609056Z",
     "shell.execute_reply": "2021-03-13T15:18:41.608274Z",
     "shell.execute_reply.started": "2021-03-13T15:18:41.596186Z"
    },
    "tags": []
   },
   "outputs": [
    {
     "data": {
      "text/plain": [
       "edge type      \n",
       "multi      0.25    0.1650\n",
       "           0.50    0.3350\n",
       "           0.75    0.6100\n",
       "simple     0.25    0.0600\n",
       "           0.50    0.1200\n",
       "           0.75    0.1375\n",
       "Name: average clustering coefficient, dtype: float64"
      ]
     },
     "execution_count": 219,
     "metadata": {},
     "output_type": "execute_result"
    }
   ],
   "source": [
    "result.groupby(['edge type'])['average clustering coefficient'].quantile([.25, .5, .75])"
   ]
  },
  {
   "cell_type": "code",
   "execution_count": null,
   "id": "innovative-break",
   "metadata": {},
   "outputs": [],
   "source": []
  }
 ],
 "metadata": {
  "kernelspec": {
   "display_name": "Python 3",
   "language": "python",
   "name": "python3"
  },
  "language_info": {
   "codemirror_mode": {
    "name": "ipython",
    "version": 3
   },
   "file_extension": ".py",
   "mimetype": "text/x-python",
   "name": "python",
   "nbconvert_exporter": "python",
   "pygments_lexer": "ipython3",
   "version": "3.9.2"
  }
 },
 "nbformat": 4,
 "nbformat_minor": 5
}
