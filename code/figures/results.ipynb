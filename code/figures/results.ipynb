{
 "cells": [
  {
   "cell_type": "code",
   "execution_count": 1,
   "id": "chubby-feelings",
   "metadata": {
    "execution": {
     "iopub.execute_input": "2021-03-12T11:33:29.569932Z",
     "iopub.status.busy": "2021-03-12T11:33:29.569699Z",
     "iopub.status.idle": "2021-03-12T11:33:30.380572Z",
     "shell.execute_reply": "2021-03-12T11:33:30.379862Z",
     "shell.execute_reply.started": "2021-03-12T11:33:29.569888Z"
    },
    "tags": []
   },
   "outputs": [
    {
     "name": "stdout",
     "output_type": "stream",
     "text": [
      "/scratch/bruingjde/SNAM2021-code\n"
     ]
    }
   ],
   "source": [
    "%cd /scratch/bruingjde/SNAM2021-code/\n",
    "\n",
    "from constants import *"
   ]
  },
  {
   "cell_type": "markdown",
   "id": "veterinary-singing",
   "metadata": {},
   "source": [
    "# Time agnostic"
   ]
  },
  {
   "cell_type": "code",
   "execution_count": 3,
   "id": "bizarre-quest",
   "metadata": {
    "execution": {
     "iopub.execute_input": "2021-03-12T11:34:15.619162Z",
     "iopub.status.busy": "2021-03-12T11:34:15.618811Z",
     "iopub.status.idle": "2021-03-12T11:34:17.315268Z",
     "shell.execute_reply": "2021-03-12T11:34:17.314179Z",
     "shell.execute_reply.started": "2021-03-12T11:34:15.619129Z"
    },
    "tags": []
   },
   "outputs": [],
   "source": [
    "def logistic_regression_I(network: int):\n",
    "  X = dict()\n",
    "  for heuristic in ['aa', 'cn', 'jc', 'pa']:\n",
    "    X[heuristic] = np.load(f'data/{network:02}/features/time_agnostic/{heuristic}.npy')\n",
    "  X = pd.DataFrame(X)\n",
    "    \n",
    "  y = np.load(f'data/{network:02}/targets_sampled.npy')\n",
    "  \n",
    "  X_train, X_test, y_train, y_test = (\n",
    "    sklearn.model_selection.train_test_split(X, y))\n",
    "  pipe = sklearn.pipeline.make_pipeline(\n",
    "    sklearn.preprocessing.StandardScaler(),\n",
    "    sklearn.linear_model.LogisticRegression(max_iter=10000)) # type: ignore\n",
    "  pipe.fit(X_train, y_train)\n",
    "  \n",
    "  auc = sklearn.metrics.roc_auc_score(\n",
    "    y_true=y_test, y_score=pipe.predict_proba(X_test)[:,1]) # type: ignore\n",
    "  \n",
    "  return auc\n",
    "\n",
    "time_agnostic_performance = {\n",
    "  network: logistic_regression_I(network) for network in network_indices}"
   ]
  },
  {
   "cell_type": "markdown",
   "id": "present-kingdom",
   "metadata": {},
   "source": [
    "# Time aware"
   ]
  },
  {
   "cell_type": "code",
   "execution_count": 4,
   "id": "sustained-trouble",
   "metadata": {
    "execution": {
     "iopub.execute_input": "2021-03-12T11:34:21.183248Z",
     "iopub.status.busy": "2021-03-12T11:34:21.182892Z",
     "iopub.status.idle": "2021-03-12T11:35:30.407611Z",
     "shell.execute_reply": "2021-03-12T11:35:30.406609Z",
     "shell.execute_reply.started": "2021-03-12T11:34:21.183212Z"
    },
    "tags": []
   },
   "outputs": [],
   "source": [
    "def logistic_regression_I_II_III_hypergraph(network: int):\n",
    "  X = dict()\n",
    "  # Type I features\n",
    "  for heuristic in ['aa', 'cn', 'jc', 'pa']:\n",
    "    X[heuristic] = (\n",
    "      np.load(f'data/{network:02}/features/time_agnostic/{heuristic}.npy'))\n",
    "    \n",
    "  # Type II features\n",
    "  for time_strategy in time_strategies:\n",
    "    for nodepair_strategy in nodepair_strategies:\n",
    "      for aggregation_strategy in ['q0', 'q25', 'q50', 'q75', 'q100', \n",
    "                                   'm0', 'm1', 'm2', 'm3']:\n",
    "        X[(time_strategy, nodepair_strategy, aggregation_strategy)] = (\n",
    "          np.load(\n",
    "            f'data/{network:02}/features/time_node/'\n",
    "            f'{time_strategy}_{nodepair_strategy}_{aggregation_strategy}.npy'))\n",
    "  # Type III features      \n",
    "  for heuristic in ['aa', 'cn', 'jc', 'pa']:  \n",
    "    for time_strategy in time_strategies:\n",
    "      for aggregation_strategy in ['q0', 'q25', 'q50', 'q75', 'q100', \n",
    "                                   'm0', 'm1']:\n",
    "          X[(heuristic, time_strategy, aggregation_strategy)] = (\n",
    "            np.load(\n",
    "              f'data/{network:02}/features/time_edge/'\n",
    "              f'{heuristic}_{time_strategy}_{aggregation_strategy}.npy'))\n",
    "    \n",
    "  X = pd.DataFrame(X)\n",
    "    \n",
    "  y = np.load(f'data/{network:02}/targets_sampled.npy')\n",
    "  \n",
    "  X_train, X_test, y_train, y_test = (\n",
    "    sklearn.model_selection.train_test_split(X, y))\n",
    "  pipe = sklearn.pipeline.make_pipeline(\n",
    "    sklearn.preprocessing.StandardScaler(),\n",
    "    sklearn.linear_model.LogisticRegression(max_iter=10000))\n",
    "  pipe.fit(X_train, y_train)\n",
    "  \n",
    "  auc = sklearn.metrics.roc_auc_score(\n",
    "    y_true=y_test, y_score=pipe.predict_proba(X_test)[:,1])\n",
    "  \n",
    "  return auc\n",
    "\n",
    "def logistic_regression_I_II_III_simplegraph(network: int):\n",
    "  X = dict()\n",
    "  # Type I\n",
    "  for heuristic in ['aa', 'cn', 'jc', 'pa']:\n",
    "    X[heuristic] = (\n",
    "      np.load(f'data/{network:02}/features/time_agnostic/{heuristic}.npy'))\n",
    "  # Type II \n",
    "  for time_strategy in time_strategies:\n",
    "    for nodepair_strategy in nodepair_strategies:\n",
    "        X[(time_strategy, nodepair_strategy)] = (\n",
    "          np.load(\n",
    "            f'data/{network:02}/features/time_node/'\n",
    "            f'{time_strategy}_{nodepair_strategy}.npy'))\n",
    "  # Type III\n",
    "  for heuristic in ['aa', 'cn', 'jc', 'pa']:  \n",
    "    for time_strategy in time_strategies:\n",
    "      X[(heuristic, time_strategy)] = (\n",
    "        np.load(\n",
    "          f'data/{network:02}/features/time_edge/'\n",
    "          f'{heuristic}_{time_strategy}.npy'))\n",
    "      \n",
    "  X = pd.DataFrame(X)\n",
    "    \n",
    "  y = np.load(f'data/{network:02}/targets_sampled.npy')\n",
    "  \n",
    "  X_train, X_test, y_train, y_test = (\n",
    "    sklearn.model_selection.train_test_split(X, y))\n",
    "  pipe = sklearn.pipeline.make_pipeline(\n",
    "    sklearn.preprocessing.StandardScaler(),\n",
    "    sklearn.linear_model.LogisticRegression(max_iter=10000))\n",
    "  pipe.fit(X_train, y_train)\n",
    "  \n",
    "  auc = sklearn.metrics.roc_auc_score(\n",
    "    y_true=y_test, y_score=pipe.predict_proba(X_test)[:,1])\n",
    "  \n",
    "  return auc\n",
    "\n",
    "time_aware_performance = {\n",
    "  network: logistic_regression_I_II_III_hypergraph(network) \n",
    "  for network in hypergraph_indices} | {\n",
    "  network: logistic_regression_I_II_III_simplegraph(network) \n",
    "  for network in simplegraph_indices\n",
    "}"
   ]
  },
  {
   "cell_type": "code",
   "execution_count": 151,
   "id": "informative-brook",
   "metadata": {
    "execution": {
     "iopub.execute_input": "2021-03-12T21:43:15.411088Z",
     "iopub.status.busy": "2021-03-12T21:43:15.410844Z",
     "iopub.status.idle": "2021-03-12T21:43:15.420605Z",
     "shell.execute_reply": "2021-03-12T21:43:15.419972Z",
     "shell.execute_reply.started": "2021-03-12T21:43:15.411048Z"
    }
   },
   "outputs": [
    {
     "data": {
      "text/html": [
       "<div>\n",
       "<style scoped>\n",
       "    .dataframe tbody tr th:only-of-type {\n",
       "        vertical-align: middle;\n",
       "    }\n",
       "\n",
       "    .dataframe tbody tr th {\n",
       "        vertical-align: top;\n",
       "    }\n",
       "\n",
       "    .dataframe thead th {\n",
       "        text-align: right;\n",
       "    }\n",
       "</style>\n",
       "<table border=\"1\" class=\"dataframe\">\n",
       "  <thead>\n",
       "    <tr style=\"text-align: right;\">\n",
       "      <th></th>\n",
       "      <th>label</th>\n",
       "      <th>old_category</th>\n",
       "      <th>source</th>\n",
       "      <th>category</th>\n",
       "    </tr>\n",
       "  </thead>\n",
       "  <tbody>\n",
       "    <tr>\n",
       "      <th>1</th>\n",
       "      <td>DBLP</td>\n",
       "      <td>Coauthorship</td>\n",
       "      <td>Ley2002</td>\n",
       "      <td>social</td>\n",
       "    </tr>\n",
       "    <tr>\n",
       "      <th>2</th>\n",
       "      <td>HepPh</td>\n",
       "      <td>Cocitation</td>\n",
       "      <td>Leskovec2007</td>\n",
       "      <td>information</td>\n",
       "    </tr>\n",
       "    <tr>\n",
       "      <th>3</th>\n",
       "      <td>Enron</td>\n",
       "      <td>Communication</td>\n",
       "      <td>Klimt2004</td>\n",
       "      <td>social</td>\n",
       "    </tr>\n",
       "    <tr>\n",
       "      <th>4</th>\n",
       "      <td>FB-w</td>\n",
       "      <td>Social</td>\n",
       "      <td>Viswanath2009</td>\n",
       "      <td>social</td>\n",
       "    </tr>\n",
       "    <tr>\n",
       "      <th>5</th>\n",
       "      <td>Condm</td>\n",
       "      <td>Coauthorship</td>\n",
       "      <td>Lichtenwalter2010</td>\n",
       "      <td>social</td>\n",
       "    </tr>\n",
       "    <tr>\n",
       "      <th>6</th>\n",
       "      <td>HepTh</td>\n",
       "      <td>Cocitation</td>\n",
       "      <td>Leskovec2007</td>\n",
       "      <td>information</td>\n",
       "    </tr>\n",
       "    <tr>\n",
       "      <th>7</th>\n",
       "      <td>AMin</td>\n",
       "      <td>Coauthorship</td>\n",
       "      <td>Zhuang2013</td>\n",
       "      <td>social</td>\n",
       "    </tr>\n",
       "    <tr>\n",
       "      <th>8</th>\n",
       "      <td>FB-l</td>\n",
       "      <td>Social</td>\n",
       "      <td>Viswanath2009</td>\n",
       "      <td>social</td>\n",
       "    </tr>\n",
       "    <tr>\n",
       "      <th>9</th>\n",
       "      <td>D-rep</td>\n",
       "      <td>Communication</td>\n",
       "      <td>DeChoudhury2009</td>\n",
       "      <td>social</td>\n",
       "    </tr>\n",
       "    <tr>\n",
       "      <th>10</th>\n",
       "      <td>D-f</td>\n",
       "      <td>Social</td>\n",
       "      <td>Hogg2010</td>\n",
       "      <td>social</td>\n",
       "    </tr>\n",
       "    <tr>\n",
       "      <th>11</th>\n",
       "      <td>D-v</td>\n",
       "      <td>Rating</td>\n",
       "      <td>Hogg2010</td>\n",
       "      <td>information</td>\n",
       "    </tr>\n",
       "    <tr>\n",
       "      <th>12</th>\n",
       "      <td>Rado</td>\n",
       "      <td>Communication</td>\n",
       "      <td>Michalski2011</td>\n",
       "      <td>social</td>\n",
       "    </tr>\n",
       "    <tr>\n",
       "      <th>13</th>\n",
       "      <td>UC</td>\n",
       "      <td>Interaction</td>\n",
       "      <td>Opsahl2013</td>\n",
       "      <td>information</td>\n",
       "    </tr>\n",
       "    <tr>\n",
       "      <th>14</th>\n",
       "      <td>SX-MO</td>\n",
       "      <td>OnlineContact</td>\n",
       "      <td>Paranjape2017</td>\n",
       "      <td>social</td>\n",
       "    </tr>\n",
       "    <tr>\n",
       "      <th>16</th>\n",
       "      <td>trust</td>\n",
       "      <td>Social</td>\n",
       "      <td>Richardson2003</td>\n",
       "      <td>social</td>\n",
       "    </tr>\n",
       "    <tr>\n",
       "      <th>18</th>\n",
       "      <td>bitA</td>\n",
       "      <td>Social</td>\n",
       "      <td>Kumar2017</td>\n",
       "      <td>social</td>\n",
       "    </tr>\n",
       "    <tr>\n",
       "      <th>19</th>\n",
       "      <td>Dem</td>\n",
       "      <td>Social</td>\n",
       "      <td>Wikileaks</td>\n",
       "      <td>social</td>\n",
       "    </tr>\n",
       "    <tr>\n",
       "      <th>20</th>\n",
       "      <td>bitOT</td>\n",
       "      <td>Coauthorship</td>\n",
       "      <td>Kumar2017</td>\n",
       "      <td>social</td>\n",
       "    </tr>\n",
       "    <tr>\n",
       "      <th>21</th>\n",
       "      <td>chess</td>\n",
       "      <td>Interaction</td>\n",
       "      <td>konect</td>\n",
       "      <td>information</td>\n",
       "    </tr>\n",
       "    <tr>\n",
       "      <th>22</th>\n",
       "      <td>SX-AU</td>\n",
       "      <td>OnlineContact</td>\n",
       "      <td>Paranjape2017</td>\n",
       "      <td>social</td>\n",
       "    </tr>\n",
       "    <tr>\n",
       "      <th>23</th>\n",
       "      <td>SX-SU</td>\n",
       "      <td>OnlineContact</td>\n",
       "      <td>Paranjape2017</td>\n",
       "      <td>social</td>\n",
       "    </tr>\n",
       "    <tr>\n",
       "      <th>24</th>\n",
       "      <td>loans</td>\n",
       "      <td>Interaction</td>\n",
       "      <td>Redmond2013</td>\n",
       "      <td>information</td>\n",
       "    </tr>\n",
       "    <tr>\n",
       "      <th>25</th>\n",
       "      <td>Wiki</td>\n",
       "      <td>OnlineContact</td>\n",
       "      <td>Brandes2009</td>\n",
       "      <td>social</td>\n",
       "    </tr>\n",
       "    <tr>\n",
       "      <th>28</th>\n",
       "      <td>Rbody</td>\n",
       "      <td>Hyperlink</td>\n",
       "      <td>Kumar2018</td>\n",
       "      <td>technological</td>\n",
       "    </tr>\n",
       "    <tr>\n",
       "      <th>29</th>\n",
       "      <td>Rtit</td>\n",
       "      <td>Hyperlink</td>\n",
       "      <td>Kumar2018</td>\n",
       "      <td>technological</td>\n",
       "    </tr>\n",
       "    <tr>\n",
       "      <th>30</th>\n",
       "      <td>EU</td>\n",
       "      <td>Communication</td>\n",
       "      <td>Yin2017</td>\n",
       "      <td>social</td>\n",
       "    </tr>\n",
       "  </tbody>\n",
       "</table>\n",
       "</div>"
      ],
      "text/plain": [
       "    label   old_category             source       category\n",
       "1    DBLP   Coauthorship            Ley2002         social\n",
       "2   HepPh     Cocitation       Leskovec2007    information\n",
       "3   Enron  Communication          Klimt2004         social\n",
       "4    FB-w         Social      Viswanath2009         social\n",
       "5   Condm   Coauthorship  Lichtenwalter2010         social\n",
       "6   HepTh     Cocitation       Leskovec2007    information\n",
       "7    AMin   Coauthorship         Zhuang2013         social\n",
       "8    FB-l         Social      Viswanath2009         social\n",
       "9   D-rep  Communication    DeChoudhury2009         social\n",
       "10    D-f         Social           Hogg2010         social\n",
       "11    D-v         Rating           Hogg2010    information\n",
       "12   Rado  Communication      Michalski2011         social\n",
       "13     UC    Interaction         Opsahl2013    information\n",
       "14  SX-MO  OnlineContact      Paranjape2017         social\n",
       "16  trust         Social     Richardson2003         social\n",
       "18   bitA         Social          Kumar2017         social\n",
       "19    Dem         Social          Wikileaks         social\n",
       "20  bitOT   Coauthorship          Kumar2017         social\n",
       "21  chess    Interaction             konect    information\n",
       "22  SX-AU  OnlineContact      Paranjape2017         social\n",
       "23  SX-SU  OnlineContact      Paranjape2017         social\n",
       "24  loans    Interaction        Redmond2013    information\n",
       "25   Wiki  OnlineContact        Brandes2009         social\n",
       "28  Rbody      Hyperlink          Kumar2018  technological\n",
       "29   Rtit      Hyperlink          Kumar2018  technological\n",
       "30     EU  Communication            Yin2017         social"
      ]
     },
     "execution_count": 151,
     "metadata": {},
     "output_type": "execute_result"
    }
   ],
   "source": [
    "get_networks()"
   ]
  },
  {
   "cell_type": "code",
   "execution_count": 164,
   "id": "mineral-vietnamese",
   "metadata": {
    "execution": {
     "iopub.execute_input": "2021-03-12T21:48:23.196938Z",
     "iopub.status.busy": "2021-03-12T21:48:23.196641Z",
     "iopub.status.idle": "2021-03-12T21:48:23.208491Z",
     "shell.execute_reply": "2021-03-12T21:48:23.207817Z",
     "shell.execute_reply.started": "2021-03-12T21:48:23.196910Z"
    },
    "tags": []
   },
   "outputs": [],
   "source": [
    "ylabel = 'time aware (AUC)'\n",
    "xlabel = 'time agnostic (AUC)'\n",
    "\n",
    "df = pd.concat(\n",
    "  {\n",
    "    ylabel: pd.Series(time_aware_performance), \n",
    "    xlabel: pd.Series(time_agnostic_performance)\n",
    "  },\n",
    "  axis=1)\n",
    "df['category'] = get_networks()['category']"
   ]
  },
  {
   "cell_type": "code",
   "execution_count": 250,
   "id": "veterinary-luxury",
   "metadata": {
    "execution": {
     "iopub.execute_input": "2021-03-13T10:23:59.689032Z",
     "iopub.status.busy": "2021-03-13T10:23:59.688882Z",
     "iopub.status.idle": "2021-03-13T10:23:59.693929Z",
     "shell.execute_reply": "2021-03-13T10:23:59.693188Z",
     "shell.execute_reply.started": "2021-03-13T10:23:59.689016Z"
    },
    "tags": []
   },
   "outputs": [],
   "source": [
    "df.rename(columns={'category': 'Scientific domain'}, inplace=True)\n",
    "df.replace({'Scientific domain': {'social': 'Social', 'information': 'Information', 'technological': 'Technological'}}, inplace=True)"
   ]
  },
  {
   "cell_type": "code",
   "execution_count": 339,
   "id": "progressive-income",
   "metadata": {
    "execution": {
     "iopub.execute_input": "2021-03-16T08:34:59.224520Z",
     "iopub.status.busy": "2021-03-16T08:34:59.224234Z",
     "iopub.status.idle": "2021-03-16T08:34:59.739646Z",
     "shell.execute_reply": "2021-03-16T08:34:59.739264Z",
     "shell.execute_reply.started": "2021-03-16T08:34:59.224488Z"
    },
    "tags": []
   },
   "outputs": [
    {
     "data": {
      "image/png": "[encoded data removed]",
      "text/plain": [
       "<Figure size 237.6x178.2 with 1 Axes>"
      ]
     },
     "metadata": {
      "needs_background": "light"
     },
     "output_type": "display_data"
    }
   ],
   "source": [
    "auc_values = df[[ylabel, xlabel]].values.flatten()\n",
    "lim = (min(auc_values), 1)\n",
    "\n",
    "fontsize=8\n",
    "rc = {\n",
    "  'xtick.top': True, 'ytick.right': True, 'figure.figsize': (3.30,2.475), \n",
    "  'axes.titlesize': fontsize, \n",
    "  'axes.labelsize': fontsize, \n",
    "  'xtick.labelsize': fontsize, \n",
    "  'ytick.labelsize': fontsize, \n",
    "  'legend.fontsize': fontsize, \n",
    "  'legend.title_fontsize': fontsize,\n",
    "}\n",
    "\n",
    "with plt.rc_context(rc):\n",
    "  ax = sns.scatterplot(data=df, x=xlabel, y=ylabel, \n",
    "                  hue='Scientific domain', style='Scientific domain')\n",
    "  sns.regplot(data=df, x=xlabel, y=ylabel, \n",
    "              scatter=False, color='black', ax=ax)\n",
    "  ax.axline((0,0), (1,1), ls='--', c='black')\n",
    "  ax.axis('scaled')\n",
    "  ax.axis([.65, 1, .65, 1])\n",
    "  ax.set_xlabel('Static topological features\\n(AUC)')\n",
    "  ax.set_ylabel('Temporal weighted\\ntopological features(AUC)')\n",
    "  ax.xaxis.set_minor_locator(matplotlib.ticker.MultipleLocator(.01))\n",
    "  ax.yaxis.set_minor_locator(matplotlib.ticker.MultipleLocator(.01))\n",
    "  ax.xaxis.set_major_locator(matplotlib.ticker.MultipleLocator(.1))\n",
    "  ax.yaxis.set_major_locator(matplotlib.ticker.MultipleLocator(.1))\n",
    "  plt.legend()\n",
    "  plt.tight_layout()\n",
    "  plt.savefig('code/figures/output/results.pdf')"
   ]
  },
  {
   "cell_type": "code",
   "execution_count": 155,
   "id": "statewide-compiler",
   "metadata": {
    "execution": {
     "iopub.execute_input": "2021-03-12T21:46:57.632246Z",
     "iopub.status.busy": "2021-03-12T21:46:57.631906Z",
     "iopub.status.idle": "2021-03-12T21:46:57.637081Z",
     "shell.execute_reply": "2021-03-12T21:46:57.636471Z",
     "shell.execute_reply.started": "2021-03-12T21:46:57.632213Z"
    },
    "tags": []
   },
   "outputs": [],
   "source": [
    "labels = networks.copy()\n",
    "node = pd.read_pickle('code/figures/temp.pkl')\n",
    "size = pd.read_pickle('code/figures/size.pkl')\n",
    "IIb = pd.Series(pd.read_pickle('code/figures/IIb2.pkl'), name='q0')"
   ]
  },
  {
   "cell_type": "code",
   "execution_count": 312,
   "id": "super-silicon",
   "metadata": {
    "execution": {
     "iopub.execute_input": "2021-03-14T08:37:03.592625Z",
     "iopub.status.busy": "2021-03-14T08:37:03.592285Z",
     "iopub.status.idle": "2021-03-14T08:37:03.608666Z",
     "shell.execute_reply": "2021-03-14T08:37:03.607884Z",
     "shell.execute_reply.started": "2021-03-14T08:37:03.592593Z"
    },
    "tags": []
   },
   "outputs": [],
   "source": [
    "merged = pd.concat(\n",
    "  [df.round(3).drop(columns='Scientific domain'), \n",
    "   labels, \n",
    "   node.round(3).drop(columns='category'), \n",
    "   size, \n",
    "   IIb.round(3)\n",
    "  ], axis=1)\n",
    "merged['q0'].fillna(merged['time aware (AUC)'], inplace=True)\n",
    "merged['edge type'] = pd.Series(merged.index.isin(hypergraph_indices), \n",
    "                           index=merged.index)\n",
    "merged['edge type'].replace({True: 'multi', False: 'simple'}, \n",
    "                       inplace=True)"
   ]
  },
  {
   "cell_type": "code",
   "execution_count": 313,
   "id": "simple-shame",
   "metadata": {
    "execution": {
     "iopub.execute_input": "2021-03-14T08:37:03.969889Z",
     "iopub.status.busy": "2021-03-14T08:37:03.969642Z",
     "iopub.status.idle": "2021-03-14T08:37:03.975083Z",
     "shell.execute_reply": "2021-03-14T08:37:03.974617Z",
     "shell.execute_reply.started": "2021-03-14T08:37:03.969860Z"
    },
    "tags": []
   },
   "outputs": [
    {
     "data": {
      "text/plain": [
       "[True, False, True, True, False, False, False, False]"
      ]
     },
     "execution_count": 313,
     "metadata": {},
     "output_type": "execute_result"
    }
   ],
   "source": [
    "[col in merged.columns for col in cols]"
   ]
  },
  {
   "cell_type": "code",
   "execution_count": 314,
   "id": "recreational-lesbian",
   "metadata": {
    "execution": {
     "iopub.execute_input": "2021-03-14T08:37:04.227987Z",
     "iopub.status.busy": "2021-03-14T08:37:04.227782Z",
     "iopub.status.idle": "2021-03-14T08:37:04.232124Z",
     "shell.execute_reply": "2021-03-14T08:37:04.231521Z",
     "shell.execute_reply.started": "2021-03-14T08:37:04.227963Z"
    },
    "tags": []
   },
   "outputs": [
    {
     "data": {
      "text/plain": [
       "Index(['time aware (AUC)', 'time agnostic (AUC)', 'label', 'old_category',\n",
       "       'source', 'category', 'auc (node activity + static features)',\n",
       "       'auc (temporal edge features)', 'nodes', 'edges', 'q0', 'edge type'],\n",
       "      dtype='object')"
      ]
     },
     "execution_count": 314,
     "metadata": {},
     "output_type": "execute_result"
    }
   ],
   "source": [
    "merged.columns"
   ]
  },
  {
   "cell_type": "code",
   "execution_count": 315,
   "id": "accomplished-handling",
   "metadata": {
    "execution": {
     "iopub.execute_input": "2021-03-14T08:37:04.472533Z",
     "iopub.status.busy": "2021-03-14T08:37:04.472325Z",
     "iopub.status.idle": "2021-03-14T08:37:04.477455Z",
     "shell.execute_reply": "2021-03-14T08:37:04.477054Z",
     "shell.execute_reply.started": "2021-03-14T08:37:04.472517Z"
    },
    "tags": []
   },
   "outputs": [],
   "source": [
    "rename_columns = {\n",
    "  'time agnostic (AUC)': 'I', \n",
    "  'q0': 'II-B',\n",
    "  'time aware (AUC)': 'II-A', \n",
    "  'auc (node activity + static features)': 'III',\n",
    "  'category': 'Scientific domain'\n",
    "}\n",
    "cols = ['label', 'Scientific domain', 'edge type', 'nodes', 'I', 'II-A', 'II-B', 'III']\n",
    "table = merged.rename(columns=rename_columns).loc[:, cols]\n",
    "table.replace({'Scientific domain': {'social': 'Social', 'information': 'Information', 'technological': 'Technological'}}, inplace=True)\n",
    "table.sort_values(['nodes'], inplace=True)"
   ]
  },
  {
   "cell_type": "code",
   "execution_count": 316,
   "id": "hired-pottery",
   "metadata": {
    "execution": {
     "iopub.execute_input": "2021-03-14T08:37:04.897194Z",
     "iopub.status.busy": "2021-03-14T08:37:04.896943Z",
     "iopub.status.idle": "2021-03-14T08:37:04.900728Z",
     "shell.execute_reply": "2021-03-14T08:37:04.900162Z",
     "shell.execute_reply.started": "2021-03-14T08:37:04.897163Z"
    },
    "tags": []
   },
   "outputs": [],
   "source": [
    "def thousand_sep(x):\n",
    "  return f'{x:,}'"
   ]
  },
  {
   "cell_type": "code",
   "execution_count": 317,
   "id": "negative-modem",
   "metadata": {
    "execution": {
     "iopub.execute_input": "2021-03-14T08:37:05.491481Z",
     "iopub.status.busy": "2021-03-14T08:37:05.491248Z",
     "iopub.status.idle": "2021-03-14T08:37:05.516562Z",
     "shell.execute_reply": "2021-03-14T08:37:05.515800Z",
     "shell.execute_reply.started": "2021-03-14T08:37:05.491461Z"
    },
    "tags": []
   },
   "outputs": [
    {
     "name": "stdout",
     "output_type": "stream",
     "text": [
      "\\begin{table}\n",
      "\\centering\n",
      "\\caption{Performance obtained for feature set I-III.}\n",
      "\\label{table:results}\n",
      "\\begin{tabular}{l@{\\hspace{1em}}c@{\\hspace{1em}}c@{\\hspace{1em}}r@{\\hspace{1em}}c@{\\hspace{1em}}c@{\\hspace{1em}}c@{\\hspace{1em}}c}\n",
      "\\toprule\n",
      "label & Scientific domain & edge type &     nodes &     I &  II-A &  II-B &   III \\\\\n",
      "\\midrule\n",
      " Rado &            Social &     multi &       167 & 0.864 & 0.921 & 0.852 & 0.902 \\\\\n",
      "   UC &       Information &     multi &       899 & 0.731 & 0.893 & 0.744 & 0.873 \\\\\n",
      "   EU &            Social &     multi &       986 & 0.839 & 0.873 & 0.811 & 0.849 \\\\\n",
      "  Dem &            Social &     multi &     1,891 & 0.920 & 0.944 & 0.919 & 0.938 \\\\\n",
      " bitA &            Social &    simple &     3,683 & 0.868 & 0.945 & 0.945 & 0.940 \\\\\n",
      "bitOT &            Social &    simple &     5,573 & 0.821 & 0.947 & 0.947 & 0.939 \\\\\n",
      "chess &       Information &    simple &     6,050 & 0.665 & 0.735 & 0.735 & 0.736 \\\\\n",
      "HepTh &       Information &     multi &     6,798 & 0.757 & 0.835 & 0.776 & 0.819 \\\\\n",
      "HepPh &       Information &     multi &    16,959 & 0.828 & 0.879 & 0.834 & 0.868 \\\\\n",
      "Condm &            Social &     multi &    17,218 & 0.688 & 0.760 & 0.706 & 0.728 \\\\\n",
      "SX-MO &            Social &     multi &    24,818 & 0.859 & 0.944 & 0.909 & 0.933 \\\\\n",
      "D-rep &            Social &    simple &    30,398 & 0.837 & 0.866 & 0.866 & 0.865 \\\\\n",
      "Rbody &     Technological &     multi &    35,010 & 0.880 & 0.905 & 0.854 & 0.890 \\\\\n",
      " Rtit &     Technological &     multi &    53,018 & 0.903 & 0.931 & 0.906 & 0.925 \\\\\n",
      " FB-w &            Social &    simple &    55,387 & 0.762 & 0.809 & 0.809 & 0.788 \\\\\n",
      " FB-l &            Social &    simple &    55,387 & 0.762 & 0.803 & 0.803 & 0.775 \\\\\n",
      "Enron &            Social &     multi &    87,273 & 0.847 & 0.912 & 0.873 & 0.909 \\\\\n",
      "loans &       Information &    simple &    89,269 & 0.786 & 0.947 & 0.947 & 0.946 \\\\\n",
      "trust &            Social &    simple &   114,467 & 0.889 & 0.936 & 0.936 & 0.937 \\\\\n",
      " Wiki &            Social &     multi &   116,836 & 0.864 & 0.936 & 0.896 & 0.939 \\\\\n",
      "  D-v &       Information &    simple &   139,409 & 0.933 & 0.941 & 0.941 & 0.939 \\\\\n",
      "SX-AU &            Social &     multi &   159,316 & 0.937 & 0.970 & 0.959 & 0.970 \\\\\n",
      "SX-SU &            Social &     multi &   194,085 & 0.921 & 0.965 & 0.946 & 0.961 \\\\\n",
      "  D-f &            Social &    simple &   279,374 & 0.891 & 0.926 & 0.926 & 0.924 \\\\\n",
      " AMin &            Social &     multi &   855,165 & 0.725 & 0.849 & 0.804 & 0.816 \\\\\n",
      " DBLP &            Social &     multi & 1,824,701 & 0.704 & 0.826 & 0.743 & 0.786 \\\\\n",
      "\\bottomrule\n",
      "\\end{tabular}\n",
      "\\end{table}\n",
      "\n"
     ]
    }
   ],
   "source": [
    "latex_table = table.to_latex(\n",
    "  index=False,\n",
    "  column_format=\n",
    "    'l@{\\hspace{1em}}c@{\\hspace{1em}}c@{\\hspace{1em}}r'\n",
    "    + 4*'@{\\hspace{1em}}c',\n",
    "  caption='Performance obtained for feature set I-III.',\n",
    "  formatters={'nodes': thousand_sep},\n",
    "  label='table:results',\n",
    "  escape=False,\n",
    "  multicolumn=False)\n",
    "print(latex_table)"
   ]
  },
  {
   "cell_type": "code",
   "execution_count": 318,
   "id": "regional-hearing",
   "metadata": {
    "execution": {
     "iopub.execute_input": "2021-03-14T08:37:35.990093Z",
     "iopub.status.busy": "2021-03-14T08:37:35.989780Z",
     "iopub.status.idle": "2021-03-14T08:37:36.509269Z",
     "shell.execute_reply": "2021-03-14T08:37:36.508861Z",
     "shell.execute_reply.started": "2021-03-14T08:37:35.990053Z"
    },
    "tags": []
   },
   "outputs": [
    {
     "data": {
      "image/png": "[encoded data removed]",
      "text/plain": [
       "<Figure size 288x288 with 1 Axes>"
      ]
     },
     "metadata": {
      "needs_background": "light"
     },
     "output_type": "display_data"
    }
   ],
   "source": [
    "x_label = 'II-B'\n",
    "y_label = 'II-A'\n",
    "\n",
    "data = table[table['edge type'] == 'multi']\n",
    "\n",
    "auc_values = table[[x_label, y_label]].values.flatten()\n",
    "lim = (.6, 1)\n",
    "\n",
    "with plt.rc_context(rc):\n",
    "  ax = sns.scatterplot(data=data, x=x_label, y=y_label, hue='Scientific domain', \n",
    "                  style='Scientific domain')\n",
    "  sns.regplot(data=data, x=x_label, y=y_label, scatter=False, color='black', ax=ax)\n",
    "  ax.axline((0,0), (1,1), ls='--', c='grey')\n",
    "  ax.axis('scaled')\n",
    "  ax.axis([.6, 1, .6, 1])\n",
    "\n",
    "  plt.xlabel('Without multi-edge aggregation (AUC)')\n",
    "  plt.ylabel('With multi-edge aggregation (AUC)')\n",
    "  ax.xaxis.set_minor_locator(matplotlib.ticker.MultipleLocator(.01))\n",
    "  ax.yaxis.set_minor_locator(matplotlib.ticker.MultipleLocator(.01))\n",
    "  ax.xaxis.set_major_locator(matplotlib.ticker.MultipleLocator(.1))\n",
    "  ax.yaxis.set_major_locator(matplotlib.ticker.MultipleLocator(.1))\n",
    "  plt.tight_layout()\n",
    "  plt.savefig('code/figures/output/aggregation.pdf')"
   ]
  },
  {
   "cell_type": "code",
   "execution_count": 262,
   "id": "embedded-present",
   "metadata": {
    "execution": {
     "iopub.execute_input": "2021-03-13T10:46:53.737846Z",
     "iopub.status.busy": "2021-03-13T10:46:53.737626Z",
     "iopub.status.idle": "2021-03-13T10:46:53.743438Z",
     "shell.execute_reply": "2021-03-13T10:46:53.742631Z",
     "shell.execute_reply.started": "2021-03-13T10:46:53.737821Z"
    },
    "tags": []
   },
   "outputs": [
    {
     "data": {
      "text/plain": [
       "(0.8337937858572847, 5.9812779907126215e-05)"
      ]
     },
     "execution_count": 262,
     "metadata": {},
     "output_type": "execute_result"
    }
   ],
   "source": [
    "data['II-A']\n",
    "\n",
    "from scipy.stats.stats import pearsonr\n",
    "pearsonr(data['II-A'], data['II-B'])"
   ]
  },
  {
   "cell_type": "code",
   "execution_count": 270,
   "id": "scientific-manner",
   "metadata": {
    "execution": {
     "iopub.execute_input": "2021-03-13T17:23:18.928587Z",
     "iopub.status.busy": "2021-03-13T17:23:18.928260Z",
     "iopub.status.idle": "2021-03-13T17:23:18.937378Z",
     "shell.execute_reply": "2021-03-13T17:23:18.936500Z",
     "shell.execute_reply.started": "2021-03-13T17:23:18.928554Z"
    },
    "tags": []
   },
   "outputs": [
    {
     "data": {
      "text/plain": [
       "mean    0.066038\n",
       "std     0.041899\n",
       "dtype: float64"
      ]
     },
     "execution_count": 270,
     "metadata": {},
     "output_type": "execute_result"
    }
   ],
   "source": [
    "(table['II-A'] - table['I']).agg(['mean', 'std'])"
   ]
  },
  {
   "cell_type": "code",
   "execution_count": 269,
   "id": "silent-benchmark",
   "metadata": {
    "execution": {
     "iopub.execute_input": "2021-03-13T17:21:02.503848Z",
     "iopub.status.busy": "2021-03-13T17:21:02.503520Z",
     "iopub.status.idle": "2021-03-13T17:21:02.513166Z",
     "shell.execute_reply": "2021-03-13T17:21:02.512295Z",
     "shell.execute_reply.started": "2021-03-13T17:21:02.503814Z"
    },
    "tags": []
   },
   "outputs": [
    {
     "data": {
      "text/plain": [
       "NormaltestResult(statistic=5.151259874415966, pvalue=0.0761058657786408)"
      ]
     },
     "execution_count": 269,
     "metadata": {},
     "output_type": "execute_result"
    }
   ],
   "source": [
    "import scipy.stats\n",
    "\n",
    "scipy.stats.normaltest(table['II-A'] - table['I'])"
   ]
  },
  {
   "cell_type": "code",
   "execution_count": 286,
   "id": "retired-catholic",
   "metadata": {
    "execution": {
     "iopub.execute_input": "2021-03-13T20:22:19.826027Z",
     "iopub.status.busy": "2021-03-13T20:22:19.825871Z",
     "iopub.status.idle": "2021-03-13T20:22:19.847494Z",
     "shell.execute_reply": "2021-03-13T20:22:19.847035Z",
     "shell.execute_reply.started": "2021-03-13T20:22:19.826012Z"
    }
   },
   "outputs": [
    {
     "data": {
      "application/vnd.jupyter.widget-view+json": {
       "model_id": "8722801b71b4402cb52c982d394904c9",
       "version_major": 2,
       "version_minor": 0
      },
      "text/plain": [
       "  0%|          | 0/26 [00:00<?, ?it/s]"
      ]
     },
     "metadata": {},
     "output_type": "display_data"
    }
   ],
   "source": [
    "stats = get_all_stats(network_indices=network_indices) "
   ]
  },
  {
   "cell_type": "code",
   "execution_count": 288,
   "id": "lesser-armenia",
   "metadata": {
    "execution": {
     "iopub.execute_input": "2021-03-13T20:22:28.376571Z",
     "iopub.status.busy": "2021-03-13T20:22:28.376348Z",
     "iopub.status.idle": "2021-03-13T20:22:28.380826Z",
     "shell.execute_reply": "2021-03-13T20:22:28.380357Z",
     "shell.execute_reply.started": "2021-03-13T20:22:28.376543Z"
    },
    "tags": []
   },
   "outputs": [
    {
     "data": {
      "text/plain": [
       "1     0.114186\n",
       "2     0.059906\n",
       "3    -0.166689\n",
       "4     0.221522\n",
       "5     0.177355\n",
       "6     0.010808\n",
       "7     0.155727\n",
       "8     0.221522\n",
       "9     0.008341\n",
       "10   -0.055707\n",
       "11   -0.227284\n",
       "12   -0.294441\n",
       "13   -0.092248\n",
       "14   -0.197902\n",
       "16   -0.051317\n",
       "18   -0.153884\n",
       "19   -0.301404\n",
       "20   -0.144884\n",
       "21    0.335905\n",
       "22   -0.143106\n",
       "23   -0.087745\n",
       "24   -0.078326\n",
       "25   -0.064984\n",
       "28   -0.087156\n",
       "29   -0.137222\n",
       "30   -0.025743\n",
       "Name: degree assortativity, dtype: float64"
      ]
     },
     "execution_count": 288,
     "metadata": {},
     "output_type": "execute_result"
    }
   ],
   "source": [
    "stats['degree assortativity']"
   ]
  },
  {
   "cell_type": "code",
   "execution_count": 285,
   "id": "european-connection",
   "metadata": {
    "execution": {
     "iopub.execute_input": "2021-03-13T20:21:59.043457Z",
     "iopub.status.busy": "2021-03-13T20:21:59.043249Z",
     "iopub.status.idle": "2021-03-13T20:21:59.055751Z",
     "shell.execute_reply": "2021-03-13T20:21:59.055329Z",
     "shell.execute_reply.started": "2021-03-13T20:21:59.043441Z"
    },
    "tags": []
   },
   "outputs": [
    {
     "data": {
      "text/html": [
       "<div>\n",
       "<style scoped>\n",
       "    .dataframe tbody tr th:only-of-type {\n",
       "        vertical-align: middle;\n",
       "    }\n",
       "\n",
       "    .dataframe tbody tr th {\n",
       "        vertical-align: top;\n",
       "    }\n",
       "\n",
       "    .dataframe thead th {\n",
       "        text-align: right;\n",
       "    }\n",
       "</style>\n",
       "<table border=\"1\" class=\"dataframe\">\n",
       "  <thead>\n",
       "    <tr style=\"text-align: right;\">\n",
       "      <th></th>\n",
       "      <th>label</th>\n",
       "      <th>Scientific domain</th>\n",
       "      <th>edge type</th>\n",
       "      <th>nodes</th>\n",
       "      <th>I</th>\n",
       "      <th>II-A</th>\n",
       "      <th>II-B</th>\n",
       "      <th>III</th>\n",
       "    </tr>\n",
       "  </thead>\n",
       "  <tbody>\n",
       "    <tr>\n",
       "      <th>12</th>\n",
       "      <td>Rado</td>\n",
       "      <td>Social</td>\n",
       "      <td>multi</td>\n",
       "      <td>167</td>\n",
       "      <td>0.864</td>\n",
       "      <td>0.921</td>\n",
       "      <td>0.830</td>\n",
       "      <td>0.902</td>\n",
       "    </tr>\n",
       "    <tr>\n",
       "      <th>13</th>\n",
       "      <td>UC</td>\n",
       "      <td>Information</td>\n",
       "      <td>multi</td>\n",
       "      <td>899</td>\n",
       "      <td>0.731</td>\n",
       "      <td>0.893</td>\n",
       "      <td>0.640</td>\n",
       "      <td>0.873</td>\n",
       "    </tr>\n",
       "    <tr>\n",
       "      <th>30</th>\n",
       "      <td>EU</td>\n",
       "      <td>Social</td>\n",
       "      <td>multi</td>\n",
       "      <td>986</td>\n",
       "      <td>0.839</td>\n",
       "      <td>0.873</td>\n",
       "      <td>0.790</td>\n",
       "      <td>0.849</td>\n",
       "    </tr>\n",
       "    <tr>\n",
       "      <th>19</th>\n",
       "      <td>Dem</td>\n",
       "      <td>Social</td>\n",
       "      <td>multi</td>\n",
       "      <td>1891</td>\n",
       "      <td>0.920</td>\n",
       "      <td>0.944</td>\n",
       "      <td>0.840</td>\n",
       "      <td>0.938</td>\n",
       "    </tr>\n",
       "    <tr>\n",
       "      <th>18</th>\n",
       "      <td>bitA</td>\n",
       "      <td>Social</td>\n",
       "      <td>simple</td>\n",
       "      <td>3683</td>\n",
       "      <td>0.868</td>\n",
       "      <td>0.945</td>\n",
       "      <td>0.945</td>\n",
       "      <td>0.940</td>\n",
       "    </tr>\n",
       "    <tr>\n",
       "      <th>20</th>\n",
       "      <td>bitOT</td>\n",
       "      <td>Social</td>\n",
       "      <td>simple</td>\n",
       "      <td>5573</td>\n",
       "      <td>0.821</td>\n",
       "      <td>0.947</td>\n",
       "      <td>0.947</td>\n",
       "      <td>0.939</td>\n",
       "    </tr>\n",
       "    <tr>\n",
       "      <th>21</th>\n",
       "      <td>chess</td>\n",
       "      <td>Information</td>\n",
       "      <td>simple</td>\n",
       "      <td>6050</td>\n",
       "      <td>0.665</td>\n",
       "      <td>0.735</td>\n",
       "      <td>0.735</td>\n",
       "      <td>0.736</td>\n",
       "    </tr>\n",
       "    <tr>\n",
       "      <th>6</th>\n",
       "      <td>HepTh</td>\n",
       "      <td>Information</td>\n",
       "      <td>multi</td>\n",
       "      <td>6798</td>\n",
       "      <td>0.757</td>\n",
       "      <td>0.835</td>\n",
       "      <td>0.730</td>\n",
       "      <td>0.819</td>\n",
       "    </tr>\n",
       "    <tr>\n",
       "      <th>2</th>\n",
       "      <td>HepPh</td>\n",
       "      <td>Information</td>\n",
       "      <td>multi</td>\n",
       "      <td>16959</td>\n",
       "      <td>0.828</td>\n",
       "      <td>0.879</td>\n",
       "      <td>0.760</td>\n",
       "      <td>0.868</td>\n",
       "    </tr>\n",
       "    <tr>\n",
       "      <th>5</th>\n",
       "      <td>Condm</td>\n",
       "      <td>Social</td>\n",
       "      <td>multi</td>\n",
       "      <td>17218</td>\n",
       "      <td>0.688</td>\n",
       "      <td>0.760</td>\n",
       "      <td>0.630</td>\n",
       "      <td>0.728</td>\n",
       "    </tr>\n",
       "    <tr>\n",
       "      <th>14</th>\n",
       "      <td>SX-MO</td>\n",
       "      <td>Social</td>\n",
       "      <td>multi</td>\n",
       "      <td>24818</td>\n",
       "      <td>0.859</td>\n",
       "      <td>0.944</td>\n",
       "      <td>0.800</td>\n",
       "      <td>0.933</td>\n",
       "    </tr>\n",
       "    <tr>\n",
       "      <th>9</th>\n",
       "      <td>D-rep</td>\n",
       "      <td>Social</td>\n",
       "      <td>simple</td>\n",
       "      <td>30398</td>\n",
       "      <td>0.837</td>\n",
       "      <td>0.866</td>\n",
       "      <td>0.866</td>\n",
       "      <td>0.865</td>\n",
       "    </tr>\n",
       "    <tr>\n",
       "      <th>28</th>\n",
       "      <td>Rbody</td>\n",
       "      <td>Technological</td>\n",
       "      <td>multi</td>\n",
       "      <td>35010</td>\n",
       "      <td>0.880</td>\n",
       "      <td>0.905</td>\n",
       "      <td>0.760</td>\n",
       "      <td>0.890</td>\n",
       "    </tr>\n",
       "    <tr>\n",
       "      <th>29</th>\n",
       "      <td>Rtit</td>\n",
       "      <td>Technological</td>\n",
       "      <td>multi</td>\n",
       "      <td>53018</td>\n",
       "      <td>0.903</td>\n",
       "      <td>0.931</td>\n",
       "      <td>0.810</td>\n",
       "      <td>0.925</td>\n",
       "    </tr>\n",
       "    <tr>\n",
       "      <th>4</th>\n",
       "      <td>FB-w</td>\n",
       "      <td>Social</td>\n",
       "      <td>simple</td>\n",
       "      <td>55387</td>\n",
       "      <td>0.762</td>\n",
       "      <td>0.809</td>\n",
       "      <td>0.809</td>\n",
       "      <td>0.788</td>\n",
       "    </tr>\n",
       "    <tr>\n",
       "      <th>8</th>\n",
       "      <td>FB-l</td>\n",
       "      <td>Social</td>\n",
       "      <td>simple</td>\n",
       "      <td>55387</td>\n",
       "      <td>0.762</td>\n",
       "      <td>0.803</td>\n",
       "      <td>0.803</td>\n",
       "      <td>0.775</td>\n",
       "    </tr>\n",
       "    <tr>\n",
       "      <th>3</th>\n",
       "      <td>Enron</td>\n",
       "      <td>Social</td>\n",
       "      <td>multi</td>\n",
       "      <td>87273</td>\n",
       "      <td>0.847</td>\n",
       "      <td>0.912</td>\n",
       "      <td>0.750</td>\n",
       "      <td>0.909</td>\n",
       "    </tr>\n",
       "    <tr>\n",
       "      <th>24</th>\n",
       "      <td>loans</td>\n",
       "      <td>Information</td>\n",
       "      <td>simple</td>\n",
       "      <td>89269</td>\n",
       "      <td>0.786</td>\n",
       "      <td>0.947</td>\n",
       "      <td>0.947</td>\n",
       "      <td>0.946</td>\n",
       "    </tr>\n",
       "    <tr>\n",
       "      <th>16</th>\n",
       "      <td>trust</td>\n",
       "      <td>Social</td>\n",
       "      <td>simple</td>\n",
       "      <td>114467</td>\n",
       "      <td>0.889</td>\n",
       "      <td>0.936</td>\n",
       "      <td>0.936</td>\n",
       "      <td>0.937</td>\n",
       "    </tr>\n",
       "    <tr>\n",
       "      <th>25</th>\n",
       "      <td>Wiki</td>\n",
       "      <td>Social</td>\n",
       "      <td>multi</td>\n",
       "      <td>116836</td>\n",
       "      <td>0.864</td>\n",
       "      <td>0.936</td>\n",
       "      <td>0.780</td>\n",
       "      <td>0.939</td>\n",
       "    </tr>\n",
       "    <tr>\n",
       "      <th>11</th>\n",
       "      <td>D-v</td>\n",
       "      <td>Information</td>\n",
       "      <td>simple</td>\n",
       "      <td>139409</td>\n",
       "      <td>0.933</td>\n",
       "      <td>0.941</td>\n",
       "      <td>0.941</td>\n",
       "      <td>0.939</td>\n",
       "    </tr>\n",
       "    <tr>\n",
       "      <th>22</th>\n",
       "      <td>SX-AU</td>\n",
       "      <td>Social</td>\n",
       "      <td>multi</td>\n",
       "      <td>159316</td>\n",
       "      <td>0.937</td>\n",
       "      <td>0.970</td>\n",
       "      <td>0.900</td>\n",
       "      <td>0.970</td>\n",
       "    </tr>\n",
       "    <tr>\n",
       "      <th>23</th>\n",
       "      <td>SX-SU</td>\n",
       "      <td>Social</td>\n",
       "      <td>multi</td>\n",
       "      <td>194085</td>\n",
       "      <td>0.921</td>\n",
       "      <td>0.965</td>\n",
       "      <td>0.880</td>\n",
       "      <td>0.961</td>\n",
       "    </tr>\n",
       "    <tr>\n",
       "      <th>10</th>\n",
       "      <td>D-f</td>\n",
       "      <td>Social</td>\n",
       "      <td>simple</td>\n",
       "      <td>279374</td>\n",
       "      <td>0.891</td>\n",
       "      <td>0.926</td>\n",
       "      <td>0.926</td>\n",
       "      <td>0.924</td>\n",
       "    </tr>\n",
       "    <tr>\n",
       "      <th>7</th>\n",
       "      <td>AMin</td>\n",
       "      <td>Social</td>\n",
       "      <td>multi</td>\n",
       "      <td>855165</td>\n",
       "      <td>0.725</td>\n",
       "      <td>0.849</td>\n",
       "      <td>0.700</td>\n",
       "      <td>0.816</td>\n",
       "    </tr>\n",
       "    <tr>\n",
       "      <th>1</th>\n",
       "      <td>DBLP</td>\n",
       "      <td>Social</td>\n",
       "      <td>multi</td>\n",
       "      <td>1824701</td>\n",
       "      <td>0.704</td>\n",
       "      <td>0.826</td>\n",
       "      <td>0.690</td>\n",
       "      <td>0.786</td>\n",
       "    </tr>\n",
       "  </tbody>\n",
       "</table>\n",
       "</div>"
      ],
      "text/plain": [
       "    label Scientific domain edge type    nodes      I   II-A   II-B    III\n",
       "12   Rado            Social     multi      167  0.864  0.921  0.830  0.902\n",
       "13     UC       Information     multi      899  0.731  0.893  0.640  0.873\n",
       "30     EU            Social     multi      986  0.839  0.873  0.790  0.849\n",
       "19    Dem            Social     multi     1891  0.920  0.944  0.840  0.938\n",
       "18   bitA            Social    simple     3683  0.868  0.945  0.945  0.940\n",
       "20  bitOT            Social    simple     5573  0.821  0.947  0.947  0.939\n",
       "21  chess       Information    simple     6050  0.665  0.735  0.735  0.736\n",
       "6   HepTh       Information     multi     6798  0.757  0.835  0.730  0.819\n",
       "2   HepPh       Information     multi    16959  0.828  0.879  0.760  0.868\n",
       "5   Condm            Social     multi    17218  0.688  0.760  0.630  0.728\n",
       "14  SX-MO            Social     multi    24818  0.859  0.944  0.800  0.933\n",
       "9   D-rep            Social    simple    30398  0.837  0.866  0.866  0.865\n",
       "28  Rbody     Technological     multi    35010  0.880  0.905  0.760  0.890\n",
       "29   Rtit     Technological     multi    53018  0.903  0.931  0.810  0.925\n",
       "4    FB-w            Social    simple    55387  0.762  0.809  0.809  0.788\n",
       "8    FB-l            Social    simple    55387  0.762  0.803  0.803  0.775\n",
       "3   Enron            Social     multi    87273  0.847  0.912  0.750  0.909\n",
       "24  loans       Information    simple    89269  0.786  0.947  0.947  0.946\n",
       "16  trust            Social    simple   114467  0.889  0.936  0.936  0.937\n",
       "25   Wiki            Social     multi   116836  0.864  0.936  0.780  0.939\n",
       "11    D-v       Information    simple   139409  0.933  0.941  0.941  0.939\n",
       "22  SX-AU            Social     multi   159316  0.937  0.970  0.900  0.970\n",
       "23  SX-SU            Social     multi   194085  0.921  0.965  0.880  0.961\n",
       "10    D-f            Social    simple   279374  0.891  0.926  0.926  0.924\n",
       "7    AMin            Social     multi   855165  0.725  0.849  0.700  0.816\n",
       "1    DBLP            Social     multi  1824701  0.704  0.826  0.690  0.786"
      ]
     },
     "execution_count": 285,
     "metadata": {},
     "output_type": "execute_result"
    }
   ],
   "source": [
    "table"
   ]
  },
  {
   "cell_type": "code",
   "execution_count": null,
   "id": "lyric-assumption",
   "metadata": {},
   "outputs": [],
   "source": []
  }
 ],
 "metadata": {
  "kernelspec": {
   "display_name": "Python 3",
   "language": "python",
   "name": "python3"
  },
  "language_info": {
   "codemirror_mode": {
    "name": "ipython",
    "version": 3
   },
   "file_extension": ".py",
   "mimetype": "text/x-python",
   "name": "python",
   "nbconvert_exporter": "python",
   "pygments_lexer": "ipython3",
   "version": "3.9.2"
  }
 },
 "nbformat": 4,
 "nbformat_minor": 5
}
