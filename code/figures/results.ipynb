{
 "cells": [
  {
   "cell_type": "code",
   "execution_count": 1,
   "id": "wooden-inquiry",
   "metadata": {
    "execution": {
     "iopub.execute_input": "2021-03-12T11:33:29.569932Z",
     "iopub.status.busy": "2021-03-12T11:33:29.569699Z",
     "iopub.status.idle": "2021-03-12T11:33:30.380572Z",
     "shell.execute_reply": "2021-03-12T11:33:30.379862Z",
     "shell.execute_reply.started": "2021-03-12T11:33:29.569888Z"
    },
    "tags": []
   },
   "outputs": [
    {
     "name": "stdout",
     "output_type": "stream",
     "text": [
      "/scratch/bruingjde/SNAM2021-code\n"
     ]
    }
   ],
   "source": [
    "%cd /scratch/bruingjde/SNAM2021-code/\n",
    "\n",
    "from constants import *"
   ]
  },
  {
   "cell_type": "markdown",
   "id": "collected-insider",
   "metadata": {},
   "source": [
    "# Time agnostic"
   ]
  },
  {
   "cell_type": "code",
   "execution_count": 3,
   "id": "innocent-alarm",
   "metadata": {
    "execution": {
     "iopub.execute_input": "2021-03-12T11:34:15.619162Z",
     "iopub.status.busy": "2021-03-12T11:34:15.618811Z",
     "iopub.status.idle": "2021-03-12T11:34:17.315268Z",
     "shell.execute_reply": "2021-03-12T11:34:17.314179Z",
     "shell.execute_reply.started": "2021-03-12T11:34:15.619129Z"
    },
    "tags": []
   },
   "outputs": [],
   "source": [
    "def logistic_regression_I(network: int):\n",
    "  X = dict()\n",
    "  for heuristic in ['aa', 'cn', 'jc', 'pa']:\n",
    "    X[heuristic] = np.load(f'data/{network:02}/features/time_agnostic/{heuristic}.npy')\n",
    "  X = pd.DataFrame(X)\n",
    "    \n",
    "  y = np.load(f'data/{network:02}/targets_sampled.npy')\n",
    "  \n",
    "  X_train, X_test, y_train, y_test = (\n",
    "    sklearn.model_selection.train_test_split(X, y))\n",
    "  pipe = sklearn.pipeline.make_pipeline(\n",
    "    sklearn.preprocessing.StandardScaler(),\n",
    "    sklearn.linear_model.LogisticRegression(max_iter=10000)) # type: ignore\n",
    "  pipe.fit(X_train, y_train)\n",
    "  \n",
    "  auc = sklearn.metrics.roc_auc_score(\n",
    "    y_true=y_test, y_score=pipe.predict_proba(X_test)[:,1]) # type: ignore\n",
    "  \n",
    "  return auc\n",
    "\n",
    "time_agnostic_performance = {\n",
    "  network: logistic_regression_I(network) for network in network_indices}"
   ]
  },
  {
   "cell_type": "markdown",
   "id": "popular-hypothesis",
   "metadata": {},
   "source": [
    "# Time aware"
   ]
  },
  {
   "cell_type": "code",
   "execution_count": 4,
   "id": "serial-independence",
   "metadata": {
    "execution": {
     "iopub.execute_input": "2021-03-12T11:34:21.183248Z",
     "iopub.status.busy": "2021-03-12T11:34:21.182892Z",
     "iopub.status.idle": "2021-03-12T11:35:30.407611Z",
     "shell.execute_reply": "2021-03-12T11:35:30.406609Z",
     "shell.execute_reply.started": "2021-03-12T11:34:21.183212Z"
    },
    "tags": []
   },
   "outputs": [],
   "source": [
    "def logistic_regression_I_II_III_hypergraph(network: int):\n",
    "  X = dict()\n",
    "  # Type I features\n",
    "  for heuristic in ['aa', 'cn', 'jc', 'pa']:\n",
    "    X[heuristic] = (\n",
    "      np.load(f'data/{network:02}/features/time_agnostic/{heuristic}.npy'))\n",
    "    \n",
    "  # Type II features\n",
    "  for time_strategy in time_strategies:\n",
    "    for nodepair_strategy in nodepair_strategies:\n",
    "      for aggregation_strategy in ['q0', 'q25', 'q50', 'q75', 'q100', \n",
    "                                   'm0', 'm1', 'm2', 'm3']:\n",
    "        X[(time_strategy, nodepair_strategy, aggregation_strategy)] = (\n",
    "          np.load(\n",
    "            f'data/{network:02}/features/time_node/'\n",
    "            f'{time_strategy}_{nodepair_strategy}_{aggregation_strategy}.npy'))\n",
    "  # Type III features      \n",
    "  for heuristic in ['aa', 'cn', 'jc', 'pa']:  \n",
    "    for time_strategy in time_strategies:\n",
    "      for aggregation_strategy in ['q0', 'q25', 'q50', 'q75', 'q100', \n",
    "                                   'm0', 'm1']:\n",
    "          X[(heuristic, time_strategy, aggregation_strategy)] = (\n",
    "            np.load(\n",
    "              f'data/{network:02}/features/time_edge/'\n",
    "              f'{heuristic}_{time_strategy}_{aggregation_strategy}.npy'))\n",
    "    \n",
    "  X = pd.DataFrame(X)\n",
    "    \n",
    "  y = np.load(f'data/{network:02}/targets_sampled.npy')\n",
    "  \n",
    "  X_train, X_test, y_train, y_test = (\n",
    "    sklearn.model_selection.train_test_split(X, y))\n",
    "  pipe = sklearn.pipeline.make_pipeline(\n",
    "    sklearn.preprocessing.StandardScaler(),\n",
    "    sklearn.linear_model.LogisticRegression(max_iter=10000))\n",
    "  pipe.fit(X_train, y_train)\n",
    "  \n",
    "  auc = sklearn.metrics.roc_auc_score(\n",
    "    y_true=y_test, y_score=pipe.predict_proba(X_test)[:,1])\n",
    "  \n",
    "  return auc\n",
    "\n",
    "def logistic_regression_I_II_III_simplegraph(network: int):\n",
    "  X = dict()\n",
    "  # Type I\n",
    "  for heuristic in ['aa', 'cn', 'jc', 'pa']:\n",
    "    X[heuristic] = (\n",
    "      np.load(f'data/{network:02}/features/time_agnostic/{heuristic}.npy'))\n",
    "  # Type II \n",
    "  for time_strategy in time_strategies:\n",
    "    for nodepair_strategy in nodepair_strategies:\n",
    "        X[(time_strategy, nodepair_strategy)] = (\n",
    "          np.load(\n",
    "            f'data/{network:02}/features/time_node/'\n",
    "            f'{time_strategy}_{nodepair_strategy}.npy'))\n",
    "  # Type III\n",
    "  for heuristic in ['aa', 'cn', 'jc', 'pa']:  \n",
    "    for time_strategy in time_strategies:\n",
    "      X[(heuristic, time_strategy)] = (\n",
    "        np.load(\n",
    "          f'data/{network:02}/features/time_edge/'\n",
    "          f'{heuristic}_{time_strategy}.npy'))\n",
    "      \n",
    "  X = pd.DataFrame(X)\n",
    "    \n",
    "  y = np.load(f'data/{network:02}/targets_sampled.npy')\n",
    "  \n",
    "  X_train, X_test, y_train, y_test = (\n",
    "    sklearn.model_selection.train_test_split(X, y))\n",
    "  pipe = sklearn.pipeline.make_pipeline(\n",
    "    sklearn.preprocessing.StandardScaler(),\n",
    "    sklearn.linear_model.LogisticRegression(max_iter=10000))\n",
    "  pipe.fit(X_train, y_train)\n",
    "  \n",
    "  auc = sklearn.metrics.roc_auc_score(\n",
    "    y_true=y_test, y_score=pipe.predict_proba(X_test)[:,1])\n",
    "  \n",
    "  return auc\n",
    "\n",
    "time_aware_performance = {\n",
    "  network: logistic_regression_I_II_III_hypergraph(network) \n",
    "  for network in hypergraph_indices} | {\n",
    "  network: logistic_regression_I_II_III_simplegraph(network) \n",
    "  for network in simplegraph_indices\n",
    "}"
   ]
  },
  {
   "cell_type": "code",
   "execution_count": 16,
   "id": "joint-mobility",
   "metadata": {
    "execution": {
     "iopub.execute_input": "2021-03-12T11:40:13.463727Z",
     "iopub.status.busy": "2021-03-12T11:40:13.463185Z",
     "iopub.status.idle": "2021-03-12T11:40:13.476744Z",
     "shell.execute_reply": "2021-03-12T11:40:13.475467Z",
     "shell.execute_reply.started": "2021-03-12T11:40:13.463692Z"
    },
    "tags": []
   },
   "outputs": [],
   "source": [
    "ylabel = 'time aware (AUC)'\n",
    "xlabel = 'time agnostic (AUC)'\n",
    "\n",
    "df = pd.concat(\n",
    "  {\n",
    "    ylabel: pd.Series(time_aware_performance), \n",
    "    xlabel: pd.Series(time_agnostic_performance)\n",
    "  },\n",
    "  axis=1)\n",
    "df['category'] = get_networks()['category']"
   ]
  },
  {
   "cell_type": "code",
   "execution_count": 19,
   "id": "proprietary-trout",
   "metadata": {
    "execution": {
     "iopub.execute_input": "2021-03-12T11:42:27.287543Z",
     "iopub.status.busy": "2021-03-12T11:42:27.287210Z",
     "iopub.status.idle": "2021-03-12T11:42:28.236951Z",
     "shell.execute_reply": "2021-03-12T11:42:28.236036Z",
     "shell.execute_reply.started": "2021-03-12T11:42:27.287507Z"
    },
    "tags": []
   },
   "outputs": [
    {
     "data": {
      "image/png": "[encoded data removed]",
      "text/plain": [
       "<Figure size 288x288 with 1 Axes>"
      ]
     },
     "metadata": {
      "needs_background": "light"
     },
     "output_type": "display_data"
    }
   ],
   "source": [
    "auc_values = df[[ylabel, xlabel]].values.flatten()\n",
    "lim = (min(auc_values), max(auc_values))\n",
    "\n",
    "with plt.rc_context(rc):\n",
    "  sns.scatterplot(data=df, x=xlabel, y=ylabel, \n",
    "                  hue='category', style='category')\n",
    "  sns.regplot(data=df, x=xlabel, y=ylabel, \n",
    "              scatter=False, color='black')\n",
    "  plt.axline((0,0), (1,1), ls='--', c='black')\n",
    "  plt.xlim(lim)\n",
    "  plt.ylim(lim)\n",
    "  ax = plt.gca()\n",
    "  ax.xaxis.set_minor_locator(matplotlib.ticker.MultipleLocator(.01))\n",
    "  ax.yaxis.set_minor_locator(matplotlib.ticker.MultipleLocator(.01))\n",
    "  plt.tight_layout()\n",
    "  plt.savefig('code/figures/output/results.pdf')"
   ]
  },
  {
   "cell_type": "code",
   "execution_count": 21,
   "id": "rotary-chancellor",
   "metadata": {
    "execution": {
     "iopub.execute_input": "2021-03-12T11:44:02.474140Z",
     "iopub.status.busy": "2021-03-12T11:44:02.473779Z",
     "iopub.status.idle": "2021-03-12T11:44:02.478551Z",
     "shell.execute_reply": "2021-03-12T11:44:02.477735Z",
     "shell.execute_reply.started": "2021-03-12T11:44:02.474104Z"
    },
    "tags": []
   },
   "outputs": [],
   "source": [
    "labels = networks.copy()"
   ]
  },
  {
   "cell_type": "code",
   "execution_count": 44,
   "id": "expensive-maldives",
   "metadata": {
    "execution": {
     "iopub.execute_input": "2021-03-12T11:54:12.451746Z",
     "iopub.status.busy": "2021-03-12T11:54:12.451402Z",
     "iopub.status.idle": "2021-03-12T11:54:12.457163Z",
     "shell.execute_reply": "2021-03-12T11:54:12.456313Z",
     "shell.execute_reply.started": "2021-03-12T11:54:12.451712Z"
    },
    "tags": []
   },
   "outputs": [],
   "source": [
    "node = pd.read_pickle('code/figures/temp.pkl')"
   ]
  },
  {
   "cell_type": "code",
   "execution_count": 61,
   "id": "attended-toronto",
   "metadata": {
    "execution": {
     "iopub.execute_input": "2021-03-12T11:58:51.017113Z",
     "iopub.status.busy": "2021-03-12T11:58:51.016836Z",
     "iopub.status.idle": "2021-03-12T11:58:51.025898Z",
     "shell.execute_reply": "2021-03-12T11:58:51.025311Z",
     "shell.execute_reply.started": "2021-03-12T11:58:51.017096Z"
    },
    "tags": []
   },
   "outputs": [],
   "source": [
    "merged = pd.concat([df.round(2).drop(columns='category'), labels, node.round(2).drop(columns='category')], axis=1)"
   ]
  },
  {
   "cell_type": "code",
   "execution_count": 62,
   "id": "norwegian-differential",
   "metadata": {
    "execution": {
     "iopub.execute_input": "2021-03-12T11:58:51.517610Z",
     "iopub.status.busy": "2021-03-12T11:58:51.517400Z",
     "iopub.status.idle": "2021-03-12T11:58:51.533709Z",
     "shell.execute_reply": "2021-03-12T11:58:51.533233Z",
     "shell.execute_reply.started": "2021-03-12T11:58:51.517585Z"
    },
    "tags": []
   },
   "outputs": [
    {
     "name": "stdout",
     "output_type": "stream",
     "text": [
      "\\begin{table}\n",
      "\\centering\n",
      "\\caption{Performance obtained for feature set I-III.}\n",
      "\\label{table:results}\n",
      "\\begin{tabular}{llrrr}\n",
      "\\toprule\n",
      "label &      category &  I (AUC) &  II (AUC) &  III (AUC) \\\\\n",
      "\\midrule\n",
      " DBLP &        social &     0.70 &      0.83 &       0.79 \\\\\n",
      "HepPh &   information &     0.83 &      0.88 &       0.87 \\\\\n",
      "Enron &        social &     0.85 &      0.91 &       0.91 \\\\\n",
      " FB-w &        social &     0.76 &      0.81 &       0.79 \\\\\n",
      "Condm &        social &     0.69 &      0.76 &       0.73 \\\\\n",
      "HepTh &   information &     0.76 &      0.83 &       0.82 \\\\\n",
      " AMin &        social &     0.73 &      0.85 &       0.82 \\\\\n",
      " FB-l &        social &     0.76 &      0.80 &       0.78 \\\\\n",
      "D-rep &        social &     0.84 &      0.87 &       0.87 \\\\\n",
      "  D-f &        social &     0.89 &      0.93 &       0.92 \\\\\n",
      "  D-v &   information &     0.93 &      0.94 &       0.94 \\\\\n",
      " Rado &        social &     0.86 &      0.92 &       0.90 \\\\\n",
      "   UC &   information &     0.73 &      0.89 &       0.87 \\\\\n",
      "SX-MO &        social &     0.86 &      0.94 &       0.93 \\\\\n",
      "trust &        social &     0.89 &      0.94 &       0.94 \\\\\n",
      " bitA &        social &     0.87 &      0.94 &       0.94 \\\\\n",
      "  Dem &        social &     0.92 &      0.94 &       0.94 \\\\\n",
      "bitOT &        social &     0.82 &      0.95 &       0.94 \\\\\n",
      "chess &   information &     0.66 &      0.73 &       0.74 \\\\\n",
      "SX-AU &        social &     0.94 &      0.97 &       0.97 \\\\\n",
      "SX-SU &        social &     0.92 &      0.97 &       0.96 \\\\\n",
      "loans &   information &     0.79 &      0.95 &       0.95 \\\\\n",
      " Wiki &        social &     0.86 &      0.94 &       0.94 \\\\\n",
      "Rbody & technological &     0.88 &      0.90 &       0.89 \\\\\n",
      " Rtit & technological &     0.90 &      0.93 &       0.92 \\\\\n",
      "   EU &        social &     0.84 &      0.87 &       0.85 \\\\\n",
      "\\bottomrule\n",
      "\\end{tabular}\n",
      "\\end{table}\n",
      "\n"
     ]
    }
   ],
   "source": [
    "print(\n",
    "  merged[['label', 'category', 'time agnostic (AUC)', 'time aware (AUC)', 'auc (node activity + static features)']].rename(\n",
    "    columns={'time agnostic (AUC)': 'I (AUC)', 'time aware (AUC)': 'II (AUC)', 'auc (node activity + static features)': 'III (AUC)'}\n",
    "  ).to_latex(\n",
    "    index=False,\n",
    "    caption=('Performance obtained for feature set I-III.'),\n",
    "    label='table:results',\n",
    "    escape=False,\n",
    "    multicolumn=False))"
   ]
  },
  {
   "cell_type": "code",
   "execution_count": null,
   "id": "convenient-protection",
   "metadata": {},
   "outputs": [],
   "source": []
  }
 ],
 "metadata": {
  "kernelspec": {
   "display_name": "Python 3",
   "language": "python",
   "name": "python3"
  },
  "language_info": {
   "codemirror_mode": {
    "name": "ipython",
    "version": 3
   },
   "file_extension": ".py",
   "mimetype": "text/x-python",
   "name": "python",
   "nbconvert_exporter": "python",
   "pygments_lexer": "ipython3",
   "version": "3.9.2"
  }
 },
 "nbformat": 4,
 "nbformat_minor": 5
}
