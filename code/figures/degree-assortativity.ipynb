{
 "cells": [
  {
   "cell_type": "markdown",
   "id": "generic-vulnerability",
   "metadata": {
    "execution": {
     "iopub.execute_input": "2021-03-12T12:03:13.839616Z",
     "iopub.status.busy": "2021-03-12T12:03:13.839239Z",
     "iopub.status.idle": "2021-03-12T12:03:15.543760Z",
     "shell.execute_reply": "2021-03-12T12:03:15.542588Z",
     "shell.execute_reply.started": "2021-03-12T12:03:13.839521Z"
    }
   },
   "source": [
    "# %cd /scratch/bruingjde/SNAM2021-code/\n",
    "\n",
    "from constants import *"
   ]
  },
  {
   "cell_type": "markdown",
   "id": "fluid-license",
   "metadata": {},
   "source": [
    "# Stats"
   ]
  },
  {
   "cell_type": "code",
   "execution_count": 2,
   "id": "vital-transition",
   "metadata": {
    "execution": {
     "iopub.execute_input": "2021-03-12T12:03:15.545261Z",
     "iopub.status.busy": "2021-03-12T12:03:15.545039Z",
     "iopub.status.idle": "2021-03-12T12:03:15.581709Z",
     "shell.execute_reply": "2021-03-12T12:03:15.580937Z",
     "shell.execute_reply.started": "2021-03-12T12:03:15.545236Z"
    }
   },
   "outputs": [
    {
     "data": {
      "application/vnd.jupyter.widget-view+json": {
       "model_id": "be48d526a19c4301a9c4daa711a6d7e0",
       "version_major": 2,
       "version_minor": 0
      },
      "text/plain": [
       "  0%|          | 0/26 [00:00<?, ?it/s]"
      ]
     },
     "metadata": {},
     "output_type": "display_data"
    }
   ],
   "source": [
    "stats = get_all_stats()"
   ]
  },
  {
   "cell_type": "markdown",
   "id": "fatty-watch",
   "metadata": {},
   "source": [
    "# Static features"
   ]
  },
  {
   "cell_type": "code",
   "execution_count": 3,
   "id": "instant-november",
   "metadata": {
    "execution": {
     "iopub.execute_input": "2021-03-12T12:03:15.583423Z",
     "iopub.status.busy": "2021-03-12T12:03:15.583243Z",
     "iopub.status.idle": "2021-03-12T12:03:17.433495Z",
     "shell.execute_reply": "2021-03-12T12:03:17.432442Z",
     "shell.execute_reply.started": "2021-03-12T12:03:15.583401Z"
    }
   },
   "outputs": [
    {
     "data": {
      "text/plain": [
       "{1: 0.6943646956213696,\n",
       " 2: 0.814371163565029,\n",
       " 3: 0.8505774106994708,\n",
       " 4: 0.7595517011076042,\n",
       " 5: 0.6848675761797249,\n",
       " 6: 0.7575504191952863,\n",
       " 7: 0.7218393889648314,\n",
       " 8: 0.763940739114067,\n",
       " 9: 0.8427168670640854,\n",
       " 10: 0.8912314732390386,\n",
       " 11: 0.9327225243145959,\n",
       " 12: 0.8562968321198902,\n",
       " 13: 0.7260811846919581,\n",
       " 14: 0.8726773028620881,\n",
       " 16: 0.8861937918881752,\n",
       " 18: 0.8601321834363183,\n",
       " 19: 0.924298522510412,\n",
       " 20: 0.8240534248547976,\n",
       " 21: 0.6791120269644051,\n",
       " 22: 0.9337325316708394,\n",
       " 23: 0.9177313891187734,\n",
       " 24: 0.7828615123238073,\n",
       " 25: 0.8674034643954918,\n",
       " 28: 0.8776051267281106,\n",
       " 29: 0.9137990291257476,\n",
       " 30: 0.8264720506161171}"
      ]
     },
     "execution_count": 3,
     "metadata": {},
     "output_type": "execute_result"
    }
   ],
   "source": [
    "def logistic_regression_I(network_index: int):\n",
    "  X = dict()\n",
    "  for heuristic in ['aa', 'cn', 'jc', 'pa']:\n",
    "    X[heuristic] = np.load(\n",
    "      f'data/{network_index:02}/features/time_agnostic/{heuristic}.npy')\n",
    "  X = pd.DataFrame(X)\n",
    "    \n",
    "  y = np.load(f'data/{network_index:02}/targets_sampled.npy')\n",
    "  \n",
    "  X_train, X_test, y_train, y_test = (\n",
    "    sklearn.model_selection.train_test_split(X, y))\n",
    "  pipe = sklearn.pipeline.make_pipeline(\n",
    "    sklearn.preprocessing.StandardScaler(),\n",
    "    sklearn.linear_model.LogisticRegression(max_iter=10000)) # type: ignore\n",
    "  pipe.fit(X_train, y_train)\n",
    "  \n",
    "  auc = sklearn.metrics.roc_auc_score(\n",
    "    y_true=y_test, y_score=pipe.predict_proba(X_test)[:,1]) # type: ignore\n",
    "  \n",
    "  return auc\n",
    "\n",
    "auc_I = {\n",
    "  network_index: logistic_regression_I(network_index) \n",
    "  for network_index in network_indices}\n",
    "auc_I"
   ]
  },
  {
   "cell_type": "markdown",
   "id": "russian-winter",
   "metadata": {},
   "source": [
    "# Node temporal and static features"
   ]
  },
  {
   "cell_type": "code",
   "execution_count": 4,
   "id": "operating-surge",
   "metadata": {
    "execution": {
     "iopub.execute_input": "2021-03-12T12:03:17.435552Z",
     "iopub.status.busy": "2021-03-12T12:03:17.435284Z",
     "iopub.status.idle": "2021-03-12T12:03:45.291194Z",
     "shell.execute_reply": "2021-03-12T12:03:45.290287Z",
     "shell.execute_reply.started": "2021-03-12T12:03:17.435519Z"
    }
   },
   "outputs": [
    {
     "data": {
      "text/plain": [
       "{1: 0.797024969443604,\n",
       " 2: 0.8611126044482673,\n",
       " 3: 0.9025604121748383,\n",
       " 4: 0.7818790899320651,\n",
       " 5: 0.7295156836303893,\n",
       " 6: 0.8270100805780308,\n",
       " 7: 0.8251423246007413,\n",
       " 8: 0.7890008367686615,\n",
       " 9: 0.8674021638966845,\n",
       " 10: 0.9200984844763588,\n",
       " 11: 0.9313523547390824,\n",
       " 12: 0.9004777440764391,\n",
       " 13: 0.8756213372624422,\n",
       " 14: 0.9319682487207037,\n",
       " 16: 0.9419515161813531,\n",
       " 18: 0.9326531592087575,\n",
       " 19: 0.9365869947410896,\n",
       " 20: 0.9443199091185459,\n",
       " 21: 0.7232918218838085,\n",
       " 22: 0.9702011830949048,\n",
       " 23: 0.9640886630447099,\n",
       " 24: 0.9489048805757009,\n",
       " 25: 0.9362226934461071,\n",
       " 28: 0.8957685587136702,\n",
       " 29: 0.9264780813859331,\n",
       " 30: 0.8404139959227188}"
      ]
     },
     "execution_count": 4,
     "metadata": {},
     "output_type": "execute_result"
    }
   ],
   "source": [
    "def logistic_regression_I_II(network_index: int, hypergraph: bool):\n",
    "  X = dict()\n",
    "  for heuristic in ['aa', 'cn', 'jc', 'pa']:\n",
    "    X[heuristic] = (\n",
    "      np.load(\n",
    "        f'data/{network_index:02}/features/time_agnostic/{heuristic}.npy'))\n",
    "    \n",
    "  if hypergraph:\n",
    "    for time_strategy in time_strategies:\n",
    "      for nodepair_strategy in nodepair_strategies:\n",
    "        for aggregation_strategy in ['m0', 'm1', 'm2', 'm3', 'q0', 'q25', 'q50', 'q75', 'q100']:\n",
    "          X[(time_strategy, nodepair_strategy, aggregation_strategy)] = (\n",
    "            np.load(\n",
    "              f'data/{network_index:02}/features/time_node/'\n",
    "              f'{time_strategy}_{nodepair_strategy}_{aggregation_strategy}.npy'\n",
    "            ))\n",
    "  else:\n",
    "    for time_strategy in time_strategies:\n",
    "      for nodepair_strategy in nodepair_strategies:\n",
    "          X[(time_strategy, nodepair_strategy)] = (\n",
    "            np.load(\n",
    "              f'data/{network_index:02}/features/time_node/'\n",
    "              f'{time_strategy}_{nodepair_strategy}.npy'))\n",
    "    \n",
    "  X = pd.DataFrame(X)\n",
    "    \n",
    "  y = np.load(f'data/{network_index:02}/targets_sampled.npy')\n",
    "  \n",
    "  X_train, X_test, y_train, y_test = (\n",
    "    sklearn.model_selection.train_test_split(X, y))\n",
    "  pipe = sklearn.pipeline.make_pipeline(\n",
    "    sklearn.preprocessing.StandardScaler(),\n",
    "    sklearn.linear_model.LogisticRegression(max_iter=10000))\n",
    "  pipe.fit(X_train, y_train)\n",
    "  \n",
    "  auc = sklearn.metrics.roc_auc_score(\n",
    "    y_true=y_test, y_score=pipe.predict_proba(X_test)[:,1])\n",
    "  \n",
    "  return auc\n",
    "\n",
    "auc_I_II = {\n",
    "  network_index: (\n",
    "    logistic_regression_I_II(\n",
    "      network_index, hypergraph=network_index in hypergraph_indices\n",
    "    )\n",
    "  )\n",
    "  for network_index in network_indices\n",
    "}\n",
    "auc_I_II"
   ]
  },
  {
   "cell_type": "markdown",
   "id": "authentic-harvest",
   "metadata": {},
   "source": [
    "# Edge temporal features"
   ]
  },
  {
   "cell_type": "code",
   "execution_count": 5,
   "id": "pending-uganda",
   "metadata": {
    "execution": {
     "iopub.execute_input": "2021-03-12T12:03:45.292656Z",
     "iopub.status.busy": "2021-03-12T12:03:45.292474Z",
     "iopub.status.idle": "2021-03-12T12:03:58.817854Z",
     "shell.execute_reply": "2021-03-12T12:03:58.817101Z",
     "shell.execute_reply.started": "2021-03-12T12:03:45.292632Z"
    }
   },
   "outputs": [
    {
     "data": {
      "text/plain": [
       "{1: 0.8179688829594346,\n",
       " 2: 0.8411743308254239,\n",
       " 3: 0.8835700131809736,\n",
       " 4: 0.7900205747983281,\n",
       " 5: 0.7504979470037488,\n",
       " 6: 0.8084422785908887,\n",
       " 7: 0.8423927097415099,\n",
       " 8: 0.802563925314162,\n",
       " 9: 0.8393173061920136,\n",
       " 10: 0.9222488511059931,\n",
       " 11: 0.9388950008928006,\n",
       " 12: 0.8906935827895325,\n",
       " 13: 0.7989561347692283,\n",
       " 14: 0.9221595545528729,\n",
       " 16: 0.9280338891481368,\n",
       " 18: 0.9279218764079165,\n",
       " 19: 0.9251901190119012,\n",
       " 20: 0.9341720222814056,\n",
       " 21: 0.7300710997974137,\n",
       " 22: 0.9605346944389338,\n",
       " 23: 0.9494502380240284,\n",
       " 24: 0.8791991549836757,\n",
       " 25: 0.9047031659651386,\n",
       " 28: 0.8952045536148014,\n",
       " 29: 0.9145807703132394,\n",
       " 30: 0.8535604023886202}"
      ]
     },
     "execution_count": 5,
     "metadata": {},
     "output_type": "execute_result"
    }
   ],
   "source": [
    "def logistic_regression_III(\n",
    "    network_index: int, hypergraph: bool):\n",
    "  aggregation_strategies = ['m0', 'm1', 'q0', 'q25', 'q50', 'q75', 'q100']\n",
    "  X = dict()\n",
    "  \n",
    "  for heuristic in ['aa', 'cn', 'jc', 'pa']:  \n",
    "    for time_strategy in time_strategies:\n",
    "      if hypergraph:\n",
    "        for aggregation_strategy in aggregation_strategies:\n",
    "            X[(heuristic, time_strategy, aggregation_strategy)] = np.load(\n",
    "                f'data/{network_index:02}/features/time_edge/'\n",
    "                f'{heuristic}_{time_strategy}_{aggregation_strategy}.npy')\n",
    "      else:\n",
    "        X[(heuristic, time_strategy)] = np.load(\n",
    "          f'data/{network_index:02}/features/time_edge/'\n",
    "          f'{heuristic}_{time_strategy}.npy')\n",
    "    \n",
    "  X = pd.DataFrame(X)\n",
    "    \n",
    "  y = np.load(f'data/{network_index:02}/targets_sampled.npy')\n",
    "  \n",
    "  X_train, X_test, y_train, y_test = (\n",
    "    sklearn.model_selection.train_test_split(X, y))\n",
    "  pipe = sklearn.pipeline.make_pipeline(\n",
    "    sklearn.preprocessing.StandardScaler(),\n",
    "    sklearn.linear_model.LogisticRegression(max_iter=10000))\n",
    "  pipe.fit(X_train, y_train)\n",
    "  \n",
    "  auc = sklearn.metrics.roc_auc_score(\n",
    "    y_true=y_test, y_score=pipe.predict_proba(X_test)[:,1])\n",
    "  \n",
    "  return auc\n",
    "\n",
    "auc_III = {\n",
    "  network_index: logistic_regression_III(\n",
    "    network_index, hypergraph=network_index in hypergraph_indices)\n",
    "  for network_index in network_indices}\n",
    "auc_III"
   ]
  },
  {
   "cell_type": "markdown",
   "id": "constitutional-oracle",
   "metadata": {},
   "source": [
    "# Figure"
   ]
  },
  {
   "cell_type": "code",
   "execution_count": 6,
   "id": "dying-pillow",
   "metadata": {
    "execution": {
     "iopub.execute_input": "2021-03-12T12:03:58.818780Z",
     "iopub.status.busy": "2021-03-12T12:03:58.818661Z",
     "iopub.status.idle": "2021-03-12T12:03:58.822430Z",
     "shell.execute_reply": "2021-03-12T12:03:58.821902Z",
     "shell.execute_reply.started": "2021-03-12T12:03:58.818765Z"
    }
   },
   "outputs": [
    {
     "data": {
      "text/plain": [
       "Index(['edges', 'density (nx.MultiGraph)', 'fraction edges in GC', 'nodes',\n",
       "       'avg events per pair', 'density', 'degree assortativity',\n",
       "       'average clustering coefficient', 'fraction nodes in GC',\n",
       "       'avg events per pair in GC'],\n",
       "      dtype='object')"
      ]
     },
     "execution_count": 6,
     "metadata": {},
     "output_type": "execute_result"
    }
   ],
   "source": [
    "stats.columns"
   ]
  },
  {
   "cell_type": "code",
   "execution_count": 7,
   "id": "complicated-gnome",
   "metadata": {
    "execution": {
     "iopub.execute_input": "2021-03-12T12:03:58.823179Z",
     "iopub.status.busy": "2021-03-12T12:03:58.823070Z",
     "iopub.status.idle": "2021-03-12T12:04:00.340673Z",
     "shell.execute_reply": "2021-03-12T12:04:00.340094Z",
     "shell.execute_reply.started": "2021-03-12T12:03:58.823166Z"
    }
   },
   "outputs": [
    {
     "data": {
      "text/html": [
       "<div>\n",
       "<style scoped>\n",
       "    .dataframe tbody tr th:only-of-type {\n",
       "        vertical-align: middle;\n",
       "    }\n",
       "\n",
       "    .dataframe tbody tr th {\n",
       "        vertical-align: top;\n",
       "    }\n",
       "\n",
       "    .dataframe thead th {\n",
       "        text-align: right;\n",
       "    }\n",
       "</style>\n",
       "<table border=\"1\" class=\"dataframe\">\n",
       "  <thead>\n",
       "    <tr style=\"text-align: right;\">\n",
       "      <th></th>\n",
       "      <th>index</th>\n",
       "      <th>degree assortativity</th>\n",
       "      <th>experiment</th>\n",
       "      <th>auc</th>\n",
       "    </tr>\n",
       "  </thead>\n",
       "  <tbody>\n",
       "    <tr>\n",
       "      <th>0</th>\n",
       "      <td>1</td>\n",
       "      <td>0.114186</td>\n",
       "      <td>I</td>\n",
       "      <td>0.694365</td>\n",
       "    </tr>\n",
       "    <tr>\n",
       "      <th>1</th>\n",
       "      <td>2</td>\n",
       "      <td>0.059906</td>\n",
       "      <td>I</td>\n",
       "      <td>0.814371</td>\n",
       "    </tr>\n",
       "    <tr>\n",
       "      <th>2</th>\n",
       "      <td>3</td>\n",
       "      <td>-0.166689</td>\n",
       "      <td>I</td>\n",
       "      <td>0.850577</td>\n",
       "    </tr>\n",
       "    <tr>\n",
       "      <th>3</th>\n",
       "      <td>4</td>\n",
       "      <td>0.221522</td>\n",
       "      <td>I</td>\n",
       "      <td>0.759552</td>\n",
       "    </tr>\n",
       "    <tr>\n",
       "      <th>4</th>\n",
       "      <td>5</td>\n",
       "      <td>0.177355</td>\n",
       "      <td>I</td>\n",
       "      <td>0.684868</td>\n",
       "    </tr>\n",
       "    <tr>\n",
       "      <th>...</th>\n",
       "      <td>...</td>\n",
       "      <td>...</td>\n",
       "      <td>...</td>\n",
       "      <td>...</td>\n",
       "    </tr>\n",
       "    <tr>\n",
       "      <th>73</th>\n",
       "      <td>24</td>\n",
       "      <td>-0.078326</td>\n",
       "      <td>III</td>\n",
       "      <td>0.879199</td>\n",
       "    </tr>\n",
       "    <tr>\n",
       "      <th>74</th>\n",
       "      <td>25</td>\n",
       "      <td>-0.064984</td>\n",
       "      <td>III</td>\n",
       "      <td>0.904703</td>\n",
       "    </tr>\n",
       "    <tr>\n",
       "      <th>75</th>\n",
       "      <td>28</td>\n",
       "      <td>-0.087156</td>\n",
       "      <td>III</td>\n",
       "      <td>0.895205</td>\n",
       "    </tr>\n",
       "    <tr>\n",
       "      <th>76</th>\n",
       "      <td>29</td>\n",
       "      <td>-0.137222</td>\n",
       "      <td>III</td>\n",
       "      <td>0.914581</td>\n",
       "    </tr>\n",
       "    <tr>\n",
       "      <th>77</th>\n",
       "      <td>30</td>\n",
       "      <td>-0.025743</td>\n",
       "      <td>III</td>\n",
       "      <td>0.853560</td>\n",
       "    </tr>\n",
       "  </tbody>\n",
       "</table>\n",
       "<p>78 rows × 4 columns</p>\n",
       "</div>"
      ],
      "text/plain": [
       "    index  degree assortativity experiment       auc\n",
       "0       1              0.114186          I  0.694365\n",
       "1       2              0.059906          I  0.814371\n",
       "2       3             -0.166689          I  0.850577\n",
       "3       4              0.221522          I  0.759552\n",
       "4       5              0.177355          I  0.684868\n",
       "..    ...                   ...        ...       ...\n",
       "73     24             -0.078326        III  0.879199\n",
       "74     25             -0.064984        III  0.904703\n",
       "75     28             -0.087156        III  0.895205\n",
       "76     29             -0.137222        III  0.914581\n",
       "77     30             -0.025743        III  0.853560\n",
       "\n",
       "[78 rows x 4 columns]"
      ]
     },
     "execution_count": 7,
     "metadata": {},
     "output_type": "execute_result"
    }
   ],
   "source": [
    "df = pd.DataFrame({\n",
    "  'degree assortativity': stats['degree assortativity'],\n",
    "  'I': pd.Series(auc_I),\n",
    "  'I+II': pd.Series(auc_I_II),\n",
    "  'III': pd.Series(auc_III)\n",
    "})\n",
    "df.reset_index(inplace=True)\n",
    "df = df.melt(\n",
    "  id_vars=['index', 'degree assortativity'], \n",
    "  var_name='experiment', \n",
    "  value_name='auc')\n",
    "df"
   ]
  },
  {
   "cell_type": "code",
   "execution_count": 9,
   "id": "periodic-constitution",
   "metadata": {
    "execution": {
     "iopub.execute_input": "2021-03-12T12:07:22.983598Z",
     "iopub.status.busy": "2021-03-12T12:07:22.983193Z",
     "iopub.status.idle": "2021-03-12T12:07:23.522105Z",
     "shell.execute_reply": "2021-03-12T12:07:23.521514Z",
     "shell.execute_reply.started": "2021-03-12T12:07:22.983558Z"
    },
    "tags": []
   },
   "outputs": [
    {
     "data": {
      "image/png": "[encoded data removed]",
      "text/plain": [
       "<Figure size 288x288 with 1 Axes>"
      ]
     },
     "metadata": {
      "needs_background": "light"
     },
     "output_type": "display_data"
    }
   ],
   "source": [
    "markers = ['o', 'x', 's']\n",
    "with plt.rc_context(rc):\n",
    "  for (experiment, df_experiment), marker in zip(df.groupby('experiment'), markers):\n",
    "    sns.regplot(\n",
    "      data=df_experiment, x='degree assortativity', y='auc', label=experiment,\n",
    "      marker=marker)\n",
    "  plt.legend(title='Experiment')\n",
    "  plt.ylim(.5, 1)\n",
    "  plt.ylabel('Performance (AUC)')\n",
    "  plt.tight_layout()\n",
    "  plt.savefig('code/figures/output/degree-assortativity.pdf')"
   ]
  },
  {
   "cell_type": "code",
   "execution_count": 41,
   "id": "governmental-nothing",
   "metadata": {
    "execution": {
     "iopub.execute_input": "2021-03-12T22:41:55.436446Z",
     "iopub.status.busy": "2021-03-12T22:41:55.436142Z",
     "iopub.status.idle": "2021-03-12T22:41:55.443700Z",
     "shell.execute_reply": "2021-03-12T22:41:55.442319Z",
     "shell.execute_reply.started": "2021-03-12T22:41:55.436413Z"
    },
    "tags": []
   },
   "outputs": [],
   "source": [
    "df.replace({'experiment': {'time agnostic': 'Static topological', 'time aware': 'Temporal weighted topological'}}, inplace=True)\n",
    "df.rename(columns={'experiment': 'Feature set used', 'auc': 'AUC', 'degree assortativity': 'Degree assortativity'}, inplace=True)"
   ]
  },
  {
   "cell_type": "code",
   "execution_count": 56,
   "id": "alternative-joyce",
   "metadata": {
    "execution": {
     "iopub.execute_input": "2021-03-13T09:14:02.716130Z",
     "iopub.status.busy": "2021-03-13T09:14:02.715781Z",
     "iopub.status.idle": "2021-03-13T09:14:03.439138Z",
     "shell.execute_reply": "2021-03-13T09:14:03.438519Z",
     "shell.execute_reply.started": "2021-03-13T09:14:02.716097Z"
    },
    "tags": []
   },
   "outputs": [
    {
     "data": {
      "image/png": "[encoded data removed]",
      "text/plain": [
       "<Figure size 432x288 with 1 Axes>"
      ]
     },
     "metadata": {
      "needs_background": "light"
     },
     "output_type": "display_data"
    }
   ],
   "source": [
    "markers = ['o', 'x', 's']\n",
    "with plt.rc_context({'xtick.top': True, 'ytick.right': True}):\n",
    "  for (experiment, df_experiment), marker in zip(df.groupby('Feature set used'), markers):\n",
    "    ax = sns.regplot(\n",
    "      data=df_experiment, x='Degree assortativity', y='AUC', label=experiment,\n",
    "      marker=marker)\n",
    "  plt.legend(title='Feature set', loc='lower left')\n",
    "  ax.set_xticks(np.arange(-.31, .36, .01), minor=True)\n",
    "  ax.set_yticks(np.arange(.5, 1.001, .01), minor=True)\n",
    "  plt.ylim(.5, 1)\n",
    "  plt.ylabel('Performance (AUC)')\n",
    "  plt.tight_layout()\n",
    "  plt.savefig('code/figures/output/degree-assortativity.pdf')"
   ]
  },
  {
   "cell_type": "code",
   "execution_count": 52,
   "id": "conceptual-presentation",
   "metadata": {
    "execution": {
     "iopub.execute_input": "2021-03-13T09:12:20.000514Z",
     "iopub.status.busy": "2021-03-13T09:12:20.000387Z",
     "iopub.status.idle": "2021-03-13T09:12:20.004841Z",
     "shell.execute_reply": "2021-03-13T09:12:20.004370Z",
     "shell.execute_reply.started": "2021-03-13T09:12:20.000499Z"
    },
    "tags": []
   },
   "outputs": [
    {
     "data": {
      "text/plain": [
       "min   -0.301404\n",
       "max    0.335905\n",
       "Name: Degree assortativity, dtype: float64"
      ]
     },
     "execution_count": 52,
     "metadata": {},
     "output_type": "execute_result"
    }
   ],
   "source": [
    "df_experiment['Degree assortativity'].agg(['min', 'max'])"
   ]
  },
  {
   "cell_type": "code",
   "execution_count": 26,
   "id": "japanese-wireless",
   "metadata": {
    "execution": {
     "iopub.execute_input": "2021-03-12T13:30:56.659087Z",
     "iopub.status.busy": "2021-03-12T13:30:56.658789Z",
     "iopub.status.idle": "2021-03-12T13:30:56.663467Z",
     "shell.execute_reply": "2021-03-12T13:30:56.662719Z",
     "shell.execute_reply.started": "2021-03-12T13:30:56.659048Z"
    },
    "tags": []
   },
   "outputs": [],
   "source": [
    "from scipy.stats.stats import pearsonr"
   ]
  },
  {
   "cell_type": "code",
   "execution_count": 34,
   "id": "fluid-handy",
   "metadata": {
    "execution": {
     "iopub.execute_input": "2021-03-12T13:33:02.507182Z",
     "iopub.status.busy": "2021-03-12T13:33:02.506848Z",
     "iopub.status.idle": "2021-03-12T13:33:02.515243Z",
     "shell.execute_reply": "2021-03-12T13:33:02.514356Z",
     "shell.execute_reply.started": "2021-03-12T13:33:02.507149Z"
    },
    "tags": []
   },
   "outputs": [
    {
     "data": {
      "text/plain": [
       "(-0.7761846567555292, 3.1582029398101653e-06)"
      ]
     },
     "execution_count": 34,
     "metadata": {},
     "output_type": "execute_result"
    }
   ],
   "source": [
    "t = df[df['experiment'] == 'time agnostic']\n",
    "pearsonr(t['degree assortativity'], t['auc'])"
   ]
  },
  {
   "cell_type": "code",
   "execution_count": 35,
   "id": "overall-concord",
   "metadata": {
    "execution": {
     "iopub.execute_input": "2021-03-12T13:33:07.656213Z",
     "iopub.status.busy": "2021-03-12T13:33:07.655862Z",
     "iopub.status.idle": "2021-03-12T13:33:07.662812Z",
     "shell.execute_reply": "2021-03-12T13:33:07.662252Z",
     "shell.execute_reply.started": "2021-03-12T13:33:07.656181Z"
    }
   },
   "outputs": [
    {
     "data": {
      "text/plain": [
       "(-0.8122197861483662, 4.6958223455283866e-07)"
      ]
     },
     "execution_count": 35,
     "metadata": {},
     "output_type": "execute_result"
    }
   ],
   "source": [
    "t = df[df['experiment'] == 'time aware']\n",
    "pearsonr(t['degree assortativity'], t['auc'])"
   ]
  },
  {
   "cell_type": "code",
   "execution_count": null,
   "id": "defined-directive",
   "metadata": {},
   "outputs": [],
   "source": []
  }
 ],
 "metadata": {
  "kernelspec": {
   "display_name": "Python 3",
   "language": "python",
   "name": "python3"
  },
  "language_info": {
   "codemirror_mode": {
    "name": "ipython",
    "version": 3
   },
   "file_extension": ".py",
   "mimetype": "text/x-python",
   "name": "python",
   "nbconvert_exporter": "python",
   "pygments_lexer": "ipython3",
   "version": "3.9.2"
  }
 },
 "nbformat": 4,
 "nbformat_minor": 5
}
