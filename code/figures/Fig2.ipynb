{
 "cells": [
  {
   "cell_type": "code",
   "execution_count": 1,
   "id": "becoming-grove",
   "metadata": {
    "execution": {
     "iopub.execute_input": "2021-03-12T13:10:28.690517Z",
     "iopub.status.busy": "2021-03-12T13:10:28.690282Z",
     "iopub.status.idle": "2021-03-12T13:10:29.531583Z",
     "shell.execute_reply": "2021-03-12T13:10:29.530753Z",
     "shell.execute_reply.started": "2021-03-12T13:10:28.690461Z"
    },
    "tags": []
   },
   "outputs": [
    {
     "name": "stdout",
     "output_type": "stream",
     "text": [
      "/scratch/bruingjde/SNAM2021-code\n"
     ]
    }
   ],
   "source": [
    "%cd /scratch/bruingjde/SNAM2021-code/\n",
    "\n",
    "from constants import *"
   ]
  },
  {
   "cell_type": "code",
   "execution_count": 3,
   "id": "governing-running",
   "metadata": {
    "execution": {
     "iopub.execute_input": "2021-03-12T13:10:57.651868Z",
     "iopub.status.busy": "2021-03-12T13:10:57.651643Z",
     "iopub.status.idle": "2021-03-12T13:14:58.761224Z",
     "shell.execute_reply": "2021-03-12T13:14:58.760547Z",
     "shell.execute_reply.started": "2021-03-12T13:10:57.651847Z"
    },
    "tags": []
   },
   "outputs": [
    {
     "data": {
      "application/vnd.jupyter.widget-view+json": {
       "model_id": "",
       "version_major": 2,
       "version_minor": 0
      },
      "text/plain": [
       "  0%|          | 0/26 [00:00<?, ?it/s]"
      ]
     },
     "metadata": {},
     "output_type": "display_data"
    }
   ],
   "source": [
    "size = tlp.ProgressParallel(n_jobs=network_count, total=network_count)(\n",
    "  joblib.delayed(get_size)(network_index) for network_index in network_indices\n",
    ")\n",
    "  \n",
    "size = pd.DataFrame(size)\n",
    "# size = joblib.load('data/size.pkl')"
   ]
  },
  {
   "cell_type": "code",
   "execution_count": null,
   "id": "advanced-isolation",
   "metadata": {
    "tags": []
   },
   "outputs": [],
   "source": [
    "networks = get_networks()"
   ]
  },
  {
   "cell_type": "code",
   "execution_count": 21,
   "id": "registered-michigan",
   "metadata": {
    "execution": {
     "iopub.execute_input": "2021-03-13T09:54:50.993871Z",
     "iopub.status.busy": "2021-03-13T09:54:50.993554Z",
     "iopub.status.idle": "2021-03-13T09:54:51.002924Z",
     "shell.execute_reply": "2021-03-13T09:54:51.001777Z",
     "shell.execute_reply.started": "2021-03-13T09:54:50.993839Z"
    },
    "tags": []
   },
   "outputs": [],
   "source": [
    "df = pd.concat([size, networks], axis=1)\n",
    "df.rename(columns={'category': 'Scientific domain'}, inplace=True)\n",
    "df.replace({'Scientific domain': {'social': 'Social', 'information': 'Information', 'technological': 'Technological'}}, inplace=True)"
   ]
  },
  {
   "cell_type": "code",
   "execution_count": 46,
   "id": "southeast-gilbert",
   "metadata": {
    "execution": {
     "iopub.execute_input": "2021-03-16T09:22:12.918254Z",
     "iopub.status.busy": "2021-03-16T09:22:12.917902Z",
     "iopub.status.idle": "2021-03-16T09:22:14.246954Z",
     "shell.execute_reply": "2021-03-16T09:22:14.245883Z",
     "shell.execute_reply.started": "2021-03-16T09:22:12.918218Z"
    },
    "tags": []
   },
   "outputs": [
    {
     "data": {
      "image/png": "[encoded data removed]",
      "text/plain": [
       "<Figure size 237.6x178.2 with 1 Axes>"
      ]
     },
     "metadata": {
      "needs_background": "light"
     },
     "output_type": "display_data"
    }
   ],
   "source": [
    "fontsize=8\n",
    "rc = {\n",
    "  'xtick.top': True, 'ytick.right': True, 'figure.figsize': (3.30,2.475), \n",
    "  'axes.titlesize': fontsize, \n",
    "  'axes.labelsize': fontsize, \n",
    "  'xtick.labelsize': fontsize, \n",
    "  'ytick.labelsize': fontsize, \n",
    "  'legend.fontsize': fontsize, \n",
    "  'legend.title_fontsize': fontsize,\n",
    "  'lines.linewidth': 2,\n",
    "#   'lines.markersize': 4,\n",
    "  'legend.handlelength': .1,\n",
    "  'font.family': 'sans-serif',\n",
    "  'font.sans-serif': 'Helvetica',\n",
    "  'savefig.transparent': True\n",
    "}\n",
    "\n",
    "with plt.rc_context(rc):\n",
    "  sns.scatterplot(data=df, x='edges', y='nodes', hue='Scientific domain', \n",
    "                  style='Scientific domain')\n",
    "  plt.xscale('log')\n",
    "  plt.yscale('log')\n",
    "  plt.xlabel('Number of nodes')\n",
    "  plt.ylabel('Number of edges')\n",
    "  plt.legend(loc='lower right', title='Scientific domain')\n",
    "  plt.tight_layout()\n",
    "  plt.savefig('code/figures/output/Fig2.pdf')"
   ]
  },
  {
   "cell_type": "code",
   "execution_count": null,
   "id": "touched-magazine",
   "metadata": {},
   "outputs": [],
   "source": []
  }
 ],
 "metadata": {
  "kernelspec": {
   "display_name": "Python 3",
   "language": "python",
   "name": "python3"
  },
  "language_info": {
   "codemirror_mode": {
    "name": "ipython",
    "version": 3
   },
   "file_extension": ".py",
   "mimetype": "text/x-python",
   "name": "python",
   "nbconvert_exporter": "python",
   "pygments_lexer": "ipython3",
   "version": "3.9.2"
  }
 },
 "nbformat": 4,
 "nbformat_minor": 5
}
