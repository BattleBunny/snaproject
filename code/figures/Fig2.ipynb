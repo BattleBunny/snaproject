{
 "cells": [
  {
   "cell_type": "code",
   "execution_count": 1,
   "id": "copyrighted-ticket",
   "metadata": {
    "execution": {
     "iopub.execute_input": "2021-03-18T20:04:52.802634Z",
     "iopub.status.busy": "2021-03-18T20:04:52.802380Z",
     "iopub.status.idle": "2021-03-18T20:04:55.933870Z",
     "shell.execute_reply": "2021-03-18T20:04:55.933084Z",
     "shell.execute_reply.started": "2021-03-18T20:04:52.802568Z"
    },
    "tags": []
   },
   "outputs": [
    {
     "name": "stdout",
     "output_type": "stream",
     "text": [
      "/scratch/bruingjde/SNAM2021-code\n"
     ]
    }
   ],
   "source": [
    "%cd /scratch/bruingjde/SNAM2021-code/\n",
    "\n",
    "from constants import *"
   ]
  },
  {
   "cell_type": "code",
   "execution_count": 3,
   "id": "homeless-silly",
   "metadata": {
    "execution": {
     "iopub.execute_input": "2021-03-18T20:05:04.343383Z",
     "iopub.status.busy": "2021-03-18T20:05:04.343251Z",
     "iopub.status.idle": "2021-03-18T20:05:04.347005Z",
     "shell.execute_reply": "2021-03-18T20:05:04.346420Z",
     "shell.execute_reply.started": "2021-03-18T20:05:04.343369Z"
    },
    "tags": []
   },
   "outputs": [],
   "source": [
    "# size = tlp.ProgressParallel(n_jobs=network_count, total=network_count)(\n",
    "#   joblib.delayed(get_size)(network_index) for network_index in network_indices\n",
    "# )\n",
    "  \n",
    "# size = pd.DataFrame(size)\n",
    "size = joblib.load('code/figures/size.pkl')"
   ]
  },
  {
   "cell_type": "code",
   "execution_count": 4,
   "id": "hollow-trainer",
   "metadata": {
    "execution": {
     "iopub.execute_input": "2021-03-18T20:05:07.101882Z",
     "iopub.status.busy": "2021-03-18T20:05:07.101666Z",
     "iopub.status.idle": "2021-03-18T20:05:07.108197Z",
     "shell.execute_reply": "2021-03-18T20:05:07.107465Z",
     "shell.execute_reply.started": "2021-03-18T20:05:07.101856Z"
    },
    "tags": []
   },
   "outputs": [],
   "source": [
    "networks = get_networks()"
   ]
  },
  {
   "cell_type": "code",
   "execution_count": 5,
   "id": "minute-backup",
   "metadata": {
    "execution": {
     "iopub.execute_input": "2021-03-18T20:05:07.109772Z",
     "iopub.status.busy": "2021-03-18T20:05:07.109434Z",
     "iopub.status.idle": "2021-03-18T20:05:09.774161Z",
     "shell.execute_reply": "2021-03-18T20:05:09.773453Z",
     "shell.execute_reply.started": "2021-03-18T20:05:07.109743Z"
    },
    "tags": []
   },
   "outputs": [],
   "source": [
    "category_name = 'Domain'\n",
    "\n",
    "df = pd.concat([size, networks], axis=1)\n",
    "df.rename(columns={'category': category_name}, inplace=True)\n",
    "df.replace({category_name: {'social': 'Social', 'information': 'Information', 'technological': 'Technological'}}, inplace=True)"
   ]
  },
  {
   "cell_type": "code",
   "execution_count": 9,
   "id": "crucial-fellowship",
   "metadata": {
    "execution": {
     "iopub.execute_input": "2021-03-18T20:05:32.437492Z",
     "iopub.status.busy": "2021-03-18T20:05:32.437367Z",
     "iopub.status.idle": "2021-03-18T20:05:33.067530Z",
     "shell.execute_reply": "2021-03-18T20:05:33.066892Z",
     "shell.execute_reply.started": "2021-03-18T20:05:32.437478Z"
    },
    "tags": []
   },
   "outputs": [
    {
     "data": {
      "image/png": "[encoded data removed]",
      "text/plain": [
       "<Figure size 237.6x178.2 with 1 Axes>"
      ]
     },
     "metadata": {
      "needs_background": "light"
     },
     "output_type": "display_data"
    }
   ],
   "source": [
    "fontsize=8\n",
    "rc = {\n",
    "  'xtick.top': True, 'ytick.right': True, 'figure.figsize': (3.30,2.475), \n",
    "  'axes.titlesize': fontsize, \n",
    "  'axes.labelsize': fontsize, \n",
    "  'xtick.labelsize': fontsize, \n",
    "  'ytick.labelsize': fontsize, \n",
    "  'legend.fontsize': fontsize, \n",
    "  'legend.title_fontsize': fontsize,\n",
    "  'lines.linewidth': 2,\n",
    "#   'lines.markersize': 4,\n",
    "  'legend.handlelength': .4,\n",
    "  'font.family': 'sans-serif',\n",
    "  'font.sans-serif': 'Helvetica',\n",
    "  'savefig.transparent': True\n",
    "}\n",
    "\n",
    "with plt.rc_context(rc):\n",
    "  sns.scatterplot(data=df, x='edges', y='nodes', hue=category_name, \n",
    "                  style=category_name)\n",
    "  plt.xscale('log')\n",
    "  plt.yscale('log')\n",
    "  plt.xlabel('Number of nodes')\n",
    "  plt.ylabel('Number of edges')\n",
    "  plt.legend(loc='lower right', title=category_name)\n",
    "  plt.tight_layout()\n",
    "  plt.savefig('code/figures/output/Fig2.pdf')"
   ]
  },
  {
   "cell_type": "code",
   "execution_count": null,
   "id": "illegal-complexity",
   "metadata": {},
   "outputs": [],
   "source": []
  }
 ],
 "metadata": {
  "kernelspec": {
   "display_name": "Python 3",
   "language": "python",
   "name": "python3"
  },
  "language_info": {
   "codemirror_mode": {
    "name": "ipython",
    "version": 3
   },
   "file_extension": ".py",
   "mimetype": "text/x-python",
   "name": "python",
   "nbconvert_exporter": "python",
   "pygments_lexer": "ipython3",
   "version": "3.9.2"
  }
 },
 "nbformat": 4,
 "nbformat_minor": 5
}
