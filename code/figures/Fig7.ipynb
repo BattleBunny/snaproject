{
 "cells": [
  {
   "cell_type": "code",
   "execution_count": 1,
   "id": "coordinate-mouse",
   "metadata": {
    "execution": {
     "iopub.execute_input": "2021-03-19T07:36:59.532229Z",
     "iopub.status.busy": "2021-03-19T07:36:59.531939Z",
     "iopub.status.idle": "2021-03-19T07:37:01.463552Z",
     "shell.execute_reply": "2021-03-19T07:37:01.462795Z",
     "shell.execute_reply.started": "2021-03-19T07:36:59.532158Z"
    },
    "tags": []
   },
   "outputs": [
    {
     "name": "stdout",
     "output_type": "stream",
     "text": [
      "/scratch/bruingjde/SNAM2021-code\n"
     ]
    }
   ],
   "source": [
    "%cd /scratch/bruingjde/SNAM2021-code/\n",
    "\n",
    "from constants import *"
   ]
  },
  {
   "cell_type": "markdown",
   "id": "formal-debate",
   "metadata": {},
   "source": [
    "# Node temporal and static features"
   ]
  },
  {
   "cell_type": "code",
   "execution_count": 2,
   "id": "northern-employment",
   "metadata": {
    "execution": {
     "iopub.execute_input": "2021-03-19T07:37:01.464614Z",
     "iopub.status.busy": "2021-03-19T07:37:01.464487Z",
     "iopub.status.idle": "2021-03-19T07:37:26.715132Z",
     "shell.execute_reply": "2021-03-19T07:37:26.714264Z",
     "shell.execute_reply.started": "2021-03-19T07:37:01.464597Z"
    },
    "tags": []
   },
   "outputs": [],
   "source": [
    "def get_featureset_III_performance(network_index: int, hypergraph: bool):\n",
    "  # Start with static features\n",
    "  X = {\n",
    "    heuristic: np.load(\n",
    "      f'data/{network_index:02}/features/time_agnostic/{heuristic}.npy')\n",
    "    for heuristic in heuristics\n",
    "  }\n",
    "    \n",
    "  # Add temporal node features\n",
    "  aggregation_strategies = [\n",
    "    'm0', 'm1', 'm2', 'm3', 'q0', 'q25', 'q50', 'q75', 'q100'] # Overwrite!\n",
    "  \n",
    "  for time_strategy in time_strategies: # Provided in constants.py\n",
    "    for nodepair_strategy in nodepair_strategies: # Provided in constants.py\n",
    "      if hypergraph:\n",
    "        for aggregation_strategy in aggregation_strategies:\n",
    "          X[(time_strategy, nodepair_strategy, aggregation_strategy)] = np.load(\n",
    "            f'data/{network_index:02}/features/time_node/'\n",
    "            f'{time_strategy}_{nodepair_strategy}_{aggregation_strategy}.npy'\n",
    "          )\n",
    "      else:\n",
    "        X[(time_strategy, nodepair_strategy)] = np.load(\n",
    "          f'data/{network_index:02}/features/time_node/'\n",
    "          f'{time_strategy}_{nodepair_strategy}.npy')\n",
    "    \n",
    "  X = pd.DataFrame(X)\n",
    "    \n",
    "  y = np.load(f'data/{network_index:02}/targets_sampled.npy')\n",
    "  \n",
    "  X_train, X_test, y_train, y_test = (\n",
    "    sklearn.model_selection.train_test_split(X, y))\n",
    "  pipe = sklearn.pipeline.make_pipeline(\n",
    "    sklearn.preprocessing.StandardScaler(),\n",
    "    sklearn.linear_model.LogisticRegression(max_iter=10000))\n",
    "  pipe.fit(X_train, y_train)\n",
    "  \n",
    "  auc = sklearn.metrics.roc_auc_score(\n",
    "    y_true=y_test, y_score=pipe.predict_proba(X_test)[:,1])\n",
    "  \n",
    "  return auc\n",
    "\n",
    "feature_III_performance = {\n",
    "  network_index: (\n",
    "    get_featureset_III_performance(\n",
    "      network_index, hypergraph=network_index in hypergraph_indices\n",
    "    )\n",
    "  )\n",
    "  for network_index in network_indices\n",
    "}"
   ]
  },
  {
   "cell_type": "markdown",
   "id": "pregnant-letter",
   "metadata": {},
   "source": [
    "# Edge temporal features"
   ]
  },
  {
   "cell_type": "code",
   "execution_count": 3,
   "id": "coupled-trinidad",
   "metadata": {
    "execution": {
     "iopub.execute_input": "2021-03-19T07:37:26.716517Z",
     "iopub.status.busy": "2021-03-19T07:37:26.716388Z",
     "iopub.status.idle": "2021-03-19T07:37:38.496646Z",
     "shell.execute_reply": "2021-03-19T07:37:38.495804Z",
     "shell.execute_reply.started": "2021-03-19T07:37:26.716499Z"
    },
    "tags": []
   },
   "outputs": [],
   "source": [
    "def get_featureset_II_performance(network_index: int, hypergraph: bool):\n",
    "  aggregation_strategies = [\n",
    "    'm0', 'm1', 'q0', 'q25', 'q50', 'q75', 'q100'] # Overwrite of constants.py!\n",
    "  \n",
    "  X = dict()\n",
    "  \n",
    "  for heuristic in heuristics: # Provided in constants.py\n",
    "    for time_strategy in time_strategies: # Provided in constants.py\n",
    "      if hypergraph:\n",
    "        for aggregation_strategy in aggregation_strategies:\n",
    "            X[(heuristic, time_strategy, aggregation_strategy)] = np.load(\n",
    "              f'data/{network_index:02}/features/time_edge/'\n",
    "              f'{heuristic}_{time_strategy}_{aggregation_strategy}.npy')\n",
    "      else:\n",
    "        X[(heuristic, time_strategy)] = np.load(\n",
    "          f'data/{network_index:02}/features/time_edge/'\n",
    "          f'{heuristic}_{time_strategy}.npy')\n",
    "    \n",
    "  X = pd.DataFrame(X)\n",
    "    \n",
    "  y = np.load(f'data/{network_index:02}/targets_sampled.npy')\n",
    "  \n",
    "  X_train, X_test, y_train, y_test = (\n",
    "    sklearn.model_selection.train_test_split(X, y))\n",
    "  pipe = sklearn.pipeline.make_pipeline(\n",
    "    sklearn.preprocessing.StandardScaler(),\n",
    "    sklearn.linear_model.LogisticRegression(max_iter=10000))\n",
    "  pipe.fit(X_train, y_train)\n",
    "  \n",
    "  auc = sklearn.metrics.roc_auc_score(\n",
    "    y_true=y_test, y_score=pipe.predict_proba(X_test)[:,1])\n",
    "  \n",
    "  return auc\n",
    "\n",
    "feature_II_performance = {\n",
    "  network_index: get_featureset_II_performance(\n",
    "    network_index, hypergraph=network_index in hypergraph_indices\n",
    "  )\n",
    "  for network_index in network_indices\n",
    "}"
   ]
  },
  {
   "cell_type": "markdown",
   "id": "expired-opera",
   "metadata": {},
   "source": [
    "# Merge"
   ]
  },
  {
   "cell_type": "code",
   "execution_count": 11,
   "id": "vulnerable-cabinet",
   "metadata": {
    "execution": {
     "iopub.execute_input": "2021-03-19T07:40:39.022990Z",
     "iopub.status.busy": "2021-03-19T07:40:39.022655Z",
     "iopub.status.idle": "2021-03-19T07:40:39.031839Z",
     "shell.execute_reply": "2021-03-19T07:40:39.030992Z",
     "shell.execute_reply.started": "2021-03-19T07:40:39.022956Z"
    },
    "tags": []
   },
   "outputs": [],
   "source": [
    "x = 'Edge-centered features (AUC)'\n",
    "y = 'Node-centered features (AUC)'\n",
    "t = 'Scientific domain'\n",
    "\n",
    "data = pd.DataFrame(\n",
    "  {\n",
    "    t: networks['category'].str.title(),\n",
    "    y: pd.Series(feature_III_performance),\n",
    "    x: pd.Series(feature_II_performance),\n",
    "  }\n",
    ")\n",
    "# df.to_pickle('code/figures/temp.pkl')"
   ]
  },
  {
   "cell_type": "markdown",
   "id": "simplified-dimension",
   "metadata": {},
   "source": [
    "# Figure"
   ]
  },
  {
   "cell_type": "code",
   "execution_count": 12,
   "id": "vocal-soccer",
   "metadata": {
    "execution": {
     "iopub.execute_input": "2021-03-19T07:40:39.413587Z",
     "iopub.status.busy": "2021-03-19T07:40:39.413333Z",
     "iopub.status.idle": "2021-03-19T07:40:39.934552Z",
     "shell.execute_reply": "2021-03-19T07:40:39.934245Z",
     "shell.execute_reply.started": "2021-03-19T07:40:39.413556Z"
    },
    "tags": []
   },
   "outputs": [
    {
     "data": {
      "image/png": "[encoded data removed]",
      "text/plain": [
       "<Figure size 237.6x237.6 with 1 Axes>"
      ]
     },
     "metadata": {
      "needs_background": "light"
     },
     "output_type": "display_data"
    }
   ],
   "source": [
    "fontsize=8\n",
    "rc = {\n",
    "  'xtick.top': True, 'ytick.right': True, 'figure.figsize': (3.3,3.3), \n",
    "  'axes.titlesize': fontsize, \n",
    "  'axes.labelsize': fontsize, \n",
    "  'xtick.labelsize': fontsize, \n",
    "  'ytick.labelsize': fontsize, \n",
    "  'legend.fontsize': fontsize, \n",
    "  'legend.title_fontsize': fontsize,\n",
    "  'lines.linewidth': 1,\n",
    "#   'lines.markersize': 4,\n",
    "  'legend.handlelength': .4,\n",
    "  'font.family': 'sans-serif',\n",
    "  'font.sans-serif': 'Helvetica',\n",
    "  'savefig.transparent': True\n",
    "}\n",
    "\n",
    "with plt.rc_context(rc):\n",
    "  ax = sns.scatterplot(data=data, x=x, y=y, hue=t, style=t)\n",
    "  sns.regplot(data=data, x=x, y=y, scatter=False, color='black', ax=ax)\n",
    "  ax.axline((0,0), (1,1), ls='--', c='grey')\n",
    "  ax.axis('scaled')\n",
    "  ax.axis([.7, 1, .7, 1])\n",
    "  ax.xaxis.set_major_locator(matplotlib.ticker.MultipleLocator(.1))\n",
    "  ax.yaxis.set_major_locator(matplotlib.ticker.MultipleLocator(.1))\n",
    "  ax.xaxis.set_minor_locator(matplotlib.ticker.MultipleLocator(.01))\n",
    "  ax.yaxis.set_minor_locator(matplotlib.ticker.MultipleLocator(.01))\n",
    "  plt.tight_layout()\n",
    "  plt.savefig('code/figures/output/Fig7.pdf')"
   ]
  },
  {
   "cell_type": "code",
   "execution_count": null,
   "id": "marine-conditioning",
   "metadata": {},
   "outputs": [],
   "source": []
  },
  {
   "cell_type": "code",
   "execution_count": null,
   "id": "blond-mother",
   "metadata": {},
   "outputs": [],
   "source": []
  }
 ],
 "metadata": {
  "kernelspec": {
   "display_name": "Python 3",
   "language": "python",
   "name": "python3"
  },
  "language_info": {
   "codemirror_mode": {
    "name": "ipython",
    "version": 3
   },
   "file_extension": ".py",
   "mimetype": "text/x-python",
   "name": "python",
   "nbconvert_exporter": "python",
   "pygments_lexer": "ipython3",
   "version": "3.9.2"
  }
 },
 "nbformat": 4,
 "nbformat_minor": 5
}
