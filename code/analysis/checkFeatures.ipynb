{
 "cells": [
  {
   "cell_type": "code",
   "execution_count": 52,
   "id": "packed-ordering",
   "metadata": {
    "execution": {
     "iopub.execute_input": "2021-03-01T07:08:13.825370Z",
     "iopub.status.busy": "2021-03-01T07:08:13.825153Z",
     "iopub.status.idle": "2021-03-01T07:08:13.833186Z",
     "shell.execute_reply": "2021-03-01T07:08:13.832551Z",
     "shell.execute_reply.started": "2021-03-01T07:08:13.825345Z"
    }
   },
   "outputs": [
    {
     "name": "stdout",
     "output_type": "stream",
     "text": [
      "/scratch/bruingjde/SNAM2021-code\n"
     ]
    }
   ],
   "source": [
    "import collections, os, shutil\n",
    "\n",
    "import joblib\n",
    "import numpy as np\n",
    "import pandas as pd\n",
    "\n",
    "import tlp\n",
    "\n",
    "%cd /scratch/bruingjde/SNAM2021-code/\n",
    "\n",
    "hypergraph = {1, 2, 3, 5, 6, 7, 12, 13, 14, 19, 22, 23, 25, 26, 28, 29, 30}\n",
    "simplegraph = {4, 8, 9, 10, 11, 15, 16, 17, 18, 20, 21, 24, 27}\n",
    "\n",
    "time_strategies = tlp.TIME_STRATEGIES\n",
    "aggregation_strategies = tlp.AGGREGATION_STRATEGIES\n",
    "nodepair_strategies = tlp.NODEPAIR_STRATEGIES"
   ]
  },
  {
   "cell_type": "code",
   "execution_count": 68,
   "id": "divided-protection",
   "metadata": {
    "execution": {
     "iopub.execute_input": "2021-03-01T08:31:19.957984Z",
     "iopub.status.busy": "2021-03-01T08:31:19.957701Z",
     "iopub.status.idle": "2021-03-01T08:31:19.966615Z",
     "shell.execute_reply": "2021-03-01T08:31:19.965704Z",
     "shell.execute_reply.started": "2021-03-01T08:31:19.957956Z"
    }
   },
   "outputs": [],
   "source": [
    "for network in simplegraph:\n",
    "  if network not in [15, 17, 26, 27]:\n",
    "    for time_strategy in time_strategies:\n",
    "      for nodepair_strategy in nodepair_strategies:\n",
    "        filepath = (\n",
    "          f'data/{network:02}/features/time_edge/'\n",
    "          f'{time_strategy}_{nodepair_strategy}.npy'\n",
    "        )\n",
    "        if os.path.isfile(filepath):\n",
    "          os.rename(\n",
    "            filepath,\n",
    "            f'data/{network:02}/features/time_node/'\n",
    "            f'{time_strategy}_{nodepair_strategy}.npy'\n",
    "          )"
   ]
  },
  {
   "cell_type": "code",
   "execution_count": 63,
   "id": "effective-salmon",
   "metadata": {
    "execution": {
     "iopub.execute_input": "2021-03-01T08:19:20.348633Z",
     "iopub.status.busy": "2021-03-01T08:19:20.348315Z",
     "iopub.status.idle": "2021-03-01T08:19:21.102329Z",
     "shell.execute_reply": "2021-03-01T08:19:21.101933Z",
     "shell.execute_reply.started": "2021-03-01T08:19:20.348601Z"
    }
   },
   "outputs": [
    {
     "name": "stdout",
     "output_type": "stream",
     "text": [
      "Ok!\n"
     ]
    }
   ],
   "source": [
    "ok = True\n",
    "networks = [network for network in range(1, 31) if network not in [15, 17, 26, 27]]\n",
    "for network in networks:\n",
    "  # time agnostic\n",
    "  for heuristic in ['aa', 'cn', 'jc', 'pa']:\n",
    "    file = os.path.join('data', f'{network:02}', 'features', 'time_agnostic', heuristic + '.npy')\n",
    "    if not os.path.isfile(file): \n",
    "      ok = False\n",
    "      print(file)\n",
    "  # time edge\n",
    "  for heuristic in ['aa', 'cn', 'jc', 'pa']:\n",
    "    for time_strategy in time_strategies:\n",
    "      if network in hypergraph:\n",
    "        for aggregation_strategy in aggregation_strategies:\n",
    "          if aggregation_strategy not in ['m2', 'm3']:\n",
    "            file = (\n",
    "              os.path.join(\n",
    "                'data', f'{network:02}', 'features', 'time_edge', \n",
    "                f'{heuristic}_{time_strategy}_{aggregation_strategy}.npy'))\n",
    "            if not os.path.isfile(file): \n",
    "              ok = False\n",
    "              print(file)\n",
    "            else:\n",
    "              assert len(np.load(file)) == 20000, f'{file} has not length 20000'\n",
    "      else:\n",
    "        file = os.path.join(\n",
    "          'data', f'{network:02}', 'features', 'time_edge', \n",
    "          f'{heuristic}_{time_strategy}.npy')\n",
    "        if not os.path.isfile(file): \n",
    "          ok = False\n",
    "          print(file)\n",
    "        else:\n",
    "          assert len(np.load(file)) == 20000, f'{file} has not length 20000'\n",
    "          \n",
    "  # time node\n",
    "  for time_strategy in time_strategies:\n",
    "    for nodepair_strategy in nodepair_strategies:\n",
    "      if network in hypergraph:\n",
    "        for aggregation_strategy in aggregation_strategies:\n",
    "          file = os.path.join('data', f'{network:02}', 'features', 'time_edge', f'{time_strategy}_{nodepair_strategy}_{aggregation_strategy}.npy')\n",
    "          if not os.path.isfile(file): \n",
    "            ok = False\n",
    "            print(file)\n",
    "          else:\n",
    "            assert len(np.load(file)) == 20000, f'{file} has not length 20000'\n",
    "      else:\n",
    "        file = os.path.join('data', f'{network:02}', 'features', 'time_edge', f'{time_strategy}_{nodepair_strategy}.npy')\n",
    "        if not os.path.isfile(file): \n",
    "          ok = False\n",
    "          print(file)\n",
    "        else:\n",
    "          assert len(np.load(file)) == 20000, f'{file} has not length 20000'\n",
    "if ok: print('Ok!')"
   ]
  },
  {
   "cell_type": "code",
   "execution_count": null,
   "id": "thousand-amazon",
   "metadata": {},
   "outputs": [],
   "source": []
  }
 ],
 "metadata": {
  "kernelspec": {
   "display_name": "Python 3",
   "language": "python",
   "name": "python3"
  },
  "language_info": {
   "codemirror_mode": {
    "name": "ipython",
    "version": 3
   },
   "file_extension": ".py",
   "mimetype": "text/x-python",
   "name": "python",
   "nbconvert_exporter": "python",
   "pygments_lexer": "ipython3",
   "version": "3.9.1"
  }
 },
 "nbformat": 4,
 "nbformat_minor": 5
}
