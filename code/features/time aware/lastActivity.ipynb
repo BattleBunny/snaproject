{
 "cells": [
  {
   "cell_type": "code",
   "execution_count": 23,
   "id": "automatic-register",
   "metadata": {
    "execution": {
     "iopub.execute_input": "2021-02-28T20:57:29.920446Z",
     "iopub.status.busy": "2021-02-28T20:57:29.920191Z",
     "iopub.status.idle": "2021-02-28T20:57:29.932843Z",
     "shell.execute_reply": "2021-02-28T20:57:29.932229Z",
     "shell.execute_reply.started": "2021-02-28T20:57:29.920417Z"
    }
   },
   "outputs": [],
   "source": [
    "import collections, os, typing\n",
    "\n",
    "import joblib\n",
    "import matplotlib.pyplot as plt\n",
    "import networkx as nx\n",
    "import numpy as np\n",
    "import pandas as pd\n",
    "import scipy\n",
    "import seaborn as sns\n",
    "import sklearn.linear_model\n",
    "import sklearn.model_selection\n",
    "import sklearn.metrics\n",
    "import sklearn.pipeline\n",
    "import sklearn.preprocessing\n",
    "from tqdm.auto import tqdm\n",
    "\n",
    "import tlp\n",
    "\n",
    "feature = 'jc'\n",
    "time_strategies = tlp.TIME_STRATEGIES\n",
    "aggregation_strategies = tlp.AGGREGATION_STRATEGIES\n",
    "\n",
    "hypergraph = {1, 2, 3, 5, 6, 7, 12, 13, 14, 19, 22, 23, 25, 26, 28, 29, 30}\n",
    "simplegraph = {4, 8, 9, 10, 11, 15, 16, 17, 18, 20, 21, 24, 27}\n",
    "\n",
    "def jc(index, time_str, time_func, agg_str=None, agg_func=None, feature=feature):\n",
    "  # Check if file already exists\n",
    "  result_file = os.path.join('data', f'{index:02}', 'features', 'time_edge', f'{feature}_{time_str}.npy' if agg_str is None else f'{feature}_{time_str}_{agg_str}.npy')\n",
    "  if os.path.isfile(result_file): return\n",
    "  \n",
    "  # Read in\n",
    "  edgelist_mature = pd.read_pickle(os.path.join('data', f'{index:02}', 'edgelist_mature.pkl'))\n",
    "  instances = np.load(os.path.join(os.path.join('data', f'{index:02}', 'instances_sampled.npy')))\n",
    "  \n",
    "  # nodes = {node for instance in instances_sampled for node in instance}\n",
    "  \n",
    "  # Apply time strategy\n",
    "  edgelist_mature['datetime_transformed'] = time_func(edgelist_mature['datetime'])\n",
    "\n",
    "  # Create multigraph\n",
    "  G = nx.from_pandas_edgelist(edgelist_mature, create_using=nx.MultiGraph, edge_attr=True)\n",
    "  \n",
    "  if agg_func is None:\n",
    "    agg_func = np.max\n",
    "\n",
    "  # Calculation\n",
    "  scores = [\n",
    "    sum(\n",
    "      [\n",
    "        agg_func([edge_attributes['datetime_transformed'] for edge_attributes in G.get_edge_data(u, z).values()]) +\n",
    "        agg_func([edge_attributes['datetime_transformed'] for edge_attributes in G.get_edge_data(v, z).values()])\n",
    "        for z in nx.common_neighbors(G, u, v)\n",
    "      ]\n",
    "    ) / (\n",
    "      sum([agg_func([edge_attributes['datetime_transformed'] for edge_attributes in G.get_edge_data(u, a).values()]) for a in G[u]]) +\n",
    "      sum([agg_func([edge_attributes['datetime_transformed'] for edge_attributes in G.get_edge_data(v, b).values()]) for b in G[v]])\n",
    "    )\n",
    "    for u, v in instances\n",
    "  ]\n",
    "  np.save(result_file, scores)"
   ]
  },
  {
   "cell_type": "code",
   "execution_count": 24,
   "id": "agreed-undergraduate",
   "metadata": {
    "execution": {
     "iopub.execute_input": "2021-02-28T20:57:49.802234Z",
     "iopub.status.busy": "2021-02-28T20:57:49.801895Z",
     "iopub.status.idle": "2021-02-28T20:58:20.318252Z",
     "shell.execute_reply": "2021-02-28T20:58:20.317560Z",
     "shell.execute_reply.started": "2021-02-28T20:57:49.802201Z"
    }
   },
   "outputs": [],
   "source": [
    "args = [\n",
    "  dict(index=index, time_str=time_str, time_func=time_func, agg_str=agg_str, agg_func=agg_func)\n",
    "  for index in hypergraph\n",
    "  for time_str, time_func in time_strategies.items()\n",
    "  for agg_str, agg_func in aggregation_strategies.items()\n",
    "] + [\n",
    "  dict(index=index, time_str=time_str, time_func=time_func)\n",
    "  for index in simplegraph\n",
    "  for time_str, time_func in time_strategies.items()\n",
    "]\n",
    "jc(**args[0])"
   ]
  },
  {
   "cell_type": "code",
   "execution_count": null,
   "id": "senior-translation",
   "metadata": {},
   "outputs": [],
   "source": []
  }
 ],
 "metadata": {
  "kernelspec": {
   "display_name": "Python 3",
   "language": "python",
   "name": "python3"
  },
  "language_info": {
   "codemirror_mode": {
    "name": "ipython",
    "version": 3
   },
   "file_extension": ".py",
   "mimetype": "text/x-python",
   "name": "python",
   "nbconvert_exporter": "python",
   "pygments_lexer": "ipython3",
   "version": "3.9.1"
  }
 },
 "nbformat": 4,
 "nbformat_minor": 5
}
