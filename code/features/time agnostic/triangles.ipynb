{
 "cells": [
  {
   "cell_type": "code",
   "execution_count": 1,
   "id": "australian-lawrence",
   "metadata": {
    "execution": {
     "iopub.execute_input": "2021-02-27T15:48:30.888577Z",
     "iopub.status.busy": "2021-02-27T15:48:30.888196Z",
     "iopub.status.idle": "2021-02-27T15:48:33.415719Z",
     "shell.execute_reply": "2021-02-27T15:48:33.415010Z",
     "shell.execute_reply.started": "2021-02-27T15:48:30.888478Z"
    }
   },
   "outputs": [
    {
     "name": "stdout",
     "output_type": "stream",
     "text": [
      "/scratch/bruingjde/SNAM2021-code\n"
     ]
    }
   ],
   "source": [
    "%cd /scratch/bruingjde/SNAM2021-code/\n",
    "\n",
    "import os\n",
    "import typing\n",
    "\n",
    "import joblib\n",
    "import matplotlib.pyplot as plt\n",
    "import networkx as nx\n",
    "import numpy as np\n",
    "import pandas as pd\n",
    "import scipy\n",
    "import seaborn as sns\n",
    "import sklearn.linear_model\n",
    "import sklearn.model_selection\n",
    "import sklearn.metrics\n",
    "import sklearn.pipeline\n",
    "import sklearn.preprocessing\n",
    "from tqdm.auto import tqdm\n",
    "\n",
    "import tlp"
   ]
  },
  {
   "cell_type": "code",
   "execution_count": 53,
   "id": "bridal-clause",
   "metadata": {
    "execution": {
     "iopub.execute_input": "2021-02-27T21:17:27.171290Z",
     "iopub.status.busy": "2021-02-27T21:17:27.170905Z",
     "iopub.status.idle": "2021-02-27T21:17:27.177680Z",
     "shell.execute_reply": "2021-02-27T21:17:27.176671Z",
     "shell.execute_reply.started": "2021-02-27T21:17:27.171256Z"
    }
   },
   "outputs": [],
   "source": [
    "# Check\n",
    "for entry in os.scandir('data'):\n",
    "  if not os.path.isfile(os.path.join(entry, 'features', 't.pkl')): print(entry)"
   ]
  },
  {
   "cell_type": "code",
   "execution_count": 51,
   "id": "incorporated-workstation",
   "metadata": {
    "execution": {
     "iopub.execute_input": "2021-02-27T20:54:56.264047Z",
     "iopub.status.busy": "2021-02-27T20:54:56.263646Z",
     "iopub.status.idle": "2021-02-27T20:54:56.280763Z",
     "shell.execute_reply": "2021-02-27T20:54:56.279881Z",
     "shell.execute_reply.started": "2021-02-27T20:54:56.264011Z"
    }
   },
   "outputs": [],
   "source": [
    "def t(path: str, verbose: bool = False):\n",
    "  # Check if file exists\n",
    "  feature_path = os.path.join(path, 'features')\n",
    "  file = os.path.join(feature_path, 't.pkl')\n",
    "  if os.path.isfile(file): return \n",
    "  \n",
    "  os.makedirs(feature_path, exist_ok=True)\n",
    "\n",
    "  # Read in\n",
    "  edgelist_mature_file = os.path.join(path, 'edgelist_mature.pkl')\n",
    "  if verbose: print(f'Read {edgelist_mature_file}')\n",
    "  edgelist_mature = pd.read_pickle(edgelist_mature_file)\n",
    "  \n",
    "  instances_file = os.path.join(path, 'instances_sampled.npy')\n",
    "  if verbose: print(f'Read {instances_file}')  \n",
    "  instances_sampled = np.load(instances_file)\n",
    "\n",
    "  nodes = {node for instance in instances_sampled for node in instance}\n",
    "  \n",
    "  G = nx.from_pandas_edgelist(edgelist_mature)\n",
    "  \n",
    "  # Calculate per node\n",
    "  traingles_count = nx.triangles(G, nodes)\n",
    "  \n",
    "  triangles_values = [(traingles_count[u], traingles_count[v]) for u, v in instances_sampled]\n",
    "  \n",
    "  def diff(x): return abs(x[1]-x[0]) \n",
    "  \n",
    "  results = {\n",
    "    tlp.Experiment(feature='T', time_aware=False, nodepair_strategy=strategy_str): (\n",
    "      np.array([strategy_func(instance) for instance in triangles_values])) \n",
    "    for strategy_str, strategy_func in {'sum': sum, 'diff': diff, 'max': max, 'min': min}.items()\n",
    "  }\n",
    "  \n",
    "  joblib.dump(results, os.path.join(feature_path, 't.pkl'))"
   ]
  },
  {
   "cell_type": "code",
   "execution_count": 52,
   "id": "italian-charter",
   "metadata": {
    "execution": {
     "iopub.execute_input": "2021-02-27T20:54:58.368990Z",
     "iopub.status.busy": "2021-02-27T20:54:58.368646Z",
     "iopub.status.idle": "2021-02-27T21:17:19.278939Z",
     "shell.execute_reply": "2021-02-27T21:17:19.277896Z",
     "shell.execute_reply.started": "2021-02-27T20:54:58.368958Z"
    }
   },
   "outputs": [
    {
     "name": "stdout",
     "output_type": "stream",
     "text": [
      "Read data/27/edgelist_mature.pkl\n",
      "Read data/27/instances_sampled.npy\n"
     ]
    }
   ],
   "source": [
    "t('data/27', verbose=True)"
   ]
  },
  {
   "cell_type": "code",
   "execution_count": null,
   "id": "still-advance",
   "metadata": {},
   "outputs": [],
   "source": [
    "entries = sorted(os.scandir('data'), key=lambda x: x.name)\n",
    "tlp.ProgressParallel(n_jobs=len(entries), total=len(entries))(\n",
    "  joblib.delayed(t)(entry.path) for entry in entries\n",
    ")"
   ]
  },
  {
   "cell_type": "code",
   "execution_count": null,
   "id": "distinguished-press",
   "metadata": {},
   "outputs": [],
   "source": []
  }
 ],
 "metadata": {
  "kernelspec": {
   "display_name": "Python 3",
   "language": "python",
   "name": "python3"
  },
  "language_info": {
   "codemirror_mode": {
    "name": "ipython",
    "version": 3
   },
   "file_extension": ".py",
   "mimetype": "text/x-python",
   "name": "python",
   "nbconvert_exporter": "python",
   "pygments_lexer": "ipython3",
   "version": "3.9.1"
  }
 },
 "nbformat": 4,
 "nbformat_minor": 5
}
