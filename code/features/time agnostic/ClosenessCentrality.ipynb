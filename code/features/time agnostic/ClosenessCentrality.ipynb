{
 "cells": [
  {
   "cell_type": "code",
   "execution_count": 1,
   "id": "obvious-straight",
   "metadata": {
    "execution": {
     "iopub.execute_input": "2021-02-27T20:02:22.913512Z",
     "iopub.status.busy": "2021-02-27T20:02:22.913272Z",
     "iopub.status.idle": "2021-02-27T20:02:24.293261Z",
     "shell.execute_reply": "2021-02-27T20:02:24.292598Z",
     "shell.execute_reply.started": "2021-02-27T20:02:22.913442Z"
    }
   },
   "outputs": [
    {
     "name": "stdout",
     "output_type": "stream",
     "text": [
      "/scratch/bruingjde/SNAM2021-code\n"
     ]
    }
   ],
   "source": [
    "%cd /scratch/bruingjde/SNAM2021-code/\n",
    "\n",
    "import os\n",
    "import typing\n",
    "\n",
    "import joblib\n",
    "import matplotlib.pyplot as plt\n",
    "import networkx as nx\n",
    "import numpy as np\n",
    "import pandas as pd\n",
    "import scipy\n",
    "import seaborn as sns\n",
    "import sklearn.linear_model\n",
    "import sklearn.model_selection\n",
    "import sklearn.metrics\n",
    "import sklearn.pipeline\n",
    "import sklearn.preprocessing\n",
    "from tqdm.auto import tqdm\n",
    "\n",
    "import tlp"
   ]
  },
  {
   "cell_type": "code",
   "execution_count": 7,
   "id": "enormous-clearance",
   "metadata": {
    "execution": {
     "iopub.execute_input": "2021-02-27T19:34:45.342991Z",
     "iopub.status.busy": "2021-02-27T19:34:45.342697Z",
     "iopub.status.idle": "2021-02-27T19:34:45.348970Z",
     "shell.execute_reply": "2021-02-27T19:34:45.348183Z",
     "shell.execute_reply.started": "2021-02-27T19:34:45.342960Z"
    }
   },
   "outputs": [
    {
     "name": "stdout",
     "output_type": "stream",
     "text": [
      "<DirEntry '27'>\n"
     ]
    }
   ],
   "source": [
    "# Check\n",
    "for entry in os.scandir('data'):\n",
    "  if not os.path.isfile(os.path.join(entry, 'features', 'AND.pkl')): print(entry)"
   ]
  },
  {
   "cell_type": "code",
   "execution_count": 6,
   "id": "announced-synthesis",
   "metadata": {
    "execution": {
     "iopub.execute_input": "2021-02-27T20:06:34.052483Z",
     "iopub.status.busy": "2021-02-27T20:06:34.052116Z",
     "iopub.status.idle": "2021-02-27T20:06:34.058985Z",
     "shell.execute_reply": "2021-02-27T20:06:34.058302Z",
     "shell.execute_reply.started": "2021-02-27T20:06:34.052446Z"
    }
   },
   "outputs": [],
   "source": [
    "# Delete!!\n",
    "for entry in os.scandir('data'):\n",
    "  filename = os.path.join(entry, 'features', 'CC.pkl')\n",
    "  if os.path.isfile(filename): os.remove(filename)"
   ]
  },
  {
   "cell_type": "code",
   "execution_count": 7,
   "id": "southeast-deputy",
   "metadata": {
    "execution": {
     "iopub.execute_input": "2021-02-27T20:07:45.339140Z",
     "iopub.status.busy": "2021-02-27T20:07:45.338773Z",
     "iopub.status.idle": "2021-02-27T20:07:45.350333Z",
     "shell.execute_reply": "2021-02-27T20:07:45.349623Z",
     "shell.execute_reply.started": "2021-02-27T20:07:45.339106Z"
    }
   },
   "outputs": [],
   "source": [
    "def CC(path: str, verbose: bool = False, feature_name='CC'):\n",
    "  # Check if file exists\n",
    "  feature_path = os.path.join(path, 'features')\n",
    "  file = os.path.join(feature_path, f'{feature_name}.pkl')\n",
    "  if os.path.isfile(file): return \n",
    "  \n",
    "  os.makedirs(feature_path, exist_ok=True)\n",
    "\n",
    "  # Read in\n",
    "  edgelist_mature_file = os.path.join(path, 'edgelist_mature.pkl')\n",
    "  if verbose: print(f'Read {edgelist_mature_file}')\n",
    "  edgelist_mature = pd.read_pickle(edgelist_mature_file)\n",
    "  \n",
    "  instances_file = os.path.join(path, 'instances_sampled.npy')\n",
    "  if verbose: print(f'Read {instances_file}')  \n",
    "  instances_sampled = np.load(instances_file)\n",
    "\n",
    "  # Get all unique nodes in instances\n",
    "#   nodes = {node for instance in instances_sampled for node in instance}\n",
    "  \n",
    "  # Get graph\n",
    "  G = nx.from_pandas_edgelist(edgelist_mature)\n",
    "  \n",
    "  # Calculate per node\n",
    "  value_per_node = nx.closeness_centrality(G)\n",
    "  \n",
    "  value_per_instance = [(value_per_node[u], value_per_node[v]) for u, v in instances_sampled]\n",
    "  \n",
    "  def diff(x): return abs(x[1]-x[0]) \n",
    "  \n",
    "  results = {\n",
    "    tlp.Experiment(feature=feature_name, time_aware=False, nodepair_strategy=strategy_str): (\n",
    "      np.array([strategy_func(instance) for instance in value_per_instance])) \n",
    "    for strategy_str, strategy_func in {'sum': sum, 'diff': diff, 'max': max, 'min': min}.items()\n",
    "  }\n",
    "  \n",
    "  joblib.dump(results, os.path.join(feature_path, f'{feature_name}.pkl'))"
   ]
  },
  {
   "cell_type": "code",
   "execution_count": 8,
   "id": "handy-healthcare",
   "metadata": {
    "execution": {
     "iopub.execute_input": "2021-02-27T20:07:52.062228Z",
     "iopub.status.busy": "2021-02-27T20:07:52.061876Z",
     "iopub.status.idle": "2021-02-27T20:07:52.796545Z",
     "shell.execute_reply": "2021-02-27T20:07:52.795963Z",
     "shell.execute_reply.started": "2021-02-27T20:07:52.062195Z"
    }
   },
   "outputs": [
    {
     "name": "stdout",
     "output_type": "stream",
     "text": [
      "Read data/13/edgelist_mature.pkl\n",
      "Read data/13/instances_sampled.npy\n"
     ]
    }
   ],
   "source": [
    "CC('data/13', verbose=True)"
   ]
  },
  {
   "cell_type": "code",
   "execution_count": null,
   "id": "sweet-secondary",
   "metadata": {
    "execution": {
     "iopub.execute_input": "2021-02-27T20:07:56.841850Z",
     "iopub.status.busy": "2021-02-27T20:07:56.841474Z"
    }
   },
   "outputs": [
    {
     "data": {
      "application/vnd.jupyter.widget-view+json": {
       "model_id": "9a05ace1efaa42b5b8711769dbf3ab15",
       "version_major": 2,
       "version_minor": 0
      },
      "text/plain": [
       "  0%|          | 0/30 [00:00<?, ?it/s]"
      ]
     },
     "metadata": {},
     "output_type": "display_data"
    }
   ],
   "source": [
    "entries = sorted(os.scandir('data'), key=lambda x: x.name)\n",
    "tlp.ProgressParallel(n_jobs=len(entries), total=len(entries))(\n",
    "  joblib.delayed(CC)(entry.path) for entry in entries\n",
    ")"
   ]
  },
  {
   "cell_type": "code",
   "execution_count": null,
   "id": "healthy-knife",
   "metadata": {},
   "outputs": [],
   "source": []
  }
 ],
 "metadata": {
  "kernelspec": {
   "display_name": "Python 3",
   "language": "python",
   "name": "python3"
  },
  "language_info": {
   "codemirror_mode": {
    "name": "ipython",
    "version": 3
   },
   "file_extension": ".py",
   "mimetype": "text/x-python",
   "name": "python",
   "nbconvert_exporter": "python",
   "pygments_lexer": "ipython3",
   "version": "3.9.1"
  }
 },
 "nbformat": 4,
 "nbformat_minor": 5
}
