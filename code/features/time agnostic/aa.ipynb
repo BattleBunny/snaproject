{
 "cells": [
  {
   "cell_type": "code",
   "execution_count": 1,
   "id": "finite-infection",
   "metadata": {
    "execution": {
     "iopub.execute_input": "2021-02-28T17:06:35.004868Z",
     "iopub.status.busy": "2021-02-28T17:06:35.004576Z",
     "iopub.status.idle": "2021-02-28T17:06:36.335949Z",
     "shell.execute_reply": "2021-02-28T17:06:36.335136Z",
     "shell.execute_reply.started": "2021-02-28T17:06:35.004768Z"
    }
   },
   "outputs": [
    {
     "name": "stdout",
     "output_type": "stream",
     "text": [
      "/scratch/bruingjde/SNAM2021-code\n"
     ]
    }
   ],
   "source": [
    "%cd /scratch/bruingjde/SNAM2021-code/\n",
    "\n",
    "import os\n",
    "import typing\n",
    "\n",
    "import joblib\n",
    "import matplotlib.pyplot as plt\n",
    "import networkx as nx\n",
    "import numpy as np\n",
    "import pandas as pd\n",
    "import scipy\n",
    "import seaborn as sns\n",
    "import sklearn.linear_model\n",
    "import sklearn.model_selection\n",
    "import sklearn.metrics\n",
    "import sklearn.pipeline\n",
    "import sklearn.preprocessing\n",
    "from tqdm.auto import tqdm\n",
    "\n",
    "import tlp"
   ]
  },
  {
   "cell_type": "code",
   "execution_count": 2,
   "id": "julian-transcription",
   "metadata": {
    "execution": {
     "iopub.execute_input": "2021-02-28T17:11:37.107683Z",
     "iopub.status.busy": "2021-02-28T17:11:37.107372Z",
     "iopub.status.idle": "2021-02-28T17:11:37.116039Z",
     "shell.execute_reply": "2021-02-28T17:11:37.115006Z",
     "shell.execute_reply.started": "2021-02-28T17:11:37.107652Z"
    }
   },
   "outputs": [],
   "source": [
    "def aa(index: int, verbose: bool = False):\n",
    "  # Check if file exists\n",
    "  result_filepath = os.path.join('data', f'{index:02}', 'features', 'time_agnostic', 'aa.npy')\n",
    "  if os.path.isfile(result_filepath): return \n",
    "  \n",
    "  # If directory does not exist yet, create it.\n",
    "  os.makedirs(os.path.join('data', f'{index:02}', 'features', 'time_agnostic'), exist_ok=True)\n",
    "\n",
    "  # Read in\n",
    "  edgelist_mature_file = os.path.join('data', f'{index:02}', 'edgelist_mature.pkl')\n",
    "  if verbose: print(f'Read {edgelist_mature_file}')\n",
    "  edgelist_mature = pd.read_pickle(edgelist_mature_file)\n",
    "  \n",
    "  instances_file = os.path.join('data', f'{index:02}', 'instances_sampled.npy')\n",
    "  if verbose: print(f'Read {instances_file}')  \n",
    "  instances_sampled = np.load(instances_file)\n",
    "\n",
    "  G = nx.from_pandas_edgelist(edgelist_mature)\n",
    "  \n",
    "  scores = np.array([p for _, _, p in nx.adamic_adar_index(G, instances_sampled)])\n",
    "  np.save(result_filepath, scores)"
   ]
  },
  {
   "cell_type": "code",
   "execution_count": 4,
   "id": "documentary-finish",
   "metadata": {
    "execution": {
     "iopub.execute_input": "2021-02-28T17:13:30.089863Z",
     "iopub.status.busy": "2021-02-28T17:13:30.089501Z",
     "iopub.status.idle": "2021-02-28T17:16:07.111256Z",
     "shell.execute_reply": "2021-02-28T17:16:07.110559Z",
     "shell.execute_reply.started": "2021-02-28T17:13:30.089826Z"
    }
   },
   "outputs": [
    {
     "data": {
      "application/vnd.jupyter.widget-view+json": {
       "model_id": "",
       "version_major": 2,
       "version_minor": 0
      },
      "text/plain": [
       "  0%|          | 0/4 [00:00<?, ?it/s]"
      ]
     },
     "metadata": {},
     "output_type": "display_data"
    },
    {
     "data": {
      "text/plain": [
       "[None, None, None, None]"
      ]
     },
     "execution_count": 4,
     "metadata": {},
     "output_type": "execute_result"
    }
   ],
   "source": [
    "indices = [15, 17, 26, 27]\n",
    "tlp.ProgressParallel(n_jobs=len(indices), total=len(indices))(\n",
    "  joblib.delayed(aa)(index) for index in indices\n",
    ")"
   ]
  },
  {
   "cell_type": "code",
   "execution_count": null,
   "id": "broadband-andorra",
   "metadata": {},
   "outputs": [],
   "source": []
  }
 ],
 "metadata": {
  "kernelspec": {
   "display_name": "Python 3",
   "language": "python",
   "name": "python3"
  },
  "language_info": {
   "codemirror_mode": {
    "name": "ipython",
    "version": 3
   },
   "file_extension": ".py",
   "mimetype": "text/x-python",
   "name": "python",
   "nbconvert_exporter": "python",
   "pygments_lexer": "ipython3",
   "version": "3.9.1"
  }
 },
 "nbformat": 4,
 "nbformat_minor": 5
}
