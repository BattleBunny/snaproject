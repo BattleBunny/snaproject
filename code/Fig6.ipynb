{
 "cells": [
  {
   "cell_type": "code",
   "execution_count": 1,
   "id": "c40e94f7-14d8-41d5-bcea-76fb275a9784",
   "metadata": {},
   "outputs": [
    {
     "name": "stdout",
     "output_type": "stream",
     "text": [
      "/data/bruingjde/on-going/SNAM2021-code\n"
     ]
    }
   ],
   "source": [
    "%cd /data/bruingjde/on-going/SNAM2021-code/\n",
    "\n",
    "import numpy as np\n",
    "import pandas as pd\n",
    "import matplotlib.pyplot as plt\n",
    "import matplotlib\n",
    "import sklearn.model_selection\n",
    "import sklearn.pipeline\n",
    "import sklearn.preprocessing\n",
    "import sklearn.metrics\n",
    "import sklearn.linear_model\n",
    "import seaborn as sns\n",
    "from tqdm.auto import tqdm\n",
    "\n",
    "networks = [network for network in np.arange(1, 31) if network not in [15, 17, 26, 27]]\n",
    "    \n",
    "def read_file(path):\n",
    "    extension = path.split('.')[1]\n",
    "    if extension == 'int':\n",
    "        with open(path) as file:\n",
    "            return int(file.read())\n",
    "    elif extension == 'float':\n",
    "        with open(path) as file:\n",
    "            return float(file.read())\n",
    "    else:\n",
    "        raise Exception(f'{extension=}')\n",
    "\n",
    "def get_stats(network: int):\n",
    "    properties_dir = f'data/{network:02}/+000/properties/'\n",
    "    properties = {prop.split('.')[0]: read_file(properties_dir + prop) \n",
    "                  for prop \n",
    "                  in ['edges.int', 'connected_pairs.int', 'II-A_LogisticRegression.float', 'II-B_LogisticRegression.float']}\n",
    "    return {\n",
    "        '\\\\bar e': properties['edges'] / properties['connected_pairs'],\n",
    "        'A': properties['II-A_LogisticRegression'],\n",
    "        'B': properties['II-B_LogisticRegression'],\n",
    "        'Domain': pd.read_json('networks.jsonl', lines=True).set_index('index').loc[network, 'category']\n",
    "    }"
   ]
  },
  {
   "cell_type": "code",
   "execution_count": 18,
   "id": "c93a24d8-8ca3-4b71-b186-ab2d503501b1",
   "metadata": {},
   "outputs": [],
   "source": [
    "data = pd.DataFrame({network: get_stats(network) for network in networks}).T.astype({'\\\\bar e': float, 'A': float, 'B': float}).loc[lambda x: x['\\\\bar e'] > 2]"
   ]
  },
  {
   "cell_type": "code",
   "execution_count": 20,
   "id": "cef8f211-b2ba-4ac0-9b2b-8adef806c510",
   "metadata": {},
   "outputs": [
    {
     "data": {
      "image/png": "[encoded data removed]",
      "text/plain": [
       "<Figure size 237.6x237.6 with 1 Axes>"
      ]
     },
     "metadata": {
      "needs_background": "light"
     },
     "output_type": "display_data"
    }
   ],
   "source": [
    "fontsize=8\n",
    "rc = {\n",
    "  'xtick.top': True, 'ytick.right': True, 'figure.figsize': (3.30,3.3), \n",
    "  'axes.titlesize': fontsize, \n",
    "  'axes.labelsize': fontsize, \n",
    "  'xtick.labelsize': fontsize, \n",
    "  'ytick.labelsize': fontsize, \n",
    "  'legend.fontsize': fontsize, \n",
    "  'legend.title_fontsize': fontsize,\n",
    "  'lines.linewidth': 1,\n",
    "  'lines.markersize': 4,\n",
    "  'legend.handlelength': .4,\n",
    "  'font.family': 'sans-serif',\n",
    "  'font.sans-serif': 'Helvetica',\n",
    "  'savefig.transparent': True\n",
    "}\n",
    "\n",
    "with plt.rc_context(rc):\n",
    "    ax = sns.regplot(data=data, x='B', y='A', color='black')\n",
    "    ax.axis('scaled')\n",
    "    ax = sns.scatterplot(data=data, x='B', y='A', hue='Domain', ax=ax)\n",
    "    ax.axline((0,0), (1,1), ls='--', c='grey')\n",
    "    ax.xaxis.set_minor_locator(matplotlib.ticker.MultipleLocator(.01))\n",
    "    ax.yaxis.set_minor_locator(matplotlib.ticker.MultipleLocator(.01))\n",
    "    ax.xaxis.set_major_locator(matplotlib.ticker.MultipleLocator(.05))\n",
    "    ax.yaxis.set_major_locator(matplotlib.ticker.MultipleLocator(.05))\n",
    "    ax.set_xlabel('Without multi-edge aggregation (AUC)')\n",
    "    ax.set_ylabel('With multi-edge aggregation (AUC)')\n",
    "    ax.set_xlim(.75, 1)\n",
    "    ax.set_ylim(.75, 1)\n",
    "    ax.legend(title='Domain')"
   ]
  },
  {
   "cell_type": "code",
   "execution_count": null,
   "id": "f68ac0dc-58fe-4159-bbe4-8c0872d14336",
   "metadata": {},
   "outputs": [],
   "source": []
  }
 ],
 "metadata": {
  "kernelspec": {
   "display_name": "Python 3",
   "language": "python",
   "name": "python3"
  },
  "language_info": {
   "codemirror_mode": {
    "name": "ipython",
    "version": 3
   },
   "file_extension": ".py",
   "mimetype": "text/x-python",
   "name": "python",
   "nbconvert_exporter": "python",
   "pygments_lexer": "ipython3",
   "version": "3.9.5"
  }
 },
 "nbformat": 4,
 "nbformat_minor": 5
}
