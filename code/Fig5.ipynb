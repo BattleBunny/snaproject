{
 "cells": [
  {
   "cell_type": "code",
   "execution_count": 5,
   "id": "7bca4e43-95a6-44a8-a983-197d3f48d456",
   "metadata": {},
   "outputs": [
    {
     "name": "stdout",
     "output_type": "stream",
     "text": [
      "/data/bruingjde/on-going/SNAM2021-code\n"
     ]
    }
   ],
   "source": [
    "%cd /data/bruingjde/on-going/SNAM2021-code/\n",
    "\n",
    "import numpy as np\n",
    "import pandas as pd\n",
    "import matplotlib.pyplot as plt\n",
    "import matplotlib\n",
    "import sklearn.model_selection\n",
    "import sklearn.pipeline\n",
    "import sklearn.preprocessing\n",
    "import sklearn.metrics\n",
    "import sklearn.linear_model\n",
    "import seaborn as sns\n",
    "from tqdm.auto import tqdm\n",
    "\n",
    "networks = [network for network in np.arange(1, 31) if network not in [15, 17, 26, 27]]\n",
    "\n",
    "def get_performance(network: int, nswap_perc: int = 0, feature_set: str = 'II-A', model: str = 'LogisticRegression'):\n",
    "    with open(f'data/{network:02}/{nswap_perc:+04.0f}/properties/{feature_set}_{model}.float') as file:\n",
    "        return float(file.read())\n",
    "    \n",
    "def read_file(path):\n",
    "    extension = path.split('.')[1]\n",
    "    if extension == 'int':\n",
    "        with open(path) as file:\n",
    "            return int(file.read())\n",
    "    elif extension == 'float':\n",
    "        with open(path) as file:\n",
    "            return float(file.read())\n",
    "    else:\n",
    "        raise Exception(f'{extension=}')\n",
    "\n",
    "def get_stats(network: int):\n",
    "    properties_dir = f'data/{network:02}/+000/properties/'\n",
    "    properties = {prop.split('.')[0]: read_file(properties_dir + prop) \n",
    "                  for prop \n",
    "                  in ['nodes.int', 'edges.int', 'connected_pairs.int', 'edges.int', \n",
    "                      'assortativity.float', 'average_clustering.float', 'diameter.int']}\n",
    "    info = pd.read_json('networks.jsonl', lines=True).set_index('index').loc[network]\n",
    "    return {\n",
    "        'Label': info['label'],\n",
    "        'Domain': info['category'],\n",
    "        '\\\\bar e': properties['edges'] / properties['connected_pairs'],\n",
    "        'Nodes': properties['nodes'], \n",
    "        'Edges': properties['edges'],\n",
    "        'Density': 2*properties['connected_pairs'] / (properties['nodes']*(properties['nodes'] - 1)),\n",
    "        'Assortativity': properties['assortativity'],\n",
    "        'Average clustering coefficient': properties['average_clustering'],\n",
    "        'Diameter': properties['diameter'],\n",
    "        '': '\\cite{' + info['source'] + '}' #type: ignore\n",
    "    }\n",
    "\n",
    "info = pd.read_json('networks.jsonl', lines=True).set_index('index')\n",
    "table = pd.DataFrame({network: get_stats(network) for network in networks}).T\n",
    "df = pd.DataFrame({\n",
    "    'Degree assortativity': table['Assortativity'].astype(float),\n",
    "    'Static topological features (AUC)': {network: get_performance(network, feature_set='I') for network in networks},\n",
    "    'Temporal topological features (AUC)': {network: get_performance(network, feature_set='II-A') for network in networks},\n",
    "}).dropna()"
   ]
  },
  {
   "cell_type": "code",
   "execution_count": 12,
   "id": "22f2a8fd-90c9-4684-8db1-121c5e7defc7",
   "metadata": {},
   "outputs": [
    {
     "data": {
      "text/plain": [
       "degree assortativity                   float64\n",
       "Static topological features (AUC)      float64\n",
       "Temporal topological features (AUC)    float64\n",
       "dtype: object"
      ]
     },
     "execution_count": 12,
     "metadata": {},
     "output_type": "execute_result"
    }
   ],
   "source": [
    "df.dtypes"
   ]
  },
  {
   "cell_type": "code",
   "execution_count": 21,
   "id": "a36ae613-03d0-472d-aa8a-16779471c8a3",
   "metadata": {},
   "outputs": [],
   "source": [
    "data = df.melt('Degree assortativity')"
   ]
  },
  {
   "cell_type": "code",
   "execution_count": 89,
   "id": "c42bd983-a64e-45f8-bd0c-e8326844b694",
   "metadata": {},
   "outputs": [
    {
     "data": {
      "image/png": "[encoded data removed]",
      "text/plain": [
       "<Figure size 237.6x237.6 with 1 Axes>"
      ]
     },
     "metadata": {
      "needs_background": "light"
     },
     "output_type": "display_data"
    }
   ],
   "source": [
    "fontsize=8\n",
    "rc = {\n",
    "  'xtick.top': True, 'ytick.right': True, 'figure.figsize': (3.30,3.3), \n",
    "  'axes.titlesize': fontsize, \n",
    "  'axes.labelsize': fontsize, \n",
    "  'xtick.labelsize': fontsize, \n",
    "  'ytick.labelsize': fontsize, \n",
    "  'legend.fontsize': fontsize, \n",
    "  'legend.title_fontsize': fontsize,\n",
    "  'lines.linewidth': 1,\n",
    "#   'lines.markersize': 4,\n",
    "  'legend.handlelength': .4,\n",
    "  'font.family': 'sans-serif',\n",
    "  'font.sans-serif': 'Helvetica',\n",
    "  'savefig.transparent': True\n",
    "}\n",
    "\n",
    "with plt.rc_context(rc):\n",
    "    ax = sns.regplot(data=df, x='Degree assortativity', y='Temporal topological features (AUC)', label='Static topological')\n",
    "    ax = sns.regplot(data=df, x='Degree assortativity', y='Static topological features (AUC)', marker='x', ax=ax, label='Temporal weighted topological')\n",
    "    ax.xaxis.set_minor_locator(matplotlib.ticker.MultipleLocator(.02))\n",
    "    ax.yaxis.set_minor_locator(matplotlib.ticker.MultipleLocator(.02))\n",
    "    ax.set_ylim(.5, 1)\n",
    "    ax.legend(title='Feature set')"
   ]
  },
  {
   "cell_type": "code",
   "execution_count": null,
   "id": "8be8af2f-637e-478e-83b3-8e803efc2c33",
   "metadata": {},
   "outputs": [],
   "source": []
  },
  {
   "cell_type": "code",
   "execution_count": null,
   "id": "4b2d00f6-cd9c-4712-b9d0-78af5c5c426a",
   "metadata": {},
   "outputs": [],
   "source": []
  }
 ],
 "metadata": {
  "kernelspec": {
   "display_name": "Python 3",
   "language": "python",
   "name": "python3"
  },
  "language_info": {
   "codemirror_mode": {
    "name": "ipython",
    "version": 3
   },
   "file_extension": ".py",
   "mimetype": "text/x-python",
   "name": "python",
   "nbconvert_exporter": "python",
   "pygments_lexer": "ipython3",
   "version": "3.9.5"
  }
 },
 "nbformat": 4,
 "nbformat_minor": 5
}
