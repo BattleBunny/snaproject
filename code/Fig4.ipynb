{
 "cells": [
  {
   "cell_type": "code",
   "execution_count": 46,
   "id": "cf5cadc9-0614-4127-88e0-014e6404a6e9",
   "metadata": {},
   "outputs": [
    {
     "name": "stdout",
     "output_type": "stream",
     "text": [
      "/data/bruingjde/on-going/SNAM2021-code\n"
     ]
    }
   ],
   "source": [
    "%cd /data/bruingjde/on-going/SNAM2021-code/\n",
    "\n",
    "import numpy as np\n",
    "import pandas as pd\n",
    "import matplotlib.pyplot as plt\n",
    "import matplotlib\n",
    "import sklearn.model_selection\n",
    "import sklearn.pipeline\n",
    "import sklearn.preprocessing\n",
    "import sklearn.metrics\n",
    "import sklearn.linear_model\n",
    "import seaborn as sns\n",
    "from tqdm.auto import tqdm\n",
    "\n",
    "networks = [network for network in np.arange(1, 31) if network not in [15, 17, 26, 27]]\n",
    "\n",
    "def get_performance(network: int, nswap_perc: int = 0, feature_set: str = 'II-A', model: str = 'LogisticRegression'):\n",
    "    with open(f'data/{network:02}/{nswap_perc:+04.0f}/properties/{feature_set}_{model}.float') as file:\n",
    "        return float(file.read())\n",
    "    \n",
    "def read_file(path):\n",
    "    extension = path.split('.')[1]\n",
    "    if extension == 'int':\n",
    "        with open(path) as file:\n",
    "            return int(file.read())\n",
    "    elif extension == 'float':\n",
    "        with open(path) as file:\n",
    "            return float(file.read())\n",
    "    else:\n",
    "        raise Exception(f'{extension=}')\n",
    "\n",
    "def get_stats(network: int):\n",
    "    properties_dir = f'data/{network:02}/+000/properties/'\n",
    "    properties = {prop.split('.')[0]: read_file(properties_dir + prop) \n",
    "                  for prop \n",
    "                  in ['nodes.int', 'edges.int', 'connected_pairs.int', 'edges.int', \n",
    "                      'assortativity.float', 'average_clustering.float', 'diameter.int']}\n",
    "    info = pd.read_json('networks.jsonl', lines=True).set_index('index').loc[network]\n",
    "    return {\n",
    "        'Label': info['label'],\n",
    "        'Domain': info['category'],\n",
    "        '\\\\bar e': properties['edges'] / properties['connected_pairs'],\n",
    "        'Nodes': properties['nodes'], \n",
    "        'Edges': properties['edges'],\n",
    "        'Density': 2*properties['connected_pairs'] / (properties['nodes']*(properties['nodes'] - 1)),\n",
    "        'Assortativity': properties['assortativity'],\n",
    "        'Average clustering coefficient': properties['average_clustering'],\n",
    "        'Diameter': properties['diameter'],\n",
    "        '': '\\cite{' + info['source'] + '}' #type: ignore\n",
    "    }\n",
    "\n",
    "info = pd.read_json('networks.jsonl', lines=True).set_index('index')\n",
    "table = pd.DataFrame({network: get_stats(network) for network in networks}).T\n",
    "df = pd.DataFrame({\n",
    "    'number of nodes': table['Nodes'].astype(int),\n",
    "    'number of edges': table['Edges'].astype(float),\n",
    "    'density': table['Density'].astype(float),\n",
    "    'degree assortativity': table['Assortativity'].astype(float),\n",
    "    'average clustering coefficient': table['Average clustering coefficient'].astype(float),\n",
    "    'diameter': table['Diameter'].astype(int),\n",
    "    'Static topological features (AUC)': {network: get_performance(network, feature_set='I') for network in networks},\n",
    "    'Temporal topological features (AUC)': {network: get_performance(network, feature_set='II-A') for network in networks},\n",
    "}).dropna()"
   ]
  },
  {
   "cell_type": "code",
   "execution_count": 48,
   "id": "52840875-2ca8-49bb-9858-c7d20e61ea9e",
   "metadata": {},
   "outputs": [
    {
     "data": {
      "text/html": [
       "<div>\n",
       "<style scoped>\n",
       "    .dataframe tbody tr th:only-of-type {\n",
       "        vertical-align: middle;\n",
       "    }\n",
       "\n",
       "    .dataframe tbody tr th {\n",
       "        vertical-align: top;\n",
       "    }\n",
       "\n",
       "    .dataframe thead th {\n",
       "        text-align: right;\n",
       "    }\n",
       "</style>\n",
       "<table border=\"1\" class=\"dataframe\">\n",
       "  <thead>\n",
       "    <tr style=\"text-align: right;\">\n",
       "      <th></th>\n",
       "      <th>Static topological features (AUC)</th>\n",
       "      <th>Temporal topological features (AUC)</th>\n",
       "    </tr>\n",
       "  </thead>\n",
       "  <tbody>\n",
       "    <tr>\n",
       "      <th>number of nodes</th>\n",
       "      <td>0.037187</td>\n",
       "      <td>0.069971</td>\n",
       "    </tr>\n",
       "    <tr>\n",
       "      <th>number of edges</th>\n",
       "      <td>-0.074680</td>\n",
       "      <td>-0.021758</td>\n",
       "    </tr>\n",
       "    <tr>\n",
       "      <th>density</th>\n",
       "      <td>-0.376789</td>\n",
       "      <td>-0.259893</td>\n",
       "    </tr>\n",
       "    <tr>\n",
       "      <th>degree assortativity</th>\n",
       "      <td>-0.650712</td>\n",
       "      <td>-0.716001</td>\n",
       "    </tr>\n",
       "    <tr>\n",
       "      <th>average clustering coefficient</th>\n",
       "      <td>-0.640699</td>\n",
       "      <td>-0.504401</td>\n",
       "    </tr>\n",
       "    <tr>\n",
       "      <th>diameter</th>\n",
       "      <td>0.091873</td>\n",
       "      <td>0.047331</td>\n",
       "    </tr>\n",
       "  </tbody>\n",
       "</table>\n",
       "</div>"
      ],
      "text/plain": [
       "                                Static topological features (AUC)  \\\n",
       "number of nodes                                          0.037187   \n",
       "number of edges                                         -0.074680   \n",
       "density                                                 -0.376789   \n",
       "degree assortativity                                    -0.650712   \n",
       "average clustering coefficient                          -0.640699   \n",
       "diameter                                                 0.091873   \n",
       "\n",
       "                                Temporal topological features (AUC)  \n",
       "number of nodes                                            0.069971  \n",
       "number of edges                                           -0.021758  \n",
       "density                                                   -0.259893  \n",
       "degree assortativity                                      -0.716001  \n",
       "average clustering coefficient                            -0.504401  \n",
       "diameter                                                   0.047331  "
      ]
     },
     "execution_count": 48,
     "metadata": {},
     "output_type": "execute_result"
    }
   ],
   "source": [
    "data = (\n",
    "    df\n",
    "    .corr()\n",
    "    .loc[['number of nodes', 'number of edges', 'density', 'degree assortativity',\n",
    "          'average clustering coefficient', 'diameter'], \n",
    "         ['Static topological features (AUC)', 'Temporal topological features (AUC)']]\n",
    ")\n",
    "data"
   ]
  },
  {
   "cell_type": "code",
   "execution_count": 53,
   "id": "29513a80-2ce0-4264-a1a1-4ab2aa196b33",
   "metadata": {},
   "outputs": [
    {
     "data": {
      "image/png": "[encoded data removed]",
      "text/plain": [
       "<Figure size 237.6x237.6 with 2 Axes>"
      ]
     },
     "metadata": {
      "needs_background": "light"
     },
     "output_type": "display_data"
    }
   ],
   "source": [
    "fontsize=8\n",
    "grid_kws = {\"height_ratios\": (.9, .05), \"hspace\": .5}\n",
    "rc = {\n",
    "  'xtick.top': True, 'ytick.right': True, 'figure.figsize': (3.30,3.3), \n",
    "  'axes.titlesize': fontsize, \n",
    "  'axes.labelsize': fontsize, \n",
    "  'xtick.labelsize': fontsize, \n",
    "  'ytick.labelsize': fontsize, \n",
    "  'legend.fontsize': fontsize, \n",
    "  'legend.title_fontsize': fontsize,\n",
    "  'lines.linewidth': 1,\n",
    "#   'lines.markersize': 4,\n",
    "  'legend.handlelength': .1,\n",
    "  'font.family': 'sans-serif',\n",
    "  'font.sans-serif': 'Helvetica',\n",
    "  'savefig.transparent': True\n",
    "}\n",
    "\n",
    "with plt.rc_context(rc):\n",
    "    f, (ax, cbar_ax) = plt.subplots(2, gridspec_kw=grid_kws, figsize=(3.3, 3.3))\n",
    "    ax = sns.heatmap(data, ax=ax, cbar_ax=cbar_ax,\n",
    "                     cbar_kws={\n",
    "                         \"orientation\": \"horizontal\", \n",
    "                         'label': r'Pearson correlation coefficient ($\\rho$)'\n",
    "                     },\n",
    "                     vmin=-1, vmax=1, annot=True, fmt='.2f', cmap='RdBu',\n",
    "                     annot_kws={'size': fontsize})\n",
    "    ax.set_xticklabels(ax.get_xticklabels(), rotation=0)\n",
    "    cbar_ax.xaxis.set_ticks(np.arange(-1, 1.1, .5))\n",
    "    cbar_ax.xaxis.set_ticks(np.arange(-1, 1.1, .1), minor=True)\n",
    "#   plt.savefig('code/figures/output/Fig4.pdf', bbox_inches='tight')"
   ]
  },
  {
   "cell_type": "code",
   "execution_count": null,
   "id": "6ede6e84-5f96-4708-8224-a523447533cb",
   "metadata": {},
   "outputs": [],
   "source": []
  }
 ],
 "metadata": {
  "kernelspec": {
   "display_name": "Python 3",
   "language": "python",
   "name": "python3"
  },
  "language_info": {
   "codemirror_mode": {
    "name": "ipython",
    "version": 3
   },
   "file_extension": ".py",
   "mimetype": "text/x-python",
   "name": "python",
   "nbconvert_exporter": "python",
   "pygments_lexer": "ipython3",
   "version": "3.9.5"
  }
 },
 "nbformat": 4,
 "nbformat_minor": 5
}
