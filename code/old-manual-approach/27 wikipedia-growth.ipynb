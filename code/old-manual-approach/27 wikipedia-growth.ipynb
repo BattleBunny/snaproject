{
 "cells": [
  {
   "cell_type": "markdown",
   "id": "patient-thanksgiving",
   "metadata": {},
   "source": [
    "# Setup"
   ]
  },
  {
   "cell_type": "code",
   "execution_count": 1,
   "id": "documentary-beauty",
   "metadata": {
    "execution": {
     "iopub.execute_input": "2021-02-13T06:01:31.104770Z",
     "iopub.status.busy": "2021-02-13T06:01:31.104333Z",
     "iopub.status.idle": "2021-02-13T06:01:31.909974Z",
     "shell.execute_reply": "2021-02-13T06:01:31.909515Z",
     "shell.execute_reply.started": "2021-02-13T06:01:31.104660Z"
    }
   },
   "outputs": [
    {
     "output_type": "stream",
     "name": "stdout",
     "text": [
      "/scratch/bruingjde/temporalLinkprediction\n"
     ]
    }
   ],
   "source": [
    "%cd ..\n",
    "\n",
    "import importlib\n",
    "import os\n",
    "\n",
    "import joblib\n",
    "import pandas as pd\n",
    "\n",
    "import tlp\n",
    "\n",
    "url = 'http://konect.cc/files/download.tsv.wikipedia-growth.tar.bz2'\n",
    "dataset_id = '27'\n",
    "adjusted_intervals = dict()"
   ]
  },
  {
   "cell_type": "markdown",
   "id": "boxed-elevation",
   "metadata": {},
   "source": [
    "# Download and extract data"
   ]
  },
  {
   "cell_type": "code",
   "execution_count": 2,
   "id": "cognitive-cholesterol",
   "metadata": {
    "execution": {
     "iopub.execute_input": "2021-02-13T06:01:42.613533Z",
     "iopub.status.busy": "2021-02-13T06:01:42.613231Z",
     "iopub.status.idle": "2021-02-13T06:07:03.193526Z",
     "shell.execute_reply": "2021-02-13T06:07:03.160378Z",
     "shell.execute_reply.started": "2021-02-13T06:01:42.613499Z"
    }
   },
   "outputs": [
    {
     "output_type": "error",
     "ename": "IsADirectoryError",
     "evalue": "[Errno 21] Is a directory: 'data/27/'",
     "traceback": [
      "\u001b[0;31m---------------------------------------------------------------------------\u001b[0m",
      "\u001b[0;31mIsADirectoryError\u001b[0m                         Traceback (most recent call last)",
      "\u001b[0;32m<ipython-input-2-584367d822ff>\u001b[0m in \u001b[0;36m<module>\u001b[0;34m\u001b[0m\n\u001b[1;32m      2\u001b[0m \u001b[0;32mif\u001b[0m \u001b[0;32mnot\u001b[0m \u001b[0mos\u001b[0m\u001b[0;34m.\u001b[0m\u001b[0mpath\u001b[0m\u001b[0;34m.\u001b[0m\u001b[0misfile\u001b[0m\u001b[0;34m(\u001b[0m\u001b[0mfilepath\u001b[0m\u001b[0;34m)\u001b[0m\u001b[0;34m:\u001b[0m\u001b[0;34m\u001b[0m\u001b[0;34m\u001b[0m\u001b[0m\n\u001b[1;32m      3\u001b[0m   \u001b[0medgelist\u001b[0m \u001b[0;34m=\u001b[0m \u001b[0mtlp\u001b[0m\u001b[0;34m.\u001b[0m\u001b[0mget_edgelist\u001b[0m\u001b[0;34m(\u001b[0m\u001b[0murl\u001b[0m\u001b[0;34m,\u001b[0m \u001b[0mfilepath\u001b[0m\u001b[0;34m,\u001b[0m \u001b[0mverbose\u001b[0m\u001b[0;34m=\u001b[0m\u001b[0;32mTrue\u001b[0m\u001b[0;34m)\u001b[0m\u001b[0;34m\u001b[0m\u001b[0;34m\u001b[0m\u001b[0m\n\u001b[0;32m----> 4\u001b[0;31m   \u001b[0mjoblib\u001b[0m\u001b[0;34m.\u001b[0m\u001b[0mdump\u001b[0m\u001b[0;34m(\u001b[0m\u001b[0medgelist\u001b[0m\u001b[0;34m,\u001b[0m \u001b[0mfilepath\u001b[0m\u001b[0;34m)\u001b[0m\u001b[0;34m\u001b[0m\u001b[0;34m\u001b[0m\u001b[0m\n\u001b[0m",
      "\u001b[0;32m/scratch/bruingjde/miniconda3/envs/tlp/lib/python3.9/site-packages/joblib/numpy_pickle.py\u001b[0m in \u001b[0;36mdump\u001b[0;34m(value, filename, compress, protocol, cache_size)\u001b[0m\n\u001b[1;32m    477\u001b[0m             \u001b[0mNumpyPickler\u001b[0m\u001b[0;34m(\u001b[0m\u001b[0mf\u001b[0m\u001b[0;34m,\u001b[0m \u001b[0mprotocol\u001b[0m\u001b[0;34m=\u001b[0m\u001b[0mprotocol\u001b[0m\u001b[0;34m)\u001b[0m\u001b[0;34m.\u001b[0m\u001b[0mdump\u001b[0m\u001b[0;34m(\u001b[0m\u001b[0mvalue\u001b[0m\u001b[0;34m)\u001b[0m\u001b[0;34m\u001b[0m\u001b[0;34m\u001b[0m\u001b[0m\n\u001b[1;32m    478\u001b[0m     \u001b[0;32melif\u001b[0m \u001b[0mis_filename\u001b[0m\u001b[0;34m:\u001b[0m\u001b[0;34m\u001b[0m\u001b[0;34m\u001b[0m\u001b[0m\n\u001b[0;32m--> 479\u001b[0;31m         \u001b[0;32mwith\u001b[0m \u001b[0mopen\u001b[0m\u001b[0;34m(\u001b[0m\u001b[0mfilename\u001b[0m\u001b[0;34m,\u001b[0m \u001b[0;34m'wb'\u001b[0m\u001b[0;34m)\u001b[0m \u001b[0;32mas\u001b[0m \u001b[0mf\u001b[0m\u001b[0;34m:\u001b[0m\u001b[0;34m\u001b[0m\u001b[0;34m\u001b[0m\u001b[0m\n\u001b[0m\u001b[1;32m    480\u001b[0m             \u001b[0mNumpyPickler\u001b[0m\u001b[0;34m(\u001b[0m\u001b[0mf\u001b[0m\u001b[0;34m,\u001b[0m \u001b[0mprotocol\u001b[0m\u001b[0;34m=\u001b[0m\u001b[0mprotocol\u001b[0m\u001b[0;34m)\u001b[0m\u001b[0;34m.\u001b[0m\u001b[0mdump\u001b[0m\u001b[0;34m(\u001b[0m\u001b[0mvalue\u001b[0m\u001b[0;34m)\u001b[0m\u001b[0;34m\u001b[0m\u001b[0;34m\u001b[0m\u001b[0m\n\u001b[1;32m    481\u001b[0m     \u001b[0;32melse\u001b[0m\u001b[0;34m:\u001b[0m\u001b[0;34m\u001b[0m\u001b[0;34m\u001b[0m\u001b[0m\n",
      "\u001b[0;31mIsADirectoryError\u001b[0m: [Errno 21] Is a directory: 'data/27/'"
     ]
    }
   ],
   "source": [
    "filepath = f'data/{dataset_id}/'\n",
    "if not os.path.isfile(filepath):\n",
    "  edgelist = tlp.get_edgelist(url, filepath, verbose=True)\n",
    "  joblib.dump(edgelist, os.path.join(filepath, 'edgelist.pkl'))"
   ]
  },
  {
   "cell_type": "markdown",
   "id": "pursuant-marks",
   "metadata": {},
   "source": [
    "# Splitting"
   ]
  },
  {
   "cell_type": "code",
   "execution_count": 9,
   "id": "blessed-screen",
   "metadata": {
    "execution": {
     "iopub.execute_input": "2021-02-13T06:07:03.195966Z",
     "iopub.status.busy": "2021-02-13T06:07:03.195689Z",
     "iopub.status.idle": "2021-02-13T06:07:06.252243Z",
     "shell.execute_reply": "2021-02-13T06:07:06.251246Z",
     "shell.execute_reply.started": "2021-02-13T06:07:03.195932Z"
    }
   },
   "outputs": [
    {
     "output_type": "stream",
     "name": "stdout",
     "text": [
      "CPU times: user 3.04 s, sys: 3 s, total: 6.04 s\nWall time: 6.06 s\n"
     ]
    }
   ],
   "source": [
    "%%time\n",
    "filepath_edgelist = f'data/{dataset_id}/edgelist.pkl'\n",
    "filepath_mature = f'data/{dataset_id}/edgelist_mature.pkl'\n",
    "filepath_probe = f'data/{dataset_id}/edgelist_probe.pkl'\n",
    "\n",
    "if not os.path.isfile(filepath_mature) or not os.path.isfile(filepath_probe):\n",
    "  edgelist_mature, edgelist_probe = tlp.split_in_intervals(\n",
    "    edgelist=joblib.load(filepath_edgelist), **adjusted_intervals)\n",
    "  joblib.dump(edgelist_mature, filepath_mature)\n",
    "  joblib.dump(edgelist_probe, filepath_probe)"
   ]
  },
  {
   "cell_type": "markdown",
   "id": "widespread-filling",
   "metadata": {},
   "source": [
    "# Instances"
   ]
  },
  {
   "cell_type": "code",
   "execution_count": 10,
   "id": "daily-thumbnail",
   "metadata": {
    "execution": {
     "iopub.execute_input": "2021-02-13T06:07:06.253777Z",
     "iopub.status.busy": "2021-02-13T06:07:06.253616Z"
    }
   },
   "outputs": [
    {
     "output_type": "display_data",
     "data": {
      "text/plain": "Collecting unconnected pairs of nodes:   0%|          | 0/1573757 [00:00<?, ?it/s]",
      "application/vnd.jupyter.widget-view+json": {
       "version_major": 2,
       "version_minor": 0,
       "model_id": "d6b494215da3477d984093f952bc2881"
      }
     },
     "metadata": {}
    },
    {
     "output_type": "error",
     "ename": "KeyboardInterrupt",
     "evalue": "",
     "traceback": [
      "\u001b[0;31m---------------------------------------------------------------------------\u001b[0m",
      "\u001b[0;31mKeyboardInterrupt\u001b[0m                         Traceback (most recent call last)",
      "\u001b[0;32m/scratch/bruingjde/miniconda3/envs/tlp/lib/python3.9/site-packages/IPython/core/magics/execution.py\u001b[0m in \u001b[0;36mtime\u001b[0;34m(self, line, cell, local_ns)\u001b[0m\n\u001b[1;32m   1320\u001b[0m             \u001b[0;32mtry\u001b[0m\u001b[0;34m:\u001b[0m\u001b[0;34m\u001b[0m\u001b[0;34m\u001b[0m\u001b[0m\n\u001b[0;32m-> 1321\u001b[0;31m                 \u001b[0mexec\u001b[0m\u001b[0;34m(\u001b[0m\u001b[0mcode\u001b[0m\u001b[0;34m,\u001b[0m \u001b[0mglob\u001b[0m\u001b[0;34m,\u001b[0m \u001b[0mlocal_ns\u001b[0m\u001b[0;34m)\u001b[0m\u001b[0;34m\u001b[0m\u001b[0;34m\u001b[0m\u001b[0m\n\u001b[0m\u001b[1;32m   1322\u001b[0m                 \u001b[0mout\u001b[0m\u001b[0;34m=\u001b[0m\u001b[0;32mNone\u001b[0m\u001b[0;34m\u001b[0m\u001b[0;34m\u001b[0m\u001b[0m\n",
      "\u001b[0;32m<timed exec>\u001b[0m in \u001b[0;36m<module>\u001b[0;34m\u001b[0m\n",
      "\u001b[0;32m/scratch/bruingjde/temporalLinkprediction/tlp/pipeline.py\u001b[0m in \u001b[0;36mget_instances\u001b[0;34m(edgelist_mature, cutoff, verbose)\u001b[0m\n\u001b[1;32m    163\u001b[0m                                        create_using=nx.MultiGraph)\n\u001b[0;32m--> 164\u001b[0;31m   return np.array([\n\u001b[0m\u001b[1;32m    165\u001b[0m     \u001b[0;34m(\u001b[0m\u001b[0mnode\u001b[0m\u001b[0;34m,\u001b[0m \u001b[0mneighborhood\u001b[0m\u001b[0;34m)\u001b[0m\u001b[0;34m\u001b[0m\u001b[0;34m\u001b[0m\u001b[0m\n",
      "\u001b[0;32m/scratch/bruingjde/temporalLinkprediction/tlp/pipeline.py\u001b[0m in \u001b[0;36m<listcomp>\u001b[0;34m(.0)\u001b[0m\n\u001b[1;32m    169\u001b[0m     \u001b[0;32mfor\u001b[0m \u001b[0mneighborhood\u001b[0m\u001b[0;34m,\u001b[0m \u001b[0mdistance\u001b[0m\u001b[0;34m\u001b[0m\u001b[0;34m\u001b[0m\u001b[0m\n\u001b[0;32m--> 170\u001b[0;31m     in nx.single_source_shortest_path_length(graph_mature, node, \n\u001b[0m\u001b[1;32m    171\u001b[0m                                              cutoff=cutoff).items() \n",
      "\u001b[0;32m/scratch/bruingjde/miniconda3/envs/tlp/lib/python3.9/site-packages/networkx/algorithms/shortest_paths/unweighted.py\u001b[0m in \u001b[0;36msingle_source_shortest_path_length\u001b[0;34m(G, source, cutoff)\u001b[0m\n\u001b[1;32m     58\u001b[0m     \u001b[0mnextlevel\u001b[0m \u001b[0;34m=\u001b[0m \u001b[0;34m{\u001b[0m\u001b[0msource\u001b[0m\u001b[0;34m:\u001b[0m \u001b[0;36m1\u001b[0m\u001b[0;34m}\u001b[0m\u001b[0;34m\u001b[0m\u001b[0;34m\u001b[0m\u001b[0m\n\u001b[0;32m---> 59\u001b[0;31m     \u001b[0;32mreturn\u001b[0m \u001b[0mdict\u001b[0m\u001b[0;34m(\u001b[0m\u001b[0m_single_shortest_path_length\u001b[0m\u001b[0;34m(\u001b[0m\u001b[0mG\u001b[0m\u001b[0;34m.\u001b[0m\u001b[0madj\u001b[0m\u001b[0;34m,\u001b[0m \u001b[0mnextlevel\u001b[0m\u001b[0;34m,\u001b[0m \u001b[0mcutoff\u001b[0m\u001b[0;34m)\u001b[0m\u001b[0;34m)\u001b[0m\u001b[0;34m\u001b[0m\u001b[0;34m\u001b[0m\u001b[0m\n\u001b[0m\u001b[1;32m     60\u001b[0m \u001b[0;34m\u001b[0m\u001b[0m\n",
      "\u001b[0;32m/scratch/bruingjde/miniconda3/envs/tlp/lib/python3.9/site-packages/networkx/algorithms/shortest_paths/unweighted.py\u001b[0m in \u001b[0;36m_single_shortest_path_length\u001b[0;34m(adj, firstlevel, cutoff)\u001b[0m\n\u001b[1;32m     90\u001b[0m         \u001b[0;32mfor\u001b[0m \u001b[0mv\u001b[0m \u001b[0;32min\u001b[0m \u001b[0mfound\u001b[0m\u001b[0;34m:\u001b[0m\u001b[0;34m\u001b[0m\u001b[0;34m\u001b[0m\u001b[0m\n\u001b[0;32m---> 91\u001b[0;31m             \u001b[0mnextlevel\u001b[0m\u001b[0;34m.\u001b[0m\u001b[0mupdate\u001b[0m\u001b[0;34m(\u001b[0m\u001b[0madj\u001b[0m\u001b[0;34m[\u001b[0m\u001b[0mv\u001b[0m\u001b[0;34m]\u001b[0m\u001b[0;34m)\u001b[0m\u001b[0;34m\u001b[0m\u001b[0;34m\u001b[0m\u001b[0m\n\u001b[0m\u001b[1;32m     92\u001b[0m         \u001b[0mlevel\u001b[0m \u001b[0;34m+=\u001b[0m \u001b[0;36m1\u001b[0m\u001b[0;34m\u001b[0m\u001b[0;34m\u001b[0m\u001b[0m\n",
      "\u001b[0;31mKeyboardInterrupt\u001b[0m: ",
      "\nDuring handling of the above exception, another exception occurred:\n",
      "\u001b[0;31mKeyboardInterrupt\u001b[0m                         Traceback (most recent call last)",
      "\u001b[0;32m<ipython-input-10-2b5ab30c1b5c>\u001b[0m in \u001b[0;36m<module>\u001b[0;34m\u001b[0m\n\u001b[0;32m----> 1\u001b[0;31m \u001b[0mget_ipython\u001b[0m\u001b[0;34m(\u001b[0m\u001b[0;34m)\u001b[0m\u001b[0;34m.\u001b[0m\u001b[0mrun_cell_magic\u001b[0m\u001b[0;34m(\u001b[0m\u001b[0;34m'time'\u001b[0m\u001b[0;34m,\u001b[0m \u001b[0;34m''\u001b[0m\u001b[0;34m,\u001b[0m \u001b[0;34m\"filepath_mature = f'data/{dataset_id}/edgelist_mature.pkl'\\nfilepath_instances = f'data/{dataset_id}/instances.pkl'\\n\\nif not os.path.isfile(filepath_instances):\\n  instances = tlp.get_instances(edgelist_mature=joblib.load(filepath_mature),\\n    verbose=True)\\n  joblib.dump(instances, filepath_instances)\\n\"\u001b[0m\u001b[0;34m)\u001b[0m\u001b[0;34m\u001b[0m\u001b[0;34m\u001b[0m\u001b[0m\n\u001b[0m",
      "\u001b[0;32m/scratch/bruingjde/miniconda3/envs/tlp/lib/python3.9/site-packages/IPython/core/interactiveshell.py\u001b[0m in \u001b[0;36mrun_cell_magic\u001b[0;34m(self, magic_name, line, cell)\u001b[0m\n\u001b[1;32m   2389\u001b[0m             \u001b[0;32mwith\u001b[0m \u001b[0mself\u001b[0m\u001b[0;34m.\u001b[0m\u001b[0mbuiltin_trap\u001b[0m\u001b[0;34m:\u001b[0m\u001b[0;34m\u001b[0m\u001b[0;34m\u001b[0m\u001b[0m\n\u001b[1;32m   2390\u001b[0m                 \u001b[0margs\u001b[0m \u001b[0;34m=\u001b[0m \u001b[0;34m(\u001b[0m\u001b[0mmagic_arg_s\u001b[0m\u001b[0;34m,\u001b[0m \u001b[0mcell\u001b[0m\u001b[0;34m)\u001b[0m\u001b[0;34m\u001b[0m\u001b[0;34m\u001b[0m\u001b[0m\n\u001b[0;32m-> 2391\u001b[0;31m                 \u001b[0mresult\u001b[0m \u001b[0;34m=\u001b[0m \u001b[0mfn\u001b[0m\u001b[0;34m(\u001b[0m\u001b[0;34m*\u001b[0m\u001b[0margs\u001b[0m\u001b[0;34m,\u001b[0m \u001b[0;34m**\u001b[0m\u001b[0mkwargs\u001b[0m\u001b[0;34m)\u001b[0m\u001b[0;34m\u001b[0m\u001b[0;34m\u001b[0m\u001b[0m\n\u001b[0m\u001b[1;32m   2392\u001b[0m             \u001b[0;32mreturn\u001b[0m \u001b[0mresult\u001b[0m\u001b[0;34m\u001b[0m\u001b[0;34m\u001b[0m\u001b[0m\n\u001b[1;32m   2393\u001b[0m \u001b[0;34m\u001b[0m\u001b[0m\n",
      "\u001b[0;32m<decorator-gen-54>\u001b[0m in \u001b[0;36mtime\u001b[0;34m(self, line, cell, local_ns)\u001b[0m\n",
      "\u001b[0;32m/scratch/bruingjde/miniconda3/envs/tlp/lib/python3.9/site-packages/IPython/core/magic.py\u001b[0m in \u001b[0;36m<lambda>\u001b[0;34m(f, *a, **k)\u001b[0m\n\u001b[1;32m    185\u001b[0m     \u001b[0;31m# but it's overkill for just that one bit of state.\u001b[0m\u001b[0;34m\u001b[0m\u001b[0;34m\u001b[0m\u001b[0;34m\u001b[0m\u001b[0m\n\u001b[1;32m    186\u001b[0m     \u001b[0;32mdef\u001b[0m \u001b[0mmagic_deco\u001b[0m\u001b[0;34m(\u001b[0m\u001b[0marg\u001b[0m\u001b[0;34m)\u001b[0m\u001b[0;34m:\u001b[0m\u001b[0;34m\u001b[0m\u001b[0;34m\u001b[0m\u001b[0m\n\u001b[0;32m--> 187\u001b[0;31m         \u001b[0mcall\u001b[0m \u001b[0;34m=\u001b[0m \u001b[0;32mlambda\u001b[0m \u001b[0mf\u001b[0m\u001b[0;34m,\u001b[0m \u001b[0;34m*\u001b[0m\u001b[0ma\u001b[0m\u001b[0;34m,\u001b[0m \u001b[0;34m**\u001b[0m\u001b[0mk\u001b[0m\u001b[0;34m:\u001b[0m \u001b[0mf\u001b[0m\u001b[0;34m(\u001b[0m\u001b[0;34m*\u001b[0m\u001b[0ma\u001b[0m\u001b[0;34m,\u001b[0m \u001b[0;34m**\u001b[0m\u001b[0mk\u001b[0m\u001b[0;34m)\u001b[0m\u001b[0;34m\u001b[0m\u001b[0;34m\u001b[0m\u001b[0m\n\u001b[0m\u001b[1;32m    188\u001b[0m \u001b[0;34m\u001b[0m\u001b[0m\n\u001b[1;32m    189\u001b[0m         \u001b[0;32mif\u001b[0m \u001b[0mcallable\u001b[0m\u001b[0;34m(\u001b[0m\u001b[0marg\u001b[0m\u001b[0;34m)\u001b[0m\u001b[0;34m:\u001b[0m\u001b[0;34m\u001b[0m\u001b[0;34m\u001b[0m\u001b[0m\n",
      "\u001b[0;32m/scratch/bruingjde/miniconda3/envs/tlp/lib/python3.9/site-packages/IPython/core/magics/execution.py\u001b[0m in \u001b[0;36mtime\u001b[0;34m(self, line, cell, local_ns)\u001b[0m\n\u001b[1;32m   1319\u001b[0m             \u001b[0mst\u001b[0m \u001b[0;34m=\u001b[0m \u001b[0mclock2\u001b[0m\u001b[0;34m(\u001b[0m\u001b[0;34m)\u001b[0m\u001b[0;34m\u001b[0m\u001b[0;34m\u001b[0m\u001b[0m\n\u001b[1;32m   1320\u001b[0m             \u001b[0;32mtry\u001b[0m\u001b[0;34m:\u001b[0m\u001b[0;34m\u001b[0m\u001b[0;34m\u001b[0m\u001b[0m\n\u001b[0;32m-> 1321\u001b[0;31m                 \u001b[0mexec\u001b[0m\u001b[0;34m(\u001b[0m\u001b[0mcode\u001b[0m\u001b[0;34m,\u001b[0m \u001b[0mglob\u001b[0m\u001b[0;34m,\u001b[0m \u001b[0mlocal_ns\u001b[0m\u001b[0;34m)\u001b[0m\u001b[0;34m\u001b[0m\u001b[0;34m\u001b[0m\u001b[0m\n\u001b[0m\u001b[1;32m   1322\u001b[0m                 \u001b[0mout\u001b[0m\u001b[0;34m=\u001b[0m\u001b[0;32mNone\u001b[0m\u001b[0;34m\u001b[0m\u001b[0;34m\u001b[0m\u001b[0m\n\u001b[1;32m   1323\u001b[0m                 \u001b[0;31m# multi-line %%time case\u001b[0m\u001b[0;34m\u001b[0m\u001b[0;34m\u001b[0m\u001b[0;34m\u001b[0m\u001b[0m\n",
      "\u001b[0;31mKeyboardInterrupt\u001b[0m: "
     ]
    }
   ],
   "source": [
    "%%time\n",
    "filepath_mature = f'data/{dataset_id}/edgelist_mature.pkl'\n",
    "filepath_instances = f'data/{dataset_id}/instances.pkl'\n",
    "\n",
    "if not os.path.isfile(filepath_instances):\n",
    "  instances = tlp.get_instances(edgelist_mature=joblib.load(filepath_mature),\n",
    "    verbose=True)\n",
    "  joblib.dump(instances, filepath_instances)"
   ]
  },
  {
   "cell_type": "markdown",
   "id": "compressed-luxury",
   "metadata": {},
   "source": [
    "# Targets"
   ]
  },
  {
   "cell_type": "code",
   "execution_count": null,
   "id": "sticky-pride",
   "metadata": {},
   "outputs": [],
   "source": [
    "%%time\n",
    "filepath_instances = f'data/{dataset_id}/instances.pkl'\n",
    "filepath_probe = f'data/{dataset_id}/edgelist_probe.pkl'\n",
    "filepath_targets = f'data/{dataset_id}/targets.pkl'\n",
    "\n",
    "if not os.path.isfile(filepath_targets):\n",
    "  targets = tlp.get_targets(\n",
    "    instances=joblib.load(filepath_instances),\n",
    "    edgelist_probe=joblib.load(filepath_probe),\n",
    "    verbose=True)\n",
    "  joblib.dump(targets, filepath_targets)"
   ]
  },
  {
   "cell_type": "markdown",
   "id": "interstate-performance",
   "metadata": {},
   "source": [
    "# Sampling"
   ]
  },
  {
   "cell_type": "code",
   "execution_count": null,
   "id": "confident-biography",
   "metadata": {},
   "outputs": [],
   "source": [
    "%%time\n",
    "filepath_instances = f'data/{dataset_id}/instances.pkl'\n",
    "filepath_targets = f'data/{dataset_id}/edgelist_targets.pkl'\n",
    "filepath_instances_sampled = f'data/{dataset_id}/instances_sampled.pkl'\n",
    "filepath_targets_sampled = f'data/{dataset_id}/targets_sampled.pkl'\n",
    "\n",
    "if not (os.path.isfile(filepath_instances_sampled) and \n",
    "        os.path.isfile(filepath_targets_sampled)):\n",
    "  instances_sampled, targets_sampled = tlp.balanced_sample(instances, targets)\n",
    "  joblib.dump(instances_sampled, filepath_instances_sampled)\n",
    "  joblib.dump(targets_sampled, filepath_targets_sampled)"
   ]
  },
  {
   "cell_type": "markdown",
   "id": "genuine-fraction",
   "metadata": {},
   "source": [
    "# Analysis"
   ]
  },
  {
   "cell_type": "markdown",
   "id": "theoretical-halifax",
   "metadata": {},
   "source": [
    "## Figure: Edge distribution with maturing and probing intervals indicated"
   ]
  },
  {
   "cell_type": "code",
   "execution_count": null,
   "id": "vietnamese-riverside",
   "metadata": {},
   "outputs": [],
   "source": [
    "tlp.analysis.plot_datetime(\n",
    "  joblib.load(f'{dataset_id}/edgelist.pkl')['datetime'], **adjusted_intervals)"
   ]
  },
  {
   "cell_type": "markdown",
   "id": "hourly-emphasis",
   "metadata": {},
   "source": [
    "## Metric: Class imbalance"
   ]
  },
  {
   "cell_type": "code",
   "execution_count": null,
   "id": "covered-chemistry",
   "metadata": {},
   "outputs": [],
   "source": [
    "tlp.analysis.class_imbalance(targets=joblib.load(f'{dataset_id}/targets.pkl'))"
   ]
  },
  {
   "cell_type": "markdown",
   "id": "average-blake",
   "metadata": {},
   "source": [
    "## Figure: Datetime strategies"
   ]
  },
  {
   "cell_type": "code",
   "execution_count": null,
   "id": "failing-blowing",
   "metadata": {},
   "outputs": [],
   "source": [
    "edgelist = joblib.load(f'{dataset_id}/edgelist_mature.pkl')\n",
    "t = tlp.analysis.plot_datetime_strategies(edgelist['datetime'])"
   ]
  },
  {
   "cell_type": "markdown",
   "id": "killing-service",
   "metadata": {},
   "source": [
    "## Figure: Datetime distribution"
   ]
  },
  {
   "cell_type": "code",
   "execution_count": null,
   "id": "fifth-scope",
   "metadata": {},
   "outputs": [],
   "source": [
    "edgelist = joblib.load(f'{dataset_id}/edgelist_mature.pkl')\n",
    "tlp.analysis.plot_datetime_distribution(edgelist['datetime'])"
   ]
  },
  {
   "cell_type": "markdown",
   "id": "computational-houston",
   "metadata": {},
   "source": [
    "## Figure: Scores"
   ]
  },
  {
   "cell_type": "code",
   "execution_count": null,
   "id": "wrong-communication",
   "metadata": {},
   "outputs": [],
   "source": [
    "feature_dict = dict()\n",
    "for file in os.scandir(f'{dataset_id}/features'):\n",
    "  if file.is_file():\n",
    "    feature_dict.update(joblib.load(file.path))\n",
    "targets=joblib.load('01/targets_sampled.pkl')\n",
    "\n",
    "tlp.analysis.plot_score(feature_dict, targets)"
   ]
  },
  {
   "cell_type": "markdown",
   "id": "effective-pointer",
   "metadata": {},
   "source": [
    "## Figure: ROC"
   ]
  },
  {
   "cell_type": "code",
   "execution_count": null,
   "id": "republican-typing",
   "metadata": {},
   "outputs": [],
   "source": [
    "feature_dict = dict()\n",
    "for file in os.scandir(f'{dataset_id}/features'):\n",
    "  if file.is_file():\n",
    "    feature_dict.update(joblib.load(file.path))\n",
    "targets=joblib.load('01/targets_sampled.pkl')\n",
    "\n",
    "tlp.analysis.plot_roc_auc(feature_dict, targets)"
   ]
  },
  {
   "cell_type": "markdown",
   "id": "turned-breathing",
   "metadata": {},
   "source": [
    "## AUC"
   ]
  },
  {
   "cell_type": "code",
   "execution_count": null,
   "id": "increased-edition",
   "metadata": {},
   "outputs": [],
   "source": [
    "feature_dict = dict()\n",
    "for file in os.scandir(f'{dataset_id}/features'):\n",
    "  for file in os.scandir(f'{dataset_id}/features'):\n",
    "    if file.is_file():\n",
    "      feature_dict.update(joblib.load(file.path))\n",
    "targets=joblib.load('01/targets_sampled.pkl')\n",
    "\n",
    "tlp.analysis.get_auc(feature_dict, targets)"
   ]
  }
 ],
 "metadata": {
  "kernelspec": {
   "display_name": "Python 3",
   "language": "python",
   "name": "python3"
  },
  "language_info": {
   "codemirror_mode": {
    "name": "ipython",
    "version": 3
   },
   "file_extension": ".py",
   "mimetype": "text/x-python",
   "name": "python",
   "nbconvert_exporter": "python",
   "pygments_lexer": "ipython3",
   "version": "3.9.1-final"
  },
  "toc-autonumbering": true
 },
 "nbformat": 4,
 "nbformat_minor": 5
}