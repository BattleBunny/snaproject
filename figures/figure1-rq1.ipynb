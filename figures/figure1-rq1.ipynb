{
 "cells": [
  {
   "cell_type": "code",
   "execution_count": 2,
   "id": "southern-encyclopedia",
   "metadata": {
    "execution": {
     "iopub.execute_input": "2021-03-07T08:18:49.923683Z",
     "iopub.status.busy": "2021-03-07T08:18:49.923467Z",
     "iopub.status.idle": "2021-03-07T08:18:50.803773Z",
     "shell.execute_reply": "2021-03-07T08:18:50.803110Z",
     "shell.execute_reply.started": "2021-03-07T08:18:49.923657Z"
    }
   },
   "outputs": [
    {
     "name": "stdout",
     "output_type": "stream",
     "text": [
      "/scratch/bruingjde/SNAM2021-code\n"
     ]
    }
   ],
   "source": [
    "%cd /scratch/bruingjde/SNAM2021-code/\n",
    "\n",
    "from constants import *"
   ]
  },
  {
   "cell_type": "markdown",
   "id": "better-adapter",
   "metadata": {},
   "source": [
    "# Time agnostic"
   ]
  },
  {
   "cell_type": "code",
   "execution_count": 3,
   "id": "married-repeat",
   "metadata": {
    "execution": {
     "iopub.execute_input": "2021-03-07T08:18:50.804698Z",
     "iopub.status.busy": "2021-03-07T08:18:50.804573Z",
     "iopub.status.idle": "2021-03-07T08:18:52.503340Z",
     "shell.execute_reply": "2021-03-07T08:18:52.502681Z",
     "shell.execute_reply.started": "2021-03-07T08:18:50.804681Z"
    }
   },
   "outputs": [],
   "source": [
    "def logistic_regression_I(network: int):\n",
    "  X = dict()\n",
    "  for heuristic in ['aa', 'cn', 'jc', 'pa']:\n",
    "    X[heuristic] = np.load(f'data/{network:02}/features/time_agnostic/{heuristic}.npy')\n",
    "  X = pd.DataFrame(X)\n",
    "    \n",
    "  y = np.load(f'data/{network:02}/targets_sampled.npy')\n",
    "  \n",
    "  X_train, X_test, y_train, y_test = (\n",
    "    sklearn.model_selection.train_test_split(X, y))\n",
    "  pipe = sklearn.pipeline.make_pipeline(\n",
    "    sklearn.preprocessing.StandardScaler(),\n",
    "    sklearn.linear_model.LogisticRegression(max_iter=10000)) # type: ignore\n",
    "  pipe.fit(X_train, y_train)\n",
    "  \n",
    "  auc = sklearn.metrics.roc_auc_score(\n",
    "    y_true=y_test, y_score=pipe.predict_proba(X_test)[:,1]) # type: ignore\n",
    "  \n",
    "  return auc\n",
    "\n",
    "time_agnostic_performance = {\n",
    "  network: logistic_regression_I(network) for network in network_indices}"
   ]
  },
  {
   "cell_type": "markdown",
   "id": "soviet-aurora",
   "metadata": {},
   "source": [
    "# Time aware"
   ]
  },
  {
   "cell_type": "code",
   "execution_count": 4,
   "id": "viral-automation",
   "metadata": {
    "execution": {
     "iopub.execute_input": "2021-03-07T08:18:52.504991Z",
     "iopub.status.busy": "2021-03-07T08:18:52.504688Z",
     "iopub.status.idle": "2021-03-07T08:19:28.537866Z",
     "shell.execute_reply": "2021-03-07T08:19:28.537015Z",
     "shell.execute_reply.started": "2021-03-07T08:18:52.504963Z"
    }
   },
   "outputs": [],
   "source": [
    "def logistic_regression_I_II_III_hypergraph(network: int):\n",
    "  X = dict()\n",
    "  # Type I features\n",
    "  for heuristic in ['aa', 'cn', 'jc', 'pa']:\n",
    "    X[heuristic] = (\n",
    "      np.load(f'data/{network:02}/features/time_agnostic/{heuristic}.npy'))\n",
    "    \n",
    "  # Type II features\n",
    "  for time_strategy in time_strategies:\n",
    "    for nodepair_strategy in nodepair_strategies:\n",
    "      for aggregation_strategy in ['q0', 'q25', 'q50', 'q75', 'q100', 'm0', 'm1', 'm2', 'm3']:\n",
    "        X[(time_strategy, nodepair_strategy, aggregation_strategy)] = (\n",
    "          np.load(\n",
    "            f'data/{network:02}/features/time_node/'\n",
    "            f'{time_strategy}_{nodepair_strategy}_{aggregation_strategy}.npy'))\n",
    "  # Type III features      \n",
    "  for heuristic in ['aa', 'cn', 'jc', 'pa']:  \n",
    "    for time_strategy in time_strategies:\n",
    "      for aggregation_strategy in ['q0', 'q25', 'q50', 'q75', 'q100', 'm0', 'm1']:\n",
    "          X[(heuristic, time_strategy, aggregation_strategy)] = (\n",
    "            np.load(\n",
    "              f'data/{network:02}/features/time_edge/'\n",
    "              f'{heuristic}_{time_strategy}_{aggregation_strategy}.npy'))\n",
    "    \n",
    "  X = pd.DataFrame(X)\n",
    "    \n",
    "  y = np.load(f'data/{network:02}/targets_sampled.npy')\n",
    "  \n",
    "  X_train, X_test, y_train, y_test = (\n",
    "    sklearn.model_selection.train_test_split(X, y))\n",
    "  pipe = sklearn.pipeline.make_pipeline(\n",
    "    sklearn.preprocessing.StandardScaler(),\n",
    "    sklearn.linear_model.LogisticRegression(max_iter=10000))\n",
    "  pipe.fit(X_train, y_train)\n",
    "  \n",
    "  auc = sklearn.metrics.roc_auc_score(\n",
    "    y_true=y_test, y_score=pipe.predict_proba(X_test)[:,1])\n",
    "  \n",
    "  return auc\n",
    "\n",
    "def logistic_regression_I_II_III_simplegraph(network: int):\n",
    "  X = dict()\n",
    "  # Type I\n",
    "  for heuristic in ['aa', 'cn', 'jc', 'pa']:\n",
    "    X[heuristic] = (\n",
    "      np.load(f'data/{network:02}/features/time_agnostic/{heuristic}.npy'))\n",
    "  # Type II \n",
    "  for time_strategy in time_strategies:\n",
    "    for nodepair_strategy in nodepair_strategies:\n",
    "        X[(time_strategy, nodepair_strategy)] = (\n",
    "          np.load(\n",
    "            f'data/{network:02}/features/time_node/'\n",
    "            f'{time_strategy}_{nodepair_strategy}.npy'))\n",
    "  # Type III\n",
    "  for heuristic in ['aa', 'cn', 'jc', 'pa']:  \n",
    "    for time_strategy in time_strategies:\n",
    "      X[(heuristic, time_strategy)] = (\n",
    "        np.load(\n",
    "          f'data/{network:02}/features/time_edge/'\n",
    "          f'{heuristic}_{time_strategy}.npy'))\n",
    "      \n",
    "  X = pd.DataFrame(X)\n",
    "    \n",
    "  y = np.load(f'data/{network:02}/targets_sampled.npy')\n",
    "  \n",
    "  X_train, X_test, y_train, y_test = (\n",
    "    sklearn.model_selection.train_test_split(X, y))\n",
    "  pipe = sklearn.pipeline.make_pipeline(\n",
    "    sklearn.preprocessing.StandardScaler(),\n",
    "    sklearn.linear_model.LogisticRegression(max_iter=10000))\n",
    "  pipe.fit(X_train, y_train)\n",
    "  \n",
    "  auc = sklearn.metrics.roc_auc_score(\n",
    "    y_true=y_test, y_score=pipe.predict_proba(X_test)[:,1])\n",
    "  \n",
    "  return auc\n",
    "\n",
    "time_aware_performance = {\n",
    "  network: logistic_regression_I_II_III_hypergraph(network) \n",
    "  for network in hypergraph_indices} | {\n",
    "  network: logistic_regression_I_II_III_simplegraph(network) \n",
    "  for network in simplegraph_indices\n",
    "}"
   ]
  },
  {
   "cell_type": "code",
   "execution_count": 5,
   "id": "sustained-packet",
   "metadata": {
    "execution": {
     "iopub.execute_input": "2021-03-07T08:19:28.539593Z",
     "iopub.status.busy": "2021-03-07T08:19:28.539378Z",
     "iopub.status.idle": "2021-03-07T08:19:28.550786Z",
     "shell.execute_reply": "2021-03-07T08:19:28.550307Z",
     "shell.execute_reply.started": "2021-03-07T08:19:28.539565Z"
    }
   },
   "outputs": [],
   "source": [
    "df = pd.concat(\n",
    "  {\n",
    "    'auc (time aware)': pd.Series(time_aware_performance), \n",
    "    'auc (time agnostic)': pd.Series(time_agnostic_performance)\n",
    "  },\n",
    "  axis=1)\n",
    "df['category'] = get_networks()['category']"
   ]
  },
  {
   "cell_type": "code",
   "execution_count": 6,
   "id": "found-approach",
   "metadata": {
    "execution": {
     "iopub.execute_input": "2021-03-07T08:19:28.551768Z",
     "iopub.status.busy": "2021-03-07T08:19:28.551581Z",
     "iopub.status.idle": "2021-03-07T08:19:29.596644Z",
     "shell.execute_reply": "2021-03-07T08:19:29.596202Z",
     "shell.execute_reply.started": "2021-03-07T08:19:28.551744Z"
    }
   },
   "outputs": [
    {
     "data": {
      "image/png": "[encoded data removed]",
      "text/plain": [
       "<Figure size 288x288 with 1 Axes>"
      ]
     },
     "metadata": {
      "needs_background": "light"
     },
     "output_type": "display_data"
    }
   ],
   "source": [
    "auc_values = df[['auc (time aware)', 'auc (time agnostic)']].values.flatten()\n",
    "lim = (min(auc_values), max(auc_values))\n",
    "\n",
    "with plt.rc_context(rc):\n",
    "  sns.scatterplot(data=df, x='auc (time agnostic)', y='auc (time aware)', hue='category', style='category')\n",
    "  sns.regplot(data=df, x='auc (time agnostic)', y='auc (time aware)', scatter=False, color='black')\n",
    "  plt.axline((0,0), (1,1), ls='--', c='black')\n",
    "  plt.xlim(lim)\n",
    "  plt.ylim(lim)\n",
    "  ax = plt.gca()\n",
    "  ax.xaxis.set_minor_locator(matplotlib.ticker.MultipleLocator(.01))\n",
    "  ax.yaxis.set_minor_locator(matplotlib.ticker.MultipleLocator(.01))\n",
    "  plt.tight_layout()\n",
    "  plt.savefig('figures/figure-rq1.pdf')"
   ]
  },
  {
   "cell_type": "code",
   "execution_count": 7,
   "id": "neural-california",
   "metadata": {
    "execution": {
     "iopub.execute_input": "2021-03-07T08:19:29.597354Z",
     "iopub.status.busy": "2021-03-07T08:19:29.597237Z",
     "iopub.status.idle": "2021-03-07T08:19:29.600368Z",
     "shell.execute_reply": "2021-03-07T08:19:29.600091Z",
     "shell.execute_reply.started": "2021-03-07T08:19:29.597338Z"
    }
   },
   "outputs": [],
   "source": [
    "df['difference'] = df['auc (time aware)'] - df['auc (time agnostic)']"
   ]
  },
  {
   "cell_type": "code",
   "execution_count": 8,
   "id": "interim-packing",
   "metadata": {
    "execution": {
     "iopub.execute_input": "2021-03-07T08:19:29.601143Z",
     "iopub.status.busy": "2021-03-07T08:19:29.601023Z",
     "iopub.status.idle": "2021-03-07T08:19:29.776273Z",
     "shell.execute_reply": "2021-03-07T08:19:29.775935Z",
     "shell.execute_reply.started": "2021-03-07T08:19:29.601129Z"
    }
   },
   "outputs": [
    {
     "data": {
      "text/plain": [
       "<AxesSubplot:xlabel='auc (time agnostic)', ylabel='difference'>"
      ]
     },
     "execution_count": 8,
     "metadata": {},
     "output_type": "execute_result"
    },
    {
     "data": {
      "image/png": "[encoded data removed]",
      "text/plain": [
       "<Figure size 432x288 with 1 Axes>"
      ]
     },
     "metadata": {
      "needs_background": "light"
     },
     "output_type": "display_data"
    }
   ],
   "source": [
    "sns.scatterplot(data=df, x='auc (time agnostic)', y='difference', hue='category', style='category')"
   ]
  },
  {
   "cell_type": "code",
   "execution_count": 39,
   "id": "valued-softball",
   "metadata": {
    "execution": {
     "iopub.execute_input": "2021-03-07T09:45:45.487531Z",
     "iopub.status.busy": "2021-03-07T09:45:45.487226Z",
     "iopub.status.idle": "2021-03-07T09:45:45.493703Z",
     "shell.execute_reply": "2021-03-07T09:45:45.492803Z",
     "shell.execute_reply.started": "2021-03-07T09:45:45.487499Z"
    }
   },
   "outputs": [
    {
     "data": {
      "text/plain": [
       "0.8257592494186118"
      ]
     },
     "execution_count": 39,
     "metadata": {},
     "output_type": "execute_result"
    }
   ],
   "source": [
    "df['auc (time agnostic)'].mean()"
   ]
  },
  {
   "cell_type": "code",
   "execution_count": 38,
   "id": "bridal-munich",
   "metadata": {
    "execution": {
     "iopub.execute_input": "2021-03-07T09:44:53.832124Z",
     "iopub.status.busy": "2021-03-07T09:44:53.831769Z",
     "iopub.status.idle": "2021-03-07T09:44:54.076576Z",
     "shell.execute_reply": "2021-03-07T09:44:54.075773Z",
     "shell.execute_reply.started": "2021-03-07T09:44:53.832090Z"
    }
   },
   "outputs": [
    {
     "data": {
      "text/plain": [
       "<seaborn.axisgrid.FacetGrid at 0x7f6bb430d9a0>"
      ]
     },
     "execution_count": 38,
     "metadata": {},
     "output_type": "execute_result"
    },
    {
     "data": {
      "image/png": "[encoded data removed]",
      "text/plain": [
       "<Figure size 462.875x360 with 1 Axes>"
      ]
     },
     "metadata": {
      "needs_background": "light"
     },
     "output_type": "display_data"
    }
   ],
   "source": [
    "sns.displot(data=df, x='auc (time agnostic)', hue='category', kind='ecdf')"
   ]
  },
  {
   "cell_type": "code",
   "execution_count": 41,
   "id": "fifth-interference",
   "metadata": {
    "execution": {
     "iopub.execute_input": "2021-03-07T09:47:08.825052Z",
     "iopub.status.busy": "2021-03-07T09:47:08.824797Z",
     "iopub.status.idle": "2021-03-07T09:47:08.835779Z",
     "shell.execute_reply": "2021-03-07T09:47:08.834944Z",
     "shell.execute_reply.started": "2021-03-07T09:47:08.825025Z"
    }
   },
   "outputs": [
    {
     "data": {
      "text/html": [
       "<div>\n",
       "<style scoped>\n",
       "    .dataframe tbody tr th:only-of-type {\n",
       "        vertical-align: middle;\n",
       "    }\n",
       "\n",
       "    .dataframe tbody tr th {\n",
       "        vertical-align: top;\n",
       "    }\n",
       "\n",
       "    .dataframe thead th {\n",
       "        text-align: right;\n",
       "    }\n",
       "</style>\n",
       "<table border=\"1\" class=\"dataframe\">\n",
       "  <thead>\n",
       "    <tr style=\"text-align: right;\">\n",
       "      <th></th>\n",
       "      <th>auc (time aware)</th>\n",
       "      <th>auc (time agnostic)</th>\n",
       "      <th>category</th>\n",
       "      <th>difference</th>\n",
       "      <th>label</th>\n",
       "    </tr>\n",
       "  </thead>\n",
       "  <tbody>\n",
       "    <tr>\n",
       "      <th>28</th>\n",
       "      <td>0.898535</td>\n",
       "      <td>0.875754</td>\n",
       "      <td>technological</td>\n",
       "      <td>0.022781</td>\n",
       "      <td>Rbody</td>\n",
       "    </tr>\n",
       "    <tr>\n",
       "      <th>29</th>\n",
       "      <td>0.933243</td>\n",
       "      <td>0.904957</td>\n",
       "      <td>technological</td>\n",
       "      <td>0.028286</td>\n",
       "      <td>Rtit</td>\n",
       "    </tr>\n",
       "  </tbody>\n",
       "</table>\n",
       "</div>"
      ],
      "text/plain": [
       "    auc (time aware)  auc (time agnostic)       category  difference  label\n",
       "28          0.898535             0.875754  technological    0.022781  Rbody\n",
       "29          0.933243             0.904957  technological    0.028286   Rtit"
      ]
     },
     "execution_count": 41,
     "metadata": {},
     "output_type": "execute_result"
    }
   ],
   "source": [
    "df[df['category'] ==  'technological']"
   ]
  },
  {
   "cell_type": "code",
   "execution_count": null,
   "id": "partial-sessions",
   "metadata": {},
   "outputs": [],
   "source": []
  }
 ],
 "metadata": {
  "kernelspec": {
   "display_name": "Python 3",
   "language": "python",
   "name": "python3"
  },
  "language_info": {
   "codemirror_mode": {
    "name": "ipython",
    "version": 3
   },
   "file_extension": ".py",
   "mimetype": "text/x-python",
   "name": "python",
   "nbconvert_exporter": "python",
   "pygments_lexer": "ipython3",
   "version": "3.9.1"
  }
 },
 "nbformat": 4,
 "nbformat_minor": 5
}
