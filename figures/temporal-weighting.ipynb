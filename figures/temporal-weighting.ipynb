{
 "cells": [
  {
   "cell_type": "code",
   "execution_count": 1,
   "id": "acquired-torture",
   "metadata": {
    "execution": {
     "iopub.execute_input": "2021-03-04T09:33:43.165225Z",
     "iopub.status.busy": "2021-03-04T09:33:43.164837Z",
     "iopub.status.idle": "2021-03-04T09:33:44.216522Z",
     "shell.execute_reply": "2021-03-04T09:33:44.215829Z",
     "shell.execute_reply.started": "2021-03-04T09:33:43.165139Z"
    }
   },
   "outputs": [
    {
     "name": "stdout",
     "output_type": "stream",
     "text": [
      "/scratch/bruingjde/SNAM2021-code\n"
     ]
    }
   ],
   "source": [
    "%cd /scratch/bruingjde/SNAM2021-code/\n",
    "\n",
    "from constants import *"
   ]
  },
  {
   "cell_type": "code",
   "execution_count": 2,
   "id": "listed-kernel",
   "metadata": {
    "execution": {
     "iopub.execute_input": "2021-03-04T09:33:44.534709Z",
     "iopub.status.busy": "2021-03-04T09:33:44.534395Z",
     "iopub.status.idle": "2021-03-04T09:33:44.542653Z",
     "shell.execute_reply": "2021-03-04T09:33:44.541789Z",
     "shell.execute_reply.started": "2021-03-04T09:33:44.534679Z"
    }
   },
   "outputs": [],
   "source": [
    "def plot_datetime_strategies(\n",
    "  datetimes: pd.Series, *,\n",
    "  time_strategies = tlp.TIME_STRATEGIES):\n",
    "  \"\"\"Plot the mapping from datetime with the various time strategies.\n",
    "  \n",
    "  Args:\n",
    "    datetimes: pd.Series containing all the considered datetimes (one per edge)\n",
    "    time_strategies: Optional; A list containing functions that can map the\n",
    "      datetime column of the edgelist to a float. See \n",
    "      tlp.feature.TIME_STRATEGIES.\n",
    "  \n",
    "  Usage:\n",
    "    tlp.analysis.plot_datetime_strategies(edgelist['datetime'])\n",
    "  \"\"\"\n",
    "  index = pd.to_datetime(\n",
    "    np.linspace(datetimes.min().value, datetimes.max().value))\n",
    "  with plt.rc_context({'xtick.top': True, 'ytick.right': True}):\n",
    "    _, ax = plt.subplots(figsize=(4,4))\n",
    "    df = pd.DataFrame(\n",
    "      {str: func(index) for str, func in time_strategies.items()}, \n",
    "      index=index)\n",
    "    df.plot(ax=ax, xlabel='Year', ylabel='Proportion',  \n",
    "            xlim=datetimes.agg(['min', 'max']), ylim=(0,1))\n",
    "    \n",
    "    ax.legend(title='Time strategy') # type: ignore\n",
    "     # type: ignore"
   ]
  },
  {
   "cell_type": "code",
   "execution_count": 3,
   "id": "vocational-paper",
   "metadata": {
    "execution": {
     "iopub.execute_input": "2021-03-04T09:33:45.637743Z",
     "iopub.status.busy": "2021-03-04T09:33:45.637384Z",
     "iopub.status.idle": "2021-03-04T09:33:45.915838Z",
     "shell.execute_reply": "2021-03-04T09:33:45.914877Z",
     "shell.execute_reply.started": "2021-03-04T09:33:45.637707Z"
    }
   },
   "outputs": [],
   "source": [
    "df = pd.read_pickle('data/01/edgelist.pkl')"
   ]
  },
  {
   "cell_type": "code",
   "execution_count": 28,
   "id": "secure-brighton",
   "metadata": {
    "execution": {
     "iopub.execute_input": "2021-03-04T09:43:15.152987Z",
     "iopub.status.busy": "2021-03-04T09:43:15.152543Z",
     "iopub.status.idle": "2021-03-04T09:43:15.250685Z",
     "shell.execute_reply": "2021-03-04T09:43:15.249753Z",
     "shell.execute_reply.started": "2021-03-04T09:43:15.152950Z"
    }
   },
   "outputs": [],
   "source": [
    "df = df[df['datetime'].between(pd.Timestamp('1995-12-31'), pd.Timestamp('2005-01-01'))]"
   ]
  },
  {
   "cell_type": "code",
   "execution_count": 29,
   "id": "matched-maria",
   "metadata": {
    "execution": {
     "iopub.execute_input": "2021-03-04T09:43:15.844373Z",
     "iopub.status.busy": "2021-03-04T09:43:15.844003Z",
     "iopub.status.idle": "2021-03-04T09:43:15.877473Z",
     "shell.execute_reply": "2021-03-04T09:43:15.876265Z",
     "shell.execute_reply.started": "2021-03-04T09:43:15.844338Z"
    }
   },
   "outputs": [],
   "source": [
    "index = pd.to_datetime(np.linspace(df['datetime'].min().value, df['datetime'].max().value))"
   ]
  },
  {
   "cell_type": "code",
   "execution_count": 30,
   "id": "rising-groove",
   "metadata": {
    "execution": {
     "iopub.execute_input": "2021-03-04T09:43:16.102680Z",
     "iopub.status.busy": "2021-03-04T09:43:16.102442Z",
     "iopub.status.idle": "2021-03-04T09:43:19.296863Z",
     "shell.execute_reply": "2021-03-04T09:43:19.296017Z",
     "shell.execute_reply.started": "2021-03-04T09:43:16.102651Z"
    }
   },
   "outputs": [],
   "source": [
    "index_unix = index.astype(np.int64) / (365*24*3600e9)"
   ]
  },
  {
   "cell_type": "code",
   "execution_count": 31,
   "id": "universal-frost",
   "metadata": {
    "execution": {
     "iopub.execute_input": "2021-03-04T09:43:19.298308Z",
     "iopub.status.busy": "2021-03-04T09:43:19.298092Z",
     "iopub.status.idle": "2021-03-04T09:43:19.362056Z",
     "shell.execute_reply": "2021-03-04T09:43:19.361185Z",
     "shell.execute_reply.started": "2021-03-04T09:43:19.298281Z"
    }
   },
   "outputs": [],
   "source": [
    "index_unix = np.linspace(start=min(index_unix), stop=max(index_unix))"
   ]
  },
  {
   "cell_type": "code",
   "execution_count": 32,
   "id": "mechanical-posting",
   "metadata": {
    "execution": {
     "iopub.execute_input": "2021-03-04T09:43:19.363448Z",
     "iopub.status.busy": "2021-03-04T09:43:19.363244Z",
     "iopub.status.idle": "2021-03-04T09:43:19.404692Z",
     "shell.execute_reply": "2021-03-04T09:43:19.404121Z",
     "shell.execute_reply.started": "2021-03-04T09:43:19.363423Z"
    }
   },
   "outputs": [
    {
     "data": {
      "text/plain": [
       "array([0.2       , 0.21632653, 0.23265306, 0.24897959, 0.26530612,\n",
       "       0.28163265, 0.29795918, 0.31428571, 0.33061224, 0.34693878,\n",
       "       0.36326531, 0.37959184, 0.39591837, 0.4122449 , 0.42857143,\n",
       "       0.44489796, 0.46122449, 0.47755102, 0.49387755, 0.51020408,\n",
       "       0.52653061, 0.54285714, 0.55918367, 0.5755102 , 0.59183673,\n",
       "       0.60816327, 0.6244898 , 0.64081633, 0.65714286, 0.67346939,\n",
       "       0.68979592, 0.70612245, 0.72244898, 0.73877551, 0.75510204,\n",
       "       0.77142857, 0.7877551 , 0.80408163, 0.82040816, 0.83673469,\n",
       "       0.85306122, 0.86938776, 0.88571429, 0.90204082, 0.91836735,\n",
       "       0.93469388, 0.95102041, 0.96734694, 0.98367347, 1.        ])"
      ]
     },
     "execution_count": 32,
     "metadata": {},
     "output_type": "execute_result"
    }
   ],
   "source": [
    "time_strategies['lin'](index_unix)"
   ]
  },
  {
   "cell_type": "code",
   "execution_count": 33,
   "id": "metropolitan-charge",
   "metadata": {
    "execution": {
     "iopub.execute_input": "2021-03-04T09:43:19.406399Z",
     "iopub.status.busy": "2021-03-04T09:43:19.406044Z",
     "iopub.status.idle": "2021-03-04T09:43:19.453636Z",
     "shell.execute_reply": "2021-03-04T09:43:19.452916Z",
     "shell.execute_reply.started": "2021-03-04T09:43:19.406367Z"
    }
   },
   "outputs": [],
   "source": [
    "def lin(x):\n",
    "  return .2 + .8 * (x-min(x)) / (max(x)-min(x))"
   ]
  },
  {
   "cell_type": "code",
   "execution_count": 34,
   "id": "divided-customs",
   "metadata": {
    "execution": {
     "iopub.execute_input": "2021-03-04T09:43:19.454917Z",
     "iopub.status.busy": "2021-03-04T09:43:19.454685Z",
     "iopub.status.idle": "2021-03-04T09:43:19.604015Z",
     "shell.execute_reply": "2021-03-04T09:43:19.603242Z",
     "shell.execute_reply.started": "2021-03-04T09:43:19.454888Z"
    }
   },
   "outputs": [],
   "source": [
    "def exp(x):\n",
    "  return .2 + 0.8 * (np.exp(3*(x-min(x))/(max(x)-min(x)))-1) / (np.exp(3)-1)"
   ]
  },
  {
   "cell_type": "code",
   "execution_count": 35,
   "id": "brown-textbook",
   "metadata": {
    "execution": {
     "iopub.execute_input": "2021-03-04T09:43:19.605225Z",
     "iopub.status.busy": "2021-03-04T09:43:19.604972Z",
     "iopub.status.idle": "2021-03-04T09:43:19.668175Z",
     "shell.execute_reply": "2021-03-04T09:43:19.667538Z",
     "shell.execute_reply.started": "2021-03-04T09:43:19.605196Z"
    }
   },
   "outputs": [],
   "source": [
    "def sqrt(x):\n",
    "  return .2 + 0.8 * np.sqrt((x-min(x))/(max(x)-min(x)))"
   ]
  },
  {
   "cell_type": "code",
   "execution_count": 36,
   "id": "hundred-relevance",
   "metadata": {
    "execution": {
     "iopub.execute_input": "2021-03-04T09:43:19.669416Z",
     "iopub.status.busy": "2021-03-04T09:43:19.669178Z",
     "iopub.status.idle": "2021-03-04T09:43:19.846619Z",
     "shell.execute_reply": "2021-03-04T09:43:19.845979Z",
     "shell.execute_reply.started": "2021-03-04T09:43:19.669386Z"
    }
   },
   "outputs": [],
   "source": [
    "time_strategies = {'lin': lin, 'exp': exp, 'sqrt': sqrt}"
   ]
  },
  {
   "cell_type": "code",
   "execution_count": 47,
   "id": "northern-rwanda",
   "metadata": {
    "execution": {
     "iopub.execute_input": "2021-03-04T09:48:42.730572Z",
     "iopub.status.busy": "2021-03-04T09:48:42.730227Z",
     "iopub.status.idle": "2021-03-04T09:48:42.943396Z",
     "shell.execute_reply": "2021-03-04T09:48:42.942854Z",
     "shell.execute_reply.started": "2021-03-04T09:48:42.730536Z"
    }
   },
   "outputs": [
    {
     "data": {
      "image/png": "[encoded data removed]",
      "text/plain": [
       "<Figure size 288x288 with 1 Axes>"
      ]
     },
     "metadata": {
      "needs_background": "light"
     },
     "output_type": "display_data"
    }
   ],
   "source": [
    "linestyles = ['solid', 'dotted', 'dashed']\n",
    "with plt.rc_context(rc):\n",
    "  _, ax = plt.subplots(figsize=(4,4))\n",
    "  for (strategy_str, strategy_func), linestyle in zip(time_strategies.items(), linestyles):\n",
    "    ax.plot(index, strategy_func(index_unix), label=strategy_str, linestyle=linestyle)\n",
    "  ax.legend(title='Weighting')\n",
    "  ax.set_xlim(pd.Timestamp('1995-12-31'), max(index))\n",
    "  ax.set_ylim((0,1))\n",
    "  ax.set_xlabel('Year')\n",
    "  ax.set_ylabel('Weight')\n",
    "  ax.xaxis.set_major_locator(matplotlib.dates.YearLocator(2))\n",
    "  ax.xaxis.set_major_formatter(matplotlib.dates.DateFormatter('%Y'))\n",
    "  ax.xaxis.set_minor_locator(matplotlib.dates.YearLocator(1))\n",
    "  ax.yaxis.set_minor_locator(matplotlib.ticker.MultipleLocator(.1))\n",
    "  plt.tight_layout()\n",
    "  plt.savefig('figures/time-strategies.pdf')"
   ]
  },
  {
   "cell_type": "code",
   "execution_count": 38,
   "id": "constant-daniel",
   "metadata": {
    "execution": {
     "iopub.execute_input": "2021-03-04T09:43:40.843966Z",
     "iopub.status.busy": "2021-03-04T09:43:40.843653Z",
     "iopub.status.idle": "2021-03-04T09:43:40.850947Z",
     "shell.execute_reply": "2021-03-04T09:43:40.850129Z",
     "shell.execute_reply.started": "2021-03-04T09:43:40.843933Z"
    }
   },
   "outputs": [
    {
     "data": {
      "text/plain": [
       "DatetimeIndex([          '1996-01-01 00:01:01',\n",
       "               '1996-02-29 15:12:02.224489856',\n",
       "               '1996-04-29 06:23:03.448979584',\n",
       "               '1996-06-27 21:34:04.673469440',\n",
       "               '1996-08-26 12:45:05.897959168',\n",
       "               '1996-10-25 03:56:07.122449024',\n",
       "               '1996-12-23 19:07:08.346938752',\n",
       "               '1997-02-21 10:18:09.571428608',\n",
       "               '1997-04-22 01:29:10.795918336',\n",
       "               '1997-06-20 16:40:12.020408192',\n",
       "               '1997-08-19 07:51:13.244897920',\n",
       "               '1997-10-17 23:02:14.469387776',\n",
       "               '1997-12-16 14:13:15.693877504',\n",
       "               '1998-02-14 05:24:16.918367360',\n",
       "               '1998-04-14 20:35:18.142857216',\n",
       "               '1998-06-13 11:46:19.367346944',\n",
       "               '1998-08-12 02:57:20.591836672',\n",
       "               '1998-10-10 18:08:21.816326528',\n",
       "               '1998-12-09 09:19:23.040816384',\n",
       "               '1999-02-07 00:30:24.265306112',\n",
       "               '1999-04-07 15:41:25.489795968',\n",
       "               '1999-06-06 06:52:26.714285696',\n",
       "               '1999-08-04 22:03:27.938775552',\n",
       "               '1999-10-03 13:14:29.163265280',\n",
       "               '1999-12-02 04:25:30.387755136',\n",
       "               '2000-01-30 19:36:31.612244864',\n",
       "               '2000-03-30 10:47:32.836734720',\n",
       "               '2000-05-29 01:58:34.061224448',\n",
       "               '2000-07-27 17:09:35.285714304',\n",
       "               '2000-09-25 08:20:36.510204160',\n",
       "               '2000-11-23 23:31:37.734693888',\n",
       "               '2001-01-22 14:42:38.959183616',\n",
       "               '2001-03-23 05:53:40.183673472',\n",
       "               '2001-05-21 21:04:41.408163328',\n",
       "               '2001-07-20 12:15:42.632653056',\n",
       "               '2001-09-18 03:26:43.857142784',\n",
       "               '2001-11-16 18:37:45.081632640',\n",
       "               '2002-01-15 09:48:46.306122496',\n",
       "               '2002-03-16 00:59:47.530612224',\n",
       "               '2002-05-14 16:10:48.755102080',\n",
       "               '2002-07-13 07:21:49.979591808',\n",
       "               '2002-09-10 22:32:51.204081664',\n",
       "               '2002-11-09 13:43:52.428571392',\n",
       "               '2003-01-08 04:54:53.653061248',\n",
       "               '2003-03-08 20:05:54.877551104',\n",
       "               '2003-05-07 11:16:56.102040832',\n",
       "               '2003-07-06 02:27:57.326530560',\n",
       "               '2003-09-03 17:38:58.551020416',\n",
       "               '2003-11-02 08:49:59.775510272',\n",
       "                         '2004-01-01 00:01:01'],\n",
       "              dtype='datetime64[ns]', freq=None)"
      ]
     },
     "execution_count": 38,
     "metadata": {},
     "output_type": "execute_result"
    }
   ],
   "source": [
    "index"
   ]
  },
  {
   "cell_type": "code",
   "execution_count": null,
   "id": "weekly-africa",
   "metadata": {},
   "outputs": [],
   "source": []
  }
 ],
 "metadata": {
  "kernelspec": {
   "display_name": "Python 3",
   "language": "python",
   "name": "python3"
  },
  "language_info": {
   "codemirror_mode": {
    "name": "ipython",
    "version": 3
   },
   "file_extension": ".py",
   "mimetype": "text/x-python",
   "name": "python",
   "nbconvert_exporter": "python",
   "pygments_lexer": "ipython3",
   "version": "3.9.1"
  }
 },
 "nbformat": 4,
 "nbformat_minor": 5
}
