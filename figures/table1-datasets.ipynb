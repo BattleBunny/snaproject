{
 "cells": [
  {
   "cell_type": "code",
   "execution_count": 2,
   "id": "brazilian-array",
   "metadata": {
    "execution": {
     "iopub.execute_input": "2021-03-08T15:17:53.953324Z",
     "iopub.status.busy": "2021-03-08T15:17:53.952945Z",
     "iopub.status.idle": "2021-03-08T15:17:55.898977Z",
     "shell.execute_reply": "2021-03-08T15:17:55.898391Z",
     "shell.execute_reply.started": "2021-03-08T15:17:53.953290Z"
    }
   },
   "outputs": [
    {
     "name": "stdout",
     "output_type": "stream",
     "text": [
      "/scratch/bruingjde/SNAM2021-code\n"
     ]
    }
   ],
   "source": [
    "%cd /scratch/bruingjde/SNAM2021-code/\n",
    "\n",
    "from constants import *"
   ]
  },
  {
   "cell_type": "code",
   "execution_count": 3,
   "id": "ruled-charger",
   "metadata": {
    "execution": {
     "iopub.execute_input": "2021-03-08T15:17:55.899898Z",
     "iopub.status.busy": "2021-03-08T15:17:55.899778Z",
     "iopub.status.idle": "2021-03-08T15:17:55.906905Z",
     "shell.execute_reply": "2021-03-08T15:17:55.906477Z",
     "shell.execute_reply.started": "2021-03-08T15:17:55.899882Z"
    }
   },
   "outputs": [],
   "source": [
    "df = networks.copy()\n",
    "df['index'] = df.index\n",
    "df['type'] = (\n",
    "  df['index'].isin(hypergraph_indices).replace({True: 'E', False: 'P'}))\n",
    "df['source'] = df['source'].apply(lambda x: f'\\cite{{{x}}}')\n",
    "df['cat'] = df['category'].replace(\n",
    "  {'social': 'S', 'information': 'I', 'technological': 'T'})\n",
    "df.drop(columns=['old_category', 'category'], inplace=True)"
   ]
  },
  {
   "cell_type": "code",
   "execution_count": 8,
   "id": "current-emerald",
   "metadata": {
    "execution": {
     "iopub.execute_input": "2021-03-08T15:20:38.486396Z",
     "iopub.status.busy": "2021-03-08T15:20:38.486089Z",
     "iopub.status.idle": "2021-03-08T15:21:33.046467Z",
     "shell.execute_reply": "2021-03-08T15:21:33.045691Z",
     "shell.execute_reply.started": "2021-03-08T15:20:38.486364Z"
    }
   },
   "outputs": [
    {
     "data": {
      "application/vnd.jupyter.widget-view+json": {
       "model_id": "",
       "version_major": 2,
       "version_minor": 0
      },
      "text/plain": [
       "  0%|          | 0/26 [00:00<?, ?it/s]"
      ]
     },
     "metadata": {},
     "output_type": "display_data"
    }
   ],
   "source": [
    "def get_size(network: int):\n",
    "  edgelist = pd.read_pickle(f'data/{network:02}/edgelist.pkl')\n",
    "  graph = nx.from_pandas_edgelist(edgelist)\n",
    "  return pd.Series(\n",
    "    dict(nodes=graph.number_of_nodes(), edges=graph.number_of_edges()),\n",
    "    name=network\n",
    "  )\n",
    "\n",
    "size = tlp.ProgressParallel(n_jobs=network_count, total=network_count)(\n",
    "  joblib.delayed(get_size)(network) for network in network_indices\n",
    ")\n",
    "size = pd.DataFrame(size) \n",
    "size.rename(dict(nodes='n', edges='m'), inplace=True)"
   ]
  },
  {
   "cell_type": "code",
   "execution_count": 13,
   "id": "mature-slovakia",
   "metadata": {
    "execution": {
     "iopub.execute_input": "2021-03-08T15:25:25.691529Z",
     "iopub.status.busy": "2021-03-08T15:25:25.691184Z",
     "iopub.status.idle": "2021-03-08T15:25:25.727321Z",
     "shell.execute_reply": "2021-03-08T15:25:25.726800Z",
     "shell.execute_reply.started": "2021-03-08T15:25:25.691495Z"
    }
   },
   "outputs": [
    {
     "data": {
      "application/vnd.jupyter.widget-view+json": {
       "model_id": "0ae8bac7d7c94df0a0f0e58979699a2d",
       "version_major": 2,
       "version_minor": 0
      },
      "text/plain": [
       "  0%|          | 0/26 [00:00<?, ?it/s]"
      ]
     },
     "metadata": {},
     "output_type": "display_data"
    }
   ],
   "source": [
    "stats = dict()\n",
    "for network in tqdm(network_indices):\n",
    "  with open(f'data/{network:02}/stats.json') as file:\n",
    "    stats[network] = json.load(file)\n",
    "stats = pd.DataFrame.from_dict(stats, orient='index')\n",
    "\n",
    "stats.rename(columns={'density (nx.Graph)': 'density'}, inplace=True)\n",
    "stats.drop(columns=['nodes', 'edges'], inplace=True)"
   ]
  },
  {
   "cell_type": "code",
   "execution_count": 10,
   "id": "aquatic-adolescent",
   "metadata": {
    "execution": {
     "iopub.execute_input": "2021-03-08T15:21:33.081938Z",
     "iopub.status.busy": "2021-03-08T15:21:33.081831Z",
     "iopub.status.idle": "2021-03-08T15:21:33.190502Z",
     "shell.execute_reply": "2021-03-08T15:21:33.189939Z",
     "shell.execute_reply.started": "2021-03-08T15:21:33.081925Z"
    }
   },
   "outputs": [
    {
     "data": {
      "application/vnd.jupyter.widget-view+json": {
       "model_id": "5c4ebc4657ae470d9f99af7b7a82f9cf",
       "version_major": 2,
       "version_minor": 0
      },
      "text/plain": [
       "  0%|          | 0/26 [00:00<?, ?it/s]"
      ]
     },
     "metadata": {},
     "output_type": "display_data"
    }
   ],
   "source": [
    "diameter = pd.Series(get_diameter(), name='diameter')"
   ]
  },
  {
   "cell_type": "code",
   "execution_count": 11,
   "id": "expanded-pharmacology",
   "metadata": {
    "execution": {
     "iopub.execute_input": "2021-03-08T15:21:33.191225Z",
     "iopub.status.busy": "2021-03-08T15:21:33.191117Z",
     "iopub.status.idle": "2021-03-08T15:21:33.250013Z",
     "shell.execute_reply": "2021-03-08T15:21:33.249373Z",
     "shell.execute_reply.started": "2021-03-08T15:21:33.191211Z"
    }
   },
   "outputs": [],
   "source": [
    "result = pd.concat([df, stats, size, diameter], axis=1)"
   ]
  },
  {
   "cell_type": "code",
   "execution_count": 19,
   "id": "turkish-andrew",
   "metadata": {
    "execution": {
     "iopub.execute_input": "2021-03-08T20:25:11.063733Z",
     "iopub.status.busy": "2021-03-08T20:25:11.063424Z",
     "iopub.status.idle": "2021-03-08T20:25:11.069710Z",
     "shell.execute_reply": "2021-03-08T20:25:11.068845Z",
     "shell.execute_reply.started": "2021-03-08T20:25:11.063699Z"
    }
   },
   "outputs": [
    {
     "data": {
      "text/plain": [
       "{4, 8, 9, 10, 11, 16, 18, 20, 21, 24}"
      ]
     },
     "execution_count": 19,
     "metadata": {},
     "output_type": "execute_result"
    }
   ],
   "source": [
    "simplegraph_indices"
   ]
  },
  {
   "cell_type": "code",
   "execution_count": 17,
   "id": "legendary-senegal",
   "metadata": {
    "execution": {
     "iopub.execute_input": "2021-03-08T20:24:33.171783Z",
     "iopub.status.busy": "2021-03-08T20:24:33.171582Z",
     "iopub.status.idle": "2021-03-08T20:24:33.178098Z",
     "shell.execute_reply": "2021-03-08T20:24:33.177489Z",
     "shell.execute_reply.started": "2021-03-08T20:24:33.171766Z"
    }
   },
   "outputs": [
    {
     "data": {
      "text/plain": [
       "4      1.000000\n",
       "8      1.000000\n",
       "11     1.009546\n",
       "9      1.015235\n",
       "24     1.019506\n",
       "21     1.050273\n",
       "10     1.118615\n",
       "16     1.209968\n",
       "6      1.353547\n",
       "25     1.438842\n",
       "5      1.593639\n",
       "20     1.722823\n",
       "18     1.746068\n",
       "23     1.838463\n",
       "22     1.898487\n",
       "2      1.944224\n",
       "28     2.257692\n",
       "29     2.460012\n",
       "14     2.533092\n",
       "1      3.533745\n",
       "3      3.836883\n",
       "13     4.795904\n",
       "7      7.082018\n",
       "19     8.793729\n",
       "30    20.688123\n",
       "12    25.508151\n",
       "Name: avg events per pair, dtype: float64"
      ]
     },
     "execution_count": 17,
     "metadata": {},
     "output_type": "execute_result"
    }
   ],
   "source": [
    "result['avg events per pair'].sort_values()"
   ]
  },
  {
   "cell_type": "code",
   "execution_count": null,
   "id": "charged-commercial",
   "metadata": {},
   "outputs": [],
   "source": [
    "def convert_int_to_short(x: int):\n",
    "  if x > 2000000: return f'{x/1000000:.0f}M'\n",
    "  elif x > 1000000: return f'{x/1000000:.1f}M'\n",
    "  elif x > 2000: return f'{x/1000:.0f}K'\n",
    "  elif x > 1000: return f'{x/1000:.1f}K'\n",
    "  else: return str(x)\n",
    "  \n",
    "def scientific_notation(x): \n",
    "  x = f'{x:.0e}'\n",
    "  coefficient = x[0]\n",
    "  exponent = x[-1]\n",
    "  return f'${coefficient} \\times 10^{exponent}$'\n",
    "\n",
    "'degree assortativity (nx.Graph)': 'da',\n",
    "'average clustering coefficient': 'acc'"
   ]
  },
  {
   "cell_type": "code",
   "execution_count": 7,
   "id": "missing-columbus",
   "metadata": {
    "execution": {
     "iopub.execute_input": "2021-03-08T15:06:46.503178Z",
     "iopub.status.busy": "2021-03-08T15:06:46.503069Z",
     "iopub.status.idle": "2021-03-08T15:06:46.629473Z",
     "shell.execute_reply": "2021-03-08T15:06:46.628875Z",
     "shell.execute_reply.started": "2021-03-08T15:06:46.503163Z"
    }
   },
   "outputs": [],
   "source": [
    "result.dropna(inplace=True)\n",
    "result = result.astype(dict(diameter=int))\n",
    "result.reset_index(inplace=True, drop=True)\n",
    "result.index = result.index + 1"
   ]
  },
  {
   "cell_type": "code",
   "execution_count": 8,
   "id": "closing-winter",
   "metadata": {
    "execution": {
     "iopub.execute_input": "2021-03-08T15:06:46.631536Z",
     "iopub.status.busy": "2021-03-08T15:06:46.631430Z",
     "iopub.status.idle": "2021-03-08T15:06:46.714272Z",
     "shell.execute_reply": "2021-03-08T15:06:46.713587Z",
     "shell.execute_reply.started": "2021-03-08T15:06:46.631521Z"
    }
   },
   "outputs": [],
   "source": [
    "columns = [\n",
    "  'label', 'cat', 'type', 'nodes', 'edges', 'density', 'da', 'acc', 'diameter', \n",
    "  'source']"
   ]
  },
  {
   "cell_type": "code",
   "execution_count": 9,
   "id": "different-foster",
   "metadata": {
    "execution": {
     "iopub.execute_input": "2021-03-08T15:06:46.714961Z",
     "iopub.status.busy": "2021-03-08T15:06:46.714851Z",
     "iopub.status.idle": "2021-03-08T15:06:46.782248Z",
     "shell.execute_reply": "2021-03-08T15:06:46.781603Z",
     "shell.execute_reply.started": "2021-03-08T15:06:46.714946Z"
    }
   },
   "outputs": [
    {
     "name": "stdout",
     "output_type": "stream",
     "text": [
      "\\begin{table}\n",
      "\\centering\n",
      "\\caption{Networks used in this work. The following abbreviations are used in the columns; cat: category, da: degree assortativity, acc: average clustering coefficient. In the column type, E marks a discrete interaction network, P indicates a network with persistent interactions.The K and M indicates thousands and millions, respectively. }\n",
      "\\label{table:datasets}\n",
      "\\begin{tabular}{lllllllrrrl}\n",
      "\\toprule\n",
      "{} &  label & cat & type & nodes & edges &          density &    da &   acc &  diameter &                           \\\\\n",
      "\\midrule\n",
      "1  &   DBLP &   S &    E &  1.8M &    8M &  $5 \\times 10^6$ &  0.11 &  0.63 &        23 &            \\cite{Ley2002} \\\\\n",
      "2  &  HepPh &   I &    E &   17K &  1.2M &  $8 \\times 10^3$ &  0.06 &  0.61 &         8 &       \\cite{Leskovec2007} \\\\\n",
      "3  &  Enron &   S &    E &   87K &  299K &  $8 \\times 10^5$ & -0.17 &  0.12 &        14 &          \\cite{Klimt2004} \\\\\n",
      "4  &   FB-w &   S &    P &   55K &  336K &  $2 \\times 10^4$ &  0.22 &  0.12 &        16 &      \\cite{Viswanath2009} \\\\\n",
      "5  &  Condm &   S &    E &   17K &   55K &  $4 \\times 10^4$ &  0.18 &  0.64 &        19 &  \\cite{Lichtenwalter2010} \\\\\n",
      "6  &  HepTh &   I &    E &    7K &  215K &  $9 \\times 10^3$ &  0.01 &  0.77 &        11 &       \\cite{Leskovec2007} \\\\\n",
      "7  &   AMin &   S &    E &  855K &    3M &  $9 \\times 10^6$ &  0.16 &  0.61 &        22 &         \\cite{Zhuang2013} \\\\\n",
      "8  &   FB-l &   S &    P &   55K &  336K &  $2 \\times 10^4$ &  0.22 &  0.12 &        16 &      \\cite{Viswanath2009} \\\\\n",
      "9  &  D-rep &   S &    P &   30K &   86K &  $2 \\times 10^4$ &  0.01 &  0.01 &        12 &    \\cite{DeChoudhury2009} \\\\\n",
      "10 &    D-f &   S &    P &  279K &  1.5M &  $4 \\times 10^5$ & -0.06 &  0.09 &        18 &           \\cite{Hogg2010} \\\\\n",
      "11 &    D-v &   I &    P &  139K &    3M &  $3 \\times 10^4$ & -0.23 &  0.14 &         4 &           \\cite{Hogg2010} \\\\\n",
      "12 &   Rado &   S &    E &   167 &    3K &  $2 \\times 10^1$ & -0.29 &  0.59 &         5 &      \\cite{Michalski2011} \\\\\n",
      "13 &     UC &   I &    E &   899 &    7K &  $2 \\times 10^2$ & -0.09 &  0.07 &         6 &         \\cite{Opsahl2013} \\\\\n",
      "14 &  SX-MO &   S &    E &   25K &  200K &  $6 \\times 10^4$ & -0.20 &  0.31 &         9 &      \\cite{Paranjape2017} \\\\\n",
      "15 &  trust &   S &    P &  114K &  593K &  $9 \\times 10^5$ & -0.05 &  0.13 &        14 &     \\cite{Richardson2003} \\\\\n",
      "16 &   bitA &   S &    P &    4K &   13K &  $2 \\times 10^3$ & -0.15 &  0.17 &        10 &          \\cite{Kumar2017} \\\\\n",
      "17 &    Dem &   S &    E &  1.9K &    4K &  $2 \\times 10^3$ & -0.30 &  0.21 &         8 &          \\cite{Wikileaks} \\\\\n",
      "18 &  bitOT &   S &    P &    6K &   19K &  $1 \\times 10^3$ & -0.14 &  0.16 &        14 &          \\cite{Kumar2017} \\\\\n",
      "19 &  chess &   I &    P &    6K &   20K &  $1 \\times 10^3$ &  0.34 &  0.05 &        13 &             \\cite{konect} \\\\\n",
      "20 &  SX-AU &   S &    E &  159K &  508K &  $4 \\times 10^5$ & -0.14 &  0.11 &        13 &      \\cite{Paranjape2017} \\\\\n",
      "21 &  SX-SU &   S &    E &  194K &  785K &  $4 \\times 10^5$ & -0.09 &  0.12 &        12 &      \\cite{Paranjape2017} \\\\\n",
      "22 &  loans &   I &    P &   89K &    3M &  $8 \\times 10^4$ & -0.08 &  0.00 &         8 &        \\cite{Redmond2013} \\\\\n",
      "23 &   Wiki &   S &    E &  117K &    2M &  $3 \\times 10^4$ & -0.06 &  0.36 &        10 &        \\cite{Brandes2009} \\\\\n",
      "24 &  Rbody &   T &    E &   35K &  118K &  $2 \\times 10^4$ & -0.09 &  0.18 &        11 &          \\cite{Kumar2018} \\\\\n",
      "25 &   Rtit &   T &    E &   53K &  208K &  $1 \\times 10^4$ & -0.14 &  0.18 &        17 &          \\cite{Kumar2018} \\\\\n",
      "26 &     EU &   S &    E &   986 &   16K &  $3 \\times 10^2$ & -0.03 &  0.41 &         7 &            \\cite{Yin2017} \\\\\n",
      "\\bottomrule\n",
      "\\end{tabular}\n",
      "\\end{table}\n",
      "\n"
     ]
    }
   ],
   "source": [
    "print(\n",
    "  result[columns].rename(columns={'source': ' '}).to_latex(\n",
    "    caption=(\n",
    "      'Networks used in this work. '\n",
    "      'The following abbreviations are used in the columns; '\n",
    "      'cat: category, '\n",
    "      'da: degree assortativity, acc: average clustering coefficient. '\n",
    "      'In the column type, E marks a discrete interaction network, '\n",
    "      'P indicates a network with persistent interactions.'\n",
    "      'The K and M indicates thousands and millions, respectively. '),\n",
    "    label='table:datasets',\n",
    "    escape=False,\n",
    "    multicolumn=False))"
   ]
  },
  {
   "cell_type": "code",
   "execution_count": null,
   "id": "smart-angel",
   "metadata": {},
   "outputs": [],
   "source": []
  }
 ],
 "metadata": {
  "kernelspec": {
   "display_name": "Python 3",
   "language": "python",
   "name": "python3"
  },
  "language_info": {
   "codemirror_mode": {
    "name": "ipython",
    "version": 3
   },
   "file_extension": ".py",
   "mimetype": "text/x-python",
   "name": "python",
   "nbconvert_exporter": "python",
   "pygments_lexer": "ipython3",
   "version": "3.9.1"
  }
 },
 "nbformat": 4,
 "nbformat_minor": 5
}
