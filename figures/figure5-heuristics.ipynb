{
 "cells": [
  {
   "cell_type": "code",
   "execution_count": 2,
   "id": "environmental-drill",
   "metadata": {
    "execution": {
     "iopub.execute_input": "2021-03-05T08:36:41.462203Z",
     "iopub.status.busy": "2021-03-05T08:36:41.461974Z",
     "iopub.status.idle": "2021-03-05T08:36:42.355592Z",
     "shell.execute_reply": "2021-03-05T08:36:42.354930Z",
     "shell.execute_reply.started": "2021-03-05T08:36:41.462177Z"
    }
   },
   "outputs": [
    {
     "name": "stdout",
     "output_type": "stream",
     "text": [
      "/scratch/bruingjde/SNAM2021-code\n"
     ]
    }
   ],
   "source": [
    "%cd /scratch/bruingjde/SNAM2021-code/\n",
    "\n",
    "from constants import *"
   ]
  },
  {
   "cell_type": "markdown",
   "id": "married-highland",
   "metadata": {},
   "source": [
    "# Static features"
   ]
  },
  {
   "cell_type": "code",
   "execution_count": 3,
   "id": "promising-recruitment",
   "metadata": {
    "execution": {
     "iopub.execute_input": "2021-03-05T08:36:42.611142Z",
     "iopub.status.busy": "2021-03-05T08:36:42.610887Z",
     "iopub.status.idle": "2021-03-05T08:36:45.434571Z",
     "shell.execute_reply": "2021-03-05T08:36:45.433965Z",
     "shell.execute_reply.started": "2021-03-05T08:36:42.611115Z"
    }
   },
   "outputs": [],
   "source": [
    "def logistic_regression_I(network: int, heuristic: str):\n",
    "  X = np.load(f'data/{network:02}/features/time_agnostic/{heuristic}.npy')\n",
    "  X = X.reshape(-1, 1)\n",
    "    \n",
    "  y = np.load(f'data/{network:02}/targets_sampled.npy')\n",
    "  \n",
    "  X_train, X_test, y_train, y_test = (\n",
    "    sklearn.model_selection.train_test_split(X, y))\n",
    "  pipe = sklearn.pipeline.make_pipeline(\n",
    "    sklearn.preprocessing.StandardScaler(),\n",
    "    sklearn.linear_model.LogisticRegression(max_iter=10000)) # type: ignore\n",
    "  pipe.fit(X_train, y_train)\n",
    "  \n",
    "  auc = sklearn.metrics.roc_auc_score(\n",
    "    y_true=y_test, y_score=pipe.predict_proba(X_test)[:,1]) # type: ignore\n",
    "  \n",
    "  return auc\n",
    "\n",
    "exp1 = {\n",
    "  heuristic: (\n",
    "    [logistic_regression_I(network, heuristic) for network in network_indices])\n",
    "  for heuristic in heuristics\n",
    "}\n",
    "exp1 = pd.DataFrame(exp1)"
   ]
  },
  {
   "cell_type": "markdown",
   "id": "advisory-technician",
   "metadata": {},
   "source": [
    "# Node temporal features"
   ]
  },
  {
   "cell_type": "code",
   "execution_count": 4,
   "id": "solar-poverty",
   "metadata": {
    "execution": {
     "iopub.execute_input": "2021-03-05T08:37:12.543185Z",
     "iopub.status.busy": "2021-03-05T08:37:12.542945Z",
     "iopub.status.idle": "2021-03-05T08:37:12.635162Z",
     "shell.execute_reply": "2021-03-05T08:37:12.634494Z",
     "shell.execute_reply.started": "2021-03-05T08:37:12.543169Z"
    }
   },
   "outputs": [
    {
     "ename": "FileNotFoundError",
     "evalue": "[Errno 2] No such file or directory: 'data/01/features/time_node/lin_sum_m4.npy'",
     "output_type": "error",
     "traceback": [
      "\u001b[0;31m---------------------------------------------------------------------------\u001b[0m",
      "\u001b[0;31mFileNotFoundError\u001b[0m                         Traceback (most recent call last)",
      "\u001b[0;32m<ipython-input-4-c5277518259e>\u001b[0m in \u001b[0;36m<module>\u001b[0;34m\u001b[0m\n\u001b[1;32m     58\u001b[0m   \u001b[0;32mreturn\u001b[0m \u001b[0mauc\u001b[0m\u001b[0;34m\u001b[0m\u001b[0;34m\u001b[0m\u001b[0m\n\u001b[1;32m     59\u001b[0m \u001b[0;34m\u001b[0m\u001b[0m\n\u001b[0;32m---> 60\u001b[0;31m exp2 = {\n\u001b[0m\u001b[1;32m     61\u001b[0m   heuristic: [\n\u001b[1;32m     62\u001b[0m       \u001b[0mlogistic_regression_I_II_hypergraph\u001b[0m\u001b[0;34m(\u001b[0m\u001b[0mnetwork\u001b[0m\u001b[0;34m,\u001b[0m \u001b[0mheuristic\u001b[0m\u001b[0;34m)\u001b[0m\u001b[0;34m\u001b[0m\u001b[0;34m\u001b[0m\u001b[0m\n",
      "\u001b[0;32m<ipython-input-4-c5277518259e>\u001b[0m in \u001b[0;36m<dictcomp>\u001b[0;34m(.0)\u001b[0m\n\u001b[1;32m     59\u001b[0m \u001b[0;34m\u001b[0m\u001b[0m\n\u001b[1;32m     60\u001b[0m exp2 = {\n\u001b[0;32m---> 61\u001b[0;31m   heuristic: [\n\u001b[0m\u001b[1;32m     62\u001b[0m       \u001b[0mlogistic_regression_I_II_hypergraph\u001b[0m\u001b[0;34m(\u001b[0m\u001b[0mnetwork\u001b[0m\u001b[0;34m,\u001b[0m \u001b[0mheuristic\u001b[0m\u001b[0;34m)\u001b[0m\u001b[0;34m\u001b[0m\u001b[0;34m\u001b[0m\u001b[0m\n\u001b[1;32m     63\u001b[0m       \u001b[0;32mfor\u001b[0m \u001b[0mnetwork\u001b[0m \u001b[0;32min\u001b[0m \u001b[0mhypergraph_indices\u001b[0m\u001b[0;34m\u001b[0m\u001b[0;34m\u001b[0m\u001b[0m\n",
      "\u001b[0;32m<ipython-input-4-c5277518259e>\u001b[0m in \u001b[0;36m<listcomp>\u001b[0;34m(.0)\u001b[0m\n\u001b[1;32m     60\u001b[0m exp2 = {\n\u001b[1;32m     61\u001b[0m   heuristic: [\n\u001b[0;32m---> 62\u001b[0;31m       \u001b[0mlogistic_regression_I_II_hypergraph\u001b[0m\u001b[0;34m(\u001b[0m\u001b[0mnetwork\u001b[0m\u001b[0;34m,\u001b[0m \u001b[0mheuristic\u001b[0m\u001b[0;34m)\u001b[0m\u001b[0;34m\u001b[0m\u001b[0;34m\u001b[0m\u001b[0m\n\u001b[0m\u001b[1;32m     63\u001b[0m       \u001b[0;32mfor\u001b[0m \u001b[0mnetwork\u001b[0m \u001b[0;32min\u001b[0m \u001b[0mhypergraph_indices\u001b[0m\u001b[0;34m\u001b[0m\u001b[0;34m\u001b[0m\u001b[0m\n\u001b[1;32m     64\u001b[0m     \u001b[0;34m]\u001b[0m \u001b[0;34m+\u001b[0m \u001b[0;34m[\u001b[0m\u001b[0;34m\u001b[0m\u001b[0;34m\u001b[0m\u001b[0m\n",
      "\u001b[0;32m<ipython-input-4-c5277518259e>\u001b[0m in \u001b[0;36mlogistic_regression_I_II_hypergraph\u001b[0;34m(network, heuristic)\u001b[0m\n\u001b[1;32m      9\u001b[0m       \u001b[0;32mfor\u001b[0m \u001b[0maggregation_strategy\u001b[0m \u001b[0;32min\u001b[0m \u001b[0maggregation_strategies\u001b[0m\u001b[0;34m:\u001b[0m\u001b[0;34m\u001b[0m\u001b[0;34m\u001b[0m\u001b[0m\n\u001b[1;32m     10\u001b[0m         X[(time_strategy, nodepair_strategy, aggregation_strategy)] = (\n\u001b[0;32m---> 11\u001b[0;31m           np.load(\n\u001b[0m\u001b[1;32m     12\u001b[0m             \u001b[0;34mf'data/{network:02}/features/time_node/'\u001b[0m\u001b[0;34m\u001b[0m\u001b[0;34m\u001b[0m\u001b[0m\n\u001b[1;32m     13\u001b[0m             f'{time_strategy}_{nodepair_strategy}_{aggregation_strategy}.npy'))\n",
      "\u001b[0;32m/scratch/bruingjde/miniconda3/envs/tlp/lib/python3.9/site-packages/numpy/lib/npyio.py\u001b[0m in \u001b[0;36mload\u001b[0;34m(file, mmap_mode, allow_pickle, fix_imports, encoding)\u001b[0m\n\u001b[1;32m    415\u001b[0m             \u001b[0mown_fid\u001b[0m \u001b[0;34m=\u001b[0m \u001b[0;32mFalse\u001b[0m\u001b[0;34m\u001b[0m\u001b[0;34m\u001b[0m\u001b[0m\n\u001b[1;32m    416\u001b[0m         \u001b[0;32melse\u001b[0m\u001b[0;34m:\u001b[0m\u001b[0;34m\u001b[0m\u001b[0;34m\u001b[0m\u001b[0m\n\u001b[0;32m--> 417\u001b[0;31m             \u001b[0mfid\u001b[0m \u001b[0;34m=\u001b[0m \u001b[0mstack\u001b[0m\u001b[0;34m.\u001b[0m\u001b[0menter_context\u001b[0m\u001b[0;34m(\u001b[0m\u001b[0mopen\u001b[0m\u001b[0;34m(\u001b[0m\u001b[0mos_fspath\u001b[0m\u001b[0;34m(\u001b[0m\u001b[0mfile\u001b[0m\u001b[0;34m)\u001b[0m\u001b[0;34m,\u001b[0m \u001b[0;34m\"rb\"\u001b[0m\u001b[0;34m)\u001b[0m\u001b[0;34m)\u001b[0m\u001b[0;34m\u001b[0m\u001b[0;34m\u001b[0m\u001b[0m\n\u001b[0m\u001b[1;32m    418\u001b[0m             \u001b[0mown_fid\u001b[0m \u001b[0;34m=\u001b[0m \u001b[0;32mTrue\u001b[0m\u001b[0;34m\u001b[0m\u001b[0;34m\u001b[0m\u001b[0m\n\u001b[1;32m    419\u001b[0m \u001b[0;34m\u001b[0m\u001b[0m\n",
      "\u001b[0;31mFileNotFoundError\u001b[0m: [Errno 2] No such file or directory: 'data/01/features/time_node/lin_sum_m4.npy'"
     ]
    }
   ],
   "source": [
    "def logistic_regression_I_II_hypergraph(network: int, heuristic: str, hypergraph: bool):\n",
    "  X = {\n",
    "    'time agnostic': (\n",
    "      np.load(f'data/{network:02}/features/time_agnostic/{heuristic}.npy'))\n",
    "  }      \n",
    "   \n",
    "  if hypergraph:\n",
    "  for time_strategy in time_strategies:\n",
    "    for nodepair_strategy in nodepair_strategies:\n",
    "      for aggregation_strategy in aggregation_strategies:\n",
    "        X[(time_strategy, nodepair_strategy, aggregation_strategy)] = (\n",
    "          np.load(\n",
    "            f'data/{network:02}/features/time_node/'\n",
    "            f'{time_strategy}_{nodepair_strategy}_{aggregation_strategy}.npy'))\n",
    "    \n",
    "  X = pd.DataFrame(X)\n",
    "    \n",
    "  y = np.load(f'data/{network:02}/targets_sampled.npy')\n",
    "  \n",
    "  X_train, X_test, y_train, y_test = (\n",
    "    sklearn.model_selection.train_test_split(X, y))\n",
    "  pipe = sklearn.pipeline.make_pipeline(\n",
    "    sklearn.preprocessing.StandardScaler(),\n",
    "    sklearn.linear_model.LogisticRegression(max_iter=10000))\n",
    "  pipe.fit(X_train, y_train)\n",
    "  \n",
    "  auc = sklearn.metrics.roc_auc_score(\n",
    "    y_true=y_test, y_score=pipe.predict_proba(X_test)[:,1])\n",
    "  \n",
    "  return auc\n",
    "\n",
    "def logistic_regression_I_II_simplegraph(network: int, heuristic: str):\n",
    "  X = {\n",
    "    'time agnostic': (\n",
    "      np.load(f'data/{network:02}/features/time_agnostic/{heuristic}.npy'))\n",
    "  }  \n",
    "    \n",
    "  for time_strategy in time_strategies:\n",
    "    for nodepair_strategy in nodepair_strategies:\n",
    "        X[(time_strategy, nodepair_strategy)] = (\n",
    "          np.load(\n",
    "            f'data/{network:02}/features/time_node/'\n",
    "            f'{time_strategy}_{nodepair_strategy}.npy'))\n",
    "    \n",
    "  X = pd.DataFrame(X)\n",
    "    \n",
    "  y = np.load(f'data/{network:02}/targets_sampled.npy')\n",
    "  \n",
    "  X_train, X_test, y_train, y_test = (\n",
    "    sklearn.model_selection.train_test_split(X, y))\n",
    "  pipe = sklearn.pipeline.make_pipeline(\n",
    "    sklearn.preprocessing.StandardScaler(),\n",
    "    sklearn.linear_model.LogisticRegression(max_iter=10000))\n",
    "  pipe.fit(X_train, y_train)\n",
    "  \n",
    "  auc = sklearn.metrics.roc_auc_score(\n",
    "    y_true=y_test, y_score=pipe.predict_proba(X_test)[:,1])\n",
    "  \n",
    "  return auc\n",
    "\n",
    "exp2 = {\n",
    "  heuristic: [\n",
    "      logistic_regression_I_II_hypergraph(network, heuristic) \n",
    "      for network in hypergraph_indices\n",
    "    ] + [\n",
    "      logistic_regression_I_II_simplegraph(network, heuristic)\n",
    "      for network in simplegraph_indices\n",
    "    ]\n",
    "  for heuristic in heuristics\n",
    "}\n",
    "exp2 = pd.DataFrame(exp2)"
   ]
  },
  {
   "cell_type": "code",
   "execution_count": 6,
   "id": "simplified-ukraine",
   "metadata": {
    "execution": {
     "iopub.execute_input": "2021-03-02T05:30:22.976687Z",
     "iopub.status.busy": "2021-03-02T05:30:22.976384Z",
     "iopub.status.idle": "2021-03-02T05:32:16.294716Z",
     "shell.execute_reply": "2021-03-02T05:32:16.293950Z",
     "shell.execute_reply.started": "2021-03-02T05:30:22.976658Z"
    }
   },
   "outputs": [],
   "source": [
    "def logistic_regression_III_hypergraph(network: int, heuristic: str):\n",
    "  X = dict()  \n",
    "  for time_strategy in time_strategies:\n",
    "    for aggregation_strategy in aggregation_strategies:\n",
    "      if aggregation_strategy not in ['m2', 'm3']:\n",
    "        X[(heuristic, time_strategy, aggregation_strategy)] = (\n",
    "          np.load(\n",
    "            f'data/{network:02}/features/time_edge/'\n",
    "            f'{heuristic}_{time_strategy}_{aggregation_strategy}.npy'))\n",
    "    \n",
    "  X = pd.DataFrame(X)\n",
    "    \n",
    "  y = np.load(f'data/{network:02}/targets_sampled.npy')\n",
    "  \n",
    "  X_train, X_test, y_train, y_test = (\n",
    "    sklearn.model_selection.train_test_split(X, y))\n",
    "  pipe = sklearn.pipeline.make_pipeline(\n",
    "    sklearn.preprocessing.StandardScaler(),\n",
    "    sklearn.linear_model.LogisticRegression(max_iter=10000))\n",
    "  pipe.fit(X_train, y_train)\n",
    "  \n",
    "  auc = sklearn.metrics.roc_auc_score(\n",
    "    y_true=y_test, y_score=pipe.predict_proba(X_test)[:,1])\n",
    "  \n",
    "  return auc\n",
    "\n",
    "def logistic_regression_III_simplegraph(network: int, heuristic: str):\n",
    "  X = dict()  \n",
    "  for time_strategy in time_strategies:\n",
    "    X[(heuristic, time_strategy)] = np.load(\n",
    "      f'data/{network:02}/features/time_edge/{heuristic}_{time_strategy}.npy')\n",
    "    \n",
    "  X = pd.DataFrame(X)\n",
    "    \n",
    "  y = np.load(f'data/{network:02}/targets_sampled.npy')\n",
    "  \n",
    "  X_train, X_test, y_train, y_test = (\n",
    "    sklearn.model_selection.train_test_split(X, y))\n",
    "  pipe = sklearn.pipeline.make_pipeline(\n",
    "    sklearn.preprocessing.StandardScaler(),\n",
    "    sklearn.linear_model.LogisticRegression(max_iter=10000))\n",
    "  pipe.fit(X_train, y_train)\n",
    "  \n",
    "  auc = sklearn.metrics.roc_auc_score(\n",
    "    y_true=y_test, y_score=pipe.predict_proba(X_test)[:,1])\n",
    "  \n",
    "  return auc\n",
    "\n",
    "exp3 = {\n",
    "  heuristic: [\n",
    "      logistic_regression_I_II_hypergraph(network, heuristic) \n",
    "      for network in hypergraph_indices\n",
    "    ] + [\n",
    "      logistic_regression_I_II_simplegraph(network, heuristic)\n",
    "      for network in simplegraph_indices\n",
    "    ]\n",
    "  for heuristic in heuristics\n",
    "}\n",
    "exp3 = pd.DataFrame(exp3)"
   ]
  },
  {
   "cell_type": "code",
   "execution_count": 13,
   "id": "traditional-liberal",
   "metadata": {
    "execution": {
     "iopub.execute_input": "2021-03-02T05:35:51.059033Z",
     "iopub.status.busy": "2021-03-02T05:35:51.058709Z",
     "iopub.status.idle": "2021-03-02T05:35:51.065753Z",
     "shell.execute_reply": "2021-03-02T05:35:51.065115Z",
     "shell.execute_reply.started": "2021-03-02T05:35:51.058997Z"
    }
   },
   "outputs": [],
   "source": [
    "df = pd.concat({'I': exp1.T, 'I+II': exp2.T, 'III': exp3.T}, axis=1)"
   ]
  },
  {
   "cell_type": "code",
   "execution_count": 18,
   "id": "appropriate-masters",
   "metadata": {
    "execution": {
     "iopub.execute_input": "2021-03-02T05:38:12.849994Z",
     "iopub.status.busy": "2021-03-02T05:38:12.849674Z",
     "iopub.status.idle": "2021-03-02T05:38:12.870758Z",
     "shell.execute_reply": "2021-03-02T05:38:12.869896Z",
     "shell.execute_reply.started": "2021-03-02T05:38:12.849959Z"
    }
   },
   "outputs": [
    {
     "name": "stdout",
     "output_type": "stream",
     "text": [
      "\\begin{table}\n",
      "\\centering\n",
      "\\caption{Performance, measured by the AUC, of the different experiments for the various heuristics.}\n",
      "\\label{fig:heuristics}\n",
      "\\begin{tabular}{lrrr}\n",
      "\\toprule\n",
      "{} &     I &  I+II &   III \\\\\n",
      "\\midrule\n",
      "aa &  0.78 &  0.87 &  0.87 \\\\\n",
      "cn &  0.74 &  0.86 &  0.86 \\\\\n",
      "jc &  0.64 &  0.86 &  0.86 \\\\\n",
      "pa &  0.76 &  0.84 &  0.84 \\\\\n",
      "\\bottomrule\n",
      "\\end{tabular}\n",
      "\\end{table}\n",
      "\n"
     ]
    }
   ],
   "source": [
    "print(\n",
    "  df.mean(axis=1, level=0).round(2).to_latex(\n",
    "    caption=(\n",
    "      'Performance, measured by the AUC, of the different experiments for the '\n",
    "      'various heuristics.'),\n",
    "    label='fig:heuristics')\n",
    ")"
   ]
  },
  {
   "cell_type": "code",
   "execution_count": null,
   "id": "increasing-convenience",
   "metadata": {},
   "outputs": [],
   "source": []
  }
 ],
 "metadata": {
  "kernelspec": {
   "display_name": "Python 3",
   "language": "python",
   "name": "python3"
  },
  "language_info": {
   "codemirror_mode": {
    "name": "ipython",
    "version": 3
   },
   "file_extension": ".py",
   "mimetype": "text/x-python",
   "name": "python",
   "nbconvert_exporter": "python",
   "pygments_lexer": "ipython3",
   "version": "3.9.1"
  }
 },
 "nbformat": 4,
 "nbformat_minor": 5
}
