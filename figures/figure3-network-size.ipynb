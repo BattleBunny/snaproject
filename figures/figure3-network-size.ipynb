{
 "cells": [
  {
   "cell_type": "code",
   "execution_count": 1,
   "id": "processed-husband",
   "metadata": {
    "execution": {
     "iopub.execute_input": "2021-03-01T22:38:09.461998Z",
     "iopub.status.busy": "2021-03-01T22:38:09.461678Z",
     "iopub.status.idle": "2021-03-01T22:38:11.344181Z",
     "shell.execute_reply": "2021-03-01T22:38:11.343204Z",
     "shell.execute_reply.started": "2021-03-01T22:38:09.461901Z"
    }
   },
   "outputs": [
    {
     "name": "stdout",
     "output_type": "stream",
     "text": [
      "/scratch/bruingjde/SNAM2021-code\n"
     ]
    }
   ],
   "source": [
    "%cd /scratch/bruingjde/SNAM2021-code/\n",
    "\n",
    "from constants import *"
   ]
  },
  {
   "cell_type": "code",
   "execution_count": 2,
   "id": "finished-straight",
   "metadata": {
    "execution": {
     "iopub.execute_input": "2021-03-01T22:38:23.024846Z",
     "iopub.status.busy": "2021-03-01T22:38:23.024458Z",
     "iopub.status.idle": "2021-03-01T22:38:23.033470Z",
     "shell.execute_reply": "2021-03-01T22:38:23.032430Z",
     "shell.execute_reply.started": "2021-03-01T22:38:23.024804Z"
    }
   },
   "outputs": [],
   "source": [
    "# size = tlp.ProgressParallel(n_jobs=network_count, total=network_count)(\n",
    "#   joblib.delayed(get_size)(network_index) for network_index in network_indices\n",
    "# )\n",
    "  \n",
    "# size = pd.DataFrame(size)\n",
    "size = joblib.load('data/size.pkl')"
   ]
  },
  {
   "cell_type": "code",
   "execution_count": 9,
   "id": "awful-revolution",
   "metadata": {
    "execution": {
     "iopub.execute_input": "2021-03-01T22:39:27.364535Z",
     "iopub.status.busy": "2021-03-01T22:39:27.363912Z",
     "iopub.status.idle": "2021-03-01T22:39:27.371254Z",
     "shell.execute_reply": "2021-03-01T22:39:27.370558Z",
     "shell.execute_reply.started": "2021-03-01T22:39:27.364496Z"
    }
   },
   "outputs": [],
   "source": [
    "networks = get_networks()\n",
    "networks = pd.DataFrame.from_dict(networks, orient='index')"
   ]
  },
  {
   "cell_type": "code",
   "execution_count": 12,
   "id": "marine-saying",
   "metadata": {
    "execution": {
     "iopub.execute_input": "2021-03-01T22:39:56.137429Z",
     "iopub.status.busy": "2021-03-01T22:39:56.137085Z",
     "iopub.status.idle": "2021-03-01T22:39:56.143542Z",
     "shell.execute_reply": "2021-03-01T22:39:56.142682Z",
     "shell.execute_reply.started": "2021-03-01T22:39:56.137392Z"
    }
   },
   "outputs": [],
   "source": [
    "df = pd.concat([size, networks], axis=1)"
   ]
  },
  {
   "cell_type": "code",
   "execution_count": 14,
   "id": "apparent-alberta",
   "metadata": {
    "execution": {
     "iopub.execute_input": "2021-03-01T22:40:27.769844Z",
     "iopub.status.busy": "2021-03-01T22:40:27.769185Z",
     "iopub.status.idle": "2021-03-01T22:40:29.746109Z",
     "shell.execute_reply": "2021-03-01T22:40:29.744835Z",
     "shell.execute_reply.started": "2021-03-01T22:40:27.769800Z"
    }
   },
   "outputs": [
    {
     "data": {
      "image/png": "[encoded data removed]",
      "text/plain": [
       "<Figure size 288x288 with 1 Axes>"
      ]
     },
     "metadata": {
      "needs_background": "light"
     },
     "output_type": "display_data"
    }
   ],
   "source": [
    "rc = {'xtick.top': True, 'ytick.right': True, 'figure.figsize': (4, 4)}\n",
    "with plt.rc_context(rc):\n",
    "  sns.scatterplot(data=df, x='edges', y='nodes', hue='category', \n",
    "                  style='category')\n",
    "  plt.xscale('log')\n",
    "  plt.yscale('log')\n",
    "  plt.xlabel('# nodes')\n",
    "  plt.ylabel('# edges')\n",
    "  plt.tight_layout()\n",
    "  plt.savefig('figures/network_size.pdf')"
   ]
  },
  {
   "cell_type": "code",
   "execution_count": null,
   "id": "descending-visitor",
   "metadata": {},
   "outputs": [],
   "source": []
  }
 ],
 "metadata": {
  "kernelspec": {
   "display_name": "Python 3",
   "language": "python",
   "name": "python3"
  },
  "language_info": {
   "codemirror_mode": {
    "name": "ipython",
    "version": 3
   },
   "file_extension": ".py",
   "mimetype": "text/x-python",
   "name": "python",
   "nbconvert_exporter": "python",
   "pygments_lexer": "ipython3",
   "version": "3.9.1"
  }
 },
 "nbformat": 4,
 "nbformat_minor": 5
}
