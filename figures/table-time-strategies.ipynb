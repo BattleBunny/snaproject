{
 "cells": [
  {
   "cell_type": "code",
   "execution_count": 101,
   "id": "contemporary-tomato",
   "metadata": {
    "execution": {
     "iopub.execute_input": "2021-03-05T14:24:44.436665Z",
     "iopub.status.busy": "2021-03-05T14:24:44.436423Z",
     "iopub.status.idle": "2021-03-05T14:24:44.441661Z",
     "shell.execute_reply": "2021-03-05T14:24:44.440841Z",
     "shell.execute_reply.started": "2021-03-05T14:24:44.436633Z"
    }
   },
   "outputs": [
    {
     "name": "stdout",
     "output_type": "stream",
     "text": [
      "/scratch/bruingjde/SNAM2021-code\n"
     ]
    }
   ],
   "source": [
    "%cd /scratch/bruingjde/SNAM2021-code/\n",
    "\n",
    "from constants import *"
   ]
  },
  {
   "cell_type": "markdown",
   "id": "suffering-solomon",
   "metadata": {},
   "source": [
    "# Edge temporal features"
   ]
  },
  {
   "cell_type": "code",
   "execution_count": 102,
   "id": "parental-hawaii",
   "metadata": {
    "execution": {
     "iopub.execute_input": "2021-03-05T14:24:45.024850Z",
     "iopub.status.busy": "2021-03-05T14:24:45.024596Z",
     "iopub.status.idle": "2021-03-05T14:24:45.040561Z",
     "shell.execute_reply": "2021-03-05T14:24:45.040091Z",
     "shell.execute_reply.started": "2021-03-05T14:24:45.024819Z"
    }
   },
   "outputs": [],
   "source": [
    "def logistic_regression(X, y):\n",
    "  X_train, X_test, y_train, y_test = (\n",
    "    sklearn.model_selection.train_test_split(X, y))\n",
    "  pipe = sklearn.pipeline.make_pipeline(\n",
    "    sklearn.preprocessing.StandardScaler(),\n",
    "    sklearn.linear_model.LogisticRegression(max_iter=10000, n_jobs=-1))\n",
    "  pipe.fit(X_train, y_train)\n",
    "  \n",
    "  auc = sklearn.metrics.roc_auc_score(\n",
    "    y_true=y_test, y_score=pipe.predict_proba(X_test)[:,1])\n",
    "  \n",
    "  return auc\n",
    "\n",
    "class FeatureSet(typing.NamedTuple):\n",
    "  time: str\n",
    "  heuristic: str\n",
    "  network: int\n",
    "\n",
    "def get_features() -> dict[FeatureSet, typing.Union[np.ndarray, pd.DataFrame]]:\n",
    "  aggregation_strategies = ['m0', 'm1', 'q0', 'q25', 'q50', 'q75', 'q100']\n",
    "  # Get all features that will be used in the logistic_regression.\n",
    "  # Start with the static ones. For each heuristic:\n",
    "  features = {\n",
    "    FeatureSet('static', heuristic, network_index): np.load(\n",
    "      f'data/{network_index:02}/features/time_agnostic/{heuristic}.npy'\n",
    "    ).reshape(-1,1)\n",
    "    for heuristic in heuristics for network_index in network_indices\n",
    "  }\n",
    "  # Still static, but all heuristics combined:\n",
    "  for network_index in network_indices:\n",
    "    features[FeatureSet('static', 'combined', network_index)] = pd.DataFrame(\n",
    "      {\n",
    "        heuristic: np.load(\n",
    "          f'data/{network_index:02}/features/time_agnostic/{heuristic}.npy')\n",
    "        for heuristic in heuristics\n",
    "      }\n",
    "    )\n",
    "    # Temporal edge, for each time_strategy, for each of the heuristics:\n",
    "    for time_strategy in time_strategies:\n",
    "      for heuristic in heuristics:\n",
    "        if network_index in hypergraph_indices:\n",
    "          # For each heuristic\n",
    "          features[FeatureSet(time_strategy, heuristic, network_index)] = (\n",
    "            pd.DataFrame(\n",
    "              {\n",
    "                aggregation_strategy: np.load(\n",
    "                  f'data/{network_index:02}/features/time_edge/'\n",
    "                  f'{heuristic}_{time_strategy}_{aggregation_strategy}.npy')\n",
    "                for aggregation_strategy in aggregation_strategies\n",
    "              }\n",
    "            )\n",
    "          )\n",
    "          # Heuristics combined\n",
    "          features[FeatureSet(time_strategy, 'combined', network_index)] = (\n",
    "            pd.DataFrame(\n",
    "              {\n",
    "                (heuristic, aggregation_strategy): np.load(\n",
    "                  f'data/{network_index:02}/features/time_edge/'\n",
    "                  f'{heuristic}_{time_strategy}_{aggregation_strategy}.npy')\n",
    "                for aggregation_strategy in aggregation_strategies\n",
    "                for heuristic in heuristics\n",
    "              }\n",
    "            )\n",
    "          )\n",
    "        else: # No hypergraph\n",
    "          # For each heuristic\n",
    "          features[FeatureSet(time_strategy, heuristic, network_index)] = (\n",
    "            np.load(\n",
    "              f'data/{network_index:02}/features/time_edge/'\n",
    "              f'{heuristic}_{time_strategy}.npy'\n",
    "            ).reshape(-1,1)\n",
    "          )\n",
    "          # Heuristics combined\n",
    "          features[FeatureSet(time_strategy, 'combined', network_index)] = (\n",
    "            pd.DataFrame(\n",
    "              {\n",
    "                heuristic: np.load(f'data/{network_index:02}/features/'\n",
    "                                   f'time_edge/{heuristic}_{time_strategy}.npy')\n",
    "                for heuristic in heuristics\n",
    "              }\n",
    "            )\n",
    "          )\n",
    "    # Temporal edge, all time_strategies combined, but per heuristic:\n",
    "    for heuristic in heuristics:\n",
    "      if network_index in hypergraph_indices:\n",
    "        # For each heuristic\n",
    "        features[FeatureSet('combined', heuristic, network_index)] = (\n",
    "          pd.DataFrame(\n",
    "            {\n",
    "              aggregation_strategy: np.load(\n",
    "                f'data/{network_index:02}/features/time_edge/'\n",
    "                f'{heuristic}_{time_strategy}_{aggregation_strategy}.npy')\n",
    "              for aggregation_strategy in aggregation_strategies\n",
    "              for time_strategy in time_strategies\n",
    "            }\n",
    "          )\n",
    "        )\n",
    "        # Heuristics combined\n",
    "        features[FeatureSet('combined', 'combined', network_index)] = (\n",
    "          pd.DataFrame(\n",
    "            {\n",
    "              (heuristic, aggregation_strategy): np.load(\n",
    "                f'data/{network_index:02}/features/time_edge/'\n",
    "                f'{heuristic}_{time_strategy}_{aggregation_strategy}.npy')\n",
    "              for aggregation_strategy in aggregation_strategies\n",
    "              for time_strategy in time_strategies\n",
    "              for heuristic in heuristics\n",
    "            }\n",
    "          )\n",
    "        )\n",
    "      else: # No hypergraph\n",
    "        # For each heuristic\n",
    "        features[FeatureSet('combined', heuristic, network_index)] = (\n",
    "          pd.DataFrame(\n",
    "            {\n",
    "              heuristic: np.load(f'data/{network_index:02}/features/time_edge/'\n",
    "                                 f'{heuristic}_{time_strategy}.npy')\n",
    "              for time_strategy in time_strategies\n",
    "            }\n",
    "          )\n",
    "        )\n",
    "\n",
    "        # Heuristics combined\n",
    "        features[FeatureSet('combined', 'combined', network_index)] = pd.DataFrame(\n",
    "          {\n",
    "            heuristic: np.load(f'data/{network_index:02}/features/time_edge/'\n",
    "                               f'{heuristic}_{time_strategy}.npy')\n",
    "            for heuristic in heuristics\n",
    "            for time_strategy in time_strategies\n",
    "          }\n",
    "        )\n",
    "  return features"
   ]
  },
  {
   "cell_type": "code",
   "execution_count": 103,
   "id": "revolutionary-advance",
   "metadata": {
    "execution": {
     "iopub.execute_input": "2021-03-05T14:24:46.327408Z",
     "iopub.status.busy": "2021-03-05T14:24:46.327216Z",
     "iopub.status.idle": "2021-03-05T14:24:50.317396Z",
     "shell.execute_reply": "2021-03-05T14:24:50.316813Z",
     "shell.execute_reply.started": "2021-03-05T14:24:46.327394Z"
    }
   },
   "outputs": [],
   "source": [
    "featuresets = get_features()"
   ]
  },
  {
   "cell_type": "code",
   "execution_count": 109,
   "id": "crude-savage",
   "metadata": {
    "execution": {
     "iopub.execute_input": "2021-03-05T14:27:01.474941Z",
     "iopub.status.busy": "2021-03-05T14:27:01.474490Z",
     "iopub.status.idle": "2021-03-05T14:29:42.343788Z",
     "shell.execute_reply": "2021-03-05T14:29:42.340377Z",
     "shell.execute_reply.started": "2021-03-05T14:27:01.474897Z"
    }
   },
   "outputs": [
    {
     "data": {
      "application/vnd.jupyter.widget-view+json": {
       "model_id": "441d41b30c854e9ea3ac86e340e4184e",
       "version_major": 2,
       "version_minor": 0
      },
      "text/plain": [
       "  0%|          | 0/650 [00:00<?, ?it/s]"
      ]
     },
     "metadata": {},
     "output_type": "display_data"
    }
   ],
   "source": [
    "auc_featuresets = [\n",
    "  {\n",
    "    'auc': logistic_regression(\n",
    "      X=featureset, \n",
    "      y=np.load(f'data/{featureset_id.network:02}/targets_sampled.npy')),\n",
    "    **featureset_id._asdict()\n",
    "  }\n",
    "  for featureset_id, featureset in tqdm(featuresets.items())\n",
    "]"
   ]
  },
  {
   "cell_type": "code",
   "execution_count": 94,
   "id": "manual-roman",
   "metadata": {
    "execution": {
     "iopub.execute_input": "2021-03-05T14:18:43.043608Z",
     "iopub.status.busy": "2021-03-05T14:18:43.043389Z",
     "iopub.status.idle": "2021-03-05T14:18:43.054697Z",
     "shell.execute_reply": "2021-03-05T14:18:43.054177Z",
     "shell.execute_reply.started": "2021-03-05T14:18:43.043582Z"
    }
   },
   "outputs": [
    {
     "data": {
      "text/html": [
       "<div>\n",
       "<style scoped>\n",
       "    .dataframe tbody tr th:only-of-type {\n",
       "        vertical-align: middle;\n",
       "    }\n",
       "\n",
       "    .dataframe tbody tr th {\n",
       "        vertical-align: top;\n",
       "    }\n",
       "\n",
       "    .dataframe thead th {\n",
       "        text-align: right;\n",
       "    }\n",
       "</style>\n",
       "<table border=\"1\" class=\"dataframe\">\n",
       "  <thead>\n",
       "    <tr style=\"text-align: right;\">\n",
       "      <th></th>\n",
       "      <th>time</th>\n",
       "      <th>heuristic</th>\n",
       "      <th>network</th>\n",
       "      <th>auc</th>\n",
       "    </tr>\n",
       "  </thead>\n",
       "  <tbody>\n",
       "    <tr>\n",
       "      <th>0</th>\n",
       "      <td>static</td>\n",
       "      <td>aa</td>\n",
       "      <td>1</td>\n",
       "      <td>0.695153</td>\n",
       "    </tr>\n",
       "    <tr>\n",
       "      <th>1</th>\n",
       "      <td>static</td>\n",
       "      <td>aa</td>\n",
       "      <td>2</td>\n",
       "      <td>0.777211</td>\n",
       "    </tr>\n",
       "    <tr>\n",
       "      <th>2</th>\n",
       "      <td>static</td>\n",
       "      <td>aa</td>\n",
       "      <td>3</td>\n",
       "      <td>0.826464</td>\n",
       "    </tr>\n",
       "    <tr>\n",
       "      <th>3</th>\n",
       "      <td>static</td>\n",
       "      <td>aa</td>\n",
       "      <td>4</td>\n",
       "      <td>0.740360</td>\n",
       "    </tr>\n",
       "    <tr>\n",
       "      <th>4</th>\n",
       "      <td>static</td>\n",
       "      <td>aa</td>\n",
       "      <td>5</td>\n",
       "      <td>0.651698</td>\n",
       "    </tr>\n",
       "    <tr>\n",
       "      <th>...</th>\n",
       "      <td>...</td>\n",
       "      <td>...</td>\n",
       "      <td>...</td>\n",
       "      <td>...</td>\n",
       "    </tr>\n",
       "    <tr>\n",
       "      <th>645</th>\n",
       "      <td>combined</td>\n",
       "      <td>aa</td>\n",
       "      <td>30</td>\n",
       "      <td>0.832486</td>\n",
       "    </tr>\n",
       "    <tr>\n",
       "      <th>646</th>\n",
       "      <td>combined</td>\n",
       "      <td>combined</td>\n",
       "      <td>30</td>\n",
       "      <td>0.846528</td>\n",
       "    </tr>\n",
       "    <tr>\n",
       "      <th>647</th>\n",
       "      <td>combined</td>\n",
       "      <td>cn</td>\n",
       "      <td>30</td>\n",
       "      <td>0.832227</td>\n",
       "    </tr>\n",
       "    <tr>\n",
       "      <th>648</th>\n",
       "      <td>combined</td>\n",
       "      <td>jc</td>\n",
       "      <td>30</td>\n",
       "      <td>0.808217</td>\n",
       "    </tr>\n",
       "    <tr>\n",
       "      <th>649</th>\n",
       "      <td>combined</td>\n",
       "      <td>pa</td>\n",
       "      <td>30</td>\n",
       "      <td>0.723449</td>\n",
       "    </tr>\n",
       "  </tbody>\n",
       "</table>\n",
       "<p>650 rows × 4 columns</p>\n",
       "</div>"
      ],
      "text/plain": [
       "         time heuristic  network       auc\n",
       "0      static        aa        1  0.695153\n",
       "1      static        aa        2  0.777211\n",
       "2      static        aa        3  0.826464\n",
       "3      static        aa        4  0.740360\n",
       "4      static        aa        5  0.651698\n",
       "..        ...       ...      ...       ...\n",
       "645  combined        aa       30  0.832486\n",
       "646  combined  combined       30  0.846528\n",
       "647  combined        cn       30  0.832227\n",
       "648  combined        jc       30  0.808217\n",
       "649  combined        pa       30  0.723449\n",
       "\n",
       "[650 rows x 4 columns]"
      ]
     },
     "execution_count": 94,
     "metadata": {},
     "output_type": "execute_result"
    }
   ],
   "source": [
    "df = pd.DataFrame(auc_featuresets.keys())\n",
    "df['auc'] = auc_featuresets.values()\n",
    "df"
   ]
  },
  {
   "cell_type": "code",
   "execution_count": 142,
   "id": "urban-month",
   "metadata": {
    "execution": {
     "iopub.execute_input": "2021-03-05T19:20:40.433968Z",
     "iopub.status.busy": "2021-03-05T19:20:40.433828Z",
     "iopub.status.idle": "2021-03-05T19:20:40.439930Z",
     "shell.execute_reply": "2021-03-05T19:20:40.439299Z",
     "shell.execute_reply.started": "2021-03-05T19:20:40.433953Z"
    }
   },
   "outputs": [],
   "source": [
    "auc_table = (\n",
    "  df\n",
    "  .groupby(['time', 'heuristic'])['auc']\n",
    "  .mean()\n",
    "  .unstack()\n",
    "  .loc[['static', 'lin', 'exp', 'sqrt', 'combined']]\n",
    "  .sort_values('static', axis='columns'))"
   ]
  },
  {
   "cell_type": "code",
   "execution_count": 143,
   "id": "healthy-pearl",
   "metadata": {
    "execution": {
     "iopub.execute_input": "2021-03-05T19:20:40.886882Z",
     "iopub.status.busy": "2021-03-05T19:20:40.886744Z",
     "iopub.status.idle": "2021-03-05T19:20:41.144406Z",
     "shell.execute_reply": "2021-03-05T19:20:41.143712Z",
     "shell.execute_reply.started": "2021-03-05T19:20:40.886868Z"
    }
   },
   "outputs": [
    {
     "data": {
      "image/png": "[encoded data removed]",
      "text/plain": [
       "<Figure size 432x288 with 2 Axes>"
      ]
     },
     "metadata": {
      "needs_background": "light"
     },
     "output_type": "display_data"
    }
   ],
   "source": [
    "g = sns.heatmap(auc_table, annot=True, vmin=.5, vmax=1, fmt='.3f',\n",
    "                cbar_kws=dict(label='AUC'))\n",
    "g.set_yticklabels(g.get_yticklabels(), rotation = 0);\n",
    "g.set_ylabel(g.get_ylabel(), rotation=0)\n",
    "plt.tight_layout()\n",
    "plt.savefig('figures/table-time-strategies.pdf')"
   ]
  },
  {
   "cell_type": "code",
   "execution_count": null,
   "id": "noticed-macintosh",
   "metadata": {},
   "outputs": [],
   "source": []
  }
 ],
 "metadata": {
  "kernelspec": {
   "display_name": "Python 3",
   "language": "python",
   "name": "python3"
  },
  "language_info": {
   "codemirror_mode": {
    "name": "ipython",
    "version": 3
   },
   "file_extension": ".py",
   "mimetype": "text/x-python",
   "name": "python",
   "nbconvert_exporter": "python",
   "pygments_lexer": "ipython3",
   "version": "3.9.1"
  }
 },
 "nbformat": 4,
 "nbformat_minor": 5
}
