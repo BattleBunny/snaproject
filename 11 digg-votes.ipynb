{
 "cells": [
  {
   "cell_type": "markdown",
   "id": "selective-handbook",
   "metadata": {},
   "source": [
    "# Setup"
   ]
  },
  {
   "cell_type": "code",
   "execution_count": 1,
   "id": "international-cincinnati",
   "metadata": {
    "execution": {
     "iopub.execute_input": "2021-02-12T06:52:18.688770Z",
     "iopub.status.busy": "2021-02-12T06:52:18.688493Z",
     "iopub.status.idle": "2021-02-12T06:52:19.511989Z",
     "shell.execute_reply": "2021-02-12T06:52:19.511393Z",
     "shell.execute_reply.started": "2021-02-12T06:52:18.688694Z"
    }
   },
   "outputs": [],
   "source": [
    "import importlib\n",
    "import os\n",
    "\n",
    "import joblib\n",
    "import pandas as pd\n",
    "\n",
    "import tlp\n",
    "\n",
    "url = 'http://konect.cc/files/download.tsv.digg-votes.tar.bz2'\n",
    "dataset_id = '11'\n",
    "adjusted_intervals = dict()"
   ]
  },
  {
   "cell_type": "markdown",
   "id": "imported-driving",
   "metadata": {},
   "source": [
    "# Download and extract data"
   ]
  },
  {
   "cell_type": "code",
   "execution_count": 2,
   "id": "strategic-system",
   "metadata": {
    "execution": {
     "iopub.execute_input": "2021-02-12T06:52:19.512981Z",
     "iopub.status.busy": "2021-02-12T06:52:19.512855Z",
     "iopub.status.idle": "2021-02-12T06:52:47.427532Z",
     "shell.execute_reply": "2021-02-12T06:52:47.426544Z",
     "shell.execute_reply.started": "2021-02-12T06:52:19.512965Z"
    }
   },
   "outputs": [],
   "source": [
    "filepath = f'{dataset_id}/edgelist.pkl'\n",
    "if not os.path.isfile(filepath):\n",
    "  edgelist = tlp.get_edgelist(url, dataset_id)\n",
    "  joblib.dump(edgelist, filepath)"
   ]
  },
  {
   "cell_type": "markdown",
   "id": "editorial-disorder",
   "metadata": {},
   "source": [
    "# Splitting"
   ]
  },
  {
   "cell_type": "code",
   "execution_count": 3,
   "id": "alone-dividend",
   "metadata": {
    "execution": {
     "iopub.execute_input": "2021-02-12T06:52:47.429253Z",
     "iopub.status.busy": "2021-02-12T06:52:47.429101Z",
     "iopub.status.idle": "2021-02-12T06:52:47.742469Z",
     "shell.execute_reply": "2021-02-12T06:52:47.741195Z",
     "shell.execute_reply.started": "2021-02-12T06:52:47.429235Z"
    }
   },
   "outputs": [
    {
     "name": "stdout",
     "output_type": "stream",
     "text": [
      "CPU times: user 115 ms, sys: 102 ms, total: 217 ms\n",
      "Wall time: 306 ms\n"
     ]
    }
   ],
   "source": [
    "%%time\n",
    "filepath_edgelist = f'{dataset_id}/edgelist.pkl'\n",
    "filepath_mature = f'{dataset_id}/edgelist_mature.pkl'\n",
    "filepath_probe = f'{dataset_id}/edgelist_probe.pkl'\n",
    "\n",
    "if not os.path.isfile(filepath_mature) or not os.path.isfile(filepath_probe):\n",
    "  edgelist_mature, edgelist_probe = tlp.split_in_intervals(\n",
    "    edgelist=joblib.load(filepath_edgelist), **adjusted_intervals)\n",
    "  joblib.dump(edgelist_mature, filepath_mature)\n",
    "  joblib.dump(edgelist_probe, filepath_probe)"
   ]
  },
  {
   "cell_type": "markdown",
   "id": "reverse-tracy",
   "metadata": {},
   "source": [
    "# Instances"
   ]
  },
  {
   "cell_type": "code",
   "execution_count": null,
   "id": "vocal-carpet",
   "metadata": {
    "execution": {
     "iopub.execute_input": "2021-02-12T06:52:47.744915Z",
     "iopub.status.busy": "2021-02-12T06:52:47.744639Z"
    }
   },
   "outputs": [
    {
     "data": {
      "application/vnd.jupyter.widget-view+json": {
       "model_id": "30a7eca6c652487ca3f7800136b06c2d",
       "version_major": 2,
       "version_minor": 0
      },
      "text/plain": [
       "Collecting unconnected pairs of nodes:   0%|          | 0/116137 [00:00<?, ?it/s]"
      ]
     },
     "metadata": {},
     "output_type": "display_data"
    }
   ],
   "source": [
    "%%time\n",
    "filepath_mature = f'{dataset_id}/edgelist_mature.pkl'\n",
    "filepath_instances = f'{dataset_id}/instances.pkl'\n",
    "\n",
    "if not os.path.isfile(filepath_instances):\n",
    "  instances = tlp.get_instances(edgelist_mature=joblib.load(filepath_mature),\n",
    "    verbose=True)\n",
    "  joblib.dump(instances, filepath_instances)"
   ]
  },
  {
   "cell_type": "markdown",
   "id": "swiss-bride",
   "metadata": {},
   "source": [
    "# Targets"
   ]
  },
  {
   "cell_type": "code",
   "execution_count": null,
   "id": "alone-springfield",
   "metadata": {},
   "outputs": [],
   "source": [
    "%%time\n",
    "filepath_instances = f'{dataset_id}/instances.pkl'\n",
    "filepath_probe = f'{dataset_id}/edgelist_probe.pkl'\n",
    "filepath_targets = f'{dataset_id}/targets.pkl'\n",
    "\n",
    "if not os.path.isfile(filepath_targets):\n",
    "  targets = tlp.get_targets(\n",
    "    instances=joblib.load(filepath_instances),\n",
    "    edgelist_probe=joblib.load(filepath_probe),\n",
    "    verbose=True)\n",
    "  joblib.dump(targets, filepath_targets)"
   ]
  },
  {
   "cell_type": "markdown",
   "id": "played-pressing",
   "metadata": {},
   "source": [
    "# Sampling"
   ]
  },
  {
   "cell_type": "code",
   "execution_count": null,
   "id": "violent-province",
   "metadata": {},
   "outputs": [],
   "source": [
    "%%time\n",
    "filepath_instances = f'{dataset_id}/instances.pkl'\n",
    "filepath_targets = f'{dataset_id}/edgelist_targets.pkl'\n",
    "filepath_instances_sampled = f'{dataset_id}/instances_sampled.pkl'\n",
    "filepath_targets_sampled = f'{dataset_id}/targets_sampled.pkl'\n",
    "\n",
    "if not (os.path.isfile(filepath_instances_sampled) and \n",
    "        os.path.isfile(filepath_targets_sampled)):\n",
    "  instances_sampled, targets_sampled = tlp.balanced_sample(instances, targets)\n",
    "  joblib.dump(instances_sampled, f'{dataset_id}/instances_sampled.pkl')\n",
    "  joblib.dump(targets_sampled, f'{dataset_id}/targets_sampled.pkl')"
   ]
  },
  {
   "cell_type": "markdown",
   "id": "amazing-restriction",
   "metadata": {},
   "source": [
    "# Features"
   ]
  },
  {
   "cell_type": "markdown",
   "id": "current-subscription",
   "metadata": {},
   "source": [
    "## AA (time agnostic)"
   ]
  },
  {
   "cell_type": "code",
   "execution_count": null,
   "id": "medium-papua",
   "metadata": {},
   "outputs": [],
   "source": [
    "%%time\n",
    "filepath = f'{dataset_id}/features'\n",
    "filepath_mature = f'{dataset_id}/edgelist_mature.pkl'\n",
    "filepath_instances_sampled = f'{dataset_id}/instances_sampled.pkl'\n",
    "\n",
    "adamic_adar_time_agnostic = tlp.features.adamic_adar_time_agnostic(\n",
    "  edgelist=joblib.load(filepath_mature),\n",
    "  instances=joblib.load(filepath_instances_sampled),\n",
    "  path=filepath)"
   ]
  },
  {
   "cell_type": "markdown",
   "id": "mediterranean-private",
   "metadata": {},
   "source": [
    "## AA (time aware)"
   ]
  },
  {
   "cell_type": "code",
   "execution_count": null,
   "id": "speaking-mandate",
   "metadata": {},
   "outputs": [],
   "source": [
    "%%time\n",
    "filepath = f'{dataset_id}/features'\n",
    "filepath_mature = f'{dataset_id}/edgelist_mature.pkl'\n",
    "filepath_instances_sampled = f'{dataset_id}/instances_sampled.pkl'\n",
    "\n",
    "adamic_adar_time_aware = tlp.features.adamic_adar_time_aware(\n",
    "  edgelist=joblib.load(filepath_mature),\n",
    "  instances=joblib.load(filepath_instances_sampled),\n",
    "  path=filepath,\n",
    "  verbose=True)"
   ]
  },
  {
   "cell_type": "markdown",
   "id": "guided-indonesian",
   "metadata": {},
   "source": [
    "# Analysis"
   ]
  },
  {
   "cell_type": "markdown",
   "id": "respected-plant",
   "metadata": {},
   "source": [
    "## Figure: Edge distribution with maturing and probing intervals indicated"
   ]
  },
  {
   "cell_type": "code",
   "execution_count": null,
   "id": "forward-blues",
   "metadata": {},
   "outputs": [],
   "source": [
    "tlp.analysis.plot_datetime(\n",
    "  joblib.load(f'{dataset_id}/edgelist.pkl')['datetime'], **adjusted_intervals)"
   ]
  },
  {
   "cell_type": "markdown",
   "id": "closing-product",
   "metadata": {},
   "source": [
    "## Metric: Class imbalance"
   ]
  },
  {
   "cell_type": "code",
   "execution_count": null,
   "id": "retained-indie",
   "metadata": {},
   "outputs": [],
   "source": [
    "tlp.analysis.class_imbalance(targets=joblib.load(f'{dataset_id}/targets.pkl'))"
   ]
  },
  {
   "cell_type": "markdown",
   "id": "american-coalition",
   "metadata": {},
   "source": [
    "## Figure: Datetime strategies"
   ]
  },
  {
   "cell_type": "code",
   "execution_count": null,
   "id": "helpful-bouquet",
   "metadata": {},
   "outputs": [],
   "source": [
    "edgelist = joblib.load(f'{dataset_id}/edgelist_mature.pkl')\n",
    "t = tlp.analysis.plot_datetime_strategies(edgelist['datetime'])"
   ]
  },
  {
   "cell_type": "markdown",
   "id": "respected-spiritual",
   "metadata": {},
   "source": [
    "## Figure: Datetime distribution"
   ]
  },
  {
   "cell_type": "code",
   "execution_count": null,
   "id": "respiratory-bleeding",
   "metadata": {},
   "outputs": [],
   "source": [
    "edgelist = joblib.load(f'{dataset_id}/edgelist_mature.pkl')\n",
    "tlp.analysis.plot_datetime_distribution(edgelist['datetime'])"
   ]
  },
  {
   "cell_type": "markdown",
   "id": "mental-edition",
   "metadata": {},
   "source": [
    "## Figure: Scores"
   ]
  },
  {
   "cell_type": "code",
   "execution_count": null,
   "id": "metropolitan-conditioning",
   "metadata": {},
   "outputs": [],
   "source": [
    "feature_dict = dict()\n",
    "for file in os.scandir(f'{dataset_id}/features'):\n",
    "  if file.is_file():\n",
    "    feature_dict.update(joblib.load(file.path))\n",
    "targets=joblib.load('01/targets_sampled.pkl')\n",
    "\n",
    "tlp.analysis.plot_score(feature_dict, targets)"
   ]
  },
  {
   "cell_type": "markdown",
   "id": "funded-cooperation",
   "metadata": {},
   "source": [
    "## Figure: ROC"
   ]
  },
  {
   "cell_type": "code",
   "execution_count": null,
   "id": "outdoor-portable",
   "metadata": {},
   "outputs": [],
   "source": [
    "feature_dict = dict()\n",
    "for file in os.scandir(f'{dataset_id}/features'):\n",
    "  if file.is_file():\n",
    "    feature_dict.update(joblib.load(file.path))\n",
    "targets=joblib.load('01/targets_sampled.pkl')\n",
    "\n",
    "tlp.analysis.plot_roc_auc(feature_dict, targets)"
   ]
  },
  {
   "cell_type": "markdown",
   "id": "thick-stick",
   "metadata": {},
   "source": [
    "## AUC"
   ]
  },
  {
   "cell_type": "code",
   "execution_count": null,
   "id": "exterior-senate",
   "metadata": {},
   "outputs": [],
   "source": [
    "feature_dict = dict()\n",
    "for file in os.scandir(f'{dataset_id}/features'):\n",
    "  for file in os.scandir(f'{dataset_id}/features'):\n",
    "    if file.is_file():\n",
    "      feature_dict.update(joblib.load(file.path))\n",
    "targets=joblib.load('01/targets_sampled.pkl')\n",
    "\n",
    "tlp.analysis.get_auc(feature_dict, targets)"
   ]
  }
 ],
 "metadata": {
  "kernelspec": {
   "display_name": "Python 3",
   "language": "python",
   "name": "python3"
  },
  "language_info": {
   "codemirror_mode": {
    "name": "ipython",
    "version": 3
   },
   "file_extension": ".py",
   "mimetype": "text/x-python",
   "name": "python",
   "nbconvert_exporter": "python",
   "pygments_lexer": "ipython3",
   "version": "3.9.1"
  },
  "toc-autonumbering": true
 },
 "nbformat": 4,
 "nbformat_minor": 5
}
