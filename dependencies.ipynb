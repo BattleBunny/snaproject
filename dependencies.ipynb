{
 "cells": [
  {
   "cell_type": "markdown",
   "id": "cooked-application",
   "metadata": {},
   "source": [
    "# Install dependencies"
   ]
  },
  {
   "cell_type": "code",
   "execution_count": 35,
   "id": "rotary-seven",
   "metadata": {
    "execution": {
     "iopub.execute_input": "2021-01-29T10:59:36.441948Z",
     "iopub.status.busy": "2021-01-29T10:59:36.441678Z",
     "iopub.status.idle": "2021-01-29T10:59:41.482033Z",
     "shell.execute_reply": "2021-01-29T10:59:41.480963Z",
     "shell.execute_reply.started": "2021-01-29T10:59:36.441915Z"
    }
   },
   "outputs": [
    {
     "name": "stdout",
     "output_type": "stream",
     "text": [
      "Cloning into 'teexgraph'...\n",
      "remote: Enumerating objects: 219, done.\u001b[K\n",
      "remote: Total 219 (delta 0), reused 0 (delta 0), pack-reused 219\u001b[K\n",
      "Receiving objects: 100% (219/219), 68.11 KiB | 0 bytes/s, done.\n",
      "Resolving deltas: 100% (136/136), done.\n",
      "g++ -Iinclude -pedantic -Wall -march=native -fopenmp  -Drunlistener=1 -o src/listener.o -c src/listener.cpp\n",
      "g++ -Iinclude -pedantic -Wall -march=native -fopenmp  -Drunlistener=1 -o src/Graph.o -c src/Graph.cpp\n",
      "g++ -Iinclude -pedantic -Wall -march=native -fopenmp  -Drunlistener=1 -o src/examples.o -c src/examples.cpp\n",
      "g++ -Iinclude -pedantic -Wall -march=native -fopenmp  -Drunlistener=1 -o src/Timer.o -c src/Timer.cpp\n",
      "g++ -Iinclude -pedantic -Wall -march=native -fopenmp  -Drunlistener=1 -o src/CenGraph.o -c src/CenGraph.cpp\n",
      "g++ -Iinclude -pedantic -Wall -march=native -fopenmp  -Drunlistener=1 -o src/BDGraph.o -c src/BDGraph.cpp\n",
      "g++ -Iinclude -pedantic -Wall -march=native -fopenmp  -Drunlistener=1 -o src/main.o -c src/main.cpp\n",
      "g++ -Iinclude -pedantic -Wall -march=native -fopenmp  -Drunlistener=1 -o teexgraph src/listener.o src/Graph.o src/examples.o src/Timer.o src/CenGraph.o src/BDGraph.o src/main.o\n"
     ]
    }
   ],
   "source": [
    "!git clone git@github.com:franktakes/teexgraph.git\n",
    "!(cd teexgraph && make listener)"
   ]
  }
 ],
 "metadata": {
  "kernelspec": {
   "display_name": "Python 3",
   "language": "python",
   "name": "python3"
  },
  "language_info": {
   "name": ""
  }
 },
 "nbformat": 4,
 "nbformat_minor": 5
}
