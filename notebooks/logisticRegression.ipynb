{
 "cells": [
  {
   "cell_type": "code",
   "execution_count": 11,
   "id": "trained-shadow",
   "metadata": {
    "execution": {
     "iopub.execute_input": "2021-02-26T20:47:24.184123Z",
     "iopub.status.busy": "2021-02-26T20:47:24.183901Z",
     "iopub.status.idle": "2021-02-26T20:47:24.189980Z",
     "shell.execute_reply": "2021-02-26T20:47:24.189297Z",
     "shell.execute_reply.started": "2021-02-26T20:47:24.184105Z"
    }
   },
   "outputs": [
    {
     "name": "stdout",
     "output_type": "stream",
     "text": [
      "/scratch/bruingjde/SNAM2021-code\n"
     ]
    }
   ],
   "source": [
    "%cd /scratch/bruingjde/SNAM2021-code/\n",
    "\n",
    "import os\n",
    "import typing\n",
    "\n",
    "import joblib\n",
    "import matplotlib.pyplot as plt\n",
    "import numpy as np\n",
    "import pandas as pd\n",
    "import scipy\n",
    "import sklearn.linear_model\n",
    "import sklearn.model_selection\n",
    "import sklearn.metrics\n",
    "import sklearn.pipeline\n",
    "import sklearn.preprocessing\n",
    "from tqdm.auto import tqdm\n",
    "\n",
    "import tlp\n",
    "\n",
    "features = [\n",
    "  'aa_time_agnostic', 'aa_time_aware', 'na', 'sp'\n",
    "]"
   ]
  },
  {
   "cell_type": "code",
   "execution_count": 15,
   "id": "legal-honor",
   "metadata": {
    "execution": {
     "iopub.execute_input": "2021-02-27T13:59:47.019630Z",
     "iopub.status.busy": "2021-02-27T13:59:47.019117Z",
     "iopub.status.idle": "2021-02-27T13:59:47.033021Z",
     "shell.execute_reply": "2021-02-27T13:59:47.031792Z",
     "shell.execute_reply.started": "2021-02-27T13:59:47.019596Z"
    }
   },
   "outputs": [],
   "source": [
    "def predict(path, features=features):\n",
    "  index = path.split('/')[1]\n",
    "  \n",
    "  # Read in features\n",
    "  for feature in features:\n",
    "    filepath = os.path.join(path, 'features', feature) + '.pkl'\n",
    "    if not os.path.isfile(filepath):\n",
    "      tqdm.write(f'{filepath} is not present.')\n",
    "      return\n",
    "  X = dict()\n",
    "  for feature in features:\n",
    "    filepath = os.path.join(path, 'features', feature) + '.pkl'\n",
    "    X.update(joblib.load(filepath))\n",
    "  X = pd.DataFrame(X)\n",
    "  \n",
    "  # Read in targets\n",
    "  filepath = os.path.join(path, 'targets_sampled.npy')\n",
    "  if not os.path.isfile(filepath):\n",
    "    tqdm.write(f'{filepath} is not present.')\n",
    "    return\n",
    "  y = np.load(filepath)\n",
    "  \n",
    "  # Fit and predict pipeline\n",
    "  X_train, X_test, y_train, y_test = (\n",
    "    sklearn.model_selection.train_test_split(X, y))\n",
    "  pipe = sklearn.pipeline.make_pipeline(\n",
    "    sklearn.preprocessing.StandardScaler(),\n",
    "    sklearn.linear_model.LogisticRegression(max_iter=10000)) # type: ignore\n",
    "  pipe.fit(X_train, y_train)\n",
    "  auc = sklearn.metrics.roc_auc_score(\n",
    "    y_true=y_test, y_score=pipe.predict_proba(X_test)[:,1]) # type: ignore\n",
    "  \n",
    "  return index, (pipe, auc), features"
   ]
  },
  {
   "cell_type": "code",
   "execution_count": 16,
   "id": "incomplete-visitor",
   "metadata": {
    "execution": {
     "iopub.execute_input": "2021-02-27T13:59:48.250207Z",
     "iopub.status.busy": "2021-02-27T13:59:48.249711Z",
     "iopub.status.idle": "2021-02-27T13:59:51.857996Z",
     "shell.execute_reply": "2021-02-27T13:59:51.853549Z",
     "shell.execute_reply.started": "2021-02-27T13:59:48.250171Z"
    }
   },
   "outputs": [
    {
     "data": {
      "text/plain": [
       "('01',\n",
       " (Pipeline(steps=[('standardscaler', StandardScaler()),\n",
       "                  ('logisticregression', LogisticRegression(max_iter=10000))]),\n",
       "  0.8189051234586866),\n",
       " ['aa_time_agnostic', 'aa_time_aware', 'na', 'sp'])"
      ]
     },
     "execution_count": 16,
     "metadata": {},
     "output_type": "execute_result"
    }
   ],
   "source": [
    "predict('data/01')"
   ]
  },
  {
   "cell_type": "code",
   "execution_count": null,
   "id": "considered-rwanda",
   "metadata": {},
   "outputs": [],
   "source": []
  }
 ],
 "metadata": {
  "kernelspec": {
   "display_name": "Python 3",
   "language": "python",
   "name": "python3"
  },
  "language_info": {
   "codemirror_mode": {
    "name": "ipython",
    "version": 3
   },
   "file_extension": ".py",
   "mimetype": "text/x-python",
   "name": "python",
   "nbconvert_exporter": "python",
   "pygments_lexer": "ipython3",
   "version": "3.9.1"
  }
 },
 "nbformat": 4,
 "nbformat_minor": 5
}
