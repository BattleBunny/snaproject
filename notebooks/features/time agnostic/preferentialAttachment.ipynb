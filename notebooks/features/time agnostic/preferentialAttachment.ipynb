{
 "cells": [
  {
   "cell_type": "code",
   "execution_count": 2,
   "id": "greenhouse-acceptance",
   "metadata": {
    "execution": {
     "iopub.execute_input": "2021-02-27T19:39:20.561961Z",
     "iopub.status.busy": "2021-02-27T19:39:20.561627Z",
     "iopub.status.idle": "2021-02-27T19:39:20.571003Z",
     "shell.execute_reply": "2021-02-27T19:39:20.570154Z",
     "shell.execute_reply.started": "2021-02-27T19:39:20.561927Z"
    }
   },
   "outputs": [
    {
     "name": "stdout",
     "output_type": "stream",
     "text": [
      "/scratch/bruingjde/SNAM2021-code\n"
     ]
    }
   ],
   "source": [
    "%cd /scratch/bruingjde/SNAM2021-code/\n",
    "\n",
    "import os\n",
    "import typing\n",
    "\n",
    "import joblib\n",
    "import matplotlib.pyplot as plt\n",
    "import networkx as nx\n",
    "import numpy as np\n",
    "import pandas as pd\n",
    "import scipy\n",
    "import seaborn as sns\n",
    "import sklearn.linear_model\n",
    "import sklearn.model_selection\n",
    "import sklearn.metrics\n",
    "import sklearn.pipeline\n",
    "import sklearn.preprocessing\n",
    "from tqdm.auto import tqdm\n",
    "\n",
    "import tlp"
   ]
  },
  {
   "cell_type": "code",
   "execution_count": 9,
   "id": "offensive-cooper",
   "metadata": {
    "execution": {
     "iopub.execute_input": "2021-02-27T20:26:33.169516Z",
     "iopub.status.busy": "2021-02-27T20:26:33.169250Z",
     "iopub.status.idle": "2021-02-27T20:26:33.175333Z",
     "shell.execute_reply": "2021-02-27T20:26:33.174787Z",
     "shell.execute_reply.started": "2021-02-27T20:26:33.169494Z"
    }
   },
   "outputs": [
    {
     "data": {
      "text/plain": [
       "[]"
      ]
     },
     "execution_count": 9,
     "metadata": {},
     "output_type": "execute_result"
    }
   ],
   "source": [
    "# Report entries without feature. [] indicates that it is all okay!\n",
    "[entry for entry in os.scandir('data') if not os.path.isfile(os.path.join(entry, 'features', 'cn.pkl'))]"
   ]
  },
  {
   "cell_type": "code",
   "execution_count": 4,
   "id": "acquired-adolescent",
   "metadata": {
    "execution": {
     "iopub.execute_input": "2021-02-27T19:39:21.699907Z",
     "iopub.status.busy": "2021-02-27T19:39:21.699584Z",
     "iopub.status.idle": "2021-02-27T19:39:21.708348Z",
     "shell.execute_reply": "2021-02-27T19:39:21.707451Z",
     "shell.execute_reply.started": "2021-02-27T19:39:21.699874Z"
    }
   },
   "outputs": [],
   "source": [
    "def pa(path: str, verbose: bool = False, feature_name='PA'):\n",
    "  # Check if file exists\n",
    "  feature_path = os.path.join(path, 'features')\n",
    "  file = os.path.join(feature_path, f'{feature_name}.pkl')\n",
    "  if os.path.isfile(file): return \n",
    "  \n",
    "  os.makedirs(feature_path, exist_ok=True)\n",
    "\n",
    "  # Read in\n",
    "  edgelist_mature_file = os.path.join(path, 'edgelist_mature.pkl')\n",
    "  if verbose: print(f'Read {edgelist_mature_file}')\n",
    "  edgelist_mature = pd.read_pickle(edgelist_mature_file)\n",
    "  \n",
    "  instances_file = os.path.join(path, 'instances_sampled.npy')\n",
    "  if verbose: print(f'Read {instances_file}')  \n",
    "  instances_sampled = np.load(instances_file)\n",
    "\n",
    "  # Get edgelist\n",
    "  G = nx.from_pandas_edgelist(edgelist_mature)\n",
    "  \n",
    "  # Calculate\n",
    "  scores = [p for _, _, p in nx.preferential_attachment(G, instances_sampled)]\n",
    "  \n",
    "  # Store\n",
    "  result = {tlp.Experiment(feature=feature_name, time_aware=False): np.array(scores)}\n",
    "  joblib.dump(result, os.path.join(feature_path, f'{feature_name}.pkl'))"
   ]
  },
  {
   "cell_type": "code",
   "execution_count": 5,
   "id": "helpful-register",
   "metadata": {
    "execution": {
     "iopub.execute_input": "2021-02-27T19:39:22.959662Z",
     "iopub.status.busy": "2021-02-27T19:39:22.959443Z",
     "iopub.status.idle": "2021-02-27T19:39:23.070084Z",
     "shell.execute_reply": "2021-02-27T19:39:23.069345Z",
     "shell.execute_reply.started": "2021-02-27T19:39:22.959637Z"
    }
   },
   "outputs": [],
   "source": [
    "pa('data/13')"
   ]
  },
  {
   "cell_type": "code",
   "execution_count": 6,
   "id": "existing-connectivity",
   "metadata": {
    "execution": {
     "iopub.execute_input": "2021-02-27T19:39:43.610276Z",
     "iopub.status.busy": "2021-02-27T19:39:43.609958Z",
     "iopub.status.idle": "2021-02-27T19:41:01.438938Z",
     "shell.execute_reply": "2021-02-27T19:41:01.438133Z",
     "shell.execute_reply.started": "2021-02-27T19:39:43.610241Z"
    }
   },
   "outputs": [
    {
     "data": {
      "application/vnd.jupyter.widget-view+json": {
       "model_id": "",
       "version_major": 2,
       "version_minor": 0
      },
      "text/plain": [
       "  0%|          | 0/30 [00:00<?, ?it/s]"
      ]
     },
     "metadata": {},
     "output_type": "display_data"
    },
    {
     "data": {
      "text/plain": [
       "[None,\n",
       " None,\n",
       " None,\n",
       " None,\n",
       " None,\n",
       " None,\n",
       " None,\n",
       " None,\n",
       " None,\n",
       " None,\n",
       " None,\n",
       " None,\n",
       " None,\n",
       " None,\n",
       " None,\n",
       " None,\n",
       " None,\n",
       " None,\n",
       " None,\n",
       " None,\n",
       " None,\n",
       " None,\n",
       " None,\n",
       " None,\n",
       " None,\n",
       " None,\n",
       " None,\n",
       " None,\n",
       " None,\n",
       " None]"
      ]
     },
     "execution_count": 6,
     "metadata": {},
     "output_type": "execute_result"
    }
   ],
   "source": [
    "entries = sorted(os.scandir('data'), key=lambda x: x.name)\n",
    "tlp.ProgressParallel(n_jobs=len(entries), total=len(entries))(\n",
    "  joblib.delayed(pa)(entry.path) for entry in entries\n",
    ")"
   ]
  },
  {
   "cell_type": "code",
   "execution_count": null,
   "id": "saving-exemption",
   "metadata": {},
   "outputs": [],
   "source": []
  }
 ],
 "metadata": {
  "kernelspec": {
   "display_name": "Python 3",
   "language": "python",
   "name": "python3"
  },
  "language_info": {
   "codemirror_mode": {
    "name": "ipython",
    "version": 3
   },
   "file_extension": ".py",
   "mimetype": "text/x-python",
   "name": "python",
   "nbconvert_exporter": "python",
   "pygments_lexer": "ipython3",
   "version": "3.9.1"
  }
 },
 "nbformat": 4,
 "nbformat_minor": 5
}
