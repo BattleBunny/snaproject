{
 "cells": [
  {
   "cell_type": "code",
   "execution_count": 3,
   "id": "fancy-rochester",
   "metadata": {
    "execution": {
     "iopub.execute_input": "2021-02-27T20:36:02.053309Z",
     "iopub.status.busy": "2021-02-27T20:36:02.053024Z",
     "iopub.status.idle": "2021-02-27T20:36:02.060447Z",
     "shell.execute_reply": "2021-02-27T20:36:02.059506Z",
     "shell.execute_reply.started": "2021-02-27T20:36:02.053290Z"
    }
   },
   "outputs": [
    {
     "name": "stdout",
     "output_type": "stream",
     "text": [
      "/scratch/bruingjde/SNAM2021-code\n"
     ]
    }
   ],
   "source": [
    "%cd /scratch/bruingjde/SNAM2021-code/\n",
    "\n",
    "import os\n",
    "import typing\n",
    "\n",
    "import joblib\n",
    "import matplotlib.pyplot as plt\n",
    "import networkx as nx\n",
    "import numpy as np\n",
    "import pandas as pd\n",
    "import scipy\n",
    "import seaborn as sns\n",
    "import sklearn.linear_model\n",
    "import sklearn.model_selection\n",
    "import sklearn.metrics\n",
    "import sklearn.pipeline\n",
    "import sklearn.preprocessing\n",
    "from tqdm.auto import tqdm\n",
    "\n",
    "import tlp\n",
    "\n",
    "feature_name = 'EC'"
   ]
  },
  {
   "cell_type": "code",
   "execution_count": 12,
   "id": "economic-coating",
   "metadata": {
    "execution": {
     "iopub.execute_input": "2021-02-27T20:52:07.338424Z",
     "iopub.status.busy": "2021-02-27T20:52:07.338045Z",
     "iopub.status.idle": "2021-02-27T20:52:07.344347Z",
     "shell.execute_reply": "2021-02-27T20:52:07.343769Z",
     "shell.execute_reply.started": "2021-02-27T20:52:07.338389Z"
    }
   },
   "outputs": [
    {
     "name": "stdout",
     "output_type": "stream",
     "text": [
      "Ok!\n"
     ]
    }
   ],
   "source": [
    "# Check\n",
    "ok = True\n",
    "for entry in os.scandir('data'):\n",
    "  if not os.path.isfile(os.path.join(entry, 'features', feature_name + '.pkl')):\n",
    "    ok = False\n",
    "    print(entry)\n",
    "if ok: print('Ok!')"
   ]
  },
  {
   "cell_type": "code",
   "execution_count": 8,
   "id": "architectural-magazine",
   "metadata": {
    "execution": {
     "iopub.execute_input": "2021-02-27T20:51:30.825343Z",
     "iopub.status.busy": "2021-02-27T20:51:30.824946Z",
     "iopub.status.idle": "2021-02-27T20:51:30.837741Z",
     "shell.execute_reply": "2021-02-27T20:51:30.836580Z",
     "shell.execute_reply.started": "2021-02-27T20:51:30.825308Z"
    }
   },
   "outputs": [],
   "source": [
    "def EC(path: str, verbose: bool = False, feature_name=feature_name):\n",
    "  # Check if file exists\n",
    "  feature_path = os.path.join(path, 'features')\n",
    "  file = os.path.join(feature_path, f'{feature_name}.pkl')\n",
    "  if os.path.isfile(file): return \n",
    "  \n",
    "  os.makedirs(feature_path, exist_ok=True)\n",
    "\n",
    "  # Read in\n",
    "  edgelist_mature_file = os.path.join(path, 'edgelist_mature.pkl')\n",
    "  if verbose: print(f'Read {edgelist_mature_file}')\n",
    "  edgelist_mature = pd.read_pickle(edgelist_mature_file)\n",
    "  \n",
    "  instances_file = os.path.join(path, 'instances_sampled.npy')\n",
    "  if verbose: print(f'Read {instances_file}')  \n",
    "  instances_sampled = np.load(instances_file)\n",
    "\n",
    "  # Get all unique nodes in instances\n",
    "#   nodes = {node for instance in instances_sampled for node in instance}\n",
    "  \n",
    "  # Get graph\n",
    "  G = nx.from_pandas_edgelist(edgelist_mature)\n",
    "  \n",
    "  # Calculate per node\n",
    "  value_per_node = nx.eigenvector_centrality_numpy(G)\n",
    "  \n",
    "  value_per_instance = [(value_per_node[u], value_per_node[v]) for u, v in instances_sampled]\n",
    "  \n",
    "  def diff(x): return abs(x[1]-x[0]) \n",
    "  \n",
    "  results = {\n",
    "    tlp.Experiment(feature=feature_name, time_aware=False, nodepair_strategy=strategy_str): (\n",
    "      np.array([strategy_func(instance) for instance in value_per_instance])) \n",
    "    for strategy_str, strategy_func in {'sum': sum, 'diff': diff, 'max': max, 'min': min}.items()\n",
    "  }\n",
    "  \n",
    "  joblib.dump(results, os.path.join(feature_path, f'{feature_name}.pkl'))"
   ]
  },
  {
   "cell_type": "code",
   "execution_count": 9,
   "id": "capable-stack",
   "metadata": {
    "execution": {
     "iopub.execute_input": "2021-02-27T20:51:31.298203Z",
     "iopub.status.busy": "2021-02-27T20:51:31.297809Z",
     "iopub.status.idle": "2021-02-27T20:51:31.303367Z",
     "shell.execute_reply": "2021-02-27T20:51:31.302240Z",
     "shell.execute_reply.started": "2021-02-27T20:51:31.298171Z"
    }
   },
   "outputs": [],
   "source": [
    "EC('data/13', verbose=True)"
   ]
  },
  {
   "cell_type": "code",
   "execution_count": 10,
   "id": "authentic-possibility",
   "metadata": {
    "execution": {
     "iopub.execute_input": "2021-02-27T20:51:32.111256Z",
     "iopub.status.busy": "2021-02-27T20:51:32.110846Z",
     "iopub.status.idle": "2021-02-27T20:51:33.517372Z",
     "shell.execute_reply": "2021-02-27T20:51:33.516930Z",
     "shell.execute_reply.started": "2021-02-27T20:51:32.111221Z"
    }
   },
   "outputs": [
    {
     "data": {
      "application/vnd.jupyter.widget-view+json": {
       "model_id": "",
       "version_major": 2,
       "version_minor": 0
      },
      "text/plain": [
       "  0%|          | 0/30 [00:00<?, ?it/s]"
      ]
     },
     "metadata": {},
     "output_type": "display_data"
    },
    {
     "data": {
      "text/plain": [
       "[None,\n",
       " None,\n",
       " None,\n",
       " None,\n",
       " None,\n",
       " None,\n",
       " None,\n",
       " None,\n",
       " None,\n",
       " None,\n",
       " None,\n",
       " None,\n",
       " None,\n",
       " None,\n",
       " None,\n",
       " None,\n",
       " None,\n",
       " None,\n",
       " None,\n",
       " None,\n",
       " None,\n",
       " None,\n",
       " None,\n",
       " None,\n",
       " None,\n",
       " None,\n",
       " None,\n",
       " None,\n",
       " None,\n",
       " None]"
      ]
     },
     "execution_count": 10,
     "metadata": {},
     "output_type": "execute_result"
    }
   ],
   "source": [
    "entries = sorted(os.scandir('data'), key=lambda x: x.name)\n",
    "tlp.ProgressParallel(n_jobs=len(entries), total=len(entries))(\n",
    "  joblib.delayed(EC)(entry.path) for entry in entries\n",
    ")"
   ]
  },
  {
   "cell_type": "code",
   "execution_count": null,
   "id": "cheap-extra",
   "metadata": {},
   "outputs": [],
   "source": []
  }
 ],
 "metadata": {
  "kernelspec": {
   "display_name": "Python 3",
   "language": "python",
   "name": "python3"
  },
  "language_info": {
   "codemirror_mode": {
    "name": "ipython",
    "version": 3
   },
   "file_extension": ".py",
   "mimetype": "text/x-python",
   "name": "python",
   "nbconvert_exporter": "python",
   "pygments_lexer": "ipython3",
   "version": "3.9.1"
  }
 },
 "nbformat": 4,
 "nbformat_minor": 5
}
