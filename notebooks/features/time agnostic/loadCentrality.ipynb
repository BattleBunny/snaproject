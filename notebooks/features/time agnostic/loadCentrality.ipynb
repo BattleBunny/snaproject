{
 "cells": [
  {
   "cell_type": "code",
   "execution_count": null,
   "id": "hollywood-danish",
   "metadata": {},
   "outputs": [],
   "source": [
    "%cd /scratch/bruingjde/SNAM2021-code/\n",
    "\n",
    "import os\n",
    "import typing\n",
    "\n",
    "import joblib\n",
    "import matplotlib.pyplot as plt\n",
    "import networkx as nx\n",
    "import numpy as np\n",
    "import pandas as pd\n",
    "import scipy\n",
    "import seaborn as sns\n",
    "import sklearn.linear_model\n",
    "import sklearn.model_selection\n",
    "import sklearn.metrics\n",
    "import sklearn.pipeline\n",
    "import sklearn.preprocessing\n",
    "from tqdm.auto import tqdm\n",
    "\n",
    "import tlp\n",
    "\n",
    "feature_name = 'LC'"
   ]
  },
  {
   "cell_type": "code",
   "execution_count": 2,
   "id": "behavioral-value",
   "metadata": {
    "execution": {
     "iopub.execute_input": "2021-02-27T20:40:55.361623Z",
     "iopub.status.busy": "2021-02-27T20:40:55.361294Z",
     "iopub.status.idle": "2021-02-27T20:40:55.372036Z",
     "shell.execute_reply": "2021-02-27T20:40:55.371387Z",
     "shell.execute_reply.started": "2021-02-27T20:40:55.361592Z"
    }
   },
   "outputs": [
    {
     "name": "stdout",
     "output_type": "stream",
     "text": [
      "<DirEntry '25'>\n",
      "<DirEntry '23'>\n",
      "<DirEntry '07'>\n",
      "<DirEntry '04'>\n",
      "<DirEntry '10'>\n",
      "<DirEntry '12'>\n",
      "<DirEntry '24'>\n",
      "<DirEntry '08'>\n",
      "<DirEntry '22'>\n",
      "<DirEntry '15'>\n",
      "<DirEntry '30'>\n",
      "<DirEntry '21'>\n",
      "<DirEntry '11'>\n",
      "<DirEntry '28'>\n",
      "<DirEntry '13'>\n",
      "<DirEntry '29'>\n",
      "<DirEntry '01'>\n",
      "<DirEntry '17'>\n",
      "<DirEntry '18'>\n",
      "<DirEntry '20'>\n",
      "<DirEntry '03'>\n",
      "<DirEntry '26'>\n",
      "<DirEntry '05'>\n",
      "<DirEntry '19'>\n",
      "<DirEntry '14'>\n",
      "<DirEntry '06'>\n",
      "<DirEntry '27'>\n",
      "<DirEntry '02'>\n",
      "<DirEntry '09'>\n",
      "<DirEntry '16'>\n"
     ]
    }
   ],
   "source": [
    "# Check\n",
    "ok = True\n",
    "for entry in os.scandir('data'):\n",
    "  if not os.path.isfile(os.path.join(entry, 'features', feature_name)):\n",
    "    ok = False\n",
    "    print(entry)\n",
    "if ok: print('Ok!')"
   ]
  },
  {
   "cell_type": "code",
   "execution_count": 3,
   "id": "plastic-large",
   "metadata": {
    "execution": {
     "iopub.execute_input": "2021-02-27T20:44:07.242374Z",
     "iopub.status.busy": "2021-02-27T20:44:07.242028Z",
     "iopub.status.idle": "2021-02-27T20:44:07.252535Z",
     "shell.execute_reply": "2021-02-27T20:44:07.251736Z",
     "shell.execute_reply.started": "2021-02-27T20:44:07.242341Z"
    }
   },
   "outputs": [],
   "source": [
    "def LC(path: str, verbose: bool = False, feature_name=feature_name):\n",
    "  # Check if file exists\n",
    "  feature_path = os.path.join(path, 'features')\n",
    "  file = os.path.join(feature_path, f'{feature_name}.pkl')\n",
    "  if os.path.isfile(file): return \n",
    "  \n",
    "  os.makedirs(feature_path, exist_ok=True)\n",
    "\n",
    "  # Read in\n",
    "  edgelist_mature_file = os.path.join(path, 'edgelist_mature.pkl')\n",
    "  if verbose: print(f'Read {edgelist_mature_file}')\n",
    "  edgelist_mature = pd.read_pickle(edgelist_mature_file)\n",
    "  \n",
    "  instances_file = os.path.join(path, 'instances_sampled.npy')\n",
    "  if verbose: print(f'Read {instances_file}')  \n",
    "  instances_sampled = np.load(instances_file)\n",
    "\n",
    "  # Get all unique nodes in instances\n",
    "#   nodes = {node for instance in instances_sampled for node in instance}\n",
    "  \n",
    "  # Get graph\n",
    "  G = nx.from_pandas_edgelist(edgelist_mature)\n",
    "  \n",
    "  # Calculate per node\n",
    "  value_per_node = nx.load_centrality(G)\n",
    "  \n",
    "  value_per_instance = [(value_per_node[u], value_per_node[v]) for u, v in instances_sampled]\n",
    "  \n",
    "  def diff(x): return abs(x[1]-x[0]) \n",
    "  \n",
    "  results = {\n",
    "    tlp.Experiment(feature=feature_name, time_aware=False, nodepair_strategy=strategy_str): (\n",
    "      np.array([strategy_func(instance) for instance in value_per_instance])) \n",
    "    for strategy_str, strategy_func in {'sum': sum, 'diff': diff, 'max': max, 'min': min}.items()\n",
    "  }\n",
    "  \n",
    "  joblib.dump(results, os.path.join(feature_path, f'{feature_name}.pkl'))"
   ]
  },
  {
   "cell_type": "code",
   "execution_count": 5,
   "id": "joint-spectrum",
   "metadata": {
    "execution": {
     "iopub.execute_input": "2021-02-27T20:44:15.364654Z",
     "iopub.status.busy": "2021-02-27T20:44:15.364438Z",
     "iopub.status.idle": "2021-02-27T20:44:17.914514Z",
     "shell.execute_reply": "2021-02-27T20:44:17.913581Z",
     "shell.execute_reply.started": "2021-02-27T20:44:15.364637Z"
    }
   },
   "outputs": [
    {
     "name": "stdout",
     "output_type": "stream",
     "text": [
      "Read data/13/edgelist_mature.pkl\n",
      "Read data/13/instances_sampled.npy\n"
     ]
    }
   ],
   "source": [
    "LC('data/13', verbose=True)"
   ]
  },
  {
   "cell_type": "code",
   "execution_count": null,
   "id": "hawaiian-semester",
   "metadata": {
    "execution": {
     "iopub.execute_input": "2021-02-27T20:44:19.034475Z",
     "iopub.status.busy": "2021-02-27T20:44:19.034128Z"
    }
   },
   "outputs": [
    {
     "data": {
      "application/vnd.jupyter.widget-view+json": {
       "model_id": "735b9e3762da43868fbac252867e17e7",
       "version_major": 2,
       "version_minor": 0
      },
      "text/plain": [
       "  0%|          | 0/30 [00:00<?, ?it/s]"
      ]
     },
     "metadata": {},
     "output_type": "display_data"
    }
   ],
   "source": [
    "entries = sorted(os.scandir('data'), key=lambda x: x.name)\n",
    "tlp.ProgressParallel(n_jobs=len(entries), total=len(entries))(\n",
    "  joblib.delayed(LC)(entry.path) for entry in entries\n",
    ")"
   ]
  },
  {
   "cell_type": "code",
   "execution_count": null,
   "id": "persistent-indication",
   "metadata": {},
   "outputs": [],
   "source": []
  }
 ],
 "metadata": {
  "kernelspec": {
   "display_name": "Python 3",
   "language": "python",
   "name": "python3"
  },
  "language_info": {
   "codemirror_mode": {
    "name": "ipython",
    "version": 3
   },
   "file_extension": ".py",
   "mimetype": "text/x-python",
   "name": "python",
   "nbconvert_exporter": "python",
   "pygments_lexer": "ipython3",
   "version": "3.9.1"
  }
 },
 "nbformat": 4,
 "nbformat_minor": 5
}
