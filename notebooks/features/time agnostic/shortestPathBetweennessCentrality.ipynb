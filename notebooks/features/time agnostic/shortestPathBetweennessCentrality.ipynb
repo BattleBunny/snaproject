{
 "cells": [
  {
   "cell_type": "code",
   "execution_count": 1,
   "id": "excellent-transcription",
   "metadata": {
    "execution": {
     "iopub.execute_input": "2021-02-27T19:59:47.587842Z",
     "iopub.status.busy": "2021-02-27T19:59:47.587605Z",
     "iopub.status.idle": "2021-02-27T19:59:48.993283Z",
     "shell.execute_reply": "2021-02-27T19:59:48.992733Z",
     "shell.execute_reply.started": "2021-02-27T19:59:47.587774Z"
    }
   },
   "outputs": [
    {
     "name": "stdout",
     "output_type": "stream",
     "text": [
      "/scratch/bruingjde/SNAM2021-code\n"
     ]
    }
   ],
   "source": [
    "%cd /scratch/bruingjde/SNAM2021-code/\n",
    "\n",
    "import os\n",
    "import typing\n",
    "\n",
    "import joblib\n",
    "import matplotlib.pyplot as plt\n",
    "import networkx as nx\n",
    "import numpy as np\n",
    "import pandas as pd\n",
    "import scipy\n",
    "import seaborn as sns\n",
    "import sklearn.linear_model\n",
    "import sklearn.model_selection\n",
    "import sklearn.metrics\n",
    "import sklearn.pipeline\n",
    "import sklearn.preprocessing\n",
    "from tqdm.auto import tqdm\n",
    "\n",
    "import tlp"
   ]
  },
  {
   "cell_type": "code",
   "execution_count": 7,
   "id": "whole-shift",
   "metadata": {
    "execution": {
     "iopub.execute_input": "2021-02-27T19:34:45.342991Z",
     "iopub.status.busy": "2021-02-27T19:34:45.342697Z",
     "iopub.status.idle": "2021-02-27T19:34:45.348970Z",
     "shell.execute_reply": "2021-02-27T19:34:45.348183Z",
     "shell.execute_reply.started": "2021-02-27T19:34:45.342960Z"
    }
   },
   "outputs": [
    {
     "name": "stdout",
     "output_type": "stream",
     "text": [
      "<DirEntry '27'>\n"
     ]
    }
   ],
   "source": [
    "# Check\n",
    "for entry in os.scandir('data'):\n",
    "  if not os.path.isfile(os.path.join(entry, 'features', 'AND.pkl')): print(entry)"
   ]
  },
  {
   "cell_type": "code",
   "execution_count": 3,
   "id": "talented-moment",
   "metadata": {
    "execution": {
     "iopub.execute_input": "2021-02-27T20:01:07.689811Z",
     "iopub.status.busy": "2021-02-27T20:01:07.689627Z",
     "iopub.status.idle": "2021-02-27T20:01:07.696211Z",
     "shell.execute_reply": "2021-02-27T20:01:07.695550Z",
     "shell.execute_reply.started": "2021-02-27T20:01:07.689793Z"
    }
   },
   "outputs": [],
   "source": [
    "def SPBD(path: str, verbose: bool = False, feature_name='SPBD'):\n",
    "  # Check if file exists\n",
    "  feature_path = os.path.join(path, 'features')\n",
    "  file = os.path.join(feature_path, f'{feature_name}.pkl')\n",
    "  if os.path.isfile(file): return \n",
    "  \n",
    "  os.makedirs(feature_path, exist_ok=True)\n",
    "\n",
    "  # Read in\n",
    "  edgelist_mature_file = os.path.join(path, 'edgelist_mature.pkl')\n",
    "  if verbose: print(f'Read {edgelist_mature_file}')\n",
    "  edgelist_mature = pd.read_pickle(edgelist_mature_file)\n",
    "  \n",
    "  instances_file = os.path.join(path, 'instances_sampled.npy')\n",
    "  if verbose: print(f'Read {instances_file}')  \n",
    "  instances_sampled = np.load(instances_file)\n",
    "\n",
    "  # Get all unique nodes in instances\n",
    "#   nodes = {node for instance in instances_sampled for node in instance}\n",
    "  \n",
    "  # Get graph\n",
    "  G = nx.from_pandas_edgelist(edgelist_mature)\n",
    "  \n",
    "  # Calculate per node\n",
    "  value_per_node = nx.betweenness_centrality(G)\n",
    "  \n",
    "  value_per_instance = [(value_per_node[u], value_per_node[v]) for u, v in instances_sampled]\n",
    "  \n",
    "  def diff(x): return abs(x[1]-x[0]) \n",
    "  \n",
    "  results = {\n",
    "    tlp.Experiment(feature=feature_name, time_aware=False, nodepair_strategy=strategy_str): (\n",
    "      np.array([strategy_func(instance) for instance in value_per_instance])) \n",
    "    for strategy_str, strategy_func in {'sum': sum, 'diff': diff, 'max': max, 'min': min}.items()\n",
    "  }\n",
    "  \n",
    "  joblib.dump(results, os.path.join(feature_path, f'{feature_name}.pkl'))"
   ]
  },
  {
   "cell_type": "code",
   "execution_count": 4,
   "id": "royal-chrome",
   "metadata": {
    "execution": {
     "iopub.execute_input": "2021-02-27T20:01:09.484451Z",
     "iopub.status.busy": "2021-02-27T20:01:09.484230Z",
     "iopub.status.idle": "2021-02-27T20:01:12.090001Z",
     "shell.execute_reply": "2021-02-27T20:01:12.089257Z",
     "shell.execute_reply.started": "2021-02-27T20:01:09.484430Z"
    }
   },
   "outputs": [
    {
     "name": "stdout",
     "output_type": "stream",
     "text": [
      "Read data/13/edgelist_mature.pkl\n",
      "Read data/13/instances_sampled.npy\n"
     ]
    }
   ],
   "source": [
    "SPBD('data/13', verbose=True)"
   ]
  },
  {
   "cell_type": "code",
   "execution_count": null,
   "id": "molecular-superior",
   "metadata": {
    "execution": {
     "iopub.execute_input": "2021-02-27T20:09:02.150031Z",
     "iopub.status.busy": "2021-02-27T20:09:02.149759Z"
    }
   },
   "outputs": [
    {
     "data": {
      "application/vnd.jupyter.widget-view+json": {
       "model_id": "58ed41d7c97344e9a3a17d0dc873599c",
       "version_major": 2,
       "version_minor": 0
      },
      "text/plain": [
       "  0%|          | 0/30 [00:00<?, ?it/s]"
      ]
     },
     "metadata": {},
     "output_type": "display_data"
    }
   ],
   "source": [
    "entries = sorted(os.scandir('data'), key=lambda x: x.name)\n",
    "tlp.ProgressParallel(n_jobs=len(entries), total=len(entries))(\n",
    "  joblib.delayed(SPBD)(entry.path) for entry in entries\n",
    ")"
   ]
  },
  {
   "cell_type": "code",
   "execution_count": null,
   "id": "wireless-carbon",
   "metadata": {},
   "outputs": [],
   "source": []
  }
 ],
 "metadata": {
  "kernelspec": {
   "display_name": "Python 3",
   "language": "python",
   "name": "python3"
  },
  "language_info": {
   "codemirror_mode": {
    "name": "ipython",
    "version": 3
   },
   "file_extension": ".py",
   "mimetype": "text/x-python",
   "name": "python",
   "nbconvert_exporter": "python",
   "pygments_lexer": "ipython3",
   "version": "3.9.1"
  }
 },
 "nbformat": 4,
 "nbformat_minor": 5
}
