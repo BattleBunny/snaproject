{
 "cells": [
  {
   "cell_type": "code",
   "execution_count": 2,
   "id": "mighty-error",
   "metadata": {
    "execution": {
     "iopub.execute_input": "2021-02-27T20:37:12.776972Z",
     "iopub.status.busy": "2021-02-27T20:37:12.776829Z",
     "iopub.status.idle": "2021-02-27T20:37:12.785848Z",
     "shell.execute_reply": "2021-02-27T20:37:12.785222Z",
     "shell.execute_reply.started": "2021-02-27T20:37:12.776954Z"
    }
   },
   "outputs": [
    {
     "name": "stdout",
     "output_type": "stream",
     "text": [
      "/scratch/bruingjde/SNAM2021-code\n"
     ]
    }
   ],
   "source": [
    "%cd /scratch/bruingjde/SNAM2021-code/\n",
    "\n",
    "import os\n",
    "import typing\n",
    "\n",
    "import joblib\n",
    "import matplotlib.pyplot as plt\n",
    "import networkx as nx\n",
    "import numpy as np\n",
    "import pandas as pd\n",
    "import scipy\n",
    "import seaborn as sns\n",
    "import sklearn.linear_model\n",
    "import sklearn.model_selection\n",
    "import sklearn.metrics\n",
    "import sklearn.pipeline\n",
    "import sklearn.preprocessing\n",
    "from tqdm.auto import tqdm\n",
    "\n",
    "import tlp\n",
    "\n",
    "feature_name = 'K'\n",
    "\n",
    "# NOT USED, TOO EXPENSIVE!\n",
    "# NX implementation could possibly make use of https://docs.scipy.org/doc/scipy/reference/generated/scipy.sparse.linalg.spsolve.html"
   ]
  },
  {
   "cell_type": "code",
   "execution_count": 28,
   "id": "incoming-medium",
   "metadata": {
    "execution": {
     "iopub.execute_input": "2021-02-28T06:12:26.401340Z",
     "iopub.status.busy": "2021-02-28T06:12:26.400976Z",
     "iopub.status.idle": "2021-02-28T06:12:26.419530Z",
     "shell.execute_reply": "2021-02-28T06:12:26.418802Z",
     "shell.execute_reply.started": "2021-02-28T06:12:26.401308Z"
    }
   },
   "outputs": [
    {
     "name": "stdout",
     "output_type": "stream",
     "text": [
      "data/25/features/K.pkl\n",
      "data/23/features/K.pkl\n",
      "data/07/features/K.pkl\n",
      "data/04/features/K.pkl\n",
      "data/10/features/K.pkl\n",
      "data/12/features/K.pkl\n",
      "data/24/features/K.pkl\n",
      "data/08/features/K.pkl\n",
      "data/22/features/K.pkl\n",
      "data/15/features/K.pkl\n",
      "data/30/features/K.pkl\n",
      "data/21/features/K.pkl\n",
      "data/11/features/K.pkl\n",
      "data/28/features/K.pkl\n",
      "data/13/features/K.pkl\n",
      "data/29/features/K.pkl\n",
      "data/01/features/K.pkl\n",
      "data/17/features/K.pkl\n",
      "data/18/features/K.pkl\n",
      "data/20/features/K.pkl\n",
      "data/03/features/K.pkl\n",
      "data/26/features/K.pkl\n",
      "data/05/features/K.pkl\n",
      "data/19/features/K.pkl\n",
      "data/14/features/K.pkl\n",
      "data/06/features/K.pkl\n",
      "data/27/features/K.pkl\n",
      "data/02/features/K.pkl\n",
      "data/09/features/K.pkl\n",
      "data/16/features/K.pkl\n"
     ]
    }
   ],
   "source": [
    "# # Delete\n",
    "ok = True\n",
    "for entry in os.scandir('data'):\n",
    "  filepath = os.path.join(entry, 'features', feature_name + '.pkl')\n",
    "  print(filepath)\n",
    "  if os.path.isfile(filepath): os.remove(filepath)"
   ]
  },
  {
   "cell_type": "code",
   "execution_count": 29,
   "id": "functional-clothing",
   "metadata": {
    "execution": {
     "iopub.execute_input": "2021-02-28T06:12:30.805074Z",
     "iopub.status.busy": "2021-02-28T06:12:30.804715Z",
     "iopub.status.idle": "2021-02-28T06:12:30.814768Z",
     "shell.execute_reply": "2021-02-28T06:12:30.814129Z",
     "shell.execute_reply.started": "2021-02-28T06:12:30.805033Z"
    }
   },
   "outputs": [
    {
     "name": "stdout",
     "output_type": "stream",
     "text": [
      "<DirEntry '01'>\n",
      "<DirEntry '02'>\n",
      "<DirEntry '03'>\n",
      "<DirEntry '04'>\n",
      "<DirEntry '05'>\n",
      "<DirEntry '06'>\n",
      "<DirEntry '07'>\n",
      "<DirEntry '08'>\n",
      "<DirEntry '09'>\n",
      "<DirEntry '10'>\n",
      "<DirEntry '11'>\n",
      "<DirEntry '12'>\n",
      "<DirEntry '13'>\n",
      "<DirEntry '14'>\n",
      "<DirEntry '15'>\n",
      "<DirEntry '16'>\n",
      "<DirEntry '17'>\n",
      "<DirEntry '18'>\n",
      "<DirEntry '19'>\n",
      "<DirEntry '20'>\n",
      "<DirEntry '21'>\n",
      "<DirEntry '22'>\n",
      "<DirEntry '23'>\n",
      "<DirEntry '24'>\n",
      "<DirEntry '25'>\n",
      "<DirEntry '26'>\n",
      "<DirEntry '27'>\n",
      "<DirEntry '28'>\n",
      "<DirEntry '29'>\n",
      "<DirEntry '30'>\n"
     ]
    }
   ],
   "source": [
    "# Check\n",
    "entries = sorted(os.scandir('data'), key=lambda x: x.name)\n",
    "ok = True\n",
    "for entry in entries:\n",
    "  if not os.path.isfile(os.path.join(entry, 'features', feature_name + '.pkl')):\n",
    "    ok = False\n",
    "    print(entry)\n",
    "if ok: print('Ok!')"
   ]
  },
  {
   "cell_type": "code",
   "execution_count": 18,
   "id": "fossil-christmas",
   "metadata": {
    "execution": {
     "iopub.execute_input": "2021-02-28T06:01:22.858397Z",
     "iopub.status.busy": "2021-02-28T06:01:22.858038Z",
     "iopub.status.idle": "2021-02-28T06:01:22.869942Z",
     "shell.execute_reply": "2021-02-28T06:01:22.869224Z",
     "shell.execute_reply.started": "2021-02-28T06:01:22.858364Z"
    }
   },
   "outputs": [],
   "source": [
    "def K(path: str, verbose: bool = False, feature_name=feature_name):\n",
    "  # Check if file exists\n",
    "  feature_path = os.path.join(path, 'features')\n",
    "  file = os.path.join(feature_path, f'{feature_name}.pkl')\n",
    "  if os.path.isfile(file): return \n",
    "  \n",
    "  os.makedirs(feature_path, exist_ok=True)\n",
    "\n",
    "  # Read in\n",
    "  edgelist_mature_file = os.path.join(path, 'edgelist_mature.pkl')\n",
    "  if verbose: print(f'Read {edgelist_mature_file}')\n",
    "  edgelist_mature = pd.read_pickle(edgelist_mature_file)\n",
    "  \n",
    "  instances_file = os.path.join(path, 'instances_sampled.npy')\n",
    "  if verbose: print(f'Read {instances_file}')  \n",
    "  instances_sampled = np.load(instances_file)\n",
    "\n",
    "  # Get all unique nodes in instances\n",
    "#   nodes = {node for instance in instances_sampled for node in instance}\n",
    "  \n",
    "  # Get graph\n",
    "  G = nx.from_pandas_edgelist(edgelist_mature)\n",
    "  \n",
    "  # Calculate per node\n",
    "  value_per_node = nx.katz_centrality_numpy(G)\n",
    "  \n",
    "  value_per_instance = [(value_per_node[u], value_per_node[v]) for u, v in instances_sampled]\n",
    "  \n",
    "  def diff(x): return abs(x[1]-x[0]) \n",
    "  \n",
    "  results = {\n",
    "    tlp.Experiment(feature=feature_name, time_aware=False, nodepair_strategy=strategy_str): (\n",
    "      np.array([strategy_func(instance) for instance in value_per_instance])) \n",
    "    for strategy_str, strategy_func in {'sum': sum, 'diff': diff, 'max': max, 'min': min}.items()\n",
    "  }\n",
    "  \n",
    "  joblib.dump(results, os.path.join(feature_path, f'{feature_name}.pkl'))"
   ]
  },
  {
   "cell_type": "code",
   "execution_count": 16,
   "id": "affiliated-video",
   "metadata": {
    "collapsed": true,
    "execution": {
     "iopub.execute_input": "2021-02-27T20:53:41.338035Z",
     "iopub.status.busy": "2021-02-27T20:53:41.337673Z",
     "iopub.status.idle": "2021-02-27T22:05:31.316781Z",
     "shell.execute_reply": "2021-02-27T22:05:31.315843Z",
     "shell.execute_reply.started": "2021-02-27T20:53:41.338007Z"
    },
    "jupyter": {
     "outputs_hidden": true
    }
   },
   "outputs": [
    {
     "data": {
      "application/vnd.jupyter.widget-view+json": {
       "model_id": "743c7ecc66054dc592afa88ddbb23cc8",
       "version_major": 2,
       "version_minor": 0
      },
      "text/plain": [
       "  0%|          | 0/30 [00:00<?, ?it/s]"
      ]
     },
     "metadata": {},
     "output_type": "display_data"
    },
    {
     "name": "stdout",
     "output_type": "stream",
     "text": [
      "Read data/01/edgelist_mature.pkl\n",
      "Read data/01/instances_sampled.npy\n"
     ]
    },
    {
     "ename": "PowerIterationFailedConvergence",
     "evalue": "(PowerIterationFailedConvergence(...), 'power iteration failed to converge within 1000 iterations')",
     "output_type": "error",
     "traceback": [
      "\u001b[0;31m---------------------------------------------------------------------------\u001b[0m",
      "\u001b[0;31mPowerIterationFailedConvergence\u001b[0m           Traceback (most recent call last)",
      "\u001b[0;32m<ipython-input-16-9ddeba5570f7>\u001b[0m in \u001b[0;36m<module>\u001b[0;34m\u001b[0m\n\u001b[1;32m      1\u001b[0m \u001b[0;32mfor\u001b[0m \u001b[0mentry\u001b[0m \u001b[0;32min\u001b[0m \u001b[0mtqdm\u001b[0m\u001b[0;34m(\u001b[0m\u001b[0mentries\u001b[0m\u001b[0;34m)\u001b[0m\u001b[0;34m:\u001b[0m\u001b[0;34m\u001b[0m\u001b[0;34m\u001b[0m\u001b[0m\n\u001b[0;32m----> 2\u001b[0;31m   \u001b[0mK\u001b[0m\u001b[0;34m(\u001b[0m\u001b[0mentry\u001b[0m\u001b[0;34m,\u001b[0m \u001b[0mverbose\u001b[0m\u001b[0;34m=\u001b[0m\u001b[0;32mTrue\u001b[0m\u001b[0;34m)\u001b[0m\u001b[0;34m\u001b[0m\u001b[0;34m\u001b[0m\u001b[0m\n\u001b[0m",
      "\u001b[0;32m<ipython-input-15-6829eeea8e30>\u001b[0m in \u001b[0;36mK\u001b[0;34m(path, verbose, feature_name)\u001b[0m\n\u001b[1;32m     23\u001b[0m \u001b[0;34m\u001b[0m\u001b[0m\n\u001b[1;32m     24\u001b[0m   \u001b[0;31m# Calculate per node\u001b[0m\u001b[0;34m\u001b[0m\u001b[0;34m\u001b[0m\u001b[0;34m\u001b[0m\u001b[0m\n\u001b[0;32m---> 25\u001b[0;31m   \u001b[0mvalue_per_node\u001b[0m \u001b[0;34m=\u001b[0m \u001b[0mnx\u001b[0m\u001b[0;34m.\u001b[0m\u001b[0mkatz_centrality\u001b[0m\u001b[0;34m(\u001b[0m\u001b[0mG\u001b[0m\u001b[0;34m)\u001b[0m\u001b[0;34m\u001b[0m\u001b[0;34m\u001b[0m\u001b[0m\n\u001b[0m\u001b[1;32m     26\u001b[0m \u001b[0;34m\u001b[0m\u001b[0m\n\u001b[1;32m     27\u001b[0m   \u001b[0mvalue_per_instance\u001b[0m \u001b[0;34m=\u001b[0m \u001b[0;34m[\u001b[0m\u001b[0;34m(\u001b[0m\u001b[0mvalue_per_node\u001b[0m\u001b[0;34m[\u001b[0m\u001b[0mu\u001b[0m\u001b[0;34m]\u001b[0m\u001b[0;34m,\u001b[0m \u001b[0mvalue_per_node\u001b[0m\u001b[0;34m[\u001b[0m\u001b[0mv\u001b[0m\u001b[0;34m]\u001b[0m\u001b[0;34m)\u001b[0m \u001b[0;32mfor\u001b[0m \u001b[0mu\u001b[0m\u001b[0;34m,\u001b[0m \u001b[0mv\u001b[0m \u001b[0;32min\u001b[0m \u001b[0minstances_sampled\u001b[0m\u001b[0;34m]\u001b[0m\u001b[0;34m\u001b[0m\u001b[0;34m\u001b[0m\u001b[0m\n",
      "\u001b[0;32m<decorator-gen-282>\u001b[0m in \u001b[0;36mkatz_centrality\u001b[0;34m(G, alpha, beta, max_iter, tol, nstart, normalized, weight)\u001b[0m\n",
      "\u001b[0;32m/scratch/bruingjde/miniconda3/envs/tlp/lib/python3.9/site-packages/networkx/utils/decorators.py\u001b[0m in \u001b[0;36m_not_implemented_for\u001b[0;34m(not_implement_for_func, *args, **kwargs)\u001b[0m\n\u001b[1;32m     76\u001b[0m             \u001b[0;32mraise\u001b[0m \u001b[0mnx\u001b[0m\u001b[0;34m.\u001b[0m\u001b[0mNetworkXNotImplemented\u001b[0m\u001b[0;34m(\u001b[0m\u001b[0mmsg\u001b[0m\u001b[0;34m)\u001b[0m\u001b[0;34m\u001b[0m\u001b[0;34m\u001b[0m\u001b[0m\n\u001b[1;32m     77\u001b[0m         \u001b[0;32melse\u001b[0m\u001b[0;34m:\u001b[0m\u001b[0;34m\u001b[0m\u001b[0;34m\u001b[0m\u001b[0m\n\u001b[0;32m---> 78\u001b[0;31m             \u001b[0;32mreturn\u001b[0m \u001b[0mnot_implement_for_func\u001b[0m\u001b[0;34m(\u001b[0m\u001b[0;34m*\u001b[0m\u001b[0margs\u001b[0m\u001b[0;34m,\u001b[0m \u001b[0;34m**\u001b[0m\u001b[0mkwargs\u001b[0m\u001b[0;34m)\u001b[0m\u001b[0;34m\u001b[0m\u001b[0;34m\u001b[0m\u001b[0m\n\u001b[0m\u001b[1;32m     79\u001b[0m \u001b[0;34m\u001b[0m\u001b[0m\n\u001b[1;32m     80\u001b[0m     \u001b[0;32mreturn\u001b[0m \u001b[0m_not_implemented_for\u001b[0m\u001b[0;34m\u001b[0m\u001b[0;34m\u001b[0m\u001b[0m\n",
      "\u001b[0;32m/scratch/bruingjde/miniconda3/envs/tlp/lib/python3.9/site-packages/networkx/algorithms/centrality/katz.py\u001b[0m in \u001b[0;36mkatz_centrality\u001b[0;34m(G, alpha, beta, max_iter, tol, nstart, normalized, weight)\u001b[0m\n\u001b[1;32m    190\u001b[0m                 \u001b[0mx\u001b[0m\u001b[0;34m[\u001b[0m\u001b[0mn\u001b[0m\u001b[0;34m]\u001b[0m \u001b[0;34m*=\u001b[0m \u001b[0ms\u001b[0m\u001b[0;34m\u001b[0m\u001b[0;34m\u001b[0m\u001b[0m\n\u001b[1;32m    191\u001b[0m             \u001b[0;32mreturn\u001b[0m \u001b[0mx\u001b[0m\u001b[0;34m\u001b[0m\u001b[0;34m\u001b[0m\u001b[0m\n\u001b[0;32m--> 192\u001b[0;31m     \u001b[0;32mraise\u001b[0m \u001b[0mnx\u001b[0m\u001b[0;34m.\u001b[0m\u001b[0mPowerIterationFailedConvergence\u001b[0m\u001b[0;34m(\u001b[0m\u001b[0mmax_iter\u001b[0m\u001b[0;34m)\u001b[0m\u001b[0;34m\u001b[0m\u001b[0;34m\u001b[0m\u001b[0m\n\u001b[0m\u001b[1;32m    193\u001b[0m \u001b[0;34m\u001b[0m\u001b[0m\n\u001b[1;32m    194\u001b[0m \u001b[0;34m\u001b[0m\u001b[0m\n",
      "\u001b[0;31mPowerIterationFailedConvergence\u001b[0m: (PowerIterationFailedConvergence(...), 'power iteration failed to converge within 1000 iterations')"
     ]
    }
   ],
   "source": [
    "for entry in tqdm(entries):\n",
    "  K(entry, verbose=True)"
   ]
  },
  {
   "cell_type": "code",
   "execution_count": 19,
   "id": "therapeutic-variation",
   "metadata": {
    "execution": {
     "iopub.execute_input": "2021-02-28T06:01:41.662286Z",
     "iopub.status.busy": "2021-02-28T06:01:41.661877Z",
     "iopub.status.idle": "2021-02-28T06:02:11.803939Z",
     "shell.execute_reply": "2021-02-28T06:02:11.803310Z",
     "shell.execute_reply.started": "2021-02-28T06:01:41.662249Z"
    }
   },
   "outputs": [
    {
     "data": {
      "application/vnd.jupyter.widget-view+json": {
       "model_id": "",
       "version_major": 2,
       "version_minor": 0
      },
      "text/plain": [
       "  0%|          | 0/30 [00:00<?, ?it/s]"
      ]
     },
     "metadata": {},
     "output_type": "display_data"
    },
    {
     "ename": "MemoryError",
     "evalue": "Unable to allocate 1.32 TiB for an array with shape (425283, 425283) and data type int64",
     "output_type": "error",
     "traceback": [
      "\u001b[0;31m---------------------------------------------------------------------------\u001b[0m",
      "\u001b[0;31m_RemoteTraceback\u001b[0m                          Traceback (most recent call last)",
      "\u001b[0;31m_RemoteTraceback\u001b[0m: \n\"\"\"\nTraceback (most recent call last):\n  File \"/scratch/bruingjde/miniconda3/envs/tlp/lib/python3.9/site-packages/joblib/externals/loky/process_executor.py\", line 431, in _process_worker\n    r = call_item()\n  File \"/scratch/bruingjde/miniconda3/envs/tlp/lib/python3.9/site-packages/joblib/externals/loky/process_executor.py\", line 285, in __call__\n    return self.fn(*self.args, **self.kwargs)\n  File \"/scratch/bruingjde/miniconda3/envs/tlp/lib/python3.9/site-packages/joblib/_parallel_backends.py\", line 595, in __call__\n    return self.func(*args, **kwargs)\n  File \"/scratch/bruingjde/miniconda3/envs/tlp/lib/python3.9/site-packages/joblib/parallel.py\", line 262, in __call__\n    return [func(*args, **kwargs)\n  File \"/scratch/bruingjde/miniconda3/envs/tlp/lib/python3.9/site-packages/joblib/parallel.py\", line 262, in <listcomp>\n    return [func(*args, **kwargs)\n  File \"<ipython-input-18-6b04bff955f2>\", line 25, in K\n  File \"<decorator-gen-168>\", line 2, in katz_centrality_numpy\n  File \"/scratch/bruingjde/miniconda3/envs/tlp/lib/python3.9/site-packages/networkx/utils/decorators.py\", line 78, in _not_implemented_for\n    return not_implement_for_func(*args, **kwargs)\n  File \"/scratch/bruingjde/miniconda3/envs/tlp/lib/python3.9/site-packages/networkx/algorithms/centrality/katz.py\", line 325, in katz_centrality_numpy\n    A = nx.adj_matrix(G, nodelist=nodelist, weight=weight).todense().T\n  File \"/scratch/bruingjde/miniconda3/envs/tlp/lib/python3.9/site-packages/scipy/sparse/base.py\", line 864, in todense\n    return asmatrix(self.toarray(order=order, out=out))\n  File \"/scratch/bruingjde/miniconda3/envs/tlp/lib/python3.9/site-packages/scipy/sparse/compressed.py\", line 1030, in toarray\n    out = self._process_toarray_args(order, out)\n  File \"/scratch/bruingjde/miniconda3/envs/tlp/lib/python3.9/site-packages/scipy/sparse/base.py\", line 1202, in _process_toarray_args\n    return np.zeros(self.shape, dtype=self.dtype, order=order)\nnumpy.core._exceptions._ArrayMemoryError: Unable to allocate 1.32 TiB for an array with shape (425283, 425283) and data type int64\n\"\"\"",
      "\nThe above exception was the direct cause of the following exception:\n",
      "\u001b[0;31mMemoryError\u001b[0m                               Traceback (most recent call last)",
      "\u001b[0;32m<ipython-input-19-3814d3606ab0>\u001b[0m in \u001b[0;36m<module>\u001b[0;34m\u001b[0m\n\u001b[1;32m      1\u001b[0m \u001b[0mentries\u001b[0m \u001b[0;34m=\u001b[0m \u001b[0msorted\u001b[0m\u001b[0;34m(\u001b[0m\u001b[0mos\u001b[0m\u001b[0;34m.\u001b[0m\u001b[0mscandir\u001b[0m\u001b[0;34m(\u001b[0m\u001b[0;34m'data'\u001b[0m\u001b[0;34m)\u001b[0m\u001b[0;34m,\u001b[0m \u001b[0mkey\u001b[0m\u001b[0;34m=\u001b[0m\u001b[0;32mlambda\u001b[0m \u001b[0mx\u001b[0m\u001b[0;34m:\u001b[0m \u001b[0mx\u001b[0m\u001b[0;34m.\u001b[0m\u001b[0mname\u001b[0m\u001b[0;34m)\u001b[0m\u001b[0;34m\u001b[0m\u001b[0;34m\u001b[0m\u001b[0m\n\u001b[0;32m----> 2\u001b[0;31m tlp.ProgressParallel(n_jobs=len(entries), total=len(entries))(\n\u001b[0m\u001b[1;32m      3\u001b[0m   \u001b[0mjoblib\u001b[0m\u001b[0;34m.\u001b[0m\u001b[0mdelayed\u001b[0m\u001b[0;34m(\u001b[0m\u001b[0mK\u001b[0m\u001b[0;34m)\u001b[0m\u001b[0;34m(\u001b[0m\u001b[0mentry\u001b[0m\u001b[0;34m.\u001b[0m\u001b[0mpath\u001b[0m\u001b[0;34m)\u001b[0m \u001b[0;32mfor\u001b[0m \u001b[0mentry\u001b[0m \u001b[0;32min\u001b[0m \u001b[0mentries\u001b[0m\u001b[0;34m\u001b[0m\u001b[0;34m\u001b[0m\u001b[0m\n\u001b[1;32m      4\u001b[0m )\n",
      "\u001b[0;32m/scratch/bruingjde/SNAM2021-code/tlp/helpers.py\u001b[0m in \u001b[0;36m__call__\u001b[0;34m(self, *args, **kwargs)\u001b[0m\n\u001b[1;32m     22\u001b[0m     with tqdm(disable=not self._use_tqdm, total=self._total, \n\u001b[1;32m     23\u001b[0m               desc=self._desc, unit=self._unit, leave=False) as self._pbar:\n\u001b[0;32m---> 24\u001b[0;31m       \u001b[0;32mreturn\u001b[0m \u001b[0mjoblib\u001b[0m\u001b[0;34m.\u001b[0m\u001b[0mParallel\u001b[0m\u001b[0;34m.\u001b[0m\u001b[0m__call__\u001b[0m\u001b[0;34m(\u001b[0m\u001b[0mself\u001b[0m\u001b[0;34m,\u001b[0m \u001b[0;34m*\u001b[0m\u001b[0margs\u001b[0m\u001b[0;34m,\u001b[0m \u001b[0;34m**\u001b[0m\u001b[0mkwargs\u001b[0m\u001b[0;34m)\u001b[0m\u001b[0;34m\u001b[0m\u001b[0;34m\u001b[0m\u001b[0m\n\u001b[0m\u001b[1;32m     25\u001b[0m \u001b[0;34m\u001b[0m\u001b[0m\n\u001b[1;32m     26\u001b[0m   \u001b[0;32mdef\u001b[0m \u001b[0mprint_progress\u001b[0m\u001b[0;34m(\u001b[0m\u001b[0mself\u001b[0m\u001b[0;34m)\u001b[0m\u001b[0;34m:\u001b[0m\u001b[0;34m\u001b[0m\u001b[0;34m\u001b[0m\u001b[0m\n",
      "\u001b[0;32m/scratch/bruingjde/miniconda3/envs/tlp/lib/python3.9/site-packages/joblib/parallel.py\u001b[0m in \u001b[0;36m__call__\u001b[0;34m(self, iterable)\u001b[0m\n\u001b[1;32m   1052\u001b[0m \u001b[0;34m\u001b[0m\u001b[0m\n\u001b[1;32m   1053\u001b[0m             \u001b[0;32mwith\u001b[0m \u001b[0mself\u001b[0m\u001b[0;34m.\u001b[0m\u001b[0m_backend\u001b[0m\u001b[0;34m.\u001b[0m\u001b[0mretrieval_context\u001b[0m\u001b[0;34m(\u001b[0m\u001b[0;34m)\u001b[0m\u001b[0;34m:\u001b[0m\u001b[0;34m\u001b[0m\u001b[0;34m\u001b[0m\u001b[0m\n\u001b[0;32m-> 1054\u001b[0;31m                 \u001b[0mself\u001b[0m\u001b[0;34m.\u001b[0m\u001b[0mretrieve\u001b[0m\u001b[0;34m(\u001b[0m\u001b[0;34m)\u001b[0m\u001b[0;34m\u001b[0m\u001b[0;34m\u001b[0m\u001b[0m\n\u001b[0m\u001b[1;32m   1055\u001b[0m             \u001b[0;31m# Make sure that we get a last message telling us we are done\u001b[0m\u001b[0;34m\u001b[0m\u001b[0;34m\u001b[0m\u001b[0;34m\u001b[0m\u001b[0m\n\u001b[1;32m   1056\u001b[0m             \u001b[0melapsed_time\u001b[0m \u001b[0;34m=\u001b[0m \u001b[0mtime\u001b[0m\u001b[0;34m.\u001b[0m\u001b[0mtime\u001b[0m\u001b[0;34m(\u001b[0m\u001b[0;34m)\u001b[0m \u001b[0;34m-\u001b[0m \u001b[0mself\u001b[0m\u001b[0;34m.\u001b[0m\u001b[0m_start_time\u001b[0m\u001b[0;34m\u001b[0m\u001b[0;34m\u001b[0m\u001b[0m\n",
      "\u001b[0;32m/scratch/bruingjde/miniconda3/envs/tlp/lib/python3.9/site-packages/joblib/parallel.py\u001b[0m in \u001b[0;36mretrieve\u001b[0;34m(self)\u001b[0m\n\u001b[1;32m    931\u001b[0m             \u001b[0;32mtry\u001b[0m\u001b[0;34m:\u001b[0m\u001b[0;34m\u001b[0m\u001b[0;34m\u001b[0m\u001b[0m\n\u001b[1;32m    932\u001b[0m                 \u001b[0;32mif\u001b[0m \u001b[0mgetattr\u001b[0m\u001b[0;34m(\u001b[0m\u001b[0mself\u001b[0m\u001b[0;34m.\u001b[0m\u001b[0m_backend\u001b[0m\u001b[0;34m,\u001b[0m \u001b[0;34m'supports_timeout'\u001b[0m\u001b[0;34m,\u001b[0m \u001b[0;32mFalse\u001b[0m\u001b[0;34m)\u001b[0m\u001b[0;34m:\u001b[0m\u001b[0;34m\u001b[0m\u001b[0;34m\u001b[0m\u001b[0m\n\u001b[0;32m--> 933\u001b[0;31m                     \u001b[0mself\u001b[0m\u001b[0;34m.\u001b[0m\u001b[0m_output\u001b[0m\u001b[0;34m.\u001b[0m\u001b[0mextend\u001b[0m\u001b[0;34m(\u001b[0m\u001b[0mjob\u001b[0m\u001b[0;34m.\u001b[0m\u001b[0mget\u001b[0m\u001b[0;34m(\u001b[0m\u001b[0mtimeout\u001b[0m\u001b[0;34m=\u001b[0m\u001b[0mself\u001b[0m\u001b[0;34m.\u001b[0m\u001b[0mtimeout\u001b[0m\u001b[0;34m)\u001b[0m\u001b[0;34m)\u001b[0m\u001b[0;34m\u001b[0m\u001b[0;34m\u001b[0m\u001b[0m\n\u001b[0m\u001b[1;32m    934\u001b[0m                 \u001b[0;32melse\u001b[0m\u001b[0;34m:\u001b[0m\u001b[0;34m\u001b[0m\u001b[0;34m\u001b[0m\u001b[0m\n\u001b[1;32m    935\u001b[0m                     \u001b[0mself\u001b[0m\u001b[0;34m.\u001b[0m\u001b[0m_output\u001b[0m\u001b[0;34m.\u001b[0m\u001b[0mextend\u001b[0m\u001b[0;34m(\u001b[0m\u001b[0mjob\u001b[0m\u001b[0;34m.\u001b[0m\u001b[0mget\u001b[0m\u001b[0;34m(\u001b[0m\u001b[0;34m)\u001b[0m\u001b[0;34m)\u001b[0m\u001b[0;34m\u001b[0m\u001b[0;34m\u001b[0m\u001b[0m\n",
      "\u001b[0;32m/scratch/bruingjde/miniconda3/envs/tlp/lib/python3.9/site-packages/joblib/_parallel_backends.py\u001b[0m in \u001b[0;36mwrap_future_result\u001b[0;34m(future, timeout)\u001b[0m\n\u001b[1;32m    540\u001b[0m         AsyncResults.get from multiprocessing.\"\"\"\n\u001b[1;32m    541\u001b[0m         \u001b[0;32mtry\u001b[0m\u001b[0;34m:\u001b[0m\u001b[0;34m\u001b[0m\u001b[0;34m\u001b[0m\u001b[0m\n\u001b[0;32m--> 542\u001b[0;31m             \u001b[0;32mreturn\u001b[0m \u001b[0mfuture\u001b[0m\u001b[0;34m.\u001b[0m\u001b[0mresult\u001b[0m\u001b[0;34m(\u001b[0m\u001b[0mtimeout\u001b[0m\u001b[0;34m=\u001b[0m\u001b[0mtimeout\u001b[0m\u001b[0;34m)\u001b[0m\u001b[0;34m\u001b[0m\u001b[0;34m\u001b[0m\u001b[0m\n\u001b[0m\u001b[1;32m    543\u001b[0m         \u001b[0;32mexcept\u001b[0m \u001b[0mCfTimeoutError\u001b[0m \u001b[0;32mas\u001b[0m \u001b[0me\u001b[0m\u001b[0;34m:\u001b[0m\u001b[0;34m\u001b[0m\u001b[0;34m\u001b[0m\u001b[0m\n\u001b[1;32m    544\u001b[0m             \u001b[0;32mraise\u001b[0m \u001b[0mTimeoutError\u001b[0m \u001b[0;32mfrom\u001b[0m \u001b[0me\u001b[0m\u001b[0;34m\u001b[0m\u001b[0;34m\u001b[0m\u001b[0m\n",
      "\u001b[0;32m/scratch/bruingjde/miniconda3/envs/tlp/lib/python3.9/concurrent/futures/_base.py\u001b[0m in \u001b[0;36mresult\u001b[0;34m(self, timeout)\u001b[0m\n\u001b[1;32m    438\u001b[0m                 \u001b[0;32mraise\u001b[0m \u001b[0mCancelledError\u001b[0m\u001b[0;34m(\u001b[0m\u001b[0;34m)\u001b[0m\u001b[0;34m\u001b[0m\u001b[0;34m\u001b[0m\u001b[0m\n\u001b[1;32m    439\u001b[0m             \u001b[0;32melif\u001b[0m \u001b[0mself\u001b[0m\u001b[0;34m.\u001b[0m\u001b[0m_state\u001b[0m \u001b[0;34m==\u001b[0m \u001b[0mFINISHED\u001b[0m\u001b[0;34m:\u001b[0m\u001b[0;34m\u001b[0m\u001b[0;34m\u001b[0m\u001b[0m\n\u001b[0;32m--> 440\u001b[0;31m                 \u001b[0;32mreturn\u001b[0m \u001b[0mself\u001b[0m\u001b[0;34m.\u001b[0m\u001b[0m__get_result\u001b[0m\u001b[0;34m(\u001b[0m\u001b[0;34m)\u001b[0m\u001b[0;34m\u001b[0m\u001b[0;34m\u001b[0m\u001b[0m\n\u001b[0m\u001b[1;32m    441\u001b[0m             \u001b[0;32melse\u001b[0m\u001b[0;34m:\u001b[0m\u001b[0;34m\u001b[0m\u001b[0;34m\u001b[0m\u001b[0m\n\u001b[1;32m    442\u001b[0m                 \u001b[0;32mraise\u001b[0m \u001b[0mTimeoutError\u001b[0m\u001b[0;34m(\u001b[0m\u001b[0;34m)\u001b[0m\u001b[0;34m\u001b[0m\u001b[0;34m\u001b[0m\u001b[0m\n",
      "\u001b[0;32m/scratch/bruingjde/miniconda3/envs/tlp/lib/python3.9/concurrent/futures/_base.py\u001b[0m in \u001b[0;36m__get_result\u001b[0;34m(self)\u001b[0m\n\u001b[1;32m    387\u001b[0m     \u001b[0;32mdef\u001b[0m \u001b[0m__get_result\u001b[0m\u001b[0;34m(\u001b[0m\u001b[0mself\u001b[0m\u001b[0;34m)\u001b[0m\u001b[0;34m:\u001b[0m\u001b[0;34m\u001b[0m\u001b[0;34m\u001b[0m\u001b[0m\n\u001b[1;32m    388\u001b[0m         \u001b[0;32mif\u001b[0m \u001b[0mself\u001b[0m\u001b[0;34m.\u001b[0m\u001b[0m_exception\u001b[0m\u001b[0;34m:\u001b[0m\u001b[0;34m\u001b[0m\u001b[0;34m\u001b[0m\u001b[0m\n\u001b[0;32m--> 389\u001b[0;31m             \u001b[0;32mraise\u001b[0m \u001b[0mself\u001b[0m\u001b[0;34m.\u001b[0m\u001b[0m_exception\u001b[0m\u001b[0;34m\u001b[0m\u001b[0;34m\u001b[0m\u001b[0m\n\u001b[0m\u001b[1;32m    390\u001b[0m         \u001b[0;32melse\u001b[0m\u001b[0;34m:\u001b[0m\u001b[0;34m\u001b[0m\u001b[0;34m\u001b[0m\u001b[0m\n\u001b[1;32m    391\u001b[0m             \u001b[0;32mreturn\u001b[0m \u001b[0mself\u001b[0m\u001b[0;34m.\u001b[0m\u001b[0m_result\u001b[0m\u001b[0;34m\u001b[0m\u001b[0;34m\u001b[0m\u001b[0m\n",
      "\u001b[0;31mMemoryError\u001b[0m: Unable to allocate 1.32 TiB for an array with shape (425283, 425283) and data type int64"
     ]
    }
   ],
   "source": [
    "entries = sorted(os.scandir('data'), key=lambda x: x.name)\n",
    "tlp.ProgressParallel(n_jobs=len(entries), total=len(entries))(\n",
    "  joblib.delayed(K)(entry.path) for entry in entries\n",
    ")"
   ]
  },
  {
   "cell_type": "code",
   "execution_count": null,
   "id": "utility-saying",
   "metadata": {},
   "outputs": [],
   "source": []
  }
 ],
 "metadata": {
  "kernelspec": {
   "display_name": "Python 3",
   "language": "python",
   "name": "python3"
  },
  "language_info": {
   "codemirror_mode": {
    "name": "ipython",
    "version": 3
   },
   "file_extension": ".py",
   "mimetype": "text/x-python",
   "name": "python",
   "nbconvert_exporter": "python",
   "pygments_lexer": "ipython3",
   "version": "3.9.1"
  }
 },
 "nbformat": 4,
 "nbformat_minor": 5
}
