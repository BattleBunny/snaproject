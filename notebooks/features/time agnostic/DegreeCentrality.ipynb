{
 "cells": [
  {
   "cell_type": "code",
   "execution_count": 4,
   "id": "declared-processing",
   "metadata": {
    "execution": {
     "iopub.execute_input": "2021-02-27T20:19:24.331976Z",
     "iopub.status.busy": "2021-02-27T20:19:24.331658Z",
     "iopub.status.idle": "2021-02-27T20:19:24.340991Z",
     "shell.execute_reply": "2021-02-27T20:19:24.340201Z",
     "shell.execute_reply.started": "2021-02-27T20:19:24.331936Z"
    }
   },
   "outputs": [
    {
     "name": "stdout",
     "output_type": "stream",
     "text": [
      "/scratch/bruingjde/SNAM2021-code\n"
     ]
    }
   ],
   "source": [
    "%cd /scratch/bruingjde/SNAM2021-code/\n",
    "\n",
    "import os\n",
    "import typing\n",
    "\n",
    "import joblib\n",
    "import matplotlib.pyplot as plt\n",
    "import networkx as nx\n",
    "import numpy as np\n",
    "import pandas as pd\n",
    "import scipy\n",
    "import seaborn as sns\n",
    "import sklearn.linear_model\n",
    "import sklearn.model_selection\n",
    "import sklearn.metrics\n",
    "import sklearn.pipeline\n",
    "import sklearn.preprocessing\n",
    "from tqdm.auto import tqdm\n",
    "\n",
    "import tlp"
   ]
  },
  {
   "cell_type": "code",
   "execution_count": 8,
   "id": "norman-solution",
   "metadata": {
    "execution": {
     "iopub.execute_input": "2021-02-27T20:20:20.863290Z",
     "iopub.status.busy": "2021-02-27T20:20:20.863056Z",
     "iopub.status.idle": "2021-02-27T20:20:20.868155Z",
     "shell.execute_reply": "2021-02-27T20:20:20.867523Z",
     "shell.execute_reply.started": "2021-02-27T20:20:20.863272Z"
    }
   },
   "outputs": [
    {
     "name": "stdout",
     "output_type": "stream",
     "text": [
      "Ok!\n"
     ]
    }
   ],
   "source": [
    "# Check\n",
    "ok = True\n",
    "for entry in os.scandir('data'):\n",
    "  if not os.path.isfile(os.path.join(entry, 'features', 'DC.pkl')):\n",
    "    ok = False\n",
    "    print(entry)\n",
    "if ok: print('Ok!')"
   ]
  },
  {
   "cell_type": "code",
   "execution_count": 5,
   "id": "instructional-lafayette",
   "metadata": {
    "execution": {
     "iopub.execute_input": "2021-02-27T20:19:26.916839Z",
     "iopub.status.busy": "2021-02-27T20:19:26.916547Z",
     "iopub.status.idle": "2021-02-27T20:19:26.925144Z",
     "shell.execute_reply": "2021-02-27T20:19:26.924472Z",
     "shell.execute_reply.started": "2021-02-27T20:19:26.916810Z"
    }
   },
   "outputs": [],
   "source": [
    "def DC(path: str, verbose: bool = False, feature_name='DC'):\n",
    "  # Check if file exists\n",
    "  feature_path = os.path.join(path, 'features')\n",
    "  file = os.path.join(feature_path, f'{feature_name}.pkl')\n",
    "  if os.path.isfile(file): return \n",
    "  \n",
    "  os.makedirs(feature_path, exist_ok=True)\n",
    "\n",
    "  # Read in\n",
    "  edgelist_mature_file = os.path.join(path, 'edgelist_mature.pkl')\n",
    "  if verbose: print(f'Read {edgelist_mature_file}')\n",
    "  edgelist_mature = pd.read_pickle(edgelist_mature_file)\n",
    "  \n",
    "  instances_file = os.path.join(path, 'instances_sampled.npy')\n",
    "  if verbose: print(f'Read {instances_file}')  \n",
    "  instances_sampled = np.load(instances_file)\n",
    "\n",
    "  # Get all unique nodes in instances\n",
    "#   nodes = {node for instance in instances_sampled for node in instance}\n",
    "  \n",
    "  # Get graph\n",
    "  G = nx.from_pandas_edgelist(edgelist_mature)\n",
    "  \n",
    "  # Calculate per node\n",
    "  value_per_node = nx.degree_centrality(G)\n",
    "  \n",
    "  value_per_instance = [(value_per_node[u], value_per_node[v]) for u, v in instances_sampled]\n",
    "  \n",
    "  def diff(x): return abs(x[1]-x[0]) \n",
    "  \n",
    "  results = {\n",
    "    tlp.Experiment(feature=feature_name, time_aware=False, nodepair_strategy=strategy_str): (\n",
    "      np.array([strategy_func(instance) for instance in value_per_instance])) \n",
    "    for strategy_str, strategy_func in {'sum': sum, 'diff': diff, 'max': max, 'min': min}.items()\n",
    "  }\n",
    "  \n",
    "  joblib.dump(results, os.path.join(feature_path, f'{feature_name}.pkl'))"
   ]
  },
  {
   "cell_type": "code",
   "execution_count": 3,
   "id": "agreed-hudson",
   "metadata": {
    "execution": {
     "iopub.execute_input": "2021-02-27T20:03:35.317995Z",
     "iopub.status.busy": "2021-02-27T20:03:35.317651Z",
     "iopub.status.idle": "2021-02-27T20:03:38.211922Z",
     "shell.execute_reply": "2021-02-27T20:03:38.211179Z",
     "shell.execute_reply.started": "2021-02-27T20:03:35.317962Z"
    }
   },
   "outputs": [
    {
     "name": "stdout",
     "output_type": "stream",
     "text": [
      "Read data/13/edgelist_mature.pkl\n",
      "Read data/13/instances_sampled.npy\n"
     ]
    }
   ],
   "source": [
    "CC('data/13', verbose=True)"
   ]
  },
  {
   "cell_type": "code",
   "execution_count": 3,
   "id": "parental-princess",
   "metadata": {
    "execution": {
     "iopub.execute_input": "2021-02-27T20:09:48.075917Z",
     "iopub.status.busy": "2021-02-27T20:09:48.075729Z",
     "iopub.status.idle": "2021-02-27T20:11:44.597484Z",
     "shell.execute_reply": "2021-02-27T20:11:44.596668Z",
     "shell.execute_reply.started": "2021-02-27T20:09:48.075903Z"
    }
   },
   "outputs": [
    {
     "data": {
      "application/vnd.jupyter.widget-view+json": {
       "model_id": "",
       "version_major": 2,
       "version_minor": 0
      },
      "text/plain": [
       "  0%|          | 0/30 [00:00<?, ?it/s]"
      ]
     },
     "metadata": {},
     "output_type": "display_data"
    },
    {
     "data": {
      "text/plain": [
       "[None,\n",
       " None,\n",
       " None,\n",
       " None,\n",
       " None,\n",
       " None,\n",
       " None,\n",
       " None,\n",
       " None,\n",
       " None,\n",
       " None,\n",
       " None,\n",
       " None,\n",
       " None,\n",
       " None,\n",
       " None,\n",
       " None,\n",
       " None,\n",
       " None,\n",
       " None,\n",
       " None,\n",
       " None,\n",
       " None,\n",
       " None,\n",
       " None,\n",
       " None,\n",
       " None,\n",
       " None,\n",
       " None,\n",
       " None]"
      ]
     },
     "execution_count": 3,
     "metadata": {},
     "output_type": "execute_result"
    }
   ],
   "source": [
    "entries = sorted(os.scandir('data'), key=lambda x: x.name)\n",
    "tlp.ProgressParallel(n_jobs=len(entries), total=len(entries))(\n",
    "  joblib.delayed(DC)(entry.path) for entry in entries\n",
    ")"
   ]
  },
  {
   "cell_type": "code",
   "execution_count": null,
   "id": "dressed-disposition",
   "metadata": {},
   "outputs": [],
   "source": []
  }
 ],
 "metadata": {
  "kernelspec": {
   "display_name": "Python 3",
   "language": "python",
   "name": "python3"
  },
  "language_info": {
   "codemirror_mode": {
    "name": "ipython",
    "version": 3
   },
   "file_extension": ".py",
   "mimetype": "text/x-python",
   "name": "python",
   "nbconvert_exporter": "python",
   "pygments_lexer": "ipython3",
   "version": "3.9.1"
  }
 },
 "nbformat": 4,
 "nbformat_minor": 5
}
