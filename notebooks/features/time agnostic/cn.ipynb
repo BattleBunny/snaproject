{
 "cells": [
  {
   "cell_type": "code",
   "execution_count": 5,
   "id": "automatic-croatia",
   "metadata": {
    "execution": {
     "iopub.execute_input": "2021-02-27T14:26:52.090011Z",
     "iopub.status.busy": "2021-02-27T14:26:52.089699Z",
     "iopub.status.idle": "2021-02-27T14:26:52.101827Z",
     "shell.execute_reply": "2021-02-27T14:26:52.100963Z",
     "shell.execute_reply.started": "2021-02-27T14:26:52.089978Z"
    }
   },
   "outputs": [
    {
     "name": "stdout",
     "output_type": "stream",
     "text": [
      "/scratch/bruingjde/SNAM2021-code\n"
     ]
    }
   ],
   "source": [
    "%cd /scratch/bruingjde/SNAM2021-code/\n",
    "\n",
    "import os\n",
    "import typing\n",
    "\n",
    "import joblib\n",
    "import matplotlib.pyplot as plt\n",
    "import networkx as nx\n",
    "import numpy as np\n",
    "import pandas as pd\n",
    "import scipy\n",
    "import seaborn as sns\n",
    "import sklearn.linear_model\n",
    "import sklearn.model_selection\n",
    "import sklearn.metrics\n",
    "import sklearn.pipeline\n",
    "import sklearn.preprocessing\n",
    "from tqdm.auto import tqdm\n",
    "\n",
    "import tlp"
   ]
  },
  {
   "cell_type": "code",
   "execution_count": 18,
   "id": "russian-buyer",
   "metadata": {
    "execution": {
     "iopub.execute_input": "2021-02-27T20:23:13.698095Z",
     "iopub.status.busy": "2021-02-27T20:23:13.697743Z",
     "iopub.status.idle": "2021-02-27T20:23:13.704539Z",
     "shell.execute_reply": "2021-02-27T20:23:13.703665Z",
     "shell.execute_reply.started": "2021-02-27T20:23:13.698052Z"
    }
   },
   "outputs": [
    {
     "name": "stdout",
     "output_type": "stream",
     "text": [
      "Ok!\n"
     ]
    }
   ],
   "source": [
    "# Check\n",
    "ok = True\n",
    "for entry in os.scandir('data'):\n",
    "  if not os.path.isfile(os.path.join(entry, 'features', 'cn.pkl')):\n",
    "    ok = False\n",
    "    print(entry)\n",
    "if ok: print('Ok!')"
   ]
  },
  {
   "cell_type": "code",
   "execution_count": 6,
   "id": "considered-defeat",
   "metadata": {
    "execution": {
     "iopub.execute_input": "2021-02-27T14:26:54.875096Z",
     "iopub.status.busy": "2021-02-27T14:26:54.874787Z",
     "iopub.status.idle": "2021-02-27T14:26:54.884566Z",
     "shell.execute_reply": "2021-02-27T14:26:54.883971Z",
     "shell.execute_reply.started": "2021-02-27T14:26:54.875051Z"
    }
   },
   "outputs": [],
   "source": [
    "def cn(path: str, verbose: bool = False):\n",
    "  # Check if file exists\n",
    "  feature_path = os.path.join(path, 'features')\n",
    "  file = os.path.join(feature_path, 'cn.pkl')\n",
    "  if os.path.isfile(file): return \n",
    "  \n",
    "  os.makedirs(feature_path, exist_ok=True)\n",
    "\n",
    "  # Read in\n",
    "  edgelist_mature_file = os.path.join(path, 'edgelist_mature.pkl')\n",
    "  if verbose: print(f'Read {edgelist_mature_file}')\n",
    "  edgelist_mature = pd.read_pickle(edgelist_mature_file)\n",
    "  \n",
    "  instances_file = os.path.join(path, 'instances_sampled.npy')\n",
    "  if verbose: print(f'Read {instances_file}')  \n",
    "  instances_sampled = np.load(instances_file)\n",
    "\n",
    "  G = nx.from_pandas_edgelist(edgelist_mature)\n",
    "  \n",
    "  scores = [len(list(nx.common_neighbors(G, *instance))) for instance in tqdm(instances_sampled, disable=not verbose)]\n",
    "  \n",
    "  result = {tlp.Experiment(feature='CN', time_aware=False): np.array(scores)}\n",
    "  joblib.dump(result, os.path.join(feature_path, 'cn.pkl'))"
   ]
  },
  {
   "cell_type": "code",
   "execution_count": 15,
   "id": "respected-laundry",
   "metadata": {
    "execution": {
     "iopub.execute_input": "2021-02-27T20:20:52.505459Z",
     "iopub.status.busy": "2021-02-27T20:20:52.505116Z",
     "iopub.status.idle": "2021-02-27T20:22:37.999921Z",
     "shell.execute_reply": "2021-02-27T20:22:37.999104Z",
     "shell.execute_reply.started": "2021-02-27T20:20:52.505426Z"
    }
   },
   "outputs": [
    {
     "name": "stdout",
     "output_type": "stream",
     "text": [
      "Read data/27/edgelist_mature.pkl\n",
      "Read data/27/instances_sampled.npy\n"
     ]
    },
    {
     "data": {
      "application/vnd.jupyter.widget-view+json": {
       "model_id": "19b17c2068a24fe2b57eaeba3e00394b",
       "version_major": 2,
       "version_minor": 0
      },
      "text/plain": [
       "  0%|          | 0/20007 [00:00<?, ?it/s]"
      ]
     },
     "metadata": {},
     "output_type": "display_data"
    }
   ],
   "source": [
    "cn('data/27', verbose=True)"
   ]
  },
  {
   "cell_type": "code",
   "execution_count": null,
   "id": "educated-edinburgh",
   "metadata": {},
   "outputs": [],
   "source": [
    "entries = sorted(os.scandir('data'), key=lambda x: x.name)\n",
    "tlp.ProgressParallel(n_jobs=len(entries), total=len(entries))(\n",
    "  joblib.delayed(cn)(entry.path) for entry in entries\n",
    ")"
   ]
  },
  {
   "cell_type": "code",
   "execution_count": null,
   "id": "shared-fellowship",
   "metadata": {},
   "outputs": [],
   "source": []
  }
 ],
 "metadata": {
  "kernelspec": {
   "display_name": "Python 3",
   "language": "python",
   "name": "python3"
  },
  "language_info": {
   "codemirror_mode": {
    "name": "ipython",
    "version": 3
   },
   "file_extension": ".py",
   "mimetype": "text/x-python",
   "name": "python",
   "nbconvert_exporter": "python",
   "pygments_lexer": "ipython3",
   "version": "3.9.1"
  }
 },
 "nbformat": 4,
 "nbformat_minor": 5
}
