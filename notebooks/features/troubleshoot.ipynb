{
 "cells": [
  {
   "cell_type": "code",
   "execution_count": 3,
   "id": "exempt-spelling",
   "metadata": {
    "execution": {
     "iopub.execute_input": "2021-03-01T06:47:17.814303Z",
     "iopub.status.busy": "2021-03-01T06:47:17.813938Z",
     "iopub.status.idle": "2021-03-01T06:47:17.942516Z",
     "shell.execute_reply": "2021-03-01T06:47:17.941692Z",
     "shell.execute_reply.started": "2021-03-01T06:47:17.814270Z"
    }
   },
   "outputs": [
    {
     "name": "stdout",
     "output_type": "stream",
     "text": [
      "/scratch/bruingjde/SNAM2021-code\n"
     ]
    }
   ],
   "source": [
    "%cd /scratch/bruingjde/SNAM2021-code/\n",
    "\n",
    "import collections, os, typing\n",
    "\n",
    "import joblib\n",
    "import matplotlib.pyplot as plt\n",
    "import networkx as nx\n",
    "import numpy as np\n",
    "import pandas as pd\n",
    "import scipy\n",
    "import seaborn as sns\n",
    "import sklearn.linear_model\n",
    "import sklearn.model_selection\n",
    "import sklearn.metrics\n",
    "import sklearn.pipeline\n",
    "import sklearn.preprocessing\n",
    "from tqdm.auto import tqdm\n",
    "\n",
    "import tlp\n",
    "\n",
    "\n",
    "\n",
    "feature = 'jc'\n",
    "time_strategies = tlp.TIME_STRATEGIES\n",
    "aggregation_strategies = tlp.AGGREGATION_STRATEGIES\n",
    "\n",
    "hypergraph = {1, 2, 3, 5, 6, 7, 12, 13, 14, 19, 22, 23, 25, 26, 28, 29, 30}\n",
    "simplegraph = {4, 8, 9, 10, 11, 15, 16, 17, 18, 20, 21, 24, 27}"
   ]
  },
  {
   "cell_type": "code",
   "execution_count": 4,
   "id": "pressed-example",
   "metadata": {
    "execution": {
     "iopub.execute_input": "2021-03-01T06:47:36.639408Z",
     "iopub.status.busy": "2021-03-01T06:47:36.639136Z",
     "iopub.status.idle": "2021-03-01T06:47:36.645676Z",
     "shell.execute_reply": "2021-03-01T06:47:36.644799Z",
     "shell.execute_reply.started": "2021-03-01T06:47:36.639375Z"
    }
   },
   "outputs": [],
   "source": [
    "args = [\n",
    "  dict(index=index, time_str=time_str, time_func=time_func, agg_str=agg_str, agg_func=agg_func)\n",
    "  for index in hypergraph\n",
    "  for time_str, time_func in time_strategies.items()\n",
    "  for agg_str, agg_func in aggregation_strategies.items()\n",
    "] + [\n",
    "  dict(index=index, time_str=time_str, time_func=time_func)\n",
    "  for index in simplegraph\n",
    "  for time_str, time_func in time_strategies.items()\n",
    "]"
   ]
  },
  {
   "cell_type": "code",
   "execution_count": 5,
   "id": "remarkable-pharmacy",
   "metadata": {
    "execution": {
     "iopub.execute_input": "2021-03-01T06:47:39.391377Z",
     "iopub.status.busy": "2021-03-01T06:47:39.391149Z",
     "iopub.status.idle": "2021-03-01T06:47:39.398768Z",
     "shell.execute_reply": "2021-03-01T06:47:39.398054Z",
     "shell.execute_reply.started": "2021-03-01T06:47:39.391351Z"
    }
   },
   "outputs": [
    {
     "data": {
      "text/plain": [
       "{'index': 2,\n",
       " 'time_str': 'lin',\n",
       " 'time_func': <function tlp.getFeatures.strategies.lin(x: pandas.core.series.Series, lower_bound=0.2)>,\n",
       " 'agg_str': 'm3',\n",
       " 'agg_func': <function scipy.stats.stats.kurtosis(a, axis=0, fisher=True, bias=True, nan_policy='propagate')>}"
      ]
     },
     "execution_count": 5,
     "metadata": {},
     "output_type": "execute_result"
    }
   ],
   "source": [
    "args[35]"
   ]
  },
  {
   "cell_type": "code",
   "execution_count": 7,
   "id": "resident-despite",
   "metadata": {
    "execution": {
     "iopub.execute_input": "2021-03-01T06:48:40.241255Z",
     "iopub.status.busy": "2021-03-01T06:48:40.240944Z",
     "iopub.status.idle": "2021-03-01T06:48:40.265939Z",
     "shell.execute_reply": "2021-03-01T06:48:40.265181Z",
     "shell.execute_reply.started": "2021-03-01T06:48:40.241224Z"
    }
   },
   "outputs": [],
   "source": [
    "index = args[35]['index']\n",
    "edgelist_mature = pd.read_pickle(os.path.join('data', f'{index:02}', 'edgelist_mature.pkl'))\n",
    "instances = np.load(os.path.join(os.path.join('data', f'{index:02}', 'instances_sampled.npy')))"
   ]
  },
  {
   "cell_type": "code",
   "execution_count": 8,
   "id": "forced-shipping",
   "metadata": {
    "execution": {
     "iopub.execute_input": "2021-03-01T06:49:03.070814Z",
     "iopub.status.busy": "2021-03-01T06:49:03.070495Z",
     "iopub.status.idle": "2021-03-01T06:49:03.115027Z",
     "shell.execute_reply": "2021-03-01T06:49:03.114281Z",
     "shell.execute_reply.started": "2021-03-01T06:49:03.070782Z"
    }
   },
   "outputs": [],
   "source": [
    "edgelist_mature['datetime_transformed'] = args[35]['time_func'](edgelist_mature['datetime'])"
   ]
  },
  {
   "cell_type": "code",
   "execution_count": 9,
   "id": "blind-tourist",
   "metadata": {
    "execution": {
     "iopub.execute_input": "2021-03-01T06:49:09.796167Z",
     "iopub.status.busy": "2021-03-01T06:49:09.795866Z",
     "iopub.status.idle": "2021-03-01T06:49:18.291360Z",
     "shell.execute_reply": "2021-03-01T06:49:18.290467Z",
     "shell.execute_reply.started": "2021-03-01T06:49:09.796136Z"
    }
   },
   "outputs": [],
   "source": [
    "G = nx.from_pandas_edgelist(edgelist_mature, create_using=nx.MultiGraph, edge_attr=True)"
   ]
  },
  {
   "cell_type": "code",
   "execution_count": 10,
   "id": "referenced-aberdeen",
   "metadata": {
    "execution": {
     "iopub.execute_input": "2021-03-01T06:49:40.187087Z",
     "iopub.status.busy": "2021-03-01T06:49:40.186723Z",
     "iopub.status.idle": "2021-03-01T06:49:40.191269Z",
     "shell.execute_reply": "2021-03-01T06:49:40.190343Z",
     "shell.execute_reply.started": "2021-03-01T06:49:40.187046Z"
    }
   },
   "outputs": [],
   "source": [
    "agg_func = args[35]['agg_func']"
   ]
  },
  {
   "cell_type": "code",
   "execution_count": null,
   "id": "requested-active",
   "metadata": {
    "execution": {
     "iopub.execute_input": "2021-03-01T06:55:38.493608Z",
     "iopub.status.busy": "2021-03-01T06:55:38.493264Z"
    }
   },
   "outputs": [
    {
     "data": {
      "application/vnd.jupyter.widget-view+json": {
       "model_id": "0bfe632de4064846a085c8d94d005eef",
       "version_major": 2,
       "version_minor": 0
      },
      "text/plain": [
       "  0%|          | 0/20000 [00:00<?, ?it/s]"
      ]
     },
     "metadata": {},
     "output_type": "display_data"
    }
   ],
   "source": [
    "scores = [\n",
    "  (\n",
    "      sum([agg_func([edge_attributes['datetime_transformed'] for edge_attributes in G.get_edge_data(u, a).values()]) for a in G[u]]) +\n",
    "      sum([agg_func([edge_attributes['datetime_transformed'] for edge_attributes in G.get_edge_data(v, b).values()]) for b in G[v]])\n",
    "    )\n",
    "  for u, v in tqdm(instances)\n",
    "]"
   ]
  },
  {
   "cell_type": "code",
   "execution_count": 19,
   "id": "vietnamese-polyester",
   "metadata": {
    "execution": {
     "iopub.execute_input": "2021-03-01T06:55:00.040622Z",
     "iopub.status.busy": "2021-03-01T06:55:00.040301Z",
     "iopub.status.idle": "2021-03-01T06:55:00.048106Z",
     "shell.execute_reply": "2021-03-01T06:55:00.047463Z",
     "shell.execute_reply.started": "2021-03-01T06:55:00.040592Z"
    }
   },
   "outputs": [
    {
     "data": {
      "text/plain": [
       "-1412.5746890280057"
      ]
     },
     "execution_count": 19,
     "metadata": {},
     "output_type": "execute_result"
    }
   ],
   "source": [
    "np.min(scores)"
   ]
  },
  {
   "cell_type": "code",
   "execution_count": null,
   "id": "bound-debut",
   "metadata": {},
   "outputs": [],
   "source": []
  }
 ],
 "metadata": {
  "kernelspec": {
   "display_name": "Python 3",
   "language": "python",
   "name": "python3"
  },
  "language_info": {
   "codemirror_mode": {
    "name": "ipython",
    "version": 3
   },
   "file_extension": ".py",
   "mimetype": "text/x-python",
   "name": "python",
   "nbconvert_exporter": "python",
   "pygments_lexer": "ipython3",
   "version": "3.9.1"
  }
 },
 "nbformat": 4,
 "nbformat_minor": 5
}
