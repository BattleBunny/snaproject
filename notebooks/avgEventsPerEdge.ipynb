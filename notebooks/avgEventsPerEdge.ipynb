{
 "cells": [
  {
   "cell_type": "code",
   "execution_count": 1,
   "id": "informational-probability",
   "metadata": {
    "execution": {
     "iopub.execute_input": "2021-02-28T18:05:25.270714Z",
     "iopub.status.busy": "2021-02-28T18:05:25.270311Z",
     "iopub.status.idle": "2021-02-28T18:05:26.956730Z",
     "shell.execute_reply": "2021-02-28T18:05:26.955327Z",
     "shell.execute_reply.started": "2021-02-28T18:05:25.270609Z"
    }
   },
   "outputs": [
    {
     "name": "stdout",
     "output_type": "stream",
     "text": [
      "/scratch/bruingjde/SNAM2021-code\n"
     ]
    }
   ],
   "source": [
    "%cd /scratch/bruingjde/SNAM2021-code/\n",
    "\n",
    "import collections, os, typing\n",
    "\n",
    "import joblib\n",
    "import matplotlib.pyplot as plt\n",
    "import networkx as nx\n",
    "import numpy as np\n",
    "import pandas as pd\n",
    "import scipy\n",
    "import seaborn as sns\n",
    "import sklearn.linear_model\n",
    "import sklearn.model_selection\n",
    "import sklearn.metrics\n",
    "import sklearn.pipeline\n",
    "import sklearn.preprocessing\n",
    "from tqdm.auto import tqdm\n",
    "\n",
    "import tlp"
   ]
  },
  {
   "cell_type": "code",
   "execution_count": 21,
   "id": "neutral-retention",
   "metadata": {
    "execution": {
     "iopub.execute_input": "2021-02-28T18:19:45.048962Z",
     "iopub.status.busy": "2021-02-28T18:19:45.048727Z",
     "iopub.status.idle": "2021-02-28T18:19:45.053409Z",
     "shell.execute_reply": "2021-02-28T18:19:45.052812Z",
     "shell.execute_reply.started": "2021-02-28T18:19:45.048942Z"
    }
   },
   "outputs": [],
   "source": [
    "def events_per_edge(index):\n",
    "  edgelist = pd.read_pickle(os.path.join('data', f'{index:02}', 'edgelist.pkl'))\n",
    "  events = len(edgelist)\n",
    "  edges = len(edgelist[['source', 'target']].drop_duplicates())\n",
    "  return (index, events / edges)"
   ]
  },
  {
   "cell_type": "code",
   "execution_count": 22,
   "id": "attended-natural",
   "metadata": {
    "execution": {
     "iopub.execute_input": "2021-02-28T18:19:45.250201Z",
     "iopub.status.busy": "2021-02-28T18:19:45.249899Z",
     "iopub.status.idle": "2021-02-28T18:19:59.041864Z",
     "shell.execute_reply": "2021-02-28T18:19:59.041096Z",
     "shell.execute_reply.started": "2021-02-28T18:19:45.250178Z"
    }
   },
   "outputs": [
    {
     "data": {
      "application/vnd.jupyter.widget-view+json": {
       "model_id": "",
       "version_major": 2,
       "version_minor": 0
      },
      "text/plain": [
       "  0%|          | 0/30 [00:00<?, ?it/s]"
      ]
     },
     "metadata": {},
     "output_type": "display_data"
    }
   ],
   "source": [
    "result = tlp.ProgressParallel(n_jobs=30, total=30)(\n",
    "  joblib.delayed(events_per_edge)(index) for index in range(1, 31)\n",
    ")"
   ]
  },
  {
   "cell_type": "code",
   "execution_count": 24,
   "id": "technical-maine",
   "metadata": {
    "execution": {
     "iopub.execute_input": "2021-02-28T18:20:33.761946Z",
     "iopub.status.busy": "2021-02-28T18:20:33.761584Z",
     "iopub.status.idle": "2021-02-28T18:20:33.769170Z",
     "shell.execute_reply": "2021-02-28T18:20:33.768395Z",
     "shell.execute_reply.started": "2021-02-28T18:20:33.761908Z"
    }
   },
   "outputs": [
    {
     "data": {
      "text/plain": [
       "{1: True,\n",
       " 2: True,\n",
       " 3: True,\n",
       " 4: False,\n",
       " 5: True,\n",
       " 6: True,\n",
       " 7: True,\n",
       " 8: False,\n",
       " 9: False,\n",
       " 10: False,\n",
       " 11: False,\n",
       " 12: True,\n",
       " 13: True,\n",
       " 14: True,\n",
       " 15: False,\n",
       " 16: False,\n",
       " 17: False,\n",
       " 18: False,\n",
       " 19: True,\n",
       " 20: False,\n",
       " 21: False,\n",
       " 22: True,\n",
       " 23: True,\n",
       " 24: False,\n",
       " 25: True,\n",
       " 26: True,\n",
       " 27: False,\n",
       " 28: True,\n",
       " 29: True,\n",
       " 30: True}"
      ]
     },
     "execution_count": 24,
     "metadata": {},
     "output_type": "execute_result"
    }
   ],
   "source": [
    "{index: events_per_edge > 1.05 for index, events_per_edge in result}"
   ]
  },
  {
   "cell_type": "code",
   "execution_count": 25,
   "id": "expanded-liechtenstein",
   "metadata": {
    "execution": {
     "iopub.execute_input": "2021-02-28T18:20:45.794710Z",
     "iopub.status.busy": "2021-02-28T18:20:45.794365Z",
     "iopub.status.idle": "2021-02-28T18:20:45.801773Z",
     "shell.execute_reply": "2021-02-28T18:20:45.800852Z",
     "shell.execute_reply.started": "2021-02-28T18:20:45.794675Z"
    }
   },
   "outputs": [],
   "source": [
    "hypergraph = {\n",
    "  1: True, 2: True, 3: True, 4: False, 5: True, 6: True, 7: True, 8: False, 9: False, 10: False, 11: False, 12: True, 13: True, 14: True, 15: False, \n",
    "  16: False, 17: False, 18: False, 19: True, 20: False, 21: False, 22: True, 23: True, 24: False, 25: True, 26: True, 27: False, 28: True, 29: True, 30: True\n",
    "}"
   ]
  },
  {
   "cell_type": "code",
   "execution_count": null,
   "id": "simple-layout",
   "metadata": {},
   "outputs": [],
   "source": []
  }
 ],
 "metadata": {
  "kernelspec": {
   "display_name": "Python 3",
   "language": "python",
   "name": "python3"
  },
  "language_info": {
   "codemirror_mode": {
    "name": "ipython",
    "version": 3
   },
   "file_extension": ".py",
   "mimetype": "text/x-python",
   "name": "python",
   "nbconvert_exporter": "python",
   "pygments_lexer": "ipython3",
   "version": "3.9.1"
  }
 },
 "nbformat": 4,
 "nbformat_minor": 5
}
