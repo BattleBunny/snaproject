{
 "cells": [
  {
   "cell_type": "code",
   "execution_count": 1,
   "id": "educational-rolling",
   "metadata": {
    "execution": {
     "iopub.execute_input": "2021-03-01T22:03:56.436806Z",
     "iopub.status.busy": "2021-03-01T22:03:56.436416Z",
     "iopub.status.idle": "2021-03-01T22:03:58.020559Z",
     "shell.execute_reply": "2021-03-01T22:03:58.019634Z",
     "shell.execute_reply.started": "2021-03-01T22:03:56.436702Z"
    }
   },
   "outputs": [
    {
     "name": "stdout",
     "output_type": "stream",
     "text": [
      "/scratch/bruingjde/SNAM2021-code\n"
     ]
    }
   ],
   "source": [
    "%cd /scratch/bruingjde/SNAM2021-code/\n",
    "\n",
    "from constants import *"
   ]
  },
  {
   "cell_type": "code",
   "execution_count": 2,
   "id": "convertible-bread",
   "metadata": {
    "execution": {
     "iopub.execute_input": "2021-03-01T22:03:58.021742Z",
     "iopub.status.busy": "2021-03-01T22:03:58.021564Z",
     "iopub.status.idle": "2021-03-01T22:09:26.013838Z",
     "shell.execute_reply": "2021-03-01T22:09:26.012503Z",
     "shell.execute_reply.started": "2021-03-01T22:03:58.021720Z"
    }
   },
   "outputs": [
    {
     "data": {
      "application/vnd.jupyter.widget-view+json": {
       "model_id": "",
       "version_major": 2,
       "version_minor": 0
      },
      "text/plain": [
       "  0%|          | 0/26 [00:00<?, ?it/s]"
      ]
     },
     "metadata": {},
     "output_type": "display_data"
    }
   ],
   "source": [
    "size = tlp.ProgressParallel(n_jobs=network_count, total=network_count)(\n",
    "  joblib.delayed(get_size)(network_index) for network_index in network_indices\n",
    ")\n",
    "  \n",
    "size = pd.DataFrame(size)"
   ]
  },
  {
   "cell_type": "code",
   "execution_count": 3,
   "id": "blessed-philippines",
   "metadata": {
    "execution": {
     "iopub.execute_input": "2021-03-01T22:09:26.016533Z",
     "iopub.status.busy": "2021-03-01T22:09:26.016247Z",
     "iopub.status.idle": "2021-03-01T22:09:26.069341Z",
     "shell.execute_reply": "2021-03-01T22:09:26.068325Z",
     "shell.execute_reply.started": "2021-03-01T22:09:26.016493Z"
    }
   },
   "outputs": [
    {
     "data": {
      "application/vnd.jupyter.widget-view+json": {
       "model_id": "58121d1420f0477082748e9f10d3bb62",
       "version_major": 2,
       "version_minor": 0
      },
      "text/plain": [
       "  0%|          | 0/26 [00:00<?, ?it/s]"
      ]
     },
     "metadata": {},
     "output_type": "display_data"
    }
   ],
   "source": [
    "stats = get_all_stats(network_indices=network_indices)\n",
    " \n",
    "stats = stats[['density', 'degree assortativity', 'average clustering coefficient']]"
   ]
  },
  {
   "cell_type": "code",
   "execution_count": 4,
   "id": "after-arabic",
   "metadata": {
    "execution": {
     "iopub.execute_input": "2021-03-01T22:09:26.071106Z",
     "iopub.status.busy": "2021-03-01T22:09:26.070817Z",
     "iopub.status.idle": "2021-03-01T22:09:26.175378Z",
     "shell.execute_reply": "2021-03-01T22:09:26.174306Z",
     "shell.execute_reply.started": "2021-03-01T22:09:26.071039Z"
    }
   },
   "outputs": [
    {
     "data": {
      "application/vnd.jupyter.widget-view+json": {
       "model_id": "19950b1f884a406a95e8a5f8e4a74032",
       "version_major": 2,
       "version_minor": 0
      },
      "text/plain": [
       "  0%|          | 0/26 [00:00<?, ?it/s]"
      ]
     },
     "metadata": {},
     "output_type": "display_data"
    }
   ],
   "source": [
    "diameter = get_diameter()"
   ]
  },
  {
   "cell_type": "code",
   "execution_count": 7,
   "id": "environmental-evidence",
   "metadata": {
    "execution": {
     "iopub.execute_input": "2021-03-01T22:12:05.920667Z",
     "iopub.status.busy": "2021-03-01T22:12:05.920279Z",
     "iopub.status.idle": "2021-03-01T22:12:12.097137Z",
     "shell.execute_reply": "2021-03-01T22:12:12.086197Z",
     "shell.execute_reply.started": "2021-03-01T22:12:05.920627Z"
    }
   },
   "outputs": [],
   "source": [
    "def logistic_regression_I(network_index: int):\n",
    "  X = dict()\n",
    "  for heuristic in ['aa', 'cn', 'jc', 'pa']:\n",
    "    X[heuristic] = np.load(\n",
    "      f'data/{network_index:02}/features/time_agnostic/{heuristic}.npy')\n",
    "  X = pd.DataFrame(X)\n",
    "    \n",
    "  y = np.load(f'data/{network_index:02}/targets_sampled.npy')\n",
    "  \n",
    "  X_train, X_test, y_train, y_test = (\n",
    "    sklearn.model_selection.train_test_split(X, y))\n",
    "  pipe = sklearn.pipeline.make_pipeline(\n",
    "    sklearn.preprocessing.StandardScaler(),\n",
    "    sklearn.linear_model.LogisticRegression(max_iter=10000)) # type: ignore\n",
    "  pipe.fit(X_train, y_train)\n",
    "  \n",
    "  auc = sklearn.metrics.roc_auc_score(\n",
    "    y_true=y_test, y_score=pipe.predict_proba(X_test)[:,1]) # type: ignore\n",
    "  \n",
    "  return auc\n",
    "\n",
    "auc_I = {\n",
    "  network_index: logistic_regression_I(network_index) \n",
    "  for network_index in network_indices}"
   ]
  },
  {
   "cell_type": "code",
   "execution_count": 9,
   "id": "wired-spice",
   "metadata": {
    "execution": {
     "iopub.execute_input": "2021-03-01T22:13:35.216438Z",
     "iopub.status.busy": "2021-03-01T22:13:35.216059Z",
     "iopub.status.idle": "2021-03-01T22:14:49.402349Z",
     "shell.execute_reply": "2021-03-01T22:14:49.401246Z",
     "shell.execute_reply.started": "2021-03-01T22:13:35.216402Z"
    }
   },
   "outputs": [],
   "source": [
    "def logistic_regression_I_II(network_index: int, hypergraph: bool):\n",
    "  X = dict()\n",
    "  for heuristic in ['aa', 'cn', 'jc', 'pa']:\n",
    "    X[heuristic] = (\n",
    "      np.load(\n",
    "        f'data/{network_index:02}/features/time_agnostic/{heuristic}.npy'))\n",
    "    \n",
    "  if hypergraph:\n",
    "    for time_strategy in time_strategies:\n",
    "      for nodepair_strategy in nodepair_strategies:\n",
    "        for aggregation_strategy in aggregation_strategies:\n",
    "          X[(time_strategy, nodepair_strategy, aggregation_strategy)] = (\n",
    "            np.load(\n",
    "              f'data/{network_index:02}/features/time_node/'\n",
    "              f'{time_strategy}_{nodepair_strategy}_{aggregation_strategy}.npy'\n",
    "            ))\n",
    "  else:\n",
    "    for time_strategy in time_strategies:\n",
    "      for nodepair_strategy in nodepair_strategies:\n",
    "          X[(time_strategy, nodepair_strategy)] = (\n",
    "            np.load(\n",
    "              f'data/{network_index:02}/features/time_node/'\n",
    "              f'{time_strategy}_{nodepair_strategy}.npy'))\n",
    "    \n",
    "  X = pd.DataFrame(X)\n",
    "    \n",
    "  y = np.load(f'data/{network_index:02}/targets_sampled.npy')\n",
    "  \n",
    "  X_train, X_test, y_train, y_test = (\n",
    "    sklearn.model_selection.train_test_split(X, y))\n",
    "  pipe = sklearn.pipeline.make_pipeline(\n",
    "    sklearn.preprocessing.StandardScaler(),\n",
    "    sklearn.linear_model.LogisticRegression(max_iter=10000))\n",
    "  pipe.fit(X_train, y_train)\n",
    "  \n",
    "  auc = sklearn.metrics.roc_auc_score(\n",
    "    y_true=y_test, y_score=pipe.predict_proba(X_test)[:,1])\n",
    "  \n",
    "  return auc\n",
    "\n",
    "auc_I_II = {\n",
    "  network_index: (\n",
    "    logistic_regression_I_II(\n",
    "      network_index, hypergraph=network_index in hypergraphs\n",
    "    )\n",
    "  )\n",
    "  for network_index in network_indices\n",
    "}"
   ]
  },
  {
   "cell_type": "code",
   "execution_count": 11,
   "id": "herbal-plumbing",
   "metadata": {
    "execution": {
     "iopub.execute_input": "2021-03-01T22:17:18.860659Z",
     "iopub.status.busy": "2021-03-01T22:17:18.860256Z",
     "iopub.status.idle": "2021-03-01T22:18:03.842635Z",
     "shell.execute_reply": "2021-03-01T22:18:03.830466Z",
     "shell.execute_reply.started": "2021-03-01T22:17:18.860619Z"
    }
   },
   "outputs": [],
   "source": [
    "def logistic_regression_III(network_index: int, hypergraph: bool):\n",
    "  X = dict()\n",
    "  \n",
    "  for heuristic in ['aa', 'cn', 'jc', 'pa']:  \n",
    "    for time_strategy in time_strategies:\n",
    "      if hypergraph:\n",
    "        for aggregation_strategy in aggregation_strategies:\n",
    "          if aggregation_strategy not in ['m2', 'm3']:\n",
    "            X[(heuristic, time_strategy, aggregation_strategy)] = np.load(\n",
    "                f'data/{network_index:02}/features/time_edge/'\n",
    "                f'{heuristic}_{time_strategy}_{aggregation_strategy}.npy')\n",
    "      else:\n",
    "        X[(heuristic, time_strategy)] = np.load(\n",
    "          f'data/{network_index:02}/features/time_edge/'\n",
    "          f'{heuristic}_{time_strategy}.npy')\n",
    "    \n",
    "  X = pd.DataFrame(X)\n",
    "    \n",
    "  y = np.load(f'data/{network_index:02}/targets_sampled.npy')\n",
    "  \n",
    "  X_train, X_test, y_train, y_test = (\n",
    "    sklearn.model_selection.train_test_split(X, y))\n",
    "  pipe = sklearn.pipeline.make_pipeline(\n",
    "    sklearn.preprocessing.StandardScaler(),\n",
    "    sklearn.linear_model.LogisticRegression(max_iter=10000))\n",
    "  pipe.fit(X_train, y_train)\n",
    "  \n",
    "  auc = sklearn.metrics.roc_auc_score(\n",
    "    y_true=y_test, y_score=pipe.predict_proba(X_test)[:,1])\n",
    "  \n",
    "  return auc\n",
    "\n",
    "auc_III = {\n",
    "  network_index: logistic_regression_III(\n",
    "    network_index, hypergraph=network_index in hypergraphs)\n",
    "  for network_index in network_indices}"
   ]
  },
  {
   "cell_type": "code",
   "execution_count": 19,
   "id": "macro-farmer",
   "metadata": {
    "execution": {
     "iopub.execute_input": "2021-03-01T22:19:53.867346Z",
     "iopub.status.busy": "2021-03-01T22:19:53.866828Z",
     "iopub.status.idle": "2021-03-01T22:19:53.878619Z",
     "shell.execute_reply": "2021-03-01T22:19:53.877904Z",
     "shell.execute_reply.started": "2021-03-01T22:19:53.867309Z"
    }
   },
   "outputs": [],
   "source": [
    "df = pd.concat([\n",
    "  size,\n",
    "  stats,\n",
    "  diameter,\n",
    "  pd.Series(auc_I, name='I'),\n",
    "  pd.Series(auc_I_II, name='I+II'),\n",
    "  pd.Series(auc_III, name='III')\n",
    "], axis=1)"
   ]
  },
  {
   "cell_type": "code",
   "execution_count": 21,
   "id": "swedish-offer",
   "metadata": {
    "execution": {
     "iopub.execute_input": "2021-03-01T22:20:09.443147Z",
     "iopub.status.busy": "2021-03-01T22:20:09.441970Z",
     "iopub.status.idle": "2021-03-01T22:20:09.452095Z",
     "shell.execute_reply": "2021-03-01T22:20:09.450663Z",
     "shell.execute_reply.started": "2021-03-01T22:20:09.443036Z"
    }
   },
   "outputs": [
    {
     "data": {
      "text/plain": [
       "Index(['nodes', 'edges', 'events', 'density', 'degree assortativity',\n",
       "       'average clustering coefficient', 'diameter', 'I', 'I+II', 'III'],\n",
       "      dtype='object')"
      ]
     },
     "execution_count": 21,
     "metadata": {},
     "output_type": "execute_result"
    }
   ],
   "source": [
    "df.columns"
   ]
  },
  {
   "cell_type": "code",
   "execution_count": 28,
   "id": "developed-characteristic",
   "metadata": {
    "execution": {
     "iopub.execute_input": "2021-03-01T22:22:36.072466Z",
     "iopub.status.busy": "2021-03-01T22:22:36.072102Z",
     "iopub.status.idle": "2021-03-01T22:22:36.970814Z",
     "shell.execute_reply": "2021-03-01T22:22:36.968652Z",
     "shell.execute_reply.started": "2021-03-01T22:22:36.072418Z"
    }
   },
   "outputs": [
    {
     "data": {
      "image/png": "[encoded data removed]",
      "text/plain": [
       "<Figure size 432x288 with 2 Axes>"
      ]
     },
     "metadata": {
      "needs_background": "light"
     },
     "output_type": "display_data"
    }
   ],
   "source": [
    "sns.heatmap(\n",
    "  df.corr().loc[['I', 'I+II', 'III']].T, \n",
    "  vmin=-1, vmax=1, annot=True, fmt='.2f', cmap='RdBu')\n",
    "plt.yticks(rotation=0) \n",
    "plt.tight_layout()\n",
    "plt.savefig('figures/heatmap.pdf')"
   ]
  },
  {
   "cell_type": "code",
   "execution_count": null,
   "id": "official-moderator",
   "metadata": {},
   "outputs": [],
   "source": []
  }
 ],
 "metadata": {
  "kernelspec": {
   "display_name": "Python 3",
   "language": "python",
   "name": "python3"
  },
  "language_info": {
   "codemirror_mode": {
    "name": "ipython",
    "version": 3
   },
   "file_extension": ".py",
   "mimetype": "text/x-python",
   "name": "python",
   "nbconvert_exporter": "python",
   "pygments_lexer": "ipython3",
   "version": "3.9.1"
  }
 },
 "nbformat": 4,
 "nbformat_minor": 5
}
