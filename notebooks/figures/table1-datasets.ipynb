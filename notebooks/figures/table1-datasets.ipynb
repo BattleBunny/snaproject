{
 "cells": [
  {
   "cell_type": "markdown",
   "id": "statewide-prize",
   "metadata": {
    "execution": {
     "iopub.execute_input": "2021-03-01T19:53:47.587838Z",
     "iopub.status.busy": "2021-03-01T19:53:47.587565Z",
     "iopub.status.idle": "2021-03-01T19:53:49.015702Z",
     "shell.execute_reply": "2021-03-01T19:53:49.014828Z",
     "shell.execute_reply.started": "2021-03-01T19:53:47.587758Z"
    }
   },
   "source": [
    "##### %cd /scratch/bruingjde/SNAM2021-code/\n",
    "\n",
    "from constants import *"
   ]
  },
  {
   "cell_type": "code",
   "execution_count": 86,
   "id": "final-contributor",
   "metadata": {
    "execution": {
     "iopub.execute_input": "2021-03-01T20:23:30.549650Z",
     "iopub.status.busy": "2021-03-01T20:23:30.549244Z",
     "iopub.status.idle": "2021-03-01T20:23:30.564919Z",
     "shell.execute_reply": "2021-03-01T20:23:30.563843Z",
     "shell.execute_reply.started": "2021-03-01T20:23:30.549612Z"
    }
   },
   "outputs": [],
   "source": [
    "df = pd.DataFrame(networks)\n",
    "df['type'] = df['index'].isin(hypergraphs).replace({True: 'E', False: 'P'})\n",
    "df.set_index('index', inplace=True)\n",
    "df.drop(columns=['old_category'], inplace=True)\n",
    "df.replace(\n",
    "  {'category': {'social': 'S', 'information': 'I', 'technological': 'T'}},\n",
    "  inplace=True)\n",
    "df.rename(columns={'category': 'cat'}, inplace=True)"
   ]
  },
  {
   "cell_type": "code",
   "execution_count": 40,
   "id": "timely-knock",
   "metadata": {
    "execution": {
     "iopub.execute_input": "2021-03-01T20:07:29.401355Z",
     "iopub.status.busy": "2021-03-01T20:07:29.401031Z",
     "iopub.status.idle": "2021-03-01T20:08:41.876987Z",
     "shell.execute_reply": "2021-03-01T20:08:41.875965Z",
     "shell.execute_reply.started": "2021-03-01T20:07:29.401323Z"
    }
   },
   "outputs": [
    {
     "data": {
      "application/vnd.jupyter.widget-view+json": {
       "model_id": "",
       "version_major": 2,
       "version_minor": 0
      },
      "text/plain": [
       "  0%|          | 0/26 [00:00<?, ?it/s]"
      ]
     },
     "metadata": {},
     "output_type": "display_data"
    }
   ],
   "source": [
    "def get_size(network: int):\n",
    "  edgelist = pd.read_pickle(f'data/{network:02}/edgelist.pkl')\n",
    "  graph = nx.from_pandas_edgelist(edgelist)\n",
    "  return pd.Series(\n",
    "    dict(nodes=graph.number_of_nodes(), edges=graph.number_of_edges()),\n",
    "    name=network\n",
    "  )\n",
    "\n",
    "size = tlp.ProgressParallel(n_jobs=network_count, total=network_count)(\n",
    "  joblib.delayed(get_size)(network) for network in network_indices\n",
    ")\n",
    "\n",
    "def convert_int_to_short(x: int):\n",
    "  if x > 2000000: return f'{x/1000000:.0f}M'\n",
    "  elif x > 1000000: return f'{x/1000000:.1f}M'\n",
    "  elif x > 2000: return f'{x/1000:.0f}K'\n",
    "  elif x > 1000: return f'{x/1000:.1f}K'\n",
    "  else: return str(x)\n",
    "  \n",
    "size = pd.DataFrame(size).applymap(convert_int_to_short)\n",
    "size.rename(dict(nodes='n', edges='m'), inplace=True)"
   ]
  },
  {
   "cell_type": "code",
   "execution_count": 122,
   "id": "threatened-acrylic",
   "metadata": {
    "execution": {
     "iopub.execute_input": "2021-03-03T19:38:44.231415Z",
     "iopub.status.busy": "2021-03-03T19:38:44.230013Z",
     "iopub.status.idle": "2021-03-03T19:38:44.290211Z",
     "shell.execute_reply": "2021-03-03T19:38:44.289171Z",
     "shell.execute_reply.started": "2021-03-03T19:38:44.231363Z"
    }
   },
   "outputs": [
    {
     "data": {
      "application/vnd.jupyter.widget-view+json": {
       "model_id": "cdd189669a714a379d41a31bbb275a65",
       "version_major": 2,
       "version_minor": 0
      },
      "text/plain": [
       "  0%|          | 0/26 [00:00<?, ?it/s]"
      ]
     },
     "metadata": {},
     "output_type": "display_data"
    }
   ],
   "source": [
    "stats = dict()\n",
    "for network in tqdm(network_indices):\n",
    "  with open(f'data/{network:02}/stats.json') as file:\n",
    "    stats[network] = json.load(file)\n",
    "stats = pd.DataFrame.from_dict(stats, orient='index')\n",
    "stats.rename(\n",
    "  columns={\n",
    "    'density (nx.Graph)': 'density', \n",
    "    'degree assortativity (nx.Graph)': 'da',\n",
    "    'average clustering coefficient': 'acc'}, \n",
    "  inplace=True)\n",
    "\n",
    "def scientific_notation(x): \n",
    "  x = f'{x:.0e}'\n",
    "  return x[:3] + x[4]\n",
    "  \n",
    "stats['density'] = stats['density'].apply(scientific_notation)\n",
    "stats['da'] = stats['da'].round(2)\n",
    "stats['acc'] = stats['acc'].round(2)\n",
    "# stats = stats[['density', 'da', 'acc']]"
   ]
  },
  {
   "cell_type": "code",
   "execution_count": 116,
   "id": "formed-score",
   "metadata": {
    "execution": {
     "iopub.execute_input": "2021-03-01T21:53:43.105344Z",
     "iopub.status.busy": "2021-03-01T21:53:43.104780Z",
     "iopub.status.idle": "2021-03-01T21:53:43.153954Z",
     "shell.execute_reply": "2021-03-01T21:53:43.152927Z",
     "shell.execute_reply.started": "2021-03-01T21:53:43.105306Z"
    }
   },
   "outputs": [
    {
     "data": {
      "application/vnd.jupyter.widget-view+json": {
       "model_id": "7a9300e5dcac41cc8814db5e0b542697",
       "version_major": 2,
       "version_minor": 0
      },
      "text/plain": [
       "  0%|          | 0/26 [00:00<?, ?it/s]"
      ]
     },
     "metadata": {},
     "output_type": "display_data"
    }
   ],
   "source": [
    "diameter = get_diameter()"
   ]
  },
  {
   "cell_type": "code",
   "execution_count": 126,
   "id": "negative-investigator",
   "metadata": {
    "execution": {
     "iopub.execute_input": "2021-03-03T19:39:15.909845Z",
     "iopub.status.busy": "2021-03-03T19:39:15.909587Z",
     "iopub.status.idle": "2021-03-03T19:39:15.928277Z",
     "shell.execute_reply": "2021-03-03T19:39:15.926983Z",
     "shell.execute_reply.started": "2021-03-03T19:39:15.909815Z"
    }
   },
   "outputs": [],
   "source": [
    "result = pd.concat([df, size, stats, diameter], axis=1)\n",
    "result.dropna(inplace=True)\n",
    "result = result.astype(dict(diam=int))\n",
    "result.reset_index(inplace=True, drop=True)\n",
    "result.index = result.index + 1"
   ]
  },
  {
   "cell_type": "code",
   "execution_count": 132,
   "id": "historical-failing",
   "metadata": {
    "execution": {
     "iopub.execute_input": "2021-03-03T19:42:34.233916Z",
     "iopub.status.busy": "2021-03-03T19:42:34.233614Z",
     "iopub.status.idle": "2021-03-03T19:42:34.249337Z",
     "shell.execute_reply": "2021-03-03T19:42:34.248359Z",
     "shell.execute_reply.started": "2021-03-03T19:42:34.233885Z"
    }
   },
   "outputs": [
    {
     "data": {
      "text/html": [
       "<div>\n",
       "<style scoped>\n",
       "    .dataframe tbody tr th:only-of-type {\n",
       "        vertical-align: middle;\n",
       "    }\n",
       "\n",
       "    .dataframe tbody tr th {\n",
       "        vertical-align: top;\n",
       "    }\n",
       "\n",
       "    .dataframe thead th {\n",
       "        text-align: right;\n",
       "    }\n",
       "</style>\n",
       "<table border=\"1\" class=\"dataframe\">\n",
       "  <thead>\n",
       "    <tr style=\"text-align: right;\">\n",
       "      <th></th>\n",
       "      <th>label</th>\n",
       "      <th>avg events per pair</th>\n",
       "    </tr>\n",
       "  </thead>\n",
       "  <tbody>\n",
       "    <tr>\n",
       "      <th>4</th>\n",
       "      <td>FB-w</td>\n",
       "      <td>1.000000</td>\n",
       "    </tr>\n",
       "    <tr>\n",
       "      <th>8</th>\n",
       "      <td>FB-l</td>\n",
       "      <td>1.000000</td>\n",
       "    </tr>\n",
       "    <tr>\n",
       "      <th>11</th>\n",
       "      <td>D-v</td>\n",
       "      <td>1.009546</td>\n",
       "    </tr>\n",
       "    <tr>\n",
       "      <th>9</th>\n",
       "      <td>D-rep</td>\n",
       "      <td>1.015235</td>\n",
       "    </tr>\n",
       "    <tr>\n",
       "      <th>22</th>\n",
       "      <td>loans</td>\n",
       "      <td>1.019506</td>\n",
       "    </tr>\n",
       "    <tr>\n",
       "      <th>19</th>\n",
       "      <td>chess</td>\n",
       "      <td>1.050273</td>\n",
       "    </tr>\n",
       "    <tr>\n",
       "      <th>10</th>\n",
       "      <td>D-f</td>\n",
       "      <td>1.118615</td>\n",
       "    </tr>\n",
       "    <tr>\n",
       "      <th>15</th>\n",
       "      <td>trust</td>\n",
       "      <td>1.209968</td>\n",
       "    </tr>\n",
       "    <tr>\n",
       "      <th>6</th>\n",
       "      <td>HepTh</td>\n",
       "      <td>1.353547</td>\n",
       "    </tr>\n",
       "    <tr>\n",
       "      <th>23</th>\n",
       "      <td>Wiki</td>\n",
       "      <td>1.438842</td>\n",
       "    </tr>\n",
       "    <tr>\n",
       "      <th>5</th>\n",
       "      <td>Condm</td>\n",
       "      <td>1.593639</td>\n",
       "    </tr>\n",
       "    <tr>\n",
       "      <th>18</th>\n",
       "      <td>bitOT</td>\n",
       "      <td>1.722823</td>\n",
       "    </tr>\n",
       "    <tr>\n",
       "      <th>16</th>\n",
       "      <td>bitA</td>\n",
       "      <td>1.746068</td>\n",
       "    </tr>\n",
       "    <tr>\n",
       "      <th>21</th>\n",
       "      <td>SX-SU</td>\n",
       "      <td>1.838463</td>\n",
       "    </tr>\n",
       "    <tr>\n",
       "      <th>20</th>\n",
       "      <td>SX-AU</td>\n",
       "      <td>1.898487</td>\n",
       "    </tr>\n",
       "    <tr>\n",
       "      <th>2</th>\n",
       "      <td>HepPh</td>\n",
       "      <td>1.944224</td>\n",
       "    </tr>\n",
       "    <tr>\n",
       "      <th>24</th>\n",
       "      <td>Rbody</td>\n",
       "      <td>2.257692</td>\n",
       "    </tr>\n",
       "    <tr>\n",
       "      <th>25</th>\n",
       "      <td>Rtit</td>\n",
       "      <td>2.460012</td>\n",
       "    </tr>\n",
       "    <tr>\n",
       "      <th>14</th>\n",
       "      <td>SX-MO</td>\n",
       "      <td>2.533092</td>\n",
       "    </tr>\n",
       "    <tr>\n",
       "      <th>1</th>\n",
       "      <td>DBLP</td>\n",
       "      <td>3.533745</td>\n",
       "    </tr>\n",
       "    <tr>\n",
       "      <th>3</th>\n",
       "      <td>Enron</td>\n",
       "      <td>3.836883</td>\n",
       "    </tr>\n",
       "    <tr>\n",
       "      <th>13</th>\n",
       "      <td>UC</td>\n",
       "      <td>4.795904</td>\n",
       "    </tr>\n",
       "    <tr>\n",
       "      <th>7</th>\n",
       "      <td>AMin</td>\n",
       "      <td>7.082018</td>\n",
       "    </tr>\n",
       "    <tr>\n",
       "      <th>17</th>\n",
       "      <td>Dem</td>\n",
       "      <td>8.793729</td>\n",
       "    </tr>\n",
       "    <tr>\n",
       "      <th>26</th>\n",
       "      <td>EU</td>\n",
       "      <td>20.688123</td>\n",
       "    </tr>\n",
       "    <tr>\n",
       "      <th>12</th>\n",
       "      <td>Rado</td>\n",
       "      <td>25.508151</td>\n",
       "    </tr>\n",
       "  </tbody>\n",
       "</table>\n",
       "</div>"
      ],
      "text/plain": [
       "    label  avg events per pair\n",
       "4    FB-w             1.000000\n",
       "8    FB-l             1.000000\n",
       "11    D-v             1.009546\n",
       "9   D-rep             1.015235\n",
       "22  loans             1.019506\n",
       "19  chess             1.050273\n",
       "10    D-f             1.118615\n",
       "15  trust             1.209968\n",
       "6   HepTh             1.353547\n",
       "23   Wiki             1.438842\n",
       "5   Condm             1.593639\n",
       "18  bitOT             1.722823\n",
       "16   bitA             1.746068\n",
       "21  SX-SU             1.838463\n",
       "20  SX-AU             1.898487\n",
       "2   HepPh             1.944224\n",
       "24  Rbody             2.257692\n",
       "25   Rtit             2.460012\n",
       "14  SX-MO             2.533092\n",
       "1    DBLP             3.533745\n",
       "3   Enron             3.836883\n",
       "13     UC             4.795904\n",
       "7    AMin             7.082018\n",
       "17    Dem             8.793729\n",
       "26     EU            20.688123\n",
       "12   Rado            25.508151"
      ]
     },
     "execution_count": 132,
     "metadata": {},
     "output_type": "execute_result"
    }
   ],
   "source": [
    "result[['label', 'avg events per pair']].sort_values('avg events per pair')"
   ]
  },
  {
   "cell_type": "code",
   "execution_count": 114,
   "id": "unknown-bowling",
   "metadata": {
    "execution": {
     "iopub.execute_input": "2021-03-01T21:19:49.416186Z",
     "iopub.status.busy": "2021-03-01T21:19:49.415781Z",
     "iopub.status.idle": "2021-03-01T21:19:49.455342Z",
     "shell.execute_reply": "2021-03-01T21:19:49.454401Z",
     "shell.execute_reply.started": "2021-03-01T21:19:49.416135Z"
    }
   },
   "outputs": [
    {
     "name": "stdout",
     "output_type": "stream",
     "text": [
      "\\begin{table}\n",
      "\\centering\n",
      "\\caption{Networks used in this work.The following abbreviations are used in the columns; cat: category, da: degree assortativity, acc: average clustering coefficient, diam: diameter. In the column type, E marks a discrete event network, P indicates a network with persistent interactions.The K and M indicates thousands and millions, respectively. e marks the exponent of 10, i.e. 2e-5 = $2\\times 10^{-5}$}\n",
      "\\label{table:datasets}\n",
      "\\begin{tabular}{lllllllrrr}\n",
      "\\toprule\n",
      "{} &  label & cat & type & nodes & edges & density &    da &   acc &  diam \\\\\n",
      "\\midrule\n",
      "1  &   DBLP &   S &    E &  1.8M &    8M &    5e-6 &  0.11 &  0.63 &    23 \\\\\n",
      "2  &  HepPh &   I &    E &   17K &  1.2M &    8e-3 &  0.06 &  0.61 &     8 \\\\\n",
      "3  &  Enron &   S &    E &   87K &  299K &    8e-5 & -0.17 &  0.12 &    14 \\\\\n",
      "4  &   FB-w &   S &    P &   55K &  336K &    2e-4 &  0.22 &  0.12 &    16 \\\\\n",
      "5  &  Condm &   S &    E &   17K &   55K &    4e-4 &  0.18 &  0.64 &    19 \\\\\n",
      "6  &  HepTh &   I &    E &    7K &  215K &    9e-3 &  0.01 &  0.77 &    11 \\\\\n",
      "7  &   AMin &   S &    E &  855K &    3M &    9e-6 &  0.16 &  0.61 &    22 \\\\\n",
      "8  &   FB-l &   S &    P &   55K &  336K &    2e-4 &  0.22 &  0.12 &    16 \\\\\n",
      "9  &  D-rep &   S &    P &   30K &   86K &    2e-4 &  0.01 &  0.01 &    12 \\\\\n",
      "10 &    D-f &   S &    P &  279K &  1.5M &    4e-5 & -0.06 &  0.09 &    18 \\\\\n",
      "11 &    D-v &   I &    P &  139K &    3M &    3e-4 & -0.23 &  0.14 &     4 \\\\\n",
      "12 &   Rado &   S &    E &   167 &    3K &    2e-1 & -0.29 &  0.59 &     5 \\\\\n",
      "13 &     UC &   I &    E &   899 &    7K &    2e-2 & -0.09 &  0.07 &     6 \\\\\n",
      "14 &  SX-MO &   S &    E &   25K &  200K &    6e-4 & -0.20 &  0.31 &     9 \\\\\n",
      "15 &  trust &   S &    P &  114K &  593K &    9e-5 & -0.05 &  0.13 &    14 \\\\\n",
      "16 &   bitA &   S &    P &    4K &   13K &    2e-3 & -0.15 &  0.17 &    10 \\\\\n",
      "17 &    Dem &   S &    E &  1.9K &    4K &    2e-3 & -0.30 &  0.21 &     8 \\\\\n",
      "18 &  bitOT &   S &    P &    6K &   19K &    1e-3 & -0.14 &  0.16 &    14 \\\\\n",
      "19 &  chess &   I &    P &    6K &   20K &    1e-3 &  0.34 &  0.05 &    13 \\\\\n",
      "20 &  SX-AU &   S &    E &  159K &  508K &    4e-5 & -0.14 &  0.11 &    13 \\\\\n",
      "21 &  SX-SU &   S &    E &  194K &  785K &    4e-5 & -0.09 &  0.12 &    12 \\\\\n",
      "22 &  loans &   I &    P &   89K &    3M &    8e-4 & -0.08 &  0.00 &     8 \\\\\n",
      "23 &   Wiki &   S &    E &  117K &    2M &    3e-4 & -0.06 &  0.36 &    10 \\\\\n",
      "24 &  Rbody &   T &    E &   35K &  118K &    2e-4 & -0.09 &  0.18 &    11 \\\\\n",
      "25 &   Rtit &   T &    E &   53K &  208K &    1e-4 & -0.14 &  0.18 &    17 \\\\\n",
      "26 &     EU &   S &    E &   986 &   16K &    3e-2 & -0.03 &  0.41 &     7 \\\\\n",
      "\\bottomrule\n",
      "\\end{tabular}\n",
      "\\end{table}\n",
      "\n"
     ]
    }
   ],
   "source": [
    "print(\n",
    "  result.to_latex(\n",
    "    caption=(\n",
    "      'Networks used in this work. '\n",
    "      'The following abbreviations are used in the columns; '\n",
    "      'cat: category, '\n",
    "#       'n: number of nodes, m: number of edges, '\n",
    "#       'dens: density, '\n",
    "      'da: degree assortativity, acc: average clustering coefficient, '\n",
    "      'diam: diameter. '\n",
    "      'In the column type, E marks a discrete interaction network, '\n",
    "      'P indicates a network with persistent interactions.'\n",
    "      'The K and M indicates thousands and millions, respectively. '\n",
    "      'e marks the exponent of 10, i.e. 2e-5 = $2\\\\times 10^{-5}$'),\n",
    "    label='table:datasets'))"
   ]
  },
  {
   "cell_type": "code",
   "execution_count": null,
   "id": "abandoned-progressive",
   "metadata": {},
   "outputs": [],
   "source": []
  }
 ],
 "metadata": {
  "kernelspec": {
   "display_name": "Python 3",
   "language": "python",
   "name": "python3"
  },
  "language_info": {
   "codemirror_mode": {
    "name": "ipython",
    "version": 3
   },
   "file_extension": ".py",
   "mimetype": "text/x-python",
   "name": "python",
   "nbconvert_exporter": "python",
   "pygments_lexer": "ipython3",
   "version": "3.9.1"
  }
 },
 "nbformat": 4,
 "nbformat_minor": 5
}
