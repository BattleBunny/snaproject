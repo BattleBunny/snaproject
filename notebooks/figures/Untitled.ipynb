{
 "cells": [
  {
   "cell_type": "code",
   "execution_count": 3,
   "id": "mighty-alpha",
   "metadata": {
    "execution": {
     "iopub.execute_input": "2021-03-03T21:31:12.085148Z",
     "iopub.status.busy": "2021-03-03T21:31:12.084803Z",
     "iopub.status.idle": "2021-03-03T21:31:13.335948Z",
     "shell.execute_reply": "2021-03-03T21:31:13.335154Z",
     "shell.execute_reply.started": "2021-03-03T21:31:12.085115Z"
    }
   },
   "outputs": [
    {
     "name": "stdout",
     "output_type": "stream",
     "text": [
      "/scratch/bruingjde/SNAM2021-code\n"
     ]
    }
   ],
   "source": [
    "%cd /scratch/bruingjde/SNAM2021-code/\n",
    "\n",
    "from constants import *"
   ]
  },
  {
   "cell_type": "code",
   "execution_count": 4,
   "id": "identified-algorithm",
   "metadata": {
    "execution": {
     "iopub.execute_input": "2021-03-03T21:31:14.023859Z",
     "iopub.status.busy": "2021-03-03T21:31:14.023606Z",
     "iopub.status.idle": "2021-03-03T21:31:14.032175Z",
     "shell.execute_reply": "2021-03-03T21:31:14.031406Z",
     "shell.execute_reply.started": "2021-03-03T21:31:14.023829Z"
    }
   },
   "outputs": [],
   "source": [
    "def plot_datetime_strategies(\n",
    "  datetimes: pd.Series, *,\n",
    "  time_strategies = tlp.TIME_STRATEGIES):\n",
    "  \"\"\"Plot the mapping from datetime with the various time strategies.\n",
    "  \n",
    "  Args:\n",
    "    datetimes: pd.Series containing all the considered datetimes (one per edge)\n",
    "    time_strategies: Optional; A list containing functions that can map the\n",
    "      datetime column of the edgelist to a float. See \n",
    "      tlp.feature.TIME_STRATEGIES.\n",
    "  \n",
    "  Usage:\n",
    "    tlp.analysis.plot_datetime_strategies(edgelist['datetime'])\n",
    "  \"\"\"\n",
    "  index = pd.to_datetime(\n",
    "    np.linspace(datetimes.min().value, datetimes.max().value))\n",
    "  with plt.rc_context({'xtick.top': True, 'ytick.right': True}):\n",
    "    _, ax = plt.subplots(figsize=(4,4))\n",
    "    df = pd.DataFrame(\n",
    "      {str: func(index) for str, func in time_strategies.items()}, \n",
    "      index=index)\n",
    "    df.plot(ax=ax, xlabel='Year', ylabel='Proportion',  \n",
    "            xlim=datetimes.agg(['min', 'max']), ylim=(0,1))\n",
    "    \n",
    "    ax.legend(title='Time strategy') # type: ignore\n",
    "     # type: ignore"
   ]
  },
  {
   "cell_type": "code",
   "execution_count": 5,
   "id": "checked-rapid",
   "metadata": {
    "execution": {
     "iopub.execute_input": "2021-03-03T21:31:14.467931Z",
     "iopub.status.busy": "2021-03-03T21:31:14.467663Z",
     "iopub.status.idle": "2021-03-03T21:31:16.452279Z",
     "shell.execute_reply": "2021-03-03T21:31:16.451352Z",
     "shell.execute_reply.started": "2021-03-03T21:31:14.467908Z"
    }
   },
   "outputs": [],
   "source": [
    "df = pd.read_pickle('data/01/edgelist.pkl')"
   ]
  },
  {
   "cell_type": "code",
   "execution_count": 8,
   "id": "three-belly",
   "metadata": {
    "execution": {
     "iopub.execute_input": "2021-03-03T21:33:17.499537Z",
     "iopub.status.busy": "2021-03-03T21:33:17.499160Z",
     "iopub.status.idle": "2021-03-03T21:33:17.752822Z",
     "shell.execute_reply": "2021-03-03T21:33:17.751954Z",
     "shell.execute_reply.started": "2021-03-03T21:33:17.499501Z"
    }
   },
   "outputs": [],
   "source": [
    "index = pd.to_datetime(np.linspace(df['datetime'].min().value, df['datetime'].max().value))"
   ]
  },
  {
   "cell_type": "code",
   "execution_count": 55,
   "id": "renewable-hollywood",
   "metadata": {
    "execution": {
     "iopub.execute_input": "2021-03-03T21:49:38.806194Z",
     "iopub.status.busy": "2021-03-03T21:49:38.805796Z",
     "iopub.status.idle": "2021-03-03T21:49:38.811820Z",
     "shell.execute_reply": "2021-03-03T21:49:38.810949Z",
     "shell.execute_reply.started": "2021-03-03T21:49:38.806156Z"
    }
   },
   "outputs": [],
   "source": [
    "index_unix = index.astype(np.int64) / (365*24*3600e9)"
   ]
  },
  {
   "cell_type": "code",
   "execution_count": 79,
   "id": "behind-landscape",
   "metadata": {
    "execution": {
     "iopub.execute_input": "2021-03-03T22:24:56.760936Z",
     "iopub.status.busy": "2021-03-03T22:24:56.760556Z",
     "iopub.status.idle": "2021-03-03T22:24:56.766801Z",
     "shell.execute_reply": "2021-03-03T22:24:56.766091Z",
     "shell.execute_reply.started": "2021-03-03T22:24:56.760899Z"
    }
   },
   "outputs": [
    {
     "data": {
      "text/plain": [
       "1.0"
      ]
     },
     "execution_count": 79,
     "metadata": {},
     "output_type": "execute_result"
    }
   ],
   "source": [
    "np.sqrt(1)"
   ]
  },
  {
   "cell_type": "code",
   "execution_count": 56,
   "id": "unauthorized-antenna",
   "metadata": {
    "execution": {
     "iopub.execute_input": "2021-03-03T21:49:39.212277Z",
     "iopub.status.busy": "2021-03-03T21:49:39.211883Z",
     "iopub.status.idle": "2021-03-03T21:49:41.192209Z",
     "shell.execute_reply": "2021-03-03T21:49:41.191253Z",
     "shell.execute_reply.started": "2021-03-03T21:49:39.212240Z"
    }
   },
   "outputs": [
    {
     "data": {
      "text/plain": [
       "Float64Index([ -32.02180171867072,  -30.38803273162385, -28.754263744576978,\n",
       "              -27.120494757530107, -25.486725770483233, -23.852956783436355,\n",
       "              -22.219187796389484, -20.585418809342613, -18.951649822295735,\n",
       "               -17.31788083524886, -15.684111848201988, -14.050342861155116,\n",
       "              -12.416573874108241, -10.782804887061365,  -9.149035900014495,\n",
       "               -7.515266912967623,  -5.881497925920747, -4.2477289388738715,\n",
       "              -2.6139599518269994, -0.9801909647801279,  0.6535780222667479,\n",
       "               2.2873470093136237,  3.9211159963604953,   5.554884983407367,\n",
       "                7.188653970454243,   8.822422957501118,  10.456191944547994,\n",
       "               12.089960931594861,  13.723729918641737,  15.357498905688614,\n",
       "                16.99126789273548,  18.625036879782357,   20.25880586682923,\n",
       "                21.89257485387611,  23.526343840922983,   25.16011282796985,\n",
       "               26.793881815016725,  28.427650802063603,   30.06141978911047,\n",
       "               31.695188776157345,   33.32895776320422,    34.9627267502511,\n",
       "                36.59649573729797,   38.23026472434484,   39.86403371139171,\n",
       "                41.49780269843859,   43.13157168548546,  44.765340672532346,\n",
       "                46.39910965957921,   48.03287864662608],\n",
       "             dtype='float64')"
      ]
     },
     "execution_count": 56,
     "metadata": {},
     "output_type": "execute_result"
    }
   ],
   "source": [
    "index_unix"
   ]
  },
  {
   "cell_type": "code",
   "execution_count": 75,
   "id": "pleased-conditioning",
   "metadata": {
    "execution": {
     "iopub.execute_input": "2021-03-03T22:11:55.026702Z",
     "iopub.status.busy": "2021-03-03T22:11:55.026267Z",
     "iopub.status.idle": "2021-03-03T22:11:55.035141Z",
     "shell.execute_reply": "2021-03-03T22:11:55.034242Z",
     "shell.execute_reply.started": "2021-03-03T22:11:55.026663Z"
    }
   },
   "outputs": [],
   "source": [
    "def exp(x):\n",
    "  return .2 + 0.8 * (np.exp(3*(x-min(x))/(max(x)-min(x)))-1) / (np.exp(3)-1)"
   ]
  },
  {
   "cell_type": "code",
   "execution_count": 83,
   "id": "improving-incidence",
   "metadata": {
    "execution": {
     "iopub.execute_input": "2021-03-03T22:27:18.224910Z",
     "iopub.status.busy": "2021-03-03T22:27:18.224548Z",
     "iopub.status.idle": "2021-03-03T22:27:18.229924Z",
     "shell.execute_reply": "2021-03-03T22:27:18.229256Z",
     "shell.execute_reply.started": "2021-03-03T22:27:18.224873Z"
    }
   },
   "outputs": [],
   "source": [
    "def sqrt(x):\n",
    "  return .2 + 0.8 * np.sqrt((x-min(x))/(max(x)-min(x)))"
   ]
  },
  {
   "cell_type": "code",
   "execution_count": 84,
   "id": "russian-conservation",
   "metadata": {
    "execution": {
     "iopub.execute_input": "2021-03-03T22:27:18.572935Z",
     "iopub.status.busy": "2021-03-03T22:27:18.572449Z",
     "iopub.status.idle": "2021-03-03T22:27:18.578032Z",
     "shell.execute_reply": "2021-03-03T22:27:18.577235Z",
     "shell.execute_reply.started": "2021-03-03T22:27:18.572892Z"
    }
   },
   "outputs": [],
   "source": [
    "time_strategies['sqrt'] = sqrt"
   ]
  },
  {
   "cell_type": "code",
   "execution_count": 95,
   "id": "digital-gibson",
   "metadata": {
    "execution": {
     "iopub.execute_input": "2021-03-03T22:53:27.322470Z",
     "iopub.status.busy": "2021-03-03T22:53:27.322113Z",
     "iopub.status.idle": "2021-03-03T22:53:27.753459Z",
     "shell.execute_reply": "2021-03-03T22:53:27.752898Z",
     "shell.execute_reply.started": "2021-03-03T22:53:27.322434Z"
    }
   },
   "outputs": [
    {
     "data": {
      "image/png": "[encoded data removed]",
      "text/plain": [
       "<Figure size 288x288 with 1 Axes>"
      ]
     },
     "metadata": {
      "needs_background": "light"
     },
     "output_type": "display_data"
    }
   ],
   "source": [
    "linestyles = ['solid', 'dotted', 'dashed']\n",
    "with plt.rc_context(rc):\n",
    "  _, ax = plt.subplots(figsize=(4,4))\n",
    "  for (strategy_str, strategy_func), linestyle in zip(time_strategies.items(), linestyles):\n",
    "    ax.plot(index, strategy_func(index_unix), label=strategy_str, linestyle=linestyle)\n",
    "  ax.legend(title='Weighting')\n",
    "  ax.set_xlim(min(index), max(index))\n",
    "  ax.set_ylim((0,1))\n",
    "  ax.xaxis.set_minor_locator(matplotlib.dates.YearLocator(5))\n",
    "  ax.yaxis.set_minor_locator(matplotlib.ticker.MultipleLocator(.1))\n",
    "  plt.tight_layout()\n",
    "  plt.savefig('figures/time-strategies.pdf')"
   ]
  },
  {
   "cell_type": "code",
   "execution_count": 88,
   "id": "taken-falls",
   "metadata": {
    "execution": {
     "iopub.execute_input": "2021-03-03T22:41:07.948461Z",
     "iopub.status.busy": "2021-03-03T22:41:07.948052Z",
     "iopub.status.idle": "2021-03-03T22:41:07.954985Z",
     "shell.execute_reply": "2021-03-03T22:41:07.954045Z",
     "shell.execute_reply.started": "2021-03-03T22:41:07.948424Z"
    }
   },
   "outputs": [
    {
     "data": {
      "text/plain": [
       "{'xtick.top': True, 'ytick.right': True, 'figure.figsize': (4, 4)}"
      ]
     },
     "execution_count": 88,
     "metadata": {},
     "output_type": "execute_result"
    }
   ],
   "source": [
    "rc"
   ]
  },
  {
   "cell_type": "code",
   "execution_count": null,
   "id": "polished-seeking",
   "metadata": {},
   "outputs": [],
   "source": []
  }
 ],
 "metadata": {
  "kernelspec": {
   "display_name": "Python 3",
   "language": "python",
   "name": "python3"
  },
  "language_info": {
   "codemirror_mode": {
    "name": "ipython",
    "version": 3
   },
   "file_extension": ".py",
   "mimetype": "text/x-python",
   "name": "python",
   "nbconvert_exporter": "python",
   "pygments_lexer": "ipython3",
   "version": "3.9.1"
  }
 },
 "nbformat": 4,
 "nbformat_minor": 5
}
