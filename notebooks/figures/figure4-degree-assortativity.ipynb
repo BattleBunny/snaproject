{
 "cells": [
  {
   "cell_type": "code",
   "execution_count": 2,
   "id": "private-reward",
   "metadata": {
    "execution": {
     "iopub.execute_input": "2021-03-02T05:15:12.487456Z",
     "iopub.status.busy": "2021-03-02T05:15:12.487107Z",
     "iopub.status.idle": "2021-03-02T05:15:14.143165Z",
     "shell.execute_reply": "2021-03-02T05:15:14.142131Z",
     "shell.execute_reply.started": "2021-03-02T05:15:12.487426Z"
    }
   },
   "outputs": [
    {
     "name": "stdout",
     "output_type": "stream",
     "text": [
      "/scratch/bruingjde/SNAM2021-code\n"
     ]
    }
   ],
   "source": [
    "%cd /scratch/bruingjde/SNAM2021-code/\n",
    "\n",
    "from constants import *"
   ]
  },
  {
   "cell_type": "code",
   "execution_count": 3,
   "id": "pacific-message",
   "metadata": {
    "execution": {
     "iopub.execute_input": "2021-03-02T05:15:34.960672Z",
     "iopub.status.busy": "2021-03-02T05:15:34.960302Z",
     "iopub.status.idle": "2021-03-02T05:15:35.003922Z",
     "shell.execute_reply": "2021-03-02T05:15:35.002997Z",
     "shell.execute_reply.started": "2021-03-02T05:15:34.960634Z"
    }
   },
   "outputs": [
    {
     "data": {
      "application/vnd.jupyter.widget-view+json": {
       "model_id": "9a2fb22d0b184370a16f84a92fc3ccba",
       "version_major": 2,
       "version_minor": 0
      },
      "text/plain": [
       "  0%|          | 0/26 [00:00<?, ?it/s]"
      ]
     },
     "metadata": {},
     "output_type": "display_data"
    }
   ],
   "source": [
    "stats = get_all_stats()"
   ]
  },
  {
   "cell_type": "code",
   "execution_count": 4,
   "id": "modified-sunset",
   "metadata": {
    "execution": {
     "iopub.execute_input": "2021-03-02T05:16:30.637548Z",
     "iopub.status.busy": "2021-03-02T05:16:30.637190Z",
     "iopub.status.idle": "2021-03-02T05:16:35.706888Z",
     "shell.execute_reply": "2021-03-02T05:16:35.704983Z",
     "shell.execute_reply.started": "2021-03-02T05:16:30.637514Z"
    }
   },
   "outputs": [],
   "source": [
    "def logistic_regression_I(network_index: int):\n",
    "  X = dict()\n",
    "  for heuristic in ['aa', 'cn', 'jc', 'pa']:\n",
    "    X[heuristic] = np.load(\n",
    "      f'data/{network_index:02}/features/time_agnostic/{heuristic}.npy')\n",
    "  X = pd.DataFrame(X)\n",
    "    \n",
    "  y = np.load(f'data/{network_index:02}/targets_sampled.npy')\n",
    "  \n",
    "  X_train, X_test, y_train, y_test = (\n",
    "    sklearn.model_selection.train_test_split(X, y))\n",
    "  pipe = sklearn.pipeline.make_pipeline(\n",
    "    sklearn.preprocessing.StandardScaler(),\n",
    "    sklearn.linear_model.LogisticRegression(max_iter=10000)) # type: ignore\n",
    "  pipe.fit(X_train, y_train)\n",
    "  \n",
    "  auc = sklearn.metrics.roc_auc_score(\n",
    "    y_true=y_test, y_score=pipe.predict_proba(X_test)[:,1]) # type: ignore\n",
    "  \n",
    "  return auc\n",
    "\n",
    "auc_I = {\n",
    "  network_index: logistic_regression_I(network_index) \n",
    "  for network_index in network_indices}"
   ]
  },
  {
   "cell_type": "code",
   "execution_count": 5,
   "id": "agreed-columbia",
   "metadata": {
    "execution": {
     "iopub.execute_input": "2021-03-02T05:16:35.708982Z",
     "iopub.status.busy": "2021-03-02T05:16:35.708730Z",
     "iopub.status.idle": "2021-03-02T05:17:23.992423Z",
     "shell.execute_reply": "2021-03-02T05:17:23.990948Z",
     "shell.execute_reply.started": "2021-03-02T05:16:35.708952Z"
    }
   },
   "outputs": [],
   "source": [
    "def logistic_regression_I_II(network_index: int, hypergraph: bool):\n",
    "  X = dict()\n",
    "  for heuristic in ['aa', 'cn', 'jc', 'pa']:\n",
    "    X[heuristic] = (\n",
    "      np.load(\n",
    "        f'data/{network_index:02}/features/time_agnostic/{heuristic}.npy'))\n",
    "    \n",
    "  if hypergraph:\n",
    "    for time_strategy in time_strategies:\n",
    "      for nodepair_strategy in nodepair_strategies:\n",
    "        for aggregation_strategy in aggregation_strategies:\n",
    "          X[(time_strategy, nodepair_strategy, aggregation_strategy)] = (\n",
    "            np.load(\n",
    "              f'data/{network_index:02}/features/time_node/'\n",
    "              f'{time_strategy}_{nodepair_strategy}_{aggregation_strategy}.npy'\n",
    "            ))\n",
    "  else:\n",
    "    for time_strategy in time_strategies:\n",
    "      for nodepair_strategy in nodepair_strategies:\n",
    "          X[(time_strategy, nodepair_strategy)] = (\n",
    "            np.load(\n",
    "              f'data/{network_index:02}/features/time_node/'\n",
    "              f'{time_strategy}_{nodepair_strategy}.npy'))\n",
    "    \n",
    "  X = pd.DataFrame(X)\n",
    "    \n",
    "  y = np.load(f'data/{network_index:02}/targets_sampled.npy')\n",
    "  \n",
    "  X_train, X_test, y_train, y_test = (\n",
    "    sklearn.model_selection.train_test_split(X, y))\n",
    "  pipe = sklearn.pipeline.make_pipeline(\n",
    "    sklearn.preprocessing.StandardScaler(),\n",
    "    sklearn.linear_model.LogisticRegression(max_iter=10000))\n",
    "  pipe.fit(X_train, y_train)\n",
    "  \n",
    "  auc = sklearn.metrics.roc_auc_score(\n",
    "    y_true=y_test, y_score=pipe.predict_proba(X_test)[:,1])\n",
    "  \n",
    "  return auc\n",
    "\n",
    "auc_I_II = {\n",
    "  network_index: (\n",
    "    logistic_regression_I_II(\n",
    "      network_index, hypergraph=network_index in hypergraphs\n",
    "    )\n",
    "  )\n",
    "  for network_index in network_indices\n",
    "}"
   ]
  },
  {
   "cell_type": "code",
   "execution_count": 6,
   "id": "inside-criterion",
   "metadata": {
    "execution": {
     "iopub.execute_input": "2021-03-02T05:17:23.995548Z",
     "iopub.status.busy": "2021-03-02T05:17:23.995281Z",
     "iopub.status.idle": "2021-03-02T05:17:46.739739Z",
     "shell.execute_reply": "2021-03-02T05:17:46.738394Z",
     "shell.execute_reply.started": "2021-03-02T05:17:23.995515Z"
    }
   },
   "outputs": [],
   "source": [
    "def logistic_regression_III(network_index: int, hypergraph: bool):\n",
    "  X = dict()\n",
    "  \n",
    "  for heuristic in ['aa', 'cn', 'jc', 'pa']:  \n",
    "    for time_strategy in time_strategies:\n",
    "      if hypergraph:\n",
    "        for aggregation_strategy in aggregation_strategies:\n",
    "          if aggregation_strategy not in ['m2', 'm3']:\n",
    "            X[(heuristic, time_strategy, aggregation_strategy)] = np.load(\n",
    "                f'data/{network_index:02}/features/time_edge/'\n",
    "                f'{heuristic}_{time_strategy}_{aggregation_strategy}.npy')\n",
    "      else:\n",
    "        X[(heuristic, time_strategy)] = np.load(\n",
    "          f'data/{network_index:02}/features/time_edge/'\n",
    "          f'{heuristic}_{time_strategy}.npy')\n",
    "    \n",
    "  X = pd.DataFrame(X)\n",
    "    \n",
    "  y = np.load(f'data/{network_index:02}/targets_sampled.npy')\n",
    "  \n",
    "  X_train, X_test, y_train, y_test = (\n",
    "    sklearn.model_selection.train_test_split(X, y))\n",
    "  pipe = sklearn.pipeline.make_pipeline(\n",
    "    sklearn.preprocessing.StandardScaler(),\n",
    "    sklearn.linear_model.LogisticRegression(max_iter=10000))\n",
    "  pipe.fit(X_train, y_train)\n",
    "  \n",
    "  auc = sklearn.metrics.roc_auc_score(\n",
    "    y_true=y_test, y_score=pipe.predict_proba(X_test)[:,1])\n",
    "  \n",
    "  return auc\n",
    "\n",
    "auc_III = {\n",
    "  network_index: logistic_regression_III(\n",
    "    network_index, hypergraph=network_index in hypergraphs)\n",
    "  for network_index in network_indices}"
   ]
  },
  {
   "cell_type": "code",
   "execution_count": 9,
   "id": "handled-vietnam",
   "metadata": {
    "execution": {
     "iopub.execute_input": "2021-03-02T05:28:22.744136Z",
     "iopub.status.busy": "2021-03-02T05:28:22.743701Z",
     "iopub.status.idle": "2021-03-02T05:28:22.751112Z",
     "shell.execute_reply": "2021-03-02T05:28:22.750096Z",
     "shell.execute_reply.started": "2021-03-02T05:28:22.744095Z"
    }
   },
   "outputs": [
    {
     "data": {
      "text/plain": [
       "Index(['edges', 'density (nx.MultiGraph)', 'fraction edges in GC', 'nodes',\n",
       "       'avg events per pair', 'density', 'degree assortativity',\n",
       "       'average clustering coefficient', 'fraction nodes in GC',\n",
       "       'avg events per pair in GC'],\n",
       "      dtype='object')"
      ]
     },
     "execution_count": 9,
     "metadata": {},
     "output_type": "execute_result"
    }
   ],
   "source": [
    "stats.columns"
   ]
  },
  {
   "cell_type": "code",
   "execution_count": 12,
   "id": "outer-mattress",
   "metadata": {
    "execution": {
     "iopub.execute_input": "2021-03-02T05:29:31.670373Z",
     "iopub.status.busy": "2021-03-02T05:29:31.669946Z",
     "iopub.status.idle": "2021-03-02T05:29:31.683604Z",
     "shell.execute_reply": "2021-03-02T05:29:31.682790Z",
     "shell.execute_reply.started": "2021-03-02T05:29:31.670332Z"
    }
   },
   "outputs": [],
   "source": [
    "df = pd.DataFrame({\n",
    "  'degree assortativity': stats['degree assortativity'],\n",
    "  'I': pd.Series(auc_I),\n",
    "  'I+II': pd.Series(auc_I_II),\n",
    "  'III': pd.Series(auc_III)\n",
    "})\n",
    "df.reset_index(inplace=True)"
   ]
  },
  {
   "cell_type": "code",
   "execution_count": 14,
   "id": "standing-output",
   "metadata": {
    "execution": {
     "iopub.execute_input": "2021-03-02T05:29:47.068313Z",
     "iopub.status.busy": "2021-03-02T05:29:47.067902Z",
     "iopub.status.idle": "2021-03-02T05:29:47.078290Z",
     "shell.execute_reply": "2021-03-02T05:29:47.077208Z",
     "shell.execute_reply.started": "2021-03-02T05:29:47.068274Z"
    }
   },
   "outputs": [],
   "source": [
    "df = df.melt(\n",
    "  id_vars=['index', 'degree assortativity'], \n",
    "  var_name='experiment', \n",
    "  value_name='auc')"
   ]
  },
  {
   "cell_type": "code",
   "execution_count": 15,
   "id": "coral-bacon",
   "metadata": {
    "execution": {
     "iopub.execute_input": "2021-03-02T05:29:47.710606Z",
     "iopub.status.busy": "2021-03-02T05:29:47.710210Z",
     "iopub.status.idle": "2021-03-02T05:29:47.730561Z",
     "shell.execute_reply": "2021-03-02T05:29:47.729836Z",
     "shell.execute_reply.started": "2021-03-02T05:29:47.710566Z"
    }
   },
   "outputs": [
    {
     "data": {
      "text/html": [
       "<div>\n",
       "<style scoped>\n",
       "    .dataframe tbody tr th:only-of-type {\n",
       "        vertical-align: middle;\n",
       "    }\n",
       "\n",
       "    .dataframe tbody tr th {\n",
       "        vertical-align: top;\n",
       "    }\n",
       "\n",
       "    .dataframe thead th {\n",
       "        text-align: right;\n",
       "    }\n",
       "</style>\n",
       "<table border=\"1\" class=\"dataframe\">\n",
       "  <thead>\n",
       "    <tr style=\"text-align: right;\">\n",
       "      <th></th>\n",
       "      <th>index</th>\n",
       "      <th>degree assortativity</th>\n",
       "      <th>experiment</th>\n",
       "      <th>auc</th>\n",
       "    </tr>\n",
       "  </thead>\n",
       "  <tbody>\n",
       "    <tr>\n",
       "      <th>0</th>\n",
       "      <td>1</td>\n",
       "      <td>0.114186</td>\n",
       "      <td>I</td>\n",
       "      <td>0.695024</td>\n",
       "    </tr>\n",
       "    <tr>\n",
       "      <th>1</th>\n",
       "      <td>2</td>\n",
       "      <td>0.059906</td>\n",
       "      <td>I</td>\n",
       "      <td>0.810433</td>\n",
       "    </tr>\n",
       "    <tr>\n",
       "      <th>2</th>\n",
       "      <td>3</td>\n",
       "      <td>-0.166689</td>\n",
       "      <td>I</td>\n",
       "      <td>0.847715</td>\n",
       "    </tr>\n",
       "    <tr>\n",
       "      <th>3</th>\n",
       "      <td>4</td>\n",
       "      <td>0.221522</td>\n",
       "      <td>I</td>\n",
       "      <td>0.766331</td>\n",
       "    </tr>\n",
       "    <tr>\n",
       "      <th>4</th>\n",
       "      <td>5</td>\n",
       "      <td>0.177355</td>\n",
       "      <td>I</td>\n",
       "      <td>0.682705</td>\n",
       "    </tr>\n",
       "    <tr>\n",
       "      <th>...</th>\n",
       "      <td>...</td>\n",
       "      <td>...</td>\n",
       "      <td>...</td>\n",
       "      <td>...</td>\n",
       "    </tr>\n",
       "    <tr>\n",
       "      <th>73</th>\n",
       "      <td>24</td>\n",
       "      <td>-0.078326</td>\n",
       "      <td>III</td>\n",
       "      <td>0.886301</td>\n",
       "    </tr>\n",
       "    <tr>\n",
       "      <th>74</th>\n",
       "      <td>25</td>\n",
       "      <td>-0.064984</td>\n",
       "      <td>III</td>\n",
       "      <td>0.901347</td>\n",
       "    </tr>\n",
       "    <tr>\n",
       "      <th>75</th>\n",
       "      <td>28</td>\n",
       "      <td>-0.087156</td>\n",
       "      <td>III</td>\n",
       "      <td>0.899745</td>\n",
       "    </tr>\n",
       "    <tr>\n",
       "      <th>76</th>\n",
       "      <td>29</td>\n",
       "      <td>-0.137222</td>\n",
       "      <td>III</td>\n",
       "      <td>0.921672</td>\n",
       "    </tr>\n",
       "    <tr>\n",
       "      <th>77</th>\n",
       "      <td>30</td>\n",
       "      <td>-0.025743</td>\n",
       "      <td>III</td>\n",
       "      <td>0.858245</td>\n",
       "    </tr>\n",
       "  </tbody>\n",
       "</table>\n",
       "<p>78 rows × 4 columns</p>\n",
       "</div>"
      ],
      "text/plain": [
       "    index  degree assortativity experiment       auc\n",
       "0       1              0.114186          I  0.695024\n",
       "1       2              0.059906          I  0.810433\n",
       "2       3             -0.166689          I  0.847715\n",
       "3       4              0.221522          I  0.766331\n",
       "4       5              0.177355          I  0.682705\n",
       "..    ...                   ...        ...       ...\n",
       "73     24             -0.078326        III  0.886301\n",
       "74     25             -0.064984        III  0.901347\n",
       "75     28             -0.087156        III  0.899745\n",
       "76     29             -0.137222        III  0.921672\n",
       "77     30             -0.025743        III  0.858245\n",
       "\n",
       "[78 rows x 4 columns]"
      ]
     },
     "execution_count": 15,
     "metadata": {},
     "output_type": "execute_result"
    }
   ],
   "source": [
    "df"
   ]
  },
  {
   "cell_type": "code",
   "execution_count": 17,
   "id": "honest-basement",
   "metadata": {
    "execution": {
     "iopub.execute_input": "2021-03-02T05:30:55.121879Z",
     "iopub.status.busy": "2021-03-02T05:30:55.121240Z",
     "iopub.status.idle": "2021-03-02T05:30:56.150525Z",
     "shell.execute_reply": "2021-03-02T05:30:56.149164Z",
     "shell.execute_reply.started": "2021-03-02T05:30:55.121837Z"
    }
   },
   "outputs": [
    {
     "data": {
      "image/png": "[encoded data removed]",
      "text/plain": [
       "<Figure size 288x288 with 1 Axes>"
      ]
     },
     "metadata": {
      "needs_background": "light"
     },
     "output_type": "display_data"
    }
   ],
   "source": [
    "markers = ['o', 'x', 's']\n",
    "with plt.rc_context(rc):\n",
    "  for (experiment, df_experiment), marker in zip(df.groupby('experiment'), markers):\n",
    "    sns.regplot(\n",
    "      data=df_experiment, x='degree assortativity', y='auc', label=experiment,\n",
    "      marker=marker)\n",
    "  plt.legend(title='Experiment')\n",
    "  plt.ylim(.5, 1)\n",
    "  plt.tight_layout()\n",
    "  plt.savefig('figures/degree-assortativity.pdf')"
   ]
  },
  {
   "cell_type": "code",
   "execution_count": null,
   "id": "global-interim",
   "metadata": {},
   "outputs": [],
   "source": []
  }
 ],
 "metadata": {
  "kernelspec": {
   "display_name": "Python 3",
   "language": "python",
   "name": "python3"
  },
  "language_info": {
   "codemirror_mode": {
    "name": "ipython",
    "version": 3
   },
   "file_extension": ".py",
   "mimetype": "text/x-python",
   "name": "python",
   "nbconvert_exporter": "python",
   "pygments_lexer": "ipython3",
   "version": "3.9.1"
  }
 },
 "nbformat": 4,
 "nbformat_minor": 5
}
