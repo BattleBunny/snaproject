{
 "cells": [
  {
   "cell_type": "code",
   "execution_count": 1,
   "id": "bearing-playlist",
   "metadata": {
    "execution": {
     "iopub.execute_input": "2021-03-02T05:39:19.214486Z",
     "iopub.status.busy": "2021-03-02T05:39:19.214107Z",
     "iopub.status.idle": "2021-03-02T05:39:20.415174Z",
     "shell.execute_reply": "2021-03-02T05:39:20.414350Z",
     "shell.execute_reply.started": "2021-03-02T05:39:19.214379Z"
    }
   },
   "outputs": [
    {
     "name": "stdout",
     "output_type": "stream",
     "text": [
      "/scratch/bruingjde/SNAM2021-code\n"
     ]
    }
   ],
   "source": [
    "%cd /scratch/bruingjde/SNAM2021-code/\n",
    "\n",
    "from constants import *"
   ]
  },
  {
   "cell_type": "code",
   "execution_count": 4,
   "id": "checked-decimal",
   "metadata": {
    "execution": {
     "iopub.execute_input": "2021-03-02T05:40:32.195342Z",
     "iopub.status.busy": "2021-03-02T05:40:32.195009Z",
     "iopub.status.idle": "2021-03-02T05:41:40.933013Z",
     "shell.execute_reply": "2021-03-02T05:41:40.932203Z",
     "shell.execute_reply.started": "2021-03-02T05:40:32.195308Z"
    }
   },
   "outputs": [],
   "source": [
    "def logistic_regression_III_hypergraph(\n",
    "  network: int, heuristic: str, time_strategy: str):\n",
    "  \n",
    "  X = dict()  \n",
    "  for aggregation_strategy in aggregation_strategies:\n",
    "    if aggregation_strategy not in ['m2', 'm3']:\n",
    "      X[aggregation_strategy] = np.load(\n",
    "        f'data/{network:02}/features/time_edge/'\n",
    "        f'{heuristic}_{time_strategy}_{aggregation_strategy}.npy')\n",
    "    \n",
    "  X = pd.DataFrame(X)\n",
    "    \n",
    "  y = np.load(f'data/{network:02}/targets_sampled.npy')\n",
    "  \n",
    "  X_train, X_test, y_train, y_test = (\n",
    "    sklearn.model_selection.train_test_split(X, y))\n",
    "  pipe = sklearn.pipeline.make_pipeline(\n",
    "    sklearn.preprocessing.StandardScaler(),\n",
    "    sklearn.linear_model.LogisticRegression(max_iter=10000))\n",
    "  pipe.fit(X_train, y_train)\n",
    "  \n",
    "  auc = sklearn.metrics.roc_auc_score(\n",
    "    y_true=y_test, y_score=pipe.predict_proba(X_test)[:,1])\n",
    "  \n",
    "  return auc\n",
    "\n",
    "def logistic_regression_III_simplegraph(\n",
    "  network: int, heuristic: str, time_strategy: str):\n",
    "  \n",
    "  X = dict()  \n",
    "  X[heuristic] = np.load(\n",
    "    f'data/{network:02}/features/time_edge/{heuristic}_{time_strategy}.npy')\n",
    "    \n",
    "  X = pd.DataFrame(X)\n",
    "    \n",
    "  y = np.load(f'data/{network:02}/targets_sampled.npy')\n",
    "  \n",
    "  X_train, X_test, y_train, y_test = (\n",
    "    sklearn.model_selection.train_test_split(X, y))\n",
    "  pipe = sklearn.pipeline.make_pipeline(\n",
    "    sklearn.preprocessing.StandardScaler(),\n",
    "    sklearn.linear_model.LogisticRegression(max_iter=10000))\n",
    "  pipe.fit(X_train, y_train)\n",
    "  \n",
    "  auc = sklearn.metrics.roc_auc_score(\n",
    "    y_true=y_test, y_score=pipe.predict_proba(X_test)[:,1])\n",
    "  \n",
    "  return auc\n",
    "\n",
    "exp3 = [\n",
    "  {\n",
    "    'heuristic': heuristic,\n",
    "    'time strategy': time_strategy,\n",
    "    'network': network_index,\n",
    "    'score': (\n",
    "      logistic_regression_III_hypergraph(network_index, heuristic, time_strategy) \n",
    "      if network_index in hypergraph_indices else \n",
    "      logistic_regression_III_simplegraph(network_index, heuristic, time_strategy))\n",
    "  }\n",
    "  for heuristic in heuristics\n",
    "  for time_strategy in time_strategies\n",
    "  for network_index in network_indices\n",
    "]"
   ]
  },
  {
   "cell_type": "code",
   "execution_count": 44,
   "id": "anonymous-reminder",
   "metadata": {
    "execution": {
     "iopub.execute_input": "2021-03-02T12:42:38.793028Z",
     "iopub.status.busy": "2021-03-02T12:42:38.792735Z",
     "iopub.status.idle": "2021-03-02T12:42:38.805049Z",
     "shell.execute_reply": "2021-03-02T12:42:38.804288Z",
     "shell.execute_reply.started": "2021-03-02T12:42:38.793000Z"
    }
   },
   "outputs": [],
   "source": [
    "df = pd.DataFrame(exp3)\n",
    "df = df.groupby(['heuristic', 'time strategy'])['score'].mean()\n",
    "df = df.unstack()\n",
    "df = df.round(3)\n",
    "df.index = df.index.set_names('')\n",
    "df.columns = df.columns.set_names('')"
   ]
  },
  {
   "cell_type": "code",
   "execution_count": 45,
   "id": "outdoor-visitor",
   "metadata": {
    "execution": {
     "iopub.execute_input": "2021-03-02T12:42:39.327660Z",
     "iopub.status.busy": "2021-03-02T12:42:39.327322Z",
     "iopub.status.idle": "2021-03-02T12:42:39.344860Z",
     "shell.execute_reply": "2021-03-02T12:42:39.343694Z",
     "shell.execute_reply.started": "2021-03-02T12:42:39.327624Z"
    }
   },
   "outputs": [
    {
     "name": "stdout",
     "output_type": "stream",
     "text": [
      "\\begin{table}\n",
      "\\centering\n",
      "\\caption{Performance, measured by the AUC, for the various heuristics and time strategies.}\n",
      "\\label{fig:time-strategies}\n",
      "\\begin{tabular}{lrrr}\n",
      "\\toprule\n",
      "{} &    exp &    lin &   sqrt \\\\\n",
      "   &        &        &        \\\\\n",
      "\\midrule\n",
      "aa &  0.824 &  0.820 &  0.817 \\\\\n",
      "cn &  0.811 &  0.804 &  0.801 \\\\\n",
      "jc &  0.682 &  0.681 &  0.682 \\\\\n",
      "pa &  0.788 &  0.779 &  0.777 \\\\\n",
      "\\bottomrule\n",
      "\\end{tabular}\n",
      "\\end{table}\n",
      "\n"
     ]
    }
   ],
   "source": [
    "print(\n",
    "  df.to_latex(\n",
    "    caption=(\n",
    "    'Performance, measured by the AUC, for the various heuristics and time '\n",
    "    'strategies.'),\n",
    "    label='fig:time-strategies')\n",
    ")"
   ]
  },
  {
   "cell_type": "code",
   "execution_count": 33,
   "id": "isolated-shoot",
   "metadata": {
    "execution": {
     "iopub.execute_input": "2021-03-01T11:06:02.748464Z",
     "iopub.status.busy": "2021-03-01T11:06:02.748104Z",
     "iopub.status.idle": "2021-03-01T11:06:02.876382Z",
     "shell.execute_reply": "2021-03-01T11:06:02.875881Z",
     "shell.execute_reply.started": "2021-03-01T11:06:02.748429Z"
    }
   },
   "outputs": [
    {
     "data": {
      "text/plain": [
       "<AxesSubplot:xlabel='time strategy', ylabel='heuristic'>"
      ]
     },
     "execution_count": 33,
     "metadata": {},
     "output_type": "execute_result"
    },
    {
     "data": {
      "image/png": "[encoded data removed]",
      "text/plain": [
       "<Figure size 432x288 with 2 Axes>"
      ]
     },
     "metadata": {
      "needs_background": "light"
     },
     "output_type": "display_data"
    }
   ],
   "source": [
    "sns.heatmap(\n",
    "  pd.DataFrame(exp3).groupby(['heuristic', 'time strategy'])['score'].mean().unstack(),\n",
    "  vmin=.5, vmax=1, annot=True, fmt='.2f'\n",
    ")"
   ]
  },
  {
   "cell_type": "code",
   "execution_count": null,
   "id": "reserved-confidence",
   "metadata": {},
   "outputs": [],
   "source": []
  }
 ],
 "metadata": {
  "kernelspec": {
   "display_name": "Python 3",
   "language": "python",
   "name": "python3"
  },
  "language_info": {
   "codemirror_mode": {
    "name": "ipython",
    "version": 3
   },
   "file_extension": ".py",
   "mimetype": "text/x-python",
   "name": "python",
   "nbconvert_exporter": "python",
   "pygments_lexer": "ipython3",
   "version": "3.9.1"
  }
 },
 "nbformat": 4,
 "nbformat_minor": 5
}
