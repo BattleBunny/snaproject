{
 "cells": [
  {
   "cell_type": "code",
   "execution_count": 1,
   "id": "intensive-kidney",
   "metadata": {
    "execution": {
     "iopub.execute_input": "2021-03-01T20:28:30.280643Z",
     "iopub.status.busy": "2021-03-01T20:28:30.279924Z",
     "iopub.status.idle": "2021-03-01T20:28:31.745981Z",
     "shell.execute_reply": "2021-03-01T20:28:31.745090Z",
     "shell.execute_reply.started": "2021-03-01T20:28:30.280523Z"
    }
   },
   "outputs": [
    {
     "name": "stdout",
     "output_type": "stream",
     "text": [
      "/scratch/bruingjde/SNAM2021-code\n"
     ]
    }
   ],
   "source": [
    "%cd /scratch/bruingjde/SNAM2021-code/\n",
    "\n",
    "from constants import *"
   ]
  },
  {
   "cell_type": "markdown",
   "id": "nutritional-essex",
   "metadata": {},
   "source": [
    "# Time agnostic"
   ]
  },
  {
   "cell_type": "code",
   "execution_count": 48,
   "id": "working-queens",
   "metadata": {
    "execution": {
     "iopub.execute_input": "2021-03-01T21:09:14.910271Z",
     "iopub.status.busy": "2021-03-01T21:09:14.909883Z",
     "iopub.status.idle": "2021-03-01T21:09:19.626855Z",
     "shell.execute_reply": "2021-03-01T21:09:19.625991Z",
     "shell.execute_reply.started": "2021-03-01T21:09:14.910234Z"
    }
   },
   "outputs": [],
   "source": [
    "def logistic_regression_I(network: int):\n",
    "  X = dict()\n",
    "  for heuristic in ['aa', 'cn', 'jc', 'pa']:\n",
    "    X[heuristic] = np.load(f'data/{network:02}/features/time_agnostic/{heuristic}.npy')\n",
    "  X = pd.DataFrame(X)\n",
    "    \n",
    "  y = np.load(f'data/{network:02}/targets_sampled.npy')\n",
    "  \n",
    "  X_train, X_test, y_train, y_test = (\n",
    "    sklearn.model_selection.train_test_split(X, y))\n",
    "  pipe = sklearn.pipeline.make_pipeline(\n",
    "    sklearn.preprocessing.StandardScaler(),\n",
    "    sklearn.linear_model.LogisticRegression(max_iter=10000)) # type: ignore\n",
    "  pipe.fit(X_train, y_train)\n",
    "  \n",
    "  auc = sklearn.metrics.roc_auc_score(\n",
    "    y_true=y_test, y_score=pipe.predict_proba(X_test)[:,1]) # type: ignore\n",
    "  \n",
    "  return auc\n",
    "\n",
    "time_agnostic_performance = {\n",
    "  network: logistic_regression_I(network) for network in network_indices}"
   ]
  },
  {
   "cell_type": "markdown",
   "id": "legal-carter",
   "metadata": {},
   "source": [
    "# Time aware"
   ]
  },
  {
   "cell_type": "code",
   "execution_count": 47,
   "id": "commercial-announcement",
   "metadata": {
    "execution": {
     "iopub.execute_input": "2021-03-01T21:08:00.607172Z",
     "iopub.status.busy": "2021-03-01T21:08:00.606534Z",
     "iopub.status.idle": "2021-03-01T21:09:14.906255Z",
     "shell.execute_reply": "2021-03-01T21:09:14.905223Z",
     "shell.execute_reply.started": "2021-03-01T21:08:00.607131Z"
    }
   },
   "outputs": [],
   "source": [
    "def logistic_regression_I_II_III_hypergraph(network: int):\n",
    "  X = dict()\n",
    "  # Type I features\n",
    "  for heuristic in ['aa', 'cn', 'jc', 'pa']:\n",
    "    X[heuristic] = (\n",
    "      np.load(f'data/{network:02}/features/time_agnostic/{heuristic}.npy'))\n",
    "    \n",
    "  # Type II features\n",
    "  for time_strategy in time_strategies:\n",
    "    for nodepair_strategy in nodepair_strategies:\n",
    "      for aggregation_strategy in aggregation_strategies:\n",
    "        X[(time_strategy, nodepair_strategy, aggregation_strategy)] = (\n",
    "          np.load(\n",
    "            f'data/{network:02}/features/time_node/'\n",
    "            f'{time_strategy}_{nodepair_strategy}_{aggregation_strategy}.npy'))\n",
    "  # Type III features      \n",
    "  for heuristic in ['aa', 'cn', 'jc', 'pa']:  \n",
    "    for time_strategy in time_strategies:\n",
    "      for aggregation_strategy in aggregation_strategies:\n",
    "        if aggregation_strategy not in ['m2', 'm3']:\n",
    "          X[(heuristic, time_strategy, aggregation_strategy)] = (\n",
    "            np.load(\n",
    "              f'data/{network:02}/features/time_edge/'\n",
    "              f'{heuristic}_{time_strategy}_{aggregation_strategy}.npy'))\n",
    "    \n",
    "  X = pd.DataFrame(X)\n",
    "    \n",
    "  y = np.load(f'data/{network:02}/targets_sampled.npy')\n",
    "  \n",
    "  X_train, X_test, y_train, y_test = (\n",
    "    sklearn.model_selection.train_test_split(X, y))\n",
    "  pipe = sklearn.pipeline.make_pipeline(\n",
    "    sklearn.preprocessing.StandardScaler(),\n",
    "    sklearn.linear_model.LogisticRegression(max_iter=10000))\n",
    "  pipe.fit(X_train, y_train)\n",
    "  \n",
    "  auc = sklearn.metrics.roc_auc_score(\n",
    "    y_true=y_test, y_score=pipe.predict_proba(X_test)[:,1])\n",
    "  \n",
    "  return auc\n",
    "\n",
    "def logistic_regression_I_II_III_simplegraph(network: int):\n",
    "  X = dict()\n",
    "  # Type I\n",
    "  for heuristic in ['aa', 'cn', 'jc', 'pa']:\n",
    "    X[heuristic] = (\n",
    "      np.load(f'data/{network:02}/features/time_agnostic/{heuristic}.npy'))\n",
    "  # Type II \n",
    "  for time_strategy in time_strategies:\n",
    "    for nodepair_strategy in nodepair_strategies:\n",
    "        X[(time_strategy, nodepair_strategy)] = (\n",
    "          np.load(\n",
    "            f'data/{network:02}/features/time_node/'\n",
    "            f'{time_strategy}_{nodepair_strategy}.npy'))\n",
    "  # Type III\n",
    "  for heuristic in ['aa', 'cn', 'jc', 'pa']:  \n",
    "    for time_strategy in time_strategies:\n",
    "      X[(heuristic, time_strategy)] = (\n",
    "        np.load(\n",
    "          f'data/{network:02}/features/time_edge/'\n",
    "          f'{heuristic}_{time_strategy}.npy'))\n",
    "      \n",
    "  X = pd.DataFrame(X)\n",
    "    \n",
    "  y = np.load(f'data/{network:02}/targets_sampled.npy')\n",
    "  \n",
    "  X_train, X_test, y_train, y_test = (\n",
    "    sklearn.model_selection.train_test_split(X, y))\n",
    "  pipe = sklearn.pipeline.make_pipeline(\n",
    "    sklearn.preprocessing.StandardScaler(),\n",
    "    sklearn.linear_model.LogisticRegression(max_iter=10000))\n",
    "  pipe.fit(X_train, y_train)\n",
    "  \n",
    "  auc = sklearn.metrics.roc_auc_score(\n",
    "    y_true=y_test, y_score=pipe.predict_proba(X_test)[:,1])\n",
    "  \n",
    "  return auc\n",
    "\n",
    "time_aware_performance = {\n",
    "  network: logistic_regression_I_II_III_hypergraph(network) \n",
    "  for network in hypergraphs} | {\n",
    "  network: logistic_regression_I_II_III_simplegraph(network) \n",
    "  for network in simplegraphs\n",
    "}"
   ]
  },
  {
   "cell_type": "code",
   "execution_count": 75,
   "id": "lonely-karen",
   "metadata": {
    "execution": {
     "iopub.execute_input": "2021-03-01T21:16:35.695759Z",
     "iopub.status.busy": "2021-03-01T21:16:35.695467Z",
     "iopub.status.idle": "2021-03-01T21:16:35.703008Z",
     "shell.execute_reply": "2021-03-01T21:16:35.702311Z",
     "shell.execute_reply.started": "2021-03-01T21:16:35.695731Z"
    }
   },
   "outputs": [],
   "source": [
    "df = pd.concat(\n",
    "  {\n",
    "    'auc (time aware)': pd.Series(time_aware_performance), \n",
    "    'auc (time agnostic)': pd.Series(time_unaware_performance)\n",
    "  },\n",
    "  axis=1)"
   ]
  },
  {
   "cell_type": "code",
   "execution_count": 80,
   "id": "dense-mobility",
   "metadata": {
    "execution": {
     "iopub.execute_input": "2021-03-01T21:21:33.797929Z",
     "iopub.status.busy": "2021-03-01T21:21:33.797633Z",
     "iopub.status.idle": "2021-03-01T21:21:34.023694Z",
     "shell.execute_reply": "2021-03-01T21:21:34.023090Z",
     "shell.execute_reply.started": "2021-03-01T21:21:33.797899Z"
    }
   },
   "outputs": [
    {
     "data": {
      "image/png": "[encoded data removed]",
      "text/plain": [
       "<Figure size 288x288 with 1 Axes>"
      ]
     },
     "metadata": {
      "needs_background": "light"
     },
     "output_type": "display_data"
    }
   ],
   "source": [
    "with plt.rc_context(rc):\n",
    "  sns.regplot(data=df, x='auc (time agnostic)', y='auc (time aware)')\n",
    "  plt.axline((0,0), (1,1), ls='--', c='black')\n",
    "  plt.xlim(df.min().min(), df.max().max())\n",
    "  plt.ylim(df.min().min(), df.max().max())\n",
    "  plt.tight_layout()\n",
    "  plt.savefig('figures/figure_rq1.pdf')"
   ]
  },
  {
   "cell_type": "code",
   "execution_count": null,
   "id": "extended-mission",
   "metadata": {},
   "outputs": [],
   "source": []
  }
 ],
 "metadata": {
  "kernelspec": {
   "display_name": "Python 3",
   "language": "python",
   "name": "python3"
  },
  "language_info": {
   "codemirror_mode": {
    "name": "ipython",
    "version": 3
   },
   "file_extension": ".py",
   "mimetype": "text/x-python",
   "name": "python",
   "nbconvert_exporter": "python",
   "pygments_lexer": "ipython3",
   "version": "3.9.1"
  }
 },
 "nbformat": 4,
 "nbformat_minor": 5
}
