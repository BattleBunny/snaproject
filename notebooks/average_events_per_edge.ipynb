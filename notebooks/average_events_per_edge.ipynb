{
 "cells": [
  {
   "cell_type": "code",
   "execution_count": 38,
   "id": "equal-spending",
   "metadata": {
    "execution": {
     "iopub.execute_input": "2021-06-02T06:50:01.165684Z",
     "iopub.status.busy": "2021-06-02T06:50:01.165460Z",
     "iopub.status.idle": "2021-06-02T06:50:01.204476Z",
     "shell.execute_reply": "2021-06-02T06:50:01.203800Z",
     "shell.execute_reply.started": "2021-06-02T06:50:01.165660Z"
    },
    "tags": []
   },
   "outputs": [
    {
     "name": "stdout",
     "output_type": "stream",
     "text": [
      "/data/bruingjde/on-going/SNAM2021-code\n"
     ]
    }
   ],
   "source": [
    "%cd /data/bruingjde/on-going/SNAM2021-code/\n",
    "\n",
    "import os\n",
    "\n",
    "import joblib\n",
    "import networkx as nx\n",
    "import numpy as np\n",
    "import pandas as pd\n",
    "from tqdm.auto import tqdm"
   ]
  },
  {
   "cell_type": "code",
   "execution_count": 45,
   "id": "18ba467d-0cf6-4ad9-937e-4c572e640620",
   "metadata": {
    "execution": {
     "iopub.execute_input": "2021-06-02T06:54:01.005426Z",
     "iopub.status.busy": "2021-06-02T06:54:01.005095Z",
     "iopub.status.idle": "2021-06-02T06:54:01.017520Z",
     "shell.execute_reply": "2021-06-02T06:54:01.016648Z",
     "shell.execute_reply.started": "2021-06-02T06:54:01.005390Z"
    },
    "tags": []
   },
   "outputs": [],
   "source": [
    "class ProgressParallel(joblib.Parallel):\n",
    "  def __init__(self, use_tqdm=True, total=None, desc=None, unit='it', *args, \n",
    "               **kwargs):\n",
    "    self._use_tqdm = use_tqdm\n",
    "    self._total = total\n",
    "    self._desc = desc\n",
    "    self._unit = unit\n",
    "    super().__init__(*args, **kwargs)\n",
    "\n",
    "  def __call__(self, *args, **kwargs):\n",
    "    with tqdm(disable=not self._use_tqdm, total=self._total, \n",
    "              desc=self._desc, unit=self._unit, leave=False, \n",
    "              miniters=1) as self._pbar:\n",
    "      return joblib.Parallel.__call__(self, *args, **kwargs)\n",
    "\n",
    "  def print_progress(self):\n",
    "    if self._total is None: \n",
    "      self._pbar.total = self.n_dispatched_tasks\n",
    "    self._pbar.n = self.n_completed_tasks\n",
    "    self._pbar.refresh()\n",
    "    \n",
    "def number_of_events(idx):\n",
    "  filepath = os.path.join('data', f'{idx:02}', 'edgelist.pkl')\n",
    "  print(f'{filepath=}')\n",
    "  edgelist = (\n",
    "    pd.read_pickle(filepath)\n",
    "    .loc[lambda x: x['source'] != x['target'], ['source', 'target']]\n",
    "  )\n",
    "  return {\n",
    "    'idx': idx,\n",
    "    'average events per edge': len(edgelist) / len(edgelist.drop_duplicates())\n",
    "  }"
   ]
  },
  {
   "cell_type": "code",
   "execution_count": 48,
   "id": "adjustable-width",
   "metadata": {
    "execution": {
     "iopub.execute_input": "2021-06-02T06:54:48.741835Z",
     "iopub.status.busy": "2021-06-02T06:54:48.741508Z",
     "iopub.status.idle": "2021-06-02T06:54:58.222079Z",
     "shell.execute_reply": "2021-06-02T06:54:58.220905Z",
     "shell.execute_reply.started": "2021-06-02T06:54:48.741803Z"
    },
    "tags": []
   },
   "outputs": [
    {
     "data": {
      "application/vnd.jupyter.widget-view+json": {
       "model_id": "",
       "version_major": 2,
       "version_minor": 0
      },
      "text/plain": [
       "  0%|          | 0/30 [00:00<?, ?it/s]"
      ]
     },
     "metadata": {},
     "output_type": "display_data"
    }
   ],
   "source": [
    "data = ProgressParallel(n_jobs=30, total=30)(\n",
    "  joblib.delayed(number_of_events)(idx) for idx in np.arange(1, 31)\n",
    ")"
   ]
  },
  {
   "cell_type": "code",
   "execution_count": 57,
   "id": "9a06b823-a4b4-4a2b-9bd5-32b2a0d40b5d",
   "metadata": {
    "execution": {
     "iopub.execute_input": "2021-06-02T06:56:21.178690Z",
     "iopub.status.busy": "2021-06-02T06:56:21.178341Z",
     "iopub.status.idle": "2021-06-02T06:56:21.193371Z",
     "shell.execute_reply": "2021-06-02T06:56:21.192386Z",
     "shell.execute_reply.started": "2021-06-02T06:56:21.178656Z"
    },
    "tags": []
   },
   "outputs": [
    {
     "data": {
      "text/html": [
       "<div>\n",
       "<style scoped>\n",
       "    .dataframe tbody tr th:only-of-type {\n",
       "        vertical-align: middle;\n",
       "    }\n",
       "\n",
       "    .dataframe tbody tr th {\n",
       "        vertical-align: top;\n",
       "    }\n",
       "\n",
       "    .dataframe thead th {\n",
       "        text-align: right;\n",
       "    }\n",
       "</style>\n",
       "<table border=\"1\" class=\"dataframe\">\n",
       "  <thead>\n",
       "    <tr style=\"text-align: right;\">\n",
       "      <th></th>\n",
       "      <th>average events per edge</th>\n",
       "    </tr>\n",
       "    <tr>\n",
       "      <th>idx</th>\n",
       "      <th></th>\n",
       "    </tr>\n",
       "  </thead>\n",
       "  <tbody>\n",
       "    <tr>\n",
       "      <th>15</th>\n",
       "      <td>1.000000</td>\n",
       "    </tr>\n",
       "    <tr>\n",
       "      <th>17</th>\n",
       "      <td>1.000000</td>\n",
       "    </tr>\n",
       "    <tr>\n",
       "      <th>16</th>\n",
       "      <td>1.000000</td>\n",
       "    </tr>\n",
       "    <tr>\n",
       "      <th>18</th>\n",
       "      <td>1.000000</td>\n",
       "    </tr>\n",
       "    <tr>\n",
       "      <th>8</th>\n",
       "      <td>1.000000</td>\n",
       "    </tr>\n",
       "    <tr>\n",
       "      <th>10</th>\n",
       "      <td>1.000000</td>\n",
       "    </tr>\n",
       "    <tr>\n",
       "      <th>4</th>\n",
       "      <td>1.000000</td>\n",
       "    </tr>\n",
       "    <tr>\n",
       "      <th>27</th>\n",
       "      <td>1.000000</td>\n",
       "    </tr>\n",
       "    <tr>\n",
       "      <th>20</th>\n",
       "      <td>1.000000</td>\n",
       "    </tr>\n",
       "    <tr>\n",
       "      <th>11</th>\n",
       "      <td>1.002424</td>\n",
       "    </tr>\n",
       "    <tr>\n",
       "      <th>9</th>\n",
       "      <td>1.011214</td>\n",
       "    </tr>\n",
       "    <tr>\n",
       "      <th>24</th>\n",
       "      <td>1.019444</td>\n",
       "    </tr>\n",
       "    <tr>\n",
       "      <th>21</th>\n",
       "      <td>1.030833</td>\n",
       "    </tr>\n",
       "    <tr>\n",
       "      <th>23</th>\n",
       "      <td>1.297716</td>\n",
       "    </tr>\n",
       "    <tr>\n",
       "      <th>22</th>\n",
       "      <td>1.334251</td>\n",
       "    </tr>\n",
       "    <tr>\n",
       "      <th>6</th>\n",
       "      <td>1.353547</td>\n",
       "    </tr>\n",
       "    <tr>\n",
       "      <th>25</th>\n",
       "      <td>1.438842</td>\n",
       "    </tr>\n",
       "    <tr>\n",
       "      <th>5</th>\n",
       "      <td>1.593577</td>\n",
       "    </tr>\n",
       "    <tr>\n",
       "      <th>14</th>\n",
       "      <td>1.712528</td>\n",
       "    </tr>\n",
       "    <tr>\n",
       "      <th>1</th>\n",
       "      <td>1.766873</td>\n",
       "    </tr>\n",
       "    <tr>\n",
       "      <th>2</th>\n",
       "      <td>1.944224</td>\n",
       "    </tr>\n",
       "    <tr>\n",
       "      <th>28</th>\n",
       "      <td>2.034211</td>\n",
       "    </tr>\n",
       "    <tr>\n",
       "      <th>26</th>\n",
       "      <td>2.165175</td>\n",
       "    </tr>\n",
       "    <tr>\n",
       "      <th>29</th>\n",
       "      <td>2.305068</td>\n",
       "    </tr>\n",
       "    <tr>\n",
       "      <th>7</th>\n",
       "      <td>3.541009</td>\n",
       "    </tr>\n",
       "    <tr>\n",
       "      <th>3</th>\n",
       "      <td>3.545138</td>\n",
       "    </tr>\n",
       "    <tr>\n",
       "      <th>13</th>\n",
       "      <td>4.753992</td>\n",
       "    </tr>\n",
       "    <tr>\n",
       "      <th>19</th>\n",
       "      <td>6.782853</td>\n",
       "    </tr>\n",
       "    <tr>\n",
       "      <th>30</th>\n",
       "      <td>13.331221</td>\n",
       "    </tr>\n",
       "    <tr>\n",
       "      <th>12</th>\n",
       "      <td>14.330970</td>\n",
       "    </tr>\n",
       "  </tbody>\n",
       "</table>\n",
       "</div>"
      ],
      "text/plain": [
       "     average events per edge\n",
       "idx                         \n",
       "15                  1.000000\n",
       "17                  1.000000\n",
       "16                  1.000000\n",
       "18                  1.000000\n",
       "8                   1.000000\n",
       "10                  1.000000\n",
       "4                   1.000000\n",
       "27                  1.000000\n",
       "20                  1.000000\n",
       "11                  1.002424\n",
       "9                   1.011214\n",
       "24                  1.019444\n",
       "21                  1.030833\n",
       "23                  1.297716\n",
       "22                  1.334251\n",
       "6                   1.353547\n",
       "25                  1.438842\n",
       "5                   1.593577\n",
       "14                  1.712528\n",
       "1                   1.766873\n",
       "2                   1.944224\n",
       "28                  2.034211\n",
       "26                  2.165175\n",
       "29                  2.305068\n",
       "7                   3.541009\n",
       "3                   3.545138\n",
       "13                  4.753992\n",
       "19                  6.782853\n",
       "30                 13.331221\n",
       "12                 14.330970"
      ]
     },
     "execution_count": 57,
     "metadata": {},
     "output_type": "execute_result"
    }
   ],
   "source": [
    "pd.DataFrame.from_records(data, index='idx').sort_values('average events per edge')"
   ]
  },
  {
   "cell_type": "code",
   "execution_count": null,
   "id": "df67333b-d02e-4a0f-86c3-58369223d54e",
   "metadata": {},
   "outputs": [],
   "source": []
  }
 ],
 "metadata": {
  "kernelspec": {
   "display_name": "Python 3",
   "language": "python",
   "name": "python3"
  },
  "language_info": {
   "codemirror_mode": {
    "name": "ipython",
    "version": 3
   },
   "file_extension": ".py",
   "mimetype": "text/x-python",
   "name": "python",
   "nbconvert_exporter": "python",
   "pygments_lexer": "ipython3",
   "version": "3.9.4"
  }
 },
 "nbformat": 4,
 "nbformat_minor": 5
}
