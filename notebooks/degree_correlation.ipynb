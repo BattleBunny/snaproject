{
 "cells": [
  {
   "cell_type": "code",
   "execution_count": 1,
   "id": "ef1f587b-d304-4d30-b8ec-ec4b244df986",
   "metadata": {
    "execution": {
     "iopub.execute_input": "2021-06-02T09:07:01.108219Z",
     "iopub.status.busy": "2021-06-02T09:07:01.107786Z",
     "iopub.status.idle": "2021-06-02T09:07:01.790468Z",
     "shell.execute_reply": "2021-06-02T09:07:01.789857Z",
     "shell.execute_reply.started": "2021-06-02T09:07:01.108120Z"
    },
    "tags": []
   },
   "outputs": [],
   "source": [
    "import collections\n",
    "\n",
    "import matplotlib.pyplot as plt\n",
    "import networkx as nx\n",
    "import numpy as np\n",
    "import pandas as pd"
   ]
  },
  {
   "cell_type": "code",
   "execution_count": 2,
   "id": "2c228514-65e4-4eb9-916a-3736f375f9e1",
   "metadata": {
    "execution": {
     "iopub.execute_input": "2021-06-02T09:07:01.791501Z",
     "iopub.status.busy": "2021-06-02T09:07:01.791358Z",
     "iopub.status.idle": "2021-06-02T09:07:01.795990Z",
     "shell.execute_reply": "2021-06-02T09:07:01.795518Z",
     "shell.execute_reply.started": "2021-06-02T09:07:01.791481Z"
    },
    "tags": []
   },
   "outputs": [],
   "source": [
    "def get_degree_degree_corr(network: int):\n",
    "  filepath = f'data/{network}/edgelist.pkl'\n",
    "  G = nx.from_pandas_edgelist(\n",
    "    pd.read_pickle(filepath)[['source', 'target', 'datetime']], \n",
    "    create_using=nx.MultiGraph, edge_attr=True\n",
    "  )\n",
    "  result = collections.defaultdict(list)\n",
    "  for node, degree in G.degree():\n",
    "    result[degree].append(np.mean([G.degree(neighbor) for neighbor in G[node]]))\n",
    "  endresult = dict()\n",
    "  for degree, avg_neighbor_degree in result.items():\n",
    "    endresult[degree] = np.mean(avg_neighbor_degree)\n",
    "  pd.Series(endresult).sort_index().plot(label=network)\n",
    "  plt.legend()"
   ]
  },
  {
   "cell_type": "code",
   "execution_count": 3,
   "id": "b7c631c8-9ab0-40c2-9d78-e97f71cd290e",
   "metadata": {
    "execution": {
     "iopub.execute_input": "2021-06-02T09:07:07.802481Z",
     "iopub.status.busy": "2021-06-02T09:07:07.802246Z",
     "iopub.status.idle": "2021-06-02T09:07:08.301158Z",
     "shell.execute_reply": "2021-06-02T09:07:08.300503Z",
     "shell.execute_reply.started": "2021-06-02T09:07:07.802461Z"
    }
   },
   "outputs": [
    {
     "data": {
      "image/png": "[encoded data removed]",
      "text/plain": [
       "<Figure size 432x288 with 1 Axes>"
      ]
     },
     "metadata": {
      "needs_background": "light"
     },
     "output_type": "display_data"
    }
   ],
   "source": [
    "get_degree_degree_corr(18)"
   ]
  },
  {
   "cell_type": "code",
   "execution_count": null,
   "id": "4c1718a6-e8f9-48d4-b99b-79f9a21a3e60",
   "metadata": {
    "execution": {
     "iopub.execute_input": "2021-06-02T09:07:35.230003Z",
     "iopub.status.busy": "2021-06-02T09:07:35.229690Z"
    },
    "tags": []
   },
   "outputs": [],
   "source": [
    "get_degree_degree_corr(10)"
   ]
  },
  {
   "cell_type": "code",
   "execution_count": null,
   "id": "55d9fa52-24a3-4c6d-9f90-f1c4a3b5bfa2",
   "metadata": {},
   "outputs": [],
   "source": []
  }
 ],
 "metadata": {
  "kernelspec": {
   "display_name": "Python 3",
   "language": "python",
   "name": "python3"
  },
  "language_info": {
   "codemirror_mode": {
    "name": "ipython",
    "version": 3
   },
   "file_extension": ".py",
   "mimetype": "text/x-python",
   "name": "python",
   "nbconvert_exporter": "python",
   "pygments_lexer": "ipython3",
   "version": "3.9.4"
  }
 },
 "nbformat": 4,
 "nbformat_minor": 5
}
