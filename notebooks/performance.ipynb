{
 "cells": [
  {
   "cell_type": "code",
   "execution_count": 1,
   "id": "4636e966-706b-4d61-aff0-408f83609b42",
   "metadata": {
    "execution": {
     "iopub.execute_input": "2021-06-21T15:01:37.528827Z",
     "iopub.status.busy": "2021-06-21T15:01:37.528338Z",
     "iopub.status.idle": "2021-06-21T15:01:39.795092Z",
     "shell.execute_reply": "2021-06-21T15:01:39.794089Z",
     "shell.execute_reply.started": "2021-06-21T15:01:37.528703Z"
    },
    "tags": []
   },
   "outputs": [
    {
     "name": "stdout",
     "output_type": "stream",
     "text": [
      "/data/bruingjde/on-going/SNAM2021-code\n"
     ]
    }
   ],
   "source": [
    "%cd /data/bruingjde/on-going/SNAM2021-code/\n",
    "\n",
    "import src\n",
    "import pandas as pd"
   ]
  },
  {
   "cell_type": "code",
   "execution_count": 8,
   "id": "07d14fb3-9971-49c1-aaf6-37e8ea5e662a",
   "metadata": {
    "execution": {
     "iopub.execute_input": "2021-06-21T15:02:43.900673Z",
     "iopub.status.busy": "2021-06-21T15:02:43.900113Z",
     "iopub.status.idle": "2021-06-21T15:02:50.456097Z",
     "shell.execute_reply": "2021-06-21T15:02:50.454971Z",
     "shell.execute_reply.started": "2021-06-21T15:02:43.900602Z"
    },
    "tags": []
   },
   "outputs": [
    {
     "data": {
      "text/plain": [
       "0.9054474083691345"
      ]
     },
     "execution_count": 8,
     "metadata": {},
     "output_type": "execute_result"
    }
   ],
   "source": [
    "src.predict('data/01/+000', random_state=31)"
   ]
  },
  {
   "cell_type": "code",
   "execution_count": 8,
   "id": "abbc2b47-f925-4ff8-ba74-01f8ae862b13",
   "metadata": {
    "execution": {
     "iopub.execute_input": "2021-06-10T19:32:44.158187Z",
     "iopub.status.busy": "2021-06-10T19:32:44.157896Z",
     "iopub.status.idle": "2021-06-10T19:32:46.867255Z",
     "shell.execute_reply": "2021-06-10T19:32:46.866563Z",
     "shell.execute_reply.started": "2021-06-10T19:32:44.158156Z"
    },
    "tags": []
   },
   "outputs": [
    {
     "data": {
      "text/plain": [
       "0.9093071930264641"
      ]
     },
     "execution_count": 8,
     "metadata": {},
     "output_type": "execute_result"
    }
   ],
   "source": [
    "src.predict('data/18/+020')"
   ]
  },
  {
   "cell_type": "markdown",
   "id": "6c36c01c-bf81-4423-be4a-2a362f35b250",
   "metadata": {},
   "source": [
    "# Calculate performance"
   ]
  },
  {
   "cell_type": "code",
   "execution_count": 3,
   "id": "a5582b0b-a365-41cd-b35c-3cec6d037a9a",
   "metadata": {
    "execution": {
     "iopub.execute_input": "2021-06-03T09:06:39.517739Z",
     "iopub.status.busy": "2021-06-03T09:06:39.517631Z",
     "iopub.status.idle": "2021-06-03T09:07:02.158468Z",
     "shell.execute_reply": "2021-06-03T09:07:02.156956Z",
     "shell.execute_reply.started": "2021-06-03T09:06:39.517725Z"
    },
    "tags": []
   },
   "outputs": [
    {
     "data": {
      "application/vnd.jupyter.widget-view+json": {
       "model_id": "5753871ad62249c9b16407ed868fee4a",
       "version_major": 2,
       "version_minor": 0
      },
      "text/plain": [
       "  0%|          | 0/30 [00:00<?, ?it/s]"
      ]
     },
     "metadata": {},
     "output_type": "display_data"
    }
   ],
   "source": [
    "I = [predict(i, feature_set='I') for i in tqdm(np.arange(1, 31))]"
   ]
  },
  {
   "cell_type": "code",
   "execution_count": 3,
   "id": "35065121-d842-478a-a23b-9163c4a96881",
   "metadata": {
    "execution": {
     "iopub.execute_input": "2021-06-10T19:29:29.022315Z",
     "iopub.status.busy": "2021-06-10T19:29:29.021954Z",
     "iopub.status.idle": "2021-06-10T19:29:29.103909Z",
     "shell.execute_reply": "2021-06-10T19:29:29.103266Z",
     "shell.execute_reply.started": "2021-06-10T19:29:29.022285Z"
    },
    "tags": []
   },
   "outputs": [
    {
     "data": {
      "application/vnd.jupyter.widget-view+json": {
       "model_id": "88a0a5f29d6246f3bb4786180ccc71a0",
       "version_major": 2,
       "version_minor": 0
      },
      "text/plain": [
       "  0%|          | 0/30 [00:00<?, ?it/s]"
      ]
     },
     "metadata": {},
     "output_type": "display_data"
    },
    {
     "ename": "FileNotFoundError",
     "evalue": "[Errno 2] No such file or directory: 'data/01/features'",
     "output_type": "error",
     "traceback": [
      "\u001b[0;31m---------------------------------------------------------------------------\u001b[0m",
      "\u001b[0;31mFileNotFoundError\u001b[0m                         Traceback (most recent call last)",
      "\u001b[0;32m<ipython-input-3-4ba9191eaa46>\u001b[0m in \u001b[0;36m<module>\u001b[0;34m\u001b[0m\n\u001b[0;32m----> 1\u001b[0;31m \u001b[0mII_A\u001b[0m \u001b[0;34m=\u001b[0m \u001b[0;34m[\u001b[0m\u001b[0mpredict\u001b[0m\u001b[0;34m(\u001b[0m\u001b[0mi\u001b[0m\u001b[0;34m,\u001b[0m \u001b[0mfeature_set\u001b[0m\u001b[0;34m=\u001b[0m\u001b[0;34m'II-A'\u001b[0m\u001b[0;34m)\u001b[0m \u001b[0;32mfor\u001b[0m \u001b[0mi\u001b[0m \u001b[0;32min\u001b[0m \u001b[0mtqdm\u001b[0m\u001b[0;34m(\u001b[0m\u001b[0mnp\u001b[0m\u001b[0;34m.\u001b[0m\u001b[0marange\u001b[0m\u001b[0;34m(\u001b[0m\u001b[0;36m1\u001b[0m\u001b[0;34m,\u001b[0m \u001b[0;36m31\u001b[0m\u001b[0;34m)\u001b[0m\u001b[0;34m)\u001b[0m\u001b[0;34m]\u001b[0m\u001b[0;34m\u001b[0m\u001b[0;34m\u001b[0m\u001b[0m\n\u001b[0m",
      "\u001b[0;32m<ipython-input-3-4ba9191eaa46>\u001b[0m in \u001b[0;36m<listcomp>\u001b[0;34m(.0)\u001b[0m\n\u001b[0;32m----> 1\u001b[0;31m \u001b[0mII_A\u001b[0m \u001b[0;34m=\u001b[0m \u001b[0;34m[\u001b[0m\u001b[0mpredict\u001b[0m\u001b[0;34m(\u001b[0m\u001b[0mi\u001b[0m\u001b[0;34m,\u001b[0m \u001b[0mfeature_set\u001b[0m\u001b[0;34m=\u001b[0m\u001b[0;34m'II-A'\u001b[0m\u001b[0;34m)\u001b[0m \u001b[0;32mfor\u001b[0m \u001b[0mi\u001b[0m \u001b[0;32min\u001b[0m \u001b[0mtqdm\u001b[0m\u001b[0;34m(\u001b[0m\u001b[0mnp\u001b[0m\u001b[0;34m.\u001b[0m\u001b[0marange\u001b[0m\u001b[0;34m(\u001b[0m\u001b[0;36m1\u001b[0m\u001b[0;34m,\u001b[0m \u001b[0;36m31\u001b[0m\u001b[0;34m)\u001b[0m\u001b[0;34m)\u001b[0m\u001b[0;34m]\u001b[0m\u001b[0;34m\u001b[0m\u001b[0;34m\u001b[0m\u001b[0m\n\u001b[0m",
      "\u001b[0;32m<ipython-input-2-ca0b4ab1f356>\u001b[0m in \u001b[0;36mpredict\u001b[0;34m(network, feature_set, verbose, random_state)\u001b[0m\n\u001b[1;32m     35\u001b[0m \u001b[0;34m\u001b[0m\u001b[0m\n\u001b[1;32m     36\u001b[0m   X = pd.DataFrame({f.name: np.load(f.path) \n\u001b[0;32m---> 37\u001b[0;31m                     \u001b[0;32mfor\u001b[0m \u001b[0mf\u001b[0m \u001b[0;32min\u001b[0m \u001b[0mos\u001b[0m\u001b[0;34m.\u001b[0m\u001b[0mscandir\u001b[0m\u001b[0;34m(\u001b[0m\u001b[0;34mf'data/{network:02}/features'\u001b[0m\u001b[0;34m)\u001b[0m\u001b[0;34m\u001b[0m\u001b[0;34m\u001b[0m\u001b[0m\n\u001b[0m\u001b[1;32m     38\u001b[0m                     if check(f.name)})\n\u001b[1;32m     39\u001b[0m \u001b[0;34m\u001b[0m\u001b[0m\n",
      "\u001b[0;31mFileNotFoundError\u001b[0m: [Errno 2] No such file or directory: 'data/01/features'"
     ]
    }
   ],
   "source": [
    "II_A = [predict(i, feature_set='II-A') for i in tqdm(np.arange(1, 31))]"
   ]
  },
  {
   "cell_type": "code",
   "execution_count": 5,
   "id": "a7a5daf1-3c3a-4d2c-be2a-dfaec746d215",
   "metadata": {
    "execution": {
     "iopub.execute_input": "2021-06-03T09:13:22.518539Z",
     "iopub.status.busy": "2021-06-03T09:13:22.518315Z",
     "iopub.status.idle": "2021-06-03T09:13:34.816106Z",
     "shell.execute_reply": "2021-06-03T09:13:34.814743Z",
     "shell.execute_reply.started": "2021-06-03T09:13:22.518520Z"
    },
    "tags": []
   },
   "outputs": [
    {
     "data": {
      "application/vnd.jupyter.widget-view+json": {
       "model_id": "d765680a8475478da3235e0bd020525d",
       "version_major": 2,
       "version_minor": 0
      },
      "text/plain": [
       "  0%|          | 0/30 [00:00<?, ?it/s]"
      ]
     },
     "metadata": {},
     "output_type": "display_data"
    }
   ],
   "source": [
    "II_B = [predict(i, feature_set='II-B') for i in tqdm(np.arange(1, 31))]"
   ]
  },
  {
   "cell_type": "code",
   "execution_count": 6,
   "id": "c937e2eb-794c-4f38-afe7-f1d28d09b8d4",
   "metadata": {
    "execution": {
     "iopub.execute_input": "2021-06-03T09:13:34.818402Z",
     "iopub.status.busy": "2021-06-03T09:13:34.818116Z",
     "iopub.status.idle": "2021-06-03T09:25:21.208721Z",
     "shell.execute_reply": "2021-06-03T09:25:21.207128Z",
     "shell.execute_reply.started": "2021-06-03T09:13:34.818363Z"
    },
    "tags": []
   },
   "outputs": [
    {
     "data": {
      "application/vnd.jupyter.widget-view+json": {
       "model_id": "d55ec68d2a8b4ae6bebb81d2b3fb5f55",
       "version_major": 2,
       "version_minor": 0
      },
      "text/plain": [
       "  0%|          | 0/30 [00:00<?, ?it/s]"
      ]
     },
     "metadata": {},
     "output_type": "display_data"
    }
   ],
   "source": [
    "III = [predict(i, feature_set='III') for i in tqdm(np.arange(1, 31))]"
   ]
  },
  {
   "cell_type": "code",
   "execution_count": 7,
   "id": "870d0ff1-6c77-4999-8e99-46f0574ef01a",
   "metadata": {
    "execution": {
     "iopub.execute_input": "2021-06-03T09:25:21.214274Z",
     "iopub.status.busy": "2021-06-03T09:25:21.214029Z",
     "iopub.status.idle": "2021-06-03T09:25:21.223020Z",
     "shell.execute_reply": "2021-06-03T09:25:21.222126Z",
     "shell.execute_reply.started": "2021-06-03T09:25:21.214244Z"
    },
    "tags": []
   },
   "outputs": [],
   "source": [
    "def get_stats(i):\n",
    "  edgelist = (\n",
    "    pd.read_pickle(f'data/{i:02}/edgelist.pkl')\n",
    "    .loc[lambda x: x['source'] != x['target']]\n",
    "  )\n",
    "  G = nx.Graph(edgelist)\n",
    "  return {\n",
    "    'nodes': G.number_of_nodes(),\n",
    "    'events per edge': len(edgelist) / G.number_of_edges()\n",
    "  }"
   ]
  },
  {
   "cell_type": "code",
   "execution_count": 8,
   "id": "a313108b-f302-4009-99fa-e3e827cf9638",
   "metadata": {
    "execution": {
     "iopub.execute_input": "2021-06-03T09:25:21.224576Z",
     "iopub.status.busy": "2021-06-03T09:25:21.224384Z",
     "iopub.status.idle": "2021-06-03T09:30:17.803799Z",
     "shell.execute_reply": "2021-06-03T09:30:17.802690Z",
     "shell.execute_reply.started": "2021-06-03T09:25:21.224553Z"
    },
    "tags": []
   },
   "outputs": [
    {
     "data": {
      "application/vnd.jupyter.widget-view+json": {
       "model_id": "",
       "version_major": 2,
       "version_minor": 0
      },
      "text/plain": [
       "  0%|          | 0/30 [00:00<?, ?it/s]"
      ]
     },
     "metadata": {},
     "output_type": "display_data"
    }
   ],
   "source": [
    "stats = ProgressParallel(n_jobs=30, total=30)(\n",
    "  joblib.delayed(get_stats)(i) for i in np.arange(1, 31)\n",
    ")"
   ]
  },
  {
   "cell_type": "code",
   "execution_count": 31,
   "id": "99175f2e-3beb-4915-bbc8-f133ab8a7d52",
   "metadata": {
    "execution": {
     "iopub.execute_input": "2021-06-03T09:52:54.561723Z",
     "iopub.status.busy": "2021-06-03T09:52:54.561488Z",
     "iopub.status.idle": "2021-06-03T09:52:54.566928Z",
     "shell.execute_reply": "2021-06-03T09:52:54.566186Z",
     "shell.execute_reply.started": "2021-06-03T09:52:54.561702Z"
    },
    "tags": []
   },
   "outputs": [],
   "source": [
    "t = df.assign(I=I, II_A=II_A, II_B=II_B, III=III)"
   ]
  },
  {
   "cell_type": "code",
   "execution_count": 40,
   "id": "2f61bf1c-ee07-405c-bf06-e825adc9c9af",
   "metadata": {
    "execution": {
     "iopub.execute_input": "2021-06-03T09:59:05.591895Z",
     "iopub.status.busy": "2021-06-03T09:59:05.591602Z",
     "iopub.status.idle": "2021-06-03T09:59:05.737619Z",
     "shell.execute_reply": "2021-06-03T09:59:05.736850Z",
     "shell.execute_reply.started": "2021-06-03T09:59:05.591862Z"
    },
    "tags": []
   },
   "outputs": [
    {
     "data": {
      "image/png": "[encoded data removed]",
      "text/plain": [
       "<Figure size 237.6x178.2 with 1 Axes>"
      ]
     },
     "metadata": {
      "needs_background": "light"
     },
     "output_type": "display_data"
    }
   ],
   "source": [
    "import seaborn as sns\n",
    "import matplotlib.pyplot as plt\n",
    "fontsize=8\n",
    "rc = {\n",
    "  'xtick.top': True, 'ytick.right': True, 'figure.figsize': (3.30,2.475), \n",
    "  'axes.titlesize': fontsize, \n",
    "  'axes.labelsize': fontsize, \n",
    "  'xtick.labelsize': fontsize, \n",
    "  'ytick.labelsize': fontsize, \n",
    "  'legend.fontsize': fontsize, \n",
    "  'legend.title_fontsize': fontsize,\n",
    "}\n",
    "\n",
    "with plt.rc_context(rc):\n",
    "  ax = sns.regplot(data=t, x='I', y='II_A', ci=None, scatter=False)\n",
    "  sns.scatterplot(data=t, x='I', y='II_A', hue='category', ax=ax)\n",
    "  ax.set_xlim(.65, 1)\n",
    "  ax.set_ylim(.65, 1)\n",
    "  ax.axline((0,0), (1,1), ls='--', c='black')"
   ]
  },
  {
   "cell_type": "markdown",
   "id": "2ec5dd73-c5f4-421c-b14d-2d33ae5decfa",
   "metadata": {},
   "source": [
    "# Used features"
   ]
  },
  {
   "cell_type": "code",
   "execution_count": 10,
   "id": "051db048-4f0b-43fc-9ee2-22d1c74cf493",
   "metadata": {
    "execution": {
     "iopub.execute_input": "2021-06-03T09:30:17.815963Z",
     "iopub.status.busy": "2021-06-03T09:30:17.815749Z",
     "iopub.status.idle": "2021-06-03T09:30:19.751045Z",
     "shell.execute_reply": "2021-06-03T09:30:19.750077Z",
     "shell.execute_reply.started": "2021-06-03T09:30:17.815938Z"
    },
    "tags": []
   },
   "outputs": [
    {
     "name": "stdout",
     "output_type": "stream",
     "text": [
      "['aa.npy', 'cn.npy', 'jc.npy', 'pa.npy', 'sp.npy']\n"
     ]
    },
    {
     "data": {
      "text/plain": [
       "0.9377510688069695"
      ]
     },
     "execution_count": 10,
     "metadata": {},
     "output_type": "execute_result"
    }
   ],
   "source": [
    "predict(18, feature_set='I', verbose=True)"
   ]
  },
  {
   "cell_type": "code",
   "execution_count": 11,
   "id": "6ee13223-cf64-4d07-8ef5-e15ef48ae38b",
   "metadata": {
    "execution": {
     "iopub.execute_input": "2021-06-03T09:30:19.752663Z",
     "iopub.status.busy": "2021-06-03T09:30:19.752443Z",
     "iopub.status.idle": "2021-06-03T09:30:20.280531Z",
     "shell.execute_reply": "2021-06-03T09:30:20.279563Z",
     "shell.execute_reply.started": "2021-06-03T09:30:19.752633Z"
    },
    "tags": []
   },
   "outputs": [
    {
     "name": "stdout",
     "output_type": "stream",
     "text": [
      "['aa.npy', 'aa_exp_m0.npy', 'aa_exp_m1.npy', 'aa_exp_m2.npy', 'aa_exp_m3.npy', 'aa_exp_m4.npy', 'aa_exp_q0.npy', 'aa_exp_q100.npy', 'aa_exp_q25.npy', 'aa_exp_q50.npy', 'aa_exp_q75.npy', 'aa_lin_m0.npy', 'aa_lin_m1.npy', 'aa_lin_m2.npy', 'aa_lin_m3.npy', 'aa_lin_m4.npy', 'aa_lin_q0.npy', 'aa_lin_q100.npy', 'aa_lin_q25.npy', 'aa_lin_q50.npy', 'aa_lin_q75.npy', 'aa_sqrt_m0.npy', 'aa_sqrt_m1.npy', 'aa_sqrt_m2.npy', 'aa_sqrt_m3.npy', 'aa_sqrt_m4.npy', 'aa_sqrt_q0.npy', 'aa_sqrt_q100.npy', 'aa_sqrt_q25.npy', 'aa_sqrt_q50.npy', 'aa_sqrt_q75.npy', 'cn.npy', 'cn_exp_m0.npy', 'cn_exp_m1.npy', 'cn_exp_m2.npy', 'cn_exp_m3.npy', 'cn_exp_m4.npy', 'cn_exp_q0.npy', 'cn_exp_q100.npy', 'cn_exp_q25.npy', 'cn_exp_q50.npy', 'cn_exp_q75.npy', 'cn_lin_m0.npy', 'cn_lin_m1.npy', 'cn_lin_m2.npy', 'cn_lin_m3.npy', 'cn_lin_m4.npy', 'cn_lin_q0.npy', 'cn_lin_q100.npy', 'cn_lin_q25.npy', 'cn_lin_q50.npy', 'cn_lin_q75.npy', 'cn_sqrt_m0.npy', 'cn_sqrt_m1.npy', 'cn_sqrt_m2.npy', 'cn_sqrt_m3.npy', 'cn_sqrt_m4.npy', 'cn_sqrt_q0.npy', 'cn_sqrt_q100.npy', 'cn_sqrt_q25.npy', 'cn_sqrt_q50.npy', 'cn_sqrt_q75.npy', 'jc.npy', 'jc_exp_m0.npy', 'jc_exp_m1.npy', 'jc_exp_m2.npy', 'jc_exp_m3.npy', 'jc_exp_m4.npy', 'jc_exp_q0.npy', 'jc_exp_q100.npy', 'jc_exp_q25.npy', 'jc_exp_q50.npy', 'jc_exp_q75.npy', 'jc_lin_m0.npy', 'jc_lin_m1.npy', 'jc_lin_m2.npy', 'jc_lin_m3.npy', 'jc_lin_m4.npy', 'jc_lin_q0.npy', 'jc_lin_q100.npy', 'jc_lin_q25.npy', 'jc_lin_q50.npy', 'jc_lin_q75.npy', 'jc_sqrt_m0.npy', 'jc_sqrt_m1.npy', 'jc_sqrt_m2.npy', 'jc_sqrt_m3.npy', 'jc_sqrt_m4.npy', 'jc_sqrt_q0.npy', 'jc_sqrt_q100.npy', 'jc_sqrt_q25.npy', 'jc_sqrt_q50.npy', 'jc_sqrt_q75.npy', 'pa.npy', 'pa_exp_m0.npy', 'pa_exp_m1.npy', 'pa_exp_m2.npy', 'pa_exp_m3.npy', 'pa_exp_m4.npy', 'pa_exp_q0.npy', 'pa_exp_q100.npy', 'pa_exp_q25.npy', 'pa_exp_q50.npy', 'pa_exp_q75.npy', 'pa_lin_m0.npy', 'pa_lin_m1.npy', 'pa_lin_m2.npy', 'pa_lin_m3.npy', 'pa_lin_m4.npy', 'pa_lin_q0.npy', 'pa_lin_q100.npy', 'pa_lin_q25.npy', 'pa_lin_q50.npy', 'pa_lin_q75.npy', 'pa_sqrt_m0.npy', 'pa_sqrt_m1.npy', 'pa_sqrt_m2.npy', 'pa_sqrt_m3.npy', 'pa_sqrt_m4.npy', 'pa_sqrt_q0.npy', 'pa_sqrt_q100.npy', 'pa_sqrt_q25.npy', 'pa_sqrt_q50.npy', 'pa_sqrt_q75.npy', 'sp.npy']\n"
     ]
    },
    {
     "data": {
      "text/plain": [
       "0.9533919496652415"
      ]
     },
     "execution_count": 11,
     "metadata": {},
     "output_type": "execute_result"
    }
   ],
   "source": [
    "predict(18, feature_set='II-A', verbose=True)"
   ]
  },
  {
   "cell_type": "code",
   "execution_count": 12,
   "id": "5a391d6a-e419-425f-aa44-a31d7e914e61",
   "metadata": {
    "execution": {
     "iopub.execute_input": "2021-06-03T09:30:20.282137Z",
     "iopub.status.busy": "2021-06-03T09:30:20.281915Z",
     "iopub.status.idle": "2021-06-03T09:30:20.618370Z",
     "shell.execute_reply": "2021-06-03T09:30:20.617624Z",
     "shell.execute_reply.started": "2021-06-03T09:30:20.282110Z"
    },
    "tags": []
   },
   "outputs": [
    {
     "name": "stdout",
     "output_type": "stream",
     "text": [
      "['aa.npy', 'aa_exp_q100.npy', 'aa_lin_q100.npy', 'aa_sqrt_q100.npy', 'cn.npy', 'cn_exp_q100.npy', 'cn_lin_q100.npy', 'cn_sqrt_q100.npy', 'jc.npy', 'jc_exp_q100.npy', 'jc_lin_q100.npy', 'jc_sqrt_q100.npy', 'pa.npy', 'pa_exp_q100.npy', 'pa_lin_q100.npy', 'pa_sqrt_q100.npy', 'sp.npy']\n"
     ]
    },
    {
     "data": {
      "text/plain": [
       "0.9582318302815197"
      ]
     },
     "execution_count": 12,
     "metadata": {},
     "output_type": "execute_result"
    }
   ],
   "source": [
    "predict(18, feature_set='II-B', verbose=True)"
   ]
  },
  {
   "cell_type": "code",
   "execution_count": 13,
   "id": "92ef72b4-abf1-4c58-844e-0da35287d523",
   "metadata": {
    "execution": {
     "iopub.execute_input": "2021-06-03T09:30:20.619289Z",
     "iopub.status.busy": "2021-06-03T09:30:20.619169Z",
     "iopub.status.idle": "2021-06-03T09:30:21.141711Z",
     "shell.execute_reply": "2021-06-03T09:30:21.140607Z",
     "shell.execute_reply.started": "2021-06-03T09:30:20.619275Z"
    },
    "tags": []
   },
   "outputs": [
    {
     "name": "stdout",
     "output_type": "stream",
     "text": [
      "['aa.npy', 'cn.npy', 'jc.npy', 'na_exp_m0_diff.npy', 'na_exp_m0_max.npy', 'na_exp_m0_min.npy', 'na_exp_m0_sum.npy', 'na_exp_m1_diff.npy', 'na_exp_m1_max.npy', 'na_exp_m1_min.npy', 'na_exp_m1_sum.npy', 'na_exp_m2_diff.npy', 'na_exp_m2_max.npy', 'na_exp_m2_min.npy', 'na_exp_m2_sum.npy', 'na_exp_m3_diff.npy', 'na_exp_m3_max.npy', 'na_exp_m3_min.npy', 'na_exp_m3_sum.npy', 'na_exp_m4_diff.npy', 'na_exp_m4_max.npy', 'na_exp_m4_min.npy', 'na_exp_m4_sum.npy', 'na_exp_q0_diff.npy', 'na_exp_q0_max.npy', 'na_exp_q0_min.npy', 'na_exp_q0_sum.npy', 'na_exp_q100_diff.npy', 'na_exp_q100_max.npy', 'na_exp_q100_min.npy', 'na_exp_q100_sum.npy', 'na_exp_q25_diff.npy', 'na_exp_q25_max.npy', 'na_exp_q25_min.npy', 'na_exp_q25_sum.npy', 'na_exp_q50_diff.npy', 'na_exp_q50_max.npy', 'na_exp_q50_min.npy', 'na_exp_q50_sum.npy', 'na_exp_q75_diff.npy', 'na_exp_q75_max.npy', 'na_exp_q75_min.npy', 'na_exp_q75_sum.npy', 'na_lin_m0_diff.npy', 'na_lin_m0_max.npy', 'na_lin_m0_min.npy', 'na_lin_m0_sum.npy', 'na_lin_m1_diff.npy', 'na_lin_m1_max.npy', 'na_lin_m1_min.npy', 'na_lin_m1_sum.npy', 'na_lin_m2_diff.npy', 'na_lin_m2_max.npy', 'na_lin_m2_min.npy', 'na_lin_m2_sum.npy', 'na_lin_m3_diff.npy', 'na_lin_m3_max.npy', 'na_lin_m3_min.npy', 'na_lin_m3_sum.npy', 'na_lin_m4_diff.npy', 'na_lin_m4_max.npy', 'na_lin_m4_min.npy', 'na_lin_m4_sum.npy', 'na_lin_q0_diff.npy', 'na_lin_q0_max.npy', 'na_lin_q0_min.npy', 'na_lin_q0_sum.npy', 'na_lin_q100_diff.npy', 'na_lin_q100_max.npy', 'na_lin_q100_min.npy', 'na_lin_q100_sum.npy', 'na_lin_q25_diff.npy', 'na_lin_q25_max.npy', 'na_lin_q25_min.npy', 'na_lin_q25_sum.npy', 'na_lin_q50_diff.npy', 'na_lin_q50_max.npy', 'na_lin_q50_min.npy', 'na_lin_q50_sum.npy', 'na_lin_q75_diff.npy', 'na_lin_q75_max.npy', 'na_lin_q75_min.npy', 'na_lin_q75_sum.npy', 'na_sqrt_m0_diff.npy', 'na_sqrt_m0_max.npy', 'na_sqrt_m0_min.npy', 'na_sqrt_m0_sum.npy', 'na_sqrt_m1_diff.npy', 'na_sqrt_m1_max.npy', 'na_sqrt_m1_min.npy', 'na_sqrt_m1_sum.npy', 'na_sqrt_m2_diff.npy', 'na_sqrt_m2_max.npy', 'na_sqrt_m2_min.npy', 'na_sqrt_m2_sum.npy', 'na_sqrt_m3_diff.npy', 'na_sqrt_m3_max.npy', 'na_sqrt_m3_min.npy', 'na_sqrt_m3_sum.npy', 'na_sqrt_m4_diff.npy', 'na_sqrt_m4_max.npy', 'na_sqrt_m4_min.npy', 'na_sqrt_m4_sum.npy', 'na_sqrt_q0_diff.npy', 'na_sqrt_q0_max.npy', 'na_sqrt_q0_min.npy', 'na_sqrt_q0_sum.npy', 'na_sqrt_q100_diff.npy', 'na_sqrt_q100_max.npy', 'na_sqrt_q100_min.npy', 'na_sqrt_q100_sum.npy', 'na_sqrt_q25_diff.npy', 'na_sqrt_q25_max.npy', 'na_sqrt_q25_min.npy', 'na_sqrt_q25_sum.npy', 'na_sqrt_q50_diff.npy', 'na_sqrt_q50_max.npy', 'na_sqrt_q50_min.npy', 'na_sqrt_q50_sum.npy', 'na_sqrt_q75_diff.npy', 'na_sqrt_q75_max.npy', 'na_sqrt_q75_min.npy', 'na_sqrt_q75_sum.npy', 'pa.npy', 'sp.npy']\n"
     ]
    },
    {
     "data": {
      "text/plain": [
       "0.9728966685488425"
      ]
     },
     "execution_count": 13,
     "metadata": {},
     "output_type": "execute_result"
    }
   ],
   "source": [
    "predict(18, feature_set='III', verbose=True)"
   ]
  },
  {
   "cell_type": "markdown",
   "id": "aed7da55-a5e4-4a4e-9255-aea7f37cf376",
   "metadata": {},
   "source": [
    "# Robustness"
   ]
  },
  {
   "cell_type": "code",
   "execution_count": 14,
   "id": "d5fb143c-2f51-485b-9212-60b9859daef0",
   "metadata": {
    "execution": {
     "iopub.execute_input": "2021-06-03T09:30:21.143505Z",
     "iopub.status.busy": "2021-06-03T09:30:21.143284Z",
     "iopub.status.idle": "2021-06-03T09:30:23.971610Z",
     "shell.execute_reply": "2021-06-03T09:30:23.970765Z",
     "shell.execute_reply.started": "2021-06-03T09:30:21.143476Z"
    },
    "tags": []
   },
   "outputs": [
    {
     "data": {
      "text/plain": [
       "[0.7216327379809231,\n",
       " 0.7336134453781512,\n",
       " 0.7294993473952206,\n",
       " 0.7302365054202494,\n",
       " 0.720031684562577,\n",
       " 0.7327583445448139,\n",
       " 0.738697705802969,\n",
       " 0.7054931515617,\n",
       " 0.7161839999999999,\n",
       " 0.6631819928278688]"
      ]
     },
     "execution_count": 14,
     "metadata": {},
     "output_type": "execute_result"
    }
   ],
   "source": [
    "[predict(12, 'I', random_state=random_state) for random_state in range(10)]"
   ]
  },
  {
   "cell_type": "code",
   "execution_count": 15,
   "id": "5f8e73c6-d9f9-44b0-91d8-31d00dc38a7b",
   "metadata": {
    "execution": {
     "iopub.execute_input": "2021-06-03T09:30:23.972871Z",
     "iopub.status.busy": "2021-06-03T09:30:23.972731Z",
     "iopub.status.idle": "2021-06-03T09:30:30.270500Z",
     "shell.execute_reply": "2021-06-03T09:30:30.269130Z",
     "shell.execute_reply.started": "2021-06-03T09:30:23.972853Z"
    },
    "tags": []
   },
   "outputs": [
    {
     "data": {
      "text/plain": [
       "[0.8340455156520069,\n",
       " 0.8306842737094837,\n",
       " 0.8304677806603393,\n",
       " 0.786232406206466,\n",
       " 0.8111408042758157,\n",
       " 0.8400762380677815,\n",
       " 0.8393981749244906,\n",
       " 0.8331893241167434,\n",
       " 0.811712,\n",
       " 0.7934650358606556]"
      ]
     },
     "execution_count": 15,
     "metadata": {},
     "output_type": "execute_result"
    }
   ],
   "source": [
    "[predict(12, 'II-A', random_state=random_state) for random_state in range(10)]"
   ]
  },
  {
   "cell_type": "code",
   "execution_count": 16,
   "id": "8ddb820b-f8dc-4d90-8cd5-71b41daf5498",
   "metadata": {
    "execution": {
     "iopub.execute_input": "2021-06-03T09:30:30.272526Z",
     "iopub.status.busy": "2021-06-03T09:30:30.272147Z",
     "iopub.status.idle": "2021-06-03T09:30:33.345191Z",
     "shell.execute_reply": "2021-06-03T09:30:33.344134Z",
     "shell.execute_reply.started": "2021-06-03T09:30:30.272478Z"
    },
    "tags": []
   },
   "outputs": [
    {
     "data": {
      "text/plain": [
       "[0.7824883170091543,\n",
       " 0.7561904761904762,\n",
       " 0.768333360189497,\n",
       " 0.7712926934716818,\n",
       " 0.7532764718119409,\n",
       " 0.7773399961560639,\n",
       " 0.7958196773986248,\n",
       " 0.7652329749103943,\n",
       " 0.7416320000000001,\n",
       " 0.7299804687500001]"
      ]
     },
     "execution_count": 16,
     "metadata": {},
     "output_type": "execute_result"
    }
   ],
   "source": [
    "[predict(12, 'II-B', random_state=random_state) for random_state in range(10)]"
   ]
  },
  {
   "cell_type": "code",
   "execution_count": 17,
   "id": "88d687d6-37e4-49a8-9983-fe508cb5c066",
   "metadata": {
    "execution": {
     "iopub.execute_input": "2021-06-03T09:30:33.346796Z",
     "iopub.status.busy": "2021-06-03T09:30:33.346544Z",
     "iopub.status.idle": "2021-06-03T09:30:39.216563Z",
     "shell.execute_reply": "2021-06-03T09:30:39.215531Z",
     "shell.execute_reply.started": "2021-06-03T09:30:33.346764Z"
    },
    "tags": []
   },
   "outputs": [
    {
     "data": {
      "text/plain": [
       "[0.8791530631841751,\n",
       " 0.888499399759904,\n",
       " 0.8777614850384312,\n",
       " 0.8673520039711134,\n",
       " 0.8617560928773744,\n",
       " 0.8823435197642386,\n",
       " 0.8888728230833495,\n",
       " 0.8629352278545827,\n",
       " 0.869728,\n",
       " 0.8255795338114753]"
      ]
     },
     "execution_count": 17,
     "metadata": {},
     "output_type": "execute_result"
    }
   ],
   "source": [
    "[predict(12, 'III', random_state=random_state) for random_state in range(10)]"
   ]
  },
  {
   "cell_type": "code",
   "execution_count": null,
   "id": "c2b684fb-cb2a-4538-9f82-c17a62096b9e",
   "metadata": {},
   "outputs": [],
   "source": []
  }
 ],
 "metadata": {
  "kernelspec": {
   "display_name": "Python 3",
   "language": "python",
   "name": "python3"
  },
  "language_info": {
   "codemirror_mode": {
    "name": "ipython",
    "version": 3
   },
   "file_extension": ".py",
   "mimetype": "text/x-python",
   "name": "python",
   "nbconvert_exporter": "python",
   "pygments_lexer": "ipython3",
   "version": "3.9.4"
  }
 },
 "nbformat": 4,
 "nbformat_minor": 5
}
