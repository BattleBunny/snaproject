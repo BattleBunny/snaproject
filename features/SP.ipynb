{
 "cells": [
  {
   "cell_type": "code",
   "execution_count": 1,
   "id": "nearby-rotation",
   "metadata": {
    "execution": {
     "iopub.execute_input": "2021-02-15T17:05:43.022185Z",
     "iopub.status.busy": "2021-02-15T17:05:43.021813Z",
     "iopub.status.idle": "2021-02-15T17:05:43.093722Z",
     "shell.execute_reply": "2021-02-15T17:05:43.092315Z",
     "shell.execute_reply.started": "2021-02-15T17:05:43.022040Z"
    }
   },
   "outputs": [
    {
     "output_type": "stream",
     "name": "stdout",
     "text": [
      "/scratch/bruingjde/temporalLinkprediction\n"
     ]
    }
   ],
   "source": [
    "%cd .."
   ]
  },
  {
   "cell_type": "code",
   "execution_count": 1,
   "id": "registered-kazakhstan",
   "metadata": {
    "execution": {
     "iopub.execute_input": "2021-02-15T17:05:43.095513Z",
     "iopub.status.busy": "2021-02-15T17:05:43.095241Z",
     "iopub.status.idle": "2021-02-15T17:05:45.119721Z",
     "shell.execute_reply": "2021-02-15T17:05:45.118293Z",
     "shell.execute_reply.started": "2021-02-15T17:05:43.095478Z"
    }
   },
   "outputs": [
    {
     "output_type": "stream",
     "name": "stdout",
     "text": [
      "/scratch/bruingjde/temporalLinkprediction\n"
     ]
    }
   ],
   "source": [
    "%cd ..\n",
    "\n",
    "import collections\n",
    "import os\n",
    "import typing\n",
    "\n",
    "import joblib\n",
    "import networkx as nx\n",
    "from tqdm.auto import tqdm\n",
    "\n",
    "import tlp"
   ]
  },
  {
   "cell_type": "code",
   "execution_count": 2,
   "id": "different-compiler",
   "metadata": {
    "execution": {
     "iopub.execute_input": "2021-02-15T17:05:45.121753Z",
     "iopub.status.busy": "2021-02-15T17:05:45.121471Z",
     "iopub.status.idle": "2021-02-15T17:05:47.638619Z",
     "shell.execute_reply": "2021-02-15T17:05:47.637188Z",
     "shell.execute_reply.started": "2021-02-15T17:05:45.121718Z"
    }
   },
   "outputs": [],
   "source": [
    "edgelist_mature_dict = tlp.recursive_file_lookup('edgelist_mature.pkl')\n",
    "instances_dict = tlp.recursive_file_lookup('instances_sampled.pkl')"
   ]
  },
  {
   "cell_type": "code",
   "execution_count": 3,
   "id": "selected-president",
   "metadata": {
    "execution": {
     "iopub.execute_input": "2021-02-15T17:12:37.264658Z",
     "iopub.status.busy": "2021-02-15T17:12:37.262486Z",
     "iopub.status.idle": "2021-02-15T17:47:12.288776Z",
     "shell.execute_reply": "2021-02-15T17:47:12.287304Z",
     "shell.execute_reply.started": "2021-02-15T17:12:37.264493Z"
    }
   },
   "outputs": [
    {
     "output_type": "display_data",
     "data": {
      "text/plain": "  0%|          | 0/27 [00:00<?, ?it/s]",
      "application/vnd.jupyter.widget-view+json": {
       "version_major": 2,
       "version_minor": 0,
       "model_id": "d95d067c7c9849faa6af4c9055ee5b04"
      }
     },
     "metadata": {}
    },
    {
     "output_type": "stream",
     "name": "stdout",
     "text": [
      "01 is skipped\n"
     ]
    },
    {
     "output_type": "display_data",
     "data": {
      "text/plain": "02:   0%|          | 0/20000 [00:00<?, ?node/s]",
      "application/vnd.jupyter.widget-view+json": {
       "version_major": 2,
       "version_minor": 0,
       "model_id": "18681a7ce9234e34b7068c1aec1be5f1"
      }
     },
     "metadata": {}
    },
    {
     "output_type": "display_data",
     "data": {
      "text/plain": "03:   0%|          | 0/20000 [00:00<?, ?node/s]",
      "application/vnd.jupyter.widget-view+json": {
       "version_major": 2,
       "version_minor": 0,
       "model_id": "da5811ca48b74d4aafff693984857419"
      }
     },
     "metadata": {}
    },
    {
     "output_type": "display_data",
     "data": {
      "text/plain": "04:   0%|          | 0/20000 [00:00<?, ?node/s]",
      "application/vnd.jupyter.widget-view+json": {
       "version_major": 2,
       "version_minor": 0,
       "model_id": "6611bcabede94c56abe92d3def0cffe2"
      }
     },
     "metadata": {}
    },
    {
     "output_type": "display_data",
     "data": {
      "text/plain": "05:   0%|          | 0/20000 [00:00<?, ?node/s]",
      "application/vnd.jupyter.widget-view+json": {
       "version_major": 2,
       "version_minor": 0,
       "model_id": "289b0a89eb494e039d244f0d901a3750"
      }
     },
     "metadata": {}
    },
    {
     "output_type": "display_data",
     "data": {
      "text/plain": "06:   0%|          | 0/20000 [00:00<?, ?node/s]",
      "application/vnd.jupyter.widget-view+json": {
       "version_major": 2,
       "version_minor": 0,
       "model_id": "987e04434e494861b3b49cbdb6d01759"
      }
     },
     "metadata": {}
    },
    {
     "output_type": "display_data",
     "data": {
      "text/plain": "07:   0%|          | 0/20000 [00:00<?, ?node/s]",
      "application/vnd.jupyter.widget-view+json": {
       "version_major": 2,
       "version_minor": 0,
       "model_id": "2b9e045118d24585b9aa74e58f33e705"
      }
     },
     "metadata": {}
    },
    {
     "output_type": "display_data",
     "data": {
      "text/plain": "08:   0%|          | 0/20000 [00:00<?, ?node/s]",
      "application/vnd.jupyter.widget-view+json": {
       "version_major": 2,
       "version_minor": 0,
       "model_id": "54e350f1e4664cf78bacf82ccf3fa3fa"
      }
     },
     "metadata": {}
    },
    {
     "output_type": "display_data",
     "data": {
      "text/plain": "09:   0%|          | 0/20000 [00:00<?, ?node/s]",
      "application/vnd.jupyter.widget-view+json": {
       "version_major": 2,
       "version_minor": 0,
       "model_id": "f72af49df845443188231fa0192ad2fc"
      }
     },
     "metadata": {}
    },
    {
     "output_type": "display_data",
     "data": {
      "text/plain": "10:   0%|          | 0/20000 [00:00<?, ?node/s]",
      "application/vnd.jupyter.widget-view+json": {
       "version_major": 2,
       "version_minor": 0,
       "model_id": "940e1fd8bbca44d581cfd5ae2e20e018"
      }
     },
     "metadata": {}
    },
    {
     "output_type": "display_data",
     "data": {
      "text/plain": "11:   0%|          | 0/20000 [00:00<?, ?node/s]",
      "application/vnd.jupyter.widget-view+json": {
       "version_major": 2,
       "version_minor": 0,
       "model_id": "aa03bdbff6f34df1bbcd1ddf741dd3c1"
      }
     },
     "metadata": {}
    },
    {
     "output_type": "display_data",
     "data": {
      "text/plain": "12:   0%|          | 0/20000 [00:00<?, ?node/s]",
      "application/vnd.jupyter.widget-view+json": {
       "version_major": 2,
       "version_minor": 0,
       "model_id": "04cf51c6b77f4c29a47007e0fdfa2a76"
      }
     },
     "metadata": {}
    },
    {
     "output_type": "display_data",
     "data": {
      "text/plain": "13:   0%|          | 0/20000 [00:00<?, ?node/s]",
      "application/vnd.jupyter.widget-view+json": {
       "version_major": 2,
       "version_minor": 0,
       "model_id": "a27c7b9950a6493cb0533f7236d54787"
      }
     },
     "metadata": {}
    },
    {
     "output_type": "display_data",
     "data": {
      "text/plain": "14:   0%|          | 0/20000 [00:00<?, ?node/s]",
      "application/vnd.jupyter.widget-view+json": {
       "version_major": 2,
       "version_minor": 0,
       "model_id": "29d6268ac4674da1b6e9454272c29dff"
      }
     },
     "metadata": {}
    },
    {
     "output_type": "display_data",
     "data": {
      "text/plain": "16:   0%|          | 0/20000 [00:00<?, ?node/s]",
      "application/vnd.jupyter.widget-view+json": {
       "version_major": 2,
       "version_minor": 0,
       "model_id": "1fbc226f6edc470195dea1b1f36c2fd9"
      }
     },
     "metadata": {}
    },
    {
     "output_type": "display_data",
     "data": {
      "text/plain": "18:   0%|          | 0/20000 [00:00<?, ?node/s]",
      "application/vnd.jupyter.widget-view+json": {
       "version_major": 2,
       "version_minor": 0,
       "model_id": "4f62434ac4a043cdaa1a6b9ddba5dc6c"
      }
     },
     "metadata": {}
    },
    {
     "output_type": "display_data",
     "data": {
      "text/plain": "19:   0%|          | 0/20000 [00:00<?, ?node/s]",
      "application/vnd.jupyter.widget-view+json": {
       "version_major": 2,
       "version_minor": 0,
       "model_id": "2515d4ab035642249c051a67962d94b6"
      }
     },
     "metadata": {}
    },
    {
     "output_type": "display_data",
     "data": {
      "text/plain": "20:   0%|          | 0/20000 [00:00<?, ?node/s]",
      "application/vnd.jupyter.widget-view+json": {
       "version_major": 2,
       "version_minor": 0,
       "model_id": "d8eeef85e1ec4f6fb6bdcd95eb87fc62"
      }
     },
     "metadata": {}
    },
    {
     "output_type": "display_data",
     "data": {
      "text/plain": "21:   0%|          | 0/20000 [00:00<?, ?node/s]",
      "application/vnd.jupyter.widget-view+json": {
       "version_major": 2,
       "version_minor": 0,
       "model_id": "c989512efa5544119c7451213639df56"
      }
     },
     "metadata": {}
    },
    {
     "output_type": "display_data",
     "data": {
      "text/plain": "22:   0%|          | 0/20000 [00:00<?, ?node/s]",
      "application/vnd.jupyter.widget-view+json": {
       "version_major": 2,
       "version_minor": 0,
       "model_id": "3e1ac942cd2346f9b71a4771299a90cb"
      }
     },
     "metadata": {}
    },
    {
     "output_type": "display_data",
     "data": {
      "text/plain": "23:   0%|          | 0/20000 [00:00<?, ?node/s]",
      "application/vnd.jupyter.widget-view+json": {
       "version_major": 2,
       "version_minor": 0,
       "model_id": "93f9b012654d4d24b29014d0aa53315b"
      }
     },
     "metadata": {}
    },
    {
     "output_type": "display_data",
     "data": {
      "text/plain": "24:   0%|          | 0/20000 [00:00<?, ?node/s]",
      "application/vnd.jupyter.widget-view+json": {
       "version_major": 2,
       "version_minor": 0,
       "model_id": "49034d2719d04282943d8add107c4722"
      }
     },
     "metadata": {}
    },
    {
     "output_type": "display_data",
     "data": {
      "text/plain": "25:   0%|          | 0/20000 [00:00<?, ?node/s]",
      "application/vnd.jupyter.widget-view+json": {
       "version_major": 2,
       "version_minor": 0,
       "model_id": "c8e5eb1984cb4c4488814852f91fba58"
      }
     },
     "metadata": {}
    },
    {
     "output_type": "display_data",
     "data": {
      "text/plain": "28:   0%|          | 0/20000 [00:00<?, ?node/s]",
      "application/vnd.jupyter.widget-view+json": {
       "version_major": 2,
       "version_minor": 0,
       "model_id": "f53517fc7b21411b9a4cea5906c18bc3"
      }
     },
     "metadata": {}
    },
    {
     "output_type": "display_data",
     "data": {
      "text/plain": "29:   0%|          | 0/20000 [00:00<?, ?node/s]",
      "application/vnd.jupyter.widget-view+json": {
       "version_major": 2,
       "version_minor": 0,
       "model_id": "237d0b873d814a169676405fe2786840"
      }
     },
     "metadata": {}
    },
    {
     "output_type": "display_data",
     "data": {
      "text/plain": "30:   0%|          | 0/20000 [00:00<?, ?node/s]",
      "application/vnd.jupyter.widget-view+json": {
       "version_major": 2,
       "version_minor": 0,
       "model_id": "0dcfdc1efa9e463bb0544421a51fbead"
      }
     },
     "metadata": {}
    },
    {
     "output_type": "display_data",
     "data": {
      "text/plain": "31:   0%|          | 0/20000 [00:00<?, ?node/s]",
      "application/vnd.jupyter.widget-view+json": {
       "version_major": 2,
       "version_minor": 0,
       "model_id": "8ac1ef00b8934332890ebcc6c255d576"
      }
     },
     "metadata": {}
    }
   ],
   "source": [
    "for idx, instances in tqdm(instances_dict.items(), mininterval=0):\n",
    "  edgelist = edgelist_mature_dict[idx]\n",
    "  tlp.features.sp(edgelist, instances, output_path=f'data/{idx}/features', index=int(idx))"
   ]
  },
  {
   "cell_type": "code",
   "execution_count": null,
   "metadata": {},
   "outputs": [],
   "source": []
  }
 ],
 "metadata": {
  "kernelspec": {
   "display_name": "Python 3",
   "language": "python",
   "name": "python3"
  },
  "language_info": {
   "codemirror_mode": {
    "name": "ipython",
    "version": 3
   },
   "file_extension": ".py",
   "mimetype": "text/x-python",
   "name": "python",
   "nbconvert_exporter": "python",
   "pygments_lexer": "ipython3",
   "version": "3.9.1-final"
  }
 },
 "nbformat": 4,
 "nbformat_minor": 5
}