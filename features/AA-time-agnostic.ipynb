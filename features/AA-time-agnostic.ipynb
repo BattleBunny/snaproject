{
 "cells": [
  {
   "cell_type": "code",
   "execution_count": 1,
   "id": "needed-invitation",
   "metadata": {
    "execution": {
     "iopub.execute_input": "2021-02-15T16:25:57.850817Z",
     "iopub.status.busy": "2021-02-15T16:25:57.850407Z",
     "iopub.status.idle": "2021-02-15T16:25:57.864800Z",
     "shell.execute_reply": "2021-02-15T16:25:57.863749Z",
     "shell.execute_reply.started": "2021-02-15T16:25:57.850776Z"
    }
   },
   "outputs": [
    {
     "output_type": "stream",
     "name": "stdout",
     "text": [
      "/scratch/bruingjde/temporalLinkprediction\n"
     ]
    }
   ],
   "source": [
    "%cd ..\n",
    "import collections\n",
    "import os\n",
    "import typing\n",
    "\n",
    "import joblib\n",
    "import networkx as nx\n",
    "from tqdm.auto import tqdm\n",
    "\n",
    "import tlp"
   ]
  },
  {
   "cell_type": "code",
   "execution_count": 2,
   "id": "early-passing",
   "metadata": {},
   "outputs": [],
   "source": [
    "edgelist_mature_dict = tlp.recursive_file_lookup('edgelist_mature.pkl')\n",
    "instances_dict = tlp.recursive_file_lookup('instances_sampled.pkl')"
   ]
  },
  {
   "cell_type": "code",
   "execution_count": 6,
   "id": "accurate-package",
   "metadata": {
    "execution": {
     "iopub.execute_input": "2021-02-15T15:51:52.884207Z",
     "iopub.status.busy": "2021-02-15T15:51:52.883508Z",
     "iopub.status.idle": "2021-02-15T15:51:52.956509Z",
     "shell.execute_reply": "2021-02-15T15:51:52.955417Z",
     "shell.execute_reply.started": "2021-02-15T15:51:52.884172Z"
    }
   },
   "outputs": [
    {
     "output_type": "display_data",
     "data": {
      "text/plain": "  0%|          | 0/26 [00:00<?, ?it/s]",
      "application/vnd.jupyter.widget-view+json": {
       "version_major": 2,
       "version_minor": 0,
       "model_id": "017362ef1b3f42488964729e7046666a"
      }
     },
     "metadata": {}
    }
   ],
   "source": [
    "for idx, instances in tqdm(instances_dict.items()):\n",
    "  tlp.features.aa_time_agnostic(\n",
    "    edgelist=edgelist_mature_dict[idx], \n",
    "    instances=instances, \n",
    "    output_path=f'data/{idx}/features')"
   ]
  },
  {
   "cell_type": "code",
   "execution_count": null,
   "metadata": {},
   "outputs": [],
   "source": []
  }
 ],
 "metadata": {
  "kernelspec": {
   "display_name": "Python 3",
   "language": "python",
   "name": "python3"
  },
  "language_info": {
   "codemirror_mode": {
    "name": "ipython",
    "version": 3
   },
   "file_extension": ".py",
   "mimetype": "text/x-python",
   "name": "python",
   "nbconvert_exporter": "python",
   "pygments_lexer": "ipython3",
   "version": "3.9.1-final"
  }
 },
 "nbformat": 4,
 "nbformat_minor": 5
}