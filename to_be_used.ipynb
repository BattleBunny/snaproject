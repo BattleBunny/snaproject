{
 "cells": [
  {
   "cell_type": "markdown",
   "id": "romantic-entry",
   "metadata": {},
   "source": [
    "# New features\n",
    "\n",
    "## Number of shortest path\n",
    "Mind that only distance-2 node pairs are used at the moment."
   ]
  },
  {
   "cell_type": "code",
   "execution_count": 241,
   "id": "available-health",
   "metadata": {
    "execution": {
     "iopub.execute_input": "2021-02-08T10:12:09.556956Z",
     "iopub.status.busy": "2021-02-08T10:12:09.556634Z",
     "iopub.status.idle": "2021-02-08T10:12:18.177202Z",
     "shell.execute_reply": "2021-02-08T10:12:18.176533Z",
     "shell.execute_reply.started": "2021-02-08T10:12:09.556923Z"
    }
   },
   "outputs": [
    {
     "data": {
      "application/vnd.jupyter.widget-view+json": {
       "model_id": "8f6012cbd25144cf975e4ab50283d08f",
       "version_major": 2,
       "version_minor": 0
      },
      "text/plain": [
       "  0%|          | 0/20000 [00:00<?, ?it/s]"
      ]
     },
     "metadata": {},
     "output_type": "display_data"
    },
    {
     "data": {
      "text/plain": [
       "['01 dblp_coauthor/temp/features/number-shortest-paths-time-unaware.pkl']"
      ]
     },
     "execution_count": 241,
     "metadata": {},
     "output_type": "execute_result"
    }
   ],
   "source": [
    "# Slow method, but providing also shortest paths at greater distance:\n",
    "# [len(list(nx.all_shortest_paths(multigraph_mature, *sample))) for sample in tqdm(np.load('temp/samples.npy'))]\n",
    "\n",
    "def single_source_number_paths_length_2(graph: nx.Graph, source):\n",
    "  result = Counter()\n",
    "  for nb in graph[source]: \n",
    "    for nnb in graph[nb]: \n",
    "      result[nnb] += 1\n",
    "  return result\n",
    "\n",
    "multigraph_mature = nx.read_gpickle(f'{temp_path}/multigraph-mature.pkl')\n",
    "\n",
    "paths__of_length_2_from_node_u = {\n",
    "  node: single_source_number_paths_length_2(multigraph_mature, node) \n",
    "  for node in np.load(f'{temp_path}/samples.npy')[:,0]}\n",
    "\n",
    "joblib.dump(\n",
    "  {Experiment('Number of shortest paths'): \n",
    "   np.array([paths__of_length_2_from_node_u[u][v] \n",
    "             for u, v in tqdm(np.load(f'{temp_path}/samples.npy'))])}, \n",
    "  f'{temp_path}/features/number-shortest-paths-time-unaware.pkl')"
   ]
  },
  {
   "cell_type": "markdown",
   "id": "unlike-endorsement",
   "metadata": {},
   "source": [
    "## Node attributes"
   ]
  },
  {
   "cell_type": "code",
   "execution_count": 95,
   "id": "scheduled-tribune",
   "metadata": {
    "execution": {
     "iopub.execute_input": "2021-02-09T14:02:39.061475Z",
     "iopub.status.busy": "2021-02-09T14:02:39.061243Z",
     "iopub.status.idle": "2021-02-09T14:02:39.119617Z",
     "shell.execute_reply": "2021-02-09T14:02:39.118872Z",
     "shell.execute_reply.started": "2021-02-09T14:02:39.061449Z"
    }
   },
   "outputs": [],
   "source": [
    "edgelist = joblib.load(f'{temp_path}/edgelist_mature.pkl')\n",
    "samples=np.load(f'{temp_path}/index_sampled.npy')\n",
    "verbose=True\n",
    "\n",
    "def get_node_attributes(edgelist, samples, aggregation_strategy, time_strategy, **kwargs):\n",
    "  edgelist['datetime_transformed'] = time_strategy(edgelist['datetime'])\n",
    "  graph = nx.from_pandas_edgelist(\n",
    "    edgelist, source='u', target='v', edge_attr=True, \n",
    "    create_using=nx.MultiGraph)\n",
    "  \n",
    "  result = list()\n",
    "  for u, v in tqdm(samples):\n",
    "    activity_u = aggregation_strategy(\n",
    "      [edge_attributes['datetime_transformed'] \n",
    "       for nb in graph[u]\n",
    "       for edge_attributes in graph.get_edge_data(u, nb).values()])\n",
    "    activity_v = aggregation_strategy(\n",
    "      [edge_attributes['datetime_transformed'] \n",
    "       for nb in graph[v]\n",
    "       for edge_attributes in graph.get_edge_data(v, nb).values()])\n",
    "    result.append(activity_u +activity_v)\n",
    "  return result #!"
   ]
  },
  {
   "cell_type": "code",
   "execution_count": 96,
   "id": "artificial-choice",
   "metadata": {
    "execution": {
     "iopub.execute_input": "2021-02-09T14:02:39.809929Z",
     "iopub.status.busy": "2021-02-09T14:02:39.809712Z",
     "iopub.status.idle": "2021-02-09T14:08:09.648713Z",
     "shell.execute_reply": "2021-02-09T14:08:09.648209Z",
     "shell.execute_reply.started": "2021-02-09T14:02:39.809903Z"
    }
   },
   "outputs": [
    {
     "data": {
      "application/vnd.jupyter.widget-view+json": {
       "model_id": "6153128764af4b628a6198b20fcb8e97",
       "version_major": 2,
       "version_minor": 0
      },
      "text/plain": [
       "  0%|          | 0/3 [00:00<?, ?it/s]"
      ]
     },
     "metadata": {},
     "output_type": "display_data"
    },
    {
     "data": {
      "application/vnd.jupyter.widget-view+json": {
       "model_id": "",
       "version_major": 2,
       "version_minor": 0
      },
      "text/plain": [
       "  0%|          | 0/4 [00:00<?, ?it/s]"
      ]
     },
     "metadata": {},
     "output_type": "display_data"
    },
    {
     "data": {
      "application/vnd.jupyter.widget-view+json": {
       "model_id": "65ccbc3a806f42479ab7444079d4f3ff",
       "version_major": 2,
       "version_minor": 0
      },
      "text/plain": [
       "  0%|          | 0/20000 [00:00<?, ?it/s]"
      ]
     },
     "metadata": {},
     "output_type": "display_data"
    },
    {
     "data": {
      "application/vnd.jupyter.widget-view+json": {
       "model_id": "a5c8bf1beefa437bac59ece3b33ed93e",
       "version_major": 2,
       "version_minor": 0
      },
      "text/plain": [
       "  0%|          | 0/20000 [00:00<?, ?it/s]"
      ]
     },
     "metadata": {},
     "output_type": "display_data"
    },
    {
     "data": {
      "application/vnd.jupyter.widget-view+json": {
       "model_id": "ee0b2a21026b4546ad02b97d6714f10b",
       "version_major": 2,
       "version_minor": 0
      },
      "text/plain": [
       "  0%|          | 0/20000 [00:00<?, ?it/s]"
      ]
     },
     "metadata": {},
     "output_type": "display_data"
    },
    {
     "data": {
      "application/vnd.jupyter.widget-view+json": {
       "model_id": "74eaafe54cd64b69ab9cc09ff081d149",
       "version_major": 2,
       "version_minor": 0
      },
      "text/plain": [
       "  0%|          | 0/20000 [00:00<?, ?it/s]"
      ]
     },
     "metadata": {},
     "output_type": "display_data"
    },
    {
     "data": {
      "application/vnd.jupyter.widget-view+json": {
       "model_id": "",
       "version_major": 2,
       "version_minor": 0
      },
      "text/plain": [
       "  0%|          | 0/4 [00:00<?, ?it/s]"
      ]
     },
     "metadata": {},
     "output_type": "display_data"
    },
    {
     "data": {
      "application/vnd.jupyter.widget-view+json": {
       "model_id": "50f5aeaeace84073aceb4dbc12ac417c",
       "version_major": 2,
       "version_minor": 0
      },
      "text/plain": [
       "  0%|          | 0/20000 [00:00<?, ?it/s]"
      ]
     },
     "metadata": {},
     "output_type": "display_data"
    },
    {
     "data": {
      "application/vnd.jupyter.widget-view+json": {
       "model_id": "d3315be8f75b4b209bece4cc5af66fde",
       "version_major": 2,
       "version_minor": 0
      },
      "text/plain": [
       "  0%|          | 0/20000 [00:00<?, ?it/s]"
      ]
     },
     "metadata": {},
     "output_type": "display_data"
    },
    {
     "data": {
      "application/vnd.jupyter.widget-view+json": {
       "model_id": "4cac3f8f1a1341fc89f3ae4f6b88ba61",
       "version_major": 2,
       "version_minor": 0
      },
      "text/plain": [
       "  0%|          | 0/20000 [00:00<?, ?it/s]"
      ]
     },
     "metadata": {},
     "output_type": "display_data"
    },
    {
     "data": {
      "application/vnd.jupyter.widget-view+json": {
       "model_id": "bffb8ee86f80465aa88cc22ed81f73ce",
       "version_major": 2,
       "version_minor": 0
      },
      "text/plain": [
       "  0%|          | 0/20000 [00:00<?, ?it/s]"
      ]
     },
     "metadata": {},
     "output_type": "display_data"
    },
    {
     "data": {
      "application/vnd.jupyter.widget-view+json": {
       "model_id": "",
       "version_major": 2,
       "version_minor": 0
      },
      "text/plain": [
       "  0%|          | 0/4 [00:00<?, ?it/s]"
      ]
     },
     "metadata": {},
     "output_type": "display_data"
    },
    {
     "data": {
      "application/vnd.jupyter.widget-view+json": {
       "model_id": "943c2cfc16d94ab2a8ec3dbeea4b59a8",
       "version_major": 2,
       "version_minor": 0
      },
      "text/plain": [
       "  0%|          | 0/20000 [00:00<?, ?it/s]"
      ]
     },
     "metadata": {},
     "output_type": "display_data"
    },
    {
     "data": {
      "application/vnd.jupyter.widget-view+json": {
       "model_id": "76814d5e833d4627bb88f79dff82a153",
       "version_major": 2,
       "version_minor": 0
      },
      "text/plain": [
       "  0%|          | 0/20000 [00:00<?, ?it/s]"
      ]
     },
     "metadata": {},
     "output_type": "display_data"
    },
    {
     "data": {
      "application/vnd.jupyter.widget-view+json": {
       "model_id": "e0e69ec0e57046d0b0b716e1ce8bb717",
       "version_major": 2,
       "version_minor": 0
      },
      "text/plain": [
       "  0%|          | 0/20000 [00:00<?, ?it/s]"
      ]
     },
     "metadata": {},
     "output_type": "display_data"
    },
    {
     "data": {
      "application/vnd.jupyter.widget-view+json": {
       "model_id": "c52a14c3d20541a8960828c0e50e9de8",
       "version_major": 2,
       "version_minor": 0
      },
      "text/plain": [
       "  0%|          | 0/20000 [00:00<?, ?it/s]"
      ]
     },
     "metadata": {},
     "output_type": "display_data"
    }
   ],
   "source": [
    "t = [\n",
    "    lp.Experiment(\n",
    "      feature='N (time_aware)', time_strategy=time_str, aggregation_strategy=agg_str,\n",
    "      scores=get_node_attributes(\n",
    "        edgelist, samples, aggregation_strategy=agg_func, time_strategy=time_func, \n",
    "        verbose=verbose, position=2, leave=False))\n",
    "    for time_str, time_func in tqdm(lp.TIME_STRATEGIES.items(), position=0, \n",
    "                                    disable=not verbose)\n",
    "    for agg_str, agg_func in tqdm(lp.AGGREGATION_STRATEGIES.items(), position=1, \n",
    "                                  leave=False, disable=not verbose)]"
   ]
  },
  {
   "cell_type": "code",
   "execution_count": 90,
   "id": "lasting-bacon",
   "metadata": {
    "execution": {
     "iopub.execute_input": "2021-02-09T14:01:36.899987Z",
     "iopub.status.busy": "2021-02-09T14:01:36.899799Z",
     "iopub.status.idle": "2021-02-09T14:01:36.928475Z",
     "shell.execute_reply": "2021-02-09T14:01:36.927662Z",
     "shell.execute_reply.started": "2021-02-09T14:01:36.899970Z"
    }
   },
   "outputs": [
    {
     "data": {
      "text/plain": [
       "['01/temp/features/N.pkl']"
      ]
     },
     "execution_count": 90,
     "metadata": {},
     "output_type": "execute_result"
    }
   ],
   "source": [
    "joblib.dump(t, f'{temp_path}/features/N.pkl')"
   ]
  },
  {
   "cell_type": "markdown",
   "id": "measured-january",
   "metadata": {},
   "source": [
    "## Calculation: Network statistics"
   ]
  },
  {
   "cell_type": "code",
   "execution_count": 38,
   "id": "objective-range",
   "metadata": {
    "execution": {
     "iopub.execute_input": "2021-02-11T16:29:56.484875Z",
     "iopub.status.busy": "2021-02-11T16:29:56.484653Z",
     "iopub.status.idle": "2021-02-11T16:29:57.235606Z",
     "shell.execute_reply": "2021-02-11T16:29:57.234592Z",
     "shell.execute_reply.started": "2021-02-11T16:29:56.484855Z"
    }
   },
   "outputs": [
    {
     "ename": "FileExistsError",
     "evalue": "[Errno 17] File exists: '01/stats'",
     "output_type": "error",
     "traceback": [
      "\u001b[0;31m---------------------------------------------------------------------------\u001b[0m",
      "\u001b[0;31mFileExistsError\u001b[0m                           Traceback (most recent call last)",
      "\u001b[0;32m<ipython-input-38-16bdc1e2fbd5>\u001b[0m in \u001b[0;36m<module>\u001b[0;34m\u001b[0m\n\u001b[1;32m      7\u001b[0m }\n\u001b[1;32m      8\u001b[0m \u001b[0;34m\u001b[0m\u001b[0m\n\u001b[0;32m----> 9\u001b[0;31m tlp.analysis.network_stats(edgelist_dict, path=f'{dataset_id}/stats', \n\u001b[0m\u001b[1;32m     10\u001b[0m                            verbose=True, fraction=0.001)\n",
      "\u001b[0;32m/data/bruingjde/temporalLinkprediction2/tlp/analysis.py\u001b[0m in \u001b[0;36mnetwork_stats\u001b[0;34m(edgelist_dict, fraction, path, verbose)\u001b[0m\n\u001b[1;32m    106\u001b[0m     \u001b[0mpath_distribution\u001b[0m\u001b[0;34m,\u001b[0m \u001b[0mstats\u001b[0m \u001b[0;34m=\u001b[0m \u001b[0mtlp\u001b[0m\u001b[0;34m.\u001b[0m\u001b[0manalysis\u001b[0m\u001b[0;34m.\u001b[0m\u001b[0mnetwork_stats\u001b[0m\u001b[0;34m(\u001b[0m\u001b[0medgelist\u001b[0m\u001b[0;34m)\u001b[0m\u001b[0;34m\u001b[0m\u001b[0;34m\u001b[0m\u001b[0m\n\u001b[1;32m    107\u001b[0m   \"\"\"\n\u001b[0;32m--> 108\u001b[0;31m   \u001b[0;32mif\u001b[0m \u001b[0mpath\u001b[0m \u001b[0;32mis\u001b[0m \u001b[0;32mnot\u001b[0m \u001b[0;32mNone\u001b[0m\u001b[0;34m:\u001b[0m \u001b[0mos\u001b[0m\u001b[0;34m.\u001b[0m\u001b[0mmakedirs\u001b[0m\u001b[0;34m(\u001b[0m\u001b[0mpath\u001b[0m\u001b[0;34m)\u001b[0m\u001b[0;34m\u001b[0m\u001b[0;34m\u001b[0m\u001b[0m\n\u001b[0m\u001b[1;32m    109\u001b[0m   \u001b[0mresults\u001b[0m \u001b[0;34m=\u001b[0m \u001b[0mdict\u001b[0m\u001b[0;34m(\u001b[0m\u001b[0;34m)\u001b[0m\u001b[0;34m\u001b[0m\u001b[0;34m\u001b[0m\u001b[0m\n\u001b[1;32m    110\u001b[0m   \u001b[0miterator\u001b[0m \u001b[0;34m=\u001b[0m \u001b[0mtqdm\u001b[0m\u001b[0;34m(\u001b[0m\u001b[0medgelist_dict\u001b[0m\u001b[0;34m.\u001b[0m\u001b[0mitems\u001b[0m\u001b[0;34m(\u001b[0m\u001b[0;34m)\u001b[0m\u001b[0;34m,\u001b[0m \u001b[0mdisable\u001b[0m\u001b[0;34m=\u001b[0m\u001b[0;32mnot\u001b[0m \u001b[0mverbose\u001b[0m\u001b[0;34m,\u001b[0m \u001b[0munit\u001b[0m\u001b[0;34m=\u001b[0m\u001b[0;34m'graph'\u001b[0m\u001b[0;34m)\u001b[0m\u001b[0;34m\u001b[0m\u001b[0;34m\u001b[0m\u001b[0m\n",
      "\u001b[0;32m~/.conda/envs/networkdatascience/lib/python3.9/os.py\u001b[0m in \u001b[0;36mmakedirs\u001b[0;34m(name, mode, exist_ok)\u001b[0m\n\u001b[1;32m    223\u001b[0m             \u001b[0;32mreturn\u001b[0m\u001b[0;34m\u001b[0m\u001b[0;34m\u001b[0m\u001b[0m\n\u001b[1;32m    224\u001b[0m     \u001b[0;32mtry\u001b[0m\u001b[0;34m:\u001b[0m\u001b[0;34m\u001b[0m\u001b[0;34m\u001b[0m\u001b[0m\n\u001b[0;32m--> 225\u001b[0;31m         \u001b[0mmkdir\u001b[0m\u001b[0;34m(\u001b[0m\u001b[0mname\u001b[0m\u001b[0;34m,\u001b[0m \u001b[0mmode\u001b[0m\u001b[0;34m)\u001b[0m\u001b[0;34m\u001b[0m\u001b[0;34m\u001b[0m\u001b[0m\n\u001b[0m\u001b[1;32m    226\u001b[0m     \u001b[0;32mexcept\u001b[0m \u001b[0mOSError\u001b[0m\u001b[0;34m:\u001b[0m\u001b[0;34m\u001b[0m\u001b[0;34m\u001b[0m\u001b[0m\n\u001b[1;32m    227\u001b[0m         \u001b[0;31m# Cannot rely on checking for EEXIST, since the operating system\u001b[0m\u001b[0;34m\u001b[0m\u001b[0;34m\u001b[0m\u001b[0;34m\u001b[0m\u001b[0m\n",
      "\u001b[0;31mFileExistsError\u001b[0m: [Errno 17] File exists: '01/stats'"
     ]
    }
   ],
   "source": [
    "edgelist_dict = {\n",
    "  'complete_graph': joblib.load(f'{dataset_id}/edgelist.pkl'),\n",
    "  'mature_graph': joblib.load(f'{dataset_id}/edgelist_mature.pkl'),\n",
    "  'mature_probe_graph': pd.concat([\n",
    "    joblib.load(f'{dataset_id}/edgelist_mature.pkl'),\n",
    "    joblib.load(f'{dataset_id}/edgelist_probe.pkl')])\n",
    "}\n",
    "\n",
    "tlp.analysis.network_stats(edgelist_dict, path=f'{dataset_id}/stats', \n",
    "                           verbose=True, fraction=0.001)"
   ]
  },
  {
   "cell_type": "markdown",
   "id": "speaking-obligation",
   "metadata": {},
   "source": [
    "## Table: Network Statistics"
   ]
  },
  {
   "cell_type": "code",
   "execution_count": null,
   "id": "partial-graphic",
   "metadata": {
    "execution": {
     "iopub.status.busy": "2021-02-11T16:29:39.952014Z",
     "iopub.status.idle": "2021-02-11T16:29:39.952190Z",
     "shell.execute_reply": "2021-02-11T16:29:39.952107Z"
    }
   },
   "outputs": [],
   "source": [
    "pd.DataFrame(\n",
    "  [joblib.load(file).stats for file in os.listdir(f'{dataset_id}/stats')])"
   ]
  },
  {
   "cell_type": "markdown",
   "id": "central-mortality",
   "metadata": {},
   "source": [
    "## Figure: Path distributions"
   ]
  },
  {
   "cell_type": "code",
   "execution_count": null,
   "id": "powered-puppy",
   "metadata": {
    "execution": {
     "iopub.status.busy": "2021-02-11T16:29:39.952785Z",
     "iopub.status.idle": "2021-02-11T16:29:39.952947Z",
     "shell.execute_reply": "2021-02-11T16:29:39.952866Z"
    }
   },
   "outputs": [],
   "source": [
    "df = pd.DataFrame(\n",
    "  [joblib.load(file).path_distribution \n",
    "   for file in os.listdir(f'{dataset_id}/stats')])\n",
    "plt.analysis.plot_path_distributions(df)"
   ]
  }
 ],
 "metadata": {
  "kernelspec": {
   "display_name": "Python 3",
   "language": "python",
   "name": "python3"
  },
  "language_info": {
   "codemirror_mode": {
    "name": "ipython",
    "version": 3
   },
   "file_extension": ".py",
   "mimetype": "text/x-python",
   "name": "python",
   "nbconvert_exporter": "python",
   "pygments_lexer": "ipython3",
   "version": "3.9.1"
  }
 },
 "nbformat": 4,
 "nbformat_minor": 5
}
