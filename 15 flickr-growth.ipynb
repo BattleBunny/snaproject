{
 "cells": [
  {
   "cell_type": "markdown",
   "id": "vertical-country",
   "metadata": {},
   "source": [
    "# Setup"
   ]
  },
  {
   "cell_type": "code",
   "execution_count": 1,
   "id": "chronic-adams",
   "metadata": {
    "execution": {
     "iopub.execute_input": "2021-02-12T09:38:47.181873Z",
     "iopub.status.busy": "2021-02-12T09:38:47.181611Z",
     "iopub.status.idle": "2021-02-12T09:38:47.988602Z",
     "shell.execute_reply": "2021-02-12T09:38:47.988048Z",
     "shell.execute_reply.started": "2021-02-12T09:38:47.181803Z"
    }
   },
   "outputs": [],
   "source": [
    "import importlib\n",
    "import os\n",
    "\n",
    "import joblib\n",
    "import pandas as pd\n",
    "\n",
    "import tlp\n",
    "\n",
    "url = 'http://konect.cc/files/download.tsv.flickr-growth.tar.bz2'\n",
    "dataset_id = '15'\n",
    "adjusted_intervals = dict()"
   ]
  },
  {
   "cell_type": "markdown",
   "id": "processed-nerve",
   "metadata": {},
   "source": [
    "# Download and extract data"
   ]
  },
  {
   "cell_type": "code",
   "execution_count": 3,
   "id": "labeled-killer",
   "metadata": {
    "execution": {
     "iopub.execute_input": "2021-02-12T09:39:01.302760Z",
     "iopub.status.busy": "2021-02-12T09:39:01.302613Z",
     "iopub.status.idle": "2021-02-12T09:43:53.761182Z",
     "shell.execute_reply": "2021-02-12T09:43:53.760245Z",
     "shell.execute_reply.started": "2021-02-12T09:39:01.302743Z"
    }
   },
   "outputs": [
    {
     "data": {
      "application/vnd.jupyter.widget-view+json": {
       "model_id": "30f483b09cb943a185e84183ec2b89bb",
       "version_major": 2,
       "version_minor": 0
      },
      "text/plain": [
       "download.tsv.flickr-growth.tar.bz2:   0%|          | 0.00/131M [00:00<?, ?B/s]"
      ]
     },
     "metadata": {},
     "output_type": "display_data"
    }
   ],
   "source": [
    "filepath = f'{dataset_id}/edgelist.pkl'\n",
    "if not os.path.isfile(filepath):\n",
    "  edgelist = tlp.get_edgelist(url, dataset_id, verbose=True)\n",
    "  joblib.dump(edgelist, filepath)"
   ]
  },
  {
   "cell_type": "markdown",
   "id": "successful-underwear",
   "metadata": {},
   "source": [
    "# Splitting"
   ]
  },
  {
   "cell_type": "code",
   "execution_count": 4,
   "id": "controlled-avenue",
   "metadata": {
    "execution": {
     "iopub.execute_input": "2021-02-12T09:43:53.762402Z",
     "iopub.status.busy": "2021-02-12T09:43:53.762266Z",
     "iopub.status.idle": "2021-02-12T09:43:56.283482Z",
     "shell.execute_reply": "2021-02-12T09:43:56.282705Z",
     "shell.execute_reply.started": "2021-02-12T09:43:53.762385Z"
    }
   },
   "outputs": [
    {
     "name": "stdout",
     "output_type": "stream",
     "text": [
      "CPU times: user 1.21 s, sys: 1.17 s, total: 2.38 s\n",
      "Wall time: 2.52 s\n"
     ]
    }
   ],
   "source": [
    "%%time\n",
    "filepath_edgelist = f'{dataset_id}/edgelist.pkl'\n",
    "filepath_mature = f'{dataset_id}/edgelist_mature.pkl'\n",
    "filepath_probe = f'{dataset_id}/edgelist_probe.pkl'\n",
    "\n",
    "if not os.path.isfile(filepath_mature) or not os.path.isfile(filepath_probe):\n",
    "  edgelist_mature, edgelist_probe = tlp.split_in_intervals(\n",
    "    edgelist=joblib.load(filepath_edgelist), **adjusted_intervals)\n",
    "  joblib.dump(edgelist_mature, filepath_mature)\n",
    "  joblib.dump(edgelist_probe, filepath_probe)"
   ]
  },
  {
   "cell_type": "markdown",
   "id": "rocky-publication",
   "metadata": {},
   "source": [
    "# Instances"
   ]
  },
  {
   "cell_type": "code",
   "execution_count": null,
   "id": "announced-grenada",
   "metadata": {
    "execution": {
     "iopub.execute_input": "2021-02-12T09:43:56.284820Z",
     "iopub.status.busy": "2021-02-12T09:43:56.284697Z"
    }
   },
   "outputs": [
    {
     "data": {
      "application/vnd.jupyter.widget-view+json": {
       "model_id": "2e33b517962647ea92f04a4df381fe59",
       "version_major": 2,
       "version_minor": 0
      },
      "text/plain": [
       "Collecting unconnected pairs of nodes:   0%|          | 0/1834425 [00:00<?, ?it/s]"
      ]
     },
     "metadata": {},
     "output_type": "display_data"
    }
   ],
   "source": [
    "%%time\n",
    "filepath_mature = f'{dataset_id}/edgelist_mature.pkl'\n",
    "filepath_instances = f'{dataset_id}/instances.pkl'\n",
    "\n",
    "if not os.path.isfile(filepath_instances):\n",
    "  instances = tlp.get_instances(edgelist_mature=joblib.load(filepath_mature),\n",
    "    verbose=True)\n",
    "  joblib.dump(instances, filepath_instances)"
   ]
  },
  {
   "cell_type": "markdown",
   "id": "curious-nutrition",
   "metadata": {},
   "source": [
    "# Targets"
   ]
  },
  {
   "cell_type": "code",
   "execution_count": null,
   "id": "broadband-stanley",
   "metadata": {},
   "outputs": [],
   "source": [
    "%%time\n",
    "filepath_instances = f'{dataset_id}/instances.pkl'\n",
    "filepath_probe = f'{dataset_id}/edgelist_probe.pkl'\n",
    "filepath_targets = f'{dataset_id}/targets.pkl'\n",
    "\n",
    "if not os.path.isfile(filepath_targets):\n",
    "  targets = tlp.get_targets(\n",
    "    instances=joblib.load(filepath_instances),\n",
    "    edgelist_probe=joblib.load(filepath_probe),\n",
    "    verbose=True)\n",
    "  joblib.dump(targets, filepath_targets)"
   ]
  },
  {
   "cell_type": "markdown",
   "id": "controversial-press",
   "metadata": {},
   "source": [
    "# Sampling"
   ]
  },
  {
   "cell_type": "code",
   "execution_count": null,
   "id": "spiritual-cancellation",
   "metadata": {},
   "outputs": [],
   "source": [
    "%%time\n",
    "filepath_instances = f'{dataset_id}/instances.pkl'\n",
    "filepath_targets = f'{dataset_id}/edgelist_targets.pkl'\n",
    "filepath_instances_sampled = f'{dataset_id}/instances_sampled.pkl'\n",
    "filepath_targets_sampled = f'{dataset_id}/targets_sampled.pkl'\n",
    "\n",
    "if not (os.path.isfile(filepath_instances_sampled) and \n",
    "        os.path.isfile(filepath_targets_sampled)):\n",
    "  instances_sampled, targets_sampled = tlp.balanced_sample(instances, targets)\n",
    "  joblib.dump(instances_sampled, f'{dataset_id}/instances_sampled.pkl')\n",
    "  joblib.dump(targets_sampled, f'{dataset_id}/targets_sampled.pkl')"
   ]
  },
  {
   "cell_type": "markdown",
   "id": "surgical-yeast",
   "metadata": {},
   "source": [
    "# Features"
   ]
  },
  {
   "cell_type": "markdown",
   "id": "unknown-feelings",
   "metadata": {},
   "source": [
    "## AA (time agnostic)"
   ]
  },
  {
   "cell_type": "code",
   "execution_count": null,
   "id": "united-baltimore",
   "metadata": {},
   "outputs": [],
   "source": [
    "%%time\n",
    "filepath = f'{dataset_id}/features'\n",
    "filepath_mature = f'{dataset_id}/edgelist_mature.pkl'\n",
    "filepath_instances_sampled = f'{dataset_id}/instances_sampled.pkl'\n",
    "\n",
    "adamic_adar_time_agnostic = tlp.features.adamic_adar_time_agnostic(\n",
    "  edgelist=joblib.load(filepath_mature),\n",
    "  instances=joblib.load(filepath_instances_sampled),\n",
    "  path=filepath)"
   ]
  },
  {
   "cell_type": "markdown",
   "id": "instant-circle",
   "metadata": {},
   "source": [
    "## AA (time aware)"
   ]
  },
  {
   "cell_type": "code",
   "execution_count": null,
   "id": "moderate-punishment",
   "metadata": {},
   "outputs": [],
   "source": [
    "%%time\n",
    "filepath = f'{dataset_id}/features'\n",
    "filepath_mature = f'{dataset_id}/edgelist_mature.pkl'\n",
    "filepath_instances_sampled = f'{dataset_id}/instances_sampled.pkl'\n",
    "\n",
    "adamic_adar_time_aware = tlp.features.adamic_adar_time_aware(\n",
    "  edgelist=joblib.load(filepath_mature),\n",
    "  instances=joblib.load(filepath_instances_sampled),\n",
    "  path=filepath,\n",
    "  verbose=True)"
   ]
  },
  {
   "cell_type": "markdown",
   "id": "defensive-tennis",
   "metadata": {},
   "source": [
    "# Analysis"
   ]
  },
  {
   "cell_type": "markdown",
   "id": "hindu-plane",
   "metadata": {},
   "source": [
    "## Figure: Edge distribution with maturing and probing intervals indicated"
   ]
  },
  {
   "cell_type": "code",
   "execution_count": null,
   "id": "micro-thesis",
   "metadata": {},
   "outputs": [],
   "source": [
    "tlp.analysis.plot_datetime(\n",
    "  joblib.load(f'{dataset_id}/edgelist.pkl')['datetime'], **adjusted_intervals)"
   ]
  },
  {
   "cell_type": "markdown",
   "id": "identical-twist",
   "metadata": {},
   "source": [
    "## Metric: Class imbalance"
   ]
  },
  {
   "cell_type": "code",
   "execution_count": null,
   "id": "worth-national",
   "metadata": {},
   "outputs": [],
   "source": [
    "tlp.analysis.class_imbalance(targets=joblib.load(f'{dataset_id}/targets.pkl'))"
   ]
  },
  {
   "cell_type": "markdown",
   "id": "studied-handy",
   "metadata": {},
   "source": [
    "## Figure: Datetime strategies"
   ]
  },
  {
   "cell_type": "code",
   "execution_count": null,
   "id": "vocational-dylan",
   "metadata": {},
   "outputs": [],
   "source": [
    "edgelist = joblib.load(f'{dataset_id}/edgelist_mature.pkl')\n",
    "t = tlp.analysis.plot_datetime_strategies(edgelist['datetime'])"
   ]
  },
  {
   "cell_type": "markdown",
   "id": "derived-bermuda",
   "metadata": {},
   "source": [
    "## Figure: Datetime distribution"
   ]
  },
  {
   "cell_type": "code",
   "execution_count": null,
   "id": "virtual-battlefield",
   "metadata": {},
   "outputs": [],
   "source": [
    "edgelist = joblib.load(f'{dataset_id}/edgelist_mature.pkl')\n",
    "tlp.analysis.plot_datetime_distribution(edgelist['datetime'])"
   ]
  },
  {
   "cell_type": "markdown",
   "id": "structured-buddy",
   "metadata": {},
   "source": [
    "## Figure: Scores"
   ]
  },
  {
   "cell_type": "code",
   "execution_count": null,
   "id": "fantastic-dutch",
   "metadata": {},
   "outputs": [],
   "source": [
    "feature_dict = dict()\n",
    "for file in os.scandir(f'{dataset_id}/features'):\n",
    "  if file.is_file():\n",
    "    feature_dict.update(joblib.load(file.path))\n",
    "targets=joblib.load('01/targets_sampled.pkl')\n",
    "\n",
    "tlp.analysis.plot_score(feature_dict, targets)"
   ]
  },
  {
   "cell_type": "markdown",
   "id": "ready-floor",
   "metadata": {},
   "source": [
    "## Figure: ROC"
   ]
  },
  {
   "cell_type": "code",
   "execution_count": null,
   "id": "ignored-biology",
   "metadata": {},
   "outputs": [],
   "source": [
    "feature_dict = dict()\n",
    "for file in os.scandir(f'{dataset_id}/features'):\n",
    "  if file.is_file():\n",
    "    feature_dict.update(joblib.load(file.path))\n",
    "targets=joblib.load('01/targets_sampled.pkl')\n",
    "\n",
    "tlp.analysis.plot_roc_auc(feature_dict, targets)"
   ]
  },
  {
   "cell_type": "markdown",
   "id": "alone-affair",
   "metadata": {},
   "source": [
    "## AUC"
   ]
  },
  {
   "cell_type": "code",
   "execution_count": null,
   "id": "clear-winner",
   "metadata": {},
   "outputs": [],
   "source": [
    "feature_dict = dict()\n",
    "for file in os.scandir(f'{dataset_id}/features'):\n",
    "  for file in os.scandir(f'{dataset_id}/features'):\n",
    "    if file.is_file():\n",
    "      feature_dict.update(joblib.load(file.path))\n",
    "targets=joblib.load('01/targets_sampled.pkl')\n",
    "\n",
    "tlp.analysis.get_auc(feature_dict, targets)"
   ]
  }
 ],
 "metadata": {
  "kernelspec": {
   "display_name": "Python 3",
   "language": "python",
   "name": "python3"
  },
  "language_info": {
   "codemirror_mode": {
    "name": "ipython",
    "version": 3
   },
   "file_extension": ".py",
   "mimetype": "text/x-python",
   "name": "python",
   "nbconvert_exporter": "python",
   "pygments_lexer": "ipython3",
   "version": "3.9.1"
  },
  "toc-autonumbering": true
 },
 "nbformat": 4,
 "nbformat_minor": 5
}
