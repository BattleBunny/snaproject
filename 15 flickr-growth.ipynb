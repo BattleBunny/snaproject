{
 "cells": [
  {
   "cell_type": "markdown",
   "id": "commercial-madagascar",
   "metadata": {},
   "source": [
    "# Setup"
   ]
  },
  {
   "cell_type": "code",
   "execution_count": 1,
   "id": "medium-williams",
   "metadata": {
    "execution": {
     "iopub.execute_input": "2021-02-12T06:59:06.787316Z",
     "iopub.status.busy": "2021-02-12T06:59:06.787144Z",
     "iopub.status.idle": "2021-02-12T06:59:07.568881Z",
     "shell.execute_reply": "2021-02-12T06:59:07.568248Z",
     "shell.execute_reply.started": "2021-02-12T06:59:06.787271Z"
    }
   },
   "outputs": [],
   "source": [
    "import importlib\n",
    "import os\n",
    "\n",
    "import joblib\n",
    "import pandas as pd\n",
    "\n",
    "import tlp\n",
    "\n",
    "url = 'http://konect.cc/files/download.tsv.flickr-growth.tar.bz2'\n",
    "dataset_id = '15'\n",
    "adjusted_intervals = dict()"
   ]
  },
  {
   "cell_type": "markdown",
   "id": "established-roots",
   "metadata": {},
   "source": [
    "# Download and extract data"
   ]
  },
  {
   "cell_type": "code",
   "execution_count": null,
   "id": "compound-zoning",
   "metadata": {
    "execution": {
     "iopub.execute_input": "2021-02-12T06:59:07.569866Z",
     "iopub.status.busy": "2021-02-12T06:59:07.569742Z"
    }
   },
   "outputs": [],
   "source": [
    "filepath = f'{dataset_id}/edgelist.pkl'\n",
    "if not os.path.isfile(filepath):\n",
    "  edgelist = tlp.get_edgelist(url, dataset_id)\n",
    "  joblib.dump(edgelist, filepath)"
   ]
  },
  {
   "cell_type": "markdown",
   "id": "located-ocean",
   "metadata": {},
   "source": [
    "# Splitting"
   ]
  },
  {
   "cell_type": "code",
   "execution_count": null,
   "id": "constitutional-ideal",
   "metadata": {},
   "outputs": [],
   "source": [
    "%%time\n",
    "filepath_edgelist = f'{dataset_id}/edgelist.pkl'\n",
    "filepath_mature = f'{dataset_id}/edgelist_mature.pkl'\n",
    "filepath_probe = f'{dataset_id}/edgelist_probe.pkl'\n",
    "\n",
    "if not os.path.isfile(filepath_mature) or not os.path.isfile(filepath_probe):\n",
    "  edgelist_mature, edgelist_probe = tlp.split_in_intervals(\n",
    "    edgelist=joblib.load(filepath_edgelist), **adjusted_intervals)\n",
    "  joblib.dump(edgelist_mature, filepath_mature)\n",
    "  joblib.dump(edgelist_probe, filepath_probe)"
   ]
  },
  {
   "cell_type": "markdown",
   "id": "objective-prize",
   "metadata": {},
   "source": [
    "# Instances"
   ]
  },
  {
   "cell_type": "code",
   "execution_count": null,
   "id": "faced-nirvana",
   "metadata": {},
   "outputs": [],
   "source": [
    "%%time\n",
    "filepath_mature = f'{dataset_id}/edgelist_mature.pkl'\n",
    "filepath_instances = f'{dataset_id}/instances.pkl'\n",
    "\n",
    "if not os.path.isfile(filepath_instances):\n",
    "  instances = tlp.get_instances(edgelist_mature=joblib.load(filepath_mature),\n",
    "    verbose=True)\n",
    "  joblib.dump(instances, filepath_instances)"
   ]
  },
  {
   "cell_type": "markdown",
   "id": "useful-snake",
   "metadata": {},
   "source": [
    "# Targets"
   ]
  },
  {
   "cell_type": "code",
   "execution_count": null,
   "id": "small-electronics",
   "metadata": {},
   "outputs": [],
   "source": [
    "%%time\n",
    "filepath_instances = f'{dataset_id}/instances.pkl'\n",
    "filepath_probe = f'{dataset_id}/edgelist_probe.pkl'\n",
    "filepath_targets = f'{dataset_id}/targets.pkl'\n",
    "\n",
    "if not os.path.isfile(filepath_targets):\n",
    "  targets = tlp.get_targets(\n",
    "    instances=joblib.load(filepath_instances),\n",
    "    edgelist_probe=joblib.load(filepath_probe),\n",
    "    verbose=True)\n",
    "  joblib.dump(targets, filepath_targets)"
   ]
  },
  {
   "cell_type": "markdown",
   "id": "exempt-liver",
   "metadata": {},
   "source": [
    "# Sampling"
   ]
  },
  {
   "cell_type": "code",
   "execution_count": null,
   "id": "parallel-composite",
   "metadata": {},
   "outputs": [],
   "source": [
    "%%time\n",
    "filepath_instances = f'{dataset_id}/instances.pkl'\n",
    "filepath_targets = f'{dataset_id}/edgelist_targets.pkl'\n",
    "filepath_instances_sampled = f'{dataset_id}/instances_sampled.pkl'\n",
    "filepath_targets_sampled = f'{dataset_id}/targets_sampled.pkl'\n",
    "\n",
    "if not (os.path.isfile(filepath_instances_sampled) and \n",
    "        os.path.isfile(filepath_targets_sampled)):\n",
    "  instances_sampled, targets_sampled = tlp.balanced_sample(instances, targets)\n",
    "  joblib.dump(instances_sampled, f'{dataset_id}/instances_sampled.pkl')\n",
    "  joblib.dump(targets_sampled, f'{dataset_id}/targets_sampled.pkl')"
   ]
  },
  {
   "cell_type": "markdown",
   "id": "wrapped-development",
   "metadata": {},
   "source": [
    "# Features"
   ]
  },
  {
   "cell_type": "markdown",
   "id": "insured-lending",
   "metadata": {},
   "source": [
    "## AA (time agnostic)"
   ]
  },
  {
   "cell_type": "code",
   "execution_count": null,
   "id": "following-seating",
   "metadata": {},
   "outputs": [],
   "source": [
    "%%time\n",
    "filepath = f'{dataset_id}/features'\n",
    "filepath_mature = f'{dataset_id}/edgelist_mature.pkl'\n",
    "filepath_instances_sampled = f'{dataset_id}/instances_sampled.pkl'\n",
    "\n",
    "adamic_adar_time_agnostic = tlp.features.adamic_adar_time_agnostic(\n",
    "  edgelist=joblib.load(filepath_mature),\n",
    "  instances=joblib.load(filepath_instances_sampled),\n",
    "  path=filepath)"
   ]
  },
  {
   "cell_type": "markdown",
   "id": "sensitive-acoustic",
   "metadata": {},
   "source": [
    "## AA (time aware)"
   ]
  },
  {
   "cell_type": "code",
   "execution_count": null,
   "id": "oriented-mortality",
   "metadata": {},
   "outputs": [],
   "source": [
    "%%time\n",
    "filepath = f'{dataset_id}/features'\n",
    "filepath_mature = f'{dataset_id}/edgelist_mature.pkl'\n",
    "filepath_instances_sampled = f'{dataset_id}/instances_sampled.pkl'\n",
    "\n",
    "adamic_adar_time_aware = tlp.features.adamic_adar_time_aware(\n",
    "  edgelist=joblib.load(filepath_mature),\n",
    "  instances=joblib.load(filepath_instances_sampled),\n",
    "  path=filepath,\n",
    "  verbose=True)"
   ]
  },
  {
   "cell_type": "markdown",
   "id": "color-county",
   "metadata": {},
   "source": [
    "# Analysis"
   ]
  },
  {
   "cell_type": "markdown",
   "id": "anonymous-oliver",
   "metadata": {},
   "source": [
    "## Figure: Edge distribution with maturing and probing intervals indicated"
   ]
  },
  {
   "cell_type": "code",
   "execution_count": null,
   "id": "minor-number",
   "metadata": {},
   "outputs": [],
   "source": [
    "tlp.analysis.plot_datetime(\n",
    "  joblib.load(f'{dataset_id}/edgelist.pkl')['datetime'], **adjusted_intervals)"
   ]
  },
  {
   "cell_type": "markdown",
   "id": "uniform-camping",
   "metadata": {},
   "source": [
    "## Metric: Class imbalance"
   ]
  },
  {
   "cell_type": "code",
   "execution_count": null,
   "id": "hollywood-nepal",
   "metadata": {},
   "outputs": [],
   "source": [
    "tlp.analysis.class_imbalance(targets=joblib.load(f'{dataset_id}/targets.pkl'))"
   ]
  },
  {
   "cell_type": "markdown",
   "id": "sublime-stick",
   "metadata": {},
   "source": [
    "## Figure: Datetime strategies"
   ]
  },
  {
   "cell_type": "code",
   "execution_count": null,
   "id": "built-thinking",
   "metadata": {},
   "outputs": [],
   "source": [
    "edgelist = joblib.load(f'{dataset_id}/edgelist_mature.pkl')\n",
    "t = tlp.analysis.plot_datetime_strategies(edgelist['datetime'])"
   ]
  },
  {
   "cell_type": "markdown",
   "id": "considerable-movie",
   "metadata": {},
   "source": [
    "## Figure: Datetime distribution"
   ]
  },
  {
   "cell_type": "code",
   "execution_count": null,
   "id": "infectious-turner",
   "metadata": {},
   "outputs": [],
   "source": [
    "edgelist = joblib.load(f'{dataset_id}/edgelist_mature.pkl')\n",
    "tlp.analysis.plot_datetime_distribution(edgelist['datetime'])"
   ]
  },
  {
   "cell_type": "markdown",
   "id": "mexican-palestine",
   "metadata": {},
   "source": [
    "## Figure: Scores"
   ]
  },
  {
   "cell_type": "code",
   "execution_count": null,
   "id": "neither-convenience",
   "metadata": {},
   "outputs": [],
   "source": [
    "feature_dict = dict()\n",
    "for file in os.scandir(f'{dataset_id}/features'):\n",
    "  if file.is_file():\n",
    "    feature_dict.update(joblib.load(file.path))\n",
    "targets=joblib.load('01/targets_sampled.pkl')\n",
    "\n",
    "tlp.analysis.plot_score(feature_dict, targets)"
   ]
  },
  {
   "cell_type": "markdown",
   "id": "binary-brooks",
   "metadata": {},
   "source": [
    "## Figure: ROC"
   ]
  },
  {
   "cell_type": "code",
   "execution_count": null,
   "id": "average-hunger",
   "metadata": {},
   "outputs": [],
   "source": [
    "feature_dict = dict()\n",
    "for file in os.scandir(f'{dataset_id}/features'):\n",
    "  if file.is_file():\n",
    "    feature_dict.update(joblib.load(file.path))\n",
    "targets=joblib.load('01/targets_sampled.pkl')\n",
    "\n",
    "tlp.analysis.plot_roc_auc(feature_dict, targets)"
   ]
  },
  {
   "cell_type": "markdown",
   "id": "rational-arrest",
   "metadata": {},
   "source": [
    "## AUC"
   ]
  },
  {
   "cell_type": "code",
   "execution_count": null,
   "id": "juvenile-richardson",
   "metadata": {},
   "outputs": [],
   "source": [
    "feature_dict = dict()\n",
    "for file in os.scandir(f'{dataset_id}/features'):\n",
    "  for file in os.scandir(f'{dataset_id}/features'):\n",
    "    if file.is_file():\n",
    "      feature_dict.update(joblib.load(file.path))\n",
    "targets=joblib.load('01/targets_sampled.pkl')\n",
    "\n",
    "tlp.analysis.get_auc(feature_dict, targets)"
   ]
  }
 ],
 "metadata": {
  "kernelspec": {
   "display_name": "Python 3",
   "language": "python",
   "name": "python3"
  },
  "language_info": {
   "codemirror_mode": {
    "name": "ipython",
    "version": 3
   },
   "file_extension": ".py",
   "mimetype": "text/x-python",
   "name": "python",
   "nbconvert_exporter": "python",
   "pygments_lexer": "ipython3",
   "version": "3.9.1"
  },
  "toc-autonumbering": true
 },
 "nbformat": 4,
 "nbformat_minor": 5
}
