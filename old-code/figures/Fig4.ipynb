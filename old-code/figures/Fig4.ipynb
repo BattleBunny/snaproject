{
 "cells": [
  {
   "cell_type": "code",
   "execution_count": 1,
   "id": "practical-nothing",
   "metadata": {
    "execution": {
     "iopub.execute_input": "2021-03-18T20:52:38.505945Z",
     "iopub.status.busy": "2021-03-18T20:52:38.505688Z",
     "iopub.status.idle": "2021-03-18T20:52:39.318303Z",
     "shell.execute_reply": "2021-03-18T20:52:39.317602Z",
     "shell.execute_reply.started": "2021-03-18T20:52:38.505877Z"
    },
    "tags": []
   },
   "outputs": [
    {
     "name": "stdout",
     "output_type": "stream",
     "text": [
      "/scratch/bruingjde/SNAM2021-code\n"
     ]
    }
   ],
   "source": [
    "%cd /scratch/bruingjde/SNAM2021-code/\n",
    "\n",
    "from constants import *"
   ]
  },
  {
   "cell_type": "markdown",
   "id": "shared-computer",
   "metadata": {},
   "source": [
    "# Size"
   ]
  },
  {
   "cell_type": "code",
   "execution_count": 2,
   "id": "conventional-italy",
   "metadata": {
    "execution": {
     "iopub.execute_input": "2021-03-18T20:52:39.319338Z",
     "iopub.status.busy": "2021-03-18T20:52:39.319209Z",
     "iopub.status.idle": "2021-03-18T20:52:39.322221Z",
     "shell.execute_reply": "2021-03-18T20:52:39.321839Z",
     "shell.execute_reply.started": "2021-03-18T20:52:39.319322Z"
    },
    "tags": []
   },
   "outputs": [],
   "source": [
    "# size = tlp.ProgressParallel(n_jobs=network_count, total=network_count)(\n",
    "#   joblib.delayed(get_size)(network_index) for network_index in network_indices\n",
    "# )\n",
    "  \n",
    "# size = pd.DataFrame(size)\n",
    "size = pd.read_pickle('code/figures/size.pkl')"
   ]
  },
  {
   "cell_type": "markdown",
   "id": "victorian-produce",
   "metadata": {},
   "source": [
    "# Other stats"
   ]
  },
  {
   "cell_type": "code",
   "execution_count": 3,
   "id": "russian-ordinary",
   "metadata": {
    "execution": {
     "iopub.execute_input": "2021-03-18T20:52:39.323112Z",
     "iopub.status.busy": "2021-03-18T20:52:39.322991Z",
     "iopub.status.idle": "2021-03-18T20:52:42.654829Z",
     "shell.execute_reply": "2021-03-18T20:52:42.654217Z",
     "shell.execute_reply.started": "2021-03-18T20:52:39.323097Z"
    },
    "tags": []
   },
   "outputs": [
    {
     "data": {
      "application/vnd.jupyter.widget-view+json": {
       "model_id": "1f62ccc8dc2d45dda4bd24c41b79abc0",
       "version_major": 2,
       "version_minor": 0
      },
      "text/plain": [
       "  0%|          | 0/26 [00:00<?, ?it/s]"
      ]
     },
     "metadata": {},
     "output_type": "display_data"
    },
    {
     "data": {
      "text/html": [
       "<div>\n",
       "<style scoped>\n",
       "    .dataframe tbody tr th:only-of-type {\n",
       "        vertical-align: middle;\n",
       "    }\n",
       "\n",
       "    .dataframe tbody tr th {\n",
       "        vertical-align: top;\n",
       "    }\n",
       "\n",
       "    .dataframe thead th {\n",
       "        text-align: right;\n",
       "    }\n",
       "</style>\n",
       "<table border=\"1\" class=\"dataframe\">\n",
       "  <thead>\n",
       "    <tr style=\"text-align: right;\">\n",
       "      <th></th>\n",
       "      <th>density</th>\n",
       "      <th>degree assortativity</th>\n",
       "      <th>average clustering coefficient</th>\n",
       "    </tr>\n",
       "  </thead>\n",
       "  <tbody>\n",
       "    <tr>\n",
       "      <th>1</th>\n",
       "      <td>0.000005</td>\n",
       "      <td>0.114186</td>\n",
       "      <td>0.632629</td>\n",
       "    </tr>\n",
       "    <tr>\n",
       "      <th>2</th>\n",
       "      <td>0.008307</td>\n",
       "      <td>0.059906</td>\n",
       "      <td>0.606845</td>\n",
       "    </tr>\n",
       "    <tr>\n",
       "      <th>3</th>\n",
       "      <td>0.000079</td>\n",
       "      <td>-0.166689</td>\n",
       "      <td>0.119342</td>\n",
       "    </tr>\n",
       "    <tr>\n",
       "      <th>4</th>\n",
       "      <td>0.000219</td>\n",
       "      <td>0.221522</td>\n",
       "      <td>0.123693</td>\n",
       "    </tr>\n",
       "    <tr>\n",
       "      <th>5</th>\n",
       "      <td>0.000373</td>\n",
       "      <td>0.177355</td>\n",
       "      <td>0.642282</td>\n",
       "    </tr>\n",
       "    <tr>\n",
       "      <th>6</th>\n",
       "      <td>0.009293</td>\n",
       "      <td>0.010808</td>\n",
       "      <td>0.770476</td>\n",
       "    </tr>\n",
       "    <tr>\n",
       "      <th>7</th>\n",
       "      <td>0.000009</td>\n",
       "      <td>0.155727</td>\n",
       "      <td>0.606712</td>\n",
       "    </tr>\n",
       "    <tr>\n",
       "      <th>8</th>\n",
       "      <td>0.000219</td>\n",
       "      <td>0.221522</td>\n",
       "      <td>0.123693</td>\n",
       "    </tr>\n",
       "    <tr>\n",
       "      <th>9</th>\n",
       "      <td>0.000187</td>\n",
       "      <td>0.008341</td>\n",
       "      <td>0.005286</td>\n",
       "    </tr>\n",
       "    <tr>\n",
       "      <th>10</th>\n",
       "      <td>0.000040</td>\n",
       "      <td>-0.055707</td>\n",
       "      <td>0.089571</td>\n",
       "    </tr>\n",
       "    <tr>\n",
       "      <th>11</th>\n",
       "      <td>0.000308</td>\n",
       "      <td>-0.227284</td>\n",
       "      <td>0.144015</td>\n",
       "    </tr>\n",
       "    <tr>\n",
       "      <th>12</th>\n",
       "      <td>0.234543</td>\n",
       "      <td>-0.294441</td>\n",
       "      <td>0.591863</td>\n",
       "    </tr>\n",
       "    <tr>\n",
       "      <th>13</th>\n",
       "      <td>0.017419</td>\n",
       "      <td>-0.092248</td>\n",
       "      <td>0.070458</td>\n",
       "    </tr>\n",
       "    <tr>\n",
       "      <th>14</th>\n",
       "      <td>0.000649</td>\n",
       "      <td>-0.197902</td>\n",
       "      <td>0.312096</td>\n",
       "    </tr>\n",
       "    <tr>\n",
       "      <th>16</th>\n",
       "      <td>0.000091</td>\n",
       "      <td>-0.051317</td>\n",
       "      <td>0.128461</td>\n",
       "    </tr>\n",
       "    <tr>\n",
       "      <th>18</th>\n",
       "      <td>0.001913</td>\n",
       "      <td>-0.153884</td>\n",
       "      <td>0.167077</td>\n",
       "    </tr>\n",
       "    <tr>\n",
       "      <th>19</th>\n",
       "      <td>0.002499</td>\n",
       "      <td>-0.301404</td>\n",
       "      <td>0.209099</td>\n",
       "    </tr>\n",
       "    <tr>\n",
       "      <th>20</th>\n",
       "      <td>0.001197</td>\n",
       "      <td>-0.144884</td>\n",
       "      <td>0.163569</td>\n",
       "    </tr>\n",
       "    <tr>\n",
       "      <th>21</th>\n",
       "      <td>0.001101</td>\n",
       "      <td>0.335905</td>\n",
       "      <td>0.054398</td>\n",
       "    </tr>\n",
       "    <tr>\n",
       "      <th>22</th>\n",
       "      <td>0.000040</td>\n",
       "      <td>-0.143106</td>\n",
       "      <td>0.109331</td>\n",
       "    </tr>\n",
       "    <tr>\n",
       "      <th>23</th>\n",
       "      <td>0.000042</td>\n",
       "      <td>-0.087745</td>\n",
       "      <td>0.116163</td>\n",
       "    </tr>\n",
       "    <tr>\n",
       "      <th>24</th>\n",
       "      <td>0.000836</td>\n",
       "      <td>-0.078326</td>\n",
       "      <td>0.004867</td>\n",
       "    </tr>\n",
       "    <tr>\n",
       "      <th>25</th>\n",
       "      <td>0.000297</td>\n",
       "      <td>-0.064984</td>\n",
       "      <td>0.363506</td>\n",
       "    </tr>\n",
       "    <tr>\n",
       "      <th>28</th>\n",
       "      <td>0.000192</td>\n",
       "      <td>-0.087156</td>\n",
       "      <td>0.177422</td>\n",
       "    </tr>\n",
       "    <tr>\n",
       "      <th>29</th>\n",
       "      <td>0.000148</td>\n",
       "      <td>-0.137222</td>\n",
       "      <td>0.178697</td>\n",
       "    </tr>\n",
       "    <tr>\n",
       "      <th>30</th>\n",
       "      <td>0.033080</td>\n",
       "      <td>-0.025743</td>\n",
       "      <td>0.407050</td>\n",
       "    </tr>\n",
       "  </tbody>\n",
       "</table>\n",
       "</div>"
      ],
      "text/plain": [
       "     density  degree assortativity  average clustering coefficient\n",
       "1   0.000005              0.114186                        0.632629\n",
       "2   0.008307              0.059906                        0.606845\n",
       "3   0.000079             -0.166689                        0.119342\n",
       "4   0.000219              0.221522                        0.123693\n",
       "5   0.000373              0.177355                        0.642282\n",
       "6   0.009293              0.010808                        0.770476\n",
       "7   0.000009              0.155727                        0.606712\n",
       "8   0.000219              0.221522                        0.123693\n",
       "9   0.000187              0.008341                        0.005286\n",
       "10  0.000040             -0.055707                        0.089571\n",
       "11  0.000308             -0.227284                        0.144015\n",
       "12  0.234543             -0.294441                        0.591863\n",
       "13  0.017419             -0.092248                        0.070458\n",
       "14  0.000649             -0.197902                        0.312096\n",
       "16  0.000091             -0.051317                        0.128461\n",
       "18  0.001913             -0.153884                        0.167077\n",
       "19  0.002499             -0.301404                        0.209099\n",
       "20  0.001197             -0.144884                        0.163569\n",
       "21  0.001101              0.335905                        0.054398\n",
       "22  0.000040             -0.143106                        0.109331\n",
       "23  0.000042             -0.087745                        0.116163\n",
       "24  0.000836             -0.078326                        0.004867\n",
       "25  0.000297             -0.064984                        0.363506\n",
       "28  0.000192             -0.087156                        0.177422\n",
       "29  0.000148             -0.137222                        0.178697\n",
       "30  0.033080             -0.025743                        0.407050"
      ]
     },
     "execution_count": 3,
     "metadata": {},
     "output_type": "execute_result"
    }
   ],
   "source": [
    "stats = get_all_stats(network_indices=network_indices) \n",
    "stats = stats[['density', 'degree assortativity', 'average clustering coefficient']]\n",
    "stats"
   ]
  },
  {
   "cell_type": "markdown",
   "id": "dress-daniel",
   "metadata": {
    "execution": {
     "iopub.execute_input": "2021-03-05T07:43:27.946739Z",
     "iopub.status.busy": "2021-03-05T07:43:27.946412Z",
     "iopub.status.idle": "2021-03-05T07:43:27.950442Z",
     "shell.execute_reply": "2021-03-05T07:43:27.949791Z",
     "shell.execute_reply.started": "2021-03-05T07:43:27.946709Z"
    }
   },
   "source": [
    "# Diameter"
   ]
  },
  {
   "cell_type": "code",
   "execution_count": 4,
   "id": "lasting-ownership",
   "metadata": {
    "execution": {
     "iopub.execute_input": "2021-03-18T20:52:42.656146Z",
     "iopub.status.busy": "2021-03-18T20:52:42.655998Z",
     "iopub.status.idle": "2021-03-18T20:52:42.811636Z",
     "shell.execute_reply": "2021-03-18T20:52:42.811161Z",
     "shell.execute_reply.started": "2021-03-18T20:52:42.656128Z"
    },
    "tags": []
   },
   "outputs": [
    {
     "data": {
      "application/vnd.jupyter.widget-view+json": {
       "model_id": "c3d85ff551814455912a406bbe32f0a8",
       "version_major": 2,
       "version_minor": 0
      },
      "text/plain": [
       "  0%|          | 0/26 [00:00<?, ?it/s]"
      ]
     },
     "metadata": {},
     "output_type": "display_data"
    },
    {
     "data": {
      "text/plain": [
       "{1: 23,\n",
       " 2: 8,\n",
       " 3: 14,\n",
       " 4: 16,\n",
       " 5: 19,\n",
       " 6: 11,\n",
       " 7: 22,\n",
       " 8: 16,\n",
       " 9: 12,\n",
       " 10: 18,\n",
       " 11: 4,\n",
       " 12: 5,\n",
       " 13: 6,\n",
       " 14: 9,\n",
       " 16: 14,\n",
       " 18: 10,\n",
       " 19: 8,\n",
       " 20: 14,\n",
       " 21: 13,\n",
       " 22: 13,\n",
       " 23: 12,\n",
       " 24: 8,\n",
       " 25: 10,\n",
       " 28: 11,\n",
       " 29: 17,\n",
       " 30: 7}"
      ]
     },
     "execution_count": 4,
     "metadata": {},
     "output_type": "execute_result"
    }
   ],
   "source": [
    "diameter = get_diameter()\n",
    "diameter"
   ]
  },
  {
   "cell_type": "markdown",
   "id": "convertible-framework",
   "metadata": {},
   "source": [
    "# Static features"
   ]
  },
  {
   "cell_type": "code",
   "execution_count": 5,
   "id": "quantitative-glass",
   "metadata": {
    "execution": {
     "iopub.execute_input": "2021-03-18T20:52:42.812501Z",
     "iopub.status.busy": "2021-03-18T20:52:42.812378Z",
     "iopub.status.idle": "2021-03-18T20:52:44.129748Z",
     "shell.execute_reply": "2021-03-18T20:52:44.129108Z",
     "shell.execute_reply.started": "2021-03-18T20:52:42.812487Z"
    },
    "tags": []
   },
   "outputs": [
    {
     "data": {
      "text/plain": [
       "{1: 0.6953527059396208,\n",
       " 2: 0.8222212086294092,\n",
       " 3: 0.8517442497686755,\n",
       " 4: 0.7541435765743063,\n",
       " 5: 0.6865645801331285,\n",
       " 6: 0.7628612201327163,\n",
       " 7: 0.7217721278315017,\n",
       " 8: 0.7628832840197868,\n",
       " 9: 0.8448093351694936,\n",
       " 10: 0.9008032194714906,\n",
       " 11: 0.9306920551021755,\n",
       " 12: 0.8642720099151482,\n",
       " 13: 0.7237440295148903,\n",
       " 14: 0.8735334178881218,\n",
       " 16: 0.8842385332139512,\n",
       " 18: 0.8655900531265688,\n",
       " 19: 0.9186840371926538,\n",
       " 20: 0.8211898900598091,\n",
       " 21: 0.6800378435875183,\n",
       " 22: 0.9372499225360047,\n",
       " 23: 0.92700848,\n",
       " 24: 0.7827007038011212,\n",
       " 25: 0.85552264,\n",
       " 28: 0.8795061251472457,\n",
       " 29: 0.906051962051953,\n",
       " 30: 0.8374009737184345}"
      ]
     },
     "execution_count": 5,
     "metadata": {},
     "output_type": "execute_result"
    }
   ],
   "source": [
    "def logistic_regression_I(network_index: int):\n",
    "  X = dict()\n",
    "  for heuristic in ['aa', 'cn', 'jc', 'pa']:\n",
    "    X[heuristic] = np.load(\n",
    "      f'data/{network_index:02}/features/time_agnostic/{heuristic}.npy')\n",
    "  X = pd.DataFrame(X)\n",
    "    \n",
    "  y = np.load(f'data/{network_index:02}/targets_sampled.npy')\n",
    "  \n",
    "  X_train, X_test, y_train, y_test = (\n",
    "    sklearn.model_selection.train_test_split(X, y))\n",
    "  pipe = sklearn.pipeline.make_pipeline(\n",
    "    sklearn.preprocessing.StandardScaler(),\n",
    "    sklearn.linear_model.LogisticRegression(max_iter=10000)) # type: ignore\n",
    "  pipe.fit(X_train, y_train)\n",
    "  \n",
    "  auc = sklearn.metrics.roc_auc_score(\n",
    "    y_true=y_test, y_score=pipe.predict_proba(X_test)[:,1]) # type: ignore\n",
    "  \n",
    "  return auc\n",
    "\n",
    "auc_I = {\n",
    "  network_index: logistic_regression_I(network_index) \n",
    "  for network_index in network_indices}\n",
    "auc_I"
   ]
  },
  {
   "cell_type": "markdown",
   "id": "interesting-intro",
   "metadata": {},
   "source": [
    "# Node temporal features"
   ]
  },
  {
   "cell_type": "code",
   "execution_count": 6,
   "id": "helpful-tradition",
   "metadata": {
    "execution": {
     "iopub.execute_input": "2021-03-18T20:52:44.131021Z",
     "iopub.status.busy": "2021-03-18T20:52:44.130876Z",
     "iopub.status.idle": "2021-03-18T20:53:07.240306Z",
     "shell.execute_reply": "2021-03-18T20:53:07.239823Z",
     "shell.execute_reply.started": "2021-03-18T20:52:44.131002Z"
    },
    "tags": []
   },
   "outputs": [
    {
     "data": {
      "text/plain": [
       "{1: 0.7948481575705211,\n",
       " 2: 0.8666580479875892,\n",
       " 3: 0.9004990329525964,\n",
       " 4: 0.7816141865733645,\n",
       " 5: 0.7262516768171706,\n",
       " 6: 0.819797331167573,\n",
       " 7: 0.8277908735274884,\n",
       " 8: 0.7817326603089026,\n",
       " 9: 0.8650943293581687,\n",
       " 10: 0.9154803923074756,\n",
       " 11: 0.937170868347339,\n",
       " 12: 0.9018479481405062,\n",
       " 13: 0.8821742303308917,\n",
       " 14: 0.9355370747742028,\n",
       " 16: 0.9392711442893534,\n",
       " 18: 0.940646491741363,\n",
       " 19: 0.9355039547084238,\n",
       " 20: 0.9395187665123805,\n",
       " 21: 0.7359813413131491,\n",
       " 22: 0.9675232300929204,\n",
       " 23: 0.9635138328796324,\n",
       " 24: 0.9450768667525614,\n",
       " 25: 0.937084624616735,\n",
       " 28: 0.9023377496159756,\n",
       " 29: 0.9189633584093962,\n",
       " 30: 0.8482955680351545}"
      ]
     },
     "execution_count": 6,
     "metadata": {},
     "output_type": "execute_result"
    }
   ],
   "source": [
    "def logistic_regression_I_II(network_index: int, hypergraph: bool):\n",
    "  X = dict()\n",
    "  for heuristic in ['aa', 'cn', 'jc', 'pa']:\n",
    "    X[heuristic] = (\n",
    "      np.load(\n",
    "        f'data/{network_index:02}/features/time_agnostic/{heuristic}.npy'))\n",
    "    \n",
    "  if hypergraph:\n",
    "    for time_strategy in time_strategies:\n",
    "      for nodepair_strategy in nodepair_strategies:\n",
    "        for aggregation_strategy in ['m0', 'm1', 'm2', 'm3', 'q0', 'q25', 'q50', 'q75', 'q100']:\n",
    "          X[(time_strategy, nodepair_strategy, aggregation_strategy)] = (\n",
    "            np.load(\n",
    "              f'data/{network_index:02}/features/time_node/'\n",
    "              f'{time_strategy}_{nodepair_strategy}_{aggregation_strategy}.npy'\n",
    "            ))\n",
    "  else:\n",
    "    for time_strategy in time_strategies:\n",
    "      for nodepair_strategy in nodepair_strategies:\n",
    "          X[(time_strategy, nodepair_strategy)] = (\n",
    "            np.load(\n",
    "              f'data/{network_index:02}/features/time_node/'\n",
    "              f'{time_strategy}_{nodepair_strategy}.npy'))\n",
    "    \n",
    "  X = pd.DataFrame(X)\n",
    "    \n",
    "  y = np.load(f'data/{network_index:02}/targets_sampled.npy')\n",
    "  \n",
    "  X_train, X_test, y_train, y_test = (\n",
    "    sklearn.model_selection.train_test_split(X, y))\n",
    "  pipe = sklearn.pipeline.make_pipeline(\n",
    "    sklearn.preprocessing.StandardScaler(),\n",
    "    sklearn.linear_model.LogisticRegression(max_iter=10000))\n",
    "  pipe.fit(X_train, y_train)\n",
    "  \n",
    "  auc = sklearn.metrics.roc_auc_score(\n",
    "    y_true=y_test, y_score=pipe.predict_proba(X_test)[:,1])\n",
    "  \n",
    "  return auc\n",
    "\n",
    "auc_I_II = {\n",
    "  network_index: (\n",
    "    logistic_regression_I_II(\n",
    "      network_index, hypergraph=network_index in hypergraph_indices\n",
    "    )\n",
    "  )\n",
    "  for network_index in network_indices\n",
    "}\n",
    "auc_I_II"
   ]
  },
  {
   "cell_type": "markdown",
   "id": "purple-twelve",
   "metadata": {},
   "source": [
    "# Edge temporal features"
   ]
  },
  {
   "cell_type": "code",
   "execution_count": 7,
   "id": "coastal-approach",
   "metadata": {
    "execution": {
     "iopub.execute_input": "2021-03-18T20:53:07.241317Z",
     "iopub.status.busy": "2021-03-18T20:53:07.241187Z",
     "iopub.status.idle": "2021-03-18T20:53:19.252383Z",
     "shell.execute_reply": "2021-03-18T20:53:19.251816Z",
     "shell.execute_reply.started": "2021-03-18T20:53:07.241299Z"
    },
    "tags": []
   },
   "outputs": [
    {
     "data": {
      "text/plain": [
       "{1: 0.8040989057551544,\n",
       " 2: 0.8514816046838667,\n",
       " 3: 0.8795490435107427,\n",
       " 4: 0.794940184713866,\n",
       " 5: 0.7509745326299428,\n",
       " 6: 0.8129268810928157,\n",
       " 7: 0.8368061688951695,\n",
       " 8: 0.8015598381984674,\n",
       " 9: 0.8466050591112851,\n",
       " 10: 0.9191025082256052,\n",
       " 11: 0.9391079338232423,\n",
       " 12: 0.8926886981297533,\n",
       " 13: 0.7827376837421043,\n",
       " 14: 0.9187292881691398,\n",
       " 16: 0.9333849588819948,\n",
       " 18: 0.931120926957301,\n",
       " 19: 0.9235164310505161,\n",
       " 20: 0.9292441969767878,\n",
       " 21: 0.7285764206225471,\n",
       " 22: 0.9618124006308421,\n",
       " 23: 0.9516174465053742,\n",
       " 24: 0.8808092086178064,\n",
       " 25: 0.9040448647178356,\n",
       " 28: 0.8938962472105961,\n",
       " 29: 0.9136902757139971,\n",
       " 30: 0.8457731407169609}"
      ]
     },
     "execution_count": 7,
     "metadata": {},
     "output_type": "execute_result"
    }
   ],
   "source": [
    "def logistic_regression_III(network_index: int, hypergraph: bool):\n",
    "  X = dict()\n",
    "  \n",
    "  for heuristic in ['aa', 'cn', 'jc', 'pa']:  \n",
    "    for time_strategy in time_strategies:\n",
    "      if hypergraph:\n",
    "        for aggregation_strategy in ['m0', 'm1', 'q0', 'q25', 'q50', 'q75', 'q100']:\n",
    "            X[(heuristic, time_strategy, aggregation_strategy)] = np.load(\n",
    "                f'data/{network_index:02}/features/time_edge/'\n",
    "                f'{heuristic}_{time_strategy}_{aggregation_strategy}.npy')\n",
    "      else:\n",
    "        X[(heuristic, time_strategy)] = np.load(\n",
    "          f'data/{network_index:02}/features/time_edge/'\n",
    "          f'{heuristic}_{time_strategy}.npy')\n",
    "    \n",
    "  X = pd.DataFrame(X)\n",
    "    \n",
    "  y = np.load(f'data/{network_index:02}/targets_sampled.npy')\n",
    "  \n",
    "  X_train, X_test, y_train, y_test = (\n",
    "    sklearn.model_selection.train_test_split(X, y))\n",
    "  pipe = sklearn.pipeline.make_pipeline(\n",
    "    sklearn.preprocessing.StandardScaler(),\n",
    "    sklearn.linear_model.LogisticRegression(max_iter=10000))\n",
    "  pipe.fit(X_train, y_train)\n",
    "  \n",
    "  auc = sklearn.metrics.roc_auc_score(\n",
    "    y_true=y_test, y_score=pipe.predict_proba(X_test)[:,1])\n",
    "  \n",
    "  return auc\n",
    "\n",
    "auc_III = {\n",
    "  network_index: logistic_regression_III(\n",
    "    network_index, hypergraph=network_index in hypergraph_indices)\n",
    "  for network_index in network_indices}\n",
    "auc_III"
   ]
  },
  {
   "cell_type": "markdown",
   "id": "stock-facility",
   "metadata": {},
   "source": [
    "# Figures"
   ]
  },
  {
   "cell_type": "code",
   "execution_count": 8,
   "id": "racial-mustang",
   "metadata": {
    "execution": {
     "iopub.execute_input": "2021-03-18T20:53:19.253865Z",
     "iopub.status.busy": "2021-03-18T20:53:19.253732Z",
     "iopub.status.idle": "2021-03-18T20:53:19.260700Z",
     "shell.execute_reply": "2021-03-18T20:53:19.260299Z",
     "shell.execute_reply.started": "2021-03-18T20:53:19.253846Z"
    },
    "tags": []
   },
   "outputs": [
    {
     "data": {
      "text/plain": [
       "Index(['nodes', 'edges', 'density', 'degree assortativity',\n",
       "       'average clustering coefficient', 'diameter', 'time agnostic',\n",
       "       'time aware'],\n",
       "      dtype='object')"
      ]
     },
     "execution_count": 8,
     "metadata": {},
     "output_type": "execute_result"
    }
   ],
   "source": [
    "df = pd.concat([\n",
    "  size,\n",
    "  stats,\n",
    "  pd.Series(diameter, name='diameter'),\n",
    "  pd.Series(auc_I, name='time agnostic'),\n",
    "#   pd.Series(auc_I_II, name='I+II'),\n",
    "  pd.Series(auc_III, name='time aware')\n",
    "], axis=1)\n",
    "df.columns"
   ]
  },
  {
   "cell_type": "code",
   "execution_count": 12,
   "id": "proper-think",
   "metadata": {
    "execution": {
     "iopub.execute_input": "2021-03-19T14:02:56.860152Z",
     "iopub.status.busy": "2021-03-19T14:02:56.859963Z",
     "iopub.status.idle": "2021-03-19T14:02:56.864162Z",
     "shell.execute_reply": "2021-03-19T14:02:56.863544Z",
     "shell.execute_reply.started": "2021-03-19T14:02:56.860134Z"
    },
    "tags": []
   },
   "outputs": [
    {
     "data": {
      "text/plain": [
       "Index(['nodes', 'edges', 'density', 'degree assortativity',\n",
       "       'average clustering coefficient', 'diameter', 'time agnostic',\n",
       "       'time aware'],\n",
       "      dtype='object')"
      ]
     },
     "execution_count": 12,
     "metadata": {},
     "output_type": "execute_result"
    }
   ],
   "source": [
    "df.columns"
   ]
  },
  {
   "cell_type": "code",
   "execution_count": 15,
   "id": "private-difference",
   "metadata": {
    "execution": {
     "iopub.execute_input": "2021-03-19T14:04:02.918653Z",
     "iopub.status.busy": "2021-03-19T14:04:02.918491Z",
     "iopub.status.idle": "2021-03-19T14:04:03.232011Z",
     "shell.execute_reply": "2021-03-19T14:04:03.231398Z",
     "shell.execute_reply.started": "2021-03-19T14:04:02.918635Z"
    },
    "tags": []
   },
   "outputs": [
    {
     "data": {
      "image/png": "[encoded data removed]",
      "text/plain": [
       "<Figure size 237.6x237.6 with 2 Axes>"
      ]
     },
     "metadata": {
      "needs_background": "light"
     },
     "output_type": "display_data"
    }
   ],
   "source": [
    "data = (\n",
    "  df.corr()\n",
    "  .loc[['time agnostic', 'time aware']]\n",
    "  .T\n",
    "  .drop(index=['time aware', 'time agnostic'])\n",
    "  .rename(\n",
    "    index={\n",
    "      'nodes': 'number of\\nnodes',\n",
    "      'edges': 'number of\\nedges',\n",
    "      'average clustering coefficient': 'average\\nclustering\\ncoefficient',\n",
    "      'degree assortativity': 'degree\\nassortativity'\n",
    "    },\n",
    "    columns={\n",
    "      'time agnostic': 'Static topological\\nfeatures (AUC)',\n",
    "      'time aware': 'Temporal topological\\nfeatures(AUC)' \n",
    "    }\n",
    "  )\n",
    ")\n",
    "\n",
    "fontsize=8\n",
    "grid_kws = {\"height_ratios\": (.9, .05), \"hspace\": .5}\n",
    "rc = {\n",
    "  'xtick.top': True, 'ytick.right': True, 'figure.figsize': (3.30,3.3), \n",
    "  'axes.titlesize': fontsize, \n",
    "  'axes.labelsize': fontsize, \n",
    "  'xtick.labelsize': fontsize, \n",
    "  'ytick.labelsize': fontsize, \n",
    "  'legend.fontsize': fontsize, \n",
    "  'legend.title_fontsize': fontsize,\n",
    "  'lines.linewidth': 1,\n",
    "#   'lines.markersize': 4,\n",
    "  'legend.handlelength': .1,\n",
    "  'font.family': 'sans-serif',\n",
    "  'font.sans-serif': 'Helvetica',\n",
    "  'savefig.transparent': True\n",
    "}\n",
    "\n",
    "with plt.rc_context(rc):\n",
    "  f, (ax, cbar_ax) = plt.subplots(2, gridspec_kw=grid_kws, figsize=(3.3, 3.3))\n",
    "  ax = sns.heatmap(data, ax=ax, cbar_ax=cbar_ax,\n",
    "                   cbar_kws={\n",
    "                     \"orientation\": \"horizontal\", \n",
    "                     'label': r'Pearson correlation coefficient ($\\rho$)'},\n",
    "                   vmin=-1, vmax=1, annot=True, fmt='.2f', cmap='RdBu',\n",
    "                   annot_kws={'size': fontsize}\n",
    "                  )\n",
    "  ax.set_xticklabels(ax.get_xticklabels(), rotation=0)\n",
    "  cbar_ax.xaxis.set_ticks(np.arange(-1, 1.1, .5))\n",
    "  cbar_ax.xaxis.set_ticks(np.arange(-1, 1.1, .1), minor=True)\n",
    "  plt.savefig('code/figures/output/Fig4.pdf', bbox_inches='tight')"
   ]
  },
  {
   "cell_type": "code",
   "execution_count": null,
   "id": "worse-appeal",
   "metadata": {
    "execution": {
     "iopub.status.busy": "2021-03-18T20:53:25.513262Z",
     "iopub.status.idle": "2021-03-18T20:53:25.513446Z",
     "shell.execute_reply": "2021-03-18T20:53:25.513352Z"
    },
    "tags": []
   },
   "outputs": [],
   "source": [
    "from scipy.stats.stats import pearsonr\n",
    "for column1 in df.columns:\n",
    "  if column1 in ['nodes', 'edges', 'density', 'degree assortativity', 'average clustering coefficient', 'diameter']:\n",
    "    for column2 in df.columns:\n",
    "      if column2 in ['time agnostic', 'time aware']:\n",
    "        print(column1, column2, pearsonr(df[column1], df[column2]))"
   ]
  },
  {
   "cell_type": "code",
   "execution_count": null,
   "id": "bottom-steam",
   "metadata": {
    "execution": {
     "iopub.status.busy": "2021-03-18T20:53:25.514100Z",
     "iopub.status.idle": "2021-03-18T20:53:25.514275Z",
     "shell.execute_reply": "2021-03-18T20:53:25.514193Z"
    }
   },
   "outputs": [],
   "source": [
    "df"
   ]
  },
  {
   "cell_type": "code",
   "execution_count": null,
   "id": "historical-portfolio",
   "metadata": {
    "execution": {
     "iopub.status.busy": "2021-03-18T20:53:25.514781Z",
     "iopub.status.idle": "2021-03-18T20:53:25.514945Z",
     "shell.execute_reply": "2021-03-18T20:53:25.514865Z"
    },
    "tags": []
   },
   "outputs": [],
   "source": [
    "df = pd.concat([\n",
    "  size,\n",
    "  stats,\n",
    "  pd.Series(diameter, name='diameter'),\n",
    "  pd.Series(auc_I, name='I'),\n",
    "  pd.Series(auc_I_II, name='I+II'),\n",
    "  pd.Series(auc_III, name='III')\n",
    "], axis=1)\n",
    "\n",
    "sns.heatmap(\n",
    "  df.corr(),\n",
    "  vmin=-1, vmax=1, annot=True, fmt='.2f', cmap='RdBu')\n",
    "plt.yticks(rotation=0) \n",
    "# plt.savefig('figures/heatmap.pdf')"
   ]
  },
  {
   "cell_type": "code",
   "execution_count": null,
   "id": "scenic-ceiling",
   "metadata": {
    "execution": {
     "iopub.status.busy": "2021-03-18T20:53:25.515420Z",
     "iopub.status.idle": "2021-03-18T20:53:25.515582Z",
     "shell.execute_reply": "2021-03-18T20:53:25.515502Z"
    },
    "tags": []
   },
   "outputs": [],
   "source": [
    "df.sort_values('degree assortativity')"
   ]
  },
  {
   "cell_type": "code",
   "execution_count": null,
   "id": "first-strap",
   "metadata": {},
   "outputs": [],
   "source": []
  }
 ],
 "metadata": {
  "kernelspec": {
   "display_name": "Python 3",
   "language": "python",
   "name": "python3"
  },
  "language_info": {
   "codemirror_mode": {
    "name": "ipython",
    "version": 3
   },
   "file_extension": ".py",
   "mimetype": "text/x-python",
   "name": "python",
   "nbconvert_exporter": "python",
   "pygments_lexer": "ipython3",
   "version": "3.9.2"
  }
 },
 "nbformat": 4,
 "nbformat_minor": 5
}
