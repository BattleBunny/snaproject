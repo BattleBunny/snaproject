{
 "cells": [
  {
   "cell_type": "code",
   "execution_count": 2,
   "id": "cognitive-sponsorship",
   "metadata": {
    "execution": {
     "iopub.execute_input": "2021-06-21T12:52:00.517093Z",
     "iopub.status.busy": "2021-06-21T12:52:00.516793Z",
     "iopub.status.idle": "2021-06-21T12:52:00.609581Z",
     "shell.execute_reply": "2021-06-21T12:52:00.608108Z",
     "shell.execute_reply.started": "2021-06-21T12:52:00.517056Z"
    },
    "tags": []
   },
   "outputs": [
    {
     "name": "stdout",
     "output_type": "stream",
     "text": [
      "/data/bruingjde/on-going/SNAM2021-code\n"
     ]
    },
    {
     "ename": "ModuleNotFoundError",
     "evalue": "No module named 'tlp'",
     "output_type": "error",
     "traceback": [
      "\u001b[0;31m---------------------------------------------------------------------------\u001b[0m",
      "\u001b[0;31mModuleNotFoundError\u001b[0m                       Traceback (most recent call last)",
      "\u001b[0;32m<ipython-input-2-9b4a94737373>\u001b[0m in \u001b[0;36m<module>\u001b[0;34m\u001b[0m\n\u001b[1;32m      1\u001b[0m \u001b[0mget_ipython\u001b[0m\u001b[0;34m(\u001b[0m\u001b[0;34m)\u001b[0m\u001b[0;34m.\u001b[0m\u001b[0mrun_line_magic\u001b[0m\u001b[0;34m(\u001b[0m\u001b[0;34m'cd'\u001b[0m\u001b[0;34m,\u001b[0m \u001b[0;34m'/data/bruingjde/on-going/SNAM2021-code/'\u001b[0m\u001b[0;34m)\u001b[0m\u001b[0;34m\u001b[0m\u001b[0;34m\u001b[0m\u001b[0m\n\u001b[1;32m      2\u001b[0m \u001b[0;34m\u001b[0m\u001b[0m\n\u001b[0;32m----> 3\u001b[0;31m \u001b[0;32mfrom\u001b[0m \u001b[0mconstants\u001b[0m \u001b[0;32mimport\u001b[0m \u001b[0;34m*\u001b[0m\u001b[0;34m\u001b[0m\u001b[0;34m\u001b[0m\u001b[0m\n\u001b[0m",
      "\u001b[0;32m/data/bruingjde/on-going/SNAM2021-code/old-code/figures/constants.py\u001b[0m in \u001b[0;36m<module>\u001b[0;34m\u001b[0m\n\u001b[1;32m     15\u001b[0m \u001b[0;32mfrom\u001b[0m \u001b[0mtqdm\u001b[0m\u001b[0;34m.\u001b[0m\u001b[0mauto\u001b[0m \u001b[0;32mimport\u001b[0m \u001b[0mtqdm\u001b[0m\u001b[0;34m\u001b[0m\u001b[0;34m\u001b[0m\u001b[0m\n\u001b[1;32m     16\u001b[0m \u001b[0;34m\u001b[0m\u001b[0m\n\u001b[0;32m---> 17\u001b[0;31m \u001b[0;32mimport\u001b[0m \u001b[0mtlp\u001b[0m\u001b[0;34m\u001b[0m\u001b[0;34m\u001b[0m\u001b[0m\n\u001b[0m\u001b[1;32m     18\u001b[0m \u001b[0;34m\u001b[0m\u001b[0m\n\u001b[1;32m     19\u001b[0m \u001b[0;32mdef\u001b[0m \u001b[0mget_networks\u001b[0m\u001b[0;34m(\u001b[0m\u001b[0mdropna\u001b[0m\u001b[0;34m=\u001b[0m\u001b[0;32mTrue\u001b[0m\u001b[0;34m)\u001b[0m\u001b[0;34m:\u001b[0m\u001b[0;34m\u001b[0m\u001b[0;34m\u001b[0m\u001b[0m\n",
      "\u001b[0;31mModuleNotFoundError\u001b[0m: No module named 'tlp'"
     ]
    }
   ],
   "source": [
    "%cd /data/bruingjde/on-going/SNAM2021-code/\n",
    "\n",
    "from constants import *"
   ]
  },
  {
   "cell_type": "code",
   "execution_count": 2,
   "id": "psychological-burden",
   "metadata": {
    "execution": {
     "iopub.execute_input": "2021-03-18T08:14:32.924434Z",
     "iopub.status.busy": "2021-03-18T08:14:32.924295Z",
     "iopub.status.idle": "2021-03-18T08:14:32.933014Z",
     "shell.execute_reply": "2021-03-18T08:14:32.932477Z",
     "shell.execute_reply.started": "2021-03-18T08:14:32.924418Z"
    },
    "tags": []
   },
   "outputs": [],
   "source": [
    "df = networks.copy()\n",
    "df['index'] = df.index\n",
    "df['edge type'] = df['index'].isin(hypergraph_indices).replace(\n",
    "  {True: 'persistent', False: 'event'}\n",
    ")\n",
    "df['source'] = df['source'].apply(lambda x: f'\\cite{{{x}}}')\n",
    "df['domain'] = df['category'].replace(\n",
    "  {'social': 'Social', 'information': 'Inf.', 'technological': 'Tech.'})\n",
    "df.drop(columns=['old_category', 'category'], inplace=True)"
   ]
  },
  {
   "cell_type": "code",
   "execution_count": 3,
   "id": "humanitarian-meeting",
   "metadata": {
    "execution": {
     "iopub.execute_input": "2021-03-18T08:14:32.934200Z",
     "iopub.status.busy": "2021-03-18T08:14:32.934054Z",
     "iopub.status.idle": "2021-03-18T08:14:33.065364Z",
     "shell.execute_reply": "2021-03-18T08:14:33.064566Z",
     "shell.execute_reply.started": "2021-03-18T08:14:32.934185Z"
    },
    "tags": []
   },
   "outputs": [],
   "source": [
    "# def get_size(network: int):\n",
    "#   edgelist = pd.read_pickle(f'data/{network:02}/edgelist.pkl')\n",
    "#   graph = nx.from_pandas_edgelist(edgelist, create_using=nx.MultiGraph)\n",
    "    \n",
    "#   return pd.Series(\n",
    "#     dict(nodes=graph.number_of_nodes(), edges=graph.number_of_edges()),\n",
    "#     name=network\n",
    "#   )\n",
    "\n",
    "# size = tlp.ProgressParallel(n_jobs=network_count, total=network_count)(\n",
    "#   joblib.delayed(get_size)(network) for network in network_indices\n",
    "# )\n",
    "# size = pd.DataFrame(size) \n",
    "# size.rename(dict(nodes='n', edges='m'), inplace=True)\n",
    "size = pd.read_pickle('code/figures/size.pkl')"
   ]
  },
  {
   "cell_type": "code",
   "execution_count": 4,
   "id": "personal-lodge",
   "metadata": {
    "execution": {
     "iopub.execute_input": "2021-03-18T08:14:33.066815Z",
     "iopub.status.busy": "2021-03-18T08:14:33.066584Z",
     "iopub.status.idle": "2021-03-18T08:14:33.132423Z",
     "shell.execute_reply": "2021-03-18T08:14:33.131858Z",
     "shell.execute_reply.started": "2021-03-18T08:14:33.066790Z"
    },
    "tags": []
   },
   "outputs": [
    {
     "data": {
      "application/vnd.jupyter.widget-view+json": {
       "model_id": "d4606e2ad2064459822f0bc42aa44dbe",
       "version_major": 2,
       "version_minor": 0
      },
      "text/plain": [
       "  0%|          | 0/26 [00:00<?, ?it/s]"
      ]
     },
     "metadata": {},
     "output_type": "display_data"
    }
   ],
   "source": [
    "stats = dict()\n",
    "for network in tqdm(network_indices):\n",
    "  with open(f'data/{network:02}/stats.json') as file:\n",
    "    stats[network] = json.load(file)\n",
    "stats = pd.DataFrame.from_dict(stats, orient='index')\n",
    "stats.rename(columns={'density (nx.Graph)': 'density', 'degree assortativity (nx.Graph)': 'degree assortativity'}, inplace=True)\n",
    "\n",
    "columns = ['density', 'degree assortativity', \n",
    "           'average clustering coefficient']\n",
    "\n",
    "stats = stats[columns].copy()\n",
    "\n",
    "# stats.drop(columns=['nodes', 'edges', 'density (nx.MultiGraph)', 'fraction edges in GC'], inplace=True)"
   ]
  },
  {
   "cell_type": "code",
   "execution_count": 5,
   "id": "modified-manual",
   "metadata": {
    "execution": {
     "iopub.execute_input": "2021-03-18T08:14:33.133275Z",
     "iopub.status.busy": "2021-03-18T08:14:33.133158Z",
     "iopub.status.idle": "2021-03-18T08:14:33.252234Z",
     "shell.execute_reply": "2021-03-18T08:14:33.251651Z",
     "shell.execute_reply.started": "2021-03-18T08:14:33.133261Z"
    },
    "tags": []
   },
   "outputs": [
    {
     "data": {
      "application/vnd.jupyter.widget-view+json": {
       "model_id": "0d7a13800a04419a988caeb625e37eea",
       "version_major": 2,
       "version_minor": 0
      },
      "text/plain": [
       "  0%|          | 0/26 [00:00<?, ?it/s]"
      ]
     },
     "metadata": {},
     "output_type": "display_data"
    }
   ],
   "source": [
    "diameter = pd.Series(get_diameter(), name='diameter')"
   ]
  },
  {
   "cell_type": "code",
   "execution_count": 6,
   "id": "guided-token",
   "metadata": {
    "execution": {
     "iopub.execute_input": "2021-03-18T08:14:33.253075Z",
     "iopub.status.busy": "2021-03-18T08:14:33.252946Z",
     "iopub.status.idle": "2021-03-18T08:14:33.316885Z",
     "shell.execute_reply": "2021-03-18T08:14:33.316100Z",
     "shell.execute_reply.started": "2021-03-18T08:14:33.253053Z"
    },
    "tags": []
   },
   "outputs": [],
   "source": [
    "def convert_int_to_short(x: int):\n",
    "  if x > 2000000: return f'{x/1000000:.0f}M'\n",
    "  elif x > 1000000: return f'{x/1000000:.1f}M'\n",
    "  elif x > 2000: return f'{x/1000:.0f}K'\n",
    "  elif x > 1000: return f'{x/1000:.1f}K'\n",
    "  else: return str(x)\n",
    "  \n",
    "def scientific_notation(x): \n",
    "  x = f'{x:.0e}'\n",
    "  coefficient = x[0]\n",
    "  if '-' in x:\n",
    "    exponent = '-' + x[-1]\n",
    "  else:\n",
    "    exponent = x[1]\n",
    "  return f'${coefficient}\\!\\cdot\\!10^{{{exponent}}}$'\n",
    "\n",
    "def thousand_sep(x):\n",
    "  return f'{x:,}'"
   ]
  },
  {
   "cell_type": "code",
   "execution_count": 7,
   "id": "healthy-timber",
   "metadata": {
    "execution": {
     "iopub.execute_input": "2021-03-18T08:14:33.318206Z",
     "iopub.status.busy": "2021-03-18T08:14:33.317957Z",
     "iopub.status.idle": "2021-03-18T08:14:39.614757Z",
     "shell.execute_reply": "2021-03-18T08:14:39.613682Z",
     "shell.execute_reply.started": "2021-03-18T08:14:33.318177Z"
    },
    "tags": []
   },
   "outputs": [],
   "source": [
    "result = pd.concat([df, stats, size, diameter], axis=1)\n",
    "result.dropna(inplace=True)\n",
    "result = result.astype(dict(diameter=int))\n",
    "result.reset_index(inplace=True, drop=True)\n",
    "result.index = result.index + 1\n",
    "result.sort_values('nodes', inplace=True)\n",
    "result['density'] = result['density'].apply(scientific_notation)\n",
    "result['nodes'] = result['nodes'].apply(thousand_sep)\n",
    "result['edges'] = result['edges'].apply(thousand_sep)\n",
    "result['degree assortativity'] = result['degree assortativity'].round(2)\n",
    "result['average clustering coefficient'] = (\n",
    "  result['average clustering coefficient'].round(2))"
   ]
  },
  {
   "cell_type": "code",
   "execution_count": 8,
   "id": "unlimited-surfing",
   "metadata": {
    "execution": {
     "iopub.execute_input": "2021-03-18T08:14:39.617677Z",
     "iopub.status.busy": "2021-03-18T08:14:39.617412Z",
     "iopub.status.idle": "2021-03-18T08:14:39.691491Z",
     "shell.execute_reply": "2021-03-18T08:14:39.690445Z",
     "shell.execute_reply.started": "2021-03-18T08:14:39.617644Z"
    },
    "tags": []
   },
   "outputs": [],
   "source": [
    "columns = [\n",
    "  'label', 'domain', 'edge type', 'nodes', 'edges', 'density', \n",
    "  'degree assortativity', 'average clustering coefficient', 'diameter', \n",
    "  'source']"
   ]
  },
  {
   "cell_type": "code",
   "execution_count": 9,
   "id": "soviet-prediction",
   "metadata": {
    "execution": {
     "iopub.execute_input": "2021-03-18T08:14:39.692805Z",
     "iopub.status.busy": "2021-03-18T08:14:39.692662Z",
     "iopub.status.idle": "2021-03-18T08:14:39.768919Z",
     "shell.execute_reply": "2021-03-18T08:14:39.768110Z",
     "shell.execute_reply.started": "2021-03-18T08:14:39.692788Z"
    },
    "tags": []
   },
   "outputs": [],
   "source": [
    "table = result[columns].copy()\n",
    "table.rename(\n",
    "  {\n",
    "    'source': ' ',\n",
    "    'degree assortativity': 'd.a.', \n",
    "    'average clustering coefficient': 'a.c.c.',\n",
    "    'diameter': 'diam.',\n",
    "    'nodes': 'nodes ($n$)',\n",
    "    'edges': 'edges ($m$)'\n",
    "  },\n",
    "  axis='columns',\n",
    "  inplace=True)"
   ]
  },
  {
   "cell_type": "code",
   "execution_count": 10,
   "id": "incoming-funds",
   "metadata": {
    "execution": {
     "iopub.execute_input": "2021-03-18T08:14:39.770045Z",
     "iopub.status.busy": "2021-03-18T08:14:39.769926Z",
     "iopub.status.idle": "2021-03-18T08:14:39.860239Z",
     "shell.execute_reply": "2021-03-18T08:14:39.859441Z",
     "shell.execute_reply.started": "2021-03-18T08:14:39.770031Z"
    },
    "tags": []
   },
   "outputs": [
    {
     "name": "stdout",
     "output_type": "stream",
     "text": [
      "\\begin{table}\n",
      "\\centering\n",
      "\\caption{Networks used in this work. The following abbreviations are used in the columns; d.a.: degree assortativity, acc: average clustering coefficient, diam.: diameter. In the column `domain', Technological is abbreviated to Tech. and Information to Inf.}\n",
      "\\label{table:datasets}\n",
      "\\begin{tabular}{l@{\\hspace{1em}}c@{\\hspace{1em}}c@{\\hspace{0.5em}}r@{\\hspace{1em}}r@{\\hspace{1em}}c@{\\hspace{1em}}c@{\\hspace{1em}}c@{\\hspace{1em}}c@{\\hspace{0.5em}}c}\n",
      "\\toprule\n",
      "label & domain &  edge type & nodes ($n$) & edges ($m$) &             density &  d.a. &  a.c.c. &  diam. &                          \\\\\n",
      "\\midrule\n",
      " Rado & Social & persistent &         167 &      82,927 & $2\\!\\cdot\\!10^{-1}$ & -0.29 &    0.59 &      5 &     \\cite{Michalski2011} \\\\\n",
      "   UC &   Inf. & persistent &         899 &      33,720 & $2\\!\\cdot\\!10^{-2}$ & -0.09 &    0.07 &      6 &        \\cite{Opsahl2013} \\\\\n",
      "   EU & Social & persistent &         986 &     332,334 & $3\\!\\cdot\\!10^{-2}$ & -0.03 &    0.41 &      7 &           \\cite{Yin2017} \\\\\n",
      "  Dem & Social & persistent &       1,891 &      39,264 & $2\\!\\cdot\\!10^{-3}$ & -0.30 &    0.21 &      8 &         \\cite{Wikileaks} \\\\\n",
      " bitA & Social &      event &       3,683 &      22,650 & $2\\!\\cdot\\!10^{-3}$ & -0.15 &    0.17 &     10 &         \\cite{Kumar2017} \\\\\n",
      "bitOT & Social &      event &       5,573 &      32,029 & $1\\!\\cdot\\!10^{-3}$ & -0.14 &    0.16 &     14 &         \\cite{Kumar2017} \\\\\n",
      "chess &   Inf. &      event &       6,050 &      21,163 & $1\\!\\cdot\\!10^{-3}$ &  0.34 &    0.05 &     13 &            \\cite{konect} \\\\\n",
      "HepTh &   Inf. & persistent &       6,798 &     290,597 & $9\\!\\cdot\\!10^{-3}$ &  0.01 &    0.77 &     11 &      \\cite{Leskovec2007} \\\\\n",
      "HepPh &   Inf. & persistent &      16,959 &   2,322,259 & $8\\!\\cdot\\!10^{-3}$ &  0.06 &    0.61 &      8 &      \\cite{Leskovec2007} \\\\\n",
      "Condm & Social & persistent &      17,218 &      88,090 & $4\\!\\cdot\\!10^{-4}$ &  0.18 &    0.64 &     19 & \\cite{Lichtenwalter2010} \\\\\n",
      "SX-MO & Social & persistent &      24,818 &     506,550 & $6\\!\\cdot\\!10^{-4}$ & -0.20 &    0.31 &      9 &     \\cite{Paranjape2017} \\\\\n",
      "D-rep & Social &      event &      30,398 &      87,627 & $2\\!\\cdot\\!10^{-4}$ &  0.01 &    0.01 &     12 &   \\cite{DeChoudhury2009} \\\\\n",
      "Rbody &  Tech. & persistent &      35,010 &     265,491 & $2\\!\\cdot\\!10^{-4}$ & -0.09 &    0.18 &     11 &         \\cite{Kumar2018} \\\\\n",
      " Rtit &  Tech. & persistent &      53,018 &     510,787 & $1\\!\\cdot\\!10^{-4}$ & -0.14 &    0.18 &     17 &         \\cite{Kumar2018} \\\\\n",
      " FB-w & Social &      event &      55,387 &     335,708 & $2\\!\\cdot\\!10^{-4}$ &  0.22 &    0.12 &     16 &     \\cite{Viswanath2009} \\\\\n",
      " FB-l & Social &      event &      55,387 &     335,708 & $2\\!\\cdot\\!10^{-4}$ &  0.22 &    0.12 &     16 &     \\cite{Viswanath2009} \\\\\n",
      "Enron & Social & persistent &      87,273 &   1,148,072 & $8\\!\\cdot\\!10^{-5}$ & -0.17 &    0.12 &     14 &         \\cite{Klimt2004} \\\\\n",
      "loans &   Inf. &      event &      89,269 &   3,394,979 & $8\\!\\cdot\\!10^{-4}$ & -0.08 &    0.00 &      8 &       \\cite{Redmond2013} \\\\\n",
      "trust & Social &      event &     114,467 &     717,667 & $9\\!\\cdot\\!10^{-5}$ & -0.05 &    0.13 &     14 &    \\cite{Richardson2003} \\\\\n",
      " Wiki & Social & persistent &     116,836 &   2,917,785 & $3\\!\\cdot\\!10^{-4}$ & -0.06 &    0.36 &     10 &       \\cite{Brandes2009} \\\\\n",
      "  D-v &   Inf. &      event &     139,409 &   3,018,197 & $3\\!\\cdot\\!10^{-4}$ & -0.23 &    0.14 &      4 &          \\cite{Hogg2010} \\\\\n",
      "SX-AU & Social & persistent &     159,316 &     964,437 & $4\\!\\cdot\\!10^{-5}$ & -0.14 &    0.11 &     13 &     \\cite{Paranjape2017} \\\\\n",
      "SX-SU & Social & persistent &     194,085 &   1,443,339 & $4\\!\\cdot\\!10^{-5}$ & -0.09 &    0.12 &     12 &     \\cite{Paranjape2017} \\\\\n",
      "  D-f & Social &      event &     279,374 &   1,729,983 & $4\\!\\cdot\\!10^{-5}$ & -0.06 &    0.09 &     18 &          \\cite{Hogg2010} \\\\\n",
      " AMin & Social & persistent &     855,165 &  23,787,273 & $9\\!\\cdot\\!10^{-6}$ &  0.16 &    0.61 &     22 &        \\cite{Zhuang2013} \\\\\n",
      " DBLP & Social & persistent &   1,824,701 &  29,487,744 & $5\\!\\cdot\\!10^{-6}$ &  0.11 &    0.63 &     23 &           \\cite{Ley2002} \\\\\n",
      "\\bottomrule\n",
      "\\end{tabular}\n",
      "\\end{table}\n",
      "\n"
     ]
    }
   ],
   "source": [
    "latex_table = table.to_latex(\n",
    "  column_format='l@{\\hspace{1em}}c@{\\hspace{1em}}c@{\\hspace{0.5em}}r@{\\hspace{1em}}r@{\\hspace{1em}}c@{\\hspace{1em}}c@{\\hspace{1em}}c@{\\hspace{1em}}c@{\\hspace{0.5em}}c',\n",
    "  index=False,\n",
    "  caption=(\n",
    "    \"Networks used in this work. \"\n",
    "    \"The following abbreviations are used in the columns; \"\n",
    "    \"d.a.: degree assortativity, acc: average clustering coefficient, diam.: diameter. \"\n",
    "    \"In the column `domain', Technological is abbreviated to Tech. and Information to Inf.\"\n",
    "  ),\n",
    "  label='table:datasets',\n",
    "  escape=False,\n",
    "  multicolumn=False,\n",
    ")\n",
    "print(latex_table)"
   ]
  },
  {
   "cell_type": "code",
   "execution_count": 13,
   "id": "sized-contest",
   "metadata": {
    "execution": {
     "iopub.execute_input": "2021-03-18T08:15:25.130812Z",
     "iopub.status.busy": "2021-03-18T08:15:25.130461Z",
     "iopub.status.idle": "2021-03-18T08:15:25.157138Z",
     "shell.execute_reply": "2021-03-18T08:15:25.156287Z",
     "shell.execute_reply.started": "2021-03-18T08:15:25.130782Z"
    },
    "tags": []
   },
   "outputs": [
    {
     "data": {
      "text/html": [
       "<div>\n",
       "<style scoped>\n",
       "    .dataframe tbody tr th:only-of-type {\n",
       "        vertical-align: middle;\n",
       "    }\n",
       "\n",
       "    .dataframe tbody tr th {\n",
       "        vertical-align: top;\n",
       "    }\n",
       "\n",
       "    .dataframe thead tr th {\n",
       "        text-align: left;\n",
       "    }\n",
       "\n",
       "    .dataframe thead tr:last-of-type th {\n",
       "        text-align: right;\n",
       "    }\n",
       "</style>\n",
       "<table border=\"1\" class=\"dataframe\">\n",
       "  <thead>\n",
       "    <tr>\n",
       "      <th></th>\n",
       "      <th colspan=\"2\" halign=\"left\">degree assortativity</th>\n",
       "      <th colspan=\"2\" halign=\"left\">average clustering coefficient</th>\n",
       "      <th colspan=\"2\" halign=\"left\">diameter</th>\n",
       "    </tr>\n",
       "    <tr>\n",
       "      <th></th>\n",
       "      <th>mean</th>\n",
       "      <th>std</th>\n",
       "      <th>mean</th>\n",
       "      <th>std</th>\n",
       "      <th>mean</th>\n",
       "      <th>std</th>\n",
       "    </tr>\n",
       "    <tr>\n",
       "      <th>domain</th>\n",
       "      <th></th>\n",
       "      <th></th>\n",
       "      <th></th>\n",
       "      <th></th>\n",
       "      <th></th>\n",
       "      <th></th>\n",
       "    </tr>\n",
       "  </thead>\n",
       "  <tbody>\n",
       "    <tr>\n",
       "      <th>Inf.</th>\n",
       "      <td>0.001667</td>\n",
       "      <td>0.193227</td>\n",
       "      <td>0.273333</td>\n",
       "      <td>0.329768</td>\n",
       "      <td>8.333333</td>\n",
       "      <td>3.265986</td>\n",
       "    </tr>\n",
       "    <tr>\n",
       "      <th>Social</th>\n",
       "      <td>-0.043333</td>\n",
       "      <td>0.163887</td>\n",
       "      <td>0.272778</td>\n",
       "      <td>0.213454</td>\n",
       "      <td>13.444444</td>\n",
       "      <td>4.973130</td>\n",
       "    </tr>\n",
       "    <tr>\n",
       "      <th>Tech.</th>\n",
       "      <td>-0.115000</td>\n",
       "      <td>0.035355</td>\n",
       "      <td>0.180000</td>\n",
       "      <td>0.000000</td>\n",
       "      <td>14.000000</td>\n",
       "      <td>4.242641</td>\n",
       "    </tr>\n",
       "  </tbody>\n",
       "</table>\n",
       "</div>"
      ],
      "text/plain": [
       "       degree assortativity           average clustering coefficient  \\\n",
       "                       mean       std                           mean   \n",
       "domain                                                                 \n",
       "Inf.               0.001667  0.193227                       0.273333   \n",
       "Social            -0.043333  0.163887                       0.272778   \n",
       "Tech.             -0.115000  0.035355                       0.180000   \n",
       "\n",
       "                   diameter            \n",
       "             std       mean       std  \n",
       "domain                                 \n",
       "Inf.    0.329768   8.333333  3.265986  \n",
       "Social  0.213454  13.444444  4.973130  \n",
       "Tech.   0.000000  14.000000  4.242641  "
      ]
     },
     "execution_count": 13,
     "metadata": {},
     "output_type": "execute_result"
    }
   ],
   "source": [
    "result.groupby(['domain'])[['density', 'degree assortativity', 'average clustering coefficient', 'diameter']].agg(['mean', 'std'])"
   ]
  },
  {
   "cell_type": "code",
   "execution_count": null,
   "id": "editorial-familiar",
   "metadata": {},
   "outputs": [],
   "source": []
  }
 ],
 "metadata": {
  "kernelspec": {
   "display_name": "Python 3",
   "language": "python",
   "name": "python3"
  },
  "language_info": {
   "codemirror_mode": {
    "name": "ipython",
    "version": 3
   },
   "file_extension": ".py",
   "mimetype": "text/x-python",
   "name": "python",
   "nbconvert_exporter": "python",
   "pygments_lexer": "ipython3",
   "version": "3.9.4"
  }
 },
 "nbformat": 4,
 "nbformat_minor": 5
}
