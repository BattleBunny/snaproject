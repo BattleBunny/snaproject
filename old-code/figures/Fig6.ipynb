{
 "cells": [
  {
   "cell_type": "code",
   "execution_count": 2,
   "id": "satellite-mailing",
   "metadata": {
    "execution": {
     "iopub.execute_input": "2021-03-16T11:55:59.911090Z",
     "iopub.status.busy": "2021-03-16T11:55:59.910825Z",
     "iopub.status.idle": "2021-03-16T11:55:59.917106Z",
     "shell.execute_reply": "2021-03-16T11:55:59.915951Z",
     "shell.execute_reply.started": "2021-03-16T11:55:59.911054Z"
    },
    "tags": []
   },
   "outputs": [
    {
     "name": "stdout",
     "output_type": "stream",
     "text": [
      "/scratch/bruingjde/SNAM2021-code\n"
     ]
    }
   ],
   "source": [
    "%cd /scratch/bruingjde/SNAM2021-code/\n",
    "\n",
    "from constants import *"
   ]
  },
  {
   "cell_type": "markdown",
   "id": "metric-commercial",
   "metadata": {},
   "source": [
    "# Time aware"
   ]
  },
  {
   "cell_type": "code",
   "execution_count": 7,
   "id": "positive-northern",
   "metadata": {
    "execution": {
     "iopub.execute_input": "2021-03-16T11:58:55.293192Z",
     "iopub.status.busy": "2021-03-16T11:58:55.292568Z",
     "iopub.status.idle": "2021-03-16T12:00:00.864602Z",
     "shell.execute_reply": "2021-03-16T12:00:00.863614Z",
     "shell.execute_reply.started": "2021-03-16T11:58:55.293143Z"
    },
    "tags": []
   },
   "outputs": [],
   "source": [
    "def logistic_regression_I_II_III_hypergraph(network: int):\n",
    "  X = dict()\n",
    "  # Type I features\n",
    "  for heuristic in ['aa', 'cn', 'jc', 'pa']:\n",
    "    X[heuristic] = (\n",
    "      np.load(f'data/{network:02}/features/time_agnostic/{heuristic}.npy'))\n",
    "    \n",
    "  # Type II features\n",
    "  for time_strategy in time_strategies:\n",
    "    for nodepair_strategy in nodepair_strategies:\n",
    "      for aggregation_strategy in ['q0', 'q25', 'q50', 'q75', 'q100', \n",
    "                                   'm0', 'm1', 'm2', 'm3']:\n",
    "        X[(time_strategy, nodepair_strategy, aggregation_strategy)] = (\n",
    "          np.load(\n",
    "            f'data/{network:02}/features/time_node/'\n",
    "            f'{time_strategy}_{nodepair_strategy}_{aggregation_strategy}.npy'))\n",
    "  # Type III features      \n",
    "  for heuristic in ['aa', 'cn', 'jc', 'pa']:  \n",
    "    for time_strategy in time_strategies:\n",
    "      for aggregation_strategy in ['q0', 'q25', 'q50', 'q75', 'q100', \n",
    "                                   'm0', 'm1']:\n",
    "          X[(heuristic, time_strategy, aggregation_strategy)] = (\n",
    "            np.load(\n",
    "              f'data/{network:02}/features/time_edge/'\n",
    "              f'{heuristic}_{time_strategy}_{aggregation_strategy}.npy'))\n",
    "    \n",
    "  X = pd.DataFrame(X)\n",
    "    \n",
    "  y = np.load(f'data/{network:02}/targets_sampled.npy')\n",
    "  \n",
    "  X_train, X_test, y_train, y_test = (\n",
    "    sklearn.model_selection.train_test_split(X, y))\n",
    "  pipe = sklearn.pipeline.make_pipeline(\n",
    "    sklearn.preprocessing.StandardScaler(),\n",
    "    sklearn.linear_model.LogisticRegression(max_iter=10000))\n",
    "  pipe.fit(X_train, y_train)\n",
    "  \n",
    "  auc = sklearn.metrics.roc_auc_score(\n",
    "    y_true=y_test, y_score=pipe.predict_proba(X_test)[:,1])\n",
    "  \n",
    "  return auc\n",
    "\n",
    "def logistic_regression_I_II_III_simplegraph(network: int):\n",
    "  X = dict()\n",
    "  # Type I\n",
    "  for heuristic in ['aa', 'cn', 'jc', 'pa']:\n",
    "    X[heuristic] = (\n",
    "      np.load(f'data/{network:02}/features/time_agnostic/{heuristic}.npy'))\n",
    "  # Type II \n",
    "  for time_strategy in time_strategies:\n",
    "    for nodepair_strategy in nodepair_strategies:\n",
    "        X[(time_strategy, nodepair_strategy)] = (\n",
    "          np.load(\n",
    "            f'data/{network:02}/features/time_node/'\n",
    "            f'{time_strategy}_{nodepair_strategy}.npy'))\n",
    "  # Type III\n",
    "  for heuristic in ['aa', 'cn', 'jc', 'pa']:  \n",
    "    for time_strategy in time_strategies:\n",
    "      X[(heuristic, time_strategy)] = (\n",
    "        np.load(\n",
    "          f'data/{network:02}/features/time_edge/'\n",
    "          f'{heuristic}_{time_strategy}.npy'))\n",
    "      \n",
    "  X = pd.DataFrame(X)\n",
    "    \n",
    "  y = np.load(f'data/{network:02}/targets_sampled.npy')\n",
    "  \n",
    "  X_train, X_test, y_train, y_test = (\n",
    "    sklearn.model_selection.train_test_split(X, y))\n",
    "  pipe = sklearn.pipeline.make_pipeline(\n",
    "    sklearn.preprocessing.StandardScaler(),\n",
    "    sklearn.linear_model.LogisticRegression(max_iter=10000))\n",
    "  pipe.fit(X_train, y_train)\n",
    "  \n",
    "  auc = sklearn.metrics.roc_auc_score(\n",
    "    y_true=y_test, y_score=pipe.predict_proba(X_test)[:,1])\n",
    "  \n",
    "  return auc\n",
    "\n",
    "IIa = {\n",
    "  network: logistic_regression_I_II_III_hypergraph(network) \n",
    "  for network in hypergraph_indices} | {\n",
    "  network: logistic_regression_I_II_III_simplegraph(network) \n",
    "  for network in simplegraph_indices\n",
    "}"
   ]
  },
  {
   "cell_type": "code",
   "execution_count": 13,
   "id": "alpine-equation",
   "metadata": {
    "execution": {
     "iopub.execute_input": "2021-03-16T13:03:12.391845Z",
     "iopub.status.busy": "2021-03-16T13:03:12.391498Z",
     "iopub.status.idle": "2021-03-16T13:03:12.400778Z",
     "shell.execute_reply": "2021-03-16T13:03:12.399609Z",
     "shell.execute_reply.started": "2021-03-16T13:03:12.391811Z"
    },
    "tags": []
   },
   "outputs": [
    {
     "data": {
      "text/plain": [
       "1            social\n",
       "2       information\n",
       "3            social\n",
       "4            social\n",
       "5            social\n",
       "6       information\n",
       "7            social\n",
       "8            social\n",
       "9            social\n",
       "10           social\n",
       "11      information\n",
       "12           social\n",
       "13      information\n",
       "14           social\n",
       "16           social\n",
       "18           social\n",
       "19           social\n",
       "20           social\n",
       "21      information\n",
       "22           social\n",
       "23           social\n",
       "24      information\n",
       "25           social\n",
       "28    technological\n",
       "29    technological\n",
       "30           social\n",
       "Name: category, dtype: object"
      ]
     },
     "execution_count": 13,
     "metadata": {},
     "output_type": "execute_result"
    }
   ],
   "source": []
  },
  {
   "cell_type": "code",
   "execution_count": 46,
   "id": "elegant-immunology",
   "metadata": {
    "execution": {
     "iopub.execute_input": "2021-03-16T13:20:44.088008Z",
     "iopub.status.busy": "2021-03-16T13:20:44.087512Z",
     "iopub.status.idle": "2021-03-16T13:20:44.098265Z",
     "shell.execute_reply": "2021-03-16T13:20:44.097556Z",
     "shell.execute_reply.started": "2021-03-16T13:20:44.087981Z"
    },
    "tags": []
   },
   "outputs": [],
   "source": [
    "xlabel = 'Without multi-edge aggregation (AUC)'\n",
    "ylabel = 'With multi-edge aggregation (AUC)'\n",
    "\n",
    "data = pd.DataFrame(\n",
    "  {\n",
    "    xlabel: pd.read_pickle('code/figures/IIb2.pkl'),\n",
    "    ylabel: IIa,\n",
    "    'Scientific domain': pd.Series(networks.copy()['category']).str.title()\n",
    "  }\n",
    ")\n",
    "data['Without multi-edge aggregation (AUC)'].fillna(\n",
    "  data['With multi-edge aggregation (AUC)'], inplace=True)\n",
    "data = data[[index in hypergraph_indices for index in data.index]]"
   ]
  },
  {
   "cell_type": "code",
   "execution_count": 50,
   "id": "capable-antique",
   "metadata": {
    "execution": {
     "iopub.execute_input": "2021-03-16T13:21:41.162677Z",
     "iopub.status.busy": "2021-03-16T13:21:41.162465Z",
     "iopub.status.idle": "2021-03-16T13:21:41.667111Z",
     "shell.execute_reply": "2021-03-16T13:21:41.666653Z",
     "shell.execute_reply.started": "2021-03-16T13:21:41.162660Z"
    },
    "tags": []
   },
   "outputs": [
    {
     "data": {
      "image/png": "[encoded data removed]",
      "text/plain": [
       "<Figure size 237.6x237.6 with 1 Axes>"
      ]
     },
     "metadata": {
      "needs_background": "light"
     },
     "output_type": "display_data"
    }
   ],
   "source": [
    "auc_values = data[[xlabel, ylabel]].values.flatten()\n",
    "lim = (.6, 1)\n",
    "\n",
    "fontsize=8\n",
    "rc = {\n",
    "  'xtick.top': True, 'ytick.right': True, 'figure.figsize': (3.3,3.3), \n",
    "  'axes.titlesize': fontsize, \n",
    "  'axes.labelsize': fontsize, \n",
    "  'xtick.labelsize': fontsize, \n",
    "  'ytick.labelsize': fontsize, \n",
    "  'legend.fontsize': fontsize, \n",
    "  'legend.title_fontsize': fontsize,\n",
    "  'lines.linewidth': 1,\n",
    "#   'lines.markersize': 4,\n",
    "  'legend.handlelength': .1,\n",
    "  'font.family': 'sans-serif',\n",
    "  'font.sans-serif': 'Helvetica',\n",
    "  'savefig.transparent': True\n",
    "}\n",
    "\n",
    "with plt.rc_context(rc):\n",
    "  ax = sns.scatterplot(data=data, x=xlabel, y=ylabel, hue='Scientific domain', \n",
    "                  style='Scientific domain')\n",
    "  sns.regplot(data=data, x=xlabel, y=ylabel, scatter=False, color='black', ax=ax)\n",
    "  ax.axline((0,0), (1,1), ls='--', c='grey')\n",
    "  ax.axis('scaled')\n",
    "  ax.axis([.7, 1, .7, 1])\n",
    "\n",
    "  ax.xaxis.set_minor_locator(matplotlib.ticker.MultipleLocator(.01))\n",
    "  ax.yaxis.set_minor_locator(matplotlib.ticker.MultipleLocator(.01))\n",
    "  ax.xaxis.set_major_locator(matplotlib.ticker.MultipleLocator(.1))\n",
    "  ax.yaxis.set_major_locator(matplotlib.ticker.MultipleLocator(.1))\n",
    "  plt.tight_layout()\n",
    "  ax.legend(title='Scientific domain', loc='lower right')\n",
    "  plt.savefig('code/figures/output/Fig6.pdf')"
   ]
  },
  {
   "cell_type": "code",
   "execution_count": null,
   "id": "worldwide-manual",
   "metadata": {},
   "outputs": [],
   "source": []
  }
 ],
 "metadata": {
  "kernelspec": {
   "display_name": "Python 3",
   "language": "python",
   "name": "python3"
  },
  "language_info": {
   "codemirror_mode": {
    "name": "ipython",
    "version": 3
   },
   "file_extension": ".py",
   "mimetype": "text/x-python",
   "name": "python",
   "nbconvert_exporter": "python",
   "pygments_lexer": "ipython3",
   "version": "3.9.2"
  }
 },
 "nbformat": 4,
 "nbformat_minor": 5
}
