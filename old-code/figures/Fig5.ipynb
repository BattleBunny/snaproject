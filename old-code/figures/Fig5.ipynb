{
 "cells": [
  {
   "cell_type": "code",
   "execution_count": 1,
   "id": "legal-regard",
   "metadata": {
    "execution": {
     "iopub.execute_input": "2021-03-19T07:17:24.713155Z",
     "iopub.status.busy": "2021-03-19T07:17:24.712956Z",
     "iopub.status.idle": "2021-03-19T07:17:25.528874Z",
     "shell.execute_reply": "2021-03-19T07:17:25.528104Z",
     "shell.execute_reply.started": "2021-03-19T07:17:24.713117Z"
    }
   },
   "outputs": [
    {
     "name": "stdout",
     "output_type": "stream",
     "text": [
      "/scratch/bruingjde/SNAM2021-code\n"
     ]
    }
   ],
   "source": [
    "%cd /scratch/bruingjde/SNAM2021-code/\n",
    "\n",
    "from constants import *"
   ]
  },
  {
   "cell_type": "markdown",
   "id": "upset-smoke",
   "metadata": {},
   "source": [
    "# Stats"
   ]
  },
  {
   "cell_type": "code",
   "execution_count": 2,
   "id": "another-religion",
   "metadata": {
    "execution": {
     "iopub.execute_input": "2021-03-19T07:17:25.530076Z",
     "iopub.status.busy": "2021-03-19T07:17:25.529932Z",
     "iopub.status.idle": "2021-03-19T07:17:25.553602Z",
     "shell.execute_reply": "2021-03-19T07:17:25.552999Z",
     "shell.execute_reply.started": "2021-03-19T07:17:25.530047Z"
    }
   },
   "outputs": [
    {
     "data": {
      "application/vnd.jupyter.widget-view+json": {
       "model_id": "eb91472755424b36b412bd9041e042d7",
       "version_major": 2,
       "version_minor": 0
      },
      "text/plain": [
       "  0%|          | 0/26 [00:00<?, ?it/s]"
      ]
     },
     "metadata": {},
     "output_type": "display_data"
    }
   ],
   "source": [
    "stats = get_all_stats()"
   ]
  },
  {
   "cell_type": "markdown",
   "id": "suburban-grounds",
   "metadata": {},
   "source": [
    "# Static features"
   ]
  },
  {
   "cell_type": "code",
   "execution_count": 3,
   "id": "pressed-thousand",
   "metadata": {
    "execution": {
     "iopub.execute_input": "2021-03-19T07:17:25.554742Z",
     "iopub.status.busy": "2021-03-19T07:17:25.554624Z",
     "iopub.status.idle": "2021-03-19T07:17:27.209964Z",
     "shell.execute_reply": "2021-03-19T07:17:27.209327Z",
     "shell.execute_reply.started": "2021-03-19T07:17:25.554727Z"
    }
   },
   "outputs": [
    {
     "data": {
      "text/plain": [
       "{1: 0.701038288405054,\n",
       " 2: 0.8115498527151639,\n",
       " 3: 0.8667299712817111,\n",
       " 4: 0.7606815137296716,\n",
       " 5: 0.6861169734049227,\n",
       " 6: 0.7600328083989502,\n",
       " 7: 0.7148056622568447,\n",
       " 8: 0.7631106796576336,\n",
       " 9: 0.8443335983016427,\n",
       " 10: 0.8909792030100523,\n",
       " 11: 0.9427676467862797,\n",
       " 12: 0.8443516861612663,\n",
       " 13: 0.7415584583896535,\n",
       " 14: 0.8635110293382334,\n",
       " 16: 0.8815584432624165,\n",
       " 18: 0.8675226835620683,\n",
       " 19: 0.9159359869521022,\n",
       " 20: 0.8303734520965977,\n",
       " 21: 0.6690734538630942,\n",
       " 22: 0.9430975590236094,\n",
       " 23: 0.9252427739033475,\n",
       " 24: 0.7844806879150623,\n",
       " 25: 0.8613226594962993,\n",
       " 28: 0.8789654206344673,\n",
       " 29: 0.9074327230216248,\n",
       " 30: 0.8374430335220626}"
      ]
     },
     "execution_count": 3,
     "metadata": {},
     "output_type": "execute_result"
    }
   ],
   "source": [
    "def logistic_regression_I(network_index: int):\n",
    "  X = dict()\n",
    "  for heuristic in ['aa', 'cn', 'jc', 'pa']:\n",
    "    X[heuristic] = np.load(\n",
    "      f'data/{network_index:02}/features/time_agnostic/{heuristic}.npy')\n",
    "  X = pd.DataFrame(X)\n",
    "    \n",
    "  y = np.load(f'data/{network_index:02}/targets_sampled.npy')\n",
    "  \n",
    "  X_train, X_test, y_train, y_test = (\n",
    "    sklearn.model_selection.train_test_split(X, y))\n",
    "  pipe = sklearn.pipeline.make_pipeline(\n",
    "    sklearn.preprocessing.StandardScaler(),\n",
    "    sklearn.linear_model.LogisticRegression(max_iter=10000)) # type: ignore\n",
    "  pipe.fit(X_train, y_train)\n",
    "  \n",
    "  auc = sklearn.metrics.roc_auc_score(\n",
    "    y_true=y_test, y_score=pipe.predict_proba(X_test)[:,1]) # type: ignore\n",
    "  \n",
    "  return auc\n",
    "\n",
    "auc_I = {\n",
    "  network_index: logistic_regression_I(network_index) \n",
    "  for network_index in network_indices}\n",
    "auc_I"
   ]
  },
  {
   "cell_type": "markdown",
   "id": "adjacent-proposition",
   "metadata": {},
   "source": [
    "# Node temporal and static features"
   ]
  },
  {
   "cell_type": "code",
   "execution_count": 4,
   "id": "twenty-burst",
   "metadata": {
    "execution": {
     "iopub.execute_input": "2021-03-19T07:17:27.211040Z",
     "iopub.status.busy": "2021-03-19T07:17:27.210921Z",
     "iopub.status.idle": "2021-03-19T07:17:51.457861Z",
     "shell.execute_reply": "2021-03-19T07:17:51.457102Z",
     "shell.execute_reply.started": "2021-03-19T07:17:27.211023Z"
    }
   },
   "outputs": [
    {
     "data": {
      "text/plain": [
       "{1: 0.7929597199075318,\n",
       " 2: 0.8600859200000001,\n",
       " 3: 0.9097585251078089,\n",
       " 4: 0.7928727269469074,\n",
       " 5: 0.7268699273173835,\n",
       " 6: 0.8226281859281559,\n",
       " 7: 0.8242336116901877,\n",
       " 8: 0.7765908254532072,\n",
       " 9: 0.8712414783695751,\n",
       " 10: 0.9248196318845645,\n",
       " 11: 0.9340561920349153,\n",
       " 12: 0.8997755098154648,\n",
       " 13: 0.8699197456038739,\n",
       " 14: 0.940026808291593,\n",
       " 16: 0.9385908827926599,\n",
       " 18: 0.9403920666332152,\n",
       " 19: 0.9406944150442138,\n",
       " 20: 0.9453372572749306,\n",
       " 21: 0.7238890873347379,\n",
       " 22: 0.9685010746415474,\n",
       " 23: 0.9649084995305452,\n",
       " 24: 0.9489816641777943,\n",
       " 25: 0.9304556483468231,\n",
       " 28: 0.8917447841790217,\n",
       " 29: 0.9242502045438581,\n",
       " 30: 0.8530766844105685}"
      ]
     },
     "execution_count": 4,
     "metadata": {},
     "output_type": "execute_result"
    }
   ],
   "source": [
    "def logistic_regression_I_II(network_index: int, hypergraph: bool):\n",
    "  X = dict()\n",
    "  for heuristic in ['aa', 'cn', 'jc', 'pa']:\n",
    "    X[heuristic] = (\n",
    "      np.load(\n",
    "        f'data/{network_index:02}/features/time_agnostic/{heuristic}.npy'))\n",
    "    \n",
    "  if hypergraph:\n",
    "    for time_strategy in time_strategies:\n",
    "      for nodepair_strategy in nodepair_strategies:\n",
    "        for aggregation_strategy in ['m0', 'm1', 'm2', 'm3', 'q0', 'q25', 'q50', 'q75', 'q100']:\n",
    "          X[(time_strategy, nodepair_strategy, aggregation_strategy)] = (\n",
    "            np.load(\n",
    "              f'data/{network_index:02}/features/time_node/'\n",
    "              f'{time_strategy}_{nodepair_strategy}_{aggregation_strategy}.npy'\n",
    "            ))\n",
    "  else:\n",
    "    for time_strategy in time_strategies:\n",
    "      for nodepair_strategy in nodepair_strategies:\n",
    "          X[(time_strategy, nodepair_strategy)] = (\n",
    "            np.load(\n",
    "              f'data/{network_index:02}/features/time_node/'\n",
    "              f'{time_strategy}_{nodepair_strategy}.npy'))\n",
    "    \n",
    "  X = pd.DataFrame(X)\n",
    "    \n",
    "  y = np.load(f'data/{network_index:02}/targets_sampled.npy')\n",
    "  \n",
    "  X_train, X_test, y_train, y_test = (\n",
    "    sklearn.model_selection.train_test_split(X, y))\n",
    "  pipe = sklearn.pipeline.make_pipeline(\n",
    "    sklearn.preprocessing.StandardScaler(),\n",
    "    sklearn.linear_model.LogisticRegression(max_iter=10000))\n",
    "  pipe.fit(X_train, y_train)\n",
    "  \n",
    "  auc = sklearn.metrics.roc_auc_score(\n",
    "    y_true=y_test, y_score=pipe.predict_proba(X_test)[:,1])\n",
    "  \n",
    "  return auc\n",
    "\n",
    "auc_I_II = {\n",
    "  network_index: (\n",
    "    logistic_regression_I_II(\n",
    "      network_index, hypergraph=network_index in hypergraph_indices\n",
    "    )\n",
    "  )\n",
    "  for network_index in network_indices\n",
    "}\n",
    "auc_I_II"
   ]
  },
  {
   "cell_type": "markdown",
   "id": "italian-leisure",
   "metadata": {},
   "source": [
    "# Edge temporal features"
   ]
  },
  {
   "cell_type": "code",
   "execution_count": 5,
   "id": "completed-administration",
   "metadata": {
    "execution": {
     "iopub.execute_input": "2021-03-19T07:17:51.458963Z",
     "iopub.status.busy": "2021-03-19T07:17:51.458838Z",
     "iopub.status.idle": "2021-03-19T07:18:04.280305Z",
     "shell.execute_reply": "2021-03-19T07:18:04.279527Z",
     "shell.execute_reply.started": "2021-03-19T07:17:51.458945Z"
    }
   },
   "outputs": [
    {
     "data": {
      "text/plain": [
       "{1: 0.8097927614057732,\n",
       " 2: 0.8506987124331633,\n",
       " 3: 0.8867352401688593,\n",
       " 4: 0.7896100010001,\n",
       " 5: 0.7446218247912504,\n",
       " 6: 0.8079584293394777,\n",
       " 7: 0.8361255561872083,\n",
       " 8: 0.7921263861996128,\n",
       " 9: 0.8406339950195524,\n",
       " 10: 0.9206057920175104,\n",
       " 11: 0.9408817633666381,\n",
       " 12: 0.8969768771252408,\n",
       " 13: 0.8012238448953795,\n",
       " 14: 0.9204238552587892,\n",
       " 16: 0.9296179138400005,\n",
       " 18: 0.9292889743404298,\n",
       " 19: 0.9304953488792559,\n",
       " 20: 0.9398274134059014,\n",
       " 21: 0.7166338986456952,\n",
       " 22: 0.9593543414085863,\n",
       " 23: 0.9519662946520011,\n",
       " 24: 0.8783429448138405,\n",
       " 25: 0.9003073784098466,\n",
       " 28: 0.895998875568226,\n",
       " 29: 0.9230041291259458,\n",
       " 30: 0.8489896766808576}"
      ]
     },
     "execution_count": 5,
     "metadata": {},
     "output_type": "execute_result"
    }
   ],
   "source": [
    "def logistic_regression_III(\n",
    "    network_index: int, hypergraph: bool):\n",
    "  aggregation_strategies = ['m0', 'm1', 'q0', 'q25', 'q50', 'q75', 'q100']\n",
    "  X = dict()\n",
    "  \n",
    "  for heuristic in ['aa', 'cn', 'jc', 'pa']:  \n",
    "    for time_strategy in time_strategies:\n",
    "      if hypergraph:\n",
    "        for aggregation_strategy in aggregation_strategies:\n",
    "            X[(heuristic, time_strategy, aggregation_strategy)] = np.load(\n",
    "                f'data/{network_index:02}/features/time_edge/'\n",
    "                f'{heuristic}_{time_strategy}_{aggregation_strategy}.npy')\n",
    "      else:\n",
    "        X[(heuristic, time_strategy)] = np.load(\n",
    "          f'data/{network_index:02}/features/time_edge/'\n",
    "          f'{heuristic}_{time_strategy}.npy')\n",
    "    \n",
    "  X = pd.DataFrame(X)\n",
    "    \n",
    "  y = np.load(f'data/{network_index:02}/targets_sampled.npy')\n",
    "  \n",
    "  X_train, X_test, y_train, y_test = (\n",
    "    sklearn.model_selection.train_test_split(X, y))\n",
    "  pipe = sklearn.pipeline.make_pipeline(\n",
    "    sklearn.preprocessing.StandardScaler(),\n",
    "    sklearn.linear_model.LogisticRegression(max_iter=10000))\n",
    "  pipe.fit(X_train, y_train)\n",
    "  \n",
    "  auc = sklearn.metrics.roc_auc_score(\n",
    "    y_true=y_test, y_score=pipe.predict_proba(X_test)[:,1])\n",
    "  \n",
    "  return auc\n",
    "\n",
    "auc_III = {\n",
    "  network_index: logistic_regression_III(\n",
    "    network_index, hypergraph=network_index in hypergraph_indices)\n",
    "  for network_index in network_indices}\n",
    "auc_III"
   ]
  },
  {
   "cell_type": "markdown",
   "id": "divided-surprise",
   "metadata": {},
   "source": [
    "# Figure"
   ]
  },
  {
   "cell_type": "code",
   "execution_count": 6,
   "id": "dominican-filling",
   "metadata": {
    "execution": {
     "iopub.execute_input": "2021-03-19T07:18:04.281325Z",
     "iopub.status.busy": "2021-03-19T07:18:04.281199Z",
     "iopub.status.idle": "2021-03-19T07:18:04.285374Z",
     "shell.execute_reply": "2021-03-19T07:18:04.284780Z",
     "shell.execute_reply.started": "2021-03-19T07:18:04.281308Z"
    }
   },
   "outputs": [
    {
     "data": {
      "text/plain": [
       "Index(['edges', 'density (nx.MultiGraph)', 'fraction edges in GC', 'nodes',\n",
       "       'avg events per pair', 'density', 'degree assortativity',\n",
       "       'average clustering coefficient', 'fraction nodes in GC',\n",
       "       'avg events per pair in GC'],\n",
       "      dtype='object')"
      ]
     },
     "execution_count": 6,
     "metadata": {},
     "output_type": "execute_result"
    }
   ],
   "source": [
    "stats.columns"
   ]
  },
  {
   "cell_type": "code",
   "execution_count": 7,
   "id": "alternate-federation",
   "metadata": {
    "execution": {
     "iopub.execute_input": "2021-03-19T07:18:04.286079Z",
     "iopub.status.busy": "2021-03-19T07:18:04.285960Z",
     "iopub.status.idle": "2021-03-19T07:18:04.398723Z",
     "shell.execute_reply": "2021-03-19T07:18:04.398019Z",
     "shell.execute_reply.started": "2021-03-19T07:18:04.286065Z"
    }
   },
   "outputs": [
    {
     "data": {
      "text/html": [
       "<div>\n",
       "<style scoped>\n",
       "    .dataframe tbody tr th:only-of-type {\n",
       "        vertical-align: middle;\n",
       "    }\n",
       "\n",
       "    .dataframe tbody tr th {\n",
       "        vertical-align: top;\n",
       "    }\n",
       "\n",
       "    .dataframe thead th {\n",
       "        text-align: right;\n",
       "    }\n",
       "</style>\n",
       "<table border=\"1\" class=\"dataframe\">\n",
       "  <thead>\n",
       "    <tr style=\"text-align: right;\">\n",
       "      <th></th>\n",
       "      <th>index</th>\n",
       "      <th>degree assortativity</th>\n",
       "      <th>experiment</th>\n",
       "      <th>auc</th>\n",
       "    </tr>\n",
       "  </thead>\n",
       "  <tbody>\n",
       "    <tr>\n",
       "      <th>0</th>\n",
       "      <td>1</td>\n",
       "      <td>0.114186</td>\n",
       "      <td>I</td>\n",
       "      <td>0.701038</td>\n",
       "    </tr>\n",
       "    <tr>\n",
       "      <th>1</th>\n",
       "      <td>2</td>\n",
       "      <td>0.059906</td>\n",
       "      <td>I</td>\n",
       "      <td>0.811550</td>\n",
       "    </tr>\n",
       "    <tr>\n",
       "      <th>2</th>\n",
       "      <td>3</td>\n",
       "      <td>-0.166689</td>\n",
       "      <td>I</td>\n",
       "      <td>0.866730</td>\n",
       "    </tr>\n",
       "    <tr>\n",
       "      <th>3</th>\n",
       "      <td>4</td>\n",
       "      <td>0.221522</td>\n",
       "      <td>I</td>\n",
       "      <td>0.760682</td>\n",
       "    </tr>\n",
       "    <tr>\n",
       "      <th>4</th>\n",
       "      <td>5</td>\n",
       "      <td>0.177355</td>\n",
       "      <td>I</td>\n",
       "      <td>0.686117</td>\n",
       "    </tr>\n",
       "    <tr>\n",
       "      <th>...</th>\n",
       "      <td>...</td>\n",
       "      <td>...</td>\n",
       "      <td>...</td>\n",
       "      <td>...</td>\n",
       "    </tr>\n",
       "    <tr>\n",
       "      <th>73</th>\n",
       "      <td>24</td>\n",
       "      <td>-0.078326</td>\n",
       "      <td>III</td>\n",
       "      <td>0.878343</td>\n",
       "    </tr>\n",
       "    <tr>\n",
       "      <th>74</th>\n",
       "      <td>25</td>\n",
       "      <td>-0.064984</td>\n",
       "      <td>III</td>\n",
       "      <td>0.900307</td>\n",
       "    </tr>\n",
       "    <tr>\n",
       "      <th>75</th>\n",
       "      <td>28</td>\n",
       "      <td>-0.087156</td>\n",
       "      <td>III</td>\n",
       "      <td>0.895999</td>\n",
       "    </tr>\n",
       "    <tr>\n",
       "      <th>76</th>\n",
       "      <td>29</td>\n",
       "      <td>-0.137222</td>\n",
       "      <td>III</td>\n",
       "      <td>0.923004</td>\n",
       "    </tr>\n",
       "    <tr>\n",
       "      <th>77</th>\n",
       "      <td>30</td>\n",
       "      <td>-0.025743</td>\n",
       "      <td>III</td>\n",
       "      <td>0.848990</td>\n",
       "    </tr>\n",
       "  </tbody>\n",
       "</table>\n",
       "<p>78 rows × 4 columns</p>\n",
       "</div>"
      ],
      "text/plain": [
       "    index  degree assortativity experiment       auc\n",
       "0       1              0.114186          I  0.701038\n",
       "1       2              0.059906          I  0.811550\n",
       "2       3             -0.166689          I  0.866730\n",
       "3       4              0.221522          I  0.760682\n",
       "4       5              0.177355          I  0.686117\n",
       "..    ...                   ...        ...       ...\n",
       "73     24             -0.078326        III  0.878343\n",
       "74     25             -0.064984        III  0.900307\n",
       "75     28             -0.087156        III  0.895999\n",
       "76     29             -0.137222        III  0.923004\n",
       "77     30             -0.025743        III  0.848990\n",
       "\n",
       "[78 rows x 4 columns]"
      ]
     },
     "execution_count": 7,
     "metadata": {},
     "output_type": "execute_result"
    }
   ],
   "source": [
    "df = pd.DataFrame({\n",
    "  'degree assortativity': stats['degree assortativity'],\n",
    "  'I': pd.Series(auc_I),\n",
    "  'I+II': pd.Series(auc_I_II),\n",
    "  'III': pd.Series(auc_III)\n",
    "})\n",
    "df.reset_index(inplace=True)\n",
    "df = df.melt(\n",
    "  id_vars=['index', 'degree assortativity'], \n",
    "  var_name='experiment', \n",
    "  value_name='auc')\n",
    "df"
   ]
  },
  {
   "cell_type": "code",
   "execution_count": 8,
   "id": "peaceful-composition",
   "metadata": {
    "execution": {
     "iopub.execute_input": "2021-03-19T07:18:04.399447Z",
     "iopub.status.busy": "2021-03-19T07:18:04.399335Z",
     "iopub.status.idle": "2021-03-19T07:18:28.968378Z",
     "shell.execute_reply": "2021-03-19T07:18:28.967892Z",
     "shell.execute_reply.started": "2021-03-19T07:18:04.399433Z"
    },
    "tags": []
   },
   "outputs": [
    {
     "data": {
      "image/png": "[encoded data removed]",
      "text/plain": [
       "<Figure size 288x288 with 1 Axes>"
      ]
     },
     "metadata": {
      "needs_background": "light"
     },
     "output_type": "display_data"
    }
   ],
   "source": [
    "markers = ['o', 'x', 's']\n",
    "with plt.rc_context(rc):\n",
    "  for (experiment, df_experiment), marker in zip(df.groupby('experiment'), markers):\n",
    "    sns.regplot(\n",
    "      data=df_experiment, x='degree assortativity', y='auc', label=experiment,\n",
    "      marker=marker)\n",
    "  plt.legend(title='Experiment')\n",
    "  plt.ylim(.5, 1)\n",
    "  plt.ylabel('Performance (AUC)')\n",
    "  plt.tight_layout()\n",
    "  plt.savefig('code/figures/output/degree-assortativity.pdf')"
   ]
  },
  {
   "cell_type": "code",
   "execution_count": 9,
   "id": "secure-foster",
   "metadata": {
    "execution": {
     "iopub.execute_input": "2021-03-19T07:18:28.969795Z",
     "iopub.status.busy": "2021-03-19T07:18:28.969667Z",
     "iopub.status.idle": "2021-03-19T07:18:28.973932Z",
     "shell.execute_reply": "2021-03-19T07:18:28.973555Z",
     "shell.execute_reply.started": "2021-03-19T07:18:28.969778Z"
    },
    "tags": []
   },
   "outputs": [],
   "source": [
    "df.replace({'experiment': {'time agnostic': 'Static topological', 'time aware': 'Temporal weighted topological'}}, inplace=True)\n",
    "df.rename(columns={'experiment': 'Feature set used', 'auc': 'AUC', 'degree assortativity': 'Degree assortativity'}, inplace=True)"
   ]
  },
  {
   "cell_type": "code",
   "execution_count": 10,
   "id": "entitled-milwaukee",
   "metadata": {
    "execution": {
     "iopub.execute_input": "2021-03-19T07:18:28.974696Z",
     "iopub.status.busy": "2021-03-19T07:18:28.974581Z",
     "iopub.status.idle": "2021-03-19T07:18:29.691427Z",
     "shell.execute_reply": "2021-03-19T07:18:29.691097Z",
     "shell.execute_reply.started": "2021-03-19T07:18:28.974682Z"
    },
    "tags": []
   },
   "outputs": [
    {
     "name": "stderr",
     "output_type": "stream",
     "text": [
      "findfont: Font family ['sans-serif'] not found. Falling back to DejaVu Sans.\n"
     ]
    },
    {
     "data": {
      "image/png": "[encoded data removed]",
      "text/plain": [
       "<Figure size 237.6x178.2 with 1 Axes>"
      ]
     },
     "metadata": {
      "needs_background": "light"
     },
     "output_type": "display_data"
    }
   ],
   "source": [
    "markers = ['o', 'x', 's']\n",
    "\n",
    "fontsize=8\n",
    "rc = {\n",
    "  'xtick.top': True, 'ytick.right': True, 'figure.figsize': (3.30,2.475), \n",
    "  'axes.titlesize': fontsize, \n",
    "  'axes.labelsize': fontsize, \n",
    "  'xtick.labelsize': fontsize, \n",
    "  'ytick.labelsize': fontsize, \n",
    "  'legend.fontsize': fontsize, \n",
    "  'legend.title_fontsize': fontsize,\n",
    "  'lines.linewidth': 1,\n",
    "#   'lines.markersize': 4,\n",
    "  'legend.handlelength': .1,\n",
    "  'font.family': 'sans-serif',\n",
    "  'font.sans-serif': 'Helvetica',\n",
    "  'savefig.transparent': True\n",
    "}\n",
    "\n",
    "with plt.rc_context(rc):\n",
    "  for (experiment, df_experiment), marker in zip(df.groupby('Feature set used'), markers):\n",
    "    ax = sns.regplot(\n",
    "      data=df_experiment, x='Degree assortativity', y='AUC', label=experiment,\n",
    "      marker=marker)\n",
    "  plt.legend(title='Feature set', loc='lower left')\n",
    "  ax.xaxis.set_minor_locator(matplotlib.ticker.MultipleLocator(.02))\n",
    "  ax.yaxis.set_minor_locator(matplotlib.ticker.MultipleLocator(.02))\n",
    "  ax.xaxis.set_major_locator(matplotlib.ticker.MultipleLocator(.1))\n",
    "  ax.yaxis.set_major_locator(matplotlib.ticker.MultipleLocator(.1))\n",
    "  ax.set_xlim(-.31, .35)\n",
    "  plt.ylim(.5, 1)\n",
    "  plt.ylabel('Performance (AUC)')\n",
    "  plt.tight_layout()\n",
    "  plt.savefig('code/figures/output/Fig5.pdf')"
   ]
  },
  {
   "cell_type": "code",
   "execution_count": 11,
   "id": "inside-wagon",
   "metadata": {
    "execution": {
     "iopub.execute_input": "2021-03-19T07:18:29.692121Z",
     "iopub.status.busy": "2021-03-19T07:18:29.692000Z",
     "iopub.status.idle": "2021-03-19T07:18:29.696533Z",
     "shell.execute_reply": "2021-03-19T07:18:29.696263Z",
     "shell.execute_reply.started": "2021-03-19T07:18:29.692106Z"
    },
    "tags": []
   },
   "outputs": [
    {
     "data": {
      "text/plain": [
       "min   -0.301404\n",
       "max    0.335905\n",
       "Name: Degree assortativity, dtype: float64"
      ]
     },
     "execution_count": 11,
     "metadata": {},
     "output_type": "execute_result"
    }
   ],
   "source": [
    "df_experiment['Degree assortativity'].agg(['min', 'max'])"
   ]
  },
  {
   "cell_type": "code",
   "execution_count": 12,
   "id": "circular-breeding",
   "metadata": {
    "execution": {
     "iopub.execute_input": "2021-03-19T07:18:29.697288Z",
     "iopub.status.busy": "2021-03-19T07:18:29.696962Z",
     "iopub.status.idle": "2021-03-19T07:18:29.777468Z",
     "shell.execute_reply": "2021-03-19T07:18:29.776956Z",
     "shell.execute_reply.started": "2021-03-19T07:18:29.697273Z"
    },
    "tags": []
   },
   "outputs": [],
   "source": [
    "from scipy.stats.stats import pearsonr"
   ]
  },
  {
   "cell_type": "code",
   "execution_count": 14,
   "id": "dependent-curtis",
   "metadata": {
    "execution": {
     "iopub.execute_input": "2021-03-19T07:18:43.625265Z",
     "iopub.status.busy": "2021-03-19T07:18:43.624958Z",
     "iopub.status.idle": "2021-03-19T07:18:43.630717Z",
     "shell.execute_reply": "2021-03-19T07:18:43.629964Z",
     "shell.execute_reply.started": "2021-03-19T07:18:43.625231Z"
    }
   },
   "outputs": [
    {
     "data": {
      "text/plain": [
       "Index(['index', 'Degree assortativity', 'Feature set used', 'AUC'], dtype='object')"
      ]
     },
     "execution_count": 14,
     "metadata": {},
     "output_type": "execute_result"
    }
   ],
   "source": [
    "df.columns"
   ]
  },
  {
   "cell_type": "code",
   "execution_count": 13,
   "id": "associate-cross",
   "metadata": {
    "execution": {
     "iopub.execute_input": "2021-03-19T07:18:29.778084Z",
     "iopub.status.busy": "2021-03-19T07:18:29.777966Z",
     "iopub.status.idle": "2021-03-19T07:18:30.218406Z",
     "shell.execute_reply": "2021-03-19T07:18:30.217679Z",
     "shell.execute_reply.started": "2021-03-19T07:18:29.778056Z"
    },
    "tags": []
   },
   "outputs": [
    {
     "ename": "KeyError",
     "evalue": "'experiment'",
     "output_type": "error",
     "traceback": [
      "\u001b[0;31m---------------------------------------------------------------------------\u001b[0m",
      "\u001b[0;31mKeyError\u001b[0m                                  Traceback (most recent call last)",
      "\u001b[0;32m/scratch/bruingjde/miniconda3/envs/tlp/lib/python3.9/site-packages/pandas/core/indexes/base.py\u001b[0m in \u001b[0;36mget_loc\u001b[0;34m(self, key, method, tolerance)\u001b[0m\n\u001b[1;32m   3079\u001b[0m             \u001b[0;32mtry\u001b[0m\u001b[0;34m:\u001b[0m\u001b[0;34m\u001b[0m\u001b[0;34m\u001b[0m\u001b[0m\n\u001b[0;32m-> 3080\u001b[0;31m                 \u001b[0;32mreturn\u001b[0m \u001b[0mself\u001b[0m\u001b[0;34m.\u001b[0m\u001b[0m_engine\u001b[0m\u001b[0;34m.\u001b[0m\u001b[0mget_loc\u001b[0m\u001b[0;34m(\u001b[0m\u001b[0mcasted_key\u001b[0m\u001b[0;34m)\u001b[0m\u001b[0;34m\u001b[0m\u001b[0;34m\u001b[0m\u001b[0m\n\u001b[0m\u001b[1;32m   3081\u001b[0m             \u001b[0;32mexcept\u001b[0m \u001b[0mKeyError\u001b[0m \u001b[0;32mas\u001b[0m \u001b[0merr\u001b[0m\u001b[0;34m:\u001b[0m\u001b[0;34m\u001b[0m\u001b[0;34m\u001b[0m\u001b[0m\n",
      "\u001b[0;32mpandas/_libs/index.pyx\u001b[0m in \u001b[0;36mpandas._libs.index.IndexEngine.get_loc\u001b[0;34m()\u001b[0m\n",
      "\u001b[0;32mpandas/_libs/index.pyx\u001b[0m in \u001b[0;36mpandas._libs.index.IndexEngine.get_loc\u001b[0;34m()\u001b[0m\n",
      "\u001b[0;32mpandas/_libs/hashtable_class_helper.pxi\u001b[0m in \u001b[0;36mpandas._libs.hashtable.PyObjectHashTable.get_item\u001b[0;34m()\u001b[0m\n",
      "\u001b[0;32mpandas/_libs/hashtable_class_helper.pxi\u001b[0m in \u001b[0;36mpandas._libs.hashtable.PyObjectHashTable.get_item\u001b[0;34m()\u001b[0m\n",
      "\u001b[0;31mKeyError\u001b[0m: 'experiment'",
      "\nThe above exception was the direct cause of the following exception:\n",
      "\u001b[0;31mKeyError\u001b[0m                                  Traceback (most recent call last)",
      "\u001b[0;32m<ipython-input-13-6a9cfc0c556f>\u001b[0m in \u001b[0;36m<module>\u001b[0;34m\u001b[0m\n\u001b[0;32m----> 1\u001b[0;31m \u001b[0mt\u001b[0m \u001b[0;34m=\u001b[0m \u001b[0mdf\u001b[0m\u001b[0;34m[\u001b[0m\u001b[0mdf\u001b[0m\u001b[0;34m[\u001b[0m\u001b[0;34m'experiment'\u001b[0m\u001b[0;34m]\u001b[0m \u001b[0;34m==\u001b[0m \u001b[0;34m'time agnostic'\u001b[0m\u001b[0;34m]\u001b[0m\u001b[0;34m\u001b[0m\u001b[0;34m\u001b[0m\u001b[0m\n\u001b[0m\u001b[1;32m      2\u001b[0m \u001b[0mpearsonr\u001b[0m\u001b[0;34m(\u001b[0m\u001b[0mt\u001b[0m\u001b[0;34m[\u001b[0m\u001b[0;34m'degree assortativity'\u001b[0m\u001b[0;34m]\u001b[0m\u001b[0;34m,\u001b[0m \u001b[0mt\u001b[0m\u001b[0;34m[\u001b[0m\u001b[0;34m'auc'\u001b[0m\u001b[0;34m]\u001b[0m\u001b[0;34m)\u001b[0m\u001b[0;34m\u001b[0m\u001b[0;34m\u001b[0m\u001b[0m\n",
      "\u001b[0;32m/scratch/bruingjde/miniconda3/envs/tlp/lib/python3.9/site-packages/pandas/core/frame.py\u001b[0m in \u001b[0;36m__getitem__\u001b[0;34m(self, key)\u001b[0m\n\u001b[1;32m   3022\u001b[0m             \u001b[0;32mif\u001b[0m \u001b[0mself\u001b[0m\u001b[0;34m.\u001b[0m\u001b[0mcolumns\u001b[0m\u001b[0;34m.\u001b[0m\u001b[0mnlevels\u001b[0m \u001b[0;34m>\u001b[0m \u001b[0;36m1\u001b[0m\u001b[0;34m:\u001b[0m\u001b[0;34m\u001b[0m\u001b[0;34m\u001b[0m\u001b[0m\n\u001b[1;32m   3023\u001b[0m                 \u001b[0;32mreturn\u001b[0m \u001b[0mself\u001b[0m\u001b[0;34m.\u001b[0m\u001b[0m_getitem_multilevel\u001b[0m\u001b[0;34m(\u001b[0m\u001b[0mkey\u001b[0m\u001b[0;34m)\u001b[0m\u001b[0;34m\u001b[0m\u001b[0;34m\u001b[0m\u001b[0m\n\u001b[0;32m-> 3024\u001b[0;31m             \u001b[0mindexer\u001b[0m \u001b[0;34m=\u001b[0m \u001b[0mself\u001b[0m\u001b[0;34m.\u001b[0m\u001b[0mcolumns\u001b[0m\u001b[0;34m.\u001b[0m\u001b[0mget_loc\u001b[0m\u001b[0;34m(\u001b[0m\u001b[0mkey\u001b[0m\u001b[0;34m)\u001b[0m\u001b[0;34m\u001b[0m\u001b[0;34m\u001b[0m\u001b[0m\n\u001b[0m\u001b[1;32m   3025\u001b[0m             \u001b[0;32mif\u001b[0m \u001b[0mis_integer\u001b[0m\u001b[0;34m(\u001b[0m\u001b[0mindexer\u001b[0m\u001b[0;34m)\u001b[0m\u001b[0;34m:\u001b[0m\u001b[0;34m\u001b[0m\u001b[0;34m\u001b[0m\u001b[0m\n\u001b[1;32m   3026\u001b[0m                 \u001b[0mindexer\u001b[0m \u001b[0;34m=\u001b[0m \u001b[0;34m[\u001b[0m\u001b[0mindexer\u001b[0m\u001b[0;34m]\u001b[0m\u001b[0;34m\u001b[0m\u001b[0;34m\u001b[0m\u001b[0m\n",
      "\u001b[0;32m/scratch/bruingjde/miniconda3/envs/tlp/lib/python3.9/site-packages/pandas/core/indexes/base.py\u001b[0m in \u001b[0;36mget_loc\u001b[0;34m(self, key, method, tolerance)\u001b[0m\n\u001b[1;32m   3080\u001b[0m                 \u001b[0;32mreturn\u001b[0m \u001b[0mself\u001b[0m\u001b[0;34m.\u001b[0m\u001b[0m_engine\u001b[0m\u001b[0;34m.\u001b[0m\u001b[0mget_loc\u001b[0m\u001b[0;34m(\u001b[0m\u001b[0mcasted_key\u001b[0m\u001b[0;34m)\u001b[0m\u001b[0;34m\u001b[0m\u001b[0;34m\u001b[0m\u001b[0m\n\u001b[1;32m   3081\u001b[0m             \u001b[0;32mexcept\u001b[0m \u001b[0mKeyError\u001b[0m \u001b[0;32mas\u001b[0m \u001b[0merr\u001b[0m\u001b[0;34m:\u001b[0m\u001b[0;34m\u001b[0m\u001b[0;34m\u001b[0m\u001b[0m\n\u001b[0;32m-> 3082\u001b[0;31m                 \u001b[0;32mraise\u001b[0m \u001b[0mKeyError\u001b[0m\u001b[0;34m(\u001b[0m\u001b[0mkey\u001b[0m\u001b[0;34m)\u001b[0m \u001b[0;32mfrom\u001b[0m \u001b[0merr\u001b[0m\u001b[0;34m\u001b[0m\u001b[0;34m\u001b[0m\u001b[0m\n\u001b[0m\u001b[1;32m   3083\u001b[0m \u001b[0;34m\u001b[0m\u001b[0m\n\u001b[1;32m   3084\u001b[0m         \u001b[0;32mif\u001b[0m \u001b[0mtolerance\u001b[0m \u001b[0;32mis\u001b[0m \u001b[0;32mnot\u001b[0m \u001b[0;32mNone\u001b[0m\u001b[0;34m:\u001b[0m\u001b[0;34m\u001b[0m\u001b[0;34m\u001b[0m\u001b[0m\n",
      "\u001b[0;31mKeyError\u001b[0m: 'experiment'"
     ]
    }
   ],
   "source": [
    "t = df[df['experiment'] == 'time agnostic']\n",
    "pearsonr(t['degree assortativity'], t['auc'])"
   ]
  },
  {
   "cell_type": "code",
   "execution_count": null,
   "id": "crude-kelly",
   "metadata": {
    "execution": {
     "iopub.status.busy": "2021-03-19T07:18:30.218845Z",
     "iopub.status.idle": "2021-03-19T07:18:30.219006Z",
     "shell.execute_reply": "2021-03-19T07:18:30.218929Z"
    }
   },
   "outputs": [],
   "source": [
    "t = df[df['experiment'] == 'time aware']\n",
    "pearsonr(t['degree assortativity'], t['auc'])"
   ]
  },
  {
   "cell_type": "code",
   "execution_count": null,
   "id": "engaging-share",
   "metadata": {},
   "outputs": [],
   "source": []
  }
 ],
 "metadata": {
  "kernelspec": {
   "display_name": "Python 3",
   "language": "python",
   "name": "python3"
  },
  "language_info": {
   "codemirror_mode": {
    "name": "ipython",
    "version": 3
   },
   "file_extension": ".py",
   "mimetype": "text/x-python",
   "name": "python",
   "nbconvert_exporter": "python",
   "pygments_lexer": "ipython3",
   "version": "3.9.4"
  }
 },
 "nbformat": 4,
 "nbformat_minor": 5
}
