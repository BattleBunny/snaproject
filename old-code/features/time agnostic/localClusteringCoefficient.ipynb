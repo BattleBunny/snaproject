{
 "cells": [
  {
   "cell_type": "code",
   "execution_count": 1,
   "id": "fantastic-export",
   "metadata": {
    "execution": {
     "iopub.execute_input": "2021-02-27T19:52:10.702344Z",
     "iopub.status.busy": "2021-02-27T19:52:10.702004Z",
     "iopub.status.idle": "2021-02-27T19:52:11.627323Z",
     "shell.execute_reply": "2021-02-27T19:52:11.626406Z",
     "shell.execute_reply.started": "2021-02-27T19:52:10.702254Z"
    }
   },
   "outputs": [
    {
     "name": "stdout",
     "output_type": "stream",
     "text": [
      "/scratch/bruingjde/SNAM2021-code\n"
     ]
    }
   ],
   "source": [
    "%cd /scratch/bruingjde/SNAM2021-code/\n",
    "\n",
    "import os\n",
    "import typing\n",
    "\n",
    "import joblib\n",
    "import matplotlib.pyplot as plt\n",
    "import networkx as nx\n",
    "import numpy as np\n",
    "import pandas as pd\n",
    "import scipy\n",
    "import seaborn as sns\n",
    "import sklearn.linear_model\n",
    "import sklearn.model_selection\n",
    "import sklearn.metrics\n",
    "import sklearn.pipeline\n",
    "import sklearn.preprocessing\n",
    "from tqdm.auto import tqdm\n",
    "\n",
    "import tlp"
   ]
  },
  {
   "cell_type": "code",
   "execution_count": 5,
   "id": "concrete-press",
   "metadata": {
    "execution": {
     "iopub.execute_input": "2021-02-27T20:29:16.951289Z",
     "iopub.status.busy": "2021-02-27T20:29:16.950365Z",
     "iopub.status.idle": "2021-02-27T20:29:16.959969Z",
     "shell.execute_reply": "2021-02-27T20:29:16.959187Z",
     "shell.execute_reply.started": "2021-02-27T20:29:16.951210Z"
    }
   },
   "outputs": [],
   "source": [
    "# Check\n",
    "for entry in os.scandir('data'):\n",
    "  if not os.path.isfile(os.path.join(entry, 'features', 'LLC.pkl')): print(entry)"
   ]
  },
  {
   "cell_type": "code",
   "execution_count": 2,
   "id": "fossil-valuation",
   "metadata": {
    "execution": {
     "iopub.execute_input": "2021-02-27T19:55:48.494543Z",
     "iopub.status.busy": "2021-02-27T19:55:48.494183Z",
     "iopub.status.idle": "2021-02-27T19:55:48.506497Z",
     "shell.execute_reply": "2021-02-27T19:55:48.505547Z",
     "shell.execute_reply.started": "2021-02-27T19:55:48.494508Z"
    }
   },
   "outputs": [],
   "source": [
    "def lcc(path: str, verbose: bool = False, feature_name='LLC'):\n",
    "  # Check if file exists\n",
    "  feature_path = os.path.join(path, 'features')\n",
    "  file = os.path.join(feature_path, f'{feature_name}.pkl')\n",
    "  if os.path.isfile(file): return \n",
    "  \n",
    "  os.makedirs(feature_path, exist_ok=True)\n",
    "\n",
    "  # Read in\n",
    "  edgelist_mature_file = os.path.join(path, 'edgelist_mature.pkl')\n",
    "  if verbose: print(f'Read {edgelist_mature_file}')\n",
    "  edgelist_mature = pd.read_pickle(edgelist_mature_file)\n",
    "  \n",
    "  instances_file = os.path.join(path, 'instances_sampled.npy')\n",
    "  if verbose: print(f'Read {instances_file}')  \n",
    "  instances_sampled = np.load(instances_file)\n",
    "\n",
    "  # Get all unique nodes in instances\n",
    "  nodes = {node for instance in instances_sampled for node in instance}\n",
    "  \n",
    "  # Get graph\n",
    "  G = nx.from_pandas_edgelist(edgelist_mature)\n",
    "  \n",
    "  # Calculate per node\n",
    "  value_per_node = nx.clustering(G, nodes=nodes)\n",
    "  \n",
    "  value_per_instance = [(value_per_node[u], value_per_node[v]) for u, v in instances_sampled]\n",
    "  \n",
    "  def diff(x): return abs(x[1]-x[0]) \n",
    "  \n",
    "  results = {\n",
    "    tlp.Experiment(feature=feature_name, time_aware=False, nodepair_strategy=strategy_str): (\n",
    "      np.array([strategy_func(instance) for instance in value_per_instance])) \n",
    "    for strategy_str, strategy_func in {'sum': sum, 'diff': diff, 'max': max, 'min': min}.items()\n",
    "  }\n",
    "  \n",
    "  joblib.dump(results, os.path.join(feature_path, f'{feature_name}.pkl'))"
   ]
  },
  {
   "cell_type": "code",
   "execution_count": 3,
   "id": "successful-independence",
   "metadata": {
    "execution": {
     "iopub.execute_input": "2021-02-27T19:56:03.876039Z",
     "iopub.status.busy": "2021-02-27T19:56:03.875720Z",
     "iopub.status.idle": "2021-02-27T19:56:04.020568Z",
     "shell.execute_reply": "2021-02-27T19:56:04.019642Z",
     "shell.execute_reply.started": "2021-02-27T19:56:03.876004Z"
    }
   },
   "outputs": [
    {
     "name": "stdout",
     "output_type": "stream",
     "text": [
      "Read data/13/edgelist_mature.pkl\n",
      "Read data/13/instances_sampled.npy\n"
     ]
    }
   ],
   "source": [
    "lcc('data/13', verbose=True)"
   ]
  },
  {
   "cell_type": "code",
   "execution_count": 4,
   "id": "facial-annotation",
   "metadata": {
    "execution": {
     "iopub.execute_input": "2021-02-27T19:56:15.716633Z",
     "iopub.status.busy": "2021-02-27T19:56:15.716276Z",
     "iopub.status.idle": "2021-02-27T20:15:51.035314Z",
     "shell.execute_reply": "2021-02-27T20:15:51.034547Z",
     "shell.execute_reply.started": "2021-02-27T19:56:15.716599Z"
    }
   },
   "outputs": [
    {
     "data": {
      "application/vnd.jupyter.widget-view+json": {
       "model_id": "",
       "version_major": 2,
       "version_minor": 0
      },
      "text/plain": [
       "  0%|          | 0/30 [00:00<?, ?it/s]"
      ]
     },
     "metadata": {},
     "output_type": "display_data"
    },
    {
     "data": {
      "text/plain": [
       "[None,\n",
       " None,\n",
       " None,\n",
       " None,\n",
       " None,\n",
       " None,\n",
       " None,\n",
       " None,\n",
       " None,\n",
       " None,\n",
       " None,\n",
       " None,\n",
       " None,\n",
       " None,\n",
       " None,\n",
       " None,\n",
       " None,\n",
       " None,\n",
       " None,\n",
       " None,\n",
       " None,\n",
       " None,\n",
       " None,\n",
       " None,\n",
       " None,\n",
       " None,\n",
       " None,\n",
       " None,\n",
       " None,\n",
       " None]"
      ]
     },
     "execution_count": 4,
     "metadata": {},
     "output_type": "execute_result"
    }
   ],
   "source": [
    "entries = sorted(os.scandir('data'), key=lambda x: x.name)\n",
    "tlp.ProgressParallel(n_jobs=len(entries), total=len(entries))(\n",
    "  joblib.delayed(lcc)(entry.path) for entry in entries\n",
    ")"
   ]
  },
  {
   "cell_type": "code",
   "execution_count": null,
   "id": "associate-wonder",
   "metadata": {},
   "outputs": [],
   "source": []
  }
 ],
 "metadata": {
  "kernelspec": {
   "display_name": "Python 3",
   "language": "python",
   "name": "python3"
  },
  "language_info": {
   "codemirror_mode": {
    "name": "ipython",
    "version": 3
   },
   "file_extension": ".py",
   "mimetype": "text/x-python",
   "name": "python",
   "nbconvert_exporter": "python",
   "pygments_lexer": "ipython3",
   "version": "3.9.1"
  }
 },
 "nbformat": 4,
 "nbformat_minor": 5
}
