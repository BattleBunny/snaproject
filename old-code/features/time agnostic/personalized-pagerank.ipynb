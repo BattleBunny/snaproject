{
 "cells": [
  {
   "cell_type": "code",
   "execution_count": 1,
   "id": "known-modern",
   "metadata": {
    "execution": {
     "iopub.execute_input": "2021-02-27T16:31:01.974015Z",
     "iopub.status.busy": "2021-02-27T16:31:01.973750Z",
     "iopub.status.idle": "2021-02-27T16:31:03.007007Z",
     "shell.execute_reply": "2021-02-27T16:31:03.006294Z",
     "shell.execute_reply.started": "2021-02-27T16:31:01.973936Z"
    }
   },
   "outputs": [
    {
     "name": "stdout",
     "output_type": "stream",
     "text": [
      "/scratch/bruingjde/SNAM2021-code\n"
     ]
    }
   ],
   "source": [
    "%cd /scratch/bruingjde/SNAM2021-code/\n",
    "\n",
    "import os\n",
    "import typing\n",
    "\n",
    "import joblib\n",
    "import matplotlib.pyplot as plt\n",
    "import networkx as nx\n",
    "import numpy as np\n",
    "import pandas as pd\n",
    "import scipy\n",
    "import seaborn as sns\n",
    "import sklearn.linear_model\n",
    "import sklearn.model_selection\n",
    "import sklearn.metrics\n",
    "import sklearn.pipeline\n",
    "import sklearn.preprocessing\n",
    "from tqdm.auto import tqdm\n",
    "\n",
    "import tlp\n",
    "\n",
    "# LIKELY TOO SLOW!"
   ]
  },
  {
   "cell_type": "code",
   "execution_count": 16,
   "id": "detected-civilization",
   "metadata": {
    "execution": {
     "iopub.execute_input": "2021-02-28T05:58:32.603756Z",
     "iopub.status.busy": "2021-02-28T05:58:32.603494Z",
     "iopub.status.idle": "2021-02-28T05:58:32.612879Z",
     "shell.execute_reply": "2021-02-28T05:58:32.612056Z",
     "shell.execute_reply.started": "2021-02-28T05:58:32.603733Z"
    }
   },
   "outputs": [
    {
     "name": "stdout",
     "output_type": "stream",
     "text": [
      "<DirEntry '25'>\n",
      "<DirEntry '23'>\n",
      "<DirEntry '07'>\n",
      "<DirEntry '04'>\n",
      "<DirEntry '10'>\n",
      "<DirEntry '24'>\n",
      "<DirEntry '08'>\n",
      "<DirEntry '22'>\n",
      "<DirEntry '15'>\n",
      "<DirEntry '30'>\n",
      "<DirEntry '21'>\n",
      "<DirEntry '11'>\n",
      "<DirEntry '28'>\n",
      "<DirEntry '29'>\n",
      "<DirEntry '01'>\n",
      "<DirEntry '17'>\n",
      "<DirEntry '18'>\n",
      "<DirEntry '20'>\n",
      "<DirEntry '03'>\n",
      "<DirEntry '26'>\n",
      "<DirEntry '05'>\n",
      "<DirEntry '14'>\n",
      "<DirEntry '06'>\n",
      "<DirEntry '27'>\n",
      "<DirEntry '02'>\n",
      "<DirEntry '09'>\n",
      "<DirEntry '16'>\n"
     ]
    }
   ],
   "source": [
    "# Check\n",
    "ok = True\n",
    "for entry in os.scandir('data'):\n",
    "  if not os.path.isfile(os.path.join(entry, 'features', 'PPR.pkl')):\n",
    "    ok = False\n",
    "    print(entry)\n",
    "if ok: print('Ok!')"
   ]
  },
  {
   "cell_type": "code",
   "execution_count": 23,
   "id": "checked-alert",
   "metadata": {
    "execution": {
     "iopub.execute_input": "2021-02-28T06:15:54.187084Z",
     "iopub.status.busy": "2021-02-28T06:15:54.186606Z",
     "iopub.status.idle": "2021-02-28T06:15:54.203658Z",
     "shell.execute_reply": "2021-02-28T06:15:54.203231Z",
     "shell.execute_reply.started": "2021-02-28T06:15:54.187042Z"
    }
   },
   "outputs": [],
   "source": [
    "def ppr(path: str, verbose: bool = False, feature_name='PPR'):\n",
    "  # Check if file exists\n",
    "  feature_path = os.path.join(path, 'features')\n",
    "  file = os.path.join(feature_path, f'{feature_name}.pkl')\n",
    "  if os.path.isfile(file): return \n",
    "  \n",
    "  os.makedirs(feature_path, exist_ok=True)\n",
    "\n",
    "  # Read in\n",
    "  edgelist_mature_file = os.path.join(path, 'edgelist_mature.pkl')\n",
    "  if verbose: print(f'Read {edgelist_mature_file}')\n",
    "  edgelist_mature = pd.read_pickle(edgelist_mature_file)\n",
    "  \n",
    "  instances_file = os.path.join(path, 'instances_sampled.npy')\n",
    "  if verbose: print(f'Read {instances_file}')  \n",
    "  instances_sampled = np.load(instances_file)\n",
    "\n",
    "  G = nx.from_pandas_edgelist(edgelist_mature, create_using=nx.MultiGraph)\n",
    "  \n",
    "  # Get all unique nodes in instances\n",
    "  nodes_sampled = {node for instance in instances_sampled for node in instance}\n",
    "  \n",
    "  # Calculate personalized pagerank for each node\n",
    "  # Source dealing with tol: https://github.com/Aghasemian/OptimalLinkPrediction/blob/master/Code/OLP.py\n",
    "  tol = 1e-6\n",
    "  while True:\n",
    "    try:\n",
    "      value_per_node = {node: nx.pagerank_scipy(G, personalization=dict(node=1), max_iter=10000, tol=tol) for node in tqdm(nodes_sampled, disable=not verbose)}\n",
    "      break # Not run when exception in line above.\n",
    "    except nx.PowerIterationFailedConvergence:\n",
    "      tol*=10\n",
    "  \n",
    "  value_per_instance = [(value_per_node[u][v], value_per_node[v][u]) for u, v in tqdm(instances_sampled, disable=not verbose)]\n",
    "  \n",
    "  def diff(x): return abs(x[1]-x[0]) \n",
    "  \n",
    "  results = {\n",
    "    tlp.Experiment(feature=feature_name, time_aware=False, nodepair_strategy=strategy_str): (\n",
    "      np.array([strategy_func(instance) for instance in value_per_instance])) \n",
    "    for strategy_str, strategy_func in {'sum': sum, 'diff': diff, 'max': max, 'min': min}.items()\n",
    "  }\n",
    "  \n",
    "  joblib.dump(results, os.path.join(feature_path, f'{feature_name}.pkl'))"
   ]
  },
  {
   "cell_type": "code",
   "execution_count": 20,
   "id": "legal-humidity",
   "metadata": {
    "collapsed": true,
    "execution": {
     "iopub.execute_input": "2021-02-28T06:03:42.484120Z",
     "iopub.status.busy": "2021-02-28T06:03:42.483777Z",
     "iopub.status.idle": "2021-02-28T06:06:28.084293Z",
     "shell.execute_reply": "2021-02-28T06:06:28.083491Z",
     "shell.execute_reply.started": "2021-02-28T06:03:42.484082Z"
    },
    "jupyter": {
     "outputs_hidden": true
    }
   },
   "outputs": [
    {
     "data": {
      "application/vnd.jupyter.widget-view+json": {
       "model_id": "0a9b9e3b62c7429fad2ca500f3b0af97",
       "version_major": 2,
       "version_minor": 0
      },
      "text/plain": [
       "  0%|          | 0/30 [00:00<?, ?it/s]"
      ]
     },
     "metadata": {},
     "output_type": "display_data"
    },
    {
     "name": "stdout",
     "output_type": "stream",
     "text": [
      "Read data/01/edgelist_mature.pkl\n",
      "Read data/01/instances_sampled.npy\n"
     ]
    },
    {
     "data": {
      "application/vnd.jupyter.widget-view+json": {
       "model_id": "0dfb3270aa19432d92d21f2ef07a5f2f",
       "version_major": 2,
       "version_minor": 0
      },
      "text/plain": [
       "  0%|          | 0/30236 [00:00<?, ?it/s]"
      ]
     },
     "metadata": {},
     "output_type": "display_data"
    },
    {
     "name": "stderr",
     "output_type": "stream",
     "text": [
      "/scratch/bruingjde/miniconda3/envs/tlp/lib/python3.9/site-packages/networkx/algorithms/link_analysis/pagerank_alg.py:456: RuntimeWarning: invalid value encountered in true_divide\n",
      "  p = p / p.sum()\n"
     ]
    },
    {
     "ename": "PowerIterationFailedConvergence",
     "evalue": "(PowerIterationFailedConvergence(...), 'power iteration failed to converge within 10000 iterations')",
     "output_type": "error",
     "traceback": [
      "\u001b[0;31m---------------------------------------------------------------------------\u001b[0m",
      "\u001b[0;31mPowerIterationFailedConvergence\u001b[0m           Traceback (most recent call last)",
      "\u001b[0;32m<ipython-input-20-fc97f5bbbe51>\u001b[0m in \u001b[0;36m<module>\u001b[0;34m\u001b[0m\n\u001b[1;32m      1\u001b[0m \u001b[0mentries\u001b[0m \u001b[0;34m=\u001b[0m \u001b[0msorted\u001b[0m\u001b[0;34m(\u001b[0m\u001b[0mos\u001b[0m\u001b[0;34m.\u001b[0m\u001b[0mscandir\u001b[0m\u001b[0;34m(\u001b[0m\u001b[0;34m'data'\u001b[0m\u001b[0;34m)\u001b[0m\u001b[0;34m,\u001b[0m \u001b[0mkey\u001b[0m\u001b[0;34m=\u001b[0m\u001b[0;32mlambda\u001b[0m \u001b[0mx\u001b[0m\u001b[0;34m:\u001b[0m \u001b[0mx\u001b[0m\u001b[0;34m.\u001b[0m\u001b[0mname\u001b[0m\u001b[0;34m)\u001b[0m\u001b[0;34m\u001b[0m\u001b[0;34m\u001b[0m\u001b[0m\n\u001b[1;32m      2\u001b[0m \u001b[0;32mfor\u001b[0m \u001b[0mentry\u001b[0m \u001b[0;32min\u001b[0m \u001b[0mtqdm\u001b[0m\u001b[0;34m(\u001b[0m\u001b[0mentries\u001b[0m\u001b[0;34m)\u001b[0m\u001b[0;34m:\u001b[0m\u001b[0;34m\u001b[0m\u001b[0;34m\u001b[0m\u001b[0m\n\u001b[0;32m----> 3\u001b[0;31m   \u001b[0mppr\u001b[0m\u001b[0;34m(\u001b[0m\u001b[0mentry\u001b[0m\u001b[0;34m,\u001b[0m \u001b[0mverbose\u001b[0m\u001b[0;34m=\u001b[0m\u001b[0;32mTrue\u001b[0m\u001b[0;34m)\u001b[0m\u001b[0;34m\u001b[0m\u001b[0;34m\u001b[0m\u001b[0m\n\u001b[0m",
      "\u001b[0;32m<ipython-input-19-c9faf2251fa7>\u001b[0m in \u001b[0;36mppr\u001b[0;34m(path, verbose, feature_name)\u001b[0m\n\u001b[1;32m     22\u001b[0m \u001b[0;34m\u001b[0m\u001b[0m\n\u001b[1;32m     23\u001b[0m   \u001b[0;31m# Calculate personalized pagerank for each node\u001b[0m\u001b[0;34m\u001b[0m\u001b[0;34m\u001b[0m\u001b[0;34m\u001b[0m\u001b[0m\n\u001b[0;32m---> 24\u001b[0;31m   \u001b[0mvalue_per_node\u001b[0m \u001b[0;34m=\u001b[0m \u001b[0;34m{\u001b[0m\u001b[0mnode\u001b[0m\u001b[0;34m:\u001b[0m \u001b[0mnx\u001b[0m\u001b[0;34m.\u001b[0m\u001b[0mpagerank_scipy\u001b[0m\u001b[0;34m(\u001b[0m\u001b[0mG\u001b[0m\u001b[0;34m,\u001b[0m \u001b[0mpersonalization\u001b[0m\u001b[0;34m=\u001b[0m\u001b[0mdict\u001b[0m\u001b[0;34m(\u001b[0m\u001b[0mnode\u001b[0m\u001b[0;34m=\u001b[0m\u001b[0;36m1\u001b[0m\u001b[0;34m)\u001b[0m\u001b[0;34m,\u001b[0m \u001b[0mmax_iter\u001b[0m\u001b[0;34m=\u001b[0m\u001b[0;36m10000\u001b[0m\u001b[0;34m)\u001b[0m \u001b[0;32mfor\u001b[0m \u001b[0mnode\u001b[0m \u001b[0;32min\u001b[0m \u001b[0mtqdm\u001b[0m\u001b[0;34m(\u001b[0m\u001b[0mnodes_sampled\u001b[0m\u001b[0;34m,\u001b[0m \u001b[0mdisable\u001b[0m\u001b[0;34m=\u001b[0m\u001b[0;32mnot\u001b[0m \u001b[0mverbose\u001b[0m\u001b[0;34m)\u001b[0m\u001b[0;34m}\u001b[0m\u001b[0;34m\u001b[0m\u001b[0;34m\u001b[0m\u001b[0m\n\u001b[0m\u001b[1;32m     25\u001b[0m \u001b[0;34m\u001b[0m\u001b[0m\n\u001b[1;32m     26\u001b[0m   \u001b[0mvalue_per_instance\u001b[0m \u001b[0;34m=\u001b[0m \u001b[0;34m[\u001b[0m\u001b[0;34m(\u001b[0m\u001b[0mvalue_per_node\u001b[0m\u001b[0;34m[\u001b[0m\u001b[0mu\u001b[0m\u001b[0;34m]\u001b[0m\u001b[0;34m[\u001b[0m\u001b[0mv\u001b[0m\u001b[0;34m]\u001b[0m\u001b[0;34m,\u001b[0m \u001b[0mvalue_per_node\u001b[0m\u001b[0;34m[\u001b[0m\u001b[0mv\u001b[0m\u001b[0;34m]\u001b[0m\u001b[0;34m[\u001b[0m\u001b[0mu\u001b[0m\u001b[0;34m]\u001b[0m\u001b[0;34m)\u001b[0m \u001b[0;32mfor\u001b[0m \u001b[0mu\u001b[0m\u001b[0;34m,\u001b[0m \u001b[0mv\u001b[0m \u001b[0;32min\u001b[0m \u001b[0mtqdm\u001b[0m\u001b[0;34m(\u001b[0m\u001b[0minstances_sampled\u001b[0m\u001b[0;34m,\u001b[0m \u001b[0mdisable\u001b[0m\u001b[0;34m=\u001b[0m\u001b[0;32mnot\u001b[0m \u001b[0mverbose\u001b[0m\u001b[0;34m)\u001b[0m\u001b[0;34m]\u001b[0m\u001b[0;34m\u001b[0m\u001b[0;34m\u001b[0m\u001b[0m\n",
      "\u001b[0;32m<ipython-input-19-c9faf2251fa7>\u001b[0m in \u001b[0;36m<dictcomp>\u001b[0;34m(.0)\u001b[0m\n\u001b[1;32m     22\u001b[0m \u001b[0;34m\u001b[0m\u001b[0m\n\u001b[1;32m     23\u001b[0m   \u001b[0;31m# Calculate personalized pagerank for each node\u001b[0m\u001b[0;34m\u001b[0m\u001b[0;34m\u001b[0m\u001b[0;34m\u001b[0m\u001b[0m\n\u001b[0;32m---> 24\u001b[0;31m   \u001b[0mvalue_per_node\u001b[0m \u001b[0;34m=\u001b[0m \u001b[0;34m{\u001b[0m\u001b[0mnode\u001b[0m\u001b[0;34m:\u001b[0m \u001b[0mnx\u001b[0m\u001b[0;34m.\u001b[0m\u001b[0mpagerank_scipy\u001b[0m\u001b[0;34m(\u001b[0m\u001b[0mG\u001b[0m\u001b[0;34m,\u001b[0m \u001b[0mpersonalization\u001b[0m\u001b[0;34m=\u001b[0m\u001b[0mdict\u001b[0m\u001b[0;34m(\u001b[0m\u001b[0mnode\u001b[0m\u001b[0;34m=\u001b[0m\u001b[0;36m1\u001b[0m\u001b[0;34m)\u001b[0m\u001b[0;34m,\u001b[0m \u001b[0mmax_iter\u001b[0m\u001b[0;34m=\u001b[0m\u001b[0;36m10000\u001b[0m\u001b[0;34m)\u001b[0m \u001b[0;32mfor\u001b[0m \u001b[0mnode\u001b[0m \u001b[0;32min\u001b[0m \u001b[0mtqdm\u001b[0m\u001b[0;34m(\u001b[0m\u001b[0mnodes_sampled\u001b[0m\u001b[0;34m,\u001b[0m \u001b[0mdisable\u001b[0m\u001b[0;34m=\u001b[0m\u001b[0;32mnot\u001b[0m \u001b[0mverbose\u001b[0m\u001b[0;34m)\u001b[0m\u001b[0;34m}\u001b[0m\u001b[0;34m\u001b[0m\u001b[0;34m\u001b[0m\u001b[0m\n\u001b[0m\u001b[1;32m     25\u001b[0m \u001b[0;34m\u001b[0m\u001b[0m\n\u001b[1;32m     26\u001b[0m   \u001b[0mvalue_per_instance\u001b[0m \u001b[0;34m=\u001b[0m \u001b[0;34m[\u001b[0m\u001b[0;34m(\u001b[0m\u001b[0mvalue_per_node\u001b[0m\u001b[0;34m[\u001b[0m\u001b[0mu\u001b[0m\u001b[0;34m]\u001b[0m\u001b[0;34m[\u001b[0m\u001b[0mv\u001b[0m\u001b[0;34m]\u001b[0m\u001b[0;34m,\u001b[0m \u001b[0mvalue_per_node\u001b[0m\u001b[0;34m[\u001b[0m\u001b[0mv\u001b[0m\u001b[0;34m]\u001b[0m\u001b[0;34m[\u001b[0m\u001b[0mu\u001b[0m\u001b[0;34m]\u001b[0m\u001b[0;34m)\u001b[0m \u001b[0;32mfor\u001b[0m \u001b[0mu\u001b[0m\u001b[0;34m,\u001b[0m \u001b[0mv\u001b[0m \u001b[0;32min\u001b[0m \u001b[0mtqdm\u001b[0m\u001b[0;34m(\u001b[0m\u001b[0minstances_sampled\u001b[0m\u001b[0;34m,\u001b[0m \u001b[0mdisable\u001b[0m\u001b[0;34m=\u001b[0m\u001b[0;32mnot\u001b[0m \u001b[0mverbose\u001b[0m\u001b[0;34m)\u001b[0m\u001b[0;34m]\u001b[0m\u001b[0;34m\u001b[0m\u001b[0;34m\u001b[0m\u001b[0m\n",
      "\u001b[0;32m/scratch/bruingjde/miniconda3/envs/tlp/lib/python3.9/site-packages/networkx/algorithms/link_analysis/pagerank_alg.py\u001b[0m in \u001b[0;36mpagerank_scipy\u001b[0;34m(G, alpha, personalization, max_iter, tol, nstart, weight, dangling)\u001b[0m\n\u001b[1;32m    473\u001b[0m         \u001b[0;32mif\u001b[0m \u001b[0merr\u001b[0m \u001b[0;34m<\u001b[0m \u001b[0mN\u001b[0m \u001b[0;34m*\u001b[0m \u001b[0mtol\u001b[0m\u001b[0;34m:\u001b[0m\u001b[0;34m\u001b[0m\u001b[0;34m\u001b[0m\u001b[0m\n\u001b[1;32m    474\u001b[0m             \u001b[0;32mreturn\u001b[0m \u001b[0mdict\u001b[0m\u001b[0;34m(\u001b[0m\u001b[0mzip\u001b[0m\u001b[0;34m(\u001b[0m\u001b[0mnodelist\u001b[0m\u001b[0;34m,\u001b[0m \u001b[0mmap\u001b[0m\u001b[0;34m(\u001b[0m\u001b[0mfloat\u001b[0m\u001b[0;34m,\u001b[0m \u001b[0mx\u001b[0m\u001b[0;34m)\u001b[0m\u001b[0;34m)\u001b[0m\u001b[0;34m)\u001b[0m\u001b[0;34m\u001b[0m\u001b[0;34m\u001b[0m\u001b[0m\n\u001b[0;32m--> 475\u001b[0;31m     \u001b[0;32mraise\u001b[0m \u001b[0mnx\u001b[0m\u001b[0;34m.\u001b[0m\u001b[0mPowerIterationFailedConvergence\u001b[0m\u001b[0;34m(\u001b[0m\u001b[0mmax_iter\u001b[0m\u001b[0;34m)\u001b[0m\u001b[0;34m\u001b[0m\u001b[0;34m\u001b[0m\u001b[0m\n\u001b[0m",
      "\u001b[0;31mPowerIterationFailedConvergence\u001b[0m: (PowerIterationFailedConvergence(...), 'power iteration failed to converge within 10000 iterations')"
     ]
    }
   ],
   "source": [
    "entries = sorted(os.scandir('data'), key=lambda x: x.name)\n",
    "for entry in tqdm(entries):\n",
    "  ppr(entry, verbose=True)"
   ]
  },
  {
   "cell_type": "code",
   "execution_count": null,
   "id": "foreign-radius",
   "metadata": {
    "execution": {
     "iopub.execute_input": "2021-02-28T06:16:07.937784Z",
     "iopub.status.busy": "2021-02-28T06:16:07.937472Z"
    }
   },
   "outputs": [
    {
     "data": {
      "application/vnd.jupyter.widget-view+json": {
       "model_id": "341149d474e74b9388bb6dc8e7628f7e",
       "version_major": 2,
       "version_minor": 0
      },
      "text/plain": [
       "  0%|          | 0/30 [00:00<?, ?it/s]"
      ]
     },
     "metadata": {},
     "output_type": "display_data"
    }
   ],
   "source": [
    "entries = sorted(os.scandir('data'), key=lambda x: x.name)\n",
    "tlp.ProgressParallel(n_jobs=len(entries), total=len(entries))(\n",
    "  joblib.delayed(ppr)(entry.path) for entry in entries\n",
    ")"
   ]
  },
  {
   "cell_type": "code",
   "execution_count": null,
   "id": "absent-sense",
   "metadata": {},
   "outputs": [],
   "source": []
  }
 ],
 "metadata": {
  "kernelspec": {
   "display_name": "Python 3",
   "language": "python",
   "name": "python3"
  },
  "language_info": {
   "codemirror_mode": {
    "name": "ipython",
    "version": 3
   },
   "file_extension": ".py",
   "mimetype": "text/x-python",
   "name": "python",
   "nbconvert_exporter": "python",
   "pygments_lexer": "ipython3",
   "version": "3.9.1"
  }
 },
 "nbformat": 4,
 "nbformat_minor": 5
}
