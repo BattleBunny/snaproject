{
 "cells": [
  {
   "cell_type": "code",
   "execution_count": 1,
   "id": "monthly-clone",
   "metadata": {
    "execution": {
     "iopub.execute_input": "2021-02-27T19:41:06.071046Z",
     "iopub.status.busy": "2021-02-27T19:41:06.070769Z",
     "iopub.status.idle": "2021-02-27T19:41:07.028515Z",
     "shell.execute_reply": "2021-02-27T19:41:07.027944Z",
     "shell.execute_reply.started": "2021-02-27T19:41:06.070967Z"
    }
   },
   "outputs": [
    {
     "name": "stdout",
     "output_type": "stream",
     "text": [
      "/scratch/bruingjde/SNAM2021-code\n"
     ]
    }
   ],
   "source": [
    "%cd /scratch/bruingjde/SNAM2021-code/\n",
    "\n",
    "import os\n",
    "import typing\n",
    "\n",
    "import joblib\n",
    "import matplotlib.pyplot as plt\n",
    "import networkx as nx\n",
    "import numpy as np\n",
    "import pandas as pd\n",
    "import scipy\n",
    "import seaborn as sns\n",
    "import sklearn.linear_model\n",
    "import sklearn.model_selection\n",
    "import sklearn.metrics\n",
    "import sklearn.pipeline\n",
    "import sklearn.preprocessing\n",
    "from tqdm.auto import tqdm\n",
    "\n",
    "import tlp"
   ]
  },
  {
   "cell_type": "code",
   "execution_count": 6,
   "id": "alien-investor",
   "metadata": {
    "execution": {
     "iopub.execute_input": "2021-02-27T20:27:16.577443Z",
     "iopub.status.busy": "2021-02-27T20:27:16.576866Z",
     "iopub.status.idle": "2021-02-27T20:27:16.584187Z",
     "shell.execute_reply": "2021-02-27T20:27:16.583593Z",
     "shell.execute_reply.started": "2021-02-27T20:27:16.577394Z"
    }
   },
   "outputs": [],
   "source": [
    "# Check\n",
    "for entry in os.scandir('data'):\n",
    "  if not os.path.isfile(os.path.join(entry, 'features', 'JC.pkl')): print(entry)"
   ]
  },
  {
   "cell_type": "code",
   "execution_count": 3,
   "id": "facial-tournament",
   "metadata": {
    "execution": {
     "iopub.execute_input": "2021-02-27T19:41:42.114454Z",
     "iopub.status.busy": "2021-02-27T19:41:42.114208Z",
     "iopub.status.idle": "2021-02-27T19:41:42.122654Z",
     "shell.execute_reply": "2021-02-27T19:41:42.121855Z",
     "shell.execute_reply.started": "2021-02-27T19:41:42.114427Z"
    }
   },
   "outputs": [],
   "source": [
    "def jc(path: str, verbose: bool = False, feature_name='JC'):\n",
    "  # Check if file exists\n",
    "  feature_path = os.path.join(path, 'features')\n",
    "  file = os.path.join(feature_path, f'{feature_name}.pkl')\n",
    "  if os.path.isfile(file): return \n",
    "  \n",
    "  os.makedirs(feature_path, exist_ok=True)\n",
    "\n",
    "  # Read in\n",
    "  edgelist_mature_file = os.path.join(path, 'edgelist_mature.pkl')\n",
    "  if verbose: print(f'Read {edgelist_mature_file}')\n",
    "  edgelist_mature = pd.read_pickle(edgelist_mature_file)\n",
    "  \n",
    "  instances_file = os.path.join(path, 'instances_sampled.npy')\n",
    "  if verbose: print(f'Read {instances_file}')  \n",
    "  instances_sampled = np.load(instances_file)\n",
    "\n",
    "  # Get edgelist\n",
    "  G = nx.from_pandas_edgelist(edgelist_mature)\n",
    "  \n",
    "  # Calculate\n",
    "  scores = [p for _, _, p in nx.jaccard_coefficient(G, instances_sampled)]\n",
    "  \n",
    "  # Store\n",
    "  result = {tlp.Experiment(feature=feature_name, time_aware=False): np.array(scores)}\n",
    "  joblib.dump(result, os.path.join(feature_path, f'{feature_name}.pkl'))"
   ]
  },
  {
   "cell_type": "code",
   "execution_count": 4,
   "id": "crucial-xerox",
   "metadata": {
    "execution": {
     "iopub.execute_input": "2021-02-27T19:41:45.879225Z",
     "iopub.status.busy": "2021-02-27T19:41:45.878971Z",
     "iopub.status.idle": "2021-02-27T19:41:46.927680Z",
     "shell.execute_reply": "2021-02-27T19:41:46.926992Z",
     "shell.execute_reply.started": "2021-02-27T19:41:45.879198Z"
    }
   },
   "outputs": [],
   "source": [
    "jc('data/13')"
   ]
  },
  {
   "cell_type": "code",
   "execution_count": 5,
   "id": "drawn-honolulu",
   "metadata": {
    "execution": {
     "iopub.execute_input": "2021-02-27T19:42:02.743618Z",
     "iopub.status.busy": "2021-02-27T19:42:02.743313Z",
     "iopub.status.idle": "2021-02-27T19:43:26.422671Z",
     "shell.execute_reply": "2021-02-27T19:43:26.421766Z",
     "shell.execute_reply.started": "2021-02-27T19:42:02.743589Z"
    }
   },
   "outputs": [
    {
     "data": {
      "application/vnd.jupyter.widget-view+json": {
       "model_id": "",
       "version_major": 2,
       "version_minor": 0
      },
      "text/plain": [
       "  0%|          | 0/30 [00:00<?, ?it/s]"
      ]
     },
     "metadata": {},
     "output_type": "display_data"
    },
    {
     "data": {
      "text/plain": [
       "[None,\n",
       " None,\n",
       " None,\n",
       " None,\n",
       " None,\n",
       " None,\n",
       " None,\n",
       " None,\n",
       " None,\n",
       " None,\n",
       " None,\n",
       " None,\n",
       " None,\n",
       " None,\n",
       " None,\n",
       " None,\n",
       " None,\n",
       " None,\n",
       " None,\n",
       " None,\n",
       " None,\n",
       " None,\n",
       " None,\n",
       " None,\n",
       " None,\n",
       " None,\n",
       " None,\n",
       " None,\n",
       " None,\n",
       " None]"
      ]
     },
     "execution_count": 5,
     "metadata": {},
     "output_type": "execute_result"
    }
   ],
   "source": [
    "entries = sorted(os.scandir('data'), key=lambda x: x.name)\n",
    "tlp.ProgressParallel(n_jobs=len(entries), total=len(entries))(\n",
    "  joblib.delayed(jc)(entry.path) for entry in entries\n",
    ")"
   ]
  },
  {
   "cell_type": "code",
   "execution_count": null,
   "id": "opposed-authentication",
   "metadata": {},
   "outputs": [],
   "source": []
  }
 ],
 "metadata": {
  "kernelspec": {
   "display_name": "Python 3",
   "language": "python",
   "name": "python3"
  },
  "language_info": {
   "codemirror_mode": {
    "name": "ipython",
    "version": 3
   },
   "file_extension": ".py",
   "mimetype": "text/x-python",
   "name": "python",
   "nbconvert_exporter": "python",
   "pygments_lexer": "ipython3",
   "version": "3.9.4"
  }
 },
 "nbformat": 4,
 "nbformat_minor": 5
}
