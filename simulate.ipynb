{
 "cells": [
  {
   "cell_type": "code",
   "execution_count": 1,
   "id": "7feba9c5-5fb3-46c9-baca-55d70a55ea66",
   "metadata": {
    "execution": {
     "iopub.execute_input": "2021-06-01T11:59:43.901558Z",
     "iopub.status.busy": "2021-06-01T11:59:43.901388Z",
     "iopub.status.idle": "2021-06-01T11:59:44.383553Z",
     "shell.execute_reply": "2021-06-01T11:59:44.382706Z",
     "shell.execute_reply.started": "2021-06-01T11:59:43.901515Z"
    },
    "tags": []
   },
   "outputs": [],
   "source": [
    "import networkx as nx\n",
    "import pandas as pd"
   ]
  },
  {
   "cell_type": "code",
   "execution_count": 14,
   "id": "31905fa2-e858-43ed-b6e8-8b6875fa6308",
   "metadata": {
    "execution": {
     "iopub.execute_input": "2021-06-01T12:06:07.498201Z",
     "iopub.status.busy": "2021-06-01T12:06:07.497920Z",
     "iopub.status.idle": "2021-06-01T12:06:07.502993Z",
     "shell.execute_reply": "2021-06-01T12:06:07.502022Z",
     "shell.execute_reply.started": "2021-06-01T12:06:07.498180Z"
    }
   },
   "outputs": [],
   "source": [
    "def get_properties(G):\n",
    "  return {\n",
    "      'degree assortativity': nx.degree_assortativity_coefficient(G),\n",
    "      'number of edges': G.number_of_edges(),\n",
    "      'number of triangles': sum(nx.triangles(G).values()) // 3\n",
    "    }"
   ]
  },
  {
   "cell_type": "code",
   "execution_count": 2,
   "id": "7519b3c6-687c-4492-b9b9-048e90ae2299",
   "metadata": {
    "execution": {
     "iopub.execute_input": "2021-06-01T11:59:44.384684Z",
     "iopub.status.busy": "2021-06-01T11:59:44.384534Z",
     "iopub.status.idle": "2021-06-01T11:59:44.489631Z",
     "shell.execute_reply": "2021-06-01T11:59:44.488750Z",
     "shell.execute_reply.started": "2021-06-01T11:59:44.384664Z"
    }
   },
   "outputs": [],
   "source": [
    "G = nx.from_pandas_edgelist(\n",
    "  pd.read_pickle('data/18/edgelist.pkl')[['source', 'target', 'datetime']], \n",
    "  create_using=nx.MultiGraph, edge_attr=True\n",
    ")"
   ]
  },
  {
   "cell_type": "code",
   "execution_count": 17,
   "id": "d8112906-dc0c-4758-853f-bd2bfbebd9d4",
   "metadata": {
    "execution": {
     "iopub.execute_input": "2021-06-01T12:06:19.698081Z",
     "iopub.status.busy": "2021-06-01T12:06:19.697764Z",
     "iopub.status.idle": "2021-06-01T12:06:19.912711Z",
     "shell.execute_reply": "2021-06-01T12:06:19.912113Z",
     "shell.execute_reply.started": "2021-06-01T12:06:19.698030Z"
    },
    "tags": []
   },
   "outputs": [
    {
     "data": {
      "text/plain": [
       "{'degree assortativity': -0.0022173051545779617,\n",
       " 'number of edges': 22259,\n",
       " 'number of triangles': 320}"
      ]
     },
     "execution_count": 17,
     "metadata": {},
     "output_type": "execute_result"
    }
   ],
   "source": [
    "get_properties(G)"
   ]
  },
  {
   "cell_type": "markdown",
   "id": "16e1e9e9-fc8c-48cc-acb8-a5ec48d6c512",
   "metadata": {},
   "source": [
    "# Random graph $G_{n,p}$"
   ]
  },
  {
   "cell_type": "code",
   "execution_count": 15,
   "id": "5abc4feb-02b8-4281-ae1e-dbbe947eb604",
   "metadata": {
    "execution": {
     "iopub.execute_input": "2021-06-01T12:06:09.134034Z",
     "iopub.status.busy": "2021-06-01T12:06:09.133811Z",
     "iopub.status.idle": "2021-06-01T12:06:12.330887Z",
     "shell.execute_reply": "2021-06-01T12:06:12.330054Z",
     "shell.execute_reply.started": "2021-06-01T12:06:09.134013Z"
    },
    "tags": []
   },
   "outputs": [],
   "source": [
    "properties = list()\n",
    "for _ in range(10):\n",
    "  G = nx.fast_gnp_random_graph(n=G.number_of_nodes(), p=nx.density(G), seed=42, \n",
    "                               directed=False)  \n",
    "  properties.append(get_properties(G))"
   ]
  },
  {
   "cell_type": "code",
   "execution_count": 16,
   "id": "778ad5f6-c5d0-4ad4-8cd7-c91ee2243ae7",
   "metadata": {
    "execution": {
     "iopub.execute_input": "2021-06-01T12:06:12.987761Z",
     "iopub.status.busy": "2021-06-01T12:06:12.987499Z",
     "iopub.status.idle": "2021-06-01T12:06:12.999413Z",
     "shell.execute_reply": "2021-06-01T12:06:12.998837Z",
     "shell.execute_reply.started": "2021-06-01T12:06:12.987741Z"
    },
    "tags": []
   },
   "outputs": [
    {
     "data": {
      "text/html": [
       "<div>\n",
       "<style scoped>\n",
       "    .dataframe tbody tr th:only-of-type {\n",
       "        vertical-align: middle;\n",
       "    }\n",
       "\n",
       "    .dataframe tbody tr th {\n",
       "        vertical-align: top;\n",
       "    }\n",
       "\n",
       "    .dataframe thead th {\n",
       "        text-align: right;\n",
       "    }\n",
       "</style>\n",
       "<table border=\"1\" class=\"dataframe\">\n",
       "  <thead>\n",
       "    <tr style=\"text-align: right;\">\n",
       "      <th></th>\n",
       "      <th>degree assortativity</th>\n",
       "      <th>number of edges</th>\n",
       "      <th>number of triangles</th>\n",
       "    </tr>\n",
       "  </thead>\n",
       "  <tbody>\n",
       "    <tr>\n",
       "      <th>mean</th>\n",
       "      <td>-0.000909</td>\n",
       "      <td>22388.4</td>\n",
       "      <td>299.6</td>\n",
       "    </tr>\n",
       "    <tr>\n",
       "      <th>min</th>\n",
       "      <td>-0.010052</td>\n",
       "      <td>22259.0</td>\n",
       "      <td>280.0</td>\n",
       "    </tr>\n",
       "    <tr>\n",
       "      <th>max</th>\n",
       "      <td>0.012267</td>\n",
       "      <td>22470.0</td>\n",
       "      <td>320.0</td>\n",
       "    </tr>\n",
       "  </tbody>\n",
       "</table>\n",
       "</div>"
      ],
      "text/plain": [
       "      degree assortativity  number of edges  number of triangles\n",
       "mean             -0.000909          22388.4                299.6\n",
       "min              -0.010052          22259.0                280.0\n",
       "max               0.012267          22470.0                320.0"
      ]
     },
     "execution_count": 16,
     "metadata": {},
     "output_type": "execute_result"
    }
   ],
   "source": [
    "pd.DataFrame(properties).agg(['mean', 'min', 'max'])"
   ]
  },
  {
   "cell_type": "markdown",
   "id": "f148e13a-87e6-4f1c-a8f1-c88cff39745c",
   "metadata": {},
   "source": [
    "# Random graph $G_{n,m}$"
   ]
  },
  {
   "cell_type": "code",
   "execution_count": 5,
   "id": "0da9a6ef-5e21-4ab8-9efe-6a960c02dd07",
   "metadata": {
    "execution": {
     "iopub.execute_input": "2021-06-01T11:59:44.890654Z",
     "iopub.status.busy": "2021-06-01T11:59:44.890507Z",
     "iopub.status.idle": "2021-06-01T11:59:46.956929Z",
     "shell.execute_reply": "2021-06-01T11:59:46.955939Z",
     "shell.execute_reply.started": "2021-06-01T11:59:44.890636Z"
    },
    "tags": []
   },
   "outputs": [
    {
     "ename": "KeyboardInterrupt",
     "evalue": "",
     "output_type": "error",
     "traceback": [
      "\u001b[0;31m---------------------------------------------------------------------------\u001b[0m",
      "\u001b[0;31mKeyboardInterrupt\u001b[0m                         Traceback (most recent call last)",
      "\u001b[0;32m<ipython-input-5-1b4e9437acd8>\u001b[0m in \u001b[0;36m<module>\u001b[0;34m\u001b[0m\n\u001b[0;32m----> 1\u001b[0;31m \u001b[0mG\u001b[0m \u001b[0;34m=\u001b[0m \u001b[0mnx\u001b[0m\u001b[0;34m.\u001b[0m\u001b[0mgnm_random_graph\u001b[0m\u001b[0;34m(\u001b[0m\u001b[0mn\u001b[0m\u001b[0;34m=\u001b[0m\u001b[0mint\u001b[0m\u001b[0;34m(\u001b[0m\u001b[0;36m1e6\u001b[0m\u001b[0;34m)\u001b[0m\u001b[0;34m,\u001b[0m \u001b[0mm\u001b[0m\u001b[0;34m=\u001b[0m\u001b[0mint\u001b[0m\u001b[0;34m(\u001b[0m\u001b[0;36m29e6\u001b[0m\u001b[0;34m)\u001b[0m\u001b[0;34m,\u001b[0m \u001b[0mseed\u001b[0m\u001b[0;34m=\u001b[0m\u001b[0;36m42\u001b[0m\u001b[0;34m,\u001b[0m \u001b[0mdirected\u001b[0m\u001b[0;34m=\u001b[0m\u001b[0;32mFalse\u001b[0m\u001b[0;34m)\u001b[0m\u001b[0;34m\u001b[0m\u001b[0;34m\u001b[0m\u001b[0m\n\u001b[0m\u001b[1;32m      2\u001b[0m \u001b[0mdisplay\u001b[0m\u001b[0;34m(\u001b[0m\u001b[0mnx\u001b[0m\u001b[0;34m.\u001b[0m\u001b[0mdegree_assortativity_coefficient\u001b[0m\u001b[0;34m(\u001b[0m\u001b[0mG\u001b[0m\u001b[0;34m)\u001b[0m\u001b[0;34m)\u001b[0m\u001b[0;34m\u001b[0m\u001b[0;34m\u001b[0m\u001b[0m\n\u001b[1;32m      3\u001b[0m \u001b[0mdisplay\u001b[0m\u001b[0;34m(\u001b[0m\u001b[0mG\u001b[0m\u001b[0;34m.\u001b[0m\u001b[0mnumber_of_edges\u001b[0m\u001b[0;34m(\u001b[0m\u001b[0;34m)\u001b[0m\u001b[0;34m)\u001b[0m\u001b[0;34m\u001b[0m\u001b[0;34m\u001b[0m\u001b[0m\n\u001b[1;32m      4\u001b[0m \u001b[0mdisplay\u001b[0m\u001b[0;34m(\u001b[0m\u001b[0msum\u001b[0m\u001b[0;34m(\u001b[0m\u001b[0mnx\u001b[0m\u001b[0;34m.\u001b[0m\u001b[0mtriangles\u001b[0m\u001b[0;34m(\u001b[0m\u001b[0mG\u001b[0m\u001b[0;34m)\u001b[0m\u001b[0;34m.\u001b[0m\u001b[0mvalues\u001b[0m\u001b[0;34m(\u001b[0m\u001b[0;34m)\u001b[0m\u001b[0;34m)\u001b[0m \u001b[0;34m/\u001b[0m \u001b[0;36m3\u001b[0m\u001b[0;34m)\u001b[0m\u001b[0;34m\u001b[0m\u001b[0;34m\u001b[0m\u001b[0m\n",
      "\u001b[0;32m<decorator-gen-724>\u001b[0m in \u001b[0;36mgnm_random_graph\u001b[0;34m(n, m, seed, directed)\u001b[0m\n",
      "\u001b[0;32m/scratch/bruingjde/miniconda3/lib/python3.9/site-packages/networkx/utils/decorators.py\u001b[0m in \u001b[0;36m_random_state\u001b[0;34m(func, *args, **kwargs)\u001b[0m\n\u001b[1;32m    467\u001b[0m         \u001b[0mnew_args\u001b[0m \u001b[0;34m=\u001b[0m \u001b[0mlist\u001b[0m\u001b[0;34m(\u001b[0m\u001b[0margs\u001b[0m\u001b[0;34m)\u001b[0m\u001b[0;34m\u001b[0m\u001b[0;34m\u001b[0m\u001b[0m\n\u001b[1;32m    468\u001b[0m         \u001b[0mnew_args\u001b[0m\u001b[0;34m[\u001b[0m\u001b[0mrandom_state_index\u001b[0m\u001b[0;34m]\u001b[0m \u001b[0;34m=\u001b[0m \u001b[0mrandom_state\u001b[0m\u001b[0;34m\u001b[0m\u001b[0;34m\u001b[0m\u001b[0m\n\u001b[0;32m--> 469\u001b[0;31m         \u001b[0;32mreturn\u001b[0m \u001b[0mfunc\u001b[0m\u001b[0;34m(\u001b[0m\u001b[0;34m*\u001b[0m\u001b[0mnew_args\u001b[0m\u001b[0;34m,\u001b[0m \u001b[0;34m**\u001b[0m\u001b[0mkwargs\u001b[0m\u001b[0;34m)\u001b[0m\u001b[0;34m\u001b[0m\u001b[0;34m\u001b[0m\u001b[0m\n\u001b[0m\u001b[1;32m    470\u001b[0m \u001b[0;34m\u001b[0m\u001b[0m\n\u001b[1;32m    471\u001b[0m     \u001b[0;32mreturn\u001b[0m \u001b[0m_random_state\u001b[0m\u001b[0;34m\u001b[0m\u001b[0;34m\u001b[0m\u001b[0m\n",
      "\u001b[0;32m/scratch/bruingjde/miniconda3/lib/python3.9/site-packages/networkx/generators/random_graphs.py\u001b[0m in \u001b[0;36mgnm_random_graph\u001b[0;34m(n, m, seed, directed)\u001b[0m\n\u001b[1;32m    282\u001b[0m         \u001b[0;31m# generate random edge,u,v\u001b[0m\u001b[0;34m\u001b[0m\u001b[0;34m\u001b[0m\u001b[0;34m\u001b[0m\u001b[0m\n\u001b[1;32m    283\u001b[0m         \u001b[0mu\u001b[0m \u001b[0;34m=\u001b[0m \u001b[0mseed\u001b[0m\u001b[0;34m.\u001b[0m\u001b[0mchoice\u001b[0m\u001b[0;34m(\u001b[0m\u001b[0mnlist\u001b[0m\u001b[0;34m)\u001b[0m\u001b[0;34m\u001b[0m\u001b[0;34m\u001b[0m\u001b[0m\n\u001b[0;32m--> 284\u001b[0;31m         \u001b[0mv\u001b[0m \u001b[0;34m=\u001b[0m \u001b[0mseed\u001b[0m\u001b[0;34m.\u001b[0m\u001b[0mchoice\u001b[0m\u001b[0;34m(\u001b[0m\u001b[0mnlist\u001b[0m\u001b[0;34m)\u001b[0m\u001b[0;34m\u001b[0m\u001b[0;34m\u001b[0m\u001b[0m\n\u001b[0m\u001b[1;32m    285\u001b[0m         \u001b[0;32mif\u001b[0m \u001b[0mu\u001b[0m \u001b[0;34m==\u001b[0m \u001b[0mv\u001b[0m \u001b[0;32mor\u001b[0m \u001b[0mG\u001b[0m\u001b[0;34m.\u001b[0m\u001b[0mhas_edge\u001b[0m\u001b[0;34m(\u001b[0m\u001b[0mu\u001b[0m\u001b[0;34m,\u001b[0m \u001b[0mv\u001b[0m\u001b[0;34m)\u001b[0m\u001b[0;34m:\u001b[0m\u001b[0;34m\u001b[0m\u001b[0;34m\u001b[0m\u001b[0m\n\u001b[1;32m    286\u001b[0m             \u001b[0;32mcontinue\u001b[0m\u001b[0;34m\u001b[0m\u001b[0;34m\u001b[0m\u001b[0m\n",
      "\u001b[0;32m/scratch/bruingjde/miniconda3/lib/python3.9/random.py\u001b[0m in \u001b[0;36mchoice\u001b[0;34m(self, seq)\u001b[0m\n\u001b[1;32m    345\u001b[0m         \u001b[0;34m\"\"\"Choose a random element from a non-empty sequence.\"\"\"\u001b[0m\u001b[0;34m\u001b[0m\u001b[0;34m\u001b[0m\u001b[0m\n\u001b[1;32m    346\u001b[0m         \u001b[0;31m# raises IndexError if seq is empty\u001b[0m\u001b[0;34m\u001b[0m\u001b[0;34m\u001b[0m\u001b[0;34m\u001b[0m\u001b[0m\n\u001b[0;32m--> 347\u001b[0;31m         \u001b[0;32mreturn\u001b[0m \u001b[0mseq\u001b[0m\u001b[0;34m[\u001b[0m\u001b[0mself\u001b[0m\u001b[0;34m.\u001b[0m\u001b[0m_randbelow\u001b[0m\u001b[0;34m(\u001b[0m\u001b[0mlen\u001b[0m\u001b[0;34m(\u001b[0m\u001b[0mseq\u001b[0m\u001b[0;34m)\u001b[0m\u001b[0;34m)\u001b[0m\u001b[0;34m]\u001b[0m\u001b[0;34m\u001b[0m\u001b[0;34m\u001b[0m\u001b[0m\n\u001b[0m\u001b[1;32m    348\u001b[0m \u001b[0;34m\u001b[0m\u001b[0m\n\u001b[1;32m    349\u001b[0m     \u001b[0;32mdef\u001b[0m \u001b[0mshuffle\u001b[0m\u001b[0;34m(\u001b[0m\u001b[0mself\u001b[0m\u001b[0;34m,\u001b[0m \u001b[0mx\u001b[0m\u001b[0;34m,\u001b[0m \u001b[0mrandom\u001b[0m\u001b[0;34m=\u001b[0m\u001b[0;32mNone\u001b[0m\u001b[0;34m)\u001b[0m\u001b[0;34m:\u001b[0m\u001b[0;34m\u001b[0m\u001b[0;34m\u001b[0m\u001b[0m\n",
      "\u001b[0;31mKeyboardInterrupt\u001b[0m: "
     ]
    }
   ],
   "source": [
    "G = nx.gnm_random_graph(n=int(1e6), m=int(29e6), seed=42, directed=False)\n",
    "display(nx.degree_assortativity_coefficient(G))\n",
    "display(G.number_of_edges())\n",
    "display(sum(nx.triangles(G).values()) / 3)"
   ]
  },
  {
   "cell_type": "markdown",
   "id": "4801ae83-82e4-4c45-9078-80a03723c726",
   "metadata": {},
   "source": [
    "# Barabasi-Albert"
   ]
  },
  {
   "cell_type": "code",
   "execution_count": null,
   "id": "a52f4565-3826-4b80-8d18-3b0211d9bda3",
   "metadata": {
    "execution": {
     "iopub.status.busy": "2021-06-01T11:59:46.957509Z",
     "iopub.status.idle": "2021-06-01T11:59:46.957724Z",
     "shell.execute_reply": "2021-06-01T11:59:46.957618Z"
    },
    "tags": []
   },
   "outputs": [],
   "source": [
    "G = nx.barabasi_albert_graph(n=int(1e6), m=29, seed=42)\n",
    "display(nx.degree_assortativity_coefficient(G))\n",
    "display(G.number_of_edges())\n",
    "display(sum(nx.triangles(G).values()) / 3)"
   ]
  },
  {
   "cell_type": "markdown",
   "id": "78385328-7722-402d-9316-4afd668df1dd",
   "metadata": {},
   "source": [
    "# Holme-Kim\n",
    "Holme and Kim algorithm for growing graphs with powerlaw degree distribution and approximate average clustering.\n",
    "It is essentially the Barabási–Albert (BA) growth model with an extra step that each random edge is followed by a chance of making an edge to one of its neighbors too (and thus a triangle)."
   ]
  },
  {
   "cell_type": "code",
   "execution_count": null,
   "id": "8e78bdae-58d2-45f3-8ad7-95df7434cdfc",
   "metadata": {
    "execution": {
     "iopub.status.busy": "2021-06-01T11:59:46.958396Z",
     "iopub.status.idle": "2021-06-01T11:59:46.958589Z",
     "shell.execute_reply": "2021-06-01T11:59:46.958495Z"
    },
    "tags": []
   },
   "outputs": [],
   "source": [
    "G = nx.powerlaw_cluster_graph(n=int(1e6), m=29, p=p, seed=42)\n",
    "display(nx.degree_assortativity_coefficient(G))\n",
    "display(G.number_of_edges())\n",
    "display(sum(nx.triangles(G).values()) / 3)"
   ]
  }
 ],
 "metadata": {
  "kernelspec": {
   "display_name": "Python 3",
   "language": "python",
   "name": "python3"
  },
  "language_info": {
   "codemirror_mode": {
    "name": "ipython",
    "version": 3
   },
   "file_extension": ".py",
   "mimetype": "text/x-python",
   "name": "python",
   "nbconvert_exporter": "python",
   "pygments_lexer": "ipython3",
   "version": "3.9.4"
  }
 },
 "nbformat": 4,
 "nbformat_minor": 5
}
