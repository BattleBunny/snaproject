{
 "cells": [
  {
   "cell_type": "code",
   "execution_count": 7,
   "metadata": {
    "execution": {
     "iopub.execute_input": "2021-06-02T08:13:14.717385Z",
     "iopub.status.busy": "2021-06-02T08:13:14.717156Z",
     "iopub.status.idle": "2021-06-02T08:13:15.127116Z",
     "shell.execute_reply": "2021-06-02T08:13:15.126338Z",
     "shell.execute_reply.started": "2021-06-02T08:13:14.717359Z"
    },
    "tags": []
   },
   "outputs": [],
   "source": [
    "# Remove features\n",
    "import os\n",
    "paths = [p.path for p in os.scandir('data')]\n",
    "for path in paths:\n",
    "  for file in os.scandir(path + '/features'):\n",
    "    if file.name.startswith('jc_'):\n",
    "      os.remove(file.path)"
   ]
  },
  {
   "cell_type": "code",
   "execution_count": 12,
   "metadata": {
    "execution": {
     "iopub.execute_input": "2021-06-02T08:19:46.451707Z",
     "iopub.status.busy": "2021-06-02T08:19:46.451462Z",
     "iopub.status.idle": "2021-06-02T08:19:47.960613Z",
     "shell.execute_reply": "2021-06-02T08:19:47.960152Z",
     "shell.execute_reply.started": "2021-06-02T08:19:46.451674Z"
    },
    "tags": []
   },
   "outputs": [
    {
     "name": "stdout",
     "output_type": "stream",
     "text": [
      "/data/bruingjde/on-going/SNAM2021-code\n"
     ]
    },
    {
     "data": {
      "text/html": [
       "<pre style=\"white-space:pre;overflow-x:auto;line-height:normal;font-family:Menlo,'DejaVu Sans Mono',consolas,'Courier New',monospace\"><span style=\"color: #7fbfbf; text-decoration-color: #7fbfbf\">[06/02/21 10:19:46] </span><span style=\"color: #008000; text-decoration-color: #008000\">DEBUG   </span> Get edgelist                                 <a href=\"file:///data/bruingjde/on-going/SNAM2021-code/src/get_features.py\"><span style=\"color: #7f7f7f; text-decoration-color: #7f7f7f\">get_features.py</span></a><span style=\"color: #7f7f7f; text-decoration-color: #7f7f7f\">:194</span>\n",
       "</pre>\n"
      ],
      "text/plain": [
       "\u001b[2;36m[06/02/21 10:19:46]\u001b[0m\u001b[2;36m \u001b[0m\u001b[32mDEBUG   \u001b[0m Get edgelist                                 \u001b]8;id=1622621986.9249506-320004;file:///data/bruingjde/on-going/SNAM2021-code/src/get_features.py\u001b\\\u001b[2mget_features.py\u001b[0m\u001b]8;;\u001b\\\u001b[2m:194\u001b[0m\n"
      ]
     },
     "metadata": {},
     "output_type": "display_data"
    },
    {
     "data": {
      "text/html": [
       "<pre style=\"white-space:pre;overflow-x:auto;line-height:normal;font-family:Menlo,'DejaVu Sans Mono',consolas,'Courier New',monospace\"><span style=\"color: #7fbfbf; text-decoration-color: #7fbfbf\">                    </span><span style=\"color: #008000; text-decoration-color: #008000\">DEBUG   </span> Get instances                                <a href=\"file:///data/bruingjde/on-going/SNAM2021-code/src/get_features.py\"><span style=\"color: #7f7f7f; text-decoration-color: #7f7f7f\">get_features.py</span></a><span style=\"color: #7f7f7f; text-decoration-color: #7f7f7f\">:199</span>\n",
       "</pre>\n"
      ],
      "text/plain": [
       "\u001b[2;36m                   \u001b[0m\u001b[2;36m \u001b[0m\u001b[32mDEBUG   \u001b[0m Get instances                                \u001b]8;id=1622621986.9316938-74150;file:///data/bruingjde/on-going/SNAM2021-code/src/get_features.py\u001b\\\u001b[2mget_features.py\u001b[0m\u001b]8;;\u001b\\\u001b[2m:199\u001b[0m\n"
      ]
     },
     "metadata": {},
     "output_type": "display_data"
    },
    {
     "data": {
      "text/html": [
       "<pre style=\"white-space:pre;overflow-x:auto;line-height:normal;font-family:Menlo,'DejaVu Sans Mono',consolas,'Courier New',monospace\"><span style=\"color: #7fbfbf; text-decoration-color: #7fbfbf\">                    </span><span style=\"color: #008000; text-decoration-color: #008000\">DEBUG   </span> Get scores                                   <a href=\"file:///data/bruingjde/on-going/SNAM2021-code/src/get_features.py\"><span style=\"color: #7f7f7f; text-decoration-color: #7f7f7f\">get_features.py</span></a><span style=\"color: #7f7f7f; text-decoration-color: #7f7f7f\">:204</span>\n",
       "</pre>\n"
      ],
      "text/plain": [
       "\u001b[2;36m                   \u001b[0m\u001b[2;36m \u001b[0m\u001b[32mDEBUG   \u001b[0m Get scores                                   \u001b]8;id=1622621986.9729326-254426;file:///data/bruingjde/on-going/SNAM2021-code/src/get_features.py\u001b\\\u001b[2mget_features.py\u001b[0m\u001b]8;;\u001b\\\u001b[2m:204\u001b[0m\n"
      ]
     },
     "metadata": {},
     "output_type": "display_data"
    },
    {
     "data": {
      "text/html": [
       "<pre style=\"white-space:pre;overflow-x:auto;line-height:normal;font-family:Menlo,'DejaVu Sans Mono',consolas,'Courier New',monospace\"><span style=\"color: #7fbfbf; text-decoration-color: #7fbfbf\">[06/02/21 10:19:47] </span><span style=\"color: #008000; text-decoration-color: #008000\">DEBUG   </span> Save                                         <a href=\"file:///data/bruingjde/on-going/SNAM2021-code/src/get_features.py\"><span style=\"color: #7f7f7f; text-decoration-color: #7f7f7f\">get_features.py</span></a><span style=\"color: #7f7f7f; text-decoration-color: #7f7f7f\">:206</span>\n",
       "</pre>\n"
      ],
      "text/plain": [
       "\u001b[2;36m[06/02/21 10:19:47]\u001b[0m\u001b[2;36m \u001b[0m\u001b[32mDEBUG   \u001b[0m Save                                         \u001b]8;id=1622621987.9567153-106874;file:///data/bruingjde/on-going/SNAM2021-code/src/get_features.py\u001b\\\u001b[2mget_features.py\u001b[0m\u001b]8;;\u001b\\\u001b[2m:206\u001b[0m\n"
      ]
     },
     "metadata": {},
     "output_type": "display_data"
    }
   ],
   "source": [
    "# Run only one feature\n",
    "%cd /data/bruingjde/on-going/SNAM2021-code/\n",
    "import src.get_features\n",
    "import numpy as np\n",
    "\n",
    "time_str = 'lin'\n",
    "agg_str = 'q0'\n",
    "time_func = src.get_features.lin\n",
    "agg_func = np.min\n",
    "\n",
    "src.get_features.do_feature(\n",
    "  feature_func=src.get_features.jc_time_aware, \n",
    "  path='data/18/', \n",
    "  out_file=f'jc_{time_str}_{agg_str}.npy',\n",
    "  time_strategy=time_func,\n",
    "  aggregation_strategy=agg_func\n",
    ")"
   ]
  },
  {
   "cell_type": "code",
   "execution_count": 12,
   "metadata": {
    "collapsed": true,
    "execution": {
     "iopub.execute_input": "2021-06-02T08:49:56.341688Z",
     "iopub.status.busy": "2021-06-02T08:49:56.341442Z",
     "iopub.status.idle": "2021-06-02T08:49:57.388933Z",
     "shell.execute_reply": "2021-06-02T08:49:57.388266Z",
     "shell.execute_reply.started": "2021-06-02T08:49:56.341668Z"
    },
    "jupyter": {
     "outputs_hidden": true
    },
    "tags": []
   },
   "outputs": [
    {
     "data": {
      "application/vnd.jupyter.widget-view+json": {
       "model_id": "",
       "version_major": 2,
       "version_minor": 0
      },
      "text/plain": [
       "  0%|          | 0/30 [00:00<?, ?it/s]"
      ]
     },
     "metadata": {},
     "output_type": "display_data"
    },
    {
     "data": {
      "text/plain": [
       "[None,\n",
       " None,\n",
       " None,\n",
       " None,\n",
       " None,\n",
       " None,\n",
       " None,\n",
       " None,\n",
       " None,\n",
       " None,\n",
       " None,\n",
       " None,\n",
       " None,\n",
       " None,\n",
       " None,\n",
       " None,\n",
       " None,\n",
       " None,\n",
       " None,\n",
       " None,\n",
       " None,\n",
       " None,\n",
       " None,\n",
       " None,\n",
       " None,\n",
       " None,\n",
       " None,\n",
       " None,\n",
       " None,\n",
       " None]"
      ]
     },
     "execution_count": 12,
     "metadata": {},
     "output_type": "execute_result"
    }
   ],
   "source": [
    "# Check all features\n",
    "import os\n",
    "from tqdm.auto import tqdm\n",
    "import numpy as np\n",
    "import pandas as pd\n",
    "import joblib\n",
    "\n",
    "paths = [p.path for p in os.scandir('data')]  \n",
    " \n",
    "class ProgressParallel(joblib.Parallel):\n",
    "  def __init__(self, use_tqdm=True, total=None, desc=None, unit='it', *args, \n",
    "               **kwargs):\n",
    "    self._use_tqdm = use_tqdm\n",
    "    self._total = total\n",
    "    self._desc = desc\n",
    "    self._unit = unit\n",
    "    super().__init__(*args, **kwargs)\n",
    "\n",
    "  def __call__(self, *args, **kwargs):\n",
    "    with tqdm(disable=not self._use_tqdm, total=self._total, \n",
    "              desc=self._desc, unit=self._unit, leave=False, \n",
    "              miniters=1) as self._pbar:\n",
    "      return joblib.Parallel.__call__(self, *args, **kwargs)\n",
    "\n",
    "  def print_progress(self):\n",
    "    if self._total is None: \n",
    "      self._pbar.total = self.n_dispatched_tasks\n",
    "    self._pbar.n = self.n_completed_tasks\n",
    "    self._pbar.refresh()   \n",
    "    \n",
    "def check(path):\n",
    "  instances = np.array(\n",
    "    [i for i in pd.read_pickle(os.path.join(path, 'samples.pkl')).index]\n",
    "  )  \n",
    "  files = [p.path for p in os.scandir(path + '/features')]\n",
    "  for file in files:\n",
    "    scores = np.load(file)\n",
    "    assert len(instances) == len(scores)\n",
    "    assert scores.ndim == 1 \n",
    "    \n",
    "ProgressParallel(total=30, n_jobs=30)(joblib.delayed(check)(path) \n",
    "                                      for path in paths)"
   ]
  },
  {
   "cell_type": "code",
   "execution_count": null,
   "metadata": {},
   "outputs": [],
   "source": []
  }
 ],
 "metadata": {
  "kernelspec": {
   "display_name": "Python 3",
   "language": "python",
   "name": "python3"
  },
  "language_info": {
   "codemirror_mode": {
    "name": "ipython",
    "version": 3
   },
   "file_extension": ".py",
   "mimetype": "text/x-python",
   "name": "python",
   "nbconvert_exporter": "python",
   "pygments_lexer": "ipython3",
   "version": "3.9.4"
  }
 },
 "nbformat": 4,
 "nbformat_minor": 4
}
