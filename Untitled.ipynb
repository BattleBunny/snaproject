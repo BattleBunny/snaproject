{
 "cells": [
  {
   "cell_type": "code",
   "execution_count": 3,
   "id": "89c020e8-9669-443b-b12f-c1f4bb1648f9",
   "metadata": {
    "execution": {
     "iopub.execute_input": "2021-06-21T13:01:19.842927Z",
     "iopub.status.busy": "2021-06-21T13:01:19.842373Z",
     "iopub.status.idle": "2021-06-21T13:01:21.215858Z",
     "shell.execute_reply": "2021-06-21T13:01:21.214890Z",
     "shell.execute_reply.started": "2021-06-21T13:01:19.842890Z"
    },
    "tags": []
   },
   "outputs": [],
   "source": [
    "import pandas as pd\n",
    "import networkx as nx"
   ]
  },
  {
   "cell_type": "code",
   "execution_count": 16,
   "id": "68000d5a-d66c-46d1-80a5-09bf102ba923",
   "metadata": {
    "execution": {
     "iopub.execute_input": "2021-06-21T13:04:01.041443Z",
     "iopub.status.busy": "2021-06-21T13:04:01.041008Z",
     "iopub.status.idle": "2021-06-21T13:04:01.046843Z",
     "shell.execute_reply": "2021-06-21T13:04:01.045709Z",
     "shell.execute_reply.started": "2021-06-21T13:04:01.041394Z"
    }
   },
   "outputs": [],
   "source": [
    "def giant_component(G):\n",
    "  return G.subgraph(max(nx.connected_components(G), key=len))"
   ]
  },
  {
   "cell_type": "code",
   "execution_count": 24,
   "id": "1c73cc1d-66d8-4c81-8138-1d7d5719dc63",
   "metadata": {
    "execution": {
     "iopub.execute_input": "2021-06-21T13:08:27.154246Z",
     "iopub.status.busy": "2021-06-21T13:08:27.153827Z",
     "iopub.status.idle": "2021-06-21T13:08:35.699619Z",
     "shell.execute_reply": "2021-06-21T13:08:35.698784Z",
     "shell.execute_reply.started": "2021-06-21T13:08:27.154198Z"
    },
    "tags": []
   },
   "outputs": [
    {
     "data": {
      "text/plain": [
       "0.1536324997906941"
      ]
     },
     "execution_count": 24,
     "metadata": {},
     "output_type": "execute_result"
    }
   ],
   "source": [
    "nx.degree_assortativity_coefficient(\n",
    "  nx.from_pandas_edgelist(\n",
    "    pd.read_pickle('data/12/+000/edgelist.pkl').query(\"(phase == 'mature') and (source != target)\"),\n",
    "    create_using=nx.MultiGraph\n",
    "  )\n",
    ")"
   ]
  },
  {
   "cell_type": "code",
   "execution_count": 25,
   "id": "ede213a0-ce84-41f6-8703-05f047868cb1",
   "metadata": {
    "execution": {
     "iopub.execute_input": "2021-06-21T13:08:52.000032Z",
     "iopub.status.busy": "2021-06-21T13:08:51.999580Z",
     "iopub.status.idle": "2021-06-21T13:08:52.107537Z",
     "shell.execute_reply": "2021-06-21T13:08:52.106761Z",
     "shell.execute_reply.started": "2021-06-21T13:08:51.999975Z"
    }
   },
   "outputs": [
    {
     "data": {
      "text/plain": [
       "-0.304503414261785"
      ]
     },
     "execution_count": 25,
     "metadata": {},
     "output_type": "execute_result"
    }
   ],
   "source": [
    "nx.degree_assortativity_coefficient(\n",
    "  nx.from_pandas_edgelist(\n",
    "    pd.read_pickle('data/12/+000/edgelist.pkl').query(\"(phase == 'mature') and (source != target)\"),\n",
    "    create_using=nx.Graph\n",
    "  )\n",
    ")"
   ]
  },
  {
   "cell_type": "code",
   "execution_count": null,
   "id": "0c7519e3-972d-4037-8f5d-2f53608bd9af",
   "metadata": {},
   "outputs": [],
   "source": []
  }
 ],
 "metadata": {
  "kernelspec": {
   "display_name": "Python 3",
   "language": "python",
   "name": "python3"
  },
  "language_info": {
   "codemirror_mode": {
    "name": "ipython",
    "version": 3
   },
   "file_extension": ".py",
   "mimetype": "text/x-python",
   "name": "python",
   "nbconvert_exporter": "python",
   "pygments_lexer": "ipython3",
   "version": "3.9.4"
  }
 },
 "nbformat": 4,
 "nbformat_minor": 5
}
